{
 "cells": [
  {
   "cell_type": "markdown",
   "metadata": {},
   "source": [
    "# First let's import, then look for the assignment below"
   ]
  },
  {
   "cell_type": "code",
   "execution_count": null,
   "metadata": {},
   "outputs": [],
   "source": [
    "#~~~~~~~~~~~~~~~~~~~~~~~~~~~~~~~~~~~~~~~~~~~~~~~~~~~~~~~\n",
    "import sys\n",
    "\n",
    "# -- Detect if in Own Install or in Colab\n",
    "try:\n",
    "    import google.colab\n",
    "    OWN_INSTALL = False\n",
    "except:\n",
    "    OWN_INSTALL = True\n",
    "    \n",
    "if OWN_INSTALL:\n",
    "    \n",
    "  #---- Leave these definitions ON if running on laptop\n",
    "  #---- Else turn OFF by putting them between ''' ... '''\n",
    "\n",
    "  sys.path[0:0] = ['../../../../..',  '../../../../../3rdparty',  \n",
    "                   '../../../..',  '../../../../3rdparty',  \n",
    "                   '../../..',     '../../../3rdparty', \n",
    "                   '../..',        '../../3rdparty',\n",
    "                   '..',           '../3rdparty' ]\n",
    "\n",
    "else: # In colab\n",
    "  ! if [ ! -d Jove ]; then git clone https://github.com/ganeshutah/Jove Jove; fi\n",
    "  sys.path.append('./Jove')\n",
    "  sys.path.append('./Jove/jove')\n",
    "\n",
    "# -- common imports --\n",
    "from jove.LangDef   import *\n",
    "#~~~~~~~~~~~~~~~~~~~~~~~~~~~~~~~~~~~~~~~~~~~~~~~~~~~~~~~"
   ]
  },
  {
   "cell_type": "markdown",
   "metadata": {},
   "source": [
    "# Assignment-1 Problem on Complement of a Language\n",
    "\n",
    "## Graded by Xinyi Li\n",
    "\n",
    "### BEFORE YOU SUBMIT THIS FILE, PLEASE RENAME THIS FILE BY REPLACING THE 0000000 IN THE FILE NAME WITH YOUR CORRECT UNID. KEEP THE \"u\" AT THE BEGINNING.\n",
    "\n",
    "\n",
    " <font size=\"4\"> \n",
    "\n",
    "This problem is based on Problem 7, Page 26 of our textbook.\n",
    "    \n",
    "A language called $L_6$ is defined as follows:\n",
    "    \n",
    "$$ L_6 = \\{ 0^i 1^j \\;:\\; i==j \\}$$  \n",
    "    \n",
    "The problem challenges you to consider a language $L_8$ \n",
    "    \n",
    "$$ L_8 = \\{ 0^i 1^j \\;:\\; i \\neq j \\}$$\n",
    "\n",
    "The problem asks you whether $L_8$ is the complement of $L_6$\n",
    "\n",
    "\n",
    "For this assignment, follow the simplified wording below.\n",
    "    \n",
    "Tasks for you:\n",
    "    \n",
    "1. Define $L_6$ in Jove for $\\Sigma=\\{0,1\\}$ and the universe being $\\Sigma^{*3}$. **This is done for you to help you define $L_8$ asked next.\n",
    "    \n",
    "</font>"
   ]
  },
  {
   "cell_type": "code",
   "execution_count": null,
   "metadata": {},
   "outputs": [],
   "source": [
    "L6 = { \"0\"*i + \"1\"*j for i in range(4) for j in range(4)}\n",
    "L6"
   ]
  },
  {
   "cell_type": "markdown",
   "metadata": {},
   "source": [
    "<font size=\"4\"> \n",
    "2. In the same manner, define $L_8$ below.\n",
    "</font>"
   ]
  },
  {
   "cell_type": "code",
   "execution_count": null,
   "metadata": {},
   "outputs": [],
   "source": [
    "L8 = \"Your Definition Here\""
   ]
  },
  {
   "cell_type": "markdown",
   "metadata": {},
   "source": [
    "<font size=\"4\"> \n",
    "3. We know that if indeed $L_8$ is $L_6$'s complement, then $L_6 \\cup L_8$ must equal $\\Sigma^{*3}$. Write Python-3 code that calls the suitable set of Jove functions to check whether this is true. The list of Jove functions you can call were printed in the \"help(fnname)\" lines when you loaded this file.\n",
    "</font>"
   ]
  },
  {
   "cell_type": "markdown",
   "metadata": {},
   "source": [
    "\"YOUR CODE TO CHECK WHETHER THE ABOVE IDENTITY HOLDS.\""
   ]
  },
  {
   "cell_type": "markdown",
   "metadata": {},
   "source": [
    "<font size=\"4\">\n",
    "\n",
    "4. If the above identity is not true, we are interested in finding out which strings are missed. (This is similar to what Question 7(d) of Page 26 is asking you.) Compute the strings missed and print them out. A template for your answers is given below. Fill that template in your solution.\n",
    "    \n",
    "</font>    "
   ]
  },
  {
   "cell_type": "code",
   "execution_count": null,
   "metadata": {},
   "outputs": [],
   "source": [
    "\"YOUR PYTHON-3 CODE CALLING JOVE FUNCTIONS HERE. USE MULTIPLE LINES.\"\n",
    "\n",
    "print(\"The strings missed are: \", \"PLACE THE EXPRESSION FOR THE STRINGS MISSED HERE.\")"
   ]
  },
  {
   "cell_type": "markdown",
   "metadata": {},
   "source": [
    "<font size=\"4\">\n",
    "\n",
    "5. Below, write a fully mathematical expression that defines a language which captures **ALL** those strings missed. Use the Jupyter markdown syntax. Your clue will come from the strings missed. You have to fold all those examples into a single language expression that is fully general -- that is, it **works in general for the fully general $L_6$ defined on Page 25 of the book. That is, the $i$ and $j$ are **ANY INTEGERS** -- not just integers in range(4).\n",
    "    \n",
    "</font> "
   ]
  },
  {
   "cell_type": "markdown",
   "metadata": {},
   "source": [
    "## Your fully general definition of the expression here. \n",
    "\n",
    "\n",
    "### Hint: You will have to think of a general pattern such as ...1...0... that is being missed. \n",
    "\n",
    "### Here, the \"...\" are arbitrary strings.\n",
    "\n",
    "### Form a language keeping this idea in mind."
   ]
  },
  {
   "cell_type": "markdown",
   "metadata": {},
   "source": [
    "---------------------"
   ]
  },
  {
   "cell_type": "code",
   "execution_count": null,
   "metadata": {},
   "outputs": [],
   "source": []
  },
  {
   "cell_type": "markdown",
   "metadata": {},
   "source": [
    "# END OF Assignment-1 Problem on Complement of a Language."
   ]
  },
  {
   "cell_type": "code",
   "execution_count": null,
   "metadata": {},
   "outputs": [],
   "source": [
    "from jove.LangDef import *"
   ]
  },
  {
   "cell_type": "markdown",
   "metadata": {},
   "source": [
    "# All strings in numeric order upto the 30th such entry"
   ]
  },
  {
   "cell_type": "code",
   "execution_count": null,
   "metadata": {},
   "outputs": [],
   "source": [
    "len([nthnumeric(i, ['0','1']) for i in range(31)])"
   ]
  },
  {
   "cell_type": "code",
   "execution_count": null,
   "metadata": {},
   "outputs": [],
   "source": [
    "help(lstar)"
   ]
  },
  {
   "cell_type": "markdown",
   "metadata": {},
   "source": [
    "# Illustration of how to solve Problem_1\n",
    "\n",
    "We will work out this problem part of the way and leave you a hole to fill, below, marked ** FILL BELOW **"
   ]
  },
  {
   "cell_type": "markdown",
   "metadata": {},
   "source": [
    "In this space, calculate how many strings there will be in $\\{0,1\\}^{*n}$ for various $n$.\n",
    "\n",
    "* We have\n",
    "\n",
    "  - $\\{0,1\\}^{*n} = \\{0,1\\}^{0} \\cup \\{0,1\\}^{1} \\cup \\ldots \\cup \\{0,1\\}^{n} $\n",
    "  \n",
    "* Example: \n",
    "\n",
    "  - $\\{0,1\\}^{*2} = \\{0,1\\}^{0} \\cup \\{0,1\\}^{1} \\cup \\{0,1\\}^{2}   $"
   ]
  },
  {
   "cell_type": "code",
   "execution_count": null,
   "metadata": {},
   "outputs": [],
   "source": [
    "# Let us check it in Python; first define Sigma\n",
    "\n",
    "Sigma = {'0','1'}"
   ]
  },
  {
   "cell_type": "code",
   "execution_count": null,
   "metadata": {},
   "outputs": [],
   "source": [
    "# Now define Star3 -- star up to 2 -- directly\n",
    "\n",
    "Star2 = lstar(Sigma, 2)\n",
    "print(Star2)"
   ]
  },
  {
   "cell_type": "code",
   "execution_count": null,
   "metadata": {},
   "outputs": [],
   "source": [
    "Star2ViaUnion = lunion(lunion(lexp(Sigma,0), lexp(Sigma,1)), lexp(Sigma,2))\n",
    "print(Star2ViaUnion)"
   ]
  },
  {
   "cell_type": "code",
   "execution_count": null,
   "metadata": {},
   "outputs": [],
   "source": [
    "# CHECK\n",
    "\n",
    "Star2 == Star2ViaUnion"
   ]
  },
  {
   "cell_type": "markdown",
   "metadata": {},
   "source": [
    "# The actual Problem_1"
   ]
  },
  {
   "cell_type": "markdown",
   "metadata": {},
   "source": [
    "# ** FILL BELOW **\n",
    "\n",
    "Similar to the code above, please obtain a definition for Star4 and Star4ViaUnion. Show that the CHECK passes."
   ]
  },
  {
   "cell_type": "markdown",
   "metadata": {},
   "source": [
    "------------------------"
   ]
  },
  {
   "cell_type": "markdown",
   "metadata": {},
   "source": [
    "# Problem_2"
   ]
  },
  {
   "cell_type": "markdown",
   "metadata": {},
   "source": [
    "It is known that $L^m L^n = L^{m+n}$. Demonstrate this for $m=2$ and $n=2$."
   ]
  },
  {
   "cell_type": "markdown",
   "metadata": {},
   "source": [
    "# ** FILL BELOW **"
   ]
  },
  {
   "cell_type": "code",
   "execution_count": null,
   "metadata": {},
   "outputs": [],
   "source": [
    "# Please express the above identity in the manner illustrated below. After you fill the requested\n",
    "# Jove code, the \"==\" must evaluate to True\n",
    "\n",
    "# ...Jove code expressing L^m concatenated with L^n  == Jove code expressing L^{m+n}..."
   ]
  },
  {
   "cell_type": "markdown",
   "metadata": {},
   "source": [
    "--------------"
   ]
  },
  {
   "cell_type": "markdown",
   "metadata": {},
   "source": [
    "# Problem_3\n",
    "\n",
    "Consider Question 7 of Page 26 of the book. First solve the problem analytically and type your\n",
    "solution neatly using Jupyter markdown syntax below."
   ]
  },
  {
   "cell_type": "markdown",
   "metadata": {},
   "source": [
    "# ** FILL BELOW **\n",
    "\n",
    "Fill the analytical solution below neatly in Markdown Syntax."
   ]
  },
  {
   "cell_type": "markdown",
   "metadata": {},
   "source": [
    "## Next, do Problem_3 using Jove.\n",
    "\n",
    "* Define L8 in Jove\n",
    "\n",
    "* Define Lmissing in Jove\n",
    "\n",
    "* Express L6bar == lunion( L8, Lmissing )\n",
    "\n",
    "* This assertion must pass\n",
    "\n",
    "* Do this for Sigma = {0,1}\n",
    "\n",
    "* Operate in the universe lexp(Sigma,3) -- that is, do not consider any string beyond a length of 3."
   ]
  },
  {
   "cell_type": "code",
   "execution_count": null,
   "metadata": {},
   "outputs": [],
   "source": [
    "True | False"
   ]
  },
  {
   "cell_type": "code",
   "execution_count": null,
   "metadata": {},
   "outputs": [],
   "source": [
    "Sigma = {'0','1'}\n",
    "SigmaUEps = Sigma | lunit()\n",
    "Lmissing = {\n",
    "P + \"1\" + R + \"0\" + T for i in range(3) \\\n",
    "  for j in range(3) for k in range(3) \\\n",
    "  for P in SigmaUEps for R in SigmaUEps for T in SigmaUEps \\\n",
    "  if ((P=='')&(R=='') | (P=='')&(T=='') | (R=='')|(T=='')) }"
   ]
  },
  {
   "cell_type": "code",
   "execution_count": null,
   "metadata": {},
   "outputs": [],
   "source": [
    "Lmissing"
   ]
  },
  {
   "cell_type": "code",
   "execution_count": null,
   "metadata": {},
   "outputs": [],
   "source": [
    "L8 = { \"0\"*i + \"1\"*j for i in range(3) for j in range(3)  if i != j}"
   ]
  },
  {
   "cell_type": "code",
   "execution_count": null,
   "metadata": {},
   "outputs": [],
   "source": [
    "L8"
   ]
  },
  {
   "cell_type": "code",
   "execution_count": null,
   "metadata": {},
   "outputs": [],
   "source": [
    "L8plusLmissing = lunion(L8,Lmissing)"
   ]
  },
  {
   "cell_type": "code",
   "execution_count": null,
   "metadata": {},
   "outputs": [],
   "source": [
    "Leq = { \"0\"*i + \"1\"*j for i in range(3) for j in range(3)  if i == j}"
   ]
  },
  {
   "cell_type": "code",
   "execution_count": null,
   "metadata": {},
   "outputs": [],
   "source": [
    "Leq"
   ]
  },
  {
   "cell_type": "code",
   "execution_count": null,
   "metadata": {},
   "outputs": [],
   "source": [
    "L8ULeq = L8 | Leq"
   ]
  },
  {
   "cell_type": "code",
   "execution_count": null,
   "metadata": {},
   "outputs": [],
   "source": [
    "L8ULeq"
   ]
  },
  {
   "cell_type": "code",
   "execution_count": null,
   "metadata": {},
   "outputs": [],
   "source": [
    "LStar3 = lstar(Sigma,3)"
   ]
  },
  {
   "cell_type": "code",
   "execution_count": null,
   "metadata": {},
   "outputs": [],
   "source": [
    "lminus(LStar3,L8ULeq)"
   ]
  },
  {
   "cell_type": "code",
   "execution_count": null,
   "metadata": {},
   "outputs": [],
   "source": [
    "help(lcomplem)"
   ]
  },
  {
   "cell_type": "code",
   "execution_count": null,
   "metadata": {},
   "outputs": [],
   "source": [
    "LeqComp = lcomplem(Leq, Sigma, 3)"
   ]
  },
  {
   "cell_type": "code",
   "execution_count": null,
   "metadata": {},
   "outputs": [],
   "source": [
    "LeqComp"
   ]
  },
  {
   "cell_type": "code",
   "execution_count": null,
   "metadata": {},
   "outputs": [],
   "source": [
    "LeqComp - L8"
   ]
  },
  {
   "cell_type": "code",
   "execution_count": null,
   "metadata": {},
   "outputs": [],
   "source": [
    "Sigma={'0','1','2','3'}"
   ]
  },
  {
   "cell_type": "code",
   "execution_count": null,
   "metadata": {},
   "outputs": [],
   "source": [
    "SStar = lstar(Sigma,3)"
   ]
  },
  {
   "cell_type": "code",
   "execution_count": null,
   "metadata": {},
   "outputs": [],
   "source": [
    "cvt_down = lambda x: '0' if x=='2' else ('1' if x=='3' else x)"
   ]
  },
  {
   "cell_type": "code",
   "execution_count": null,
   "metadata": {},
   "outputs": [],
   "source": [
    "cvt_up = lambda x: '2' if x=='0' else ('3' if x=='1' else x)"
   ]
  },
  {
   "cell_type": "code",
   "execution_count": null,
   "metadata": {},
   "outputs": [],
   "source": [
    "#SStar01 = lhomo(SStar, cvt_down)\n",
    "SStar01 = lstar({'0','1'},3)"
   ]
  },
  {
   "cell_type": "code",
   "execution_count": null,
   "metadata": {},
   "outputs": [],
   "source": [
    "SStar01"
   ]
  },
  {
   "cell_type": "code",
   "execution_count": null,
   "metadata": {},
   "outputs": [],
   "source": [
    "#SStar23 = lhomo(SStar, cvt_up)\n",
    "SStar23 = lstar({'2','3'},3)"
   ]
  },
  {
   "cell_type": "code",
   "execution_count": null,
   "metadata": {},
   "outputs": [],
   "source": [
    "SStar23"
   ]
  },
  {
   "cell_type": "code",
   "execution_count": null,
   "metadata": {},
   "outputs": [],
   "source": [
    "help(lcomplem)"
   ]
  },
  {
   "cell_type": "code",
   "execution_count": null,
   "metadata": {},
   "outputs": [],
   "source": [
    "L1=lcomplem(SStar01, Sigma, 3)"
   ]
  },
  {
   "cell_type": "code",
   "execution_count": null,
   "metadata": {},
   "outputs": [],
   "source": []
  },
  {
   "cell_type": "code",
   "execution_count": null,
   "metadata": {},
   "outputs": [],
   "source": [
    "L2=lcomplem(SStar23, Sigma, 3)"
   ]
  },
  {
   "cell_type": "code",
   "execution_count": null,
   "metadata": {},
   "outputs": [],
   "source": [
    "L1or2 = lunion(L1,L2)"
   ]
  },
  {
   "cell_type": "code",
   "execution_count": null,
   "metadata": {},
   "outputs": [],
   "source": [
    "CL1or2 = lcomplem(L1or2, Sigma, 3)"
   ]
  },
  {
   "cell_type": "code",
   "execution_count": null,
   "metadata": {},
   "outputs": [],
   "source": [
    "L1andL2 = lint(SStar01, SStar23)"
   ]
  },
  {
   "cell_type": "code",
   "execution_count": null,
   "metadata": {},
   "outputs": [],
   "source": [
    "L1andL2"
   ]
  },
  {
   "cell_type": "code",
   "execution_count": null,
   "metadata": {},
   "outputs": [],
   "source": [
    "L1or2"
   ]
  },
  {
   "cell_type": "code",
   "execution_count": null,
   "metadata": {},
   "outputs": [],
   "source": [
    "lcomplem(L1or2, Sigma, 3)"
   ]
  },
  {
   "cell_type": "code",
   "execution_count": null,
   "metadata": {},
   "outputs": [],
   "source": [
    "SStar01SStar23 = lcat(SStar01,SStar23)"
   ]
  },
  {
   "cell_type": "code",
   "execution_count": null,
   "metadata": {},
   "outputs": [],
   "source": [
    "len(SStar01SStar23)"
   ]
  },
  {
   "cell_type": "code",
   "execution_count": null,
   "metadata": {},
   "outputs": [],
   "source": [
    "SStar01_SStar23 = { (x,y) for x in SStar01 for y in SStar23}"
   ]
  },
  {
   "cell_type": "code",
   "execution_count": null,
   "metadata": {},
   "outputs": [],
   "source": [
    "len(SStar01_SStar23)"
   ]
  },
  {
   "cell_type": "code",
   "execution_count": null,
   "metadata": {},
   "outputs": [],
   "source": [
    "SStarSStar = lcat(SStar,SStar)"
   ]
  },
  {
   "cell_type": "code",
   "execution_count": null,
   "metadata": {},
   "outputs": [],
   "source": [
    "len(SStarSStar)"
   ]
  },
  {
   "cell_type": "code",
   "execution_count": null,
   "metadata": {},
   "outputs": [],
   "source": [
    "SStar_SStar = { (x,y) for x in SStar for y in SStar }"
   ]
  },
  {
   "cell_type": "code",
   "execution_count": null,
   "metadata": {},
   "outputs": [],
   "source": [
    "len(SStar_SStar)"
   ]
  },
  {
   "cell_type": "code",
   "execution_count": null,
   "metadata": {},
   "outputs": [],
   "source": [
    "lissubset(SStarSStar, lstar(SStar, 3))"
   ]
  },
  {
   "cell_type": "code",
   "execution_count": null,
   "metadata": {},
   "outputs": [],
   "source": [
    "lissubset(SStarSStar, lstar(SStar, 2))"
   ]
  },
  {
   "cell_type": "code",
   "execution_count": null,
   "metadata": {},
   "outputs": [],
   "source": [
    "lissubset(lstar(SStar,2), SStarSStar)"
   ]
  },
  {
   "cell_type": "code",
   "execution_count": null,
   "metadata": {},
   "outputs": [],
   "source": [
    "lissubset(lstar(SStar,3), SStarSStar)"
   ]
  },
  {
   "cell_type": "code",
   "execution_count": null,
   "metadata": {},
   "outputs": [],
   "source": []
  },
  {
   "cell_type": "code",
   "execution_count": null,
   "metadata": {},
   "outputs": [],
   "source": [
    "Zs = lstar({'0'},3)"
   ]
  },
  {
   "cell_type": "code",
   "execution_count": null,
   "metadata": {},
   "outputs": [],
   "source": [
    "Zs"
   ]
  },
  {
   "cell_type": "code",
   "execution_count": null,
   "metadata": {},
   "outputs": [],
   "source": []
  },
  {
   "cell_type": "code",
   "execution_count": null,
   "metadata": {},
   "outputs": [],
   "source": [
    "Os = lstar({'1'},3)"
   ]
  },
  {
   "cell_type": "code",
   "execution_count": null,
   "metadata": {},
   "outputs": [],
   "source": [
    "Os"
   ]
  },
  {
   "cell_type": "code",
   "execution_count": null,
   "metadata": {},
   "outputs": [],
   "source": []
  },
  {
   "cell_type": "code",
   "execution_count": null,
   "metadata": {},
   "outputs": [],
   "source": [
    "ZsOs = lcat(Zs,Os)"
   ]
  },
  {
   "cell_type": "code",
   "execution_count": null,
   "metadata": {},
   "outputs": [],
   "source": [
    "ZsOs"
   ]
  },
  {
   "cell_type": "code",
   "execution_count": null,
   "metadata": {},
   "outputs": [],
   "source": [
    "ZsOsStar = lstar(ZsOs,3)"
   ]
  },
  {
   "cell_type": "code",
   "execution_count": null,
   "metadata": {},
   "outputs": [],
   "source": [
    "{'10'} <= ZsOsStar"
   ]
  },
  {
   "cell_type": "code",
   "execution_count": null,
   "metadata": {},
   "outputs": [],
   "source": []
  },
  {
   "cell_type": "code",
   "execution_count": null,
   "metadata": {},
   "outputs": [],
   "source": [
    "ZorO = {'0','1'}"
   ]
  },
  {
   "cell_type": "code",
   "execution_count": null,
   "metadata": {},
   "outputs": [],
   "source": [
    "ZorOStar = lstar(ZorO, 9)"
   ]
  },
  {
   "cell_type": "code",
   "execution_count": null,
   "metadata": {},
   "outputs": [],
   "source": [
    "ZorOStar"
   ]
  },
  {
   "cell_type": "code",
   "execution_count": null,
   "metadata": {},
   "outputs": [],
   "source": []
  },
  {
   "cell_type": "code",
   "execution_count": null,
   "metadata": {},
   "outputs": [],
   "source": [
    "ZorOStar - ZsOsStar"
   ]
  },
  {
   "cell_type": "code",
   "execution_count": null,
   "metadata": {},
   "outputs": [],
   "source": [
    "ZsOsStar - ZorOStar"
   ]
  },
  {
   "cell_type": "code",
   "execution_count": null,
   "metadata": {},
   "outputs": [],
   "source": [
    "ZorOStar"
   ]
  },
  {
   "cell_type": "code",
   "execution_count": null,
   "metadata": {},
   "outputs": [],
   "source": [
    "ZorO"
   ]
  },
  {
   "cell_type": "code",
   "execution_count": null,
   "metadata": {},
   "outputs": [],
   "source": []
  },
  {
   "cell_type": "code",
   "execution_count": null,
   "metadata": {},
   "outputs": [],
   "source": []
  },
  {
   "cell_type": "code",
   "execution_count": null,
   "metadata": {},
   "outputs": [],
   "source": []
  },
  {
   "cell_type": "code",
   "execution_count": null,
   "metadata": {},
   "outputs": [],
   "source": [
    "help(lsymdiff)"
   ]
  },
  {
   "cell_type": "code",
   "execution_count": null,
   "metadata": {
    "scrolled": true
   },
   "outputs": [],
   "source": [
    "#lsymdiff(St1_3,St2_3)"
   ]
  },
  {
   "cell_type": "code",
   "execution_count": null,
   "metadata": {},
   "outputs": [],
   "source": [
    "lsymdiff(St2_3,St1_3)"
   ]
  },
  {
   "cell_type": "markdown",
   "metadata": {},
   "source": [
    "$L_{if} = \\{ a^i b^j c^k \\;:\\; {\\rm if}\\; (i=2)\\; {\\rm then}\\; (j=k) \\}$"
   ]
  },
  {
   "cell_type": "code",
   "execution_count": 1,
   "metadata": {},
   "outputs": [
    {
     "data": {
      "text/plain": [
       "{'',\n",
       " 'a',\n",
       " 'aa',\n",
       " 'aaa',\n",
       " 'aaab',\n",
       " 'aaabb',\n",
       " 'aaabbb',\n",
       " 'aaabbbc',\n",
       " 'aaabbbcc',\n",
       " 'aaabbbccc',\n",
       " 'aaabbc',\n",
       " 'aaabbcc',\n",
       " 'aaabbccc',\n",
       " 'aaabc',\n",
       " 'aaabcc',\n",
       " 'aaabccc',\n",
       " 'aaac',\n",
       " 'aaacc',\n",
       " 'aaaccc',\n",
       " 'aabbbccc',\n",
       " 'aabbcc',\n",
       " 'aabc',\n",
       " 'ab',\n",
       " 'abb',\n",
       " 'abbb',\n",
       " 'abbbc',\n",
       " 'abbbcc',\n",
       " 'abbbccc',\n",
       " 'abbc',\n",
       " 'abbcc',\n",
       " 'abbccc',\n",
       " 'abc',\n",
       " 'abcc',\n",
       " 'abccc',\n",
       " 'ac',\n",
       " 'acc',\n",
       " 'accc',\n",
       " 'b',\n",
       " 'bb',\n",
       " 'bbb',\n",
       " 'bbbc',\n",
       " 'bbbcc',\n",
       " 'bbbccc',\n",
       " 'bbc',\n",
       " 'bbcc',\n",
       " 'bbccc',\n",
       " 'bc',\n",
       " 'bcc',\n",
       " 'bccc',\n",
       " 'c',\n",
       " 'cc',\n",
       " 'ccc'}"
      ]
     },
     "execution_count": 1,
     "metadata": {},
     "output_type": "execute_result"
    }
   ],
   "source": [
    "{ \"a\"*i + \"b\"*j + \"c\"*k for i in range(4) for j in range(4) for k in range(4) if ((i==2)&(j==k)|(i!=2))}"
   ]
  },
  {
   "cell_type": "code",
   "execution_count": null,
   "metadata": {},
   "outputs": [],
   "source": [
    "nthnumeric"
   ]
  },
  {
   "cell_type": "code",
   "execution_count": null,
   "metadata": {},
   "outputs": [],
   "source": [
    "def lexlt(s,t):\n",
    "    if (s==\"\"):\n",
    "        return True \n",
    "    if (t==\"\"):\n",
    "        return False \n",
    "    if (s[0] < t[0]):\n",
    "        return True\n",
    "    return (s[0] == t[0]) & lexlt(s[1::], t[1::])"
   ]
  },
  {
   "cell_type": "code",
   "execution_count": null,
   "metadata": {},
   "outputs": [],
   "source": []
  },
  {
   "cell_type": "code",
   "execution_count": null,
   "metadata": {},
   "outputs": [],
   "source": [
    "lexlt(\"ab\",\"b\")"
   ]
  },
  {
   "cell_type": "code",
   "execution_count": null,
   "metadata": {},
   "outputs": [],
   "source": [
    "Sigma = {'a','b'}\n",
    "Univ  = lstar(Sigma,4)\n",
    "[ (x,y) for x in Univ for y in Univ if lexlt(x,y) ]"
   ]
  },
  {
   "cell_type": "code",
   "execution_count": null,
   "metadata": {},
   "outputs": [],
   "source": [
    "lexlt('bbba','bbba')"
   ]
  },
  {
   "cell_type": "code",
   "execution_count": null,
   "metadata": {},
   "outputs": [],
   "source": [
    "lexlt('a','a')"
   ]
  },
  {
   "cell_type": "code",
   "execution_count": null,
   "metadata": {},
   "outputs": [],
   "source": [
    "def numlt(s,t):\n",
    "    if len(s) < len(t):\n",
    "        return True\n",
    "    elif len(s) > len(t):\n",
    "        return False\n",
    "    else:\n",
    "        return lexlt(s,t)"
   ]
  },
  {
   "cell_type": "code",
   "execution_count": null,
   "metadata": {},
   "outputs": [],
   "source": [
    "Sigma = {'a','b'}\n",
    "Univ  = lstar(Sigma,4)\n",
    "[ (x,y) for x in Univ for y in Univ if numlt(x,y) ]"
   ]
  },
  {
   "cell_type": "code",
   "execution_count": null,
   "metadata": {},
   "outputs": [],
   "source": []
  }
 ],
 "metadata": {
  "kernelspec": {
   "display_name": "Python 3",
   "language": "python",
   "name": "python3"
  },
  "language_info": {
   "codemirror_mode": {
    "name": "ipython",
    "version": 3
   },
   "file_extension": ".py",
   "mimetype": "text/x-python",
   "name": "python",
   "nbconvert_exporter": "python",
   "pygments_lexer": "ipython3",
   "version": "3.7.3"
  }
 },
 "nbformat": 4,
 "nbformat_minor": 2
}
