{
 "cells": [
  {
   "cell_type": "markdown",
   "metadata": {},
   "source": [
    "# A Video that's likely helpful"
   ]
  },
  {
   "cell_type": "code",
   "execution_count": 1,
   "metadata": {
    "run_control": {
     "frozen": false,
     "read_only": false
    }
   },
   "outputs": [
    {
     "data": {
      "image/jpeg": "[encoded data removed]",
      "text/html": [
       "\n",
       "        <iframe\n",
       "            width=\"400\"\n",
       "            height=\"300\"\n",
       "            src=\"https://www.youtube.com/embed/xjFtLF95uBc\"\n",
       "            frameborder=\"0\"\n",
       "            allowfullscreen\n",
       "        ></iframe>\n",
       "        "
      ],
      "text/plain": [
       "<IPython.lib.display.YouTubeVideo at 0x10dd2aa90>"
      ]
     },
     "execution_count": 1,
     "metadata": {},
     "output_type": "execute_result"
    }
   ],
   "source": [
    "# This is a potentially helpful video from long ago... watch it if you've not, before.\n",
    "from IPython.display import YouTubeVideo\n",
    "YouTubeVideo('xjFtLF95uBc')"
   ]
  },
  {
   "cell_type": "markdown",
   "metadata": {
    "run_control": {
     "frozen": false,
     "read_only": false
    }
   },
   "source": [
    "# Asg-3 imports \n"
   ]
  },
  {
   "cell_type": "code",
   "execution_count": 2,
   "metadata": {
    "run_control": {
     "frozen": false,
     "read_only": false
    },
    "scrolled": true
   },
   "outputs": [
    {
     "name": "stdout",
     "output_type": "stream",
     "text": [
      "You may use any of these help commands:\n",
      "help(ResetStNum)\n",
      "help(NxtStateStr)\n",
      "\n",
      "You may use any of these help commands:\n",
      "help(md2mc)\n",
      ".. and if you want to dig more, then ..\n",
      "help(default_line_attr)\n",
      "help(length_ok_input_items)\n",
      "help(union_line_attr_list_fld)\n",
      "help(extend_rsltdict)\n",
      "help(form_delta)\n",
      "help(get_machine_components)\n",
      "\n",
      "You may use any of these help commands:\n",
      "help(mkp_dfa)\n",
      "help(mk_dfa)\n",
      "help(totalize_dfa)\n",
      "help(addtosigma_delta)\n",
      "help(step_dfa)\n",
      "help(run_dfa)\n",
      "help(accepts_dfa)\n",
      "help(comp_dfa)\n",
      "help(union_dfa)\n",
      "help(intersect_dfa)\n",
      "help(pruneUnreach)\n",
      "help(iso_dfa)\n",
      "help(langeq_dfa)\n",
      "help(same_status)\n",
      "help(h_langeq_dfa)\n",
      "help(fixptDist)\n",
      "help(min_dfa)\n",
      "help(pairFR)\n",
      "help(state_combos)\n",
      "help(sepFinNonFin)\n",
      "help(bash_eql_classes)\n",
      "help(listminus)\n",
      "help(bash_1)\n",
      "help(mk_rep_eqc)\n",
      "help(F_of)\n",
      "help(rep_of_s)\n",
      "help(q0_of)\n",
      "help(Delta_of)\n",
      "help(mk_state_eqc_name)\n",
      "\n",
      "You may use any of these help commands:\n",
      "help(mk_nfa)\n",
      "help(totalize_nfa)\n",
      "help(step_nfa)\n",
      "help(run_nfa)\n",
      "help(ec_step_nfa)\n",
      "help(Eclosure)\n",
      "help(Echelp)\n",
      "help(accepts_nfa)\n",
      "help(nfa2dfa)\n",
      "help(n2d)\n",
      "help(inSets)\n",
      "help(rev_dfa)\n",
      "help(min_dfa_brz)\n",
      "\n"
     ]
    }
   ],
   "source": [
    "#~~~~~~~~~~~~~~~~~~~~~~~~~~~~~~~~~~~~~~~~~~~~~~~~~~~~~~~\n",
    "import sys\n",
    "\n",
    "# -- Detect if in Own Install or in Colab\n",
    "try:\n",
    "    import google.colab\n",
    "    OWN_INSTALL = False\n",
    "except:\n",
    "    OWN_INSTALL = True\n",
    "    \n",
    "if OWN_INSTALL:\n",
    "    \n",
    "  #---- Leave these definitions ON if running on laptop\n",
    "  #---- Else turn OFF by putting them between ''' ... '''\n",
    "\n",
    "  sys.path[0:0] = ['../../../../..',  '../../../../../3rdparty',  \n",
    "                   '../../../..',  '../../../../3rdparty',  \n",
    "                   '../../..',     '../../../3rdparty', \n",
    "                   '../..',        '../../3rdparty',\n",
    "                   '..',           '../3rdparty' ]\n",
    "\n",
    "else: # In colab\n",
    "  ! if [ ! -d Jove ]; then git clone https://github.com/ganeshutah/Jove Jove; fi\n",
    "  sys.path.append('./Jove')\n",
    "  sys.path.append('./Jove/jove')\n",
    "\n",
    "# -- common imports --\n",
    "from jove.DotBashers import *\n",
    "from jove.Def_md2mc  import *\n",
    "from jove.Def_NFA    import *\n",
    "from jove.Def_DFA    import *\n",
    "from jove.AnimateNFA import *\n",
    "#~~~~~~~~~~~~~~~~~~~~~~~~~~~~~~~~~~~~~~~~~~~~~~~~~~~~~~~"
   ]
  },
  {
   "cell_type": "markdown",
   "metadata": {},
   "source": [
    "# Problem 1a (SV): Design an NFA for $\\{0,1\\}^* 1 0$ (\"Ends 10\")\n",
    "\n",
    "## It will be a 3-state NFA, and name the states as I, S0, and F\n"
   ]
  },
  {
   "cell_type": "code",
   "execution_count": 3,
   "metadata": {},
   "outputs": [],
   "source": [
    "# SOLUTION\n",
    "\n",
    "nfaEnds10 = md2mc('''\n",
    "NFA \n",
    "I  : 0|1 -> I  !! Stay at I till ending pattern seen\n",
    "I  : 1   -> S0 !! After a 0, attain S0\n",
    "S0 : 0   -> F  !! Final state F \n",
    "''')"
   ]
  },
  {
   "cell_type": "markdown",
   "metadata": {},
   "source": [
    "# Problem 1b (SV): Determine States in Animation\n",
    "\n",
    "Put the above NFA in animation, and note down the set of states attained\n",
    "after the DFA has seen every character in 1010. More detailed instructions follow."
   ]
  },
  {
   "cell_type": "markdown",
   "metadata": {},
   "source": [
    "## 1b(i): Execute the cell below and follow the bulleted instructions\n",
    "\n",
    "* When the animation pane comes up, type in 1010 and click Animate\n",
    "\n",
    "* Then click the \">|\" button, which is for single-stepping\n",
    "\n",
    "* Note down the results as you single-step, and fill answers in 1b(ii) below\n"
   ]
  },
  {
   "cell_type": "code",
   "execution_count": 4,
   "metadata": {
    "scrolled": false
   },
   "outputs": [
    {
     "data": {
      "application/vnd.jupyter.widget-view+json": {
       "model_id": "e25851b324ad4ac8bb9f3e2e5efea612",
       "version_major": 2,
       "version_minor": 0
      },
      "text/plain": [
       "VBox(children=(HBox(children=(Text(value='', description='Input:', layout=Layout(width='500px'), placeholder='…"
      ]
     },
     "metadata": {},
     "output_type": "display_data"
    },
    {
     "data": {
      "text/html": [
       "<link rel=\"stylesheet\" href=\"//stackpath.bootstrapcdn.com/font-awesome/4.7.0/css/font-awesome.min.css\"/>"
      ],
      "text/plain": [
       "<IPython.core.display.HTML object>"
      ]
     },
     "metadata": {},
     "output_type": "display_data"
    }
   ],
   "source": [
    "AnimateNFA(nfaEnds10, FuseEdges=False)\n",
    "display(HTML('<link rel=\\\"stylesheet\\\" href=\\\"//stackpath.bootstrapcdn.com/font-awesome/4.7.0/css/font-awesome.min.css\\\"/>'))"
   ]
  },
  {
   "cell_type": "markdown",
   "metadata": {},
   "source": [
    "## 1b(ii) : Provide these answers based on single-stepping the animation\n",
    "\n",
    "### SET of states before consuming any of 1010 = ..fill..\n",
    "\n",
    "### SET of states AFTER \"1\" and before \"010\"  = ..fill..\n",
    "\n",
    "### SET of states AFTER \"10\" and before \"10\"  = ..fill..\n",
    "\n",
    "### SET of states AFTER \"101\" and before \"0\"  = ..fill..\n",
    "\n",
    "### SET of states AFTER \"1010\"   = ..fill.."
   ]
  },
  {
   "cell_type": "markdown",
   "metadata": {},
   "source": [
    "# Problem 1c (SV): Convert the NFA to a DFA and answer\n",
    "\n",
    "Convert the NFA to a DFA by the command below, and answer 1c's question below"
   ]
  },
  {
   "cell_type": "code",
   "execution_count": 5,
   "metadata": {},
   "outputs": [
    {
     "data": {
      "image/svg+xml": [
       "<?xml version=\"1.0\" encoding=\"UTF-8\" standalone=\"no\"?>\n",
       "<!DOCTYPE svg PUBLIC \"-//W3C//DTD SVG 1.1//EN\"\n",
       " \"http://www.w3.org/Graphics/SVG/1.1/DTD/svg11.dtd\">\n",
       "<!-- Generated by graphviz version 2.40.1 (20161225.0304)\n",
       " -->\n",
       "<!-- Title: %3 Pages: 1 -->\n",
       "<svg width=\"340pt\" height=\"132pt\"\n",
       " viewBox=\"0.00 0.00 339.69 131.95\" xmlns=\"http://www.w3.org/2000/svg\" xmlns:xlink=\"http://www.w3.org/1999/xlink\">\n",
       "<g id=\"graph0\" class=\"graph\" transform=\"scale(1 1) rotate(0) translate(4 127.9475)\">\n",
       "<title>%3</title>\n",
       "<polygon fill=\"#ffffff\" stroke=\"transparent\" points=\"-4,4 -4,-127.9475 335.6909,-127.9475 335.6909,4 -4,4\"/>\n",
       "<!-- EMPTY -->\n",
       "<g id=\"node1\" class=\"node\">\n",
       "<title>EMPTY</title>\n",
       "</g>\n",
       "<!-- I -->\n",
       "<g id=\"node2\" class=\"node\">\n",
       "<title>I</title>\n",
       "<ellipse fill=\"none\" stroke=\"#000000\" cx=\"109\" cy=\"-18\" rx=\"18\" ry=\"18\"/>\n",
       "<text text-anchor=\"middle\" x=\"109\" y=\"-14.3\" font-family=\"Times,serif\" font-size=\"14.00\" fill=\"#000000\">I</text>\n",
       "</g>\n",
       "<!-- EMPTY&#45;&gt;I -->\n",
       "<g id=\"edge1\" class=\"edge\">\n",
       "<title>EMPTY&#45;&gt;I</title>\n",
       "<path fill=\"none\" stroke=\"#000000\" d=\"M54.3048,-18C62.6909,-18 71.9407,-18 80.4103,-18\"/>\n",
       "<polygon fill=\"#000000\" stroke=\"#000000\" points=\"80.5976,-21.5001 90.5976,-18 80.5976,-14.5001 80.5976,-21.5001\"/>\n",
       "</g>\n",
       "<!-- I&#45;&gt;I -->\n",
       "<g id=\"edge2\" class=\"edge\">\n",
       "<title>I&#45;&gt;I</title>\n",
       "<path fill=\"none\" stroke=\"#000000\" d=\"M102.6208,-35.0373C101.3189,-44.8579 103.4453,-54 109,-54 112.4717,-54 114.6042,-50.4289 115.3975,-45.3529\"/>\n",
       "<polygon fill=\"#000000\" stroke=\"#000000\" points=\"118.8971,-45.031 115.3792,-35.0373 111.8971,-45.0435 118.8971,-45.031\"/>\n",
       "<text text-anchor=\"middle\" x=\"109\" y=\"-57.8\" font-family=\"Times,serif\" font-size=\"14.00\" fill=\"#000000\">0 </text>\n",
       "</g>\n",
       "<!-- I_S0 -->\n",
       "<g id=\"node3\" class=\"node\">\n",
       "<title>I_S0</title>\n",
       "<ellipse fill=\"none\" stroke=\"#000000\" cx=\"201.9475\" cy=\"-63\" rx=\"27.8951\" ry=\"27.8951\"/>\n",
       "<text text-anchor=\"middle\" x=\"201.9475\" y=\"-59.3\" font-family=\"Times,serif\" font-size=\"14.00\" fill=\"#000000\">I_S0</text>\n",
       "</g>\n",
       "<!-- I&#45;&gt;I_S0 -->\n",
       "<g id=\"edge3\" class=\"edge\">\n",
       "<title>I&#45;&gt;I_S0</title>\n",
       "<path fill=\"none\" stroke=\"#000000\" d=\"M125.6172,-26.0451C137.268,-31.6858 153.2604,-39.4284 167.5976,-46.3697\"/>\n",
       "<polygon fill=\"#000000\" stroke=\"#000000\" points=\"166.1922,-49.5778 176.718,-50.7853 169.2425,-43.2774 166.1922,-49.5778\"/>\n",
       "<text text-anchor=\"middle\" x=\"150.5\" y=\"-44.8\" font-family=\"Times,serif\" font-size=\"14.00\" fill=\"#000000\">1 </text>\n",
       "</g>\n",
       "<!-- I_S0&#45;&gt;I_S0 -->\n",
       "<g id=\"edge5\" class=\"edge\">\n",
       "<title>I_S0&#45;&gt;I_S0</title>\n",
       "<path fill=\"none\" stroke=\"#000000\" d=\"M192.6297,-89.4414C192.1033,-100.0463 195.2092,-108.9475 201.9475,-108.9475 206.3695,-108.9475 209.2272,-105.1141 210.5205,-99.4814\"/>\n",
       "<polygon fill=\"#000000\" stroke=\"#000000\" points=\"214.0159,-99.6729 211.2653,-89.4414 207.035,-99.155 214.0159,-99.6729\"/>\n",
       "<text text-anchor=\"middle\" x=\"201.9475\" y=\"-112.7475\" font-family=\"Times,serif\" font-size=\"14.00\" fill=\"#000000\">1 </text>\n",
       "</g>\n",
       "<!-- F_I -->\n",
       "<g id=\"node4\" class=\"node\">\n",
       "<title>F_I</title>\n",
       "<ellipse fill=\"none\" stroke=\"#000000\" cx=\"304.293\" cy=\"-35\" rx=\"23.3111\" ry=\"23.3111\"/>\n",
       "<ellipse fill=\"none\" stroke=\"#000000\" cx=\"304.293\" cy=\"-35\" rx=\"27.2962\" ry=\"27.2962\"/>\n",
       "<text text-anchor=\"middle\" x=\"304.293\" y=\"-31.3\" font-family=\"Times,serif\" font-size=\"14.00\" fill=\"#000000\">F_I</text>\n",
       "</g>\n",
       "<!-- I_S0&#45;&gt;F_I -->\n",
       "<g id=\"edge4\" class=\"edge\">\n",
       "<title>I_S0&#45;&gt;F_I</title>\n",
       "<path fill=\"none\" stroke=\"#000000\" d=\"M229.6418,-57.9239C238.9965,-56.0084 249.458,-53.645 258.895,-51 262.2143,-50.0697 265.6426,-49.0238 269.0586,-47.9237\"/>\n",
       "<polygon fill=\"#000000\" stroke=\"#000000\" points=\"270.1897,-51.2359 278.5523,-44.7307 267.9583,-44.6011 270.1897,-51.2359\"/>\n",
       "<text text-anchor=\"middle\" x=\"253.395\" y=\"-57.8\" font-family=\"Times,serif\" font-size=\"14.00\" fill=\"#000000\">0 </text>\n",
       "</g>\n",
       "<!-- F_I&#45;&gt;I -->\n",
       "<g id=\"edge6\" class=\"edge\">\n",
       "<title>F_I&#45;&gt;I</title>\n",
       "<path fill=\"none\" stroke=\"#000000\" d=\"M278.6107,-24.5235C264.4943,-19.3277 246.5196,-13.6151 229.895,-11 198.2353,-6.0198 161.4125,-9.4529 136.8019,-13.0454\"/>\n",
       "<polygon fill=\"#000000\" stroke=\"#000000\" points=\"136.0717,-9.617 126.7347,-14.624 137.1562,-16.5325 136.0717,-9.617\"/>\n",
       "<text text-anchor=\"middle\" x=\"201.9475\" y=\"-14.8\" font-family=\"Times,serif\" font-size=\"14.00\" fill=\"#000000\">0 </text>\n",
       "</g>\n",
       "<!-- F_I&#45;&gt;I_S0 -->\n",
       "<g id=\"edge7\" class=\"edge\">\n",
       "<title>F_I&#45;&gt;I_S0</title>\n",
       "<path fill=\"none\" stroke=\"#000000\" d=\"M277.1489,-29.796C267.7153,-28.9669 257.1778,-29.1614 247.895,-32 242.4888,-33.6532 237.144,-36.1803 232.1172,-39.0931\"/>\n",
       "<polygon fill=\"#000000\" stroke=\"#000000\" points=\"229.9912,-36.2988 223.4679,-44.6472 233.7736,-42.1889 229.9912,-36.2988\"/>\n",
       "<text text-anchor=\"middle\" x=\"253.395\" y=\"-35.8\" font-family=\"Times,serif\" font-size=\"14.00\" fill=\"#000000\">1 </text>\n",
       "</g>\n",
       "</g>\n",
       "</svg>\n"
      ],
      "text/plain": [
       "<graphviz.dot.Digraph at 0x10e7b4d30>"
      ]
     },
     "execution_count": 5,
     "metadata": {},
     "output_type": "execute_result"
    }
   ],
   "source": [
    "dotObj_dfa(nfa2dfa(nfaEnds10, STATENAME_MAXSIZE=50), STATENAME_MAXSIZE=50)"
   ]
  },
  {
   "cell_type": "markdown",
   "metadata": {},
   "source": [
    "#### 1c's question-1: State DFA is in after 1010 = ...DFA STATE...\n",
    "\n",
    "... one sentence ...\n",
    "\n",
    "#### 1c's question-2: Set of states NFA is in after 1010 (last ans of 1b(ii) ) = ...SET of NFA States...\n",
    "\n",
    "... one sentence ...\n",
    "\n",
    "#### Do the above match? (i.e. ...DFA STATE... = ...SET of NFA States...) ?\n",
    "\n",
    "... one sentence ...\n",
    "\n",
    "#### Reason that the above should match? \n",
    "\n",
    "... one sentence ..."
   ]
  },
  {
   "cell_type": "markdown",
   "metadata": {},
   "source": [
    "# Problem 2 (XL): Design an NFA for $\\{\\varepsilon, 0\\}$ \n",
    "### It will be a 2-state NFA with an IF state and a final state (call that final state \"F2\" )"
   ]
  },
  {
   "cell_type": "code",
   "execution_count": 6,
   "metadata": {},
   "outputs": [],
   "source": [
    "nfaEps0 = md2mc('''\n",
    "NFA \n",
    "IF : 0 -> F2\n",
    "''')"
   ]
  },
  {
   "cell_type": "code",
   "execution_count": 7,
   "metadata": {},
   "outputs": [
    {
     "data": {
      "image/svg+xml": [
       "<?xml version=\"1.0\" encoding=\"UTF-8\" standalone=\"no\"?>\n",
       "<!DOCTYPE svg PUBLIC \"-//W3C//DTD SVG 1.1//EN\"\n",
       " \"http://www.w3.org/Graphics/SVG/1.1/DTD/svg11.dtd\">\n",
       "<!-- Generated by graphviz version 2.40.1 (20161225.0304)\n",
       " -->\n",
       "<!-- Title: %3 Pages: 1 -->\n",
       "<svg width=\"240pt\" height=\"56pt\"\n",
       " viewBox=\"0.00 0.00 239.99 56.30\" xmlns=\"http://www.w3.org/2000/svg\" xmlns:xlink=\"http://www.w3.org/1999/xlink\">\n",
       "<g id=\"graph0\" class=\"graph\" transform=\"scale(1 1) rotate(0) translate(4 52.2964)\">\n",
       "<title>%3</title>\n",
       "<polygon fill=\"#ffffff\" stroke=\"transparent\" points=\"-4,4 -4,-52.2964 235.9931,-52.2964 235.9931,4 -4,4\"/>\n",
       "<!-- EMPTY -->\n",
       "<g id=\"node1\" class=\"node\">\n",
       "<title>EMPTY</title>\n",
       "</g>\n",
       "<!-- IF -->\n",
       "<g id=\"node3\" class=\"node\">\n",
       "<title>IF</title>\n",
       "<ellipse fill=\"none\" stroke=\"#000000\" cx=\"113.8483\" cy=\"-24.1482\" rx=\"18.724\" ry=\"18.724\"/>\n",
       "<ellipse fill=\"none\" stroke=\"#000000\" cx=\"113.8483\" cy=\"-24.1482\" rx=\"22.6977\" ry=\"22.6977\"/>\n",
       "<text text-anchor=\"middle\" x=\"113.8483\" y=\"-20.4482\" font-family=\"Times,serif\" font-size=\"14.00\" fill=\"#000000\">IF</text>\n",
       "</g>\n",
       "<!-- EMPTY&#45;&gt;IF -->\n",
       "<g id=\"edge1\" class=\"edge\">\n",
       "<title>EMPTY&#45;&gt;IF</title>\n",
       "<path fill=\"none\" stroke=\"#000000\" d=\"M54.0033,-24.1482C62.5212,-24.1482 72.0276,-24.1482 80.9112,-24.1482\"/>\n",
       "<polygon fill=\"#000000\" stroke=\"#000000\" points=\"80.9572,-27.6483 90.9572,-24.1482 80.9572,-20.6483 80.9572,-27.6483\"/>\n",
       "</g>\n",
       "<!-- F2 -->\n",
       "<g id=\"node2\" class=\"node\">\n",
       "<title>F2</title>\n",
       "<ellipse fill=\"none\" stroke=\"#000000\" cx=\"207.8449\" cy=\"-24.1482\" rx=\"20.2726\" ry=\"20.2726\"/>\n",
       "<ellipse fill=\"none\" stroke=\"#000000\" cx=\"207.8449\" cy=\"-24.1482\" rx=\"24.2973\" ry=\"24.2973\"/>\n",
       "<text text-anchor=\"middle\" x=\"207.8449\" y=\"-20.4482\" font-family=\"Times,serif\" font-size=\"14.00\" fill=\"#000000\">F2</text>\n",
       "</g>\n",
       "<!-- IF&#45;&gt;F2 -->\n",
       "<g id=\"edge2\" class=\"edge\">\n",
       "<title>IF&#45;&gt;F2</title>\n",
       "<path fill=\"none\" stroke=\"#000000\" d=\"M137.0834,-24.1482C148.016,-24.1482 161.2765,-24.1482 173.3499,-24.1482\"/>\n",
       "<polygon fill=\"#000000\" stroke=\"#000000\" points=\"173.5659,-27.6483 183.5659,-24.1482 173.5658,-20.6483 173.5659,-27.6483\"/>\n",
       "<text text-anchor=\"middle\" x=\"160.1967\" y=\"-27.9482\" font-family=\"Times,serif\" font-size=\"14.00\" fill=\"#000000\">0 </text>\n",
       "</g>\n",
       "</g>\n",
       "</svg>\n"
      ],
      "text/plain": [
       "<graphviz.dot.Digraph at 0x10e7cda90>"
      ]
     },
     "execution_count": 7,
     "metadata": {},
     "output_type": "execute_result"
    }
   ],
   "source": [
    "dotObj_nfa(nfaEps0)"
   ]
  },
  {
   "cell_type": "markdown",
   "metadata": {},
   "source": [
    "# A tutorial on Concatenating NFA\n",
    "\n",
    "Watch this video, then do Xinyi Li's question.\n",
    "\n",
    "To watch the video separately in Youtube in large size, \n",
    "visit https://youtu.be/VWyOT1uYfIc\n",
    "\n",
    "Otherwise just run the command below!"
   ]
  },
  {
   "cell_type": "code",
   "execution_count": 16,
   "metadata": {},
   "outputs": [
    {
     "data": {
      "image/jpeg": "[encoded data removed]",
      "text/html": [
       "\n",
       "        <iframe\n",
       "            width=\"400\"\n",
       "            height=\"300\"\n",
       "            src=\"https://www.youtube.com/embed/VWyOT1uYfIc\"\n",
       "            frameborder=\"0\"\n",
       "            allowfullscreen\n",
       "        ></iframe>\n",
       "        "
      ],
      "text/plain": [
       "<IPython.lib.display.YouTubeVideo at 0x10e7cdd30>"
      ]
     },
     "execution_count": 16,
     "metadata": {},
     "output_type": "execute_result"
    }
   ],
   "source": [
    "# NFA Concatenation\n",
    "from IPython.display import YouTubeVideo\n",
    "YouTubeVideo('VWyOT1uYfIc')"
   ]
  },
  {
   "cell_type": "markdown",
   "metadata": {},
   "source": [
    "# Problem 2a (XL): Develop a Concatenation NFA\n",
    "\n",
    "## Concatenate nfaEnds10 and nfaEps0 to obtain NFAEnds10Eps0\n",
    "\n",
    "### We follow these steps\n",
    "\n",
    "### Roughly, we are bridging from \"every final state of N1 to every initial of N2 via eps \"\n",
    "\n",
    "#### More specifically, we are going to pool the transitions of the two machines after making some changes to state names\n",
    "\n",
    "* If nfaEnds10 has an IF state, rename it to \"IX\" (not final, still initial)\n",
    "  - In general, a similar procedure is needed for every such IF state\n",
    "  \n",
    "* If nfaEnds10 has an F state (that is not an I state), rename it to \"T1\"\n",
    "  - In general, a similar procedure is needed for every such F state\n",
    "  \n",
    "* If nfaEps0 has an IF state, rename it to F3 (a final state that is no longer initial)\n",
    "  - In general, a similar procedure is needed for every IF state.\n",
    "\n",
    "* If nfaEps0 has an I state (that is not an IF state), rename it to \"T2\" (not \"I\" anymore)\n",
    "  - In general, a similar procedure is needed for every I state.\n",
    "\n",
    "* Introduce a \"bridge\" transition labeled with Epsilon that connects \"what was an F-state\" of nfaEnds10 to \"what was an I-state\" of nfaEps0\n",
    "\n"
   ]
  },
  {
   "cell_type": "markdown",
   "metadata": {},
   "source": [
    "# Problem 2b (XL): Show the full Concatenation NFA below\n"
   ]
  },
  {
   "cell_type": "code",
   "execution_count": 8,
   "metadata": {
    "run_control": {
     "frozen": false,
     "read_only": false
    }
   },
   "outputs": [],
   "source": [
    "# Here is the resulting NFA\n",
    "\n",
    "NFAEnds10Eps0 = md2mc('''\n",
    "NFA \n",
    "\n",
    "!!---- put NFA 1's transitions below, after the aforesaid renamings ----\n",
    "\n",
    "I  : 0 | 1 -> I\n",
    "I  : 1     -> A1\n",
    "A1 : 0     -> T1\n",
    "\n",
    "!!--- put the \"bridge\" transition below\n",
    "T1 : '' -> F3\n",
    "\n",
    "!!--- put NFA 2's transitions below, after the aforesaid renamings ----\n",
    "F3    : 0 -> F2\n",
    "\n",
    "''')"
   ]
  },
  {
   "cell_type": "markdown",
   "metadata": {},
   "source": [
    "## Problem 2b (XL): Draw the concat NFA and convert to a DFA\n",
    "\n",
    "... The below THREE commands finish your answer to XL's question ...\n"
   ]
  },
  {
   "cell_type": "code",
   "execution_count": 9,
   "metadata": {},
   "outputs": [
    {
     "data": {
      "image/svg+xml": [
       "<?xml version=\"1.0\" encoding=\"UTF-8\" standalone=\"no\"?>\n",
       "<!DOCTYPE svg PUBLIC \"-//W3C//DTD SVG 1.1//EN\"\n",
       " \"http://www.w3.org/Graphics/SVG/1.1/DTD/svg11.dtd\">\n",
       "<!-- Generated by graphviz version 2.40.1 (20161225.0304)\n",
       " -->\n",
       "<!-- Title: %3 Pages: 1 -->\n",
       "<svg width=\"503pt\" height=\"116pt\"\n",
       " viewBox=\"0.00 0.00 503.39 116.15\" xmlns=\"http://www.w3.org/2000/svg\" xmlns:xlink=\"http://www.w3.org/1999/xlink\">\n",
       "<g id=\"graph0\" class=\"graph\" transform=\"scale(1 1) rotate(0) translate(4 112.1482)\">\n",
       "<title>%3</title>\n",
       "<polygon fill=\"#ffffff\" stroke=\"transparent\" points=\"-4,4 -4,-112.1482 499.3852,-112.1482 499.3852,4 -4,4\"/>\n",
       "<!-- EMPTY -->\n",
       "<g id=\"node1\" class=\"node\">\n",
       "<title>EMPTY</title>\n",
       "</g>\n",
       "<!-- I -->\n",
       "<g id=\"node2\" class=\"node\">\n",
       "<title>I</title>\n",
       "<ellipse fill=\"none\" stroke=\"#000000\" cx=\"109\" cy=\"-24.1482\" rx=\"18\" ry=\"18\"/>\n",
       "<text text-anchor=\"middle\" x=\"109\" y=\"-20.4482\" font-family=\"Times,serif\" font-size=\"14.00\" fill=\"#000000\">I</text>\n",
       "</g>\n",
       "<!-- EMPTY&#45;&gt;I -->\n",
       "<g id=\"edge1\" class=\"edge\">\n",
       "<title>EMPTY&#45;&gt;I</title>\n",
       "<path fill=\"none\" stroke=\"#000000\" d=\"M54.3048,-24.1482C62.6909,-24.1482 71.9407,-24.1482 80.4103,-24.1482\"/>\n",
       "<polygon fill=\"#000000\" stroke=\"#000000\" points=\"80.5976,-27.6483 90.5976,-24.1482 80.5976,-20.6483 80.5976,-27.6483\"/>\n",
       "</g>\n",
       "<!-- I&#45;&gt;I -->\n",
       "<g id=\"edge2\" class=\"edge\">\n",
       "<title>I&#45;&gt;I</title>\n",
       "<path fill=\"none\" stroke=\"#000000\" d=\"M105.7643,-41.9299C105.2144,-51.4632 106.293,-60.1482 109,-60.1482 110.6496,-60.1482 111.6945,-56.9231 112.1347,-52.2463\"/>\n",
       "<polygon fill=\"#000000\" stroke=\"#000000\" points=\"115.6375,-51.9638 112.2357,-41.9299 108.6379,-51.8951 115.6375,-51.9638\"/>\n",
       "<text text-anchor=\"middle\" x=\"109\" y=\"-63.9482\" font-family=\"Times,serif\" font-size=\"14.00\" fill=\"#000000\">0 </text>\n",
       "</g>\n",
       "<!-- I&#45;&gt;I -->\n",
       "<g id=\"edge3\" class=\"edge\">\n",
       "<title>I&#45;&gt;I</title>\n",
       "<path fill=\"none\" stroke=\"#000000\" d=\"M103.6841,-41.5685C100.6538,-58.9392 102.4258,-78.1482 109,-78.1482 114.2902,-78.1482 116.4708,-65.7099 115.5419,-51.8002\"/>\n",
       "<polygon fill=\"#000000\" stroke=\"#000000\" points=\"118.9808,-51.081 114.3159,-41.5685 112.0305,-51.9139 118.9808,-51.081\"/>\n",
       "<text text-anchor=\"middle\" x=\"109\" y=\"-81.9482\" font-family=\"Times,serif\" font-size=\"14.00\" fill=\"#000000\">1 </text>\n",
       "</g>\n",
       "<!-- A1 -->\n",
       "<g id=\"node3\" class=\"node\">\n",
       "<title>A1</title>\n",
       "<ellipse fill=\"none\" stroke=\"#000000\" cx=\"196.098\" cy=\"-24.1482\" rx=\"22.1965\" ry=\"22.1965\"/>\n",
       "<text text-anchor=\"middle\" x=\"196.098\" y=\"-20.4482\" font-family=\"Times,serif\" font-size=\"14.00\" fill=\"#000000\">A1</text>\n",
       "</g>\n",
       "<!-- I&#45;&gt;A1 -->\n",
       "<g id=\"edge4\" class=\"edge\">\n",
       "<title>I&#45;&gt;A1</title>\n",
       "<path fill=\"none\" stroke=\"#000000\" d=\"M127.0468,-24.1482C137.6351,-24.1482 151.3288,-24.1482 163.7264,-24.1482\"/>\n",
       "<polygon fill=\"#000000\" stroke=\"#000000\" points=\"163.7389,-27.6483 173.7388,-24.1482 163.7388,-20.6483 163.7389,-27.6483\"/>\n",
       "<text text-anchor=\"middle\" x=\"150.5\" y=\"-27.9482\" font-family=\"Times,serif\" font-size=\"14.00\" fill=\"#000000\">1 </text>\n",
       "</g>\n",
       "<!-- T1 -->\n",
       "<g id=\"node4\" class=\"node\">\n",
       "<title>T1</title>\n",
       "<ellipse fill=\"none\" stroke=\"#000000\" cx=\"285.9942\" cy=\"-24.1482\" rx=\"20.5982\" ry=\"20.5982\"/>\n",
       "<text text-anchor=\"middle\" x=\"285.9942\" y=\"-20.4482\" font-family=\"Times,serif\" font-size=\"14.00\" fill=\"#000000\">T1</text>\n",
       "</g>\n",
       "<!-- A1&#45;&gt;T1 -->\n",
       "<g id=\"edge5\" class=\"edge\">\n",
       "<title>A1&#45;&gt;T1</title>\n",
       "<path fill=\"none\" stroke=\"#000000\" d=\"M218.3196,-24.1482C229.3382,-24.1482 242.8295,-24.1482 254.8588,-24.1482\"/>\n",
       "<polygon fill=\"#000000\" stroke=\"#000000\" points=\"254.9549,-27.6483 264.9548,-24.1482 254.9548,-20.6483 254.9549,-27.6483\"/>\n",
       "<text text-anchor=\"middle\" x=\"241.6961\" y=\"-27.9482\" font-family=\"Times,serif\" font-size=\"14.00\" fill=\"#000000\">0 </text>\n",
       "</g>\n",
       "<!-- F3 -->\n",
       "<g id=\"node5\" class=\"node\">\n",
       "<title>F3</title>\n",
       "<ellipse fill=\"none\" stroke=\"#000000\" cx=\"375.9406\" cy=\"-24.1482\" rx=\"20.2726\" ry=\"20.2726\"/>\n",
       "<ellipse fill=\"none\" stroke=\"#000000\" cx=\"375.9406\" cy=\"-24.1482\" rx=\"24.2973\" ry=\"24.2973\"/>\n",
       "<text text-anchor=\"middle\" x=\"375.9406\" y=\"-20.4482\" font-family=\"Times,serif\" font-size=\"14.00\" fill=\"#000000\">F3</text>\n",
       "</g>\n",
       "<!-- T1&#45;&gt;F3 -->\n",
       "<g id=\"edge6\" class=\"edge\">\n",
       "<title>T1&#45;&gt;F3</title>\n",
       "<path fill=\"none\" stroke=\"#000000\" d=\"M306.8558,-24.1482C317.107,-24.1482 329.7312,-24.1482 341.3715,-24.1482\"/>\n",
       "<polygon fill=\"#000000\" stroke=\"#000000\" points=\"341.6887,-27.6483 351.6887,-24.1482 341.6887,-20.6483 341.6887,-27.6483\"/>\n",
       "<text text-anchor=\"middle\" x=\"329.2924\" y=\"-27.9482\" font-family=\"Times,serif\" font-size=\"14.00\" fill=\"#000000\">&#39;&#39; </text>\n",
       "</g>\n",
       "<!-- F2 -->\n",
       "<g id=\"node6\" class=\"node\">\n",
       "<title>F2</title>\n",
       "<ellipse fill=\"none\" stroke=\"#000000\" cx=\"471.237\" cy=\"-24.1482\" rx=\"20.2726\" ry=\"20.2726\"/>\n",
       "<ellipse fill=\"none\" stroke=\"#000000\" cx=\"471.237\" cy=\"-24.1482\" rx=\"24.2973\" ry=\"24.2973\"/>\n",
       "<text text-anchor=\"middle\" x=\"471.237\" y=\"-20.4482\" font-family=\"Times,serif\" font-size=\"14.00\" fill=\"#000000\">F2</text>\n",
       "</g>\n",
       "<!-- F3&#45;&gt;F2 -->\n",
       "<g id=\"edge7\" class=\"edge\">\n",
       "<title>F3&#45;&gt;F2</title>\n",
       "<path fill=\"none\" stroke=\"#000000\" d=\"M400.4818,-24.1482C411.4864,-24.1482 424.6606,-24.1482 436.6418,-24.1482\"/>\n",
       "<polygon fill=\"#000000\" stroke=\"#000000\" points=\"436.779,-27.6483 446.779,-24.1482 436.779,-20.6483 436.779,-27.6483\"/>\n",
       "<text text-anchor=\"middle\" x=\"423.5888\" y=\"-27.9482\" font-family=\"Times,serif\" font-size=\"14.00\" fill=\"#000000\">0 </text>\n",
       "</g>\n",
       "</g>\n",
       "</svg>\n"
      ],
      "text/plain": [
       "<graphviz.dot.Digraph at 0x10ddc2320>"
      ]
     },
     "execution_count": 9,
     "metadata": {},
     "output_type": "execute_result"
    }
   ],
   "source": [
    "# command-1\n",
    "dotObj_nfa(NFAEnds10Eps0)"
   ]
  },
  {
   "cell_type": "code",
   "execution_count": 10,
   "metadata": {},
   "outputs": [
    {
     "data": {
      "image/svg+xml": [
       "<?xml version=\"1.0\" encoding=\"UTF-8\" standalone=\"no\"?>\n",
       "<!DOCTYPE svg PUBLIC \"-//W3C//DTD SVG 1.1//EN\"\n",
       " \"http://www.w3.org/Graphics/SVG/1.1/DTD/svg11.dtd\">\n",
       "<!-- Generated by graphviz version 2.40.1 (20161225.0304)\n",
       " -->\n",
       "<!-- Title: %3 Pages: 1 -->\n",
       "<svg width=\"492pt\" height=\"183pt\"\n",
       " viewBox=\"0.00 0.00 492.18 182.90\" xmlns=\"http://www.w3.org/2000/svg\" xmlns:xlink=\"http://www.w3.org/1999/xlink\">\n",
       "<g id=\"graph0\" class=\"graph\" transform=\"scale(1 1) rotate(0) translate(4 178.8962)\">\n",
       "<title>%3</title>\n",
       "<polygon fill=\"#ffffff\" stroke=\"transparent\" points=\"-4,4 -4,-178.8962 488.1822,-178.8962 488.1822,4 -4,4\"/>\n",
       "<!-- EMPTY -->\n",
       "<g id=\"node1\" class=\"node\">\n",
       "<title>EMPTY</title>\n",
       "</g>\n",
       "<!-- I -->\n",
       "<g id=\"node2\" class=\"node\">\n",
       "<title>I</title>\n",
       "<ellipse fill=\"none\" stroke=\"#000000\" cx=\"109\" cy=\"-18\" rx=\"18\" ry=\"18\"/>\n",
       "<text text-anchor=\"middle\" x=\"109\" y=\"-14.3\" font-family=\"Times,serif\" font-size=\"14.00\" fill=\"#000000\">I</text>\n",
       "</g>\n",
       "<!-- EMPTY&#45;&gt;I -->\n",
       "<g id=\"edge1\" class=\"edge\">\n",
       "<title>EMPTY&#45;&gt;I</title>\n",
       "<path fill=\"none\" stroke=\"#000000\" d=\"M54.3048,-18C62.6909,-18 71.9407,-18 80.4103,-18\"/>\n",
       "<polygon fill=\"#000000\" stroke=\"#000000\" points=\"80.5976,-21.5001 90.5976,-18 80.5976,-14.5001 80.5976,-21.5001\"/>\n",
       "</g>\n",
       "<!-- I&#45;&gt;I -->\n",
       "<g id=\"edge2\" class=\"edge\">\n",
       "<title>I&#45;&gt;I</title>\n",
       "<path fill=\"none\" stroke=\"#000000\" d=\"M102.6208,-35.0373C101.3189,-44.8579 103.4453,-54 109,-54 112.4717,-54 114.6042,-50.4289 115.3975,-45.3529\"/>\n",
       "<polygon fill=\"#000000\" stroke=\"#000000\" points=\"118.8971,-45.031 115.3792,-35.0373 111.8971,-45.0435 118.8971,-45.031\"/>\n",
       "<text text-anchor=\"middle\" x=\"109\" y=\"-57.8\" font-family=\"Times,serif\" font-size=\"14.00\" fill=\"#000000\">0 </text>\n",
       "</g>\n",
       "<!-- A1_I -->\n",
       "<g id=\"node3\" class=\"node\">\n",
       "<title>A1_I</title>\n",
       "<ellipse fill=\"none\" stroke=\"#000000\" cx=\"203.2474\" cy=\"-70\" rx=\"29.4969\" ry=\"29.4969\"/>\n",
       "<text text-anchor=\"middle\" x=\"203.2474\" y=\"-66.3\" font-family=\"Times,serif\" font-size=\"14.00\" fill=\"#000000\">A1_I</text>\n",
       "</g>\n",
       "<!-- I&#45;&gt;A1_I -->\n",
       "<g id=\"edge3\" class=\"edge\">\n",
       "<title>I&#45;&gt;A1_I</title>\n",
       "<path fill=\"none\" stroke=\"#000000\" d=\"M124.9878,-26.8211C136.9044,-33.396 153.6293,-42.6238 168.5602,-50.8617\"/>\n",
       "<polygon fill=\"#000000\" stroke=\"#000000\" points=\"167.1193,-54.0641 177.5659,-55.8305 170.501,-47.9351 167.1193,-54.0641\"/>\n",
       "<text text-anchor=\"middle\" x=\"150.5\" y=\"-46.8\" font-family=\"Times,serif\" font-size=\"14.00\" fill=\"#000000\">1 </text>\n",
       "</g>\n",
       "<!-- A1_I&#45;&gt;A1_I -->\n",
       "<g id=\"edge5\" class=\"edge\">\n",
       "<title>A1_I&#45;&gt;A1_I</title>\n",
       "<path fill=\"none\" stroke=\"#000000\" d=\"M193.5355,-97.6624C193.1039,-108.3578 196.3412,-117.2474 203.2474,-117.2474 207.7796,-117.2474 210.7318,-113.419 212.1038,-107.7641\"/>\n",
       "<polygon fill=\"#000000\" stroke=\"#000000\" points=\"215.6029,-107.9221 212.9593,-97.6624 208.6279,-107.3314 215.6029,-107.9221\"/>\n",
       "<text text-anchor=\"middle\" x=\"203.2474\" y=\"-121.0474\" font-family=\"Times,serif\" font-size=\"14.00\" fill=\"#000000\">1 </text>\n",
       "</g>\n",
       "<!-- F3_I_T1 -->\n",
       "<g id=\"node5\" class=\"node\">\n",
       "<title>F3_I_T1</title>\n",
       "<ellipse fill=\"none\" stroke=\"#000000\" cx=\"326.391\" cy=\"-128\" rx=\"42.8015\" ry=\"42.8015\"/>\n",
       "<ellipse fill=\"none\" stroke=\"#000000\" cx=\"326.391\" cy=\"-128\" rx=\"46.7926\" ry=\"46.7926\"/>\n",
       "<text text-anchor=\"middle\" x=\"326.391\" y=\"-124.3\" font-family=\"Times,serif\" font-size=\"14.00\" fill=\"#000000\">F3_I_T1</text>\n",
       "</g>\n",
       "<!-- A1_I&#45;&gt;F3_I_T1 -->\n",
       "<g id=\"edge4\" class=\"edge\">\n",
       "<title>A1_I&#45;&gt;F3_I_T1</title>\n",
       "<path fill=\"none\" stroke=\"#000000\" d=\"M226.4394,-88.2061C233.8456,-93.4605 242.2629,-98.881 250.4948,-103 257.0625,-106.2863 264.1593,-109.2824 271.2856,-111.968\"/>\n",
       "<polygon fill=\"#000000\" stroke=\"#000000\" points=\"270.3801,-115.3612 280.9746,-115.4356 272.7388,-108.7706 270.3801,-115.3612\"/>\n",
       "<text text-anchor=\"middle\" x=\"255.9948\" y=\"-110.8\" font-family=\"Times,serif\" font-size=\"14.00\" fill=\"#000000\">0 </text>\n",
       "</g>\n",
       "<!-- F2_I -->\n",
       "<g id=\"node4\" class=\"node\">\n",
       "<title>F2_I</title>\n",
       "<ellipse fill=\"none\" stroke=\"#000000\" cx=\"452.2347\" cy=\"-48\" rx=\"27.9017\" ry=\"27.9017\"/>\n",
       "<ellipse fill=\"none\" stroke=\"#000000\" cx=\"452.2347\" cy=\"-48\" rx=\"31.8951\" ry=\"31.8951\"/>\n",
       "<text text-anchor=\"middle\" x=\"452.2347\" y=\"-44.3\" font-family=\"Times,serif\" font-size=\"14.00\" fill=\"#000000\">F2_I</text>\n",
       "</g>\n",
       "<!-- F2_I&#45;&gt;I -->\n",
       "<g id=\"edge8\" class=\"edge\">\n",
       "<title>F2_I&#45;&gt;I</title>\n",
       "<path fill=\"none\" stroke=\"#000000\" d=\"M420.2715,-45.2063C353.4977,-39.37 200.1744,-25.969 136.9961,-20.447\"/>\n",
       "<polygon fill=\"#000000\" stroke=\"#000000\" points=\"137.2373,-16.9548 126.9705,-19.5707 136.6278,-23.9282 137.2373,-16.9548\"/>\n",
       "<text text-anchor=\"middle\" x=\"255.9948\" y=\"-35.8\" font-family=\"Times,serif\" font-size=\"14.00\" fill=\"#000000\">0 </text>\n",
       "</g>\n",
       "<!-- F2_I&#45;&gt;A1_I -->\n",
       "<g id=\"edge9\" class=\"edge\">\n",
       "<title>F2_I&#45;&gt;A1_I</title>\n",
       "<path fill=\"none\" stroke=\"#000000\" d=\"M419.9885,-48.5559C385.2215,-49.4174 328.295,-51.5873 279.4948,-57 267.314,-58.351 254.1274,-60.391 242.2004,-62.457\"/>\n",
       "<polygon fill=\"#000000\" stroke=\"#000000\" points=\"241.3282,-59.0574 232.1002,-64.2626 242.5601,-65.9481 241.3282,-59.0574\"/>\n",
       "<text text-anchor=\"middle\" x=\"326.391\" y=\"-60.8\" font-family=\"Times,serif\" font-size=\"14.00\" fill=\"#000000\">1 </text>\n",
       "</g>\n",
       "<!-- F3_I_T1&#45;&gt;A1_I -->\n",
       "<g id=\"edge7\" class=\"edge\">\n",
       "<title>F3_I_T1&#45;&gt;A1_I</title>\n",
       "<path fill=\"none\" stroke=\"#000000\" d=\"M288.9469,-99.3017C280.2709,-93.6083 270.8339,-88.1241 261.4948,-84 255.501,-81.3531 248.9296,-79.1611 242.4281,-77.3605\"/>\n",
       "<polygon fill=\"#000000\" stroke=\"#000000\" points=\"242.912,-73.8738 232.3617,-74.8438 241.2142,-80.6648 242.912,-73.8738\"/>\n",
       "<text text-anchor=\"middle\" x=\"255.9948\" y=\"-87.8\" font-family=\"Times,serif\" font-size=\"14.00\" fill=\"#000000\">1 </text>\n",
       "</g>\n",
       "<!-- F3_I_T1&#45;&gt;F2_I -->\n",
       "<g id=\"edge6\" class=\"edge\">\n",
       "<title>F3_I_T1&#45;&gt;F2_I</title>\n",
       "<path fill=\"none\" stroke=\"#000000\" d=\"M366.2087,-102.6875C382.2205,-92.5087 400.5501,-80.8564 416.1644,-70.9302\"/>\n",
       "<polygon fill=\"#000000\" stroke=\"#000000\" points=\"418.4446,-73.6281 425.006,-65.3095 414.6892,-67.7207 418.4446,-73.6281\"/>\n",
       "<text text-anchor=\"middle\" x=\"396.7872\" y=\"-88.8\" font-family=\"Times,serif\" font-size=\"14.00\" fill=\"#000000\">0 </text>\n",
       "</g>\n",
       "</g>\n",
       "</svg>\n"
      ],
      "text/plain": [
       "<graphviz.dot.Digraph at 0x10e7cd8d0>"
      ]
     },
     "execution_count": 10,
     "metadata": {},
     "output_type": "execute_result"
    }
   ],
   "source": [
    "# command-2\n",
    "\n",
    "dotObj_dfa(nfa2dfa(NFAEnds10Eps0, STATENAME_MAXSIZE=50), STATENAME_MAXSIZE=50)"
   ]
  },
  {
   "cell_type": "code",
   "execution_count": 11,
   "metadata": {
    "run_control": {
     "frozen": false,
     "read_only": false
    }
   },
   "outputs": [
    {
     "data": {
      "text/plain": [
       "{'Q': {'A1', 'F2', 'F3', 'I', 'T1'},\n",
       " 'Sigma': {'0', '1'},\n",
       " 'Delta': {('I', '0'): {'I'},\n",
       "  ('I', '1'): {'A1', 'I'},\n",
       "  ('A1', '0'): {'T1'},\n",
       "  ('T1', ''): {'F3'},\n",
       "  ('F3', '0'): {'F2'}},\n",
       " 'Q0': {'I'},\n",
       " 'F': {'F2', 'F3'}}"
      ]
     },
     "execution_count": 11,
     "metadata": {},
     "output_type": "execute_result"
    }
   ],
   "source": [
    "# Let us see its internal representation -- this may give you hints for answering your question\n",
    "\n",
    "# command-3\n",
    "\n",
    "NFAEnds10Eps0"
   ]
  },
  {
   "cell_type": "markdown",
   "metadata": {},
   "source": [
    "# Problem 3 (LT): Explain the NFA2DFA algorithm\n",
    "\n",
    "Below, you must explain the states of the DFA that resulted from converting the\n",
    "NFA to DFA using subset construction. For each question, your answer must be of\n",
    "the following form:\n",
    "\n",
    "* Currently the NFA is in a *set* of states, say S1. That is already an E-closed state.\n",
    "\n",
    "* Let S1 be {s11, s12} for example. (Notice the upper and lower cases.)\n",
    "\n",
    "* I considered a '0' transition\n",
    "\n",
    "* Upon a '0', s11 when to set of states S11, s12 went to set of states S12, and so on.\n",
    "\n",
    "* I performed E-Closure of the states in S11 and that resulted in S11c\n",
    "\n",
    "* Similarly, I performed E-Closure of the states in S12 and that resulted in S12c\n",
    "\n",
    "* Then I unioned S11c and S12c and called it S2\n",
    "\n",
    "* S2 is now an E-closed set of states\n",
    "\n",
    "* Thus, I arrive at a single NFA state corresponding to \n",
    "  - S1 going upon '0' to S2\n",
    "\n",
    " \n",
    "## QUESTIONS FOR YOU TO ANSWER IN THE ABOVE MANNER\n",
    "\n",
    "### Why did state I arise in the DFA?\n",
    "\n",
    "...Your answer in the above-style bulletted steps...\n",
    "\n",
    "### Why did state A1_I arise in the DFA?\n",
    "\n",
    "...Your answer in the above-style bulletted steps...\n",
    "\n",
    "\n",
    "### Why did F3_I_T1 arise?\n",
    "\n",
    "...Your answer in the above-style bulletted steps...\n",
    "\n",
    "\n",
    "### Explain in detail why A1_I went upon a '0' to F3_I_T1 (include all the E-closure steps)\n",
    "\n",
    "...Your answer in the above-style bulletted steps...\n",
    "\n",
    "\n",
    "### Why did F2_I arise?\n",
    "\n",
    "\n",
    "...Your answer in the above-style bulletted steps...\n"
   ]
  },
  {
   "cell_type": "markdown",
   "metadata": {},
   "source": [
    "# Problem 4 (AR): Studying NFA via Widgets \n",
    "\n",
    "Run the cells below. There are questions at the end."
   ]
  },
  {
   "cell_type": "code",
   "execution_count": 12,
   "metadata": {
    "run_control": {
     "frozen": false,
     "read_only": false
    }
   },
   "outputs": [
    {
     "name": "stdout",
     "output_type": "stream",
     "text": [
      "Help on function accepts_nfa in module jove.Def_NFA:\n",
      "\n",
      "accepts_nfa(N, s, chatty=False)\n",
      "    NFA acceptance.\n",
      "    Input : N : given NFA\n",
      "            s : given string\n",
      "            chatty : Boolean (prints accepting path,\n",
      "                     which is the state-sets encountered).\n",
      "\n"
     ]
    }
   ],
   "source": [
    "help(accepts_nfa)"
   ]
  },
  {
   "cell_type": "code",
   "execution_count": 13,
   "metadata": {
    "run_control": {
     "frozen": false,
     "read_only": false
    }
   },
   "outputs": [
    {
     "name": "stdout",
     "output_type": "stream",
     "text": [
      "States reached =  {'I'}\n",
      "States reached =  {'I', 'A1'}\n",
      "States reached =  {'F3', 'I', 'T1'}\n",
      "States reached =  {'I', 'F2'}\n",
      "States reached =  {'I', 'A1'}\n",
      "States reached =  {'F3', 'I', 'T1'}\n",
      "States reached =  {'I', 'F2'}\n",
      "NFA accepts '0100100' by reaching {'I', 'F2'}\n"
     ]
    },
    {
     "data": {
      "text/plain": [
       "True"
      ]
     },
     "execution_count": 13,
     "metadata": {},
     "output_type": "execute_result"
    }
   ],
   "source": [
    "accepts_nfa(NFAEnds10Eps0, \"0100100\", chatty=True)"
   ]
  },
  {
   "cell_type": "markdown",
   "metadata": {},
   "source": [
    "## Explain why 0100100 was actually accepted by {I,F2} ?\n",
    "\n",
    "### Two answers are required\n",
    "\n",
    "#### ANSWER-1\n",
    "\n",
    "... A one-sentence answer capturing which sets of NFA states become DFA's final states...\n",
    "\n",
    "#### ANSWER-2\n",
    "\n",
    "... Point out which tokens died. That is, consider the set of states {'A1','I'}. Did any one of these states, upon '0' (or a '1') result in an empty next set of states? Explain!"
   ]
  },
  {
   "cell_type": "markdown",
   "metadata": {
    "run_control": {
     "frozen": false,
     "read_only": false
    }
   },
   "source": [
    "# Setup to run NFA interactively via widgets\n",
    "\n",
    "We have three NFA to play with\n"
   ]
  },
  {
   "cell_type": "code",
   "execution_count": 14,
   "metadata": {
    "run_control": {
     "frozen": false,
     "read_only": false
    }
   },
   "outputs": [],
   "source": [
    "import ipywidgets as wdg\n",
    "def run_nfa_slider(N, s, n):\n",
    "    \"\"\"Run NFA N from N[\"Q0\"] (which is a set..) on substring s[0:n]\n",
    "    \"\"\"\n",
    "    S = N[\"Q0\"] \n",
    "    if (n > len(s)):\n",
    "        n = len(s)\n",
    "    print(\"string = \", s[0:n])\n",
    "    run_nfa(N, S, s[0:n], True)\n",
    "    \n",
    "def run_nfa_int(N1, N2, N3):\n",
    "    \"\"\"Run interactively from the given NFA .. from {q0} \n",
    "       on input string's substring\n",
    "       as picked by slider.\n",
    "    \"\"\"\n",
    "    inp = input(\"Please provide string: \")\n",
    "    wdg.interact(run_nfa_slider, N = {'N1': N1, 'N2': N2, 'N3': N3}, \n",
    "                 s = inp, n=(0,32))\n",
    "    \n",
    "def test_run_nfa_int(N1, N2, N3):\n",
    "    \"\"\"Test the interactive run of NFA.\n",
    "    \"\"\"\n",
    "    run_nfa_int(N1, N2, N3)\n",
    "\n",
    " "
   ]
  },
  {
   "cell_type": "markdown",
   "metadata": {
    "run_control": {
     "frozen": false,
     "read_only": false
    }
   },
   "source": [
    "### General plan\n",
    "\n",
    "Provide a string of 0's and 1's. Then you can use the pull-down to pick the NFA\n",
    "to test, and the slider to incrementally consume more of the input string\n",
    "\n",
    "## Answer where N1 reached upon feeding\n",
    "### s = 0100100100100100\n",
    "### slide \"n\" set to 12\n",
    "\n",
    "... Your answer ...\n",
    "\n",
    "### Answer for N2 for the same settings as above\n",
    "\n",
    "... Your answer ...\n",
    "\n",
    "### Answer for N3 for the same settings as above\n",
    "\n",
    "... Your answer ...\n",
    "\n",
    "\n"
   ]
  },
  {
   "cell_type": "code",
   "execution_count": 15,
   "metadata": {
    "run_control": {
     "frozen": false,
     "read_only": false
    }
   },
   "outputs": [
    {
     "name": "stdout",
     "output_type": "stream",
     "text": [
      "Please provide string: 0100100100100100\n"
     ]
    },
    {
     "data": {
      "application/vnd.jupyter.widget-view+json": {
       "model_id": "0309c3dc323e4912a71d5a4c796dac76",
       "version_major": 2,
       "version_minor": 0
      },
      "text/plain": [
       "interactive(children=(Dropdown(description='N', options={'N1': {'Q': {'I', 'S0', 'F'}, 'Sigma': {'0', '1'}, 'D…"
      ]
     },
     "metadata": {},
     "output_type": "display_data"
    }
   ],
   "source": [
    "test_run_nfa_int(nfaEnds10, nfaEps0, NFAEnds10Eps0)"
   ]
  },
  {
   "cell_type": "code",
   "execution_count": null,
   "metadata": {},
   "outputs": [],
   "source": []
  }
 ],
 "metadata": {
  "kernelspec": {
   "display_name": "Python 3",
   "language": "python",
   "name": "python3"
  },
  "language_info": {
   "codemirror_mode": {
    "name": "ipython",
    "version": 3
   },
   "file_extension": ".py",
   "mimetype": "text/x-python",
   "name": "python",
   "nbconvert_exporter": "python",
   "pygments_lexer": "ipython3",
   "version": "3.7.3"
  },
  "toc": {
   "colors": {
    "hover_highlight": "#DAA520",
    "running_highlight": "#FF0000",
    "selected_highlight": "#FFD700"
   },
   "moveMenuLeft": true,
   "nav_menu": {
    "height": "121px",
    "width": "252px"
   },
   "navigate_menu": true,
   "number_sections": true,
   "sideBar": true,
   "threshold": 4,
   "toc_cell": false,
   "toc_section_display": "block",
   "toc_window_display": false,
   "widenNotebook": false
  },
  "widgets": {
   "state": {
    "430c92ee02b34ec1912bf03c8de1e6dc": {
     "views": [
      {
       "cell_index": 20
      }
     ]
    }
   },
   "version": "1.2.0"
  }
 },
 "nbformat": 4,
 "nbformat_minor": 2
}
