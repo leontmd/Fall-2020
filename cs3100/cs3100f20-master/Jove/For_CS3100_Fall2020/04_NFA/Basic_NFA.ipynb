{
 "cells": [
  {
   "cell_type": "markdown",
   "metadata": {
    "run_control": {
     "frozen": false,
     "read_only": false
    }
   },
   "source": [
    "# Basics of NFA\n",
    "\n",
    "You may wish to watch my lecture on NFA a little, then play with the\n",
    "code below, and then finish watching."
   ]
  },
  {
   "cell_type": "code",
   "execution_count": null,
   "metadata": {
    "run_control": {
     "frozen": false,
     "read_only": false
    }
   },
   "outputs": [],
   "source": [
    "# This Youtube video walks through this notebook\n",
    "from IPython.display import YouTubeVideo\n",
    "YouTubeVideo('xjFtLF95uBc')"
   ]
  },
  {
   "cell_type": "code",
   "execution_count": 1,
   "metadata": {
    "run_control": {
     "frozen": false,
     "read_only": false
    }
   },
   "outputs": [
    {
     "name": "stdout",
     "output_type": "stream",
     "text": [
      "You may use any of these help commands:\n",
      "help(ResetStNum)\n",
      "help(NxtStateStr)\n",
      "\n",
      "You may use any of these help commands:\n",
      "help(md2mc)\n",
      ".. and if you want to dig more, then ..\n",
      "help(default_line_attr)\n",
      "help(length_ok_input_items)\n",
      "help(union_line_attr_list_fld)\n",
      "help(extend_rsltdict)\n",
      "help(form_delta)\n",
      "help(get_machine_components)\n",
      "\n",
      "You may use any of these help commands:\n",
      "help(mkp_dfa)\n",
      "help(mk_dfa)\n",
      "help(totalize_dfa)\n",
      "help(addtosigma_delta)\n",
      "help(step_dfa)\n",
      "help(run_dfa)\n",
      "help(accepts_dfa)\n",
      "help(comp_dfa)\n",
      "help(union_dfa)\n",
      "help(intersect_dfa)\n",
      "help(pruneUnreach)\n",
      "help(iso_dfa)\n",
      "help(langeq_dfa)\n",
      "help(same_status)\n",
      "help(h_langeq_dfa)\n",
      "help(fixptDist)\n",
      "help(min_dfa)\n",
      "help(pairFR)\n",
      "help(state_combos)\n",
      "help(sepFinNonFin)\n",
      "help(bash_eql_classes)\n",
      "help(listminus)\n",
      "help(bash_1)\n",
      "help(mk_rep_eqc)\n",
      "help(F_of)\n",
      "help(rep_of_s)\n",
      "help(q0_of)\n",
      "help(Delta_of)\n",
      "help(mk_state_eqc_name)\n",
      "\n",
      "You may use any of these help commands:\n",
      "help(mk_nfa)\n",
      "help(totalize_nfa)\n",
      "help(step_nfa)\n",
      "help(run_nfa)\n",
      "help(ec_step_nfa)\n",
      "help(Eclosure)\n",
      "help(Echelp)\n",
      "help(accepts_nfa)\n",
      "help(nfa2dfa)\n",
      "help(n2d)\n",
      "help(inSets)\n",
      "help(rev_dfa)\n",
      "help(min_dfa_brz)\n",
      "\n"
     ]
    }
   ],
   "source": [
    "#~~~~~~~~~~~~~~~~~~~~~~~~~~~~~~~~~~~~~~~~~~~~~~~~~~~~~~~\n",
    "import sys\n",
    "\n",
    "# -- Detect if in Own Install or in Colab\n",
    "try:\n",
    "    import google.colab\n",
    "    OWN_INSTALL = False\n",
    "except:\n",
    "    OWN_INSTALL = True\n",
    "    \n",
    "if OWN_INSTALL:\n",
    "    \n",
    "  #---- Leave these definitions ON if running on laptop\n",
    "  #---- Else turn OFF by putting them between ''' ... '''\n",
    "\n",
    "  sys.path[0:0] = ['../../../../..',  '../../../../../3rdparty',  \n",
    "                   '../../../..',  '../../../../3rdparty',  \n",
    "                   '../../..',     '../../../3rdparty', \n",
    "                   '../..',        '../../3rdparty',\n",
    "                   '..',           '../3rdparty' ]\n",
    "\n",
    "else: # In colab\n",
    "  ! if [ ! -d Jove ]; then git clone https://github.com/ganeshutah/Jove Jove; fi\n",
    "  sys.path.append('./Jove')\n",
    "  sys.path.append('./Jove/jove')\n",
    "\n",
    "# -- common imports --\n",
    "from jove.DotBashers import *\n",
    "from jove.Def_md2mc  import *\n",
    "from jove.Def_NFA    import *\n",
    "from jove.Def_DFA    import *\n",
    "from jove.AnimateNFA import *\n",
    "#~~~~~~~~~~~~~~~~~~~~~~~~~~~~~~~~~~~~~~~~~~~~~~~~~~~~~~~"
   ]
  },
  {
   "cell_type": "markdown",
   "metadata": {},
   "source": [
    "# This NFA checks whether a string has \"01\" in it"
   ]
  },
  {
   "cell_type": "code",
   "execution_count": 2,
   "metadata": {},
   "outputs": [],
   "source": [
    "nfahas01 = md2mc('''\n",
    "NFA \n",
    "I : 0 | 1 -> I\n",
    "I : '' -> A\n",
    "A : 0  -> B\n",
    "B : 1  -> C\n",
    "C : 0 | 1 -> C\n",
    "C : '' -> F\n",
    "''')"
   ]
  },
  {
   "cell_type": "markdown",
   "metadata": {},
   "source": [
    "## This example is highly worth studying via animations\n",
    "\n",
    "Put it in animate mode, and then single-step to see the EClosure of states"
   ]
  },
  {
   "cell_type": "code",
   "execution_count": 3,
   "metadata": {},
   "outputs": [
    {
     "data": {
      "application/vnd.jupyter.widget-view+json": {
       "model_id": "14345d9eefe849bab688e70c6f646a5c",
       "version_major": 2,
       "version_minor": 0
      },
      "text/plain": [
       "VBox(children=(HBox(children=(Text(value='', description='Input:', layout=Layout(width='500px'), placeholder='…"
      ]
     },
     "metadata": {},
     "output_type": "display_data"
    },
    {
     "data": {
      "text/html": [
       "<link rel=\"stylesheet\" href=\"//stackpath.bootstrapcdn.com/font-awesome/4.7.0/css/font-awesome.min.css\"/>"
      ],
      "text/plain": [
       "<IPython.core.display.HTML object>"
      ]
     },
     "metadata": {},
     "output_type": "display_data"
    }
   ],
   "source": [
    "AnimateNFA(nfahas01, FuseEdges=False)\n",
    "display(HTML('<link rel=\\\"stylesheet\\\" href=\\\"//stackpath.bootstrapcdn.com/font-awesome/4.7.0/css/font-awesome.min.css\\\"/>'))"
   ]
  },
  {
   "cell_type": "markdown",
   "metadata": {},
   "source": [
    "# This is an example from Figure 7.7 of the book\n",
    "\n",
    "I am choosing to type it in two different ways: one with a single initial state, and \n",
    "another with multiple initial states. Fig77 is the single initial state version, and\n",
    "Fig77a is with multiple initial states"
   ]
  },
  {
   "cell_type": "code",
   "execution_count": 4,
   "metadata": {},
   "outputs": [],
   "source": [
    "Fig77 = md2mc('''NFA\n",
    "I : '' -> A, G\n",
    "A : '' -> B, C\n",
    "G : 1  -> F\n",
    "B : 1  -> D\n",
    "C : 0  -> E\n",
    "D : '' -> A, G\n",
    "E : '' -> A, G\n",
    "''')"
   ]
  },
  {
   "cell_type": "code",
   "execution_count": 5,
   "metadata": {
    "scrolled": true
   },
   "outputs": [
    {
     "data": {
      "application/vnd.jupyter.widget-view+json": {
       "model_id": "16fd94e5da5e43ddb3781fb6589e0563",
       "version_major": 2,
       "version_minor": 0
      },
      "text/plain": [
       "VBox(children=(HBox(children=(Text(value='', description='Input:', layout=Layout(width='500px'), placeholder='…"
      ]
     },
     "metadata": {},
     "output_type": "display_data"
    },
    {
     "data": {
      "text/html": [
       "<link rel=\"stylesheet\" href=\"//stackpath.bootstrapcdn.com/font-awesome/4.7.0/css/font-awesome.min.css\"/>"
      ],
      "text/plain": [
       "<IPython.core.display.HTML object>"
      ]
     },
     "metadata": {},
     "output_type": "display_data"
    }
   ],
   "source": [
    "AnimateNFA(Fig77, FuseEdges=False)\n",
    "display(HTML('<link rel=\\\"stylesheet\\\" href=\\\"//stackpath.bootstrapcdn.com/font-awesome/4.7.0/css/font-awesome.min.css\\\"/>'))"
   ]
  },
  {
   "cell_type": "code",
   "execution_count": 6,
   "metadata": {},
   "outputs": [],
   "source": [
    "Fig77a = md2mc('''NFA\n",
    "IA : '' -> B, C\n",
    "IG : 1  -> F\n",
    "B : 1  -> D\n",
    "C : 0  -> E\n",
    "D : '' -> IA, IG\n",
    "E : '' -> IA, IG\n",
    "''')"
   ]
  },
  {
   "cell_type": "code",
   "execution_count": 7,
   "metadata": {},
   "outputs": [
    {
     "data": {
      "image/svg+xml": [
       "<?xml version=\"1.0\" encoding=\"UTF-8\" standalone=\"no\"?>\n",
       "<!DOCTYPE svg PUBLIC \"-//W3C//DTD SVG 1.1//EN\"\n",
       " \"http://www.w3.org/Graphics/SVG/1.1/DTD/svg11.dtd\">\n",
       "<!-- Generated by graphviz version 2.40.1 (20161225.0304)\n",
       " -->\n",
       "<!-- Title: %3 Pages: 1 -->\n",
       "<svg width=\"480pt\" height=\"211pt\"\n",
       " viewBox=\"0.00 0.00 479.59 211.00\" xmlns=\"http://www.w3.org/2000/svg\" xmlns:xlink=\"http://www.w3.org/1999/xlink\">\n",
       "<g id=\"graph0\" class=\"graph\" transform=\"scale(1 1) rotate(0) translate(4 207)\">\n",
       "<title>%3</title>\n",
       "<polygon fill=\"#ffffff\" stroke=\"transparent\" points=\"-4,4 -4,-207 475.5928,-207 475.5928,4 -4,4\"/>\n",
       "<!-- EMPTY -->\n",
       "<g id=\"node1\" class=\"node\">\n",
       "<title>EMPTY</title>\n",
       "</g>\n",
       "<!-- IA -->\n",
       "<g id=\"node2\" class=\"node\">\n",
       "<title>IA</title>\n",
       "<ellipse fill=\"none\" stroke=\"#000000\" cx=\"111.1482\" cy=\"-103\" rx=\"20.2975\" ry=\"20.2975\"/>\n",
       "<text text-anchor=\"middle\" x=\"111.1482\" y=\"-99.3\" font-family=\"Times,serif\" font-size=\"14.00\" fill=\"#000000\">IA</text>\n",
       "</g>\n",
       "<!-- EMPTY&#45;&gt;IA -->\n",
       "<g id=\"edge1\" class=\"edge\">\n",
       "<title>EMPTY&#45;&gt;IA</title>\n",
       "<path fill=\"none\" stroke=\"#000000\" d=\"M44.8457,-36.0263C57.953,-49.2663 75.8191,-67.3133 89.7029,-81.3376\"/>\n",
       "<polygon fill=\"#000000\" stroke=\"#000000\" points=\"87.4282,-84.0148 96.9509,-88.659 92.4029,-79.09 87.4282,-84.0148\"/>\n",
       "</g>\n",
       "<!-- IG -->\n",
       "<g id=\"node4\" class=\"node\">\n",
       "<title>IG</title>\n",
       "<ellipse fill=\"none\" stroke=\"#000000\" cx=\"360.4446\" cy=\"-69\" rx=\"20.2975\" ry=\"20.2975\"/>\n",
       "<text text-anchor=\"middle\" x=\"360.4446\" y=\"-65.3\" font-family=\"Times,serif\" font-size=\"14.00\" fill=\"#000000\">IG</text>\n",
       "</g>\n",
       "<!-- EMPTY&#45;&gt;IG -->\n",
       "<g id=\"edge2\" class=\"edge\">\n",
       "<title>EMPTY&#45;&gt;IG</title>\n",
       "<path fill=\"none\" stroke=\"#000000\" d=\"M54.1462,-12.1406C70.5644,-9.0945 91.9643,-6 111.1482,-6 111.1482,-6 111.1482,-6 277.2964,-6 303.8391,-6 327.2419,-26.6471 342.4009,-44.3013\"/>\n",
       "<polygon fill=\"#000000\" stroke=\"#000000\" points=\"339.7382,-46.5743 348.7674,-52.1172 345.1655,-42.1534 339.7382,-46.5743\"/>\n",
       "</g>\n",
       "<!-- C -->\n",
       "<g id=\"node5\" class=\"node\">\n",
       "<title>C</title>\n",
       "<ellipse fill=\"none\" stroke=\"#000000\" cx=\"194.2964\" cy=\"-157\" rx=\"18\" ry=\"18\"/>\n",
       "<text text-anchor=\"middle\" x=\"194.2964\" y=\"-153.3\" font-family=\"Times,serif\" font-size=\"14.00\" fill=\"#000000\">C</text>\n",
       "</g>\n",
       "<!-- IA&#45;&gt;C -->\n",
       "<g id=\"edge3\" class=\"edge\">\n",
       "<title>IA&#45;&gt;C</title>\n",
       "<path fill=\"none\" stroke=\"#000000\" d=\"M128.3766,-114.1888C140.5123,-122.0703 156.9212,-132.727 170.3316,-141.4362\"/>\n",
       "<polygon fill=\"#000000\" stroke=\"#000000\" points=\"168.7544,-144.5852 179.0473,-147.0965 172.567,-138.7146 168.7544,-144.5852\"/>\n",
       "<text text-anchor=\"middle\" x=\"153.7964\" y=\"-136.8\" font-family=\"Times,serif\" font-size=\"14.00\" fill=\"#000000\">&#39;&#39; </text>\n",
       "</g>\n",
       "<!-- B -->\n",
       "<g id=\"node7\" class=\"node\">\n",
       "<title>B</title>\n",
       "<ellipse fill=\"none\" stroke=\"#000000\" cx=\"194.2964\" cy=\"-103\" rx=\"18\" ry=\"18\"/>\n",
       "<text text-anchor=\"middle\" x=\"194.2964\" y=\"-99.3\" font-family=\"Times,serif\" font-size=\"14.00\" fill=\"#000000\">B</text>\n",
       "</g>\n",
       "<!-- IA&#45;&gt;B -->\n",
       "<g id=\"edge4\" class=\"edge\">\n",
       "<title>IA&#45;&gt;B</title>\n",
       "<path fill=\"none\" stroke=\"#000000\" d=\"M131.7017,-103C142.0518,-103 154.7606,-103 166.0165,-103\"/>\n",
       "<polygon fill=\"#000000\" stroke=\"#000000\" points=\"166.2385,-106.5001 176.2385,-103 166.2385,-99.5001 166.2385,-106.5001\"/>\n",
       "<text text-anchor=\"middle\" x=\"153.7964\" y=\"-106.8\" font-family=\"Times,serif\" font-size=\"14.00\" fill=\"#000000\">&#39;&#39; </text>\n",
       "</g>\n",
       "<!-- D -->\n",
       "<g id=\"node3\" class=\"node\">\n",
       "<title>D</title>\n",
       "<ellipse fill=\"none\" stroke=\"#000000\" cx=\"277.2964\" cy=\"-69\" rx=\"18\" ry=\"18\"/>\n",
       "<text text-anchor=\"middle\" x=\"277.2964\" y=\"-65.3\" font-family=\"Times,serif\" font-size=\"14.00\" fill=\"#000000\">D</text>\n",
       "</g>\n",
       "<!-- D&#45;&gt;IA -->\n",
       "<g id=\"edge8\" class=\"edge\">\n",
       "<title>D&#45;&gt;IA</title>\n",
       "<path fill=\"none\" stroke=\"#000000\" d=\"M259.7467,-63.8555C239.2825,-58.7077 204.6441,-52.6544 176.2964,-61 161.13,-65.4651 146.1631,-74.6775 134.4068,-83.3396\"/>\n",
       "<polygon fill=\"#000000\" stroke=\"#000000\" points=\"132.2359,-80.5939 126.4569,-89.4739 136.5122,-86.1359 132.2359,-80.5939\"/>\n",
       "<text text-anchor=\"middle\" x=\"194.2964\" y=\"-64.8\" font-family=\"Times,serif\" font-size=\"14.00\" fill=\"#000000\">&#39;&#39; </text>\n",
       "</g>\n",
       "<!-- D&#45;&gt;IG -->\n",
       "<g id=\"edge9\" class=\"edge\">\n",
       "<title>D&#45;&gt;IG</title>\n",
       "<path fill=\"none\" stroke=\"#000000\" d=\"M295.3383,-69C305.4312,-69 318.2831,-69 329.8974,-69\"/>\n",
       "<polygon fill=\"#000000\" stroke=\"#000000\" points=\"330.101,-72.5001 340.101,-69 330.1009,-65.5001 330.101,-72.5001\"/>\n",
       "<text text-anchor=\"middle\" x=\"317.7964\" y=\"-72.8\" font-family=\"Times,serif\" font-size=\"14.00\" fill=\"#000000\">&#39;&#39; </text>\n",
       "</g>\n",
       "<!-- F -->\n",
       "<g id=\"node8\" class=\"node\">\n",
       "<title>F</title>\n",
       "<ellipse fill=\"none\" stroke=\"#000000\" cx=\"449.5928\" cy=\"-69\" rx=\"18\" ry=\"18\"/>\n",
       "<ellipse fill=\"none\" stroke=\"#000000\" cx=\"449.5928\" cy=\"-69\" rx=\"22\" ry=\"22\"/>\n",
       "<text text-anchor=\"middle\" x=\"449.5928\" y=\"-65.3\" font-family=\"Times,serif\" font-size=\"14.00\" fill=\"#000000\">F</text>\n",
       "</g>\n",
       "<!-- IG&#45;&gt;F -->\n",
       "<g id=\"edge5\" class=\"edge\">\n",
       "<title>IG&#45;&gt;F</title>\n",
       "<path fill=\"none\" stroke=\"#000000\" d=\"M380.6737,-69C391.4811,-69 405.0428,-69 417.2708,-69\"/>\n",
       "<polygon fill=\"#000000\" stroke=\"#000000\" points=\"417.5705,-72.5001 427.5705,-69 417.5705,-65.5001 417.5705,-72.5001\"/>\n",
       "<text text-anchor=\"middle\" x=\"404.0928\" y=\"-72.8\" font-family=\"Times,serif\" font-size=\"14.00\" fill=\"#000000\">1 </text>\n",
       "</g>\n",
       "<!-- E -->\n",
       "<g id=\"node6\" class=\"node\">\n",
       "<title>E</title>\n",
       "<ellipse fill=\"none\" stroke=\"#000000\" cx=\"277.2964\" cy=\"-157\" rx=\"18\" ry=\"18\"/>\n",
       "<text text-anchor=\"middle\" x=\"277.2964\" y=\"-153.3\" font-family=\"Times,serif\" font-size=\"14.00\" fill=\"#000000\">E</text>\n",
       "</g>\n",
       "<!-- C&#45;&gt;E -->\n",
       "<g id=\"edge7\" class=\"edge\">\n",
       "<title>C&#45;&gt;E</title>\n",
       "<path fill=\"none\" stroke=\"#000000\" d=\"M212.3062,-157C223.0001,-157 236.797,-157 248.9258,-157\"/>\n",
       "<polygon fill=\"#000000\" stroke=\"#000000\" points=\"249.0352,-160.5001 259.0352,-157 249.0352,-153.5001 249.0352,-160.5001\"/>\n",
       "<text text-anchor=\"middle\" x=\"235.7964\" y=\"-160.8\" font-family=\"Times,serif\" font-size=\"14.00\" fill=\"#000000\">0 </text>\n",
       "</g>\n",
       "<!-- E&#45;&gt;IA -->\n",
       "<g id=\"edge10\" class=\"edge\">\n",
       "<title>E&#45;&gt;IA</title>\n",
       "<path fill=\"none\" stroke=\"#000000\" d=\"M262.3585,-167.2059C242.1411,-179.6514 205.2666,-197.461 176.2964,-184 152.9491,-173.1516 135.392,-149.241 124.422,-130.1947\"/>\n",
       "<polygon fill=\"#000000\" stroke=\"#000000\" points=\"127.4358,-128.4111 119.5693,-121.314 121.2931,-131.7677 127.4358,-128.4111\"/>\n",
       "<text text-anchor=\"middle\" x=\"194.2964\" y=\"-191.8\" font-family=\"Times,serif\" font-size=\"14.00\" fill=\"#000000\">&#39;&#39; </text>\n",
       "</g>\n",
       "<!-- E&#45;&gt;IG -->\n",
       "<g id=\"edge11\" class=\"edge\">\n",
       "<title>E&#45;&gt;IG</title>\n",
       "<path fill=\"none\" stroke=\"#000000\" d=\"M289.9248,-143.6347C303.0429,-129.7512 323.794,-107.7892 339.3963,-91.2765\"/>\n",
       "<polygon fill=\"#000000\" stroke=\"#000000\" points=\"342.2621,-93.3397 346.586,-83.6673 337.1741,-88.5322 342.2621,-93.3397\"/>\n",
       "<text text-anchor=\"middle\" x=\"317.7964\" y=\"-121.8\" font-family=\"Times,serif\" font-size=\"14.00\" fill=\"#000000\">&#39;&#39; </text>\n",
       "</g>\n",
       "<!-- B&#45;&gt;D -->\n",
       "<g id=\"edge6\" class=\"edge\">\n",
       "<title>B&#45;&gt;D</title>\n",
       "<path fill=\"none\" stroke=\"#000000\" d=\"M211.0927,-96.1196C222.5678,-91.4189 238.0049,-85.0953 251.0859,-79.7368\"/>\n",
       "<polygon fill=\"#000000\" stroke=\"#000000\" points=\"252.5982,-82.8997 260.5251,-75.8702 249.9447,-76.4221 252.5982,-82.8997\"/>\n",
       "<text text-anchor=\"middle\" x=\"235.7964\" y=\"-91.8\" font-family=\"Times,serif\" font-size=\"14.00\" fill=\"#000000\">1 </text>\n",
       "</g>\n",
       "</g>\n",
       "</svg>\n"
      ],
      "text/plain": [
       "<graphviz.dot.Digraph at 0x110e0f438>"
      ]
     },
     "execution_count": 7,
     "metadata": {},
     "output_type": "execute_result"
    }
   ],
   "source": [
    "dotObj_nfa(Fig77a)"
   ]
  },
  {
   "cell_type": "code",
   "execution_count": 8,
   "metadata": {},
   "outputs": [
    {
     "data": {
      "image/svg+xml": [
       "<?xml version=\"1.0\" encoding=\"UTF-8\" standalone=\"no\"?>\n",
       "<!DOCTYPE svg PUBLIC \"-//W3C//DTD SVG 1.1//EN\"\n",
       " \"http://www.w3.org/Graphics/SVG/1.1/DTD/svg11.dtd\">\n",
       "<!-- Generated by graphviz version 2.40.1 (20161225.0304)\n",
       " -->\n",
       "<!-- Title: %3 Pages: 1 -->\n",
       "<svg width=\"597pt\" height=\"246pt\"\n",
       " viewBox=\"0.00 0.00 597.46 245.54\" xmlns=\"http://www.w3.org/2000/svg\" xmlns:xlink=\"http://www.w3.org/1999/xlink\">\n",
       "<g id=\"graph0\" class=\"graph\" transform=\"scale(1 1) rotate(0) translate(4 241.5392)\">\n",
       "<title>%3</title>\n",
       "<polygon fill=\"#ffffff\" stroke=\"transparent\" points=\"-4,4 -4,-241.5392 593.4648,-241.5392 593.4648,4 -4,4\"/>\n",
       "<!-- EMPTY -->\n",
       "<g id=\"node1\" class=\"node\">\n",
       "<title>EMPTY</title>\n",
       "</g>\n",
       "<!-- B_C_IA_IG -->\n",
       "<g id=\"node2\" class=\"node\">\n",
       "<title>B_C_IA_IG</title>\n",
       "<ellipse fill=\"none\" stroke=\"#000000\" cx=\"146.895\" cy=\"-55.895\" rx=\"55.7903\" ry=\"55.7903\"/>\n",
       "<text text-anchor=\"middle\" x=\"146.895\" y=\"-52.195\" font-family=\"Times,serif\" font-size=\"14.00\" fill=\"#000000\">B_C_IA_IG</text>\n",
       "</g>\n",
       "<!-- EMPTY&#45;&gt;B_C_IA_IG -->\n",
       "<g id=\"edge1\" class=\"edge\">\n",
       "<title>EMPTY&#45;&gt;B_C_IA_IG</title>\n",
       "<path fill=\"none\" stroke=\"#000000\" d=\"M54.206,-55.895C62.2226,-55.895 71.3661,-55.895 80.7139,-55.895\"/>\n",
       "<polygon fill=\"#000000\" stroke=\"#000000\" points=\"80.8939,-59.3951 90.8939,-55.895 80.8938,-52.3951 80.8939,-59.3951\"/>\n",
       "</g>\n",
       "<!-- B_C_E_IA_IG -->\n",
       "<g id=\"node3\" class=\"node\">\n",
       "<title>B_C_E_IA_IG</title>\n",
       "<ellipse fill=\"none\" stroke=\"#000000\" cx=\"315.4343\" cy=\"-138.895\" rx=\"65.7887\" ry=\"65.7887\"/>\n",
       "<text text-anchor=\"middle\" x=\"315.4343\" y=\"-135.195\" font-family=\"Times,serif\" font-size=\"14.00\" fill=\"#000000\">B_C_E_IA_IG</text>\n",
       "</g>\n",
       "<!-- B_C_IA_IG&#45;&gt;B_C_E_IA_IG -->\n",
       "<g id=\"edge2\" class=\"edge\">\n",
       "<title>B_C_IA_IG&#45;&gt;B_C_E_IA_IG</title>\n",
       "<path fill=\"none\" stroke=\"#000000\" d=\"M197.4624,-80.7978C213.0883,-88.493 230.5653,-97.0999 247.1799,-105.282\"/>\n",
       "<polygon fill=\"#000000\" stroke=\"#000000\" points=\"245.7868,-108.4973 256.3043,-109.7755 248.8795,-102.2175 245.7868,-108.4973\"/>\n",
       "<text text-anchor=\"middle\" x=\"226.2901\" y=\"-101.695\" font-family=\"Times,serif\" font-size=\"14.00\" fill=\"#000000\">0 </text>\n",
       "</g>\n",
       "<!-- B_C_D_F_IA_IG -->\n",
       "<g id=\"node4\" class=\"node\">\n",
       "<title>B_C_D_F_IA_IG</title>\n",
       "<ellipse fill=\"none\" stroke=\"#000000\" cx=\"508.7716\" cy=\"-100.895\" rx=\"76.8773\" ry=\"76.8773\"/>\n",
       "<ellipse fill=\"none\" stroke=\"#000000\" cx=\"508.7716\" cy=\"-100.895\" rx=\"80.8869\" ry=\"80.8869\"/>\n",
       "<text text-anchor=\"middle\" x=\"508.7716\" y=\"-97.195\" font-family=\"Times,serif\" font-size=\"14.00\" fill=\"#000000\">B_C_D_F_IA_IG</text>\n",
       "</g>\n",
       "<!-- B_C_IA_IG&#45;&gt;B_C_D_F_IA_IG -->\n",
       "<g id=\"edge3\" class=\"edge\">\n",
       "<title>B_C_IA_IG&#45;&gt;B_C_D_F_IA_IG</title>\n",
       "<path fill=\"none\" stroke=\"#000000\" d=\"M202.3469,-47.3719C250.1583,-41.649 320.8038,-37.0929 381.0784,-48.895 396.1087,-51.8381 411.6026,-56.5584 426.3895,-61.9836\"/>\n",
       "<polygon fill=\"#000000\" stroke=\"#000000\" points=\"425.4015,-65.3525 435.9925,-65.639 427.8918,-58.8104 425.4015,-65.3525\"/>\n",
       "<text text-anchor=\"middle\" x=\"315.4343\" y=\"-52.695\" font-family=\"Times,serif\" font-size=\"14.00\" fill=\"#000000\">1 </text>\n",
       "</g>\n",
       "<!-- B_C_E_IA_IG&#45;&gt;B_C_E_IA_IG -->\n",
       "<g id=\"edge4\" class=\"edge\">\n",
       "<title>B_C_E_IA_IG&#45;&gt;B_C_E_IA_IG</title>\n",
       "<path fill=\"none\" stroke=\"#000000\" d=\"M299.8406,-202.7163C301.8145,-214.3674 307.0124,-222.5392 315.4343,-222.5392 321.2243,-222.5392 325.4905,-218.6768 328.2328,-212.4767\"/>\n",
       "<polygon fill=\"#000000\" stroke=\"#000000\" points=\"331.6396,-213.2934 331.0279,-202.7163 324.9101,-211.3663 331.6396,-213.2934\"/>\n",
       "<text text-anchor=\"middle\" x=\"315.4343\" y=\"-226.3392\" font-family=\"Times,serif\" font-size=\"14.00\" fill=\"#000000\">0 </text>\n",
       "</g>\n",
       "<!-- B_C_E_IA_IG&#45;&gt;B_C_D_F_IA_IG -->\n",
       "<g id=\"edge5\" class=\"edge\">\n",
       "<title>B_C_E_IA_IG&#45;&gt;B_C_D_F_IA_IG</title>\n",
       "<path fill=\"none\" stroke=\"#000000\" d=\"M380.0816,-126.1888C392.6782,-123.7129 406.0926,-121.0763 419.3256,-118.4755\"/>\n",
       "<polygon fill=\"#000000\" stroke=\"#000000\" points=\"420.2557,-121.8597 429.3929,-116.4967 418.9056,-114.9911 420.2557,-121.8597\"/>\n",
       "<text text-anchor=\"middle\" x=\"404.5784\" y=\"-126.695\" font-family=\"Times,serif\" font-size=\"14.00\" fill=\"#000000\">1 </text>\n",
       "</g>\n",
       "<!-- B_C_D_F_IA_IG&#45;&gt;B_C_E_IA_IG -->\n",
       "<g id=\"edge6\" class=\"edge\">\n",
       "<title>B_C_D_F_IA_IG&#45;&gt;B_C_E_IA_IG</title>\n",
       "<path fill=\"none\" stroke=\"#000000\" d=\"M428.0819,-98.7973C418.2457,-99.5888 408.3881,-100.8881 399.0784,-102.895 394.3069,-103.9237 389.4696,-105.2279 384.6519,-106.7261\"/>\n",
       "<polygon fill=\"#000000\" stroke=\"#000000\" points=\"383.1717,-103.5318 374.8177,-110.0481 385.4119,-110.1637 383.1717,-103.5318\"/>\n",
       "<text text-anchor=\"middle\" x=\"404.5784\" y=\"-106.695\" font-family=\"Times,serif\" font-size=\"14.00\" fill=\"#000000\">0 </text>\n",
       "</g>\n",
       "<!-- B_C_D_F_IA_IG&#45;&gt;B_C_D_F_IA_IG -->\n",
       "<g id=\"edge7\" class=\"edge\">\n",
       "<title>B_C_D_F_IA_IG&#45;&gt;B_C_D_F_IA_IG</title>\n",
       "<path fill=\"none\" stroke=\"#000000\" d=\"M491.0819,-179.8782C493.836,-191.6359 499.7326,-199.5882 508.7716,-199.5882 514.986,-199.5882 519.715,-195.8295 522.9587,-189.6596\"/>\n",
       "<polygon fill=\"#000000\" stroke=\"#000000\" points=\"526.3852,-190.4728 526.4614,-179.8782 519.7949,-188.1128 526.3852,-190.4728\"/>\n",
       "<text text-anchor=\"middle\" x=\"508.7716\" y=\"-203.3882\" font-family=\"Times,serif\" font-size=\"14.00\" fill=\"#000000\">1 </text>\n",
       "</g>\n",
       "</g>\n",
       "</svg>\n"
      ],
      "text/plain": [
       "<graphviz.dot.Digraph at 0x110e0f7f0>"
      ]
     },
     "execution_count": 8,
     "metadata": {},
     "output_type": "execute_result"
    }
   ],
   "source": [
    "dotObj_dfa(nfa2dfa(Fig77a, STATENAME_MAXSIZE=50), STATENAME_MAXSIZE=50)"
   ]
  },
  {
   "cell_type": "code",
   "execution_count": 9,
   "metadata": {
    "run_control": {
     "frozen": false,
     "read_only": false
    }
   },
   "outputs": [],
   "source": [
    "# Our automd markdown works for NFA also. Here is the NFA for\n",
    "# the language \"ends in 0101\"\n",
    "\n",
    "NFA_ends0101 = md2mc(''' \n",
    "!!---------------------------------------------------------------------------\n",
    "!! This NFA looks for patterns of the form \n",
    "!!\n",
    "!!     ......<some 0's and 1's>.....0101\n",
    "!!\n",
    "!! i.e., all strings that end in 0101.\n",
    "!!\n",
    "!! This example (over and above thirdlastis1.nfa) also illustrates\n",
    "!! the power of nondeterminism. Anytime we see a 0 from state I, we\n",
    "!! can have the NFA speculate that it is seeing the beginning of a\n",
    "!! 0101 pattern! If the NFA fails in its guess, it pays no price\n",
    "!! (because another guess is soon coming from behind).\n",
    "!!\n",
    "!! * We take 4 states in the NFA solution. The DFA solution takes\n",
    "!!   5 states.\n",
    "!!\n",
    "!! * This shows how burden is shifted from the\n",
    "!!   human to the computer doing the NFA simulation.\n",
    "!!   Even though the savings in states is not dramatic,\n",
    "!!   the effort to build this NFA is much lower than building\n",
    "!!   the corresponding DFA.\n",
    "!! \n",
    "!!-----------------------------------------------------------------\n",
    "!! For NFA, each line can be as follows:\n",
    "!!\n",
    "!! State : in1 | in2 ...  ->  COmma, Separated, State, List  !! comment\n",
    "!!-----------------------------------------------------------------\n",
    "\n",
    "NFA\n",
    "\n",
    "I    : 1   -> I      !! I goes to I upon 1\n",
    "\n",
    "I    : 0   -> S0, I  !! I goes to S0 and I upon 0\n",
    "\n",
    "S0   : 1   -> S01    !! S0 goes to S01 upon 1\n",
    "\n",
    "S01  : 0   -> S010   !! S01 goes to S010 upon 0\n",
    "\n",
    "S010 : 1   -> F      !! S010 goes to F upon F\n",
    "\n",
    "!!---\n",
    "''')"
   ]
  },
  {
   "cell_type": "code",
   "execution_count": 10,
   "metadata": {
    "run_control": {
     "frozen": false,
     "read_only": false
    }
   },
   "outputs": [
    {
     "data": {
      "text/plain": [
       "{'Q': {'F', 'I', 'S0', 'S01', 'S010'},\n",
       " 'Sigma': {'0', '1'},\n",
       " 'Delta': {('I', '1'): {'I'},\n",
       "  ('I', '0'): {'I', 'S0'},\n",
       "  ('S0', '1'): {'S01'},\n",
       "  ('S01', '0'): {'S010'},\n",
       "  ('S010', '1'): {'F'}},\n",
       " 'Q0': {'I'},\n",
       " 'F': {'F'}}"
      ]
     },
     "execution_count": 10,
     "metadata": {},
     "output_type": "execute_result"
    }
   ],
   "source": [
    "# Now let us see the dict version of the NFA\n",
    "NFA_ends0101 "
   ]
  },
  {
   "cell_type": "code",
   "execution_count": 11,
   "metadata": {
    "run_control": {
     "frozen": false,
     "read_only": false
    }
   },
   "outputs": [
    {
     "data": {
      "image/svg+xml": [
       "<?xml version=\"1.0\" encoding=\"UTF-8\" standalone=\"no\"?>\n",
       "<!DOCTYPE svg PUBLIC \"-//W3C//DTD SVG 1.1//EN\"\n",
       " \"http://www.w3.org/Graphics/SVG/1.1/DTD/svg11.dtd\">\n",
       "<!-- Generated by graphviz version 2.40.1 (20161225.0304)\n",
       " -->\n",
       "<!-- Title: %3 Pages: 1 -->\n",
       "<svg width=\"515pt\" height=\"121pt\"\n",
       " viewBox=\"0.00 0.00 515.19 121.25\" xmlns=\"http://www.w3.org/2000/svg\" xmlns:xlink=\"http://www.w3.org/1999/xlink\">\n",
       "<g id=\"graph0\" class=\"graph\" transform=\"scale(1 1) rotate(0) translate(4 117.2474)\">\n",
       "<title>%3</title>\n",
       "<polygon fill=\"#ffffff\" stroke=\"transparent\" points=\"-4,4 -4,-117.2474 511.1869,-117.2474 511.1869,4 -4,4\"/>\n",
       "<!-- EMPTY -->\n",
       "<g id=\"node1\" class=\"node\">\n",
       "<title>EMPTY</title>\n",
       "</g>\n",
       "<!-- I -->\n",
       "<g id=\"node5\" class=\"node\">\n",
       "<title>I</title>\n",
       "<ellipse fill=\"none\" stroke=\"#000000\" cx=\"109\" cy=\"-29.2474\" rx=\"18\" ry=\"18\"/>\n",
       "<text text-anchor=\"middle\" x=\"109\" y=\"-25.5474\" font-family=\"Times,serif\" font-size=\"14.00\" fill=\"#000000\">I</text>\n",
       "</g>\n",
       "<!-- EMPTY&#45;&gt;I -->\n",
       "<g id=\"edge1\" class=\"edge\">\n",
       "<title>EMPTY&#45;&gt;I</title>\n",
       "<path fill=\"none\" stroke=\"#000000\" d=\"M54.3048,-29.2474C62.6909,-29.2474 71.9407,-29.2474 80.4103,-29.2474\"/>\n",
       "<polygon fill=\"#000000\" stroke=\"#000000\" points=\"80.5976,-32.7475 90.5976,-29.2474 80.5976,-25.7475 80.5976,-32.7475\"/>\n",
       "</g>\n",
       "<!-- S0 -->\n",
       "<g id=\"node2\" class=\"node\">\n",
       "<title>S0</title>\n",
       "<ellipse fill=\"none\" stroke=\"#000000\" cx=\"194.1482\" cy=\"-29.2474\" rx=\"20.2975\" ry=\"20.2975\"/>\n",
       "<text text-anchor=\"middle\" x=\"194.1482\" y=\"-25.5474\" font-family=\"Times,serif\" font-size=\"14.00\" fill=\"#000000\">S0</text>\n",
       "</g>\n",
       "<!-- S01 -->\n",
       "<g id=\"node3\" class=\"node\">\n",
       "<title>S01</title>\n",
       "<ellipse fill=\"none\" stroke=\"#000000\" cx=\"285.9942\" cy=\"-29.2474\" rx=\"24.8972\" ry=\"24.8972\"/>\n",
       "<text text-anchor=\"middle\" x=\"285.9942\" y=\"-25.5474\" font-family=\"Times,serif\" font-size=\"14.00\" fill=\"#000000\">S01</text>\n",
       "</g>\n",
       "<!-- S0&#45;&gt;S01 -->\n",
       "<g id=\"edge5\" class=\"edge\">\n",
       "<title>S0&#45;&gt;S01</title>\n",
       "<path fill=\"none\" stroke=\"#000000\" d=\"M214.5318,-29.2474C225.2667,-29.2474 238.7317,-29.2474 251.0709,-29.2474\"/>\n",
       "<polygon fill=\"#000000\" stroke=\"#000000\" points=\"251.0864,-32.7475 261.0864,-29.2474 251.0864,-25.7475 251.0864,-32.7475\"/>\n",
       "<text text-anchor=\"middle\" x=\"237.7964\" y=\"-33.0474\" font-family=\"Times,serif\" font-size=\"14.00\" fill=\"#000000\">1 </text>\n",
       "</g>\n",
       "<!-- S010 -->\n",
       "<g id=\"node4\" class=\"node\">\n",
       "<title>S010</title>\n",
       "<ellipse fill=\"none\" stroke=\"#000000\" cx=\"386.9394\" cy=\"-29.2474\" rx=\"29.4969\" ry=\"29.4969\"/>\n",
       "<text text-anchor=\"middle\" x=\"386.9394\" y=\"-25.5474\" font-family=\"Times,serif\" font-size=\"14.00\" fill=\"#000000\">S010</text>\n",
       "</g>\n",
       "<!-- S01&#45;&gt;S010 -->\n",
       "<g id=\"edge6\" class=\"edge\">\n",
       "<title>S01&#45;&gt;S010</title>\n",
       "<path fill=\"none\" stroke=\"#000000\" d=\"M310.947,-29.2474C321.9853,-29.2474 335.2335,-29.2474 347.5543,-29.2474\"/>\n",
       "<polygon fill=\"#000000\" stroke=\"#000000\" points=\"347.6169,-32.7475 357.6169,-29.2474 347.6169,-25.7475 347.6169,-32.7475\"/>\n",
       "<text text-anchor=\"middle\" x=\"334.192\" y=\"-33.0474\" font-family=\"Times,serif\" font-size=\"14.00\" fill=\"#000000\">0 </text>\n",
       "</g>\n",
       "<!-- F -->\n",
       "<g id=\"node6\" class=\"node\">\n",
       "<title>F</title>\n",
       "<ellipse fill=\"none\" stroke=\"#000000\" cx=\"485.1869\" cy=\"-29.2474\" rx=\"18\" ry=\"18\"/>\n",
       "<ellipse fill=\"none\" stroke=\"#000000\" cx=\"485.1869\" cy=\"-29.2474\" rx=\"22\" ry=\"22\"/>\n",
       "<text text-anchor=\"middle\" x=\"485.1869\" y=\"-25.5474\" font-family=\"Times,serif\" font-size=\"14.00\" fill=\"#000000\">F</text>\n",
       "</g>\n",
       "<!-- S010&#45;&gt;F -->\n",
       "<g id=\"edge7\" class=\"edge\">\n",
       "<title>S010&#45;&gt;F</title>\n",
       "<path fill=\"none\" stroke=\"#000000\" d=\"M416.4169,-29.2474C427.8415,-29.2474 440.9634,-29.2474 452.662,-29.2474\"/>\n",
       "<polygon fill=\"#000000\" stroke=\"#000000\" points=\"452.9161,-32.7475 462.916,-29.2474 452.916,-25.7475 452.9161,-32.7475\"/>\n",
       "<text text-anchor=\"middle\" x=\"439.6869\" y=\"-33.0474\" font-family=\"Times,serif\" font-size=\"14.00\" fill=\"#000000\">1 </text>\n",
       "</g>\n",
       "<!-- I&#45;&gt;S0 -->\n",
       "<g id=\"edge3\" class=\"edge\">\n",
       "<title>I&#45;&gt;S0</title>\n",
       "<path fill=\"none\" stroke=\"#000000\" d=\"M127.0577,-29.2474C137.6298,-29.2474 151.2613,-29.2474 163.4728,-29.2474\"/>\n",
       "<polygon fill=\"#000000\" stroke=\"#000000\" points=\"163.7261,-32.7475 173.726,-29.2474 163.726,-25.7475 163.7261,-32.7475\"/>\n",
       "<text text-anchor=\"middle\" x=\"150.5\" y=\"-33.0474\" font-family=\"Times,serif\" font-size=\"14.00\" fill=\"#000000\">0 </text>\n",
       "</g>\n",
       "<!-- I&#45;&gt;I -->\n",
       "<g id=\"edge2\" class=\"edge\">\n",
       "<title>I&#45;&gt;I</title>\n",
       "<path fill=\"none\" stroke=\"#000000\" d=\"M105.7643,-47.0291C105.2144,-56.5623 106.293,-65.2474 109,-65.2474 110.6496,-65.2474 111.6945,-62.0223 112.1347,-57.3455\"/>\n",
       "<polygon fill=\"#000000\" stroke=\"#000000\" points=\"115.6375,-57.063 112.2357,-47.0291 108.6379,-56.9943 115.6375,-57.063\"/>\n",
       "<text text-anchor=\"middle\" x=\"109\" y=\"-69.0474\" font-family=\"Times,serif\" font-size=\"14.00\" fill=\"#000000\">1 </text>\n",
       "</g>\n",
       "<!-- I&#45;&gt;I -->\n",
       "<g id=\"edge4\" class=\"edge\">\n",
       "<title>I&#45;&gt;I</title>\n",
       "<path fill=\"none\" stroke=\"#000000\" d=\"M103.6841,-46.6677C100.6538,-64.0384 102.4258,-83.2474 109,-83.2474 114.2902,-83.2474 116.4708,-70.8091 115.5419,-56.8994\"/>\n",
       "<polygon fill=\"#000000\" stroke=\"#000000\" points=\"118.9808,-56.1802 114.3159,-46.6677 112.0305,-57.0131 118.9808,-56.1802\"/>\n",
       "<text text-anchor=\"middle\" x=\"109\" y=\"-87.0474\" font-family=\"Times,serif\" font-size=\"14.00\" fill=\"#000000\">0 </text>\n",
       "</g>\n",
       "</g>\n",
       "</svg>\n"
      ],
      "text/plain": [
       "<graphviz.dot.Digraph at 0x110e0fb70>"
      ]
     },
     "execution_count": 11,
     "metadata": {},
     "output_type": "execute_result"
    }
   ],
   "source": [
    "# Let's see the drawing of this NFA\n",
    "\n",
    "dotObj_nfa(NFA_ends0101)  "
   ]
  },
  {
   "cell_type": "code",
   "execution_count": 13,
   "metadata": {
    "run_control": {
     "frozen": false,
     "read_only": false
    }
   },
   "outputs": [
    {
     "data": {
      "image/svg+xml": [
       "<?xml version=\"1.0\" encoding=\"UTF-8\" standalone=\"no\"?>\n",
       "<!DOCTYPE svg PUBLIC \"-//W3C//DTD SVG 1.1//EN\"\n",
       " \"http://www.w3.org/Graphics/SVG/1.1/DTD/svg11.dtd\">\n",
       "<!-- Generated by graphviz version 2.40.1 (20161225.0304)\n",
       " -->\n",
       "<!-- Title: %3 Pages: 1 -->\n",
       "<svg width=\"515pt\" height=\"103pt\"\n",
       " viewBox=\"0.00 0.00 515.19 103.25\" xmlns=\"http://www.w3.org/2000/svg\" xmlns:xlink=\"http://www.w3.org/1999/xlink\">\n",
       "<g id=\"graph0\" class=\"graph\" transform=\"scale(1 1) rotate(0) translate(4 99.2474)\">\n",
       "<title>%3</title>\n",
       "<polygon fill=\"#ffffff\" stroke=\"transparent\" points=\"-4,4 -4,-99.2474 511.1869,-99.2474 511.1869,4 -4,4\"/>\n",
       "<!-- EMPTY -->\n",
       "<g id=\"node1\" class=\"node\">\n",
       "<title>EMPTY</title>\n",
       "</g>\n",
       "<!-- I -->\n",
       "<g id=\"node5\" class=\"node\">\n",
       "<title>I</title>\n",
       "<ellipse fill=\"none\" stroke=\"#000000\" cx=\"109\" cy=\"-29.2474\" rx=\"18\" ry=\"18\"/>\n",
       "<text text-anchor=\"middle\" x=\"109\" y=\"-25.5474\" font-family=\"Times,serif\" font-size=\"14.00\" fill=\"#000000\">I</text>\n",
       "</g>\n",
       "<!-- EMPTY&#45;&gt;I -->\n",
       "<g id=\"edge1\" class=\"edge\">\n",
       "<title>EMPTY&#45;&gt;I</title>\n",
       "<path fill=\"none\" stroke=\"#000000\" d=\"M54.3048,-29.2474C62.6909,-29.2474 71.9407,-29.2474 80.4103,-29.2474\"/>\n",
       "<polygon fill=\"#000000\" stroke=\"#000000\" points=\"80.5976,-32.7475 90.5976,-29.2474 80.5976,-25.7475 80.5976,-32.7475\"/>\n",
       "</g>\n",
       "<!-- S0 -->\n",
       "<g id=\"node2\" class=\"node\">\n",
       "<title>S0</title>\n",
       "<ellipse fill=\"none\" stroke=\"#000000\" cx=\"194.1482\" cy=\"-29.2474\" rx=\"20.2975\" ry=\"20.2975\"/>\n",
       "<text text-anchor=\"middle\" x=\"194.1482\" y=\"-25.5474\" font-family=\"Times,serif\" font-size=\"14.00\" fill=\"#000000\">S0</text>\n",
       "</g>\n",
       "<!-- S01 -->\n",
       "<g id=\"node3\" class=\"node\">\n",
       "<title>S01</title>\n",
       "<ellipse fill=\"none\" stroke=\"#000000\" cx=\"285.9942\" cy=\"-29.2474\" rx=\"24.8972\" ry=\"24.8972\"/>\n",
       "<text text-anchor=\"middle\" x=\"285.9942\" y=\"-25.5474\" font-family=\"Times,serif\" font-size=\"14.00\" fill=\"#000000\">S01</text>\n",
       "</g>\n",
       "<!-- S0&#45;&gt;S01 -->\n",
       "<g id=\"edge4\" class=\"edge\">\n",
       "<title>S0&#45;&gt;S01</title>\n",
       "<path fill=\"none\" stroke=\"#000000\" d=\"M214.5318,-29.2474C225.2667,-29.2474 238.7317,-29.2474 251.0709,-29.2474\"/>\n",
       "<polygon fill=\"#000000\" stroke=\"#000000\" points=\"251.0864,-32.7475 261.0864,-29.2474 251.0864,-25.7475 251.0864,-32.7475\"/>\n",
       "<text text-anchor=\"middle\" x=\"237.7964\" y=\"-33.0474\" font-family=\"Times,serif\" font-size=\"14.00\" fill=\"#000000\">1 </text>\n",
       "</g>\n",
       "<!-- S010 -->\n",
       "<g id=\"node4\" class=\"node\">\n",
       "<title>S010</title>\n",
       "<ellipse fill=\"none\" stroke=\"#000000\" cx=\"386.9394\" cy=\"-29.2474\" rx=\"29.4969\" ry=\"29.4969\"/>\n",
       "<text text-anchor=\"middle\" x=\"386.9394\" y=\"-25.5474\" font-family=\"Times,serif\" font-size=\"14.00\" fill=\"#000000\">S010</text>\n",
       "</g>\n",
       "<!-- S01&#45;&gt;S010 -->\n",
       "<g id=\"edge5\" class=\"edge\">\n",
       "<title>S01&#45;&gt;S010</title>\n",
       "<path fill=\"none\" stroke=\"#000000\" d=\"M310.947,-29.2474C321.9853,-29.2474 335.2335,-29.2474 347.5543,-29.2474\"/>\n",
       "<polygon fill=\"#000000\" stroke=\"#000000\" points=\"347.6169,-32.7475 357.6169,-29.2474 347.6169,-25.7475 347.6169,-32.7475\"/>\n",
       "<text text-anchor=\"middle\" x=\"334.192\" y=\"-33.0474\" font-family=\"Times,serif\" font-size=\"14.00\" fill=\"#000000\">0 </text>\n",
       "</g>\n",
       "<!-- F -->\n",
       "<g id=\"node6\" class=\"node\">\n",
       "<title>F</title>\n",
       "<ellipse fill=\"none\" stroke=\"#000000\" cx=\"485.1869\" cy=\"-29.2474\" rx=\"18\" ry=\"18\"/>\n",
       "<ellipse fill=\"none\" stroke=\"#000000\" cx=\"485.1869\" cy=\"-29.2474\" rx=\"22\" ry=\"22\"/>\n",
       "<text text-anchor=\"middle\" x=\"485.1869\" y=\"-25.5474\" font-family=\"Times,serif\" font-size=\"14.00\" fill=\"#000000\">F</text>\n",
       "</g>\n",
       "<!-- S010&#45;&gt;F -->\n",
       "<g id=\"edge6\" class=\"edge\">\n",
       "<title>S010&#45;&gt;F</title>\n",
       "<path fill=\"none\" stroke=\"#000000\" d=\"M416.4169,-29.2474C427.8415,-29.2474 440.9634,-29.2474 452.662,-29.2474\"/>\n",
       "<polygon fill=\"#000000\" stroke=\"#000000\" points=\"452.9161,-32.7475 462.916,-29.2474 452.916,-25.7475 452.9161,-32.7475\"/>\n",
       "<text text-anchor=\"middle\" x=\"439.6869\" y=\"-33.0474\" font-family=\"Times,serif\" font-size=\"14.00\" fill=\"#000000\">1 </text>\n",
       "</g>\n",
       "<!-- I&#45;&gt;S0 -->\n",
       "<g id=\"edge3\" class=\"edge\">\n",
       "<title>I&#45;&gt;S0</title>\n",
       "<path fill=\"none\" stroke=\"#000000\" d=\"M127.0577,-29.2474C137.6298,-29.2474 151.2613,-29.2474 163.4728,-29.2474\"/>\n",
       "<polygon fill=\"#000000\" stroke=\"#000000\" points=\"163.7261,-32.7475 173.726,-29.2474 163.726,-25.7475 163.7261,-32.7475\"/>\n",
       "<text text-anchor=\"middle\" x=\"150.5\" y=\"-33.0474\" font-family=\"Times,serif\" font-size=\"14.00\" fill=\"#000000\">0 </text>\n",
       "</g>\n",
       "<!-- I&#45;&gt;I -->\n",
       "<g id=\"edge2\" class=\"edge\">\n",
       "<title>I&#45;&gt;I</title>\n",
       "<path fill=\"none\" stroke=\"#000000\" d=\"M102.6208,-46.2847C101.3189,-56.1053 103.4453,-65.2474 109,-65.2474 112.4717,-65.2474 114.6042,-61.6763 115.3975,-56.6003\"/>\n",
       "<polygon fill=\"#000000\" stroke=\"#000000\" points=\"118.8971,-56.2784 115.3792,-46.2847 111.8971,-56.2909 118.8971,-56.2784\"/>\n",
       "<text text-anchor=\"middle\" x=\"109\" y=\"-84.0474\" font-family=\"Times,serif\" font-size=\"14.00\" fill=\"#000000\">0 </text>\n",
       "<text text-anchor=\"middle\" x=\"109\" y=\"-69.0474\" font-family=\"Times,serif\" font-size=\"14.00\" fill=\"#000000\"> 1 </text>\n",
       "</g>\n",
       "</g>\n",
       "</svg>\n"
      ],
      "text/plain": [
       "<graphviz.dot.Digraph at 0x110cd0be0>"
      ]
     },
     "execution_count": 13,
     "metadata": {},
     "output_type": "execute_result"
    }
   ],
   "source": [
    "# The drawing produces separated self-loops. Let's fuse 'em\n",
    "\n",
    "# Now we are going to fuse the separate self-loops into one\n",
    "\n",
    "dotObj_nfa(NFA_ends0101, FuseEdges=True) "
   ]
  },
  {
   "cell_type": "code",
   "execution_count": 15,
   "metadata": {},
   "outputs": [
    {
     "data": {
      "text/plain": [
       "set()"
      ]
     },
     "execution_count": 15,
     "metadata": {},
     "output_type": "execute_result"
    }
   ],
   "source": [
    "step_nfa(NFA_ends0101, 'F', '1')"
   ]
  },
  {
   "cell_type": "markdown",
   "metadata": {
    "run_control": {
     "frozen": false,
     "read_only": false
    }
   },
   "source": [
    "# NFA for 3rd-last is 1"
   ]
  },
  {
   "cell_type": "code",
   "execution_count": null,
   "metadata": {
    "run_control": {
     "frozen": false,
     "read_only": false
    }
   },
   "outputs": [],
   "source": [
    "# Here is the automd (markdown) for an NF whose third-last symbol is a 1\n",
    "\n",
    "NFA_3rdlast_1 = md2mc('''\n",
    "NFA\n",
    "\n",
    "I : 0  | 1  -> I  !! Upon a 0 or a 1, continue to stay in state I\n",
    "\n",
    "I : ''      -> S0 !! Nondeterministically transition to state S0\n",
    "\n",
    "S0 : 1      -> S1 !! This is the key \"1\" (third-last being 1) seen\n",
    "\n",
    "S1 : 0 | 1  -> S2 !! One 0/1 takes the NFA to S2\n",
    "\n",
    "S2 : 0 | 1  -> F  !! One more 0/1 takes the NFA to F\n",
    "\n",
    "''')"
   ]
  },
  {
   "cell_type": "code",
   "execution_count": null,
   "metadata": {
    "run_control": {
     "frozen": false,
     "read_only": false
    }
   },
   "outputs": [],
   "source": [
    "# Let us see its internal representation\n",
    "\n",
    "NFA_3rdlast_1"
   ]
  },
  {
   "cell_type": "code",
   "execution_count": null,
   "metadata": {
    "run_control": {
     "frozen": false,
     "read_only": false
    }
   },
   "outputs": [],
   "source": [
    "# Let us see this NFA drawn out\n",
    "\n",
    "dotObj_nfa(NFA_3rdlast_1, FuseEdges=True)"
   ]
  },
  {
   "cell_type": "code",
   "execution_count": null,
   "metadata": {
    "run_control": {
     "frozen": false,
     "read_only": false
    }
   },
   "outputs": [],
   "source": [
    "# Let's step the NFA on epsilon   \n",
    "step_nfa(NFA_3rdlast_1, \"I\", \"\")"
   ]
  },
  {
   "cell_type": "code",
   "execution_count": null,
   "metadata": {
    "run_control": {
     "frozen": false,
     "read_only": false
    }
   },
   "outputs": [],
   "source": [
    "# Let's step it on '0'  \n",
    "step_nfa(NFA_3rdlast_1, \"I\", \"0\")"
   ]
  },
  {
   "cell_type": "code",
   "execution_count": null,
   "metadata": {
    "run_control": {
     "frozen": false,
     "read_only": false
    }
   },
   "outputs": [],
   "source": [
    "# Step it on a \"1\" to see two next states. That shows nondeterminism!\n",
    "\n",
    "step_nfa(NFA_3rdlast_1, \"I\", \"1\")  "
   ]
  },
  {
   "cell_type": "code",
   "execution_count": null,
   "metadata": {
    "run_control": {
     "frozen": false,
     "read_only": false
    }
   },
   "outputs": [],
   "source": [
    "# What is the Eclosure of the set of states {I} ?\n",
    "\n",
    "Eclosure(NFA_3rdlast_1, {\"I\"})"
   ]
  },
  {
   "cell_type": "code",
   "execution_count": null,
   "metadata": {
    "run_control": {
     "frozen": false,
     "read_only": false
    }
   },
   "outputs": [],
   "source": [
    "help(accepts_nfa)"
   ]
  },
  {
   "cell_type": "code",
   "execution_count": null,
   "metadata": {
    "run_control": {
     "frozen": false,
     "read_only": false
    }
   },
   "outputs": [],
   "source": [
    "accepts_nfa(NFA_3rdlast_1, \"0100100\", chatty=True)"
   ]
  },
  {
   "cell_type": "markdown",
   "metadata": {
    "run_control": {
     "frozen": false,
     "read_only": false
    }
   },
   "source": [
    "# Let us run NFA interactively via widgets\n",
    "\n",
    "We have two NFA to play with, namely nfa_ends0101 and NFA_3rdlast_1\n"
   ]
  },
  {
   "cell_type": "code",
   "execution_count": null,
   "metadata": {
    "run_control": {
     "frozen": false,
     "read_only": false
    }
   },
   "outputs": [],
   "source": [
    "import ipywidgets as wdg\n",
    "def run_nfa_slider(N, s, n):\n",
    "    \"\"\"Run NFA N from N[\"Q0\"] (which is a set..) on substring s[0:n]\n",
    "    \"\"\"\n",
    "    S = N[\"Q0\"] \n",
    "    if (n > len(s)):\n",
    "        n = len(s)\n",
    "    print(\"string = \", s[0:n])\n",
    "    run_nfa(N, S, s[0:n], True)\n",
    "    \n",
    "def run_nfa_int(N1, N2):\n",
    "    \"\"\"Run interactively from the given NFA .. from {q0} \n",
    "       on input string's substring\n",
    "       as picked by slider.\n",
    "    \"\"\"\n",
    "    inp = input(\"Please provide string: \")\n",
    "    wdg.interact(run_nfa_slider, N = {'N1': N1, 'N2': N2}, \n",
    "                 s = inp, n=(0,32))\n",
    "    \n",
    "def test_run_nfa_int(N1, N2):\n",
    "    \"\"\"Test the interactive run of NFA.\n",
    "    \"\"\"\n",
    "    run_nfa_int(N1, N2)\n",
    "\n",
    "#-- enable this later. test_run_nfa_int()"
   ]
  },
  {
   "cell_type": "markdown",
   "metadata": {
    "run_control": {
     "frozen": false,
     "read_only": false
    }
   },
   "source": [
    "## Once you run the command below, provide a string\n",
    "\n",
    "Provide a string of 0's and 1's. Then you can use the pull-down to pick the NFA\n",
    "to test, and the slider to incrementally consume more of the input string\n"
   ]
  },
  {
   "cell_type": "code",
   "execution_count": null,
   "metadata": {
    "run_control": {
     "frozen": false,
     "read_only": false
    }
   },
   "outputs": [],
   "source": [
    "test_run_nfa_int(NFA_ends0101, NFA_3rdlast_1)"
   ]
  }
 ],
 "metadata": {
  "kernelspec": {
   "display_name": "Python 3",
   "language": "python",
   "name": "python3"
  },
  "language_info": {
   "codemirror_mode": {
    "name": "ipython",
    "version": 3
   },
   "file_extension": ".py",
   "mimetype": "text/x-python",
   "name": "python",
   "nbconvert_exporter": "python",
   "pygments_lexer": "ipython3",
   "version": "3.7.3"
  },
  "toc": {
   "colors": {
    "hover_highlight": "#DAA520",
    "running_highlight": "#FF0000",
    "selected_highlight": "#FFD700"
   },
   "moveMenuLeft": true,
   "nav_menu": {
    "height": "121px",
    "width": "252px"
   },
   "navigate_menu": true,
   "number_sections": true,
   "sideBar": true,
   "threshold": 4,
   "toc_cell": false,
   "toc_section_display": "block",
   "toc_window_display": false,
   "widenNotebook": false
  },
  "widgets": {
   "state": {
    "430c92ee02b34ec1912bf03c8de1e6dc": {
     "views": [
      {
       "cell_index": 20
      }
     ]
    }
   },
   "version": "1.2.0"
  }
 },
 "nbformat": 4,
 "nbformat_minor": 2
}
