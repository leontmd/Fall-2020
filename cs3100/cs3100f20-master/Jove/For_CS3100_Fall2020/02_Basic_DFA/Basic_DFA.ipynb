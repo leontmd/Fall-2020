{
 "cells": [
  {
   "cell_type": "markdown",
   "metadata": {
    "run_control": {
     "frozen": false,
     "read_only": false
    }
   },
   "source": [
    "# DFA: Basics, and Designing Them (Ch 4)"
   ]
  },
  {
   "cell_type": "code",
   "execution_count": 1,
   "metadata": {
    "run_control": {
     "frozen": false,
     "read_only": false
    }
   },
   "outputs": [
    {
     "name": "stdout",
     "output_type": "stream",
     "text": [
      "You may use any of these help commands:\n",
      "help(ResetStNum)\n",
      "help(NxtStateStr)\n",
      "\n",
      "You may use any of these help commands:\n",
      "help(md2mc)\n",
      ".. and if you want to dig more, then ..\n",
      "help(default_line_attr)\n",
      "help(length_ok_input_items)\n",
      "help(union_line_attr_list_fld)\n",
      "help(extend_rsltdict)\n",
      "help(form_delta)\n",
      "help(get_machine_components)\n",
      "\n",
      "You may use any of these help commands:\n",
      "help(mkp_dfa)\n",
      "help(mk_dfa)\n",
      "help(totalize_dfa)\n",
      "help(addtosigma_delta)\n",
      "help(step_dfa)\n",
      "help(run_dfa)\n",
      "help(accepts_dfa)\n",
      "help(comp_dfa)\n",
      "help(union_dfa)\n",
      "help(intersect_dfa)\n",
      "help(pruneUnreach)\n",
      "help(iso_dfa)\n",
      "help(langeq_dfa)\n",
      "help(same_status)\n",
      "help(h_langeq_dfa)\n",
      "help(fixptDist)\n",
      "help(min_dfa)\n",
      "help(pairFR)\n",
      "help(state_combos)\n",
      "help(sepFinNonFin)\n",
      "help(bash_eql_classes)\n",
      "help(listminus)\n",
      "help(bash_1)\n",
      "help(mk_rep_eqc)\n",
      "help(F_of)\n",
      "help(rep_of_s)\n",
      "help(q0_of)\n",
      "help(Delta_of)\n",
      "help(mk_state_eqc_name)\n",
      "\n",
      "You may use any of these help commands:\n",
      "help(lphi)\n",
      "help(lunit)\n",
      "help(lcat)\n",
      "help(lexp)\n",
      "help(lunion)\n",
      "help(lstar)\n",
      "help(srev)\n",
      "help(lrev)\n",
      "help(shomo)\n",
      "help(lhomo)\n",
      "help(powset)\n",
      "help(lint)\n",
      "help(lsymdiff)\n",
      "help(lminus)\n",
      "help(lissubset)\n",
      "help(lissuperset)\n",
      "help(lcomplem)\n",
      "help(product)\n",
      "help(nthnumeric)\n",
      "\n"
     ]
    }
   ],
   "source": [
    "#~~~~~~~~~~~~~~~~~~~~~~~~~~~~~~~~~~~~~~~~~~~~~~~~~~~~~~~\n",
    "import sys\n",
    "\n",
    "# -- Detect if in Own Install or in Colab\n",
    "try:\n",
    "    import google.colab\n",
    "    OWN_INSTALL = False\n",
    "except:\n",
    "    OWN_INSTALL = True\n",
    "    \n",
    "if OWN_INSTALL:\n",
    "    \n",
    "  #---- Leave these definitions ON if running on laptop\n",
    "  #---- Else turn OFF by putting them between ''' ... '''\n",
    "\n",
    "  sys.path[0:0] = ['../../../../..',  '../../../../../3rdparty',  \n",
    "                   '../../../..',  '../../../../3rdparty',  \n",
    "                   '../../..',     '../../../3rdparty', \n",
    "                   '../..',        '../../3rdparty',\n",
    "                   '..',           '../3rdparty' ]\n",
    "\n",
    "else: # In colab\n",
    "  ! if [ ! -d Jove ]; then git clone https://github.com/ganeshutah/Jove Jove; fi\n",
    "  sys.path.append('./Jove')\n",
    "  sys.path.append('./Jove/jove')\n",
    "\n",
    "# -- common imports --\n",
    "from jove.DotBashers import *\n",
    "from jove.Def_md2mc  import *\n",
    "from jove.Def_DFA    import *\n",
    "from jove.LangDef    import *  # for testing DFA actions\n",
    "#~~~~~~~~~~~~~~~~~~~~~~~~~~~~~~~~~~~~~~~~~~~~~~~~~~~~~~~"
   ]
  },
  {
   "cell_type": "markdown",
   "metadata": {
    "run_control": {
     "frozen": false,
     "read_only": false
    }
   },
   "source": [
    "# What are DFA?\n",
    "\n",
    "DFA are mechanisms to specify a simple yet powerful family of languages called\n",
    "Regular Languages. Below, we define Regular Languages. Then we present how DFA\n",
    "help define regular languages in two ways: One via Graphs, and the other via\n",
    "Symbol and String Transition Functions."
   ]
  },
  {
   "cell_type": "markdown",
   "metadata": {
    "run_control": {
     "frozen": false,
     "read_only": false
    }
   },
   "source": [
    "## From Languages to Regular Languages\n",
    "\n",
    "We will now study __regular languages__. \n",
    "\n",
    "L is a regular language if L has a DFA. \n",
    "\n",
    "L is a regular language if there is a DFA D such that D accepts *all* and *only* those strings in L."
   ]
  },
  {
   "cell_type": "markdown",
   "metadata": {
    "run_control": {
     "frozen": false,
     "read_only": false
    }
   },
   "source": [
    "## DFA as Graphs: Define Regular Languages\n",
    "\n",
    "DFA drawings are graphs. A string w is in a DFA D's language if there is a path from the initial state to *a* final state of D labeled by w."
   ]
  },
  {
   "cell_type": "markdown",
   "metadata": {
    "run_control": {
     "frozen": false,
     "read_only": false
    }
   },
   "source": [
    "## DFA as Symbol and String Transition Functions\n",
    "\n",
    "A DFA is a quintuple $(Q, \\Sigma, \\delta, q_0, F)$. Its Python encoding looks as below."
   ]
  },
  {
   "cell_type": "code",
   "execution_count": 2,
   "metadata": {
    "run_control": {
     "frozen": false,
     "read_only": false
    }
   },
   "outputs": [],
   "source": [
    "Fig34 = {\n",
    " 'Q': {'A', 'F', 'I'},\n",
    " 'Sigma': {'0', '1'},\n",
    " 'Delta': {('A', '0'): 'I',\n",
    "  ('A', '1'): 'I',\n",
    "  ('F', '0'): 'I',\n",
    "  ('F', '1'): 'I',\n",
    "  ('I', '0'): 'A',\n",
    "  ('I', '1'): 'F'},\n",
    " 'q0': 'I',\n",
    " 'F': {'F'}\n",
    "}"
   ]
  },
  {
   "cell_type": "code",
   "execution_count": 3,
   "metadata": {
    "run_control": {
     "frozen": false,
     "read_only": false
    }
   },
   "outputs": [
    {
     "data": {
      "image/svg+xml": [
       "<?xml version=\"1.0\" encoding=\"UTF-8\" standalone=\"no\"?>\n",
       "<!DOCTYPE svg PUBLIC \"-//W3C//DTD SVG 1.1//EN\"\n",
       " \"http://www.w3.org/Graphics/SVG/1.1/DTD/svg11.dtd\">\n",
       "<!-- Generated by graphviz version 2.40.1 (20161225.0304)\n",
       " -->\n",
       "<!-- Title: %3 Pages: 1 -->\n",
       "<svg width=\"226pt\" height=\"168pt\"\n",
       " viewBox=\"0.00 0.00 226.00 168.20\" xmlns=\"http://www.w3.org/2000/svg\" xmlns:xlink=\"http://www.w3.org/1999/xlink\">\n",
       "<g id=\"graph0\" class=\"graph\" transform=\"scale(1 1) rotate(0) translate(4 164.1965)\">\n",
       "<title>%3</title>\n",
       "<polygon fill=\"#ffffff\" stroke=\"transparent\" points=\"-4,4 -4,-164.1965 222,-164.1965 222,4 -4,4\"/>\n",
       "<!-- EMPTY -->\n",
       "<g id=\"node1\" class=\"node\">\n",
       "<title>EMPTY</title>\n",
       "</g>\n",
       "<!-- I -->\n",
       "<g id=\"node2\" class=\"node\">\n",
       "<title>I</title>\n",
       "<ellipse fill=\"none\" stroke=\"#000000\" cx=\"109\" cy=\"-82.1965\" rx=\"18\" ry=\"18\"/>\n",
       "<text text-anchor=\"middle\" x=\"109\" y=\"-78.4965\" font-family=\"Times,serif\" font-size=\"14.00\" fill=\"#000000\">I</text>\n",
       "</g>\n",
       "<!-- EMPTY&#45;&gt;I -->\n",
       "<g id=\"edge1\" class=\"edge\">\n",
       "<title>EMPTY&#45;&gt;I</title>\n",
       "<path fill=\"none\" stroke=\"#000000\" d=\"M54.3048,-82.1965C62.6909,-82.1965 71.9407,-82.1965 80.4103,-82.1965\"/>\n",
       "<polygon fill=\"#000000\" stroke=\"#000000\" points=\"80.5976,-85.6966 90.5976,-82.1965 80.5976,-78.6966 80.5976,-85.6966\"/>\n",
       "</g>\n",
       "<!-- A -->\n",
       "<g id=\"node3\" class=\"node\">\n",
       "<title>A</title>\n",
       "<ellipse fill=\"none\" stroke=\"#000000\" cx=\"196\" cy=\"-139.1965\" rx=\"18\" ry=\"18\"/>\n",
       "<text text-anchor=\"middle\" x=\"196\" y=\"-135.4965\" font-family=\"Times,serif\" font-size=\"14.00\" fill=\"#000000\">A</text>\n",
       "</g>\n",
       "<!-- I&#45;&gt;A -->\n",
       "<g id=\"edge6\" class=\"edge\">\n",
       "<title>I&#45;&gt;A</title>\n",
       "<path fill=\"none\" stroke=\"#000000\" d=\"M114.1448,-99.6364C119.381,-113.9079 129.0377,-133.1588 145,-142.1965 151.9765,-146.1466 160.3847,-146.9332 168.3436,-146.2978\"/>\n",
       "<polygon fill=\"#000000\" stroke=\"#000000\" points=\"169.0199,-149.7356 178.3895,-144.79 167.9808,-142.8132 169.0199,-149.7356\"/>\n",
       "<text text-anchor=\"middle\" x=\"150.5\" y=\"-148.9965\" font-family=\"Times,serif\" font-size=\"14.00\" fill=\"#000000\">0 </text>\n",
       "</g>\n",
       "<!-- F -->\n",
       "<g id=\"node4\" class=\"node\">\n",
       "<title>F</title>\n",
       "<ellipse fill=\"none\" stroke=\"#000000\" cx=\"196\" cy=\"-25.1965\" rx=\"18\" ry=\"18\"/>\n",
       "<ellipse fill=\"none\" stroke=\"#000000\" cx=\"196\" cy=\"-25.1965\" rx=\"22\" ry=\"22\"/>\n",
       "<text text-anchor=\"middle\" x=\"196\" y=\"-21.4965\" font-family=\"Times,serif\" font-size=\"14.00\" fill=\"#000000\">F</text>\n",
       "</g>\n",
       "<!-- I&#45;&gt;F -->\n",
       "<g id=\"edge7\" class=\"edge\">\n",
       "<title>I&#45;&gt;F</title>\n",
       "<path fill=\"none\" stroke=\"#000000\" d=\"M124.1542,-72.2679C136.4104,-64.238 153.9839,-52.7243 168.6825,-43.0942\"/>\n",
       "<polygon fill=\"#000000\" stroke=\"#000000\" points=\"170.9432,-45.7974 177.3897,-37.3895 167.107,-39.9422 170.9432,-45.7974\"/>\n",
       "<text text-anchor=\"middle\" x=\"150.5\" y=\"-59.9965\" font-family=\"Times,serif\" font-size=\"14.00\" fill=\"#000000\">1 </text>\n",
       "</g>\n",
       "<!-- A&#45;&gt;I -->\n",
       "<g id=\"edge2\" class=\"edge\">\n",
       "<title>A&#45;&gt;I</title>\n",
       "<path fill=\"none\" stroke=\"#000000\" d=\"M178.6713,-133.5175C168.4101,-129.7278 155.4214,-124.1634 145,-117.1965 139.06,-113.2255 133.233,-108.2091 128.0557,-103.224\"/>\n",
       "<polygon fill=\"#000000\" stroke=\"#000000\" points=\"130.5118,-100.7299 120.9977,-96.068 125.528,-105.6454 130.5118,-100.7299\"/>\n",
       "<text text-anchor=\"middle\" x=\"150.5\" y=\"-126.9965\" font-family=\"Times,serif\" font-size=\"14.00\" fill=\"#000000\">0 </text>\n",
       "</g>\n",
       "<!-- A&#45;&gt;I -->\n",
       "<g id=\"edge3\" class=\"edge\">\n",
       "<title>A&#45;&gt;I</title>\n",
       "<path fill=\"none\" stroke=\"#000000\" d=\"M184.7508,-124.5879C177.389,-115.8835 167.1011,-105.2018 156,-98.1965 150.1638,-94.5136 143.3811,-91.5694 136.8147,-89.2621\"/>\n",
       "<polygon fill=\"#000000\" stroke=\"#000000\" points=\"137.43,-85.7875 126.8413,-86.1458 135.3423,-92.469 137.43,-85.7875\"/>\n",
       "<text text-anchor=\"middle\" x=\"150.5\" y=\"-101.9965\" font-family=\"Times,serif\" font-size=\"14.00\" fill=\"#000000\">1 </text>\n",
       "</g>\n",
       "<!-- F&#45;&gt;I -->\n",
       "<g id=\"edge4\" class=\"edge\">\n",
       "<title>F&#45;&gt;I</title>\n",
       "<path fill=\"none\" stroke=\"#000000\" d=\"M174.2157,-21.2148C164.6965,-20.5485 153.736,-21.3154 145,-26.1965 133.3338,-32.7149 124.862,-44.769 119.0789,-56.0284\"/>\n",
       "<polygon fill=\"#000000\" stroke=\"#000000\" points=\"115.8758,-54.6162 114.8425,-65.1606 122.2258,-57.5621 115.8758,-54.6162\"/>\n",
       "<text text-anchor=\"middle\" x=\"150.5\" y=\"-29.9965\" font-family=\"Times,serif\" font-size=\"14.00\" fill=\"#000000\">0 </text>\n",
       "</g>\n",
       "<!-- F&#45;&gt;I -->\n",
       "<g id=\"edge5\" class=\"edge\">\n",
       "<title>F&#45;&gt;I</title>\n",
       "<path fill=\"none\" stroke=\"#000000\" d=\"M179.6959,-10.2067C169.3312,-2.5616 155.8673,3.7938 145,-3.1965 127.6217,-14.3749 118.5321,-36.2367 113.8375,-54.1337\"/>\n",
       "<polygon fill=\"#000000\" stroke=\"#000000\" points=\"110.3753,-53.573 111.5518,-64.1023 117.1982,-55.1375 110.3753,-53.573\"/>\n",
       "<text text-anchor=\"middle\" x=\"150.5\" y=\"-6.9965\" font-family=\"Times,serif\" font-size=\"14.00\" fill=\"#000000\">1 </text>\n",
       "</g>\n",
       "</g>\n",
       "</svg>\n"
      ],
      "text/plain": [
       "<graphviz.dot.Digraph at 0x110125c18>"
      ]
     },
     "execution_count": 3,
     "metadata": {},
     "output_type": "execute_result"
    }
   ],
   "source": [
    "dotObj_dfa(Fig34)"
   ]
  },
  {
   "cell_type": "markdown",
   "metadata": {},
   "source": [
    "## A prettier diagram is obtained by fusing edges"
   ]
  },
  {
   "cell_type": "code",
   "execution_count": 4,
   "metadata": {},
   "outputs": [
    {
     "data": {
      "image/svg+xml": [
       "<?xml version=\"1.0\" encoding=\"UTF-8\" standalone=\"no\"?>\n",
       "<!DOCTYPE svg PUBLIC \"-//W3C//DTD SVG 1.1//EN\"\n",
       " \"http://www.w3.org/Graphics/SVG/1.1/DTD/svg11.dtd\">\n",
       "<!-- Generated by graphviz version 2.40.1 (20161225.0304)\n",
       " -->\n",
       "<!-- Title: %3 Pages: 1 -->\n",
       "<svg width=\"230pt\" height=\"150pt\"\n",
       " viewBox=\"0.00 0.00 230.00 150.01\" xmlns=\"http://www.w3.org/2000/svg\" xmlns:xlink=\"http://www.w3.org/1999/xlink\">\n",
       "<g id=\"graph0\" class=\"graph\" transform=\"scale(1 1) rotate(0) translate(4 146.0089)\">\n",
       "<title>%3</title>\n",
       "<polygon fill=\"#ffffff\" stroke=\"transparent\" points=\"-4,4 -4,-146.0089 226,-146.0089 226,4 -4,4\"/>\n",
       "<!-- EMPTY -->\n",
       "<g id=\"node1\" class=\"node\">\n",
       "<title>EMPTY</title>\n",
       "</g>\n",
       "<!-- I -->\n",
       "<g id=\"node2\" class=\"node\">\n",
       "<title>I</title>\n",
       "<ellipse fill=\"none\" stroke=\"#000000\" cx=\"109\" cy=\"-74.0089\" rx=\"18\" ry=\"18\"/>\n",
       "<text text-anchor=\"middle\" x=\"109\" y=\"-70.3089\" font-family=\"Times,serif\" font-size=\"14.00\" fill=\"#000000\">I</text>\n",
       "</g>\n",
       "<!-- EMPTY&#45;&gt;I -->\n",
       "<g id=\"edge1\" class=\"edge\">\n",
       "<title>EMPTY&#45;&gt;I</title>\n",
       "<path fill=\"none\" stroke=\"#000000\" d=\"M54.3048,-74.0089C62.6909,-74.0089 71.9407,-74.0089 80.4103,-74.0089\"/>\n",
       "<polygon fill=\"#000000\" stroke=\"#000000\" points=\"80.5976,-77.509 90.5976,-74.0089 80.5976,-70.509 80.5976,-77.509\"/>\n",
       "</g>\n",
       "<!-- A -->\n",
       "<g id=\"node3\" class=\"node\">\n",
       "<title>A</title>\n",
       "<ellipse fill=\"none\" stroke=\"#000000\" cx=\"200\" cy=\"-111.0089\" rx=\"18\" ry=\"18\"/>\n",
       "<text text-anchor=\"middle\" x=\"200\" y=\"-107.3089\" font-family=\"Times,serif\" font-size=\"14.00\" fill=\"#000000\">A</text>\n",
       "</g>\n",
       "<!-- I&#45;&gt;A -->\n",
       "<g id=\"edge4\" class=\"edge\">\n",
       "<title>I&#45;&gt;A</title>\n",
       "<path fill=\"none\" stroke=\"#000000\" d=\"M116.0163,-90.8041C121.8835,-102.4576 131.4814,-117.0841 145,-124.0089 154.2035,-128.7232 165.1506,-127.3526 174.846,-124.1083\"/>\n",
       "<polygon fill=\"#000000\" stroke=\"#000000\" points=\"176.4319,-127.2415 184.3709,-120.2255 173.7895,-120.7594 176.4319,-127.2415\"/>\n",
       "<text text-anchor=\"middle\" x=\"152.5\" y=\"-130.8089\" font-family=\"Times,serif\" font-size=\"14.00\" fill=\"#000000\">0 </text>\n",
       "</g>\n",
       "<!-- F -->\n",
       "<g id=\"node4\" class=\"node\">\n",
       "<title>F</title>\n",
       "<ellipse fill=\"none\" stroke=\"#000000\" cx=\"200\" cy=\"-37.0089\" rx=\"18\" ry=\"18\"/>\n",
       "<ellipse fill=\"none\" stroke=\"#000000\" cx=\"200\" cy=\"-37.0089\" rx=\"22\" ry=\"22\"/>\n",
       "<text text-anchor=\"middle\" x=\"200\" y=\"-33.3089\" font-family=\"Times,serif\" font-size=\"14.00\" fill=\"#000000\">F</text>\n",
       "</g>\n",
       "<!-- I&#45;&gt;F -->\n",
       "<g id=\"edge5\" class=\"edge\">\n",
       "<title>I&#45;&gt;F</title>\n",
       "<path fill=\"none\" stroke=\"#000000\" d=\"M125.6908,-67.2225C138.1496,-62.1568 155.504,-55.1006 170.3086,-49.0812\"/>\n",
       "<polygon fill=\"#000000\" stroke=\"#000000\" points=\"171.6467,-52.3154 179.592,-45.3066 169.0101,-45.8309 171.6467,-52.3154\"/>\n",
       "<text text-anchor=\"middle\" x=\"152.5\" y=\"-61.8089\" font-family=\"Times,serif\" font-size=\"14.00\" fill=\"#000000\">1 </text>\n",
       "</g>\n",
       "<!-- A&#45;&gt;I -->\n",
       "<g id=\"edge2\" class=\"edge\">\n",
       "<title>A&#45;&gt;I</title>\n",
       "<path fill=\"none\" stroke=\"#000000\" d=\"M183.3067,-103.7904C176.1496,-100.7277 167.6838,-97.1476 160,-94.0089 152.076,-90.772 143.4202,-87.3392 135.5264,-84.2482\"/>\n",
       "<polygon fill=\"#000000\" stroke=\"#000000\" points=\"136.6362,-80.9244 126.0477,-80.5562 134.0956,-87.4471 136.6362,-80.9244\"/>\n",
       "<text text-anchor=\"middle\" x=\"152.5\" y=\"-112.8089\" font-family=\"Times,serif\" font-size=\"14.00\" fill=\"#000000\">0 </text>\n",
       "<text text-anchor=\"middle\" x=\"152.5\" y=\"-97.8089\" font-family=\"Times,serif\" font-size=\"14.00\" fill=\"#000000\"> 1 </text>\n",
       "</g>\n",
       "<!-- F&#45;&gt;I -->\n",
       "<g id=\"edge3\" class=\"edge\">\n",
       "<title>F&#45;&gt;I</title>\n",
       "<path fill=\"none\" stroke=\"#000000\" d=\"M186.452,-19.3183C175.3278,-7.0363 159.1574,5.686 145,-3.0089 129.6397,-12.4425 120.5864,-30.6937 115.4006,-46.3287\"/>\n",
       "<polygon fill=\"#000000\" stroke=\"#000000\" points=\"111.9887,-45.5251 112.5238,-56.1064 118.7041,-47.5009 111.9887,-45.5251\"/>\n",
       "<text text-anchor=\"middle\" x=\"152.5\" y=\"-21.8089\" font-family=\"Times,serif\" font-size=\"14.00\" fill=\"#000000\">0 </text>\n",
       "<text text-anchor=\"middle\" x=\"152.5\" y=\"-6.8089\" font-family=\"Times,serif\" font-size=\"14.00\" fill=\"#000000\"> 1 </text>\n",
       "</g>\n",
       "</g>\n",
       "</svg>\n"
      ],
      "text/plain": [
       "<graphviz.dot.Digraph at 0x1101df0b8>"
      ]
     },
     "execution_count": 4,
     "metadata": {},
     "output_type": "execute_result"
    }
   ],
   "source": [
    "dotObj_dfa(Fig34, FuseEdges=True)"
   ]
  },
  {
   "cell_type": "markdown",
   "metadata": {
    "run_control": {
     "frozen": false,
     "read_only": false
    }
   },
   "source": [
    "# The same DFA in automd (Jove's markdown)\n",
    "\n",
    "Study Overview_Of_CS3100_Fall2020/ and its contents to fully learn how to define a DFA via a markdown.\n",
    "You can study the animation panel which also explains the markdown syntax fully.\n"
   ]
  },
  {
   "cell_type": "code",
   "execution_count": 5,
   "metadata": {},
   "outputs": [
    {
     "data": {
      "text/html": [
       "<style>textarea, input { font-family: monospace; }</style>"
      ],
      "text/plain": [
       "<IPython.core.display.HTML object>"
      ]
     },
     "metadata": {},
     "output_type": "display_data"
    },
    {
     "data": {
      "application/vnd.jupyter.widget-view+json": {
       "model_id": "2b59c750b0f14a1a9780fdf159919d40",
       "version_major": 2,
       "version_minor": 0
      },
      "text/plain": [
       "Tab(children=(VBox(children=(HBox(children=(Accordion(children=(VBox(children=(HBox(children=(Text(value='', p…"
      ]
     },
     "metadata": {},
     "output_type": "display_data"
    },
    {
     "data": {
      "text/html": [
       "<link rel=\"stylesheet\" href=\"//stackpath.bootstrapcdn.com/font-awesome/4.7.0/css/font-awesome.min.css\"/>"
      ],
      "text/plain": [
       "<IPython.core.display.HTML object>"
      ]
     },
     "metadata": {},
     "output_type": "display_data"
    }
   ],
   "source": [
    "from jove.JoveEditor import *\n",
    "JoveEditor(examples=True)\n",
    "display(HTML('<link rel=\\\"stylesheet\\\" href=\\\"//stackpath.bootstrapcdn.com/font-awesome/4.7.0/css/font-awesome.min.css\\\"/>'))"
   ]
  },
  {
   "cell_type": "code",
   "execution_count": 6,
   "metadata": {
    "run_control": {
     "frozen": false,
     "read_only": false
    }
   },
   "outputs": [],
   "source": [
    "Fig34md = '''  !! Comments begin with !! and last till the end of line\n",
    "DFA            !! This keyword tells \"md2mc\" that it is parsing a DFA\n",
    "I : 0     -> A !! DFA transition: From initial state I, upon 0, go to state A\n",
    "A : 0 | 1 -> I !! Two DFA transitions: from A, upon 0 or a 1, go to state I\n",
    "I : 1     -> F !! A DFA transition from I to F. I is the initial state and F is final \n",
    "F : 0 | 1 -> I !! From F upon 0 or a 1, go to I.\n",
    "'''"
   ]
  },
  {
   "cell_type": "code",
   "execution_count": 7,
   "metadata": {},
   "outputs": [],
   "source": [
    "DFA1 = md2mc('''DFA\n",
    "\n",
    "I : 0   -> A\n",
    "A : 0|1 -> I\n",
    "I : 1   -> F\n",
    "F : 0|1 -> I\n",
    "\n",
    "''')"
   ]
  },
  {
   "cell_type": "code",
   "execution_count": 8,
   "metadata": {},
   "outputs": [
    {
     "data": {
      "image/svg+xml": [
       "<?xml version=\"1.0\" encoding=\"UTF-8\" standalone=\"no\"?>\n",
       "<!DOCTYPE svg PUBLIC \"-//W3C//DTD SVG 1.1//EN\"\n",
       " \"http://www.w3.org/Graphics/SVG/1.1/DTD/svg11.dtd\">\n",
       "<!-- Generated by graphviz version 2.40.1 (20161225.0304)\n",
       " -->\n",
       "<!-- Title: %3 Pages: 1 -->\n",
       "<svg width=\"226pt\" height=\"178pt\"\n",
       " viewBox=\"0.00 0.00 226.00 178.00\" xmlns=\"http://www.w3.org/2000/svg\" xmlns:xlink=\"http://www.w3.org/1999/xlink\">\n",
       "<g id=\"graph0\" class=\"graph\" transform=\"scale(1 1) rotate(0) translate(4 174)\">\n",
       "<title>%3</title>\n",
       "<polygon fill=\"#ffffff\" stroke=\"transparent\" points=\"-4,4 -4,-174 222,-174 222,4 -4,4\"/>\n",
       "<!-- EMPTY -->\n",
       "<g id=\"node1\" class=\"node\">\n",
       "<title>EMPTY</title>\n",
       "</g>\n",
       "<!-- I -->\n",
       "<g id=\"node2\" class=\"node\">\n",
       "<title>I</title>\n",
       "<ellipse fill=\"none\" stroke=\"#000000\" cx=\"109\" cy=\"-79\" rx=\"18\" ry=\"18\"/>\n",
       "<text text-anchor=\"middle\" x=\"109\" y=\"-75.3\" font-family=\"Times,serif\" font-size=\"14.00\" fill=\"#000000\">I</text>\n",
       "</g>\n",
       "<!-- EMPTY&#45;&gt;I -->\n",
       "<g id=\"edge1\" class=\"edge\">\n",
       "<title>EMPTY&#45;&gt;I</title>\n",
       "<path fill=\"none\" stroke=\"#000000\" d=\"M54.3048,-79C62.6909,-79 71.9407,-79 80.4103,-79\"/>\n",
       "<polygon fill=\"#000000\" stroke=\"#000000\" points=\"80.5976,-82.5001 90.5976,-79 80.5976,-75.5001 80.5976,-82.5001\"/>\n",
       "</g>\n",
       "<!-- A -->\n",
       "<g id=\"node3\" class=\"node\">\n",
       "<title>A</title>\n",
       "<ellipse fill=\"none\" stroke=\"#000000\" cx=\"196\" cy=\"-136\" rx=\"18\" ry=\"18\"/>\n",
       "<text text-anchor=\"middle\" x=\"196\" y=\"-132.3\" font-family=\"Times,serif\" font-size=\"14.00\" fill=\"#000000\">A</text>\n",
       "</g>\n",
       "<!-- I&#45;&gt;A -->\n",
       "<g id=\"edge2\" class=\"edge\">\n",
       "<title>I&#45;&gt;A</title>\n",
       "<path fill=\"none\" stroke=\"#000000\" d=\"M112.2116,-96.7342C116.4221,-114.2102 125.68,-139.9861 145,-152 153.3051,-157.1644 163.4157,-155.3649 172.4376,-151.4601\"/>\n",
       "<polygon fill=\"#000000\" stroke=\"#000000\" points=\"174.0712,-154.5556 181.324,-146.8324 170.838,-148.347 174.0712,-154.5556\"/>\n",
       "<text text-anchor=\"middle\" x=\"150.5\" y=\"-158.8\" font-family=\"Times,serif\" font-size=\"14.00\" fill=\"#000000\">0 </text>\n",
       "</g>\n",
       "<!-- F -->\n",
       "<g id=\"node4\" class=\"node\">\n",
       "<title>F</title>\n",
       "<ellipse fill=\"none\" stroke=\"#000000\" cx=\"196\" cy=\"-22\" rx=\"18\" ry=\"18\"/>\n",
       "<ellipse fill=\"none\" stroke=\"#000000\" cx=\"196\" cy=\"-22\" rx=\"22\" ry=\"22\"/>\n",
       "<text text-anchor=\"middle\" x=\"196\" y=\"-18.3\" font-family=\"Times,serif\" font-size=\"14.00\" fill=\"#000000\">F</text>\n",
       "</g>\n",
       "<!-- I&#45;&gt;F -->\n",
       "<g id=\"edge5\" class=\"edge\">\n",
       "<title>I&#45;&gt;F</title>\n",
       "<path fill=\"none\" stroke=\"#000000\" d=\"M124.1542,-69.0714C136.4104,-61.0415 153.9839,-49.5278 168.6825,-39.8977\"/>\n",
       "<polygon fill=\"#000000\" stroke=\"#000000\" points=\"170.9432,-42.6009 177.3897,-34.193 167.107,-36.7456 170.9432,-42.6009\"/>\n",
       "<text text-anchor=\"middle\" x=\"150.5\" y=\"-56.8\" font-family=\"Times,serif\" font-size=\"14.00\" fill=\"#000000\">1 </text>\n",
       "</g>\n",
       "<!-- A&#45;&gt;I -->\n",
       "<g id=\"edge3\" class=\"edge\">\n",
       "<title>A&#45;&gt;I</title>\n",
       "<path fill=\"none\" stroke=\"#000000\" d=\"M178.6713,-130.321C168.4101,-126.5313 155.4214,-120.9669 145,-114 139.06,-110.029 133.233,-105.0126 128.0557,-100.0275\"/>\n",
       "<polygon fill=\"#000000\" stroke=\"#000000\" points=\"130.5118,-97.5334 120.9977,-92.8715 125.528,-102.4489 130.5118,-97.5334\"/>\n",
       "<text text-anchor=\"middle\" x=\"150.5\" y=\"-123.8\" font-family=\"Times,serif\" font-size=\"14.00\" fill=\"#000000\">0 </text>\n",
       "</g>\n",
       "<!-- A&#45;&gt;I -->\n",
       "<g id=\"edge4\" class=\"edge\">\n",
       "<title>A&#45;&gt;I</title>\n",
       "<path fill=\"none\" stroke=\"#000000\" d=\"M184.7508,-121.3913C177.389,-112.687 167.1011,-102.0053 156,-95 150.1638,-91.3171 143.3811,-88.3729 136.8147,-86.0655\"/>\n",
       "<polygon fill=\"#000000\" stroke=\"#000000\" points=\"137.43,-82.591 126.8413,-82.9493 135.3423,-89.2724 137.43,-82.591\"/>\n",
       "<text text-anchor=\"middle\" x=\"150.5\" y=\"-98.8\" font-family=\"Times,serif\" font-size=\"14.00\" fill=\"#000000\">1 </text>\n",
       "</g>\n",
       "<!-- F&#45;&gt;I -->\n",
       "<g id=\"edge6\" class=\"edge\">\n",
       "<title>F&#45;&gt;I</title>\n",
       "<path fill=\"none\" stroke=\"#000000\" d=\"M173.8853,-21.2549C164.411,-21.8552 153.5772,-23.8401 145,-29 135.376,-34.7897 127.5905,-44.2414 121.7543,-53.3772\"/>\n",
       "<polygon fill=\"#000000\" stroke=\"#000000\" points=\"118.588,-51.8591 116.5721,-62.2603 124.6343,-55.3864 118.588,-51.8591\"/>\n",
       "<text text-anchor=\"middle\" x=\"150.5\" y=\"-32.8\" font-family=\"Times,serif\" font-size=\"14.00\" fill=\"#000000\">0 </text>\n",
       "</g>\n",
       "<!-- F&#45;&gt;I -->\n",
       "<g id=\"edge7\" class=\"edge\">\n",
       "<title>F&#45;&gt;I</title>\n",
       "<path fill=\"none\" stroke=\"#000000\" d=\"M178.0959,-8.7482C167.8779,-2.9143 155.1279,1.3357 145,-5 128.8512,-15.1022 119.7585,-34.7539 114.7524,-51.2679\"/>\n",
       "<polygon fill=\"#000000\" stroke=\"#000000\" points=\"111.3439,-50.4662 112.137,-61.0313 118.1055,-52.2776 111.3439,-50.4662\"/>\n",
       "<text text-anchor=\"middle\" x=\"150.5\" y=\"-8.8\" font-family=\"Times,serif\" font-size=\"14.00\" fill=\"#000000\">1 </text>\n",
       "</g>\n",
       "</g>\n",
       "</svg>\n"
      ],
      "text/plain": [
       "<graphviz.dot.Digraph at 0x11036bef0>"
      ]
     },
     "execution_count": 8,
     "metadata": {},
     "output_type": "execute_result"
    }
   ],
   "source": [
    "dotObj_dfa(DFA1)"
   ]
  },
  {
   "cell_type": "code",
   "execution_count": 9,
   "metadata": {},
   "outputs": [
    {
     "data": {
      "text/plain": [
       "'A'"
      ]
     },
     "execution_count": 9,
     "metadata": {},
     "output_type": "execute_result"
    }
   ],
   "source": [
    "step_dfa(DFA1, 'I', '0')"
   ]
  },
  {
   "cell_type": "code",
   "execution_count": 10,
   "metadata": {},
   "outputs": [
    {
     "data": {
      "text/plain": [
       "'I'"
      ]
     },
     "execution_count": 10,
     "metadata": {},
     "output_type": "execute_result"
    }
   ],
   "source": [
    "run_dfa(DFA1, '01100101')"
   ]
  },
  {
   "cell_type": "code",
   "execution_count": 11,
   "metadata": {},
   "outputs": [
    {
     "data": {
      "text/plain": [
       "'F'"
      ]
     },
     "execution_count": 11,
     "metadata": {},
     "output_type": "execute_result"
    }
   ],
   "source": [
    "run_dfa(DFA1, '011001011')"
   ]
  },
  {
   "cell_type": "markdown",
   "metadata": {
    "run_control": {
     "frozen": false,
     "read_only": false
    }
   },
   "source": [
    "# Function md2mc is your automd compiler"
   ]
  },
  {
   "cell_type": "code",
   "execution_count": 12,
   "metadata": {
    "run_control": {
     "frozen": false,
     "read_only": false
    }
   },
   "outputs": [
    {
     "data": {
      "text/plain": [
       "{'Q': {'A', 'F', 'I'},\n",
       " 'Sigma': {'0', '1'},\n",
       " 'Delta': {('I', '0'): 'A',\n",
       "  ('A', '0'): 'I',\n",
       "  ('A', '1'): 'I',\n",
       "  ('I', '1'): 'F',\n",
       "  ('F', '0'): 'I',\n",
       "  ('F', '1'): 'I'},\n",
       " 'q0': 'I',\n",
       " 'F': {'F'}}"
      ]
     },
     "execution_count": 12,
     "metadata": {},
     "output_type": "execute_result"
    }
   ],
   "source": [
    "Fig34MC = md2mc(Fig34md)\n",
    "Fig34MC"
   ]
  },
  {
   "cell_type": "code",
   "execution_count": 13,
   "metadata": {
    "run_control": {
     "frozen": false,
     "read_only": false
    }
   },
   "outputs": [
    {
     "data": {
      "image/svg+xml": [
       "<?xml version=\"1.0\" encoding=\"UTF-8\" standalone=\"no\"?>\n",
       "<!DOCTYPE svg PUBLIC \"-//W3C//DTD SVG 1.1//EN\"\n",
       " \"http://www.w3.org/Graphics/SVG/1.1/DTD/svg11.dtd\">\n",
       "<!-- Generated by graphviz version 2.40.1 (20161225.0304)\n",
       " -->\n",
       "<!-- Title: %3 Pages: 1 -->\n",
       "<svg width=\"226pt\" height=\"178pt\"\n",
       " viewBox=\"0.00 0.00 226.00 178.00\" xmlns=\"http://www.w3.org/2000/svg\" xmlns:xlink=\"http://www.w3.org/1999/xlink\">\n",
       "<g id=\"graph0\" class=\"graph\" transform=\"scale(1 1) rotate(0) translate(4 174)\">\n",
       "<title>%3</title>\n",
       "<polygon fill=\"#ffffff\" stroke=\"transparent\" points=\"-4,4 -4,-174 222,-174 222,4 -4,4\"/>\n",
       "<!-- EMPTY -->\n",
       "<g id=\"node1\" class=\"node\">\n",
       "<title>EMPTY</title>\n",
       "</g>\n",
       "<!-- I -->\n",
       "<g id=\"node2\" class=\"node\">\n",
       "<title>I</title>\n",
       "<ellipse fill=\"none\" stroke=\"#000000\" cx=\"109\" cy=\"-79\" rx=\"18\" ry=\"18\"/>\n",
       "<text text-anchor=\"middle\" x=\"109\" y=\"-75.3\" font-family=\"Times,serif\" font-size=\"14.00\" fill=\"#000000\">I</text>\n",
       "</g>\n",
       "<!-- EMPTY&#45;&gt;I -->\n",
       "<g id=\"edge1\" class=\"edge\">\n",
       "<title>EMPTY&#45;&gt;I</title>\n",
       "<path fill=\"none\" stroke=\"#000000\" d=\"M54.3048,-79C62.6909,-79 71.9407,-79 80.4103,-79\"/>\n",
       "<polygon fill=\"#000000\" stroke=\"#000000\" points=\"80.5976,-82.5001 90.5976,-79 80.5976,-75.5001 80.5976,-82.5001\"/>\n",
       "</g>\n",
       "<!-- A -->\n",
       "<g id=\"node3\" class=\"node\">\n",
       "<title>A</title>\n",
       "<ellipse fill=\"none\" stroke=\"#000000\" cx=\"196\" cy=\"-136\" rx=\"18\" ry=\"18\"/>\n",
       "<text text-anchor=\"middle\" x=\"196\" y=\"-132.3\" font-family=\"Times,serif\" font-size=\"14.00\" fill=\"#000000\">A</text>\n",
       "</g>\n",
       "<!-- I&#45;&gt;A -->\n",
       "<g id=\"edge2\" class=\"edge\">\n",
       "<title>I&#45;&gt;A</title>\n",
       "<path fill=\"none\" stroke=\"#000000\" d=\"M112.2116,-96.7342C116.4221,-114.2102 125.68,-139.9861 145,-152 153.3051,-157.1644 163.4157,-155.3649 172.4376,-151.4601\"/>\n",
       "<polygon fill=\"#000000\" stroke=\"#000000\" points=\"174.0712,-154.5556 181.324,-146.8324 170.838,-148.347 174.0712,-154.5556\"/>\n",
       "<text text-anchor=\"middle\" x=\"150.5\" y=\"-158.8\" font-family=\"Times,serif\" font-size=\"14.00\" fill=\"#000000\">0 </text>\n",
       "</g>\n",
       "<!-- F -->\n",
       "<g id=\"node4\" class=\"node\">\n",
       "<title>F</title>\n",
       "<ellipse fill=\"none\" stroke=\"#000000\" cx=\"196\" cy=\"-22\" rx=\"18\" ry=\"18\"/>\n",
       "<ellipse fill=\"none\" stroke=\"#000000\" cx=\"196\" cy=\"-22\" rx=\"22\" ry=\"22\"/>\n",
       "<text text-anchor=\"middle\" x=\"196\" y=\"-18.3\" font-family=\"Times,serif\" font-size=\"14.00\" fill=\"#000000\">F</text>\n",
       "</g>\n",
       "<!-- I&#45;&gt;F -->\n",
       "<g id=\"edge5\" class=\"edge\">\n",
       "<title>I&#45;&gt;F</title>\n",
       "<path fill=\"none\" stroke=\"#000000\" d=\"M124.1542,-69.0714C136.4104,-61.0415 153.9839,-49.5278 168.6825,-39.8977\"/>\n",
       "<polygon fill=\"#000000\" stroke=\"#000000\" points=\"170.9432,-42.6009 177.3897,-34.193 167.107,-36.7456 170.9432,-42.6009\"/>\n",
       "<text text-anchor=\"middle\" x=\"150.5\" y=\"-56.8\" font-family=\"Times,serif\" font-size=\"14.00\" fill=\"#000000\">1 </text>\n",
       "</g>\n",
       "<!-- A&#45;&gt;I -->\n",
       "<g id=\"edge3\" class=\"edge\">\n",
       "<title>A&#45;&gt;I</title>\n",
       "<path fill=\"none\" stroke=\"#000000\" d=\"M178.6713,-130.321C168.4101,-126.5313 155.4214,-120.9669 145,-114 139.06,-110.029 133.233,-105.0126 128.0557,-100.0275\"/>\n",
       "<polygon fill=\"#000000\" stroke=\"#000000\" points=\"130.5118,-97.5334 120.9977,-92.8715 125.528,-102.4489 130.5118,-97.5334\"/>\n",
       "<text text-anchor=\"middle\" x=\"150.5\" y=\"-123.8\" font-family=\"Times,serif\" font-size=\"14.00\" fill=\"#000000\">0 </text>\n",
       "</g>\n",
       "<!-- A&#45;&gt;I -->\n",
       "<g id=\"edge4\" class=\"edge\">\n",
       "<title>A&#45;&gt;I</title>\n",
       "<path fill=\"none\" stroke=\"#000000\" d=\"M184.7508,-121.3913C177.389,-112.687 167.1011,-102.0053 156,-95 150.1638,-91.3171 143.3811,-88.3729 136.8147,-86.0655\"/>\n",
       "<polygon fill=\"#000000\" stroke=\"#000000\" points=\"137.43,-82.591 126.8413,-82.9493 135.3423,-89.2724 137.43,-82.591\"/>\n",
       "<text text-anchor=\"middle\" x=\"150.5\" y=\"-98.8\" font-family=\"Times,serif\" font-size=\"14.00\" fill=\"#000000\">1 </text>\n",
       "</g>\n",
       "<!-- F&#45;&gt;I -->\n",
       "<g id=\"edge6\" class=\"edge\">\n",
       "<title>F&#45;&gt;I</title>\n",
       "<path fill=\"none\" stroke=\"#000000\" d=\"M173.8853,-21.2549C164.411,-21.8552 153.5772,-23.8401 145,-29 135.376,-34.7897 127.5905,-44.2414 121.7543,-53.3772\"/>\n",
       "<polygon fill=\"#000000\" stroke=\"#000000\" points=\"118.588,-51.8591 116.5721,-62.2603 124.6343,-55.3864 118.588,-51.8591\"/>\n",
       "<text text-anchor=\"middle\" x=\"150.5\" y=\"-32.8\" font-family=\"Times,serif\" font-size=\"14.00\" fill=\"#000000\">0 </text>\n",
       "</g>\n",
       "<!-- F&#45;&gt;I -->\n",
       "<g id=\"edge7\" class=\"edge\">\n",
       "<title>F&#45;&gt;I</title>\n",
       "<path fill=\"none\" stroke=\"#000000\" d=\"M178.0959,-8.7482C167.8779,-2.9143 155.1279,1.3357 145,-5 128.8512,-15.1022 119.7585,-34.7539 114.7524,-51.2679\"/>\n",
       "<polygon fill=\"#000000\" stroke=\"#000000\" points=\"111.3439,-50.4662 112.137,-61.0313 118.1055,-52.2776 111.3439,-50.4662\"/>\n",
       "<text text-anchor=\"middle\" x=\"150.5\" y=\"-8.8\" font-family=\"Times,serif\" font-size=\"14.00\" fill=\"#000000\">1 </text>\n",
       "</g>\n",
       "</g>\n",
       "</svg>\n"
      ],
      "text/plain": [
       "<graphviz.dot.Digraph at 0x11035c780>"
      ]
     },
     "execution_count": 13,
     "metadata": {},
     "output_type": "execute_result"
    }
   ],
   "source": [
    "# md2mc alone produces a dict similar to Fig34, above.\n",
    "# We pass it to dotObj_dfa which prints the DFA image,\n",
    "# as shown below.\n",
    "\n",
    "dotObj_dfa(md2mc(Fig34md))"
   ]
  },
  {
   "cell_type": "code",
   "execution_count": 14,
   "metadata": {
    "run_control": {
     "frozen": false,
     "read_only": false
    }
   },
   "outputs": [
    {
     "data": {
      "text/plain": [
       "True"
      ]
     },
     "execution_count": 14,
     "metadata": {},
     "output_type": "execute_result"
    }
   ],
   "source": [
    "accepts_dfa(md2mc(Fig34md), \"10101\")"
   ]
  },
  {
   "cell_type": "markdown",
   "metadata": {
    "run_control": {
     "frozen": false,
     "read_only": false
    }
   },
   "source": [
    "# Testing acceptance in one \"go\"\n",
    "\n",
    "Generating multiple strings according to the numeric order (increasing\n",
    "lengths, with each length category exhausted before going to the next \n",
    "length category) is a handy test-input generator.\n",
    "\n",
    "Plus, the \"numeric order\" is a powerful concept which we shall use \n",
    "when we later discuss the \"dovetail enumeration\" order (in Chapter 14\n",
    "and beyond).\n"
   ]
  },
  {
   "cell_type": "code",
   "execution_count": 15,
   "metadata": {
    "run_control": {
     "frozen": false,
     "read_only": false
    }
   },
   "outputs": [],
   "source": [
    "from math import floor, log, pow\n",
    "def nthnumeric(N, S=['0','1']):\n",
    "    \"\"\"Assume S ('Sigma') is a 2-sized list of chars (default ['a','b']). \n",
    "       Produce the Nth string in numeric order, where N >= 0.\n",
    "       Idea : Given N, get b = floor(log_2(N+1)) - need that \n",
    "       many places; what to fill in the places is the binary \n",
    "       code for N - (2^b - 1) with 0 as S[0] and 1 as S[1].    \n",
    "    \"\"\"\n",
    "    assert(type(S)==list # This makes sure that the order does not flip\n",
    "          ),\"nthnumeric now expects to be given a two-element list!!\" \n",
    "    assert(len(S)==2\n",
    "          ),\"Expected to be given an S of length 2.\"\n",
    "    if(N==0):\n",
    "        return ''\n",
    "    else:\n",
    "        width = floor(log(N+1, 2))\n",
    "        tofill = int(N - pow(2, width) + 1)\n",
    "        relevant_binstr = bin(tofill)[2::] # strip the 0b \n",
    "                                           # in the leading string\n",
    "        len_to_makeup = width - len(relevant_binstr)\n",
    "        return (S[0]*len_to_makeup + \n",
    "                shomo(relevant_binstr,\n",
    "                      lambda x: S[1] if x=='1' else S[0]))"
   ]
  },
  {
   "cell_type": "code",
   "execution_count": 16,
   "metadata": {
    "run_control": {
     "frozen": false,
     "read_only": false
    }
   },
   "outputs": [
    {
     "data": {
      "text/plain": [
       "['',\n",
       " '0',\n",
       " '1',\n",
       " '00',\n",
       " '01',\n",
       " '10',\n",
       " '11',\n",
       " '000',\n",
       " '001',\n",
       " '010',\n",
       " '011',\n",
       " '100',\n",
       " '101',\n",
       " '110',\n",
       " '111',\n",
       " '0000',\n",
       " '0001',\n",
       " '0010',\n",
       " '0011',\n",
       " '0100']"
      ]
     },
     "execution_count": 16,
     "metadata": {},
     "output_type": "execute_result"
    }
   ],
   "source": [
    "[ nthnumeric(i) for i in range(20) ]"
   ]
  },
  {
   "cell_type": "markdown",
   "metadata": {
    "run_control": {
     "frozen": false,
     "read_only": false
    }
   },
   "source": [
    "# Now one can write a test loop\n",
    "\n",
    "We plow thru the first 20 numeric-order listed strings,\n",
    "and test for acceptance.\n"
   ]
  },
  {
   "cell_type": "code",
   "execution_count": 17,
   "metadata": {
    "run_control": {
     "frozen": false,
     "read_only": false
    }
   },
   "outputs": [
    {
     "name": "stdout",
     "output_type": "stream",
     "text": [
      "Fig34md DFA does not accept  \n",
      "Fig34md DFA does not accept  0\n",
      "Fig34md DFA accepts  1\n",
      "Fig34md DFA does not accept  00\n",
      "Fig34md DFA does not accept  01\n",
      "Fig34md DFA does not accept  10\n",
      "Fig34md DFA does not accept  11\n",
      "Fig34md DFA does not accept  000\n",
      "Fig34md DFA accepts  001\n",
      "Fig34md DFA does not accept  010\n",
      "Fig34md DFA accepts  011\n",
      "Fig34md DFA does not accept  100\n",
      "Fig34md DFA accepts  101\n",
      "Fig34md DFA does not accept  110\n",
      "Fig34md DFA accepts  111\n",
      "Fig34md DFA does not accept  0000\n",
      "Fig34md DFA does not accept  0001\n",
      "Fig34md DFA does not accept  0010\n",
      "Fig34md DFA does not accept  0011\n",
      "Fig34md DFA does not accept  0100\n"
     ]
    }
   ],
   "source": [
    "for s in [ nthnumeric(i) for i in range(20) ]:\n",
    "    if accepts_dfa(md2mc(Fig34md), s):\n",
    "        print(\"Fig34md DFA accepts \", s)\n",
    "    else:\n",
    "        print(\"Fig34md DFA does not accept \", s)"
   ]
  },
  {
   "cell_type": "markdown",
   "metadata": {
    "run_control": {
     "frozen": false,
     "read_only": false
    }
   },
   "source": [
    "# Now, simply run the cells, use help\n",
    "\n",
    "Run the cell contents. At any time if you have a doubt about\n",
    "some function, say \"foo\", run the \"help(foo)\" command. Also\n",
    "refer to Appendix B of our book for a complete explanation of\n",
    "all the Jove functions.\n"
   ]
  },
  {
   "cell_type": "code",
   "execution_count": 18,
   "metadata": {
    "run_control": {
     "frozen": false,
     "read_only": false
    }
   },
   "outputs": [
    {
     "data": {
      "text/plain": [
       "{'Q': {'A', 'F', 'I'},\n",
       " 'Sigma': {'0', '1'},\n",
       " 'Delta': {('I', '0'): 'A',\n",
       "  ('A', '0'): 'I',\n",
       "  ('A', '1'): 'I',\n",
       "  ('I', '1'): 'F',\n",
       "  ('F', '0'): 'I',\n",
       "  ('F', '1'): 'I'},\n",
       " 'q0': 'I',\n",
       " 'F': {'F'}}"
      ]
     },
     "execution_count": 18,
     "metadata": {},
     "output_type": "execute_result"
    }
   ],
   "source": [
    "Fig34MC = md2mc(Fig34md)\n",
    "Fig34MC"
   ]
  },
  {
   "cell_type": "code",
   "execution_count": 19,
   "metadata": {
    "run_control": {
     "frozen": false,
     "read_only": false
    }
   },
   "outputs": [
    {
     "data": {
      "text/plain": [
       "True"
      ]
     },
     "execution_count": 19,
     "metadata": {},
     "output_type": "execute_result"
    }
   ],
   "source": [
    "is_partially_consistent_dfa(Fig34MC)"
   ]
  },
  {
   "cell_type": "code",
   "execution_count": 20,
   "metadata": {
    "run_control": {
     "frozen": false,
     "read_only": false
    }
   },
   "outputs": [
    {
     "data": {
      "image/svg+xml": [
       "<?xml version=\"1.0\" encoding=\"UTF-8\" standalone=\"no\"?>\n",
       "<!DOCTYPE svg PUBLIC \"-//W3C//DTD SVG 1.1//EN\"\n",
       " \"http://www.w3.org/Graphics/SVG/1.1/DTD/svg11.dtd\">\n",
       "<!-- Generated by graphviz version 2.40.1 (20161225.0304)\n",
       " -->\n",
       "<!-- Title: %3 Pages: 1 -->\n",
       "<svg width=\"234pt\" height=\"178pt\"\n",
       " viewBox=\"0.00 0.00 234.00 178.00\" xmlns=\"http://www.w3.org/2000/svg\" xmlns:xlink=\"http://www.w3.org/1999/xlink\">\n",
       "<g id=\"graph0\" class=\"graph\" transform=\"scale(1 1) rotate(0) translate(4 174)\">\n",
       "<title>%3</title>\n",
       "<polygon fill=\"#ffffff\" stroke=\"transparent\" points=\"-4,4 -4,-174 230,-174 230,4 -4,4\"/>\n",
       "<!-- EMPTY -->\n",
       "<g id=\"node1\" class=\"node\">\n",
       "<title>EMPTY</title>\n",
       "</g>\n",
       "<!-- I -->\n",
       "<g id=\"node3\" class=\"node\">\n",
       "<title>I</title>\n",
       "<ellipse fill=\"none\" stroke=\"#000000\" cx=\"113\" cy=\"-79\" rx=\"18\" ry=\"18\"/>\n",
       "<ellipse fill=\"none\" stroke=\"#000000\" cx=\"113\" cy=\"-79\" rx=\"22\" ry=\"22\"/>\n",
       "<text text-anchor=\"middle\" x=\"113\" y=\"-75.3\" font-family=\"Times,serif\" font-size=\"14.00\" fill=\"#000000\">I</text>\n",
       "</g>\n",
       "<!-- EMPTY&#45;&gt;I -->\n",
       "<g id=\"edge1\" class=\"edge\">\n",
       "<title>EMPTY&#45;&gt;I</title>\n",
       "<path fill=\"none\" stroke=\"#000000\" d=\"M54.2109,-79C62.6073,-79 71.9364,-79 80.6441,-79\"/>\n",
       "<polygon fill=\"#000000\" stroke=\"#000000\" points=\"80.8529,-82.5001 90.8529,-79 80.8528,-75.5001 80.8529,-82.5001\"/>\n",
       "</g>\n",
       "<!-- F -->\n",
       "<g id=\"node2\" class=\"node\">\n",
       "<title>F</title>\n",
       "<ellipse fill=\"none\" stroke=\"#000000\" cx=\"204\" cy=\"-136\" rx=\"18\" ry=\"18\"/>\n",
       "<text text-anchor=\"middle\" x=\"204\" y=\"-132.3\" font-family=\"Times,serif\" font-size=\"14.00\" fill=\"#000000\">F</text>\n",
       "</g>\n",
       "<!-- F&#45;&gt;I -->\n",
       "<g id=\"edge6\" class=\"edge\">\n",
       "<title>F&#45;&gt;I</title>\n",
       "<path fill=\"none\" stroke=\"#000000\" d=\"M186.8016,-130.1205C176.5865,-126.2597 163.6006,-120.6911 153,-114 147.3671,-110.4445 141.7304,-106.1112 136.5399,-101.7215\"/>\n",
       "<polygon fill=\"#000000\" stroke=\"#000000\" points=\"138.6222,-98.8903 128.8155,-94.8805 133.9812,-104.1307 138.6222,-98.8903\"/>\n",
       "<text text-anchor=\"middle\" x=\"158.5\" y=\"-122.8\" font-family=\"Times,serif\" font-size=\"14.00\" fill=\"#000000\">0 </text>\n",
       "</g>\n",
       "<!-- F&#45;&gt;I -->\n",
       "<g id=\"edge7\" class=\"edge\">\n",
       "<title>F&#45;&gt;I</title>\n",
       "<path fill=\"none\" stroke=\"#000000\" d=\"M192.8097,-121.2968C185.4701,-112.5568 175.1848,-101.8709 164,-95 157.9969,-91.3123 151.0689,-88.4046 144.2925,-86.1387\"/>\n",
       "<polygon fill=\"#000000\" stroke=\"#000000\" points=\"145.1807,-82.7515 134.5982,-83.2619 143.1893,-89.4623 145.1807,-82.7515\"/>\n",
       "<text text-anchor=\"middle\" x=\"158.5\" y=\"-98.8\" font-family=\"Times,serif\" font-size=\"14.00\" fill=\"#000000\">1 </text>\n",
       "</g>\n",
       "<!-- I&#45;&gt;F -->\n",
       "<g id=\"edge5\" class=\"edge\">\n",
       "<title>I&#45;&gt;F</title>\n",
       "<path fill=\"none\" stroke=\"#000000\" d=\"M118.3016,-100.5003C123.8219,-117.7887 134.3492,-140.9524 153,-152 161.3259,-156.9318 171.3313,-155.1907 180.2664,-151.3948\"/>\n",
       "<polygon fill=\"#000000\" stroke=\"#000000\" points=\"182.1219,-154.3762 189.4117,-146.6879 178.9185,-148.1522 182.1219,-154.3762\"/>\n",
       "<text text-anchor=\"middle\" x=\"158.5\" y=\"-158.8\" font-family=\"Times,serif\" font-size=\"14.00\" fill=\"#000000\">1 </text>\n",
       "</g>\n",
       "<!-- A -->\n",
       "<g id=\"node4\" class=\"node\">\n",
       "<title>A</title>\n",
       "<ellipse fill=\"none\" stroke=\"#000000\" cx=\"204\" cy=\"-22\" rx=\"18\" ry=\"18\"/>\n",
       "<ellipse fill=\"none\" stroke=\"#000000\" cx=\"204\" cy=\"-22\" rx=\"22\" ry=\"22\"/>\n",
       "<text text-anchor=\"middle\" x=\"204\" y=\"-18.3\" font-family=\"Times,serif\" font-size=\"14.00\" fill=\"#000000\">A</text>\n",
       "</g>\n",
       "<!-- I&#45;&gt;A -->\n",
       "<g id=\"edge2\" class=\"edge\">\n",
       "<title>I&#45;&gt;A</title>\n",
       "<path fill=\"none\" stroke=\"#000000\" d=\"M131.8553,-67.1896C144.7888,-59.0883 162.1572,-48.2092 176.6114,-39.1555\"/>\n",
       "<polygon fill=\"#000000\" stroke=\"#000000\" points=\"178.5521,-42.0699 185.1689,-33.7953 174.8362,-36.1375 178.5521,-42.0699\"/>\n",
       "<text text-anchor=\"middle\" x=\"158.5\" y=\"-56.8\" font-family=\"Times,serif\" font-size=\"14.00\" fill=\"#000000\">0 </text>\n",
       "</g>\n",
       "<!-- A&#45;&gt;I -->\n",
       "<g id=\"edge3\" class=\"edge\">\n",
       "<title>A&#45;&gt;I</title>\n",
       "<path fill=\"none\" stroke=\"#000000\" d=\"M182.009,-20.921C172.5577,-21.354 161.7076,-23.1133 153,-28 143.4324,-33.3694 135.3504,-42.0465 129.0103,-50.733\"/>\n",
       "<polygon fill=\"#000000\" stroke=\"#000000\" points=\"125.9269,-49.0467 123.2603,-59.3005 131.7392,-52.9476 125.9269,-49.0467\"/>\n",
       "<text text-anchor=\"middle\" x=\"158.5\" y=\"-31.8\" font-family=\"Times,serif\" font-size=\"14.00\" fill=\"#000000\">0 </text>\n",
       "</g>\n",
       "<!-- A&#45;&gt;I -->\n",
       "<g id=\"edge4\" class=\"edge\">\n",
       "<title>A&#45;&gt;I</title>\n",
       "<path fill=\"none\" stroke=\"#000000\" d=\"M186.2293,-8.3624C176.0558,-2.3165 163.3058,2.1835 153,-4 137.1766,-13.494 127.2676,-31.6079 121.2705,-47.6554\"/>\n",
       "<polygon fill=\"#000000\" stroke=\"#000000\" points=\"117.9023,-46.6905 118.0241,-57.2846 124.5355,-48.9268 117.9023,-46.6905\"/>\n",
       "<text text-anchor=\"middle\" x=\"158.5\" y=\"-7.8\" font-family=\"Times,serif\" font-size=\"14.00\" fill=\"#000000\">1 </text>\n",
       "</g>\n",
       "</g>\n",
       "</svg>\n"
      ],
      "text/plain": [
       "<graphviz.dot.Digraph at 0x1103a2cf8>"
      ]
     },
     "execution_count": 20,
     "metadata": {},
     "output_type": "execute_result"
    }
   ],
   "source": [
    "dotObj_dfa_w_bh(comp_dfa(Fig34MC))"
   ]
  },
  {
   "cell_type": "code",
   "execution_count": 21,
   "metadata": {
    "run_control": {
     "frozen": false,
     "read_only": false
    }
   },
   "outputs": [],
   "source": [
    "ev0 = md2mc('''\n",
    "DFA\n",
    "IF : 0 -> A\n",
    "A  : 0 -> IF\n",
    "''')"
   ]
  },
  {
   "cell_type": "code",
   "execution_count": 22,
   "metadata": {
    "run_control": {
     "frozen": false,
     "read_only": false
    }
   },
   "outputs": [
    {
     "data": {
      "text/plain": [
       "{'Q': {'A', 'IF'},\n",
       " 'Sigma': {'0'},\n",
       " 'Delta': {('IF', '0'): 'A', ('A', '0'): 'IF'},\n",
       " 'q0': 'IF',\n",
       " 'F': {'IF'}}"
      ]
     },
     "execution_count": 22,
     "metadata": {},
     "output_type": "execute_result"
    }
   ],
   "source": [
    "ev0"
   ]
  },
  {
   "cell_type": "code",
   "execution_count": 23,
   "metadata": {
    "run_control": {
     "frozen": false,
     "read_only": false
    }
   },
   "outputs": [],
   "source": [
    "dev0 = dotObj_dfa(ev0)"
   ]
  },
  {
   "cell_type": "code",
   "execution_count": 24,
   "metadata": {
    "run_control": {
     "frozen": false,
     "read_only": false
    }
   },
   "outputs": [
    {
     "data": {
      "image/svg+xml": [
       "<?xml version=\"1.0\" encoding=\"UTF-8\" standalone=\"no\"?>\n",
       "<!DOCTYPE svg PUBLIC \"-//W3C//DTD SVG 1.1//EN\"\n",
       " \"http://www.w3.org/Graphics/SVG/1.1/DTD/svg11.dtd\">\n",
       "<!-- Generated by graphviz version 2.40.1 (20161225.0304)\n",
       " -->\n",
       "<!-- Title: %3 Pages: 1 -->\n",
       "<svg width=\"228pt\" height=\"54pt\"\n",
       " viewBox=\"0.00 0.00 227.70 53.70\" xmlns=\"http://www.w3.org/2000/svg\" xmlns:xlink=\"http://www.w3.org/1999/xlink\">\n",
       "<g id=\"graph0\" class=\"graph\" transform=\"scale(1 1) rotate(0) translate(4 49.6967)\">\n",
       "<title>%3</title>\n",
       "<polygon fill=\"#ffffff\" stroke=\"transparent\" points=\"-4,4 -4,-49.6967 223.6967,-49.6967 223.6967,4 -4,4\"/>\n",
       "<!-- EMPTY -->\n",
       "<g id=\"node1\" class=\"node\">\n",
       "<title>EMPTY</title>\n",
       "</g>\n",
       "<!-- IF -->\n",
       "<g id=\"node3\" class=\"node\">\n",
       "<title>IF</title>\n",
       "<ellipse fill=\"none\" stroke=\"#000000\" cx=\"113.8483\" cy=\"-22.8483\" rx=\"18.724\" ry=\"18.724\"/>\n",
       "<ellipse fill=\"none\" stroke=\"#000000\" cx=\"113.8483\" cy=\"-22.8483\" rx=\"22.6977\" ry=\"22.6977\"/>\n",
       "<text text-anchor=\"middle\" x=\"113.8483\" y=\"-19.1483\" font-family=\"Times,serif\" font-size=\"14.00\" fill=\"#000000\">IF</text>\n",
       "</g>\n",
       "<!-- EMPTY&#45;&gt;IF -->\n",
       "<g id=\"edge1\" class=\"edge\">\n",
       "<title>EMPTY&#45;&gt;IF</title>\n",
       "<path fill=\"none\" stroke=\"#000000\" d=\"M54.0033,-22.8483C62.5212,-22.8483 72.0276,-22.8483 80.9112,-22.8483\"/>\n",
       "<polygon fill=\"#000000\" stroke=\"#000000\" points=\"80.9572,-26.3484 90.9572,-22.8483 80.9572,-19.3484 80.9572,-26.3484\"/>\n",
       "</g>\n",
       "<!-- A -->\n",
       "<g id=\"node2\" class=\"node\">\n",
       "<title>A</title>\n",
       "<ellipse fill=\"none\" stroke=\"#000000\" cx=\"201.6967\" cy=\"-22.8483\" rx=\"18\" ry=\"18\"/>\n",
       "<text text-anchor=\"middle\" x=\"201.6967\" y=\"-19.1483\" font-family=\"Times,serif\" font-size=\"14.00\" fill=\"#000000\">A</text>\n",
       "</g>\n",
       "<!-- A&#45;&gt;IF -->\n",
       "<g id=\"edge3\" class=\"edge\">\n",
       "<title>A&#45;&gt;IF</title>\n",
       "<path fill=\"none\" stroke=\"#000000\" d=\"M186.591,-12.7783C180.3899,-9.2165 172.968,-5.6494 165.6967,-3.8483 158.1475,-1.9784 150.1762,-3.2017 142.8084,-5.7454\"/>\n",
       "<polygon fill=\"#000000\" stroke=\"#000000\" points=\"141.0341,-2.6986 133.2318,-9.8662 143.8009,-9.1286 141.0341,-2.6986\"/>\n",
       "<text text-anchor=\"middle\" x=\"160.1967\" y=\"-7.6483\" font-family=\"Times,serif\" font-size=\"14.00\" fill=\"#000000\">0 </text>\n",
       "</g>\n",
       "<!-- IF&#45;&gt;A -->\n",
       "<g id=\"edge2\" class=\"edge\">\n",
       "<title>IF&#45;&gt;A</title>\n",
       "<path fill=\"none\" stroke=\"#000000\" d=\"M136.9294,-22.8483C148.0609,-22.8483 161.5173,-22.8483 173.2741,-22.8483\"/>\n",
       "<polygon fill=\"#000000\" stroke=\"#000000\" points=\"173.4778,-26.3484 183.4778,-22.8483 173.4777,-19.3484 173.4778,-26.3484\"/>\n",
       "<text text-anchor=\"middle\" x=\"160.1967\" y=\"-26.6483\" font-family=\"Times,serif\" font-size=\"14.00\" fill=\"#000000\">0 </text>\n",
       "</g>\n",
       "</g>\n",
       "</svg>\n"
      ],
      "text/plain": [
       "<graphviz.dot.Digraph at 0x1103814e0>"
      ]
     },
     "execution_count": 24,
     "metadata": {},
     "output_type": "execute_result"
    }
   ],
   "source": [
    "dev0"
   ]
  },
  {
   "cell_type": "markdown",
   "metadata": {
    "run_control": {
     "frozen": false,
     "read_only": false
    }
   },
   "source": [
    "# You can generate PDF out of a DFA\n",
    "\n",
    "This is one way to \"print\" a DFA as PDF. There are \n",
    "a few more such commands tucked away within Jupyter.\n"
   ]
  },
  {
   "cell_type": "code",
   "execution_count": 25,
   "metadata": {
    "run_control": {
     "frozen": false,
     "read_only": false
    }
   },
   "outputs": [
    {
     "data": {
      "text/plain": [
       "'dev0.pdf'"
      ]
     },
     "execution_count": 25,
     "metadata": {},
     "output_type": "execute_result"
    }
   ],
   "source": [
    "# Generate a PDF this way\n",
    "dev0.render('dev0')"
   ]
  },
  {
   "cell_type": "markdown",
   "metadata": {
    "run_control": {
     "frozen": false,
     "read_only": false
    }
   },
   "source": [
    "# Poke a DFA, add to its Sigma\n",
    "\n",
    "You can expand the Sigma of a DFA later on. Then\n",
    "if you totalize the DFA, you will see black-hole\n",
    "states emerging. The newly added symbols lead to\n",
    "the Black hole states, as shown below.\n"
   ]
  },
  {
   "cell_type": "code",
   "execution_count": 26,
   "metadata": {
    "run_control": {
     "frozen": false,
     "read_only": false
    }
   },
   "outputs": [],
   "source": [
    "ev0_bh =  addtosigma_dfa(ev0, set({'1'}))"
   ]
  },
  {
   "cell_type": "code",
   "execution_count": 27,
   "metadata": {
    "run_control": {
     "frozen": false,
     "read_only": false
    }
   },
   "outputs": [
    {
     "data": {
      "text/plain": [
       "{'Q': {'A', 'IF'},\n",
       " 'Sigma': {'0', '1'},\n",
       " 'Delta': {('IF', '0'): 'A', ('A', '0'): 'IF'},\n",
       " 'q0': 'IF',\n",
       " 'F': {'IF'}}"
      ]
     },
     "execution_count": 27,
     "metadata": {},
     "output_type": "execute_result"
    }
   ],
   "source": [
    "ev0_bh"
   ]
  },
  {
   "cell_type": "code",
   "execution_count": 28,
   "metadata": {
    "run_control": {
     "frozen": false,
     "read_only": false
    }
   },
   "outputs": [],
   "source": [
    "ev0_bh_totalize = totalize_dfa(ev0_bh)"
   ]
  },
  {
   "cell_type": "code",
   "execution_count": 29,
   "metadata": {
    "run_control": {
     "frozen": false,
     "read_only": false
    }
   },
   "outputs": [
    {
     "data": {
      "text/plain": [
       "{'Q': {'A', 'IF'},\n",
       " 'Sigma': {'0', '1'},\n",
       " 'Delta': {('IF', '0'): 'A', ('A', '0'): 'IF'},\n",
       " 'q0': 'IF',\n",
       " 'F': {'IF'}}"
      ]
     },
     "execution_count": 29,
     "metadata": {},
     "output_type": "execute_result"
    }
   ],
   "source": [
    "ev0_bh"
   ]
  },
  {
   "cell_type": "code",
   "execution_count": 30,
   "metadata": {
    "run_control": {
     "frozen": false,
     "read_only": false
    }
   },
   "outputs": [],
   "source": [
    "do_ev0_tot = dotObj_dfa_w_bh(ev0_bh_totalize)"
   ]
  },
  {
   "cell_type": "code",
   "execution_count": 31,
   "metadata": {
    "run_control": {
     "frozen": false,
     "read_only": false
    }
   },
   "outputs": [
    {
     "data": {
      "image/svg+xml": [
       "<?xml version=\"1.0\" encoding=\"UTF-8\" standalone=\"no\"?>\n",
       "<!DOCTYPE svg PUBLIC \"-//W3C//DTD SVG 1.1//EN\"\n",
       " \"http://www.w3.org/Graphics/SVG/1.1/DTD/svg11.dtd\">\n",
       "<!-- Generated by graphviz version 2.40.1 (20161225.0304)\n",
       " -->\n",
       "<!-- Title: %3 Pages: 1 -->\n",
       "<svg width=\"321pt\" height=\"121pt\"\n",
       " viewBox=\"0.00 0.00 321.49 120.80\" xmlns=\"http://www.w3.org/2000/svg\" xmlns:xlink=\"http://www.w3.org/1999/xlink\">\n",
       "<g id=\"graph0\" class=\"graph\" transform=\"scale(1 1) rotate(0) translate(4 116.7958)\">\n",
       "<title>%3</title>\n",
       "<polygon fill=\"#ffffff\" stroke=\"transparent\" points=\"-4,4 -4,-116.7958 317.4925,-116.7958 317.4925,4 -4,4\"/>\n",
       "<!-- EMPTY -->\n",
       "<g id=\"node1\" class=\"node\">\n",
       "<title>EMPTY</title>\n",
       "</g>\n",
       "<!-- IF -->\n",
       "<g id=\"node4\" class=\"node\">\n",
       "<title>IF</title>\n",
       "<ellipse fill=\"none\" stroke=\"#000000\" cx=\"113.8483\" cy=\"-40.3979\" rx=\"18.724\" ry=\"18.724\"/>\n",
       "<ellipse fill=\"none\" stroke=\"#000000\" cx=\"113.8483\" cy=\"-40.3979\" rx=\"22.6977\" ry=\"22.6977\"/>\n",
       "<text text-anchor=\"middle\" x=\"113.8483\" y=\"-36.6979\" font-family=\"Times,serif\" font-size=\"14.00\" fill=\"#000000\">IF</text>\n",
       "</g>\n",
       "<!-- EMPTY&#45;&gt;IF -->\n",
       "<g id=\"edge1\" class=\"edge\">\n",
       "<title>EMPTY&#45;&gt;IF</title>\n",
       "<path fill=\"none\" stroke=\"#000000\" d=\"M54.0033,-40.3979C62.5212,-40.3979 72.0276,-40.3979 80.9112,-40.3979\"/>\n",
       "<polygon fill=\"#000000\" stroke=\"#000000\" points=\"80.9572,-43.898 90.9572,-40.3979 80.9572,-36.898 80.9572,-43.898\"/>\n",
       "</g>\n",
       "<!-- BH -->\n",
       "<g id=\"node2\" class=\"node\">\n",
       "<title>BH</title>\n",
       "<ellipse fill=\"none\" stroke=\"#000000\" cx=\"290.0946\" cy=\"-23.3979\" rx=\"23.2963\" ry=\"23.2963\"/>\n",
       "<text text-anchor=\"middle\" x=\"290.0946\" y=\"-19.6979\" font-family=\"Times,serif\" font-size=\"14.00\" fill=\"#000000\">BH</text>\n",
       "</g>\n",
       "<!-- BH&#45;&gt;BH -->\n",
       "<g id=\"edge6\" class=\"edge\">\n",
       "<title>BH&#45;&gt;BH</title>\n",
       "<path fill=\"none\" stroke=\"#000000\" d=\"M285.82,-46.8047C285.5252,-56.5419 286.95,-64.7958 290.0946,-64.7958 292.0108,-64.7958 293.2884,-61.7308 293.9274,-57.1329\"/>\n",
       "<polygon fill=\"#000000\" stroke=\"#000000\" points=\"297.4386,-56.9452 294.3692,-46.8047 290.445,-56.646 297.4386,-56.9452\"/>\n",
       "<text text-anchor=\"middle\" x=\"290.0946\" y=\"-68.5958\" font-family=\"Times,serif\" font-size=\"14.00\" fill=\"#000000\">0 </text>\n",
       "</g>\n",
       "<!-- BH&#45;&gt;BH -->\n",
       "<g id=\"edge7\" class=\"edge\">\n",
       "<title>BH&#45;&gt;BH</title>\n",
       "<path fill=\"none\" stroke=\"#000000\" d=\"M282.7335,-45.6387C279.6897,-63.866 282.1434,-82.7958 290.0946,-82.7958 296.5549,-82.7958 299.386,-70.2992 298.588,-55.8362\"/>\n",
       "<polygon fill=\"#000000\" stroke=\"#000000\" points=\"302.0379,-55.1913 297.4556,-45.6387 295.0807,-55.9639 302.0379,-55.1913\"/>\n",
       "<text text-anchor=\"middle\" x=\"290.0946\" y=\"-86.5958\" font-family=\"Times,serif\" font-size=\"14.00\" fill=\"#000000\">1 </text>\n",
       "</g>\n",
       "<!-- A -->\n",
       "<g id=\"node3\" class=\"node\">\n",
       "<title>A</title>\n",
       "<ellipse fill=\"none\" stroke=\"#000000\" cx=\"201.6967\" cy=\"-58.3979\" rx=\"18\" ry=\"18\"/>\n",
       "<text text-anchor=\"middle\" x=\"201.6967\" y=\"-54.6979\" font-family=\"Times,serif\" font-size=\"14.00\" fill=\"#000000\">A</text>\n",
       "</g>\n",
       "<!-- A&#45;&gt;BH -->\n",
       "<g id=\"edge4\" class=\"edge\">\n",
       "<title>A&#45;&gt;BH</title>\n",
       "<path fill=\"none\" stroke=\"#000000\" d=\"M218.7407,-51.6496C230.0448,-47.1739 245.2179,-41.1663 258.6658,-35.8417\"/>\n",
       "<polygon fill=\"#000000\" stroke=\"#000000\" points=\"260.0637,-39.0527 268.073,-32.1171 257.4867,-32.5443 260.0637,-39.0527\"/>\n",
       "<text text-anchor=\"middle\" x=\"243.1967\" y=\"-47.1979\" font-family=\"Times,serif\" font-size=\"14.00\" fill=\"#000000\">1 </text>\n",
       "</g>\n",
       "<!-- A&#45;&gt;IF -->\n",
       "<g id=\"edge3\" class=\"edge\">\n",
       "<title>A&#45;&gt;IF</title>\n",
       "<path fill=\"none\" stroke=\"#000000\" d=\"M187.0762,-47.5019C180.8263,-43.4936 173.2403,-39.4374 165.6967,-37.3979 159.6746,-35.7699 153.1204,-35.2409 146.7617,-35.3359\"/>\n",
       "<polygon fill=\"#000000\" stroke=\"#000000\" points=\"146.1293,-31.8692 136.3734,-36.001 146.5766,-38.8549 146.1293,-31.8692\"/>\n",
       "<text text-anchor=\"middle\" x=\"160.1967\" y=\"-41.1979\" font-family=\"Times,serif\" font-size=\"14.00\" fill=\"#000000\">0 </text>\n",
       "</g>\n",
       "<!-- IF&#45;&gt;BH -->\n",
       "<g id=\"edge5\" class=\"edge\">\n",
       "<title>IF&#45;&gt;BH</title>\n",
       "<path fill=\"none\" stroke=\"#000000\" d=\"M134.772,-31.1695C148.4063,-25.6713 166.7495,-19.2283 183.6967,-16.3979 208.0637,-12.3284 235.9398,-14.4041 257.0445,-17.3238\"/>\n",
       "<polygon fill=\"#000000\" stroke=\"#000000\" points=\"256.7003,-20.8116 267.112,-18.8504 257.7498,-13.8907 256.7003,-20.8116\"/>\n",
       "<text text-anchor=\"middle\" x=\"201.6967\" y=\"-20.1979\" font-family=\"Times,serif\" font-size=\"14.00\" fill=\"#000000\">1 </text>\n",
       "</g>\n",
       "<!-- IF&#45;&gt;A -->\n",
       "<g id=\"edge2\" class=\"edge\">\n",
       "<title>IF&#45;&gt;A</title>\n",
       "<path fill=\"none\" stroke=\"#000000\" d=\"M134.64,-50.0708C140.9497,-52.5853 147.9896,-54.9829 154.6967,-56.3979 160.7375,-57.6724 167.3089,-58.3686 173.5709,-58.7169\"/>\n",
       "<polygon fill=\"#000000\" stroke=\"#000000\" points=\"173.5697,-62.2183 183.6688,-59.0153 173.7765,-55.2213 173.5697,-62.2183\"/>\n",
       "<text text-anchor=\"middle\" x=\"160.1967\" y=\"-61.1979\" font-family=\"Times,serif\" font-size=\"14.00\" fill=\"#000000\">0 </text>\n",
       "</g>\n",
       "</g>\n",
       "</svg>\n"
      ],
      "text/plain": [
       "<graphviz.dot.Digraph at 0x11037b9e8>"
      ]
     },
     "execution_count": 31,
     "metadata": {},
     "output_type": "execute_result"
    }
   ],
   "source": [
    "do_ev0_tot"
   ]
  },
  {
   "cell_type": "code",
   "execution_count": 32,
   "metadata": {
    "run_control": {
     "frozen": false,
     "read_only": false
    }
   },
   "outputs": [
    {
     "data": {
      "image/svg+xml": [
       "<?xml version=\"1.0\" encoding=\"UTF-8\" standalone=\"no\"?>\n",
       "<!DOCTYPE svg PUBLIC \"-//W3C//DTD SVG 1.1//EN\"\n",
       " \"http://www.w3.org/Graphics/SVG/1.1/DTD/svg11.dtd\">\n",
       "<!-- Generated by graphviz version 2.40.1 (20161225.0304)\n",
       " -->\n",
       "<!-- Title: %3 Pages: 1 -->\n",
       "<svg width=\"321pt\" height=\"103pt\"\n",
       " viewBox=\"0.00 0.00 321.49 102.80\" xmlns=\"http://www.w3.org/2000/svg\" xmlns:xlink=\"http://www.w3.org/1999/xlink\">\n",
       "<g id=\"graph0\" class=\"graph\" transform=\"scale(1 1) rotate(0) translate(4 98.7958)\">\n",
       "<title>%3</title>\n",
       "<polygon fill=\"#ffffff\" stroke=\"transparent\" points=\"-4,4 -4,-98.7958 317.4925,-98.7958 317.4925,4 -4,4\"/>\n",
       "<!-- EMPTY -->\n",
       "<g id=\"node1\" class=\"node\">\n",
       "<title>EMPTY</title>\n",
       "</g>\n",
       "<!-- IF -->\n",
       "<g id=\"node4\" class=\"node\">\n",
       "<title>IF</title>\n",
       "<ellipse fill=\"none\" stroke=\"#000000\" cx=\"113.8483\" cy=\"-40.3979\" rx=\"18.724\" ry=\"18.724\"/>\n",
       "<ellipse fill=\"none\" stroke=\"#000000\" cx=\"113.8483\" cy=\"-40.3979\" rx=\"22.6977\" ry=\"22.6977\"/>\n",
       "<text text-anchor=\"middle\" x=\"113.8483\" y=\"-36.6979\" font-family=\"Times,serif\" font-size=\"14.00\" fill=\"#000000\">IF</text>\n",
       "</g>\n",
       "<!-- EMPTY&#45;&gt;IF -->\n",
       "<g id=\"edge1\" class=\"edge\">\n",
       "<title>EMPTY&#45;&gt;IF</title>\n",
       "<path fill=\"none\" stroke=\"#000000\" d=\"M54.0033,-40.3979C62.5212,-40.3979 72.0276,-40.3979 80.9112,-40.3979\"/>\n",
       "<polygon fill=\"#000000\" stroke=\"#000000\" points=\"80.9572,-43.898 90.9572,-40.3979 80.9572,-36.898 80.9572,-43.898\"/>\n",
       "</g>\n",
       "<!-- BH -->\n",
       "<g id=\"node2\" class=\"node\">\n",
       "<title>BH</title>\n",
       "<ellipse fill=\"none\" stroke=\"#000000\" cx=\"290.0946\" cy=\"-23.3979\" rx=\"23.2963\" ry=\"23.2963\"/>\n",
       "<text text-anchor=\"middle\" x=\"290.0946\" y=\"-19.6979\" font-family=\"Times,serif\" font-size=\"14.00\" fill=\"#000000\">BH</text>\n",
       "</g>\n",
       "<!-- BH&#45;&gt;BH -->\n",
       "<g id=\"edge6\" class=\"edge\">\n",
       "<title>BH&#45;&gt;BH</title>\n",
       "<path fill=\"none\" stroke=\"#000000\" d=\"M281.6401,-45.5452C280.7178,-55.8192 283.536,-64.7958 290.0946,-64.7958 294.2962,-64.7958 296.9627,-61.1118 298.0941,-55.7628\"/>\n",
       "<polygon fill=\"#000000\" stroke=\"#000000\" points=\"301.6007,-55.691 298.549,-45.5452 294.6076,-55.3796 301.6007,-55.691\"/>\n",
       "<text text-anchor=\"middle\" x=\"290.0946\" y=\"-83.5958\" font-family=\"Times,serif\" font-size=\"14.00\" fill=\"#000000\">0 </text>\n",
       "<text text-anchor=\"middle\" x=\"290.0946\" y=\"-68.5958\" font-family=\"Times,serif\" font-size=\"14.00\" fill=\"#000000\"> 1 </text>\n",
       "</g>\n",
       "<!-- A -->\n",
       "<g id=\"node3\" class=\"node\">\n",
       "<title>A</title>\n",
       "<ellipse fill=\"none\" stroke=\"#000000\" cx=\"201.6967\" cy=\"-58.3979\" rx=\"18\" ry=\"18\"/>\n",
       "<text text-anchor=\"middle\" x=\"201.6967\" y=\"-54.6979\" font-family=\"Times,serif\" font-size=\"14.00\" fill=\"#000000\">A</text>\n",
       "</g>\n",
       "<!-- A&#45;&gt;BH -->\n",
       "<g id=\"edge4\" class=\"edge\">\n",
       "<title>A&#45;&gt;BH</title>\n",
       "<path fill=\"none\" stroke=\"#000000\" d=\"M218.7407,-51.6496C230.0448,-47.1739 245.2179,-41.1663 258.6658,-35.8417\"/>\n",
       "<polygon fill=\"#000000\" stroke=\"#000000\" points=\"260.0637,-39.0527 268.073,-32.1171 257.4867,-32.5443 260.0637,-39.0527\"/>\n",
       "<text text-anchor=\"middle\" x=\"243.1967\" y=\"-47.1979\" font-family=\"Times,serif\" font-size=\"14.00\" fill=\"#000000\">1 </text>\n",
       "</g>\n",
       "<!-- A&#45;&gt;IF -->\n",
       "<g id=\"edge3\" class=\"edge\">\n",
       "<title>A&#45;&gt;IF</title>\n",
       "<path fill=\"none\" stroke=\"#000000\" d=\"M187.0762,-47.5019C180.8263,-43.4936 173.2403,-39.4374 165.6967,-37.3979 159.6746,-35.7699 153.1204,-35.2409 146.7617,-35.3359\"/>\n",
       "<polygon fill=\"#000000\" stroke=\"#000000\" points=\"146.1293,-31.8692 136.3734,-36.001 146.5766,-38.8549 146.1293,-31.8692\"/>\n",
       "<text text-anchor=\"middle\" x=\"160.1967\" y=\"-41.1979\" font-family=\"Times,serif\" font-size=\"14.00\" fill=\"#000000\">0 </text>\n",
       "</g>\n",
       "<!-- IF&#45;&gt;BH -->\n",
       "<g id=\"edge5\" class=\"edge\">\n",
       "<title>IF&#45;&gt;BH</title>\n",
       "<path fill=\"none\" stroke=\"#000000\" d=\"M134.772,-31.1695C148.4063,-25.6713 166.7495,-19.2283 183.6967,-16.3979 208.0637,-12.3284 235.9398,-14.4041 257.0445,-17.3238\"/>\n",
       "<polygon fill=\"#000000\" stroke=\"#000000\" points=\"256.7003,-20.8116 267.112,-18.8504 257.7498,-13.8907 256.7003,-20.8116\"/>\n",
       "<text text-anchor=\"middle\" x=\"201.6967\" y=\"-20.1979\" font-family=\"Times,serif\" font-size=\"14.00\" fill=\"#000000\">1 </text>\n",
       "</g>\n",
       "<!-- IF&#45;&gt;A -->\n",
       "<g id=\"edge2\" class=\"edge\">\n",
       "<title>IF&#45;&gt;A</title>\n",
       "<path fill=\"none\" stroke=\"#000000\" d=\"M134.64,-50.0708C140.9497,-52.5853 147.9896,-54.9829 154.6967,-56.3979 160.7375,-57.6724 167.3089,-58.3686 173.5709,-58.7169\"/>\n",
       "<polygon fill=\"#000000\" stroke=\"#000000\" points=\"173.5697,-62.2183 183.6688,-59.0153 173.7765,-55.2213 173.5697,-62.2183\"/>\n",
       "<text text-anchor=\"middle\" x=\"160.1967\" y=\"-61.1979\" font-family=\"Times,serif\" font-size=\"14.00\" fill=\"#000000\">0 </text>\n",
       "</g>\n",
       "</g>\n",
       "</svg>\n"
      ],
      "text/plain": [
       "<graphviz.dot.Digraph at 0x11038bd68>"
      ]
     },
     "execution_count": 32,
     "metadata": {},
     "output_type": "execute_result"
    }
   ],
   "source": [
    "dotObj_dfa_w_bh(ev0_bh_totalize, FuseEdges=True)"
   ]
  },
  {
   "cell_type": "markdown",
   "metadata": {
    "run_control": {
     "frozen": false,
     "read_only": false
    }
   },
   "source": [
    "<span style=\"color:blue\"> **We can now write routines to print DFA using dot. The main routines are listed below.** </span>\n",
    "\n",
    "* dot_dfa_w_bh : lists all states of a DFA including black-hole states\n",
    "* dot_dfa      : lists all isNotBH states (see below for a defn), i.e. suppress black-holes\n",
    "     - Usually there are too many transitions to them and that clutters the view\n",
    "     "
   ]
  },
  {
   "cell_type": "code",
   "execution_count": 33,
   "metadata": {
    "run_control": {
     "frozen": false,
     "read_only": false
    }
   },
   "outputs": [
    {
     "data": {
      "image/svg+xml": [
       "<?xml version=\"1.0\" encoding=\"UTF-8\" standalone=\"no\"?>\n",
       "<!DOCTYPE svg PUBLIC \"-//W3C//DTD SVG 1.1//EN\"\n",
       " \"http://www.w3.org/Graphics/SVG/1.1/DTD/svg11.dtd\">\n",
       "<!-- Generated by graphviz version 2.40.1 (20161225.0304)\n",
       " -->\n",
       "<!-- Title: %3 Pages: 1 -->\n",
       "<svg width=\"336pt\" height=\"202pt\"\n",
       " viewBox=\"0.00 0.00 336.39 201.85\" xmlns=\"http://www.w3.org/2000/svg\" xmlns:xlink=\"http://www.w3.org/1999/xlink\">\n",
       "<g id=\"graph0\" class=\"graph\" transform=\"scale(1 1) rotate(0) translate(4 197.846)\">\n",
       "<title>%3</title>\n",
       "<polygon fill=\"#ffffff\" stroke=\"transparent\" points=\"-4,4 -4,-197.846 332.3887,-197.846 332.3887,4 -4,4\"/>\n",
       "<!-- EMPTY -->\n",
       "<g id=\"node1\" class=\"node\">\n",
       "<title>EMPTY</title>\n",
       "</g>\n",
       "<!-- IF -->\n",
       "<g id=\"node6\" class=\"node\">\n",
       "<title>IF</title>\n",
       "<ellipse fill=\"none\" stroke=\"#000000\" cx=\"113.8483\" cy=\"-73.1482\" rx=\"18.724\" ry=\"18.724\"/>\n",
       "<ellipse fill=\"none\" stroke=\"#000000\" cx=\"113.8483\" cy=\"-73.1482\" rx=\"22.6977\" ry=\"22.6977\"/>\n",
       "<text text-anchor=\"middle\" x=\"113.8483\" y=\"-69.4482\" font-family=\"Times,serif\" font-size=\"14.00\" fill=\"#000000\">IF</text>\n",
       "</g>\n",
       "<!-- EMPTY&#45;&gt;IF -->\n",
       "<g id=\"edge1\" class=\"edge\">\n",
       "<title>EMPTY&#45;&gt;IF</title>\n",
       "<path fill=\"none\" stroke=\"#000000\" d=\"M54.0033,-73.1482C62.5212,-73.1482 72.0276,-73.1482 80.9112,-73.1482\"/>\n",
       "<polygon fill=\"#000000\" stroke=\"#000000\" points=\"80.9572,-76.6483 90.9572,-73.1482 80.9572,-69.6483 80.9572,-76.6483\"/>\n",
       "</g>\n",
       "<!-- S10 -->\n",
       "<g id=\"node2\" class=\"node\">\n",
       "<title>S10</title>\n",
       "<ellipse fill=\"none\" stroke=\"#000000\" cx=\"303.6909\" cy=\"-30.1482\" rx=\"24.8972\" ry=\"24.8972\"/>\n",
       "<text text-anchor=\"middle\" x=\"303.6909\" y=\"-26.4482\" font-family=\"Times,serif\" font-size=\"14.00\" fill=\"#000000\">S10</text>\n",
       "</g>\n",
       "<!-- S10&#45;&gt;S10 -->\n",
       "<g id=\"edge10\" class=\"edge\">\n",
       "<title>S10&#45;&gt;S10</title>\n",
       "<path fill=\"none\" stroke=\"#000000\" d=\"M294.8315,-53.4256C293.9878,-63.8395 296.9409,-72.846 303.6909,-72.846 308.0151,-72.846 310.7811,-69.1497 311.9888,-63.7551\"/>\n",
       "<polygon fill=\"#000000\" stroke=\"#000000\" points=\"315.5023,-63.6009 312.5503,-53.4256 308.5126,-63.2209 315.5023,-63.6009\"/>\n",
       "<text text-anchor=\"middle\" x=\"303.6909\" y=\"-76.646\" font-family=\"Times,serif\" font-size=\"14.00\" fill=\"#000000\">0 </text>\n",
       "</g>\n",
       "<!-- F1 -->\n",
       "<g id=\"node5\" class=\"node\">\n",
       "<title>F1</title>\n",
       "<ellipse fill=\"none\" stroke=\"#000000\" cx=\"207.8449\" cy=\"-24.1482\" rx=\"20.2726\" ry=\"20.2726\"/>\n",
       "<ellipse fill=\"none\" stroke=\"#000000\" cx=\"207.8449\" cy=\"-24.1482\" rx=\"24.2973\" ry=\"24.2973\"/>\n",
       "<text text-anchor=\"middle\" x=\"207.8449\" y=\"-20.4482\" font-family=\"Times,serif\" font-size=\"14.00\" fill=\"#000000\">F1</text>\n",
       "</g>\n",
       "<!-- S10&#45;&gt;F1 -->\n",
       "<g id=\"edge11\" class=\"edge\">\n",
       "<title>S10&#45;&gt;F1</title>\n",
       "<path fill=\"none\" stroke=\"#000000\" d=\"M281.0735,-19.9579C274.7086,-17.5661 267.6919,-15.3621 260.9931,-14.1482 254.5059,-12.9727 247.5788,-13.1944 240.9412,-14.1352\"/>\n",
       "<polygon fill=\"#000000\" stroke=\"#000000\" points=\"239.996,-10.7537 230.8538,-16.1083 241.3397,-17.6235 239.996,-10.7537\"/>\n",
       "<text text-anchor=\"middle\" x=\"255.4931\" y=\"-17.9482\" font-family=\"Times,serif\" font-size=\"14.00\" fill=\"#000000\">1 </text>\n",
       "</g>\n",
       "<!-- S01 -->\n",
       "<g id=\"node3\" class=\"node\">\n",
       "<title>S01</title>\n",
       "<ellipse fill=\"none\" stroke=\"#000000\" cx=\"303.6909\" cy=\"-136.1482\" rx=\"24.8972\" ry=\"24.8972\"/>\n",
       "<text text-anchor=\"middle\" x=\"303.6909\" y=\"-132.4482\" font-family=\"Times,serif\" font-size=\"14.00\" fill=\"#000000\">S01</text>\n",
       "</g>\n",
       "<!-- S01&#45;&gt;S01 -->\n",
       "<g id=\"edge6\" class=\"edge\">\n",
       "<title>S01&#45;&gt;S01</title>\n",
       "<path fill=\"none\" stroke=\"#000000\" d=\"M294.8315,-159.4256C293.9878,-169.8395 296.9409,-178.846 303.6909,-178.846 308.0151,-178.846 310.7811,-175.1497 311.9888,-169.7551\"/>\n",
       "<polygon fill=\"#000000\" stroke=\"#000000\" points=\"315.5023,-169.6009 312.5503,-159.4256 308.5126,-169.2209 315.5023,-169.6009\"/>\n",
       "<text text-anchor=\"middle\" x=\"303.6909\" y=\"-182.646\" font-family=\"Times,serif\" font-size=\"14.00\" fill=\"#000000\">1 </text>\n",
       "</g>\n",
       "<!-- F0 -->\n",
       "<g id=\"node4\" class=\"node\">\n",
       "<title>F0</title>\n",
       "<ellipse fill=\"none\" stroke=\"#000000\" cx=\"207.8449\" cy=\"-123.1482\" rx=\"20.2726\" ry=\"20.2726\"/>\n",
       "<ellipse fill=\"none\" stroke=\"#000000\" cx=\"207.8449\" cy=\"-123.1482\" rx=\"24.2973\" ry=\"24.2973\"/>\n",
       "<text text-anchor=\"middle\" x=\"207.8449\" y=\"-119.4482\" font-family=\"Times,serif\" font-size=\"14.00\" fill=\"#000000\">F0</text>\n",
       "</g>\n",
       "<!-- S01&#45;&gt;F0 -->\n",
       "<g id=\"edge7\" class=\"edge\">\n",
       "<title>S01&#45;&gt;F0</title>\n",
       "<path fill=\"none\" stroke=\"#000000\" d=\"M283.9802,-120.4363C277.1066,-115.8732 269.0804,-111.4907 260.9931,-109.1482 254.0347,-107.1327 246.5291,-107.5441 239.4127,-109.12\"/>\n",
       "<polygon fill=\"#000000\" stroke=\"#000000\" points=\"237.956,-105.9022 229.3742,-112.1153 239.9575,-112.6099 237.956,-105.9022\"/>\n",
       "<text text-anchor=\"middle\" x=\"255.4931\" y=\"-112.9482\" font-family=\"Times,serif\" font-size=\"14.00\" fill=\"#000000\">0 </text>\n",
       "</g>\n",
       "<!-- F0&#45;&gt;S01 -->\n",
       "<g id=\"edge5\" class=\"edge\">\n",
       "<title>F0&#45;&gt;S01</title>\n",
       "<path fill=\"none\" stroke=\"#000000\" d=\"M232.0309,-126.4287C243.2954,-127.9565 256.9008,-129.8019 269.2168,-131.4723\"/>\n",
       "<polygon fill=\"#000000\" stroke=\"#000000\" points=\"268.7995,-134.9477 279.1792,-132.8236 269.7404,-128.0112 268.7995,-134.9477\"/>\n",
       "<text text-anchor=\"middle\" x=\"255.4931\" y=\"-132.9482\" font-family=\"Times,serif\" font-size=\"14.00\" fill=\"#000000\">1 </text>\n",
       "</g>\n",
       "<!-- F0&#45;&gt;F0 -->\n",
       "<g id=\"edge4\" class=\"edge\">\n",
       "<title>F0&#45;&gt;F0</title>\n",
       "<path fill=\"none\" stroke=\"#000000\" d=\"M199.3546,-146.126C198.546,-156.4058 201.3761,-165.2964 207.8449,-165.2964 211.9889,-165.2964 214.6396,-161.6477 215.7971,-156.3225\"/>\n",
       "<polygon fill=\"#000000\" stroke=\"#000000\" points=\"219.3032,-156.2966 216.3351,-146.126 212.3129,-155.9276 219.3032,-156.2966\"/>\n",
       "<text text-anchor=\"middle\" x=\"207.8449\" y=\"-169.0964\" font-family=\"Times,serif\" font-size=\"14.00\" fill=\"#000000\">0 </text>\n",
       "</g>\n",
       "<!-- F1&#45;&gt;S10 -->\n",
       "<g id=\"edge9\" class=\"edge\">\n",
       "<title>F1&#45;&gt;S10</title>\n",
       "<path fill=\"none\" stroke=\"#000000\" d=\"M231.3338,-30.0768C237.3743,-31.3491 243.8915,-32.504 249.9931,-33.1482 256.0606,-33.7888 262.5291,-33.9069 268.7987,-33.7275\"/>\n",
       "<polygon fill=\"#000000\" stroke=\"#000000\" points=\"269.2552,-37.2084 279.0562,-33.1845 268.8851,-30.2181 269.2552,-37.2084\"/>\n",
       "<text text-anchor=\"middle\" x=\"255.4931\" y=\"-36.9482\" font-family=\"Times,serif\" font-size=\"14.00\" fill=\"#000000\">0 </text>\n",
       "</g>\n",
       "<!-- F1&#45;&gt;F1 -->\n",
       "<g id=\"edge8\" class=\"edge\">\n",
       "<title>F1&#45;&gt;F1</title>\n",
       "<path fill=\"none\" stroke=\"#000000\" d=\"M199.3546,-47.126C198.546,-57.4058 201.3761,-66.2964 207.8449,-66.2964 211.9889,-66.2964 214.6396,-62.6477 215.7971,-57.3225\"/>\n",
       "<polygon fill=\"#000000\" stroke=\"#000000\" points=\"219.3032,-57.2966 216.3351,-47.126 212.3129,-56.9276 219.3032,-57.2966\"/>\n",
       "<text text-anchor=\"middle\" x=\"207.8449\" y=\"-70.0964\" font-family=\"Times,serif\" font-size=\"14.00\" fill=\"#000000\">1 </text>\n",
       "</g>\n",
       "<!-- IF&#45;&gt;F0 -->\n",
       "<g id=\"edge2\" class=\"edge\">\n",
       "<title>IF&#45;&gt;F0</title>\n",
       "<path fill=\"none\" stroke=\"#000000\" d=\"M134.2442,-83.9975C146.9118,-90.7358 163.4239,-99.5192 177.5976,-107.0586\"/>\n",
       "<polygon fill=\"#000000\" stroke=\"#000000\" points=\"176.0377,-110.1932 186.5101,-111.7995 179.3251,-104.0132 176.0377,-110.1932\"/>\n",
       "<text text-anchor=\"middle\" x=\"160.1967\" y=\"-102.9482\" font-family=\"Times,serif\" font-size=\"14.00\" fill=\"#000000\">0 </text>\n",
       "</g>\n",
       "<!-- IF&#45;&gt;F1 -->\n",
       "<g id=\"edge3\" class=\"edge\">\n",
       "<title>IF&#45;&gt;F1</title>\n",
       "<path fill=\"none\" stroke=\"#000000\" d=\"M134.2442,-62.5159C146.8232,-55.9586 163.1932,-47.4249 177.2999,-40.0712\"/>\n",
       "<polygon fill=\"#000000\" stroke=\"#000000\" points=\"178.931,-43.1679 186.1806,-35.4417 175.6952,-36.9607 178.931,-43.1679\"/>\n",
       "<text text-anchor=\"middle\" x=\"160.1967\" y=\"-54.9482\" font-family=\"Times,serif\" font-size=\"14.00\" fill=\"#000000\">1 </text>\n",
       "</g>\n",
       "</g>\n",
       "</svg>\n"
      ],
      "text/plain": [
       "<graphviz.dot.Digraph at 0x11036b7b8>"
      ]
     },
     "execution_count": 33,
     "metadata": {},
     "output_type": "execute_result"
    }
   ],
   "source": [
    "dfaBESame = md2mc('''\n",
    "DFA !! Begins and ends with same; epsilon allowed\n",
    "IF  : 0 -> F0\n",
    "IF  : 1 -> F1\n",
    "!!\n",
    "F0  : 0 -> F0\n",
    "F0  : 1 -> S01\n",
    "S01 : 1 -> S01\n",
    "S01 : 0 -> F0\n",
    "!!\n",
    "F1  : 1 -> F1\n",
    "F1  : 0 -> S10\n",
    "S10 : 0 -> S10\n",
    "S10 : 1 -> F1\n",
    "''')\n",
    "DOdfaBESame = dotObj_dfa(dfaBESame)\n",
    "DOdfaBESame"
   ]
  },
  {
   "cell_type": "markdown",
   "metadata": {
    "run_control": {
     "frozen": false,
     "read_only": false
    }
   },
   "source": [
    "## Let us now administer some tests to print dot-strings generated.\n",
    "\n",
    "We will demonstrate two ways to print automata: \n",
    "\n",
    "1. First generate a dot string via dot_dfa or dot_dfa_w_bh\n",
    "   (calling the result \"dot_string\") \n",
    "   1. Then use the srcObj = Source(dot_string) call\n",
    "   2. Thereafter we can display the srcObj object directly into the browser\n",
    "   3. Or, one can also later convert the dot_string to svg or PDF\n",
    "2. OR, one can directly generate a dot object via the dotObj_dfa or dotObj_dfa_w_bh call\n",
    "   (calling the result \"dot_object\")\n",
    "   1. Then directly display the dot_object\n",
    "   2. There are conversions available for dot_object to other formats too"
   ]
  },
  {
   "cell_type": "markdown",
   "metadata": {
    "run_control": {
     "frozen": false,
     "read_only": false
    }
   },
   "source": [
    "# One can read DFAs from files"
   ]
  },
  {
   "cell_type": "code",
   "execution_count": 34,
   "metadata": {
    "run_control": {
     "frozen": false,
     "read_only": false
    }
   },
   "outputs": [],
   "source": [
    "dped1 = md2mc(src=\"File\", fname=\"pedagogical1.dfa\")\n",
    "#machines/dfafiles/pedagogical1.dfa"
   ]
  },
  {
   "cell_type": "code",
   "execution_count": 35,
   "metadata": {
    "run_control": {
     "frozen": false,
     "read_only": false
    }
   },
   "outputs": [
    {
     "data": {
      "text/plain": [
       "{'Q': {'A', 'B', 'F', 'IF'},\n",
       " 'Sigma': {'0', '1'},\n",
       " 'Delta': {('IF', '0'): 'A',\n",
       "  ('IF', '1'): 'B',\n",
       "  ('A', '0'): 'B',\n",
       "  ('A', '1'): 'B',\n",
       "  ('B', '1'): 'F',\n",
       "  ('B', '0'): 'IF',\n",
       "  ('F', '0'): 'B',\n",
       "  ('F', '1'): 'B'},\n",
       " 'q0': 'IF',\n",
       " 'F': {'F', 'IF'}}"
      ]
     },
     "execution_count": 35,
     "metadata": {},
     "output_type": "execute_result"
    }
   ],
   "source": [
    "dped1"
   ]
  },
  {
   "cell_type": "code",
   "execution_count": 36,
   "metadata": {
    "run_control": {
     "frozen": false,
     "read_only": false
    }
   },
   "outputs": [
    {
     "data": {
      "image/svg+xml": [
       "<?xml version=\"1.0\" encoding=\"UTF-8\" standalone=\"no\"?>\n",
       "<!DOCTYPE svg PUBLIC \"-//W3C//DTD SVG 1.1//EN\"\n",
       " \"http://www.w3.org/Graphics/SVG/1.1/DTD/svg11.dtd\">\n",
       "<!-- Generated by graphviz version 2.40.1 (20161225.0304)\n",
       " -->\n",
       "<!-- Title: %3 Pages: 1 -->\n",
       "<svg width=\"402pt\" height=\"115pt\"\n",
       " viewBox=\"0.00 0.00 401.70 115.00\" xmlns=\"http://www.w3.org/2000/svg\" xmlns:xlink=\"http://www.w3.org/1999/xlink\">\n",
       "<g id=\"graph0\" class=\"graph\" transform=\"scale(1 1) rotate(0) translate(4 111)\">\n",
       "<title>%3</title>\n",
       "<polygon fill=\"#ffffff\" stroke=\"transparent\" points=\"-4,4 -4,-111 397.6967,-111 397.6967,4 -4,4\"/>\n",
       "<!-- EMPTY -->\n",
       "<g id=\"node1\" class=\"node\">\n",
       "<title>EMPTY</title>\n",
       "</g>\n",
       "<!-- IF -->\n",
       "<g id=\"node5\" class=\"node\">\n",
       "<title>IF</title>\n",
       "<ellipse fill=\"none\" stroke=\"#000000\" cx=\"113.8483\" cy=\"-72\" rx=\"18.724\" ry=\"18.724\"/>\n",
       "<ellipse fill=\"none\" stroke=\"#000000\" cx=\"113.8483\" cy=\"-72\" rx=\"22.6977\" ry=\"22.6977\"/>\n",
       "<text text-anchor=\"middle\" x=\"113.8483\" y=\"-68.3\" font-family=\"Times,serif\" font-size=\"14.00\" fill=\"#000000\">IF</text>\n",
       "</g>\n",
       "<!-- EMPTY&#45;&gt;IF -->\n",
       "<g id=\"edge1\" class=\"edge\">\n",
       "<title>EMPTY&#45;&gt;IF</title>\n",
       "<path fill=\"none\" stroke=\"#000000\" d=\"M54.0033,-72C62.5212,-72 72.0276,-72 80.9112,-72\"/>\n",
       "<polygon fill=\"#000000\" stroke=\"#000000\" points=\"80.9572,-75.5001 90.9572,-72 80.9572,-68.5001 80.9572,-75.5001\"/>\n",
       "</g>\n",
       "<!-- B -->\n",
       "<g id=\"node2\" class=\"node\">\n",
       "<title>B</title>\n",
       "<ellipse fill=\"none\" stroke=\"#000000\" cx=\"284.6967\" cy=\"-57\" rx=\"18\" ry=\"18\"/>\n",
       "<text text-anchor=\"middle\" x=\"284.6967\" y=\"-53.3\" font-family=\"Times,serif\" font-size=\"14.00\" fill=\"#000000\">B</text>\n",
       "</g>\n",
       "<!-- F -->\n",
       "<g id=\"node4\" class=\"node\">\n",
       "<title>F</title>\n",
       "<ellipse fill=\"none\" stroke=\"#000000\" cx=\"371.6967\" cy=\"-57\" rx=\"18\" ry=\"18\"/>\n",
       "<ellipse fill=\"none\" stroke=\"#000000\" cx=\"371.6967\" cy=\"-57\" rx=\"22\" ry=\"22\"/>\n",
       "<text text-anchor=\"middle\" x=\"371.6967\" y=\"-53.3\" font-family=\"Times,serif\" font-size=\"14.00\" fill=\"#000000\">F</text>\n",
       "</g>\n",
       "<!-- B&#45;&gt;F -->\n",
       "<g id=\"edge6\" class=\"edge\">\n",
       "<title>B&#45;&gt;F</title>\n",
       "<path fill=\"none\" stroke=\"#000000\" d=\"M300.6969,-65.8317C306.7711,-68.7176 313.8724,-71.5518 320.6967,-73 328.0608,-74.5628 335.8792,-73.5283 343.1243,-71.3858\"/>\n",
       "<polygon fill=\"#000000\" stroke=\"#000000\" points=\"344.3758,-74.6548 352.5523,-67.9172 341.9588,-68.0853 344.3758,-74.6548\"/>\n",
       "<text text-anchor=\"middle\" x=\"326.1967\" y=\"-76.8\" font-family=\"Times,serif\" font-size=\"14.00\" fill=\"#000000\">1 </text>\n",
       "</g>\n",
       "<!-- B&#45;&gt;IF -->\n",
       "<g id=\"edge7\" class=\"edge\">\n",
       "<title>B&#45;&gt;IF</title>\n",
       "<path fill=\"none\" stroke=\"#000000\" d=\"M266.6981,-58.5802C238.402,-61.0645 183.0587,-65.9235 147.3051,-69.0626\"/>\n",
       "<polygon fill=\"#000000\" stroke=\"#000000\" points=\"146.5452,-65.6158 136.8897,-69.977 147.1575,-72.5889 146.5452,-65.6158\"/>\n",
       "<text text-anchor=\"middle\" x=\"201.6967\" y=\"-68.8\" font-family=\"Times,serif\" font-size=\"14.00\" fill=\"#000000\">0 </text>\n",
       "</g>\n",
       "<!-- A -->\n",
       "<g id=\"node3\" class=\"node\">\n",
       "<title>A</title>\n",
       "<ellipse fill=\"none\" stroke=\"#000000\" cx=\"201.6967\" cy=\"-18\" rx=\"18\" ry=\"18\"/>\n",
       "<text text-anchor=\"middle\" x=\"201.6967\" y=\"-14.3\" font-family=\"Times,serif\" font-size=\"14.00\" fill=\"#000000\">A</text>\n",
       "</g>\n",
       "<!-- A&#45;&gt;B -->\n",
       "<g id=\"edge4\" class=\"edge\">\n",
       "<title>A&#45;&gt;B</title>\n",
       "<path fill=\"none\" stroke=\"#000000\" d=\"M218.0948,-25.7051C229.8038,-31.207 245.7833,-38.7154 259.1551,-44.9985\"/>\n",
       "<polygon fill=\"#000000\" stroke=\"#000000\" points=\"257.7935,-48.2258 268.3326,-49.3109 260.7704,-41.8904 257.7935,-48.2258\"/>\n",
       "<text text-anchor=\"middle\" x=\"243.1967\" y=\"-42.8\" font-family=\"Times,serif\" font-size=\"14.00\" fill=\"#000000\">0 </text>\n",
       "</g>\n",
       "<!-- A&#45;&gt;B -->\n",
       "<g id=\"edge5\" class=\"edge\">\n",
       "<title>A&#45;&gt;B</title>\n",
       "<path fill=\"none\" stroke=\"#000000\" d=\"M219.3869,-13.552C228.5199,-12.1522 239.6197,-11.8906 248.6967,-16 256.7058,-19.626 263.6394,-26.0119 269.2247,-32.6799\"/>\n",
       "<polygon fill=\"#000000\" stroke=\"#000000\" points=\"266.7464,-35.2071 275.5576,-41.0904 272.3384,-30.9965 266.7464,-35.2071\"/>\n",
       "<text text-anchor=\"middle\" x=\"243.1967\" y=\"-19.8\" font-family=\"Times,serif\" font-size=\"14.00\" fill=\"#000000\">1 </text>\n",
       "</g>\n",
       "<!-- F&#45;&gt;B -->\n",
       "<g id=\"edge8\" class=\"edge\">\n",
       "<title>F&#45;&gt;B</title>\n",
       "<path fill=\"none\" stroke=\"#000000\" d=\"M349.6141,-54.7333C340.644,-54.065 330.1788,-53.6056 320.6967,-54 318.1197,-54.1072 315.4416,-54.2574 312.7614,-54.4339\"/>\n",
       "<polygon fill=\"#000000\" stroke=\"#000000\" points=\"312.3269,-50.9569 302.6235,-55.2107 312.8618,-57.9364 312.3269,-50.9569\"/>\n",
       "<text text-anchor=\"middle\" x=\"326.1967\" y=\"-57.8\" font-family=\"Times,serif\" font-size=\"14.00\" fill=\"#000000\">0 </text>\n",
       "</g>\n",
       "<!-- F&#45;&gt;B -->\n",
       "<g id=\"edge9\" class=\"edge\">\n",
       "<title>F&#45;&gt;B</title>\n",
       "<path fill=\"none\" stroke=\"#000000\" d=\"M354.6869,-42.5753C344.982,-36.0859 332.4438,-30.5678 320.6967,-34 316.1694,-35.3228 311.6699,-37.4076 307.4637,-39.7944\"/>\n",
       "<polygon fill=\"#000000\" stroke=\"#000000\" points=\"305.3626,-36.9836 298.8273,-45.3228 309.1365,-42.8792 305.3626,-36.9836\"/>\n",
       "<text text-anchor=\"middle\" x=\"326.1967\" y=\"-37.8\" font-family=\"Times,serif\" font-size=\"14.00\" fill=\"#000000\">1 </text>\n",
       "</g>\n",
       "<!-- IF&#45;&gt;B -->\n",
       "<g id=\"edge3\" class=\"edge\">\n",
       "<title>IF&#45;&gt;B</title>\n",
       "<path fill=\"none\" stroke=\"#000000\" d=\"M135.2772,-80.0619C141.4814,-82.1997 148.3054,-84.3649 154.6967,-86 182.7668,-93.1813 190.8279,-93.4705 219.6967,-91 232.7281,-89.8848 236.778,-91.3859 248.6967,-86 253.999,-83.6039 259.1854,-80.2391 263.8963,-76.6463\"/>\n",
       "<polygon fill=\"#000000\" stroke=\"#000000\" points=\"266.3289,-79.1756 271.7846,-70.0934 261.856,-73.7911 266.3289,-79.1756\"/>\n",
       "<text text-anchor=\"middle\" x=\"201.6967\" y=\"-95.8\" font-family=\"Times,serif\" font-size=\"14.00\" fill=\"#000000\">1 </text>\n",
       "</g>\n",
       "<!-- IF&#45;&gt;A -->\n",
       "<g id=\"edge2\" class=\"edge\">\n",
       "<title>IF&#45;&gt;A</title>\n",
       "<path fill=\"none\" stroke=\"#000000\" d=\"M132.2151,-58.2022C139.1302,-53.2108 147.1483,-47.6603 154.6967,-43 161.509,-38.7941 169.0925,-34.5721 176.1454,-30.8264\"/>\n",
       "<polygon fill=\"#000000\" stroke=\"#000000\" points=\"178.054,-33.7789 185.3116,-26.0602 174.8247,-27.5683 178.054,-33.7789\"/>\n",
       "<text text-anchor=\"middle\" x=\"160.1967\" y=\"-46.8\" font-family=\"Times,serif\" font-size=\"14.00\" fill=\"#000000\">0 </text>\n",
       "</g>\n",
       "</g>\n",
       "</svg>\n"
      ],
      "text/plain": [
       "<graphviz.dot.Digraph at 0x1103a7c50>"
      ]
     },
     "execution_count": 36,
     "metadata": {},
     "output_type": "execute_result"
    }
   ],
   "source": [
    "dotObj_dfa(dped1)"
   ]
  },
  {
   "cell_type": "code",
   "execution_count": 37,
   "metadata": {
    "run_control": {
     "frozen": false,
     "read_only": false
    }
   },
   "outputs": [
    {
     "data": {
      "image/svg+xml": [
       "<?xml version=\"1.0\" encoding=\"UTF-8\" standalone=\"no\"?>\n",
       "<!DOCTYPE svg PUBLIC \"-//W3C//DTD SVG 1.1//EN\"\n",
       " \"http://www.w3.org/Graphics/SVG/1.1/DTD/svg11.dtd\">\n",
       "<!-- Generated by graphviz version 2.40.1 (20161225.0304)\n",
       " -->\n",
       "<!-- Title: %3 Pages: 1 -->\n",
       "<svg width=\"410pt\" height=\"117pt\"\n",
       " viewBox=\"0.00 0.00 409.70 117.00\" xmlns=\"http://www.w3.org/2000/svg\" xmlns:xlink=\"http://www.w3.org/1999/xlink\">\n",
       "<g id=\"graph0\" class=\"graph\" transform=\"scale(1 1) rotate(0) translate(4 113)\">\n",
       "<title>%3</title>\n",
       "<polygon fill=\"#ffffff\" stroke=\"transparent\" points=\"-4,4 -4,-113 405.6967,-113 405.6967,4 -4,4\"/>\n",
       "<!-- EMPTY -->\n",
       "<g id=\"node1\" class=\"node\">\n",
       "<title>EMPTY</title>\n",
       "</g>\n",
       "<!-- IF -->\n",
       "<g id=\"node5\" class=\"node\">\n",
       "<title>IF</title>\n",
       "<ellipse fill=\"none\" stroke=\"#000000\" cx=\"113.8483\" cy=\"-72\" rx=\"18.724\" ry=\"18.724\"/>\n",
       "<ellipse fill=\"none\" stroke=\"#000000\" cx=\"113.8483\" cy=\"-72\" rx=\"22.6977\" ry=\"22.6977\"/>\n",
       "<text text-anchor=\"middle\" x=\"113.8483\" y=\"-68.3\" font-family=\"Times,serif\" font-size=\"14.00\" fill=\"#000000\">IF</text>\n",
       "</g>\n",
       "<!-- EMPTY&#45;&gt;IF -->\n",
       "<g id=\"edge1\" class=\"edge\">\n",
       "<title>EMPTY&#45;&gt;IF</title>\n",
       "<path fill=\"none\" stroke=\"#000000\" d=\"M54.0033,-72C62.5212,-72 72.0276,-72 80.9112,-72\"/>\n",
       "<polygon fill=\"#000000\" stroke=\"#000000\" points=\"80.9572,-75.5001 90.9572,-72 80.9572,-68.5001 80.9572,-75.5001\"/>\n",
       "</g>\n",
       "<!-- B -->\n",
       "<g id=\"node2\" class=\"node\">\n",
       "<title>B</title>\n",
       "<ellipse fill=\"none\" stroke=\"#000000\" cx=\"288.6967\" cy=\"-72\" rx=\"18\" ry=\"18\"/>\n",
       "<text text-anchor=\"middle\" x=\"288.6967\" y=\"-68.3\" font-family=\"Times,serif\" font-size=\"14.00\" fill=\"#000000\">B</text>\n",
       "</g>\n",
       "<!-- F -->\n",
       "<g id=\"node4\" class=\"node\">\n",
       "<title>F</title>\n",
       "<ellipse fill=\"none\" stroke=\"#000000\" cx=\"379.6967\" cy=\"-72\" rx=\"18\" ry=\"18\"/>\n",
       "<ellipse fill=\"none\" stroke=\"#000000\" cx=\"379.6967\" cy=\"-72\" rx=\"22\" ry=\"22\"/>\n",
       "<text text-anchor=\"middle\" x=\"379.6967\" y=\"-68.3\" font-family=\"Times,serif\" font-size=\"14.00\" fill=\"#000000\">F</text>\n",
       "</g>\n",
       "<!-- B&#45;&gt;F -->\n",
       "<g id=\"edge5\" class=\"edge\">\n",
       "<title>B&#45;&gt;F</title>\n",
       "<path fill=\"none\" stroke=\"#000000\" d=\"M306.5911,-74.9814C312.3538,-75.8083 318.7794,-76.591 324.6967,-77 332.1082,-77.5122 340.0718,-77.2563 347.5743,-76.6504\"/>\n",
       "<polygon fill=\"#000000\" stroke=\"#000000\" points=\"348.1776,-80.1069 357.768,-75.6041 347.4629,-73.1435 348.1776,-80.1069\"/>\n",
       "<text text-anchor=\"middle\" x=\"332.1967\" y=\"-80.8\" font-family=\"Times,serif\" font-size=\"14.00\" fill=\"#000000\">1 </text>\n",
       "</g>\n",
       "<!-- B&#45;&gt;IF -->\n",
       "<g id=\"edge6\" class=\"edge\">\n",
       "<title>B&#45;&gt;IF</title>\n",
       "<path fill=\"none\" stroke=\"#000000\" d=\"M270.6127,-72C241.4458,-72 183.5852,-72 146.9027,-72\"/>\n",
       "<polygon fill=\"#000000\" stroke=\"#000000\" points=\"146.7067,-68.5001 136.7067,-72 146.7067,-75.5001 146.7067,-68.5001\"/>\n",
       "<text text-anchor=\"middle\" x=\"201.6967\" y=\"-75.8\" font-family=\"Times,serif\" font-size=\"14.00\" fill=\"#000000\">0 </text>\n",
       "</g>\n",
       "<!-- A -->\n",
       "<g id=\"node3\" class=\"node\">\n",
       "<title>A</title>\n",
       "<ellipse fill=\"none\" stroke=\"#000000\" cx=\"201.6967\" cy=\"-18\" rx=\"18\" ry=\"18\"/>\n",
       "<text text-anchor=\"middle\" x=\"201.6967\" y=\"-14.3\" font-family=\"Times,serif\" font-size=\"14.00\" fill=\"#000000\">A</text>\n",
       "</g>\n",
       "<!-- A&#45;&gt;B -->\n",
       "<g id=\"edge4\" class=\"edge\">\n",
       "<title>A&#45;&gt;B</title>\n",
       "<path fill=\"none\" stroke=\"#000000\" d=\"M219.7644,-18.5515C230.037,-19.5687 242.787,-22.0687 252.6967,-28 260.8532,-32.882 267.9679,-40.3184 273.6703,-47.6962\"/>\n",
       "<polygon fill=\"#000000\" stroke=\"#000000\" points=\"271.0482,-50.0488 279.6933,-56.1736 276.7546,-45.9945 271.0482,-50.0488\"/>\n",
       "<text text-anchor=\"middle\" x=\"245.1967\" y=\"-46.8\" font-family=\"Times,serif\" font-size=\"14.00\" fill=\"#000000\">0 </text>\n",
       "<text text-anchor=\"middle\" x=\"245.1967\" y=\"-31.8\" font-family=\"Times,serif\" font-size=\"14.00\" fill=\"#000000\"> 1 </text>\n",
       "</g>\n",
       "<!-- F&#45;&gt;B -->\n",
       "<g id=\"edge7\" class=\"edge\">\n",
       "<title>F&#45;&gt;B</title>\n",
       "<path fill=\"none\" stroke=\"#000000\" d=\"M363.4989,-56.6879C356.6896,-51.2594 348.3452,-45.8053 339.6967,-43 328.7183,-39.439 317.4667,-44.7121 308.3346,-51.6964\"/>\n",
       "<polygon fill=\"#000000\" stroke=\"#000000\" points=\"305.8782,-49.1937 300.6126,-58.3874 310.4622,-54.4841 305.8782,-49.1937\"/>\n",
       "<text text-anchor=\"middle\" x=\"332.1967\" y=\"-61.8\" font-family=\"Times,serif\" font-size=\"14.00\" fill=\"#000000\">0 </text>\n",
       "<text text-anchor=\"middle\" x=\"332.1967\" y=\"-46.8\" font-family=\"Times,serif\" font-size=\"14.00\" fill=\"#000000\"> 1 </text>\n",
       "</g>\n",
       "<!-- IF&#45;&gt;B -->\n",
       "<g id=\"edge3\" class=\"edge\">\n",
       "<title>IF&#45;&gt;B</title>\n",
       "<path fill=\"none\" stroke=\"#000000\" d=\"M135.2772,-80.0619C141.4814,-82.1997 148.3054,-84.3649 154.6967,-86 196.8932,-96.7952 210.6121,-97.2239 252.6967,-86 255.9364,-85.136 259.2839,-84.0754 262.5735,-82.928\"/>\n",
       "<polygon fill=\"#000000\" stroke=\"#000000\" points=\"263.9806,-86.1381 272.1029,-79.3351 261.511,-79.5881 263.9806,-86.1381\"/>\n",
       "<text text-anchor=\"middle\" x=\"201.6967\" y=\"-97.8\" font-family=\"Times,serif\" font-size=\"14.00\" fill=\"#000000\">1 </text>\n",
       "</g>\n",
       "<!-- IF&#45;&gt;A -->\n",
       "<g id=\"edge2\" class=\"edge\">\n",
       "<title>IF&#45;&gt;A</title>\n",
       "<path fill=\"none\" stroke=\"#000000\" d=\"M132.2151,-58.2022C139.1302,-53.2108 147.1483,-47.6603 154.6967,-43 161.509,-38.7941 169.0925,-34.5721 176.1454,-30.8264\"/>\n",
       "<polygon fill=\"#000000\" stroke=\"#000000\" points=\"178.054,-33.7789 185.3116,-26.0602 174.8247,-27.5683 178.054,-33.7789\"/>\n",
       "<text text-anchor=\"middle\" x=\"160.1967\" y=\"-46.8\" font-family=\"Times,serif\" font-size=\"14.00\" fill=\"#000000\">0 </text>\n",
       "</g>\n",
       "</g>\n",
       "</svg>\n"
      ],
      "text/plain": [
       "<graphviz.dot.Digraph at 0x1103be278>"
      ]
     },
     "execution_count": 37,
     "metadata": {},
     "output_type": "execute_result"
    }
   ],
   "source": [
    "dotObj_dfa(dped1, FuseEdges=True)"
   ]
  },
  {
   "cell_type": "code",
   "execution_count": 38,
   "metadata": {
    "run_control": {
     "frozen": false,
     "read_only": false
    }
   },
   "outputs": [],
   "source": [
    "ends0101 = md2mc(src=\"File\", fname=\"endsin0101.dfa\")"
   ]
  },
  {
   "cell_type": "code",
   "execution_count": 39,
   "metadata": {
    "run_control": {
     "frozen": false,
     "read_only": false
    }
   },
   "outputs": [
    {
     "data": {
      "image/svg+xml": [
       "<?xml version=\"1.0\" encoding=\"UTF-8\" standalone=\"no\"?>\n",
       "<!DOCTYPE svg PUBLIC \"-//W3C//DTD SVG 1.1//EN\"\n",
       " \"http://www.w3.org/Graphics/SVG/1.1/DTD/svg11.dtd\">\n",
       "<!-- Generated by graphviz version 2.40.1 (20161225.0304)\n",
       " -->\n",
       "<!-- Title: %3 Pages: 1 -->\n",
       "<svg width=\"547pt\" height=\"170pt\"\n",
       " viewBox=\"0.00 0.00 546.78 169.95\" xmlns=\"http://www.w3.org/2000/svg\" xmlns:xlink=\"http://www.w3.org/1999/xlink\">\n",
       "<g id=\"graph0\" class=\"graph\" transform=\"scale(1 1) rotate(0) translate(4 165.9452)\">\n",
       "<title>%3</title>\n",
       "<polygon fill=\"#ffffff\" stroke=\"transparent\" points=\"-4,4 -4,-165.9452 542.7809,-165.9452 542.7809,4 -4,4\"/>\n",
       "<!-- EMPTY -->\n",
       "<g id=\"node1\" class=\"node\">\n",
       "<title>EMPTY</title>\n",
       "</g>\n",
       "<!-- I -->\n",
       "<g id=\"node3\" class=\"node\">\n",
       "<title>I</title>\n",
       "<ellipse fill=\"none\" stroke=\"#000000\" cx=\"109\" cy=\"-55.797\" rx=\"18\" ry=\"18\"/>\n",
       "<text text-anchor=\"middle\" x=\"109\" y=\"-52.097\" font-family=\"Times,serif\" font-size=\"14.00\" fill=\"#000000\">I</text>\n",
       "</g>\n",
       "<!-- EMPTY&#45;&gt;I -->\n",
       "<g id=\"edge1\" class=\"edge\">\n",
       "<title>EMPTY&#45;&gt;I</title>\n",
       "<path fill=\"none\" stroke=\"#000000\" d=\"M54.3048,-55.797C62.6909,-55.797 71.9407,-55.797 80.4103,-55.797\"/>\n",
       "<polygon fill=\"#000000\" stroke=\"#000000\" points=\"80.5976,-59.2971 90.5976,-55.797 80.5976,-52.2971 80.5976,-59.2971\"/>\n",
       "</g>\n",
       "<!-- S0 -->\n",
       "<g id=\"node2\" class=\"node\">\n",
       "<title>S0</title>\n",
       "<ellipse fill=\"none\" stroke=\"#000000\" cx=\"194.1482\" cy=\"-108.797\" rx=\"20.2975\" ry=\"20.2975\"/>\n",
       "<text text-anchor=\"middle\" x=\"194.1482\" y=\"-105.097\" font-family=\"Times,serif\" font-size=\"14.00\" fill=\"#000000\">S0</text>\n",
       "</g>\n",
       "<!-- S0&#45;&gt;S0 -->\n",
       "<g id=\"edge4\" class=\"edge\">\n",
       "<title>S0&#45;&gt;S0</title>\n",
       "<path fill=\"none\" stroke=\"#000000\" d=\"M186.5981,-127.6398C185.3151,-137.7419 187.8318,-146.9452 194.1482,-146.9452 198.1947,-146.9452 200.6817,-143.1682 201.6093,-137.7975\"/>\n",
       "<polygon fill=\"#000000\" stroke=\"#000000\" points=\"205.1105,-137.6701 201.6983,-127.6398 198.1108,-137.6088 205.1105,-137.6701\"/>\n",
       "<text text-anchor=\"middle\" x=\"194.1482\" y=\"-150.7452\" font-family=\"Times,serif\" font-size=\"14.00\" fill=\"#000000\">0 </text>\n",
       "</g>\n",
       "<!-- S01 -->\n",
       "<g id=\"node5\" class=\"node\">\n",
       "<title>S01</title>\n",
       "<ellipse fill=\"none\" stroke=\"#000000\" cx=\"285.9942\" cy=\"-62.797\" rx=\"24.8972\" ry=\"24.8972\"/>\n",
       "<text text-anchor=\"middle\" x=\"285.9942\" y=\"-59.097\" font-family=\"Times,serif\" font-size=\"14.00\" fill=\"#000000\">S01</text>\n",
       "</g>\n",
       "<!-- S0&#45;&gt;S01 -->\n",
       "<g id=\"edge5\" class=\"edge\">\n",
       "<title>S0&#45;&gt;S01</title>\n",
       "<path fill=\"none\" stroke=\"#000000\" d=\"M212.294,-99.7089C224.2724,-93.7097 240.2895,-85.6877 254.3317,-78.6548\"/>\n",
       "<polygon fill=\"#000000\" stroke=\"#000000\" points=\"256.2899,-81.5886 263.6638,-73.9809 253.1551,-75.3297 256.2899,-81.5886\"/>\n",
       "<text text-anchor=\"middle\" x=\"237.7964\" y=\"-91.597\" font-family=\"Times,serif\" font-size=\"14.00\" fill=\"#000000\">1 </text>\n",
       "</g>\n",
       "<!-- I&#45;&gt;S0 -->\n",
       "<g id=\"edge2\" class=\"edge\">\n",
       "<title>I&#45;&gt;S0</title>\n",
       "<path fill=\"none\" stroke=\"#000000\" d=\"M124.6175,-65.518C136.7477,-73.0684 153.8377,-83.706 168.0387,-92.5453\"/>\n",
       "<polygon fill=\"#000000\" stroke=\"#000000\" points=\"166.533,-95.7307 176.8723,-98.0437 170.2321,-89.7879 166.533,-95.7307\"/>\n",
       "<text text-anchor=\"middle\" x=\"150.5\" y=\"-87.597\" font-family=\"Times,serif\" font-size=\"14.00\" fill=\"#000000\">0 </text>\n",
       "</g>\n",
       "<!-- I&#45;&gt;I -->\n",
       "<g id=\"edge3\" class=\"edge\">\n",
       "<title>I&#45;&gt;I</title>\n",
       "<path fill=\"none\" stroke=\"#000000\" d=\"M102.6208,-72.8343C101.3189,-82.6549 103.4453,-91.797 109,-91.797 112.4717,-91.797 114.6042,-88.2259 115.3975,-83.1499\"/>\n",
       "<polygon fill=\"#000000\" stroke=\"#000000\" points=\"118.8971,-82.828 115.3792,-72.8343 111.8971,-82.8405 118.8971,-82.828\"/>\n",
       "<text text-anchor=\"middle\" x=\"109\" y=\"-95.597\" font-family=\"Times,serif\" font-size=\"14.00\" fill=\"#000000\">1 </text>\n",
       "</g>\n",
       "<!-- S010 -->\n",
       "<g id=\"node4\" class=\"node\">\n",
       "<title>S010</title>\n",
       "<ellipse fill=\"none\" stroke=\"#000000\" cx=\"386.9394\" cy=\"-71.797\" rx=\"29.4969\" ry=\"29.4969\"/>\n",
       "<text text-anchor=\"middle\" x=\"386.9394\" y=\"-68.097\" font-family=\"Times,serif\" font-size=\"14.00\" fill=\"#000000\">S010</text>\n",
       "</g>\n",
       "<!-- S010&#45;&gt;S0 -->\n",
       "<g id=\"edge8\" class=\"edge\">\n",
       "<title>S010&#45;&gt;S0</title>\n",
       "<path fill=\"none\" stroke=\"#000000\" d=\"M359.3773,-82.0871C345.0275,-87.1231 327.0964,-92.9202 310.692,-96.797 281.2223,-103.7615 273.4443,-103.9551 243.2964,-106.797 237.4513,-107.348 231.2009,-107.7473 225.1846,-108.0366\"/>\n",
       "<polygon fill=\"#000000\" stroke=\"#000000\" points=\"224.6006,-104.5568 214.7461,-108.4477 224.8761,-111.5514 224.6006,-104.5568\"/>\n",
       "<text text-anchor=\"middle\" x=\"285.9942\" y=\"-108.597\" font-family=\"Times,serif\" font-size=\"14.00\" fill=\"#000000\">0 </text>\n",
       "</g>\n",
       "<!-- F0101 -->\n",
       "<g id=\"node6\" class=\"node\">\n",
       "<title>F0101</title>\n",
       "<ellipse fill=\"none\" stroke=\"#000000\" cx=\"500.9839\" cy=\"-37.797\" rx=\"33.6165\" ry=\"33.6165\"/>\n",
       "<ellipse fill=\"none\" stroke=\"#000000\" cx=\"500.9839\" cy=\"-37.797\" rx=\"37.5951\" ry=\"37.5951\"/>\n",
       "<text text-anchor=\"middle\" x=\"500.9839\" y=\"-34.097\" font-family=\"Times,serif\" font-size=\"14.00\" fill=\"#000000\">F0101</text>\n",
       "</g>\n",
       "<!-- S010&#45;&gt;F0101 -->\n",
       "<g id=\"edge9\" class=\"edge\">\n",
       "<title>S010&#45;&gt;F0101</title>\n",
       "<path fill=\"none\" stroke=\"#000000\" d=\"M409.0022,-52.3492C416.4893,-46.9038 425.2368,-41.6869 434.1869,-38.797 440.1985,-36.8559 446.6759,-35.6955 453.1487,-35.0715\"/>\n",
       "<polygon fill=\"#000000\" stroke=\"#000000\" points=\"453.4637,-38.5593 463.2489,-34.4973 453.0664,-31.5706 453.4637,-38.5593\"/>\n",
       "<text text-anchor=\"middle\" x=\"439.6869\" y=\"-42.597\" font-family=\"Times,serif\" font-size=\"14.00\" fill=\"#000000\">1 </text>\n",
       "</g>\n",
       "<!-- S01&#45;&gt;I -->\n",
       "<g id=\"edge7\" class=\"edge\">\n",
       "<title>S01&#45;&gt;I</title>\n",
       "<path fill=\"none\" stroke=\"#000000\" d=\"M261.0414,-61.8101C228.5079,-60.5235 171.7326,-58.278 137.5279,-56.9253\"/>\n",
       "<polygon fill=\"#000000\" stroke=\"#000000\" points=\"137.4054,-53.4178 127.2748,-56.5198 137.1287,-60.4123 137.4054,-53.4178\"/>\n",
       "<text text-anchor=\"middle\" x=\"194.1482\" y=\"-63.597\" font-family=\"Times,serif\" font-size=\"14.00\" fill=\"#000000\">1 </text>\n",
       "</g>\n",
       "<!-- S01&#45;&gt;S010 -->\n",
       "<g id=\"edge6\" class=\"edge\">\n",
       "<title>S01&#45;&gt;S010</title>\n",
       "<path fill=\"none\" stroke=\"#000000\" d=\"M310.6882,-64.9986C321.7235,-65.9825 335.0062,-67.1668 347.3718,-68.2693\"/>\n",
       "<polygon fill=\"#000000\" stroke=\"#000000\" points=\"347.2024,-71.768 357.4737,-69.1699 347.8241,-64.7956 347.2024,-71.768\"/>\n",
       "<text text-anchor=\"middle\" x=\"334.192\" y=\"-70.597\" font-family=\"Times,serif\" font-size=\"14.00\" fill=\"#000000\">0 </text>\n",
       "</g>\n",
       "<!-- F0101&#45;&gt;I -->\n",
       "<g id=\"edge11\" class=\"edge\">\n",
       "<title>F0101&#45;&gt;I</title>\n",
       "<path fill=\"none\" stroke=\"#000000\" d=\"M466.2863,-22.2633C444.0641,-13.7041 414.3529,-4.797 386.9394,-4.797 194.1482,-4.797 194.1482,-4.797 194.1482,-4.797 169.203,-4.797 145.2416,-21.1058 129.1284,-35.2784\"/>\n",
       "<polygon fill=\"#000000\" stroke=\"#000000\" points=\"126.4052,-33.0306 121.454,-42.3974 131.1657,-38.1626 126.4052,-33.0306\"/>\n",
       "<text text-anchor=\"middle\" x=\"285.9942\" y=\"-8.597\" font-family=\"Times,serif\" font-size=\"14.00\" fill=\"#000000\">1 </text>\n",
       "</g>\n",
       "<!-- F0101&#45;&gt;S010 -->\n",
       "<g id=\"edge10\" class=\"edge\">\n",
       "<title>F0101&#45;&gt;S010</title>\n",
       "<path fill=\"none\" stroke=\"#000000\" d=\"M464.5001,-48.6739C451.8844,-52.435 437.7206,-56.6576 424.983,-60.4551\"/>\n",
       "<polygon fill=\"#000000\" stroke=\"#000000\" points=\"423.7134,-57.1813 415.1302,-63.3925 425.7134,-63.8895 423.7134,-57.1813\"/>\n",
       "<text text-anchor=\"middle\" x=\"439.6869\" y=\"-60.597\" font-family=\"Times,serif\" font-size=\"14.00\" fill=\"#000000\">0 </text>\n",
       "</g>\n",
       "</g>\n",
       "</svg>\n"
      ],
      "text/plain": [
       "<graphviz.dot.Digraph at 0x1103a7e10>"
      ]
     },
     "execution_count": 39,
     "metadata": {},
     "output_type": "execute_result"
    }
   ],
   "source": [
    "dotObj_dfa(ends0101)"
   ]
  },
  {
   "cell_type": "code",
   "execution_count": 40,
   "metadata": {
    "run_control": {
     "frozen": false,
     "read_only": false
    }
   },
   "outputs": [],
   "source": [
    "thirdlastis1=md2mc(src=\"File\", fname=\"thirdlastis1.dfa\")\n",
    "#machines/dfafiles/thirdlastis1.dfa"
   ]
  },
  {
   "cell_type": "code",
   "execution_count": 41,
   "metadata": {
    "run_control": {
     "frozen": false,
     "read_only": false
    }
   },
   "outputs": [
    {
     "data": {
      "text/plain": [
       "{'Q': {'F100',\n",
       "  'F101',\n",
       "  'F110',\n",
       "  'F111',\n",
       "  'I',\n",
       "  'S0',\n",
       "  'S00',\n",
       "  'S000',\n",
       "  'S001',\n",
       "  'S01',\n",
       "  'S010',\n",
       "  'S011',\n",
       "  'S1',\n",
       "  'S10',\n",
       "  'S11'},\n",
       " 'Sigma': {'0', '1'},\n",
       " 'Delta': {('I', '0'): 'S0',\n",
       "  ('I', '1'): 'S1',\n",
       "  ('S0', '0'): 'S00',\n",
       "  ('S0', '1'): 'S01',\n",
       "  ('S1', '0'): 'S10',\n",
       "  ('S1', '1'): 'S11',\n",
       "  ('S00', '0'): 'S000',\n",
       "  ('S00', '1'): 'S001',\n",
       "  ('S01', '0'): 'S010',\n",
       "  ('S01', '1'): 'S011',\n",
       "  ('S10', '0'): 'F100',\n",
       "  ('S10', '1'): 'F101',\n",
       "  ('S11', '0'): 'F110',\n",
       "  ('S11', '1'): 'F111',\n",
       "  ('S000', '0'): 'S000',\n",
       "  ('S000', '1'): 'S001',\n",
       "  ('S001', '0'): 'S010',\n",
       "  ('S001', '1'): 'S011',\n",
       "  ('S010', '0'): 'F100',\n",
       "  ('S010', '1'): 'F101',\n",
       "  ('S011', '0'): 'F110',\n",
       "  ('S011', '1'): 'F111',\n",
       "  ('F100', '0'): 'S000',\n",
       "  ('F100', '1'): 'S001',\n",
       "  ('F101', '0'): 'S010',\n",
       "  ('F101', '1'): 'S011',\n",
       "  ('F110', '0'): 'F100',\n",
       "  ('F110', '1'): 'F101',\n",
       "  ('F111', '0'): 'F110',\n",
       "  ('F111', '1'): 'F111'},\n",
       " 'q0': 'I',\n",
       " 'F': {'F100', 'F101', 'F110', 'F111'}}"
      ]
     },
     "execution_count": 41,
     "metadata": {},
     "output_type": "execute_result"
    }
   ],
   "source": [
    "thirdlastis1"
   ]
  },
  {
   "cell_type": "code",
   "execution_count": 42,
   "metadata": {
    "run_control": {
     "frozen": false,
     "read_only": false
    }
   },
   "outputs": [
    {
     "data": {
      "image/svg+xml": [
       "<?xml version=\"1.0\" encoding=\"UTF-8\" standalone=\"no\"?>\n",
       "<!DOCTYPE svg PUBLIC \"-//W3C//DTD SVG 1.1//EN\"\n",
       " \"http://www.w3.org/Graphics/SVG/1.1/DTD/svg11.dtd\">\n",
       "<!-- Generated by graphviz version 2.40.1 (20161225.0304)\n",
       " -->\n",
       "<!-- Title: %3 Pages: 1 -->\n",
       "<svg width=\"1195pt\" height=\"461pt\"\n",
       " viewBox=\"0.00 0.00 1194.65 461.00\" xmlns=\"http://www.w3.org/2000/svg\" xmlns:xlink=\"http://www.w3.org/1999/xlink\">\n",
       "<g id=\"graph0\" class=\"graph\" transform=\"scale(1 1) rotate(0) translate(4 457)\">\n",
       "<title>%3</title>\n",
       "<polygon fill=\"#ffffff\" stroke=\"transparent\" points=\"-4,4 -4,-457 1190.6505,-457 1190.6505,4 -4,4\"/>\n",
       "<!-- EMPTY -->\n",
       "<g id=\"node1\" class=\"node\">\n",
       "<title>EMPTY</title>\n",
       "</g>\n",
       "<!-- I -->\n",
       "<g id=\"node8\" class=\"node\">\n",
       "<title>I</title>\n",
       "<ellipse fill=\"none\" stroke=\"#000000\" cx=\"109\" cy=\"-229\" rx=\"18\" ry=\"18\"/>\n",
       "<text text-anchor=\"middle\" x=\"109\" y=\"-225.3\" font-family=\"Times,serif\" font-size=\"14.00\" fill=\"#000000\">I</text>\n",
       "</g>\n",
       "<!-- EMPTY&#45;&gt;I -->\n",
       "<g id=\"edge1\" class=\"edge\">\n",
       "<title>EMPTY&#45;&gt;I</title>\n",
       "<path fill=\"none\" stroke=\"#000000\" d=\"M54.3048,-229C62.6909,-229 71.9407,-229 80.4103,-229\"/>\n",
       "<polygon fill=\"#000000\" stroke=\"#000000\" points=\"80.5976,-232.5001 90.5976,-229 80.5976,-225.5001 80.5976,-232.5001\"/>\n",
       "</g>\n",
       "<!-- S0 -->\n",
       "<g id=\"node2\" class=\"node\">\n",
       "<title>S0</title>\n",
       "<ellipse fill=\"none\" stroke=\"#000000\" cx=\"194.1482\" cy=\"-201\" rx=\"20.2975\" ry=\"20.2975\"/>\n",
       "<text text-anchor=\"middle\" x=\"194.1482\" y=\"-197.3\" font-family=\"Times,serif\" font-size=\"14.00\" fill=\"#000000\">S0</text>\n",
       "</g>\n",
       "<!-- S00 -->\n",
       "<g id=\"node9\" class=\"node\">\n",
       "<title>S00</title>\n",
       "<ellipse fill=\"none\" stroke=\"#000000\" cx=\"285.9942\" cy=\"-115\" rx=\"24.8972\" ry=\"24.8972\"/>\n",
       "<text text-anchor=\"middle\" x=\"285.9942\" y=\"-111.3\" font-family=\"Times,serif\" font-size=\"14.00\" fill=\"#000000\">S00</text>\n",
       "</g>\n",
       "<!-- S0&#45;&gt;S00 -->\n",
       "<g id=\"edge4\" class=\"edge\">\n",
       "<title>S0&#45;&gt;S00</title>\n",
       "<path fill=\"none\" stroke=\"#000000\" d=\"M208.9049,-187.1826C222.6754,-174.2886 243.525,-154.7661 260.0703,-139.2738\"/>\n",
       "<polygon fill=\"#000000\" stroke=\"#000000\" points=\"262.8896,-141.4288 267.797,-132.039 258.1051,-136.3191 262.8896,-141.4288\"/>\n",
       "<text text-anchor=\"middle\" x=\"237.7964\" y=\"-166.8\" font-family=\"Times,serif\" font-size=\"14.00\" fill=\"#000000\">0 </text>\n",
       "</g>\n",
       "<!-- S01 -->\n",
       "<g id=\"node12\" class=\"node\">\n",
       "<title>S01</title>\n",
       "<ellipse fill=\"none\" stroke=\"#000000\" cx=\"386.9394\" cy=\"-201\" rx=\"24.8972\" ry=\"24.8972\"/>\n",
       "<text text-anchor=\"middle\" x=\"386.9394\" y=\"-197.3\" font-family=\"Times,serif\" font-size=\"14.00\" fill=\"#000000\">S01</text>\n",
       "</g>\n",
       "<!-- S0&#45;&gt;S01 -->\n",
       "<g id=\"edge5\" class=\"edge\">\n",
       "<title>S0&#45;&gt;S01</title>\n",
       "<path fill=\"none\" stroke=\"#000000\" d=\"M214.4159,-201C247.0744,-201 311.7409,-201 351.9612,-201\"/>\n",
       "<polygon fill=\"#000000\" stroke=\"#000000\" points=\"352.1178,-204.5001 362.1177,-201 352.1177,-197.5001 352.1178,-204.5001\"/>\n",
       "<text text-anchor=\"middle\" x=\"285.9942\" y=\"-204.8\" font-family=\"Times,serif\" font-size=\"14.00\" fill=\"#000000\">1 </text>\n",
       "</g>\n",
       "<!-- S001 -->\n",
       "<g id=\"node3\" class=\"node\">\n",
       "<title>S001</title>\n",
       "<ellipse fill=\"none\" stroke=\"#000000\" cx=\"386.9394\" cy=\"-115\" rx=\"29.4969\" ry=\"29.4969\"/>\n",
       "<text text-anchor=\"middle\" x=\"386.9394\" y=\"-111.3\" font-family=\"Times,serif\" font-size=\"14.00\" fill=\"#000000\">S001</text>\n",
       "</g>\n",
       "<!-- S010 -->\n",
       "<g id=\"node4\" class=\"node\">\n",
       "<title>S010</title>\n",
       "<ellipse fill=\"none\" stroke=\"#000000\" cx=\"492.4343\" cy=\"-240\" rx=\"29.4969\" ry=\"29.4969\"/>\n",
       "<text text-anchor=\"middle\" x=\"492.4343\" y=\"-236.3\" font-family=\"Times,serif\" font-size=\"14.00\" fill=\"#000000\">S010</text>\n",
       "</g>\n",
       "<!-- S001&#45;&gt;S010 -->\n",
       "<g id=\"edge18\" class=\"edge\">\n",
       "<title>S001&#45;&gt;S010</title>\n",
       "<path fill=\"none\" stroke=\"#000000\" d=\"M406.0438,-137.6366C423.0718,-157.8129 448.128,-187.5018 466.8766,-209.7169\"/>\n",
       "<polygon fill=\"#000000\" stroke=\"#000000\" points=\"464.3476,-212.1471 473.4721,-217.5318 469.6971,-207.6323 464.3476,-212.1471\"/>\n",
       "<text text-anchor=\"middle\" x=\"439.6869\" y=\"-184.8\" font-family=\"Times,serif\" font-size=\"14.00\" fill=\"#000000\">0 </text>\n",
       "</g>\n",
       "<!-- S011 -->\n",
       "<g id=\"node10\" class=\"node\">\n",
       "<title>S011</title>\n",
       "<ellipse fill=\"none\" stroke=\"#000000\" cx=\"711.4239\" cy=\"-189\" rx=\"29.4969\" ry=\"29.4969\"/>\n",
       "<text text-anchor=\"middle\" x=\"711.4239\" y=\"-185.3\" font-family=\"Times,serif\" font-size=\"14.00\" fill=\"#000000\">S011</text>\n",
       "</g>\n",
       "<!-- S001&#45;&gt;S011 -->\n",
       "<g id=\"edge19\" class=\"edge\">\n",
       "<title>S001&#45;&gt;S011</title>\n",
       "<path fill=\"none\" stroke=\"#000000\" d=\"M415.7353,-121.567C474.1848,-134.8967 606.7749,-165.1344 672.7051,-180.17\"/>\n",
       "<polygon fill=\"#000000\" stroke=\"#000000\" points=\"672.1647,-183.6366 682.6926,-182.4477 673.7211,-176.8118 672.1647,-183.6366\"/>\n",
       "<text text-anchor=\"middle\" x=\"545.1817\" y=\"-155.8\" font-family=\"Times,serif\" font-size=\"14.00\" fill=\"#000000\">1 </text>\n",
       "</g>\n",
       "<!-- F100 -->\n",
       "<g id=\"node15\" class=\"node\">\n",
       "<title>F100</title>\n",
       "<ellipse fill=\"none\" stroke=\"#000000\" cx=\"1047.9083\" cy=\"-127\" rx=\"29.4667\" ry=\"29.4667\"/>\n",
       "<ellipse fill=\"none\" stroke=\"#000000\" cx=\"1047.9083\" cy=\"-127\" rx=\"33.4967\" ry=\"33.4967\"/>\n",
       "<text text-anchor=\"middle\" x=\"1047.9083\" y=\"-123.3\" font-family=\"Times,serif\" font-size=\"14.00\" fill=\"#000000\">F100</text>\n",
       "</g>\n",
       "<!-- S010&#45;&gt;F100 -->\n",
       "<g id=\"edge20\" class=\"edge\">\n",
       "<title>S010&#45;&gt;F100</title>\n",
       "<path fill=\"none\" stroke=\"#000000\" d=\"M518.474,-226.3029C562.2516,-203.5298 649.0552,-159.5299 682.1765,-151 795.591,-121.7917 934.9702,-122.1767 1004.3563,-124.7003\"/>\n",
       "<polygon fill=\"#000000\" stroke=\"#000000\" points=\"1004.3447,-128.2025 1014.4757,-125.1021 1004.6225,-121.208 1004.3447,-128.2025\"/>\n",
       "<text text-anchor=\"middle\" x=\"764.1713\" y=\"-138.8\" font-family=\"Times,serif\" font-size=\"14.00\" fill=\"#000000\">0 </text>\n",
       "</g>\n",
       "<!-- F101 -->\n",
       "<g id=\"node16\" class=\"node\">\n",
       "<title>F101</title>\n",
       "<ellipse fill=\"none\" stroke=\"#000000\" cx=\"601.9291\" cy=\"-292\" rx=\"29.4667\" ry=\"29.4667\"/>\n",
       "<ellipse fill=\"none\" stroke=\"#000000\" cx=\"601.9291\" cy=\"-292\" rx=\"33.4967\" ry=\"33.4967\"/>\n",
       "<text text-anchor=\"middle\" x=\"601.9291\" y=\"-288.3\" font-family=\"Times,serif\" font-size=\"14.00\" fill=\"#000000\">F101</text>\n",
       "</g>\n",
       "<!-- S010&#45;&gt;F101 -->\n",
       "<g id=\"edge21\" class=\"edge\">\n",
       "<title>S010&#45;&gt;F101</title>\n",
       "<path fill=\"none\" stroke=\"#000000\" d=\"M516.8368,-256.9701C524.0067,-261.5461 531.9925,-266.2598 539.6817,-270 546.2719,-273.2056 553.453,-276.1823 560.5189,-278.8445\"/>\n",
       "<polygon fill=\"#000000\" stroke=\"#000000\" points=\"559.4221,-282.1695 570.0164,-282.2717 561.7981,-275.5851 559.4221,-282.1695\"/>\n",
       "<text text-anchor=\"middle\" x=\"545.1817\" y=\"-277.8\" font-family=\"Times,serif\" font-size=\"14.00\" fill=\"#000000\">1 </text>\n",
       "</g>\n",
       "<!-- S1 -->\n",
       "<g id=\"node5\" class=\"node\">\n",
       "<title>S1</title>\n",
       "<ellipse fill=\"none\" stroke=\"#000000\" cx=\"386.9394\" cy=\"-400\" rx=\"20.2975\" ry=\"20.2975\"/>\n",
       "<text text-anchor=\"middle\" x=\"386.9394\" y=\"-396.3\" font-family=\"Times,serif\" font-size=\"14.00\" fill=\"#000000\">S1</text>\n",
       "</g>\n",
       "<!-- S10 -->\n",
       "<g id=\"node7\" class=\"node\">\n",
       "<title>S10</title>\n",
       "<ellipse fill=\"none\" stroke=\"#000000\" cx=\"492.4343\" cy=\"-400\" rx=\"24.8972\" ry=\"24.8972\"/>\n",
       "<text text-anchor=\"middle\" x=\"492.4343\" y=\"-396.3\" font-family=\"Times,serif\" font-size=\"14.00\" fill=\"#000000\">S10</text>\n",
       "</g>\n",
       "<!-- S1&#45;&gt;S10 -->\n",
       "<g id=\"edge6\" class=\"edge\">\n",
       "<title>S1&#45;&gt;S10</title>\n",
       "<path fill=\"none\" stroke=\"#000000\" d=\"M407.2799,-400C421.4252,-400 440.647,-400 457.2487,-400\"/>\n",
       "<polygon fill=\"#000000\" stroke=\"#000000\" points=\"457.7004,-403.5001 467.7004,-400 457.7004,-396.5001 457.7004,-403.5001\"/>\n",
       "<text text-anchor=\"middle\" x=\"439.6869\" y=\"-403.8\" font-family=\"Times,serif\" font-size=\"14.00\" fill=\"#000000\">0 </text>\n",
       "</g>\n",
       "<!-- S11 -->\n",
       "<g id=\"node11\" class=\"node\">\n",
       "<title>S11</title>\n",
       "<ellipse fill=\"none\" stroke=\"#000000\" cx=\"711.4239\" cy=\"-369\" rx=\"24.8972\" ry=\"24.8972\"/>\n",
       "<text text-anchor=\"middle\" x=\"711.4239\" y=\"-365.3\" font-family=\"Times,serif\" font-size=\"14.00\" fill=\"#000000\">S11</text>\n",
       "</g>\n",
       "<!-- S1&#45;&gt;S11 -->\n",
       "<g id=\"edge7\" class=\"edge\">\n",
       "<title>S1&#45;&gt;S11</title>\n",
       "<path fill=\"none\" stroke=\"#000000\" d=\"M404.4253,-410.1895C419.4503,-418.3489 441.9834,-429.1962 463.1869,-434 501.1222,-442.5945 512.5408,-443.6307 550.6817,-436 598.2362,-426.4859 649.3058,-402.5897 680.8151,-386.07\"/>\n",
       "<polygon fill=\"#000000\" stroke=\"#000000\" points=\"682.7632,-388.9977 689.9403,-381.2041 679.4695,-382.821 682.7632,-388.9977\"/>\n",
       "<text text-anchor=\"middle\" x=\"545.1817\" y=\"-441.8\" font-family=\"Times,serif\" font-size=\"14.00\" fill=\"#000000\">1 </text>\n",
       "</g>\n",
       "<!-- S000 -->\n",
       "<g id=\"node6\" class=\"node\">\n",
       "<title>S000</title>\n",
       "<ellipse fill=\"none\" stroke=\"#000000\" cx=\"1157.4031\" cy=\"-43\" rx=\"29.4969\" ry=\"29.4969\"/>\n",
       "<text text-anchor=\"middle\" x=\"1157.4031\" y=\"-39.3\" font-family=\"Times,serif\" font-size=\"14.00\" fill=\"#000000\">S000</text>\n",
       "</g>\n",
       "<!-- S000&#45;&gt;S001 -->\n",
       "<g id=\"edge17\" class=\"edge\">\n",
       "<title>S000&#45;&gt;S001</title>\n",
       "<path fill=\"none\" stroke=\"#000000\" d=\"M1128.1245,-43C1106.0717,-43 1075.0919,-43 1047.9083,-43 492.4343,-43 492.4343,-43 492.4343,-43 460.9747,-43 431.9835,-65.1138 412.3872,-84.8306\"/>\n",
       "<polygon fill=\"#000000\" stroke=\"#000000\" points=\"409.713,-82.5635 405.3511,-92.2188 414.7821,-87.391 409.713,-82.5635\"/>\n",
       "<text text-anchor=\"middle\" x=\"764.1713\" y=\"-46.8\" font-family=\"Times,serif\" font-size=\"14.00\" fill=\"#000000\">1 </text>\n",
       "</g>\n",
       "<!-- S000&#45;&gt;S000 -->\n",
       "<g id=\"edge16\" class=\"edge\">\n",
       "<title>S000&#45;&gt;S000</title>\n",
       "<path fill=\"none\" stroke=\"#000000\" d=\"M1147.6912,-70.6624C1147.2596,-81.3578 1150.4969,-90.2474 1157.4031,-90.2474 1161.9353,-90.2474 1164.8875,-86.419 1166.2595,-80.7641\"/>\n",
       "<polygon fill=\"#000000\" stroke=\"#000000\" points=\"1169.7586,-80.9221 1167.115,-70.6624 1162.7836,-80.3314 1169.7586,-80.9221\"/>\n",
       "<text text-anchor=\"middle\" x=\"1157.4031\" y=\"-94.0474\" font-family=\"Times,serif\" font-size=\"14.00\" fill=\"#000000\">0 </text>\n",
       "</g>\n",
       "<!-- S10&#45;&gt;F100 -->\n",
       "<g id=\"edge12\" class=\"edge\">\n",
       "<title>S10&#45;&gt;F100</title>\n",
       "<path fill=\"none\" stroke=\"#000000\" d=\"M516.0822,-407.5712C538.0749,-413.935 571.8755,-422 601.9291,-422 601.9291,-422 601.9291,-422 934.4135,-422 987.7612,-422 1025.5427,-251.8285 1040.6295,-169.9787\"/>\n",
       "<polygon fill=\"#000000\" stroke=\"#000000\" points=\"1044.1019,-170.4453 1042.4402,-159.9816 1037.2139,-169.1977 1044.1019,-170.4453\"/>\n",
       "<text text-anchor=\"middle\" x=\"764.1713\" y=\"-425.8\" font-family=\"Times,serif\" font-size=\"14.00\" fill=\"#000000\">0 </text>\n",
       "</g>\n",
       "<!-- S10&#45;&gt;F101 -->\n",
       "<g id=\"edge13\" class=\"edge\">\n",
       "<title>S10&#45;&gt;F101</title>\n",
       "<path fill=\"none\" stroke=\"#000000\" d=\"M510.0265,-382.6479C526.4294,-366.4689 551.2576,-341.9797 570.9744,-322.5321\"/>\n",
       "<polygon fill=\"#000000\" stroke=\"#000000\" points=\"573.5908,-324.8675 578.2525,-315.3533 568.6752,-319.8838 573.5908,-324.8675\"/>\n",
       "<text text-anchor=\"middle\" x=\"545.1817\" y=\"-355.8\" font-family=\"Times,serif\" font-size=\"14.00\" fill=\"#000000\">1 </text>\n",
       "</g>\n",
       "<!-- I&#45;&gt;S0 -->\n",
       "<g id=\"edge2\" class=\"edge\">\n",
       "<title>I&#45;&gt;S0</title>\n",
       "<path fill=\"none\" stroke=\"#000000\" d=\"M126.231,-223.3338C137.3509,-219.6771 152.0974,-214.8279 165.0076,-210.5825\"/>\n",
       "<polygon fill=\"#000000\" stroke=\"#000000\" points=\"166.4571,-213.7903 174.8633,-207.3416 164.2704,-207.1406 166.4571,-213.7903\"/>\n",
       "<text text-anchor=\"middle\" x=\"150.5\" y=\"-219.8\" font-family=\"Times,serif\" font-size=\"14.00\" fill=\"#000000\">0 </text>\n",
       "</g>\n",
       "<!-- I&#45;&gt;S1 -->\n",
       "<g id=\"edge3\" class=\"edge\">\n",
       "<title>I&#45;&gt;S1</title>\n",
       "<path fill=\"none\" stroke=\"#000000\" d=\"M124.3391,-238.4373C169.7235,-266.3596 303.7251,-348.803 360.761,-383.8939\"/>\n",
       "<polygon fill=\"#000000\" stroke=\"#000000\" points=\"359.1912,-387.0375 369.5424,-389.2966 362.8593,-381.0755 359.1912,-387.0375\"/>\n",
       "<text text-anchor=\"middle\" x=\"237.7964\" y=\"-313.8\" font-family=\"Times,serif\" font-size=\"14.00\" fill=\"#000000\">1 </text>\n",
       "</g>\n",
       "<!-- S00&#45;&gt;S001 -->\n",
       "<g id=\"edge9\" class=\"edge\">\n",
       "<title>S00&#45;&gt;S001</title>\n",
       "<path fill=\"none\" stroke=\"#000000\" d=\"M310.947,-115C321.9853,-115 335.2335,-115 347.5543,-115\"/>\n",
       "<polygon fill=\"#000000\" stroke=\"#000000\" points=\"347.6169,-118.5001 357.6169,-115 347.6169,-111.5001 347.6169,-118.5001\"/>\n",
       "<text text-anchor=\"middle\" x=\"334.192\" y=\"-118.8\" font-family=\"Times,serif\" font-size=\"14.00\" fill=\"#000000\">1 </text>\n",
       "</g>\n",
       "<!-- S00&#45;&gt;S000 -->\n",
       "<g id=\"edge8\" class=\"edge\">\n",
       "<title>S00&#45;&gt;S000</title>\n",
       "<path fill=\"none\" stroke=\"#000000\" d=\"M294.3021,-91.728C307.9662,-58.1247 338.5896,0 386.9394,0 386.9394,0 386.9394,0 1047.9083,0 1074.5936,0 1102.5632,-11.2021 1123.5542,-22.1711\"/>\n",
       "<polygon fill=\"#000000\" stroke=\"#000000\" points=\"1121.9327,-25.2734 1132.3878,-26.9884 1125.2841,-19.1278 1121.9327,-25.2734\"/>\n",
       "<text text-anchor=\"middle\" x=\"711.4239\" y=\"-3.8\" font-family=\"Times,serif\" font-size=\"14.00\" fill=\"#000000\">0 </text>\n",
       "</g>\n",
       "<!-- F111 -->\n",
       "<g id=\"node13\" class=\"node\">\n",
       "<title>F111</title>\n",
       "<ellipse fill=\"none\" stroke=\"#000000\" cx=\"820.9187\" cy=\"-239\" rx=\"29.4667\" ry=\"29.4667\"/>\n",
       "<ellipse fill=\"none\" stroke=\"#000000\" cx=\"820.9187\" cy=\"-239\" rx=\"33.4967\" ry=\"33.4967\"/>\n",
       "<text text-anchor=\"middle\" x=\"820.9187\" y=\"-235.3\" font-family=\"Times,serif\" font-size=\"14.00\" fill=\"#000000\">F111</text>\n",
       "</g>\n",
       "<!-- S011&#45;&gt;F111 -->\n",
       "<g id=\"edge23\" class=\"edge\">\n",
       "<title>S011&#45;&gt;F111</title>\n",
       "<path fill=\"none\" stroke=\"#000000\" d=\"M738.2093,-201.2314C751.1932,-207.1604 767.0454,-214.3992 781.385,-220.9472\"/>\n",
       "<polygon fill=\"#000000\" stroke=\"#000000\" points=\"779.994,-224.1597 790.5444,-225.1298 782.9018,-217.7921 779.994,-224.1597\"/>\n",
       "<text text-anchor=\"middle\" x=\"764.1713\" y=\"-218.8\" font-family=\"Times,serif\" font-size=\"14.00\" fill=\"#000000\">1 </text>\n",
       "</g>\n",
       "<!-- F110 -->\n",
       "<g id=\"node14\" class=\"node\">\n",
       "<title>F110</title>\n",
       "<ellipse fill=\"none\" stroke=\"#000000\" cx=\"934.4135\" cy=\"-239\" rx=\"29.4667\" ry=\"29.4667\"/>\n",
       "<ellipse fill=\"none\" stroke=\"#000000\" cx=\"934.4135\" cy=\"-239\" rx=\"33.4967\" ry=\"33.4967\"/>\n",
       "<text text-anchor=\"middle\" x=\"934.4135\" y=\"-235.3\" font-family=\"Times,serif\" font-size=\"14.00\" fill=\"#000000\">F110</text>\n",
       "</g>\n",
       "<!-- S011&#45;&gt;F110 -->\n",
       "<g id=\"edge22\" class=\"edge\">\n",
       "<title>S011&#45;&gt;F110</title>\n",
       "<path fill=\"none\" stroke=\"#000000\" d=\"M739.8102,-181.8643C769.1731,-175.795 815.9911,-169.8218 854.1661,-182 871.5581,-187.5482 888.4089,-198.3917 902.1415,-209.145\"/>\n",
       "<polygon fill=\"#000000\" stroke=\"#000000\" points=\"900.307,-212.1656 910.2661,-215.7806 904.735,-206.7441 900.307,-212.1656\"/>\n",
       "<text text-anchor=\"middle\" x=\"820.9187\" y=\"-185.8\" font-family=\"Times,serif\" font-size=\"14.00\" fill=\"#000000\">0 </text>\n",
       "</g>\n",
       "<!-- S11&#45;&gt;F111 -->\n",
       "<g id=\"edge15\" class=\"edge\">\n",
       "<title>S11&#45;&gt;F111</title>\n",
       "<path fill=\"none\" stroke=\"#000000\" d=\"M733.0654,-356.509C744.8422,-348.9913 759.1174,-338.6351 769.6713,-327 782.5795,-312.7694 793.7634,-294.763 802.3609,-278.7508\"/>\n",
       "<polygon fill=\"#000000\" stroke=\"#000000\" points=\"805.6122,-280.0844 807.1176,-269.5971 799.4008,-276.8567 805.6122,-280.0844\"/>\n",
       "<text text-anchor=\"middle\" x=\"764.1713\" y=\"-339.8\" font-family=\"Times,serif\" font-size=\"14.00\" fill=\"#000000\">1 </text>\n",
       "</g>\n",
       "<!-- S11&#45;&gt;F110 -->\n",
       "<g id=\"edge14\" class=\"edge\">\n",
       "<title>S11&#45;&gt;F110</title>\n",
       "<path fill=\"none\" stroke=\"#000000\" d=\"M735.9664,-372.7014C771.8813,-376.7292 839.2465,-378.8596 883.1661,-347 904.6271,-331.432 917.4309,-304.5069 924.8734,-281.4365\"/>\n",
       "<polygon fill=\"#000000\" stroke=\"#000000\" points=\"928.2345,-282.4131 927.7445,-271.8296 921.5276,-280.4087 928.2345,-282.4131\"/>\n",
       "<text text-anchor=\"middle\" x=\"820.9187\" y=\"-377.8\" font-family=\"Times,serif\" font-size=\"14.00\" fill=\"#000000\">0 </text>\n",
       "</g>\n",
       "<!-- S01&#45;&gt;S010 -->\n",
       "<g id=\"edge10\" class=\"edge\">\n",
       "<title>S01&#45;&gt;S010</title>\n",
       "<path fill=\"none\" stroke=\"#000000\" d=\"M410.3522,-209.6554C423.5976,-214.552 440.4616,-220.7864 455.4541,-226.3289\"/>\n",
       "<polygon fill=\"#000000\" stroke=\"#000000\" points=\"454.386,-229.6655 464.9792,-229.8503 456.8133,-223.0998 454.386,-229.6655\"/>\n",
       "<text text-anchor=\"middle\" x=\"439.6869\" y=\"-224.8\" font-family=\"Times,serif\" font-size=\"14.00\" fill=\"#000000\">0 </text>\n",
       "</g>\n",
       "<!-- S01&#45;&gt;S011 -->\n",
       "<g id=\"edge11\" class=\"edge\">\n",
       "<title>S01&#45;&gt;S011</title>\n",
       "<path fill=\"none\" stroke=\"#000000\" d=\"M411.7929,-199.2186C442.0069,-197.1263 494.5562,-193.7228 539.6817,-192 584.9159,-190.273 636.8904,-189.5393 671.7075,-189.2281\"/>\n",
       "<polygon fill=\"#000000\" stroke=\"#000000\" points=\"671.9646,-192.7262 681.9356,-189.1445 671.9073,-185.7265 671.9646,-192.7262\"/>\n",
       "<text text-anchor=\"middle\" x=\"545.1817\" y=\"-195.8\" font-family=\"Times,serif\" font-size=\"14.00\" fill=\"#000000\">1 </text>\n",
       "</g>\n",
       "<!-- F111&#45;&gt;F111 -->\n",
       "<g id=\"edge31\" class=\"edge\">\n",
       "<title>F111&#45;&gt;F111</title>\n",
       "<path fill=\"none\" stroke=\"#000000\" d=\"M810.4193,-270.779C810.3642,-281.5722 813.864,-290.2474 820.9187,-290.2474 825.5483,-290.2474 828.647,-286.5113 830.2147,-280.8923\"/>\n",
       "<polygon fill=\"#000000\" stroke=\"#000000\" points=\"833.7119,-281.1225 831.418,-270.779 826.7609,-280.2954 833.7119,-281.1225\"/>\n",
       "<text text-anchor=\"middle\" x=\"820.9187\" y=\"-294.0474\" font-family=\"Times,serif\" font-size=\"14.00\" fill=\"#000000\">1 </text>\n",
       "</g>\n",
       "<!-- F111&#45;&gt;F110 -->\n",
       "<g id=\"edge30\" class=\"edge\">\n",
       "<title>F111&#45;&gt;F110</title>\n",
       "<path fill=\"none\" stroke=\"#000000\" d=\"M854.357,-239C865.6853,-239 878.5136,-239 890.5296,-239\"/>\n",
       "<polygon fill=\"#000000\" stroke=\"#000000\" points=\"890.822,-242.5001 900.822,-239 890.8219,-235.5001 890.822,-242.5001\"/>\n",
       "<text text-anchor=\"middle\" x=\"877.6661\" y=\"-242.8\" font-family=\"Times,serif\" font-size=\"14.00\" fill=\"#000000\">0 </text>\n",
       "</g>\n",
       "<!-- F110&#45;&gt;F100 -->\n",
       "<g id=\"edge28\" class=\"edge\">\n",
       "<title>F110&#45;&gt;F100</title>\n",
       "<path fill=\"none\" stroke=\"#000000\" d=\"M958.2057,-215.5211C975.1546,-198.7954 998.1057,-176.1466 1016.5495,-157.9458\"/>\n",
       "<polygon fill=\"#000000\" stroke=\"#000000\" points=\"1019.488,-159.9633 1024.1474,-150.448 1014.5712,-154.9808 1019.488,-159.9633\"/>\n",
       "<text text-anchor=\"middle\" x=\"991.1609\" y=\"-189.8\" font-family=\"Times,serif\" font-size=\"14.00\" fill=\"#000000\">0 </text>\n",
       "</g>\n",
       "<!-- F110&#45;&gt;F101 -->\n",
       "<g id=\"edge29\" class=\"edge\">\n",
       "<title>F110&#45;&gt;F101</title>\n",
       "<path fill=\"none\" stroke=\"#000000\" d=\"M914.585,-265.9582C900.0518,-283.302 878.6452,-304.3416 854.1661,-314 826.6753,-324.8467 816.8429,-318.7339 787.6713,-314 779.3474,-312.6492 777.9215,-309.7449 769.6713,-308 728.0412,-299.1954 679.5663,-295.2308 645.4639,-293.4485\"/>\n",
       "<polygon fill=\"#000000\" stroke=\"#000000\" points=\"645.522,-289.9473 635.3653,-292.9625 645.1855,-296.9393 645.522,-289.9473\"/>\n",
       "<text text-anchor=\"middle\" x=\"764.1713\" y=\"-311.8\" font-family=\"Times,serif\" font-size=\"14.00\" fill=\"#000000\">1 </text>\n",
       "</g>\n",
       "<!-- F100&#45;&gt;S001 -->\n",
       "<g id=\"edge25\" class=\"edge\">\n",
       "<title>F100&#45;&gt;S001</title>\n",
       "<path fill=\"none\" stroke=\"#000000\" d=\"M1018.4588,-111.3246C996.0589,-100.857 964.1276,-89 934.4135,-89 492.4343,-89 492.4343,-89 492.4343,-89 469.1973,-89 443.8958,-95.0204 423.8973,-101.2672\"/>\n",
       "<polygon fill=\"#000000\" stroke=\"#000000\" points=\"422.6658,-97.9875 414.2508,-104.4248 424.8434,-104.6402 422.6658,-97.9875\"/>\n",
       "<text text-anchor=\"middle\" x=\"711.4239\" y=\"-92.8\" font-family=\"Times,serif\" font-size=\"14.00\" fill=\"#000000\">1 </text>\n",
       "</g>\n",
       "<!-- F100&#45;&gt;S000 -->\n",
       "<g id=\"edge24\" class=\"edge\">\n",
       "<title>F100&#45;&gt;S000</title>\n",
       "<path fill=\"none\" stroke=\"#000000\" d=\"M1074.4139,-106.6659C1089.9362,-94.7579 1109.6294,-79.65 1125.9363,-67.14\"/>\n",
       "<polygon fill=\"#000000\" stroke=\"#000000\" points=\"1128.3113,-69.7294 1134.1151,-60.8656 1124.0505,-64.1755 1128.3113,-69.7294\"/>\n",
       "<text text-anchor=\"middle\" x=\"1104.6557\" y=\"-91.8\" font-family=\"Times,serif\" font-size=\"14.00\" fill=\"#000000\">0 </text>\n",
       "</g>\n",
       "<!-- F101&#45;&gt;S010 -->\n",
       "<g id=\"edge26\" class=\"edge\">\n",
       "<title>F101&#45;&gt;S010</title>\n",
       "<path fill=\"none\" stroke=\"#000000\" d=\"M577.7683,-268.6822C569.7065,-262.0448 560.3104,-255.4242 550.6817,-251 544.7904,-248.2931 538.2711,-246.2523 531.7898,-244.7137\"/>\n",
       "<polygon fill=\"#000000\" stroke=\"#000000\" points=\"532.2262,-241.2313 521.7317,-242.6857 530.8426,-248.0932 532.2262,-241.2313\"/>\n",
       "<text text-anchor=\"middle\" x=\"545.1817\" y=\"-254.8\" font-family=\"Times,serif\" font-size=\"14.00\" fill=\"#000000\">0 </text>\n",
       "</g>\n",
       "<!-- F101&#45;&gt;S011 -->\n",
       "<g id=\"edge27\" class=\"edge\">\n",
       "<title>F101&#45;&gt;S011</title>\n",
       "<path fill=\"none\" stroke=\"#000000\" d=\"M626.2295,-269.141C642.7297,-253.6195 664.64,-233.0088 682.1089,-216.5762\"/>\n",
       "<polygon fill=\"#000000\" stroke=\"#000000\" points=\"684.9014,-218.7544 689.7871,-209.3533 680.1052,-213.6558 684.9014,-218.7544\"/>\n",
       "<text text-anchor=\"middle\" x=\"658.6765\" y=\"-246.8\" font-family=\"Times,serif\" font-size=\"14.00\" fill=\"#000000\">1 </text>\n",
       "</g>\n",
       "</g>\n",
       "</svg>\n"
      ],
      "text/plain": [
       "<graphviz.dot.Digraph at 0x1103bb208>"
      ]
     },
     "execution_count": 42,
     "metadata": {},
     "output_type": "execute_result"
    }
   ],
   "source": [
    "dotObj_dfa(thirdlastis1)"
   ]
  },
  {
   "cell_type": "code",
   "execution_count": 43,
   "metadata": {
    "run_control": {
     "frozen": false,
     "read_only": false
    }
   },
   "outputs": [],
   "source": [
    "dped1=md2mc(src=\"File\", fname=\"pedagogical2.dfa\")\n",
    "#machines/dfafiles/pedagogical2.dfa"
   ]
  },
  {
   "cell_type": "code",
   "execution_count": 44,
   "metadata": {
    "run_control": {
     "frozen": false,
     "read_only": false
    }
   },
   "outputs": [
    {
     "data": {
      "image/svg+xml": [
       "<?xml version=\"1.0\" encoding=\"UTF-8\" standalone=\"no\"?>\n",
       "<!DOCTYPE svg PUBLIC \"-//W3C//DTD SVG 1.1//EN\"\n",
       " \"http://www.w3.org/Graphics/SVG/1.1/DTD/svg11.dtd\">\n",
       "<!-- Generated by graphviz version 2.40.1 (20161225.0304)\n",
       " -->\n",
       "<!-- Title: %3 Pages: 1 -->\n",
       "<svg width=\"492pt\" height=\"79pt\"\n",
       " viewBox=\"0.00 0.00 491.59 79.00\" xmlns=\"http://www.w3.org/2000/svg\" xmlns:xlink=\"http://www.w3.org/1999/xlink\">\n",
       "<g id=\"graph0\" class=\"graph\" transform=\"scale(1 1) rotate(0) translate(4 75)\">\n",
       "<title>%3</title>\n",
       "<polygon fill=\"#ffffff\" stroke=\"transparent\" points=\"-4,4 -4,-75 487.5928,-75 487.5928,4 -4,4\"/>\n",
       "<!-- EMPTY -->\n",
       "<g id=\"node1\" class=\"node\">\n",
       "<title>EMPTY</title>\n",
       "</g>\n",
       "<!-- I -->\n",
       "<g id=\"node3\" class=\"node\">\n",
       "<title>I</title>\n",
       "<ellipse fill=\"none\" stroke=\"#000000\" cx=\"109\" cy=\"-45\" rx=\"18\" ry=\"18\"/>\n",
       "<text text-anchor=\"middle\" x=\"109\" y=\"-41.3\" font-family=\"Times,serif\" font-size=\"14.00\" fill=\"#000000\">I</text>\n",
       "</g>\n",
       "<!-- EMPTY&#45;&gt;I -->\n",
       "<g id=\"edge1\" class=\"edge\">\n",
       "<title>EMPTY&#45;&gt;I</title>\n",
       "<path fill=\"none\" stroke=\"#000000\" d=\"M54.3048,-45C62.6909,-45 71.9407,-45 80.4103,-45\"/>\n",
       "<polygon fill=\"#000000\" stroke=\"#000000\" points=\"80.5976,-48.5001 90.5976,-45 80.5976,-41.5001 80.5976,-48.5001\"/>\n",
       "</g>\n",
       "<!-- B -->\n",
       "<g id=\"node2\" class=\"node\">\n",
       "<title>B</title>\n",
       "<ellipse fill=\"none\" stroke=\"#000000\" cx=\"275\" cy=\"-42\" rx=\"18\" ry=\"18\"/>\n",
       "<text text-anchor=\"middle\" x=\"275\" y=\"-38.3\" font-family=\"Times,serif\" font-size=\"14.00\" fill=\"#000000\">B</text>\n",
       "</g>\n",
       "<!-- F1 -->\n",
       "<g id=\"node6\" class=\"node\">\n",
       "<title>F1</title>\n",
       "<ellipse fill=\"none\" stroke=\"#000000\" cx=\"364.1482\" cy=\"-42\" rx=\"20.2726\" ry=\"20.2726\"/>\n",
       "<ellipse fill=\"none\" stroke=\"#000000\" cx=\"364.1482\" cy=\"-42\" rx=\"24.2973\" ry=\"24.2973\"/>\n",
       "<text text-anchor=\"middle\" x=\"364.1482\" y=\"-38.3\" font-family=\"Times,serif\" font-size=\"14.00\" fill=\"#000000\">F1</text>\n",
       "</g>\n",
       "<!-- B&#45;&gt;F1 -->\n",
       "<g id=\"edge6\" class=\"edge\">\n",
       "<title>B&#45;&gt;F1</title>\n",
       "<path fill=\"none\" stroke=\"#000000\" d=\"M293.0405,-42C303.534,-42 317.1122,-42 329.587,-42\"/>\n",
       "<polygon fill=\"#000000\" stroke=\"#000000\" points=\"329.7144,-45.5001 339.7144,-42 329.7144,-38.5001 329.7144,-45.5001\"/>\n",
       "<text text-anchor=\"middle\" x=\"316.5\" y=\"-45.8\" font-family=\"Times,serif\" font-size=\"14.00\" fill=\"#000000\">1 </text>\n",
       "</g>\n",
       "<!-- I&#45;&gt;B -->\n",
       "<g id=\"edge3\" class=\"edge\">\n",
       "<title>I&#45;&gt;B</title>\n",
       "<path fill=\"none\" stroke=\"#000000\" d=\"M126.8462,-49.1724C132.6063,-50.33 139.0425,-51.4262 145,-52 166.9489,-54.1141 131.0131,-63.1722 239,-50 241.7646,-49.6628 244.6291,-49.2092 247.4797,-48.6885\"/>\n",
       "<polygon fill=\"#000000\" stroke=\"#000000\" points=\"248.4623,-52.0591 257.5404,-46.5966 247.0373,-45.2057 248.4623,-52.0591\"/>\n",
       "<text text-anchor=\"middle\" x=\"192\" y=\"-59.8\" font-family=\"Times,serif\" font-size=\"14.00\" fill=\"#000000\">1 </text>\n",
       "</g>\n",
       "<!-- A -->\n",
       "<g id=\"node4\" class=\"node\">\n",
       "<title>A</title>\n",
       "<ellipse fill=\"none\" stroke=\"#000000\" cx=\"192\" cy=\"-18\" rx=\"18\" ry=\"18\"/>\n",
       "<text text-anchor=\"middle\" x=\"192\" y=\"-14.3\" font-family=\"Times,serif\" font-size=\"14.00\" fill=\"#000000\">A</text>\n",
       "</g>\n",
       "<!-- I&#45;&gt;A -->\n",
       "<g id=\"edge2\" class=\"edge\">\n",
       "<title>I&#45;&gt;A</title>\n",
       "<path fill=\"none\" stroke=\"#000000\" d=\"M126.1977,-39.4056C137.4377,-35.7492 152.3502,-30.8981 165.1365,-26.7387\"/>\n",
       "<polygon fill=\"#000000\" stroke=\"#000000\" points=\"166.3976,-30.0091 174.8244,-23.5873 164.2321,-23.3524 166.3976,-30.0091\"/>\n",
       "<text text-anchor=\"middle\" x=\"150.5\" y=\"-36.8\" font-family=\"Times,serif\" font-size=\"14.00\" fill=\"#000000\">0 </text>\n",
       "</g>\n",
       "<!-- A&#45;&gt;B -->\n",
       "<g id=\"edge4\" class=\"edge\">\n",
       "<title>A&#45;&gt;B</title>\n",
       "<path fill=\"none\" stroke=\"#000000\" d=\"M209.6022,-23.0898C220.6807,-26.2932 235.206,-30.4933 247.7529,-34.1213\"/>\n",
       "<polygon fill=\"#000000\" stroke=\"#000000\" points=\"247.1291,-37.5843 257.7078,-36.9999 249.0736,-30.8598 247.1291,-37.5843\"/>\n",
       "<text text-anchor=\"middle\" x=\"233.5\" y=\"-34.8\" font-family=\"Times,serif\" font-size=\"14.00\" fill=\"#000000\">0 </text>\n",
       "</g>\n",
       "<!-- A&#45;&gt;B -->\n",
       "<g id=\"edge5\" class=\"edge\">\n",
       "<title>A&#45;&gt;B</title>\n",
       "<path fill=\"none\" stroke=\"#000000\" d=\"M208.5033,-10.4587C217.7059,-7.326 229.244,-5.2051 239,-9 245.4301,-11.5012 251.4098,-15.7467 256.5758,-20.3748\"/>\n",
       "<polygon fill=\"#000000\" stroke=\"#000000\" points=\"254.4245,-23.1731 263.9717,-27.7668 259.3729,-18.222 254.4245,-23.1731\"/>\n",
       "<text text-anchor=\"middle\" x=\"233.5\" y=\"-12.8\" font-family=\"Times,serif\" font-size=\"14.00\" fill=\"#000000\">1 </text>\n",
       "</g>\n",
       "<!-- F2 -->\n",
       "<g id=\"node5\" class=\"node\">\n",
       "<title>F2</title>\n",
       "<ellipse fill=\"none\" stroke=\"#000000\" cx=\"459.4446\" cy=\"-42\" rx=\"20.2726\" ry=\"20.2726\"/>\n",
       "<ellipse fill=\"none\" stroke=\"#000000\" cx=\"459.4446\" cy=\"-42\" rx=\"24.2973\" ry=\"24.2973\"/>\n",
       "<text text-anchor=\"middle\" x=\"459.4446\" y=\"-38.3\" font-family=\"Times,serif\" font-size=\"14.00\" fill=\"#000000\">F2</text>\n",
       "</g>\n",
       "<!-- F1&#45;&gt;F2 -->\n",
       "<g id=\"edge7\" class=\"edge\">\n",
       "<title>F1&#45;&gt;F2</title>\n",
       "<path fill=\"none\" stroke=\"#000000\" d=\"M388.6894,-42C399.694,-42 412.8682,-42 424.8494,-42\"/>\n",
       "<polygon fill=\"#000000\" stroke=\"#000000\" points=\"424.9866,-45.5001 434.9866,-42 424.9866,-38.5001 424.9866,-45.5001\"/>\n",
       "<text text-anchor=\"middle\" x=\"411.7964\" y=\"-45.8\" font-family=\"Times,serif\" font-size=\"14.00\" fill=\"#000000\">0 </text>\n",
       "</g>\n",
       "<!-- F1&#45;&gt;F2 -->\n",
       "<g id=\"edge8\" class=\"edge\">\n",
       "<title>F1&#45;&gt;F2</title>\n",
       "<path fill=\"none\" stroke=\"#000000\" d=\"M385.4224,-30.309C391.9279,-27.3174 399.2339,-24.5183 406.2964,-23 413.9568,-21.3532 422.017,-22.5888 429.4798,-25.0668\"/>\n",
       "<polygon fill=\"#000000\" stroke=\"#000000\" points=\"428.2817,-28.3582 438.8625,-28.9022 430.9304,-21.8786 428.2817,-28.3582\"/>\n",
       "<text text-anchor=\"middle\" x=\"411.7964\" y=\"-26.8\" font-family=\"Times,serif\" font-size=\"14.00\" fill=\"#000000\">1 </text>\n",
       "</g>\n",
       "</g>\n",
       "</svg>\n"
      ],
      "text/plain": [
       "<graphviz.dot.Digraph at 0x1103bb0f0>"
      ]
     },
     "execution_count": 44,
     "metadata": {},
     "output_type": "execute_result"
    }
   ],
   "source": [
    "dotObj_dfa(dped1)"
   ]
  },
  {
   "cell_type": "code",
   "execution_count": 45,
   "metadata": {
    "run_control": {
     "frozen": false,
     "read_only": false
    }
   },
   "outputs": [],
   "source": [
    "secondLastIs1 = md2mc('''\n",
    "!!------------------------------------------------------------\n",
    "!! This DFA looks for patterns of the form ....1.\n",
    "!! i.e., the second-last (counting from the end-point) is a 1\n",
    "!!\n",
    "!! DFAs find such patterns \"very stressful to handle\",\n",
    "!! as they are kept guessing of the form  'are we there yet?'\n",
    "!! 'are we seeing the second-last' ?\n",
    "!! They must keep all the failure options at hand. Even after\n",
    "!! a 'fleeting glimpse' of the second-last, more inputs can\n",
    "!! come barreling-in to make that \"lucky 1\" a non-second-last.\n",
    "!!\n",
    "!! We take 7 states in the DFA solution.\n",
    "!!------------------------------------------------------------\n",
    "\n",
    "DFA\n",
    "!!------------------------------------------------------------\n",
    "!! State : in ->  tostate !! comment\n",
    "!!------------------------------------------------------------\n",
    "\n",
    "I   :  0 ->  S0  !! Enter at init state I\n",
    "I   :  1 ->  S1  !! Record bit seen in state letter\n",
    "                     !! i.e., S0 means \"state after seeing a 0\"\n",
    "\t\t\t \n",
    "S0  :  0 ->  S00 !! continue recording input seen\n",
    "S0  :  1 ->  S01 !! in state-letter. This is a problem-specific\n",
    "                 !! way of compressing the input seen so far.\n",
    "\n",
    "S1  :  0 ->  F10 !! We now have a \"second last\" available!\n",
    "S1  :  1 ->  F11 !! Both F10 and F10 are \"F\" (final)\n",
    "\n",
    "S00 :  0 ->  S00 !! History of things seen is still 00\n",
    "S00 :  1 ->  S01 !! Remember 01 in the state\n",
    "\n",
    "S01 :  0 ->  F10 !! We again have a second-last of 1\n",
    "S01 :  1 ->  F11 !! We are in F11 because of 11 being last seen\n",
    "\n",
    "F10 :  0 ->  S00 !! The second-last 1 gets pushed-out\n",
    "F10 :  1 ->  S01 !! The second-last 1 gets pushed-out here too\n",
    "\n",
    "F11 :  0 ->  F10 !! Still we have a second-last 1\n",
    "F11 :  1 ->  F11 !! Stay in F11, as last two seen are 11\n",
    "\n",
    "!!------------------------------------------------------------\n",
    "''')"
   ]
  },
  {
   "cell_type": "code",
   "execution_count": null,
   "metadata": {
    "run_control": {
     "frozen": false,
     "read_only": false
    }
   },
   "outputs": [],
   "source": []
  },
  {
   "cell_type": "code",
   "execution_count": 46,
   "metadata": {
    "run_control": {
     "frozen": false,
     "read_only": false
    }
   },
   "outputs": [
    {
     "data": {
      "text/plain": [
       "'0101'"
      ]
     },
     "execution_count": 46,
     "metadata": {},
     "output_type": "execute_result"
    }
   ],
   "source": [
    "nthnumeric(20,['0','1'])"
   ]
  },
  {
   "cell_type": "code",
   "execution_count": 47,
   "metadata": {
    "run_control": {
     "frozen": false,
     "read_only": false
    }
   },
   "outputs": [
    {
     "data": {
      "text/plain": [
       "'S01'"
      ]
     },
     "execution_count": 47,
     "metadata": {},
     "output_type": "execute_result"
    }
   ],
   "source": [
    "run_dfa(secondLastIs1, '0101')"
   ]
  },
  {
   "cell_type": "code",
   "execution_count": 48,
   "metadata": {
    "run_control": {
     "frozen": false,
     "read_only": false
    }
   },
   "outputs": [
    {
     "data": {
      "text/plain": [
       "False"
      ]
     },
     "execution_count": 48,
     "metadata": {},
     "output_type": "execute_result"
    }
   ],
   "source": [
    "accepts_dfa(secondLastIs1, '0101')"
   ]
  },
  {
   "cell_type": "code",
   "execution_count": 49,
   "metadata": {
    "run_control": {
     "frozen": false,
     "read_only": false
    }
   },
   "outputs": [
    {
     "name": "stdout",
     "output_type": "stream",
     "text": [
      "This DFA rejects  \n",
      "This DFA rejects  0\n",
      "This DFA rejects  1\n",
      "This DFA rejects  00\n",
      "This DFA rejects  01\n",
      "This DFA accepts  10\n",
      "This DFA accepts  11\n",
      "This DFA rejects  000\n",
      "This DFA rejects  001\n",
      "This DFA accepts  010\n",
      "This DFA accepts  011\n",
      "This DFA rejects  100\n"
     ]
    }
   ],
   "source": [
    "tests = [ nthnumeric(i, ['0','1']) for i in range(12) ]\n",
    "for t in tests:\n",
    "    if accepts_dfa(secondLastIs1, t):\n",
    "        print(\"This DFA accepts \", t)\n",
    "    else:\n",
    "        print(\"This DFA rejects \", t)"
   ]
  },
  {
   "cell_type": "code",
   "execution_count": 50,
   "metadata": {
    "run_control": {
     "frozen": false,
     "read_only": false
    }
   },
   "outputs": [
    {
     "name": "stdout",
     "output_type": "stream",
     "text": [
      "Help on function run_dfa in module jove.Def_DFA:\n",
      "\n",
      "run_dfa(D, s)\n",
      "    In : D (consistent DFA)\n",
      "         s (string over D's sigma, including \"\")\n",
      "    Out: next state of D[\"q0\"] via string s\n",
      "\n"
     ]
    }
   ],
   "source": [
    "help(run_dfa)"
   ]
  },
  {
   "cell_type": "markdown",
   "metadata": {
    "run_control": {
     "frozen": false,
     "read_only": false
    }
   },
   "source": [
    "# Study DeMorgan's Law on DFA\n",
    "\n",
    "This is an extensive illustration of union, intersection and complementation, DFA minimization, isomorphism test, language equivalence test, and an application of DeMorgan's law\n",
    "\n",
    "## Define a DFA for \"odd 1s\" (over {0,1})"
   ]
  },
  {
   "cell_type": "code",
   "execution_count": 51,
   "metadata": {
    "run_control": {
     "frozen": false,
     "read_only": false
    }
   },
   "outputs": [],
   "source": [
    "dfaOdd1s = md2mc('''\n",
    "DFA\n",
    "I : 0 -> I\n",
    "I : 1 -> F\n",
    "F : 0 -> F \n",
    "F : 1 -> I\n",
    "''')"
   ]
  },
  {
   "cell_type": "code",
   "execution_count": 52,
   "metadata": {
    "run_control": {
     "frozen": false,
     "read_only": false
    }
   },
   "outputs": [
    {
     "data": {
      "image/svg+xml": [
       "<?xml version=\"1.0\" encoding=\"UTF-8\" standalone=\"no\"?>\n",
       "<!DOCTYPE svg PUBLIC \"-//W3C//DTD SVG 1.1//EN\"\n",
       " \"http://www.w3.org/Graphics/SVG/1.1/DTD/svg11.dtd\">\n",
       "<!-- Generated by graphviz version 2.40.1 (20161225.0304)\n",
       " -->\n",
       "<!-- Title: %3 Pages: 1 -->\n",
       "<svg width=\"226pt\" height=\"85pt\"\n",
       " viewBox=\"0.00 0.00 226.00 85.00\" xmlns=\"http://www.w3.org/2000/svg\" xmlns:xlink=\"http://www.w3.org/1999/xlink\">\n",
       "<g id=\"graph0\" class=\"graph\" transform=\"scale(1 1) rotate(0) translate(4 81)\">\n",
       "<title>%3</title>\n",
       "<polygon fill=\"#ffffff\" stroke=\"transparent\" points=\"-4,4 -4,-81 222,-81 222,4 -4,4\"/>\n",
       "<!-- EMPTY -->\n",
       "<g id=\"node1\" class=\"node\">\n",
       "<title>EMPTY</title>\n",
       "</g>\n",
       "<!-- I -->\n",
       "<g id=\"node2\" class=\"node\">\n",
       "<title>I</title>\n",
       "<ellipse fill=\"none\" stroke=\"#000000\" cx=\"109\" cy=\"-22\" rx=\"18\" ry=\"18\"/>\n",
       "<text text-anchor=\"middle\" x=\"109\" y=\"-18.3\" font-family=\"Times,serif\" font-size=\"14.00\" fill=\"#000000\">I</text>\n",
       "</g>\n",
       "<!-- EMPTY&#45;&gt;I -->\n",
       "<g id=\"edge1\" class=\"edge\">\n",
       "<title>EMPTY&#45;&gt;I</title>\n",
       "<path fill=\"none\" stroke=\"#000000\" d=\"M54.3048,-22C62.6909,-22 71.9407,-22 80.4103,-22\"/>\n",
       "<polygon fill=\"#000000\" stroke=\"#000000\" points=\"80.5976,-25.5001 90.5976,-22 80.5976,-18.5001 80.5976,-25.5001\"/>\n",
       "</g>\n",
       "<!-- I&#45;&gt;I -->\n",
       "<g id=\"edge2\" class=\"edge\">\n",
       "<title>I&#45;&gt;I</title>\n",
       "<path fill=\"none\" stroke=\"#000000\" d=\"M102.6208,-39.0373C101.3189,-48.8579 103.4453,-58 109,-58 112.4717,-58 114.6042,-54.4289 115.3975,-49.3529\"/>\n",
       "<polygon fill=\"#000000\" stroke=\"#000000\" points=\"118.8971,-49.031 115.3792,-39.0373 111.8971,-49.0435 118.8971,-49.031\"/>\n",
       "<text text-anchor=\"middle\" x=\"109\" y=\"-61.8\" font-family=\"Times,serif\" font-size=\"14.00\" fill=\"#000000\">0 </text>\n",
       "</g>\n",
       "<!-- F -->\n",
       "<g id=\"node3\" class=\"node\">\n",
       "<title>F</title>\n",
       "<ellipse fill=\"none\" stroke=\"#000000\" cx=\"196\" cy=\"-22\" rx=\"18\" ry=\"18\"/>\n",
       "<ellipse fill=\"none\" stroke=\"#000000\" cx=\"196\" cy=\"-22\" rx=\"22\" ry=\"22\"/>\n",
       "<text text-anchor=\"middle\" x=\"196\" y=\"-18.3\" font-family=\"Times,serif\" font-size=\"14.00\" fill=\"#000000\">F</text>\n",
       "</g>\n",
       "<!-- I&#45;&gt;F -->\n",
       "<g id=\"edge3\" class=\"edge\">\n",
       "<title>I&#45;&gt;F</title>\n",
       "<path fill=\"none\" stroke=\"#000000\" d=\"M127.0265,-22C137.6806,-22 151.4825,-22 163.9377,-22\"/>\n",
       "<polygon fill=\"#000000\" stroke=\"#000000\" points=\"163.9848,-25.5001 173.9847,-22 163.9847,-18.5001 163.9848,-25.5001\"/>\n",
       "<text text-anchor=\"middle\" x=\"150.5\" y=\"-25.8\" font-family=\"Times,serif\" font-size=\"14.00\" fill=\"#000000\">1 </text>\n",
       "</g>\n",
       "<!-- F&#45;&gt;I -->\n",
       "<g id=\"edge5\" class=\"edge\">\n",
       "<title>F&#45;&gt;I</title>\n",
       "<path fill=\"none\" stroke=\"#000000\" d=\"M177.4309,-9.3024C167.8997,-4.2783 156.0058,-.2739 145,-3 141.0235,-3.985 137.0019,-5.4981 133.1597,-7.2497\"/>\n",
       "<polygon fill=\"#000000\" stroke=\"#000000\" points=\"131.3818,-4.2287 124.1057,-11.93 134.5962,-10.447 131.3818,-4.2287\"/>\n",
       "<text text-anchor=\"middle\" x=\"150.5\" y=\"-6.8\" font-family=\"Times,serif\" font-size=\"14.00\" fill=\"#000000\">1 </text>\n",
       "</g>\n",
       "<!-- F&#45;&gt;F -->\n",
       "<g id=\"edge4\" class=\"edge\">\n",
       "<title>F&#45;&gt;F</title>\n",
       "<path fill=\"none\" stroke=\"#000000\" d=\"M187.9937,-42.5808C186.8859,-52.8447 189.5547,-62 196,-62 200.129,-62 202.7082,-58.2427 203.7374,-52.8436\"/>\n",
       "<polygon fill=\"#000000\" stroke=\"#000000\" points=\"207.2431,-52.6691 204.0063,-42.5808 200.2455,-52.4857 207.2431,-52.6691\"/>\n",
       "<text text-anchor=\"middle\" x=\"196\" y=\"-65.8\" font-family=\"Times,serif\" font-size=\"14.00\" fill=\"#000000\">0 </text>\n",
       "</g>\n",
       "</g>\n",
       "</svg>\n"
      ],
      "text/plain": [
       "<graphviz.dot.Digraph at 0x1103bca20>"
      ]
     },
     "execution_count": 52,
     "metadata": {},
     "output_type": "execute_result"
    }
   ],
   "source": [
    "dotObj_dfa(dfaOdd1s)"
   ]
  },
  {
   "cell_type": "markdown",
   "metadata": {
    "run_control": {
     "frozen": false,
     "read_only": false
    }
   },
   "source": [
    "## Define a DFA for \"ends in 01\""
   ]
  },
  {
   "cell_type": "code",
   "execution_count": 53,
   "metadata": {
    "run_control": {
     "frozen": false,
     "read_only": false
    }
   },
   "outputs": [],
   "source": [
    "ends01 = md2mc('''\n",
    "DFA \n",
    "I     : 1 -> I   !! idle at I\n",
    "I     : 0 -> S0  !! record 0 seen\n",
    " \n",
    "S0    : 0 -> S0  !! stay at S0, hopeful of a 1\n",
    "S0    : 1 -> F   !! Found 01\n",
    "\n",
    "F     : 0 -> S0  !! Broke ending, but S0 is the fall back\n",
    "F     : 1 -> I   !! Must resume finding another 0\n",
    "''')"
   ]
  },
  {
   "cell_type": "code",
   "execution_count": 54,
   "metadata": {
    "run_control": {
     "frozen": false,
     "read_only": false
    }
   },
   "outputs": [
    {
     "data": {
      "image/svg+xml": [
       "<?xml version=\"1.0\" encoding=\"UTF-8\" standalone=\"no\"?>\n",
       "<!DOCTYPE svg PUBLIC \"-//W3C//DTD SVG 1.1//EN\"\n",
       " \"http://www.w3.org/Graphics/SVG/1.1/DTD/svg11.dtd\">\n",
       "<!-- Generated by graphviz version 2.40.1 (20161225.0304)\n",
       " -->\n",
       "<!-- Title: %3 Pages: 1 -->\n",
       "<svg width=\"313pt\" height=\"116pt\"\n",
       " viewBox=\"0.00 0.00 313.30 116.15\" xmlns=\"http://www.w3.org/2000/svg\" xmlns:xlink=\"http://www.w3.org/1999/xlink\">\n",
       "<g id=\"graph0\" class=\"graph\" transform=\"scale(1 1) rotate(0) translate(4 112.1482)\">\n",
       "<title>%3</title>\n",
       "<polygon fill=\"#ffffff\" stroke=\"transparent\" points=\"-4,4 -4,-112.1482 309.2964,-112.1482 309.2964,4 -4,4\"/>\n",
       "<!-- EMPTY -->\n",
       "<g id=\"node1\" class=\"node\">\n",
       "<title>EMPTY</title>\n",
       "</g>\n",
       "<!-- I -->\n",
       "<g id=\"node3\" class=\"node\">\n",
       "<title>I</title>\n",
       "<ellipse fill=\"none\" stroke=\"#000000\" cx=\"109\" cy=\"-18\" rx=\"18\" ry=\"18\"/>\n",
       "<text text-anchor=\"middle\" x=\"109\" y=\"-14.3\" font-family=\"Times,serif\" font-size=\"14.00\" fill=\"#000000\">I</text>\n",
       "</g>\n",
       "<!-- EMPTY&#45;&gt;I -->\n",
       "<g id=\"edge1\" class=\"edge\">\n",
       "<title>EMPTY&#45;&gt;I</title>\n",
       "<path fill=\"none\" stroke=\"#000000\" d=\"M54.3048,-18C62.6909,-18 71.9407,-18 80.4103,-18\"/>\n",
       "<polygon fill=\"#000000\" stroke=\"#000000\" points=\"80.5976,-21.5001 90.5976,-18 80.5976,-14.5001 80.5976,-21.5001\"/>\n",
       "</g>\n",
       "<!-- S0 -->\n",
       "<g id=\"node2\" class=\"node\">\n",
       "<title>S0</title>\n",
       "<ellipse fill=\"none\" stroke=\"#000000\" cx=\"194.1482\" cy=\"-55\" rx=\"20.2975\" ry=\"20.2975\"/>\n",
       "<text text-anchor=\"middle\" x=\"194.1482\" y=\"-51.3\" font-family=\"Times,serif\" font-size=\"14.00\" fill=\"#000000\">S0</text>\n",
       "</g>\n",
       "<!-- S0&#45;&gt;S0 -->\n",
       "<g id=\"edge4\" class=\"edge\">\n",
       "<title>S0&#45;&gt;S0</title>\n",
       "<path fill=\"none\" stroke=\"#000000\" d=\"M186.5981,-73.8428C185.3151,-83.9449 187.8318,-93.1482 194.1482,-93.1482 198.1947,-93.1482 200.6817,-89.3712 201.6093,-84.0004\"/>\n",
       "<polygon fill=\"#000000\" stroke=\"#000000\" points=\"205.1105,-83.8731 201.6983,-73.8428 198.1108,-83.8117 205.1105,-83.8731\"/>\n",
       "<text text-anchor=\"middle\" x=\"194.1482\" y=\"-96.9482\" font-family=\"Times,serif\" font-size=\"14.00\" fill=\"#000000\">0 </text>\n",
       "</g>\n",
       "<!-- F -->\n",
       "<g id=\"node4\" class=\"node\">\n",
       "<title>F</title>\n",
       "<ellipse fill=\"none\" stroke=\"#000000\" cx=\"283.2964\" cy=\"-35\" rx=\"18\" ry=\"18\"/>\n",
       "<ellipse fill=\"none\" stroke=\"#000000\" cx=\"283.2964\" cy=\"-35\" rx=\"22\" ry=\"22\"/>\n",
       "<text text-anchor=\"middle\" x=\"283.2964\" y=\"-31.3\" font-family=\"Times,serif\" font-size=\"14.00\" fill=\"#000000\">F</text>\n",
       "</g>\n",
       "<!-- S0&#45;&gt;F -->\n",
       "<g id=\"edge5\" class=\"edge\">\n",
       "<title>S0&#45;&gt;F</title>\n",
       "<path fill=\"none\" stroke=\"#000000\" d=\"M214.4461,-54.7094C223.3886,-54.2338 233.9626,-53.1939 243.2964,-51 246.7503,-50.1882 250.2977,-49.1278 253.7853,-47.9389\"/>\n",
       "<polygon fill=\"#000000\" stroke=\"#000000\" points=\"255.2021,-51.1454 263.3286,-44.3475 252.7366,-44.594 255.2021,-51.1454\"/>\n",
       "<text text-anchor=\"middle\" x=\"237.7964\" y=\"-55.8\" font-family=\"Times,serif\" font-size=\"14.00\" fill=\"#000000\">1 </text>\n",
       "</g>\n",
       "<!-- I&#45;&gt;S0 -->\n",
       "<g id=\"edge3\" class=\"edge\">\n",
       "<title>I&#45;&gt;S0</title>\n",
       "<path fill=\"none\" stroke=\"#000000\" d=\"M125.8225,-25.31C137.3666,-30.3263 152.9569,-37.1009 166.3304,-42.9121\"/>\n",
       "<polygon fill=\"#000000\" stroke=\"#000000\" points=\"165.0206,-46.1591 175.587,-46.9345 167.8104,-39.739 165.0206,-46.1591\"/>\n",
       "<text text-anchor=\"middle\" x=\"150.5\" y=\"-40.8\" font-family=\"Times,serif\" font-size=\"14.00\" fill=\"#000000\">0 </text>\n",
       "</g>\n",
       "<!-- I&#45;&gt;I -->\n",
       "<g id=\"edge2\" class=\"edge\">\n",
       "<title>I&#45;&gt;I</title>\n",
       "<path fill=\"none\" stroke=\"#000000\" d=\"M102.6208,-35.0373C101.3189,-44.8579 103.4453,-54 109,-54 112.4717,-54 114.6042,-50.4289 115.3975,-45.3529\"/>\n",
       "<polygon fill=\"#000000\" stroke=\"#000000\" points=\"118.8971,-45.031 115.3792,-35.0373 111.8971,-45.0435 118.8971,-45.031\"/>\n",
       "<text text-anchor=\"middle\" x=\"109\" y=\"-57.8\" font-family=\"Times,serif\" font-size=\"14.00\" fill=\"#000000\">1 </text>\n",
       "</g>\n",
       "<!-- F&#45;&gt;S0 -->\n",
       "<g id=\"edge6\" class=\"edge\">\n",
       "<title>F&#45;&gt;S0</title>\n",
       "<path fill=\"none\" stroke=\"#000000\" d=\"M261.6248,-30.6347C252.4341,-29.5719 241.696,-29.3856 232.2964,-32 227.8167,-33.246 223.3369,-35.1754 219.1042,-37.3985\"/>\n",
       "<polygon fill=\"#000000\" stroke=\"#000000\" points=\"217.1582,-34.4829 210.3288,-42.5829 220.7188,-40.5097 217.1582,-34.4829\"/>\n",
       "<text text-anchor=\"middle\" x=\"237.7964\" y=\"-35.8\" font-family=\"Times,serif\" font-size=\"14.00\" fill=\"#000000\">0 </text>\n",
       "</g>\n",
       "<!-- F&#45;&gt;I -->\n",
       "<g id=\"edge7\" class=\"edge\">\n",
       "<title>F&#45;&gt;I</title>\n",
       "<path fill=\"none\" stroke=\"#000000\" d=\"M262.9388,-25.8951C249.4444,-20.3706 231.1794,-13.8524 214.2964,-11 188.1791,-6.5875 157.9783,-9.3914 136.6359,-12.6682\"/>\n",
       "<polygon fill=\"#000000\" stroke=\"#000000\" points=\"135.9267,-9.2381 126.6395,-14.337 137.0793,-16.1425 135.9267,-9.2381\"/>\n",
       "<text text-anchor=\"middle\" x=\"194.1482\" y=\"-14.8\" font-family=\"Times,serif\" font-size=\"14.00\" fill=\"#000000\">1 </text>\n",
       "</g>\n",
       "</g>\n",
       "</svg>\n"
      ],
      "text/plain": [
       "<graphviz.dot.Digraph at 0x1103c7e10>"
      ]
     },
     "execution_count": 54,
     "metadata": {},
     "output_type": "execute_result"
    }
   ],
   "source": [
    "dotObj_dfa(ends01)"
   ]
  },
  {
   "cell_type": "markdown",
   "metadata": {
    "run_control": {
     "frozen": false,
     "read_only": false
    }
   },
   "source": [
    "## Now produce a DFA for the union\n",
    "\n",
    "Union of \"odd 1s\" and \"ends in 01\"\n"
   ]
  },
  {
   "cell_type": "code",
   "execution_count": 55,
   "metadata": {
    "run_control": {
     "frozen": false,
     "read_only": false
    }
   },
   "outputs": [],
   "source": [
    "odd1sORends01 = union_dfa(dfaOdd1s,ends01)"
   ]
  },
  {
   "cell_type": "code",
   "execution_count": 56,
   "metadata": {
    "run_control": {
     "frozen": false,
     "read_only": false
    }
   },
   "outputs": [
    {
     "data": {
      "image/svg+xml": [
       "<?xml version=\"1.0\" encoding=\"UTF-8\" standalone=\"no\"?>\n",
       "<!DOCTYPE svg PUBLIC \"-//W3C//DTD SVG 1.1//EN\"\n",
       " \"http://www.w3.org/Graphics/SVG/1.1/DTD/svg11.dtd\">\n",
       "<!-- Generated by graphviz version 2.40.1 (20161225.0304)\n",
       " -->\n",
       "<!-- Title: %3 Pages: 1 -->\n",
       "<svg width=\"739pt\" height=\"226pt\"\n",
       " viewBox=\"0.00 0.00 739.07 225.80\" xmlns=\"http://www.w3.org/2000/svg\" xmlns:xlink=\"http://www.w3.org/1999/xlink\">\n",
       "<g id=\"graph0\" class=\"graph\" transform=\"scale(1 1) rotate(0) translate(4 221.797)\">\n",
       "<title>%3</title>\n",
       "<polygon fill=\"#ffffff\" stroke=\"transparent\" points=\"-4,4 -4,-221.797 735.0669,-221.797 735.0669,4 -4,4\"/>\n",
       "<!-- EMPTY -->\n",
       "<g id=\"node1\" class=\"node\">\n",
       "<title>EMPTY</title>\n",
       "</g>\n",
       "<!-- \\(I_I\\) -->\n",
       "<g id=\"node2\" class=\"node\">\n",
       "<title>\\(I_I\\)</title>\n",
       "<ellipse fill=\"none\" stroke=\"#000000\" cx=\"118.2976\" cy=\"-61\" rx=\"27.0966\" ry=\"27.0966\"/>\n",
       "<text text-anchor=\"middle\" x=\"118.2976\" y=\"-57.3\" font-family=\"Times,serif\" font-size=\"14.00\" fill=\"#000000\">(I_I)</text>\n",
       "</g>\n",
       "<!-- EMPTY&#45;&gt;\\(I_I\\) -->\n",
       "<g id=\"edge1\" class=\"edge\">\n",
       "<title>EMPTY&#45;&gt;\\(I_I\\)</title>\n",
       "<path fill=\"none\" stroke=\"#000000\" d=\"M54.3923,-61C62.6976,-61 71.9683,-61 80.8159,-61\"/>\n",
       "<polygon fill=\"#000000\" stroke=\"#000000\" points=\"80.9247,-64.5001 90.9246,-61 80.9246,-57.5001 80.9247,-64.5001\"/>\n",
       "</g>\n",
       "<!-- \\(I_S0\\) -->\n",
       "<g id=\"node3\" class=\"node\">\n",
       "<title>\\(I_S0\\)</title>\n",
       "<ellipse fill=\"none\" stroke=\"#000000\" cx=\"226.3922\" cy=\"-151\" rx=\"33.5952\" ry=\"33.5952\"/>\n",
       "<text text-anchor=\"middle\" x=\"226.3922\" y=\"-147.3\" font-family=\"Times,serif\" font-size=\"14.00\" fill=\"#000000\">(I_S0)</text>\n",
       "</g>\n",
       "<!-- \\(I_I\\)&#45;&gt;\\(I_S0\\) -->\n",
       "<g id=\"edge11\" class=\"edge\">\n",
       "<title>\\(I_I\\)&#45;&gt;\\(I_S0\\)</title>\n",
       "<path fill=\"none\" stroke=\"#000000\" d=\"M139.3959,-78.5666C154.5275,-91.1652 175.231,-108.403 192.6449,-122.9019\"/>\n",
       "<polygon fill=\"#000000\" stroke=\"#000000\" points=\"190.4581,-125.6355 200.3826,-129.3443 194.9371,-120.256 190.4581,-125.6355\"/>\n",
       "<text text-anchor=\"middle\" x=\"169.0952\" y=\"-109.8\" font-family=\"Times,serif\" font-size=\"14.00\" fill=\"#000000\">0 </text>\n",
       "</g>\n",
       "<!-- \\(F_I\\) -->\n",
       "<g id=\"node4\" class=\"node\">\n",
       "<title>\\(F_I\\)</title>\n",
       "<ellipse fill=\"none\" stroke=\"#000000\" cx=\"697.8195\" cy=\"-61\" rx=\"29.4667\" ry=\"29.4667\"/>\n",
       "<ellipse fill=\"none\" stroke=\"#000000\" cx=\"697.8195\" cy=\"-61\" rx=\"33.4967\" ry=\"33.4967\"/>\n",
       "<text text-anchor=\"middle\" x=\"697.8195\" y=\"-57.3\" font-family=\"Times,serif\" font-size=\"14.00\" fill=\"#000000\">(F_I)</text>\n",
       "</g>\n",
       "<!-- \\(I_I\\)&#45;&gt;\\(F_I\\) -->\n",
       "<g id=\"edge6\" class=\"edge\">\n",
       "<title>\\(I_I\\)&#45;&gt;\\(F_I\\)</title>\n",
       "<path fill=\"none\" stroke=\"#000000\" d=\"M144.1807,-52.3047C165.8763,-45.7915 197.8042,-38 226.3922,-38 226.3922,-38 226.3922,-38 584.3247,-38 608.4493,-38 634.894,-43.0534 656.1833,-48.4228\"/>\n",
       "<polygon fill=\"#000000\" stroke=\"#000000\" points=\"655.3187,-51.8143 665.8806,-50.9788 657.1029,-45.0455 655.3187,-51.8143\"/>\n",
       "<text text-anchor=\"middle\" x=\"401.0836\" y=\"-41.8\" font-family=\"Times,serif\" font-size=\"14.00\" fill=\"#000000\">1 </text>\n",
       "</g>\n",
       "<!-- \\(I_S0\\)&#45;&gt;\\(I_S0\\) -->\n",
       "<g id=\"edge13\" class=\"edge\">\n",
       "<title>\\(I_S0\\)&#45;&gt;\\(I_S0\\)</title>\n",
       "<path fill=\"none\" stroke=\"#000000\" d=\"M215.8922,-183.3731C215.8922,-194.1642 219.3922,-202.797 226.3922,-202.797 230.9859,-202.797 234.0723,-199.0792 235.6514,-193.4733\"/>\n",
       "<polygon fill=\"#000000\" stroke=\"#000000\" points=\"239.1467,-193.7253 236.8922,-183.3731 232.1989,-192.8718 239.1467,-193.7253\"/>\n",
       "<text text-anchor=\"middle\" x=\"226.3922\" y=\"-206.597\" font-family=\"Times,serif\" font-size=\"14.00\" fill=\"#000000\">0 </text>\n",
       "</g>\n",
       "<!-- \\(F_F\\) -->\n",
       "<g id=\"node7\" class=\"node\">\n",
       "<title>\\(F_F\\)</title>\n",
       "<ellipse fill=\"none\" stroke=\"#000000\" cx=\"342.3864\" cy=\"-106\" rx=\"31.373\" ry=\"31.373\"/>\n",
       "<ellipse fill=\"none\" stroke=\"#000000\" cx=\"342.3864\" cy=\"-106\" rx=\"35.3956\" ry=\"35.3956\"/>\n",
       "<text text-anchor=\"middle\" x=\"342.3864\" y=\"-102.3\" font-family=\"Times,serif\" font-size=\"14.00\" fill=\"#000000\">(F_F)</text>\n",
       "</g>\n",
       "<!-- \\(I_S0\\)&#45;&gt;\\(F_F\\) -->\n",
       "<g id=\"edge10\" class=\"edge\">\n",
       "<title>\\(I_S0\\)&#45;&gt;\\(F_F\\)</title>\n",
       "<path fill=\"none\" stroke=\"#000000\" d=\"M258.0881,-138.7036C271.0592,-133.6714 286.2572,-127.7753 300.1496,-122.3858\"/>\n",
       "<polygon fill=\"#000000\" stroke=\"#000000\" points=\"301.4584,-125.6323 309.5155,-118.7523 298.9265,-119.1062 301.4584,-125.6323\"/>\n",
       "<text text-anchor=\"middle\" x=\"283.6892\" y=\"-132.8\" font-family=\"Times,serif\" font-size=\"14.00\" fill=\"#000000\">1 </text>\n",
       "</g>\n",
       "<!-- \\(F_I\\)&#45;&gt;\\(I_I\\) -->\n",
       "<g id=\"edge4\" class=\"edge\">\n",
       "<title>\\(F_I\\)&#45;&gt;\\(I_I\\)</title>\n",
       "<path fill=\"none\" stroke=\"#000000\" d=\"M672.8167,-38.2859C651.0773,-20.9427 617.8791,0 584.3247,0 226.3922,0 226.3922,0 226.3922,0 195.9551,0 166.1978,-18.5706 145.6364,-35.2189\"/>\n",
       "<polygon fill=\"#000000\" stroke=\"#000000\" points=\"143.3412,-32.5761 137.9542,-41.6992 147.8547,-37.9267 143.3412,-32.5761\"/>\n",
       "<text text-anchor=\"middle\" x=\"401.0836\" y=\"-3.8\" font-family=\"Times,serif\" font-size=\"14.00\" fill=\"#000000\">1 </text>\n",
       "</g>\n",
       "<!-- \\(F_S0\\) -->\n",
       "<g id=\"node5\" class=\"node\">\n",
       "<title>\\(F_S0\\)</title>\n",
       "<ellipse fill=\"none\" stroke=\"#000000\" cx=\"464.3304\" cy=\"-106\" rx=\"35.9702\" ry=\"35.9702\"/>\n",
       "<ellipse fill=\"none\" stroke=\"#000000\" cx=\"464.3304\" cy=\"-106\" rx=\"39.9952\" ry=\"39.9952\"/>\n",
       "<text text-anchor=\"middle\" x=\"464.3304\" y=\"-102.3\" font-family=\"Times,serif\" font-size=\"14.00\" fill=\"#000000\">(F_S0)</text>\n",
       "</g>\n",
       "<!-- \\(F_I\\)&#45;&gt;\\(F_S0\\) -->\n",
       "<g id=\"edge2\" class=\"edge\">\n",
       "<title>\\(F_I\\)&#45;&gt;\\(F_S0\\)</title>\n",
       "<path fill=\"none\" stroke=\"#000000\" d=\"M665.0301,-67.3195C625.5724,-74.9241 558.9515,-87.7638 513.3711,-96.5485\"/>\n",
       "<polygon fill=\"#000000\" stroke=\"#000000\" points=\"512.5682,-93.1387 503.4113,-98.468 513.893,-100.0122 512.5682,-93.1387\"/>\n",
       "<text text-anchor=\"middle\" x=\"584.3247\" y=\"-91.8\" font-family=\"Times,serif\" font-size=\"14.00\" fill=\"#000000\">0 </text>\n",
       "</g>\n",
       "<!-- \\(F_S0\\)&#45;&gt;\\(F_S0\\) -->\n",
       "<g id=\"edge7\" class=\"edge\">\n",
       "<title>\\(F_S0\\)&#45;&gt;\\(F_S0\\)</title>\n",
       "<path fill=\"none\" stroke=\"#000000\" d=\"M452.7402,-144.0428C453.1409,-155.1462 457.0043,-163.7468 464.3304,-163.7468 469.2527,-163.7468 472.6118,-159.8644 474.4078,-153.9489\"/>\n",
       "<polygon fill=\"#000000\" stroke=\"#000000\" points=\"477.8708,-154.4566 475.9207,-144.0428 470.951,-153.3997 477.8708,-154.4566\"/>\n",
       "<text text-anchor=\"middle\" x=\"464.3304\" y=\"-167.5468\" font-family=\"Times,serif\" font-size=\"14.00\" fill=\"#000000\">0 </text>\n",
       "</g>\n",
       "<!-- \\(I_F\\) -->\n",
       "<g id=\"node6\" class=\"node\">\n",
       "<title>\\(I_F\\)</title>\n",
       "<ellipse fill=\"none\" stroke=\"#000000\" cx=\"584.3247\" cy=\"-150\" rx=\"29.4667\" ry=\"29.4667\"/>\n",
       "<ellipse fill=\"none\" stroke=\"#000000\" cx=\"584.3247\" cy=\"-150\" rx=\"33.4967\" ry=\"33.4967\"/>\n",
       "<text text-anchor=\"middle\" x=\"584.3247\" y=\"-146.3\" font-family=\"Times,serif\" font-size=\"14.00\" fill=\"#000000\">(I_F)</text>\n",
       "</g>\n",
       "<!-- \\(F_S0\\)&#45;&gt;\\(I_F\\) -->\n",
       "<g id=\"edge12\" class=\"edge\">\n",
       "<title>\\(F_S0\\)&#45;&gt;\\(I_F\\)</title>\n",
       "<path fill=\"none\" stroke=\"#000000\" d=\"M501.9681,-119.8012C515.1312,-124.6279 529.97,-130.069 543.389,-134.9895\"/>\n",
       "<polygon fill=\"#000000\" stroke=\"#000000\" points=\"542.2713,-138.3075 552.865,-138.4642 544.6812,-131.7354 542.2713,-138.3075\"/>\n",
       "<text text-anchor=\"middle\" x=\"527.5773\" y=\"-133.8\" font-family=\"Times,serif\" font-size=\"14.00\" fill=\"#000000\">1 </text>\n",
       "</g>\n",
       "<!-- \\(I_F\\)&#45;&gt;\\(I_S0\\) -->\n",
       "<g id=\"edge3\" class=\"edge\">\n",
       "<title>\\(I_F\\)&#45;&gt;\\(I_S0\\)</title>\n",
       "<path fill=\"none\" stroke=\"#000000\" d=\"M555.7247,-167.3438C540.8852,-175.3397 522.1248,-183.9429 504.0773,-188 421.4364,-206.5779 322.719,-182.7536 268.0475,-165.6224\"/>\n",
       "<polygon fill=\"#000000\" stroke=\"#000000\" points=\"268.9568,-162.2384 258.3656,-162.5132 266.8165,-168.9032 268.9568,-162.2384\"/>\n",
       "<text text-anchor=\"middle\" x=\"401.0836\" y=\"-196.8\" font-family=\"Times,serif\" font-size=\"14.00\" fill=\"#000000\">0 </text>\n",
       "</g>\n",
       "<!-- \\(I_F\\)&#45;&gt;\\(F_I\\) -->\n",
       "<g id=\"edge9\" class=\"edge\">\n",
       "<title>\\(I_F\\)&#45;&gt;\\(F_I\\)</title>\n",
       "<path fill=\"none\" stroke=\"#000000\" d=\"M610.6479,-129.3579C626.4049,-117.0017 646.605,-101.1612 663.5917,-87.8406\"/>\n",
       "<polygon fill=\"#000000\" stroke=\"#000000\" points=\"665.9297,-90.4551 671.639,-81.5301 661.6101,-84.9467 665.9297,-90.4551\"/>\n",
       "<text text-anchor=\"middle\" x=\"641.0721\" y=\"-111.8\" font-family=\"Times,serif\" font-size=\"14.00\" fill=\"#000000\">1 </text>\n",
       "</g>\n",
       "<!-- \\(F_F\\)&#45;&gt;\\(I_I\\) -->\n",
       "<g id=\"edge8\" class=\"edge\">\n",
       "<title>\\(F_F\\)&#45;&gt;\\(I_I\\)</title>\n",
       "<path fill=\"none\" stroke=\"#000000\" d=\"M307.5387,-99.0021C266.1667,-90.6941 197.4687,-76.8986 155.2112,-68.4127\"/>\n",
       "<polygon fill=\"#000000\" stroke=\"#000000\" points=\"155.8213,-64.9655 145.3279,-66.4281 154.4431,-71.8285 155.8213,-64.9655\"/>\n",
       "<text text-anchor=\"middle\" x=\"226.3922\" y=\"-92.8\" font-family=\"Times,serif\" font-size=\"14.00\" fill=\"#000000\">1 </text>\n",
       "</g>\n",
       "<!-- \\(F_F\\)&#45;&gt;\\(F_S0\\) -->\n",
       "<g id=\"edge5\" class=\"edge\">\n",
       "<title>\\(F_F\\)&#45;&gt;\\(F_S0\\)</title>\n",
       "<path fill=\"none\" stroke=\"#000000\" d=\"M377.6577,-106C389.0881,-106 401.9936,-106 414.2865,-106\"/>\n",
       "<polygon fill=\"#000000\" stroke=\"#000000\" points=\"414.4225,-109.5001 424.4225,-106 414.4225,-102.5001 414.4225,-109.5001\"/>\n",
       "<text text-anchor=\"middle\" x=\"401.0836\" y=\"-109.8\" font-family=\"Times,serif\" font-size=\"14.00\" fill=\"#000000\">0 </text>\n",
       "</g>\n",
       "</g>\n",
       "</svg>\n"
      ],
      "text/plain": [
       "<graphviz.dot.Digraph at 0x1103c76a0>"
      ]
     },
     "execution_count": 56,
     "metadata": {},
     "output_type": "execute_result"
    }
   ],
   "source": [
    "dotObj_dfa(odd1sORends01)"
   ]
  },
  {
   "cell_type": "markdown",
   "metadata": {
    "run_control": {
     "frozen": false,
     "read_only": false
    }
   },
   "source": [
    "## Apply DFA minimization"
   ]
  },
  {
   "cell_type": "code",
   "execution_count": 57,
   "metadata": {
    "run_control": {
     "frozen": false,
     "read_only": false
    }
   },
   "outputs": [],
   "source": [
    "Minodd1sORends01 = min_dfa(odd1sORends01)"
   ]
  },
  {
   "cell_type": "code",
   "execution_count": 58,
   "metadata": {
    "run_control": {
     "frozen": false,
     "read_only": false
    }
   },
   "outputs": [
    {
     "data": {
      "image/svg+xml": [
       "<?xml version=\"1.0\" encoding=\"UTF-8\" standalone=\"no\"?>\n",
       "<!DOCTYPE svg PUBLIC \"-//W3C//DTD SVG 1.1//EN\"\n",
       " \"http://www.w3.org/Graphics/SVG/1.1/DTD/svg11.dtd\">\n",
       "<!-- Generated by graphviz version 2.40.1 (20161225.0304)\n",
       " -->\n",
       "<!-- Title: %3 Pages: 1 -->\n",
       "<svg width=\"507pt\" height=\"194pt\"\n",
       " viewBox=\"0.00 0.00 507.08 194.04\" xmlns=\"http://www.w3.org/2000/svg\" xmlns:xlink=\"http://www.w3.org/1999/xlink\">\n",
       "<g id=\"graph0\" class=\"graph\" transform=\"scale(1 1) rotate(0) translate(4 190.0444)\">\n",
       "<title>%3</title>\n",
       "<polygon fill=\"#ffffff\" stroke=\"transparent\" points=\"-4,4 -4,-190.0444 503.0784,-190.0444 503.0784,4 -4,4\"/>\n",
       "<!-- EMPTY -->\n",
       "<g id=\"node1\" class=\"node\">\n",
       "<title>EMPTY</title>\n",
       "</g>\n",
       "<!-- \\(I_I\\) -->\n",
       "<g id=\"node2\" class=\"node\">\n",
       "<title>\\(I_I\\)</title>\n",
       "<ellipse fill=\"none\" stroke=\"#000000\" cx=\"118.2976\" cy=\"-27.2976\" rx=\"27.0966\" ry=\"27.0966\"/>\n",
       "<text text-anchor=\"middle\" x=\"118.2976\" y=\"-23.5976\" font-family=\"Times,serif\" font-size=\"14.00\" fill=\"#000000\">(I_I)</text>\n",
       "</g>\n",
       "<!-- EMPTY&#45;&gt;\\(I_I\\) -->\n",
       "<g id=\"edge1\" class=\"edge\">\n",
       "<title>EMPTY&#45;&gt;\\(I_I\\)</title>\n",
       "<path fill=\"none\" stroke=\"#000000\" d=\"M54.3923,-27.2976C62.6976,-27.2976 71.9683,-27.2976 80.8159,-27.2976\"/>\n",
       "<polygon fill=\"#000000\" stroke=\"#000000\" points=\"80.9247,-30.7977 90.9246,-27.2976 80.9246,-23.7977 80.9247,-30.7977\"/>\n",
       "</g>\n",
       "<!-- \\(I_I\\)&#45;&gt;\\(I_I\\) -->\n",
       "<g id=\"edge8\" class=\"edge\">\n",
       "<title>\\(I_I\\)&#45;&gt;\\(I_I\\)</title>\n",
       "<path fill=\"none\" stroke=\"#000000\" d=\"M110.0979,-53.3649C109.6347,-63.8199 112.3679,-72.5952 118.2976,-72.5952 122.0963,-72.5952 124.5832,-68.9938 125.7582,-63.6565\"/>\n",
       "<polygon fill=\"#000000\" stroke=\"#000000\" points=\"129.2719,-63.5899 126.4972,-53.3649 122.2899,-63.0885 129.2719,-63.5899\"/>\n",
       "<text text-anchor=\"middle\" x=\"118.2976\" y=\"-76.3952\" font-family=\"Times,serif\" font-size=\"14.00\" fill=\"#000000\">0 </text>\n",
       "</g>\n",
       "<!-- \\(F_I\\) -->\n",
       "<g id=\"node3\" class=\"node\">\n",
       "<title>\\(F_I\\)</title>\n",
       "<ellipse fill=\"none\" stroke=\"#000000\" cx=\"225.8426\" cy=\"-60.2976\" rx=\"29.4667\" ry=\"29.4667\"/>\n",
       "<ellipse fill=\"none\" stroke=\"#000000\" cx=\"225.8426\" cy=\"-60.2976\" rx=\"33.4967\" ry=\"33.4967\"/>\n",
       "<text text-anchor=\"middle\" x=\"225.8426\" y=\"-56.5976\" font-family=\"Times,serif\" font-size=\"14.00\" fill=\"#000000\">(F_I)</text>\n",
       "</g>\n",
       "<!-- \\(I_I\\)&#45;&gt;\\(F_I\\) -->\n",
       "<g id=\"edge5\" class=\"edge\">\n",
       "<title>\\(I_I\\)&#45;&gt;\\(F_I\\)</title>\n",
       "<path fill=\"none\" stroke=\"#000000\" d=\"M144.0593,-36.763C150.4153,-38.997 157.227,-41.3062 163.5952,-43.2976 170.0605,-45.3193 176.9445,-47.3345 183.6887,-49.2333\"/>\n",
       "<polygon fill=\"#000000\" stroke=\"#000000\" points=\"182.8335,-52.6281 193.4046,-51.9194 184.6988,-45.8812 182.8335,-52.6281\"/>\n",
       "<text text-anchor=\"middle\" x=\"169.0952\" y=\"-50.0976\" font-family=\"Times,serif\" font-size=\"14.00\" fill=\"#000000\">1 </text>\n",
       "</g>\n",
       "<!-- \\(F_I\\)&#45;&gt;\\(I_I\\) -->\n",
       "<g id=\"edge4\" class=\"edge\">\n",
       "<title>\\(F_I\\)&#45;&gt;\\(I_I\\)</title>\n",
       "<path fill=\"none\" stroke=\"#000000\" d=\"M199.2354,-39.9278C191.6654,-35.2082 183.1438,-30.8297 174.5952,-28.2976 168.7107,-26.5546 162.3266,-25.6063 156.0418,-25.1679\"/>\n",
       "<polygon fill=\"#000000\" stroke=\"#000000\" points=\"155.7636,-21.6582 145.6645,-24.8609 155.5566,-28.6552 155.7636,-21.6582\"/>\n",
       "<text text-anchor=\"middle\" x=\"169.0952\" y=\"-32.0976\" font-family=\"Times,serif\" font-size=\"14.00\" fill=\"#000000\">1 </text>\n",
       "</g>\n",
       "<!-- \\(F_S0\\) -->\n",
       "<g id=\"node4\" class=\"node\">\n",
       "<title>\\(F_S0\\)</title>\n",
       "<ellipse fill=\"none\" stroke=\"#000000\" cx=\"345.8368\" cy=\"-113.2976\" rx=\"35.9702\" ry=\"35.9702\"/>\n",
       "<ellipse fill=\"none\" stroke=\"#000000\" cx=\"345.8368\" cy=\"-113.2976\" rx=\"39.9952\" ry=\"39.9952\"/>\n",
       "<text text-anchor=\"middle\" x=\"345.8368\" y=\"-109.5976\" font-family=\"Times,serif\" font-size=\"14.00\" fill=\"#000000\">(F_S0)</text>\n",
       "</g>\n",
       "<!-- \\(F_I\\)&#45;&gt;\\(F_S0\\) -->\n",
       "<g id=\"edge2\" class=\"edge\">\n",
       "<title>\\(F_I\\)&#45;&gt;\\(F_S0\\)</title>\n",
       "<path fill=\"none\" stroke=\"#000000\" d=\"M256.4326,-73.8088C269.6472,-79.6456 285.3904,-86.5991 299.9566,-93.0329\"/>\n",
       "<polygon fill=\"#000000\" stroke=\"#000000\" points=\"298.7587,-96.3299 309.3203,-97.1687 301.587,-89.9267 298.7587,-96.3299\"/>\n",
       "<text text-anchor=\"middle\" x=\"282.59\" y=\"-90.0976\" font-family=\"Times,serif\" font-size=\"14.00\" fill=\"#000000\">0 </text>\n",
       "</g>\n",
       "<!-- \\(F_S0\\)&#45;&gt;\\(F_S0\\) -->\n",
       "<g id=\"edge6\" class=\"edge\">\n",
       "<title>\\(F_S0\\)&#45;&gt;\\(F_S0\\)</title>\n",
       "<path fill=\"none\" stroke=\"#000000\" d=\"M334.2466,-151.3403C334.6472,-162.4438 338.5106,-171.0444 345.8368,-171.0444 350.7591,-171.0444 354.1182,-167.162 355.9142,-161.2465\"/>\n",
       "<polygon fill=\"#000000\" stroke=\"#000000\" points=\"359.3771,-161.7542 357.427,-151.3403 352.4574,-160.6973 359.3771,-161.7542\"/>\n",
       "<text text-anchor=\"middle\" x=\"345.8368\" y=\"-174.8444\" font-family=\"Times,serif\" font-size=\"14.00\" fill=\"#000000\">0 </text>\n",
       "</g>\n",
       "<!-- \\(I_F\\) -->\n",
       "<g id=\"node5\" class=\"node\">\n",
       "<title>\\(I_F\\)</title>\n",
       "<ellipse fill=\"none\" stroke=\"#000000\" cx=\"465.831\" cy=\"-40.2976\" rx=\"29.4667\" ry=\"29.4667\"/>\n",
       "<ellipse fill=\"none\" stroke=\"#000000\" cx=\"465.831\" cy=\"-40.2976\" rx=\"33.4967\" ry=\"33.4967\"/>\n",
       "<text text-anchor=\"middle\" x=\"465.831\" y=\"-36.5976\" font-family=\"Times,serif\" font-size=\"14.00\" fill=\"#000000\">(I_F)</text>\n",
       "</g>\n",
       "<!-- \\(F_S0\\)&#45;&gt;\\(I_F\\) -->\n",
       "<g id=\"edge9\" class=\"edge\">\n",
       "<title>\\(F_S0\\)&#45;&gt;\\(I_F\\)</title>\n",
       "<path fill=\"none\" stroke=\"#000000\" d=\"M379.9014,-92.574C395.0766,-83.342 412.9926,-72.4425 428.5278,-62.9915\"/>\n",
       "<polygon fill=\"#000000\" stroke=\"#000000\" points=\"430.6366,-65.8054 437.3608,-57.6178 426.9984,-59.8251 430.6366,-65.8054\"/>\n",
       "<text text-anchor=\"middle\" x=\"409.0836\" y=\"-80.0976\" font-family=\"Times,serif\" font-size=\"14.00\" fill=\"#000000\">1 </text>\n",
       "</g>\n",
       "<!-- \\(I_F\\)&#45;&gt;\\(I_I\\) -->\n",
       "<g id=\"edge3\" class=\"edge\">\n",
       "<title>\\(I_F\\)&#45;&gt;\\(I_I\\)</title>\n",
       "<path fill=\"none\" stroke=\"#000000\" d=\"M432.644,-34.7919C381.2632,-26.9089 279.3321,-13.8231 192.5952,-18.2976 180.4515,-18.924 167.2573,-20.2952 155.4036,-21.7829\"/>\n",
       "<polygon fill=\"#000000\" stroke=\"#000000\" points=\"154.8478,-18.3259 145.3919,-23.1045 155.7639,-25.2657 154.8478,-18.3259\"/>\n",
       "<text text-anchor=\"middle\" x=\"282.59\" y=\"-23.0976\" font-family=\"Times,serif\" font-size=\"14.00\" fill=\"#000000\">0 </text>\n",
       "</g>\n",
       "<!-- \\(I_F\\)&#45;&gt;\\(F_I\\) -->\n",
       "<g id=\"edge7\" class=\"edge\">\n",
       "<title>\\(I_F\\)&#45;&gt;\\(F_I\\)</title>\n",
       "<path fill=\"none\" stroke=\"#000000\" d=\"M432.4234,-41.4021C400.0641,-42.6555 349.6359,-45.0931 306.09,-49.2976 294.0733,-50.4578 281.0914,-52.077 269.1431,-53.7168\"/>\n",
       "<polygon fill=\"#000000\" stroke=\"#000000\" points=\"268.373,-50.2906 258.9594,-55.1521 269.35,-57.2221 268.373,-50.2906\"/>\n",
       "<text text-anchor=\"middle\" x=\"345.8368\" y=\"-53.0976\" font-family=\"Times,serif\" font-size=\"14.00\" fill=\"#000000\">1 </text>\n",
       "</g>\n",
       "</g>\n",
       "</svg>\n"
      ],
      "text/plain": [
       "<graphviz.dot.Digraph at 0x1103be080>"
      ]
     },
     "execution_count": 58,
     "metadata": {},
     "output_type": "execute_result"
    }
   ],
   "source": [
    "dotObj_dfa(Minodd1sORends01)"
   ]
  },
  {
   "cell_type": "markdown",
   "metadata": {
    "run_control": {
     "frozen": false,
     "read_only": false
    }
   },
   "source": [
    "## Minimization vs. Isomorphism vs. Lang. Eql.\n",
    "\n",
    "After minimization, we may not have isomorphic DFA, but we \n",
    "will have language-equivalent DFA"
   ]
  },
  {
   "cell_type": "code",
   "execution_count": 59,
   "metadata": {
    "run_control": {
     "frozen": false,
     "read_only": false
    }
   },
   "outputs": [
    {
     "data": {
      "text/plain": [
       "False"
      ]
     },
     "execution_count": 59,
     "metadata": {},
     "output_type": "execute_result"
    }
   ],
   "source": [
    "iso_dfa(odd1sORends01, Minodd1sORends01)"
   ]
  },
  {
   "cell_type": "code",
   "execution_count": 60,
   "metadata": {
    "run_control": {
     "frozen": false,
     "read_only": false
    }
   },
   "outputs": [
    {
     "data": {
      "text/plain": [
       "True"
      ]
     },
     "execution_count": 60,
     "metadata": {},
     "output_type": "execute_result"
    }
   ],
   "source": [
    "langeq_dfa(odd1sORends01, Minodd1sORends01)"
   ]
  },
  {
   "cell_type": "markdown",
   "metadata": {},
   "source": [
    "# We can now find out which states were eliminated upon minimization"
   ]
  },
  {
   "cell_type": "code",
   "execution_count": 61,
   "metadata": {},
   "outputs": [
    {
     "data": {
      "text/plain": [
       "{('F', 'F'), ('I', 'S0')}"
      ]
     },
     "execution_count": 61,
     "metadata": {},
     "output_type": "execute_result"
    }
   ],
   "source": [
    "odd1sORends01[\"Q\"] - Minodd1sORends01[\"Q\"]"
   ]
  },
  {
   "cell_type": "markdown",
   "metadata": {},
   "source": [
    "## The reason why these states got eliminated is as follows (taking F_F as an example)\n",
    "\n",
    "* F_F and F_I are indistinguishable by any string! We can study any string from these states and we see that their end states are the same\n",
    "\n",
    "* Now study the minimization algorithm from the book and know how to write solutions to assignments based on that understanding"
   ]
  },
  {
   "cell_type": "markdown",
   "metadata": {
    "run_control": {
     "frozen": false,
     "read_only": false
    }
   },
   "source": [
    "## Now define \"odd 1s\" AND \"ends in 0101\"\n",
    "\n",
    "Define the and of these machines and minimize it"
   ]
  },
  {
   "cell_type": "code",
   "execution_count": 62,
   "metadata": {
    "run_control": {
     "frozen": false,
     "read_only": false
    }
   },
   "outputs": [],
   "source": [
    "odd1sANDends01 = intersect_dfa(dfaOdd1s,ends01)"
   ]
  },
  {
   "cell_type": "code",
   "execution_count": 63,
   "metadata": {
    "run_control": {
     "frozen": false,
     "read_only": false
    }
   },
   "outputs": [
    {
     "data": {
      "image/svg+xml": [
       "<?xml version=\"1.0\" encoding=\"UTF-8\" standalone=\"no\"?>\n",
       "<!DOCTYPE svg PUBLIC \"-//W3C//DTD SVG 1.1//EN\"\n",
       " \"http://www.w3.org/Graphics/SVG/1.1/DTD/svg11.dtd\">\n",
       "<!-- Generated by graphviz version 2.40.1 (20161225.0304)\n",
       " -->\n",
       "<!-- Title: %3 Pages: 1 -->\n",
       "<svg width=\"715pt\" height=\"243pt\"\n",
       " viewBox=\"0.00 0.00 715.07 242.75\" xmlns=\"http://www.w3.org/2000/svg\" xmlns:xlink=\"http://www.w3.org/1999/xlink\">\n",
       "<g id=\"graph0\" class=\"graph\" transform=\"scale(1 1) rotate(0) translate(4 238.7468)\">\n",
       "<title>%3</title>\n",
       "<polygon fill=\"#ffffff\" stroke=\"transparent\" points=\"-4,4 -4,-238.7468 711.0669,-238.7468 711.0669,4 -4,4\"/>\n",
       "<!-- EMPTY -->\n",
       "<g id=\"node1\" class=\"node\">\n",
       "<title>EMPTY</title>\n",
       "</g>\n",
       "<!-- \\(I_I\\) -->\n",
       "<g id=\"node5\" class=\"node\">\n",
       "<title>\\(I_I\\)</title>\n",
       "<ellipse fill=\"none\" stroke=\"#000000\" cx=\"118.2976\" cy=\"-62\" rx=\"27.0966\" ry=\"27.0966\"/>\n",
       "<text text-anchor=\"middle\" x=\"118.2976\" y=\"-58.3\" font-family=\"Times,serif\" font-size=\"14.00\" fill=\"#000000\">(I_I)</text>\n",
       "</g>\n",
       "<!-- EMPTY&#45;&gt;\\(I_I\\) -->\n",
       "<g id=\"edge1\" class=\"edge\">\n",
       "<title>EMPTY&#45;&gt;\\(I_I\\)</title>\n",
       "<path fill=\"none\" stroke=\"#000000\" d=\"M54.3923,-62C62.6976,-62 71.9683,-62 80.8159,-62\"/>\n",
       "<polygon fill=\"#000000\" stroke=\"#000000\" points=\"80.9247,-65.5001 90.9246,-62 80.9246,-58.5001 80.9247,-65.5001\"/>\n",
       "</g>\n",
       "<!-- \\(F_I\\) -->\n",
       "<g id=\"node2\" class=\"node\">\n",
       "<title>\\(F_I\\)</title>\n",
       "<ellipse fill=\"none\" stroke=\"#000000\" cx=\"221.8426\" cy=\"-110\" rx=\"29.4969\" ry=\"29.4969\"/>\n",
       "<text text-anchor=\"middle\" x=\"221.8426\" y=\"-106.3\" font-family=\"Times,serif\" font-size=\"14.00\" fill=\"#000000\">(F_I)</text>\n",
       "</g>\n",
       "<!-- \\(F_S0\\) -->\n",
       "<g id=\"node3\" class=\"node\">\n",
       "<title>\\(F_S0\\)</title>\n",
       "<ellipse fill=\"none\" stroke=\"#000000\" cx=\"333.8368\" cy=\"-166\" rx=\"35.9954\" ry=\"35.9954\"/>\n",
       "<text text-anchor=\"middle\" x=\"333.8368\" y=\"-162.3\" font-family=\"Times,serif\" font-size=\"14.00\" fill=\"#000000\">(F_S0)</text>\n",
       "</g>\n",
       "<!-- \\(F_I\\)&#45;&gt;\\(F_S0\\) -->\n",
       "<g id=\"edge2\" class=\"edge\">\n",
       "<title>\\(F_I\\)&#45;&gt;\\(F_S0\\)</title>\n",
       "<path fill=\"none\" stroke=\"#000000\" d=\"M248.1002,-123.1295C261.3783,-129.7689 277.799,-137.9797 292.7049,-145.433\"/>\n",
       "<polygon fill=\"#000000\" stroke=\"#000000\" points=\"291.2389,-148.6131 301.7484,-149.955 294.3696,-142.3521 291.2389,-148.6131\"/>\n",
       "<text text-anchor=\"middle\" x=\"274.59\" y=\"-141.8\" font-family=\"Times,serif\" font-size=\"14.00\" fill=\"#000000\">0 </text>\n",
       "</g>\n",
       "<!-- \\(F_I\\)&#45;&gt;\\(I_I\\) -->\n",
       "<g id=\"edge4\" class=\"edge\">\n",
       "<title>\\(F_I\\)&#45;&gt;\\(I_I\\)</title>\n",
       "<path fill=\"none\" stroke=\"#000000\" d=\"M197.512,-92.879C190.3432,-88.3006 182.34,-83.6234 174.5952,-80 168.288,-77.0493 161.3689,-74.3981 154.6053,-72.095\"/>\n",
       "<polygon fill=\"#000000\" stroke=\"#000000\" points=\"155.488,-68.7024 144.8967,-68.9754 153.3466,-75.3668 155.488,-68.7024\"/>\n",
       "<text text-anchor=\"middle\" x=\"169.0952\" y=\"-83.8\" font-family=\"Times,serif\" font-size=\"14.00\" fill=\"#000000\">1 </text>\n",
       "</g>\n",
       "<!-- \\(F_S0\\)&#45;&gt;\\(F_S0\\) -->\n",
       "<g id=\"edge7\" class=\"edge\">\n",
       "<title>\\(F_S0\\)&#45;&gt;\\(F_S0\\)</title>\n",
       "<path fill=\"none\" stroke=\"#000000\" d=\"M322.9644,-200.115C323.076,-211.0668 326.7001,-219.7468 333.8368,-219.7468 338.5203,-219.7468 341.691,-216.0086 343.349,-210.3434\"/>\n",
       "<polygon fill=\"#000000\" stroke=\"#000000\" points=\"346.8603,-210.4891 344.7091,-200.115 339.9214,-209.5663 346.8603,-210.4891\"/>\n",
       "<text text-anchor=\"middle\" x=\"333.8368\" y=\"-223.5468\" font-family=\"Times,serif\" font-size=\"14.00\" fill=\"#000000\">0 </text>\n",
       "</g>\n",
       "<!-- \\(I_F\\) -->\n",
       "<g id=\"node6\" class=\"node\">\n",
       "<title>\\(I_F\\)</title>\n",
       "<ellipse fill=\"none\" stroke=\"#000000\" cx=\"445.831\" cy=\"-103\" rx=\"29.4969\" ry=\"29.4969\"/>\n",
       "<text text-anchor=\"middle\" x=\"445.831\" y=\"-99.3\" font-family=\"Times,serif\" font-size=\"14.00\" fill=\"#000000\">(I_F)</text>\n",
       "</g>\n",
       "<!-- \\(F_S0\\)&#45;&gt;\\(I_F\\) -->\n",
       "<g id=\"edge12\" class=\"edge\">\n",
       "<title>\\(F_S0\\)&#45;&gt;\\(I_F\\)</title>\n",
       "<path fill=\"none\" stroke=\"#000000\" d=\"M364.7531,-148.0216C372.2113,-143.7251 380.1683,-139.1748 387.5836,-135 395.1713,-130.7281 403.3474,-126.1939 411.1055,-121.9233\"/>\n",
       "<polygon fill=\"#000000\" stroke=\"#000000\" points=\"412.8787,-124.9427 419.9607,-117.0626 409.5103,-118.8064 412.8787,-124.9427\"/>\n",
       "<text text-anchor=\"middle\" x=\"393.0836\" y=\"-138.8\" font-family=\"Times,serif\" font-size=\"14.00\" fill=\"#000000\">1 </text>\n",
       "</g>\n",
       "<!-- \\(I_S0\\) -->\n",
       "<g id=\"node4\" class=\"node\">\n",
       "<title>\\(I_S0\\)</title>\n",
       "<ellipse fill=\"none\" stroke=\"#000000\" cx=\"555.8754\" cy=\"-63\" rx=\"33.5952\" ry=\"33.5952\"/>\n",
       "<text text-anchor=\"middle\" x=\"555.8754\" y=\"-59.3\" font-family=\"Times,serif\" font-size=\"14.00\" fill=\"#000000\">(I_S0)</text>\n",
       "</g>\n",
       "<!-- \\(I_S0\\)&#45;&gt;\\(I_S0\\) -->\n",
       "<g id=\"edge13\" class=\"edge\">\n",
       "<title>\\(I_S0\\)&#45;&gt;\\(I_S0\\)</title>\n",
       "<path fill=\"none\" stroke=\"#000000\" d=\"M545.3754,-95.3731C545.3754,-106.1642 548.8754,-114.797 555.8754,-114.797 560.4692,-114.797 563.5556,-111.0792 565.1347,-105.4733\"/>\n",
       "<polygon fill=\"#000000\" stroke=\"#000000\" points=\"568.63,-105.7253 566.3754,-95.3731 561.6822,-104.8718 568.63,-105.7253\"/>\n",
       "<text text-anchor=\"middle\" x=\"555.8754\" y=\"-118.597\" font-family=\"Times,serif\" font-size=\"14.00\" fill=\"#000000\">0 </text>\n",
       "</g>\n",
       "<!-- \\(F_F\\) -->\n",
       "<g id=\"node7\" class=\"node\">\n",
       "<title>\\(F_F\\)</title>\n",
       "<ellipse fill=\"none\" stroke=\"#000000\" cx=\"671.8697\" cy=\"-63\" rx=\"31.373\" ry=\"31.373\"/>\n",
       "<ellipse fill=\"none\" stroke=\"#000000\" cx=\"671.8697\" cy=\"-63\" rx=\"35.3956\" ry=\"35.3956\"/>\n",
       "<text text-anchor=\"middle\" x=\"671.8697\" y=\"-59.3\" font-family=\"Times,serif\" font-size=\"14.00\" fill=\"#000000\">(F_F)</text>\n",
       "</g>\n",
       "<!-- \\(I_S0\\)&#45;&gt;\\(F_F\\) -->\n",
       "<g id=\"edge10\" class=\"edge\">\n",
       "<title>\\(I_S0\\)&#45;&gt;\\(F_F\\)</title>\n",
       "<path fill=\"none\" stroke=\"#000000\" d=\"M589.7376,-63C601.2308,-63 614.2631,-63 626.506,-63\"/>\n",
       "<polygon fill=\"#000000\" stroke=\"#000000\" points=\"626.5533,-66.5001 636.5532,-63 626.5532,-59.5001 626.5533,-66.5001\"/>\n",
       "<text text-anchor=\"middle\" x=\"613.1724\" y=\"-66.8\" font-family=\"Times,serif\" font-size=\"14.00\" fill=\"#000000\">1 </text>\n",
       "</g>\n",
       "<!-- \\(I_I\\)&#45;&gt;\\(F_I\\) -->\n",
       "<g id=\"edge6\" class=\"edge\">\n",
       "<title>\\(I_I\\)&#45;&gt;\\(F_I\\)</title>\n",
       "<path fill=\"none\" stroke=\"#000000\" d=\"M139.3632,-79.8881C146.6657,-85.3775 155.1475,-91.0145 163.5952,-95 169.75,-97.9038 176.5461,-100.3013 183.258,-102.262\"/>\n",
       "<polygon fill=\"#000000\" stroke=\"#000000\" points=\"182.3841,-105.6512 192.9471,-104.8303 184.1777,-98.8848 182.3841,-105.6512\"/>\n",
       "<text text-anchor=\"middle\" x=\"169.0952\" y=\"-102.8\" font-family=\"Times,serif\" font-size=\"14.00\" fill=\"#000000\">1 </text>\n",
       "</g>\n",
       "<!-- \\(I_I\\)&#45;&gt;\\(I_S0\\) -->\n",
       "<g id=\"edge11\" class=\"edge\">\n",
       "<title>\\(I_I\\)&#45;&gt;\\(I_S0\\)</title>\n",
       "<path fill=\"none\" stroke=\"#000000\" d=\"M144.9407,-55.5844C165.7513,-51.1331 195.4672,-46 221.8426,-46 221.8426,-46 221.8426,-46 445.831,-46 468.1567,-46 492.7347,-49.4598 512.9892,-53.2577\"/>\n",
       "<polygon fill=\"#000000\" stroke=\"#000000\" points=\"512.3659,-56.7021 522.8532,-55.1966 513.716,-49.8335 512.3659,-56.7021\"/>\n",
       "<text text-anchor=\"middle\" x=\"333.8368\" y=\"-49.8\" font-family=\"Times,serif\" font-size=\"14.00\" fill=\"#000000\">0 </text>\n",
       "</g>\n",
       "<!-- \\(I_F\\)&#45;&gt;\\(F_I\\) -->\n",
       "<g id=\"edge9\" class=\"edge\">\n",
       "<title>\\(I_F\\)&#45;&gt;\\(F_I\\)</title>\n",
       "<path fill=\"none\" stroke=\"#000000\" d=\"M416.3904,-103.3197C386.5667,-103.7091 339.1105,-104.5079 298.09,-106 286.1026,-106.436 273.0627,-107.0636 261.2122,-107.6928\"/>\n",
       "<polygon fill=\"#000000\" stroke=\"#000000\" points=\"260.9551,-104.2016 251.1607,-108.2414 261.3366,-111.1912 260.9551,-104.2016\"/>\n",
       "<text text-anchor=\"middle\" x=\"333.8368\" y=\"-109.8\" font-family=\"Times,serif\" font-size=\"14.00\" fill=\"#000000\">1 </text>\n",
       "</g>\n",
       "<!-- \\(I_F\\)&#45;&gt;\\(I_S0\\) -->\n",
       "<g id=\"edge3\" class=\"edge\">\n",
       "<title>\\(I_F\\)&#45;&gt;\\(I_S0\\)</title>\n",
       "<path fill=\"none\" stroke=\"#000000\" d=\"M473.5999,-92.9063C485.8964,-88.4366 500.6225,-83.0839 514.1958,-78.1501\"/>\n",
       "<polygon fill=\"#000000\" stroke=\"#000000\" points=\"515.6215,-81.356 523.8242,-74.6503 513.2302,-74.7771 515.6215,-81.356\"/>\n",
       "<text text-anchor=\"middle\" x=\"498.5784\" y=\"-88.8\" font-family=\"Times,serif\" font-size=\"14.00\" fill=\"#000000\">0 </text>\n",
       "</g>\n",
       "<!-- \\(F_F\\)&#45;&gt;\\(F_S0\\) -->\n",
       "<g id=\"edge5\" class=\"edge\">\n",
       "<title>\\(F_F\\)&#45;&gt;\\(F_S0\\)</title>\n",
       "<path fill=\"none\" stroke=\"#000000\" d=\"M649.8194,-91.0025C634.8007,-107.9264 613.3916,-128.2452 589.6724,-139 521.4122,-169.9507 432.7101,-171.9259 379.6978,-169.6139\"/>\n",
       "<polygon fill=\"#000000\" stroke=\"#000000\" points=\"379.7522,-166.1123 369.5878,-169.1017 379.3979,-173.1033 379.7522,-166.1123\"/>\n",
       "<text text-anchor=\"middle\" x=\"498.5784\" y=\"-167.8\" font-family=\"Times,serif\" font-size=\"14.00\" fill=\"#000000\">0 </text>\n",
       "</g>\n",
       "<!-- \\(F_F\\)&#45;&gt;\\(I_I\\) -->\n",
       "<g id=\"edge8\" class=\"edge\">\n",
       "<title>\\(F_F\\)&#45;&gt;\\(I_I\\)</title>\n",
       "<path fill=\"none\" stroke=\"#000000\" d=\"M645.9127,-39.1824C623.7132,-21.3419 590.0209,0 555.8754,0 221.8426,0 221.8426,0 221.8426,0 192.5619,0 164.3937,-18.4753 144.8487,-35.2552\"/>\n",
       "<polygon fill=\"#000000\" stroke=\"#000000\" points=\"142.3891,-32.7595 137.2808,-42.0415 147.0625,-37.9711 142.3891,-32.7595\"/>\n",
       "<text text-anchor=\"middle\" x=\"393.0836\" y=\"-3.8\" font-family=\"Times,serif\" font-size=\"14.00\" fill=\"#000000\">1 </text>\n",
       "</g>\n",
       "</g>\n",
       "</svg>\n"
      ],
      "text/plain": [
       "<graphviz.dot.Digraph at 0x1103c2e80>"
      ]
     },
     "execution_count": 63,
     "metadata": {},
     "output_type": "execute_result"
    }
   ],
   "source": [
    "dotObj_dfa(odd1sANDends01)"
   ]
  },
  {
   "cell_type": "code",
   "execution_count": 64,
   "metadata": {
    "run_control": {
     "frozen": false,
     "read_only": false
    }
   },
   "outputs": [],
   "source": [
    "Minodd1sANDends01 = min_dfa(odd1sANDends01)"
   ]
  },
  {
   "cell_type": "code",
   "execution_count": 65,
   "metadata": {
    "run_control": {
     "frozen": false,
     "read_only": false
    }
   },
   "outputs": [
    {
     "data": {
      "image/svg+xml": [
       "<?xml version=\"1.0\" encoding=\"UTF-8\" standalone=\"no\"?>\n",
       "<!DOCTYPE svg PUBLIC \"-//W3C//DTD SVG 1.1//EN\"\n",
       " \"http://www.w3.org/Graphics/SVG/1.1/DTD/svg11.dtd\">\n",
       "<!-- Generated by graphviz version 2.40.1 (20161225.0304)\n",
       " -->\n",
       "<!-- Title: %3 Pages: 1 -->\n",
       "<svg width=\"491pt\" height=\"231pt\"\n",
       " viewBox=\"0.00 0.00 491.08 231.43\" xmlns=\"http://www.w3.org/2000/svg\" xmlns:xlink=\"http://www.w3.org/1999/xlink\">\n",
       "<g id=\"graph0\" class=\"graph\" transform=\"scale(1 1) rotate(0) translate(4 227.4316)\">\n",
       "<title>%3</title>\n",
       "<polygon fill=\"#ffffff\" stroke=\"transparent\" points=\"-4,4 -4,-227.4316 487.0784,-227.4316 487.0784,4 -4,4\"/>\n",
       "<!-- EMPTY -->\n",
       "<g id=\"node1\" class=\"node\">\n",
       "<title>EMPTY</title>\n",
       "</g>\n",
       "<!-- \\(I_I\\) -->\n",
       "<g id=\"node3\" class=\"node\">\n",
       "<title>\\(I_I\\)</title>\n",
       "<ellipse fill=\"none\" stroke=\"#000000\" cx=\"118.2976\" cy=\"-137.1842\" rx=\"27.0966\" ry=\"27.0966\"/>\n",
       "<text text-anchor=\"middle\" x=\"118.2976\" y=\"-133.4842\" font-family=\"Times,serif\" font-size=\"14.00\" fill=\"#000000\">(I_I)</text>\n",
       "</g>\n",
       "<!-- EMPTY&#45;&gt;\\(I_I\\) -->\n",
       "<g id=\"edge1\" class=\"edge\">\n",
       "<title>EMPTY&#45;&gt;\\(I_I\\)</title>\n",
       "<path fill=\"none\" stroke=\"#000000\" d=\"M54.3923,-137.1842C62.6976,-137.1842 71.9683,-137.1842 80.8159,-137.1842\"/>\n",
       "<polygon fill=\"#000000\" stroke=\"#000000\" points=\"80.9247,-140.6843 90.9246,-137.1842 80.9246,-133.6843 80.9247,-140.6843\"/>\n",
       "</g>\n",
       "<!-- \\(F_I\\) -->\n",
       "<g id=\"node2\" class=\"node\">\n",
       "<title>\\(F_I\\)</title>\n",
       "<ellipse fill=\"none\" stroke=\"#000000\" cx=\"453.831\" cy=\"-161.1842\" rx=\"29.4969\" ry=\"29.4969\"/>\n",
       "<text text-anchor=\"middle\" x=\"453.831\" y=\"-157.4842\" font-family=\"Times,serif\" font-size=\"14.00\" fill=\"#000000\">(F_I)</text>\n",
       "</g>\n",
       "<!-- \\(F_I\\)&#45;&gt;\\(F_I\\) -->\n",
       "<g id=\"edge2\" class=\"edge\">\n",
       "<title>\\(F_I\\)&#45;&gt;\\(F_I\\)</title>\n",
       "<path fill=\"none\" stroke=\"#000000\" d=\"M444.1191,-188.8466C443.6875,-199.542 446.9248,-208.4316 453.831,-208.4316 458.3633,-208.4316 461.3154,-204.6032 462.6875,-198.9483\"/>\n",
       "<polygon fill=\"#000000\" stroke=\"#000000\" points=\"466.1865,-199.1063 463.5429,-188.8466 459.2115,-198.5156 466.1865,-199.1063\"/>\n",
       "<text text-anchor=\"middle\" x=\"453.831\" y=\"-212.2316\" font-family=\"Times,serif\" font-size=\"14.00\" fill=\"#000000\">0 </text>\n",
       "</g>\n",
       "<!-- \\(F_I\\)&#45;&gt;\\(I_I\\) -->\n",
       "<g id=\"edge4\" class=\"edge\">\n",
       "<title>\\(F_I\\)&#45;&gt;\\(I_I\\)</title>\n",
       "<path fill=\"none\" stroke=\"#000000\" d=\"M424.5616,-159.0906C363.6738,-154.7355 223.4367,-144.7046 155.9406,-139.8767\"/>\n",
       "<polygon fill=\"#000000\" stroke=\"#000000\" points=\"155.9799,-136.3707 145.7557,-139.1482 155.4805,-143.3529 155.9799,-136.3707\"/>\n",
       "<text text-anchor=\"middle\" x=\"283.6892\" y=\"-152.9842\" font-family=\"Times,serif\" font-size=\"14.00\" fill=\"#000000\">1 </text>\n",
       "</g>\n",
       "<!-- \\(I_I\\)&#45;&gt;\\(F_I\\) -->\n",
       "<g id=\"edge6\" class=\"edge\">\n",
       "<title>\\(I_I\\)&#45;&gt;\\(F_I\\)</title>\n",
       "<path fill=\"none\" stroke=\"#000000\" d=\"M143.8523,-147.902C150.2146,-150.2556 157.081,-152.5344 163.5952,-154.1842 176.2079,-157.3786 179.6885,-156.5403 192.5952,-158.1842 230.5887,-163.0233 239.9849,-165.47 278.1892,-168.1842 330.2503,-171.8829 343.3955,-170.5175 395.5836,-171.1842 400.4721,-171.2467 401.7213,-171.6931 406.5836,-171.1842 409.4371,-170.8856 412.3719,-170.4881 415.3153,-170.0235\"/>\n",
       "<polygon fill=\"#000000\" stroke=\"#000000\" points=\"416.0301,-173.4511 425.2501,-168.2318 414.7877,-166.5623 416.0301,-173.4511\"/>\n",
       "<text text-anchor=\"middle\" x=\"283.6892\" y=\"-171.9842\" font-family=\"Times,serif\" font-size=\"14.00\" fill=\"#000000\">1 </text>\n",
       "</g>\n",
       "<!-- \\(I_S0\\) -->\n",
       "<g id=\"node4\" class=\"node\">\n",
       "<title>\\(I_S0\\)</title>\n",
       "<ellipse fill=\"none\" stroke=\"#000000\" cx=\"226.3922\" cy=\"-66.1842\" rx=\"33.5952\" ry=\"33.5952\"/>\n",
       "<text text-anchor=\"middle\" x=\"226.3922\" y=\"-62.4842\" font-family=\"Times,serif\" font-size=\"14.00\" fill=\"#000000\">(I_S0)</text>\n",
       "</g>\n",
       "<!-- \\(I_I\\)&#45;&gt;\\(I_S0\\) -->\n",
       "<g id=\"edge3\" class=\"edge\">\n",
       "<title>\\(I_I\\)&#45;&gt;\\(I_S0\\)</title>\n",
       "<path fill=\"none\" stroke=\"#000000\" d=\"M141.2217,-122.1269C155.2353,-112.9223 173.4836,-100.9362 189.4927,-90.421\"/>\n",
       "<polygon fill=\"#000000\" stroke=\"#000000\" points=\"191.6784,-93.1729 198.1151,-84.7575 187.8354,-87.3221 191.6784,-93.1729\"/>\n",
       "<text text-anchor=\"middle\" x=\"169.0952\" y=\"-108.9842\" font-family=\"Times,serif\" font-size=\"14.00\" fill=\"#000000\">0 </text>\n",
       "</g>\n",
       "<!-- \\(I_S0\\)&#45;&gt;\\(I_S0\\) -->\n",
       "<g id=\"edge9\" class=\"edge\">\n",
       "<title>\\(I_S0\\)&#45;&gt;\\(I_S0\\)</title>\n",
       "<path fill=\"none\" stroke=\"#000000\" d=\"M215.8922,-98.5573C215.8922,-109.3484 219.3922,-117.9812 226.3922,-117.9812 230.9859,-117.9812 234.0723,-114.2634 235.6514,-108.6575\"/>\n",
       "<polygon fill=\"#000000\" stroke=\"#000000\" points=\"239.1467,-108.9095 236.8922,-98.5573 232.1989,-108.056 239.1467,-108.9095\"/>\n",
       "<text text-anchor=\"middle\" x=\"226.3922\" y=\"-121.7812\" font-family=\"Times,serif\" font-size=\"14.00\" fill=\"#000000\">0 </text>\n",
       "</g>\n",
       "<!-- \\(F_F\\) -->\n",
       "<g id=\"node5\" class=\"node\">\n",
       "<title>\\(F_F\\)</title>\n",
       "<ellipse fill=\"none\" stroke=\"#000000\" cx=\"342.3864\" cy=\"-66.1842\" rx=\"31.373\" ry=\"31.373\"/>\n",
       "<ellipse fill=\"none\" stroke=\"#000000\" cx=\"342.3864\" cy=\"-66.1842\" rx=\"35.3956\" ry=\"35.3956\"/>\n",
       "<text text-anchor=\"middle\" x=\"342.3864\" y=\"-62.4842\" font-family=\"Times,serif\" font-size=\"14.00\" fill=\"#000000\">(F_F)</text>\n",
       "</g>\n",
       "<!-- \\(I_S0\\)&#45;&gt;\\(F_F\\) -->\n",
       "<g id=\"edge8\" class=\"edge\">\n",
       "<title>\\(I_S0\\)&#45;&gt;\\(F_F\\)</title>\n",
       "<path fill=\"none\" stroke=\"#000000\" d=\"M260.2543,-66.1842C271.7475,-66.1842 284.7798,-66.1842 297.0227,-66.1842\"/>\n",
       "<polygon fill=\"#000000\" stroke=\"#000000\" points=\"297.07,-69.6843 307.0699,-66.1842 297.0699,-62.6843 297.07,-69.6843\"/>\n",
       "<text text-anchor=\"middle\" x=\"283.6892\" y=\"-69.9842\" font-family=\"Times,serif\" font-size=\"14.00\" fill=\"#000000\">1 </text>\n",
       "</g>\n",
       "<!-- \\(F_F\\)&#45;&gt;\\(F_I\\) -->\n",
       "<g id=\"edge5\" class=\"edge\">\n",
       "<title>\\(F_F\\)&#45;&gt;\\(F_I\\)</title>\n",
       "<path fill=\"none\" stroke=\"#000000\" d=\"M369.364,-89.1811C385.6398,-103.0552 406.4211,-120.77 423.2979,-135.1565\"/>\n",
       "<polygon fill=\"#000000\" stroke=\"#000000\" points=\"421.3516,-138.0965 431.2324,-141.9202 425.8927,-132.7693 421.3516,-138.0965\"/>\n",
       "<text text-anchor=\"middle\" x=\"401.0836\" y=\"-122.9842\" font-family=\"Times,serif\" font-size=\"14.00\" fill=\"#000000\">0 </text>\n",
       "</g>\n",
       "<!-- \\(F_F\\)&#45;&gt;\\(I_I\\) -->\n",
       "<g id=\"edge7\" class=\"edge\">\n",
       "<title>\\(F_F\\)&#45;&gt;\\(I_I\\)</title>\n",
       "<path fill=\"none\" stroke=\"#000000\" d=\"M316.1086,-42.2468C285.2991,-17.2362 233.2768,15.3318 192.5952,-8.1842 158.3725,-27.9667 138.5222,-70.1572 128.0864,-100.9191\"/>\n",
       "<polygon fill=\"#000000\" stroke=\"#000000\" points=\"124.747,-99.871 125.0227,-110.4623 131.412,-102.0108 124.747,-99.871\"/>\n",
       "<text text-anchor=\"middle\" x=\"226.3922\" y=\"-11.9842\" font-family=\"Times,serif\" font-size=\"14.00\" fill=\"#000000\">1 </text>\n",
       "</g>\n",
       "</g>\n",
       "</svg>\n"
      ],
      "text/plain": [
       "<graphviz.dot.Digraph at 0x1103d4978>"
      ]
     },
     "execution_count": 65,
     "metadata": {},
     "output_type": "execute_result"
    }
   ],
   "source": [
    "dotObj_dfa(Minodd1sANDends01)"
   ]
  },
  {
   "cell_type": "markdown",
   "metadata": {
    "run_control": {
     "frozen": false,
     "read_only": false
    }
   },
   "source": [
    "## Now, complement the individual machines"
   ]
  },
  {
   "cell_type": "code",
   "execution_count": 66,
   "metadata": {
    "run_control": {
     "frozen": false,
     "read_only": false
    }
   },
   "outputs": [],
   "source": [
    "CdfaOdd1s = comp_dfa(dfaOdd1s)"
   ]
  },
  {
   "cell_type": "code",
   "execution_count": 67,
   "metadata": {
    "run_control": {
     "frozen": false,
     "read_only": false
    }
   },
   "outputs": [],
   "source": [
    "Cends01 = comp_dfa(ends01)"
   ]
  },
  {
   "cell_type": "markdown",
   "metadata": {
    "run_control": {
     "frozen": false,
     "read_only": false
    }
   },
   "source": [
    "## Complement of the union of the complements\n",
    "\n",
    "The complement of the union of the complements of M1 and M2 is of course the intersection of M1 and M2! Let us check that!\n"
   ]
  },
  {
   "cell_type": "code",
   "execution_count": 68,
   "metadata": {
    "run_control": {
     "frozen": false,
     "read_only": false
    }
   },
   "outputs": [],
   "source": [
    "C_CdfaOdd1sORCends01 = comp_dfa(union_dfa(CdfaOdd1s, Cends01))"
   ]
  },
  {
   "cell_type": "code",
   "execution_count": 69,
   "metadata": {
    "run_control": {
     "frozen": false,
     "read_only": false
    }
   },
   "outputs": [
    {
     "data": {
      "image/svg+xml": [
       "<?xml version=\"1.0\" encoding=\"UTF-8\" standalone=\"no\"?>\n",
       "<!DOCTYPE svg PUBLIC \"-//W3C//DTD SVG 1.1//EN\"\n",
       " \"http://www.w3.org/Graphics/SVG/1.1/DTD/svg11.dtd\">\n",
       "<!-- Generated by graphviz version 2.40.1 (20161225.0304)\n",
       " -->\n",
       "<!-- Title: %3 Pages: 1 -->\n",
       "<svg width=\"715pt\" height=\"243pt\"\n",
       " viewBox=\"0.00 0.00 715.07 242.75\" xmlns=\"http://www.w3.org/2000/svg\" xmlns:xlink=\"http://www.w3.org/1999/xlink\">\n",
       "<g id=\"graph0\" class=\"graph\" transform=\"scale(1 1) rotate(0) translate(4 238.7468)\">\n",
       "<title>%3</title>\n",
       "<polygon fill=\"#ffffff\" stroke=\"transparent\" points=\"-4,4 -4,-238.7468 711.0669,-238.7468 711.0669,4 -4,4\"/>\n",
       "<!-- EMPTY -->\n",
       "<g id=\"node1\" class=\"node\">\n",
       "<title>EMPTY</title>\n",
       "</g>\n",
       "<!-- \\(I_I\\) -->\n",
       "<g id=\"node5\" class=\"node\">\n",
       "<title>\\(I_I\\)</title>\n",
       "<ellipse fill=\"none\" stroke=\"#000000\" cx=\"118.2976\" cy=\"-62\" rx=\"27.0966\" ry=\"27.0966\"/>\n",
       "<text text-anchor=\"middle\" x=\"118.2976\" y=\"-58.3\" font-family=\"Times,serif\" font-size=\"14.00\" fill=\"#000000\">(I_I)</text>\n",
       "</g>\n",
       "<!-- EMPTY&#45;&gt;\\(I_I\\) -->\n",
       "<g id=\"edge1\" class=\"edge\">\n",
       "<title>EMPTY&#45;&gt;\\(I_I\\)</title>\n",
       "<path fill=\"none\" stroke=\"#000000\" d=\"M54.3923,-62C62.6976,-62 71.9683,-62 80.8159,-62\"/>\n",
       "<polygon fill=\"#000000\" stroke=\"#000000\" points=\"80.9247,-65.5001 90.9246,-62 80.9246,-58.5001 80.9247,-65.5001\"/>\n",
       "</g>\n",
       "<!-- \\(F_I\\) -->\n",
       "<g id=\"node2\" class=\"node\">\n",
       "<title>\\(F_I\\)</title>\n",
       "<ellipse fill=\"none\" stroke=\"#000000\" cx=\"221.8426\" cy=\"-110\" rx=\"29.4969\" ry=\"29.4969\"/>\n",
       "<text text-anchor=\"middle\" x=\"221.8426\" y=\"-106.3\" font-family=\"Times,serif\" font-size=\"14.00\" fill=\"#000000\">(F_I)</text>\n",
       "</g>\n",
       "<!-- \\(F_S0\\) -->\n",
       "<g id=\"node3\" class=\"node\">\n",
       "<title>\\(F_S0\\)</title>\n",
       "<ellipse fill=\"none\" stroke=\"#000000\" cx=\"333.8368\" cy=\"-166\" rx=\"35.9954\" ry=\"35.9954\"/>\n",
       "<text text-anchor=\"middle\" x=\"333.8368\" y=\"-162.3\" font-family=\"Times,serif\" font-size=\"14.00\" fill=\"#000000\">(F_S0)</text>\n",
       "</g>\n",
       "<!-- \\(F_I\\)&#45;&gt;\\(F_S0\\) -->\n",
       "<g id=\"edge2\" class=\"edge\">\n",
       "<title>\\(F_I\\)&#45;&gt;\\(F_S0\\)</title>\n",
       "<path fill=\"none\" stroke=\"#000000\" d=\"M248.1002,-123.1295C261.3783,-129.7689 277.799,-137.9797 292.7049,-145.433\"/>\n",
       "<polygon fill=\"#000000\" stroke=\"#000000\" points=\"291.2389,-148.6131 301.7484,-149.955 294.3696,-142.3521 291.2389,-148.6131\"/>\n",
       "<text text-anchor=\"middle\" x=\"274.59\" y=\"-141.8\" font-family=\"Times,serif\" font-size=\"14.00\" fill=\"#000000\">0 </text>\n",
       "</g>\n",
       "<!-- \\(F_I\\)&#45;&gt;\\(I_I\\) -->\n",
       "<g id=\"edge4\" class=\"edge\">\n",
       "<title>\\(F_I\\)&#45;&gt;\\(I_I\\)</title>\n",
       "<path fill=\"none\" stroke=\"#000000\" d=\"M197.512,-92.879C190.3432,-88.3006 182.34,-83.6234 174.5952,-80 168.288,-77.0493 161.3689,-74.3981 154.6053,-72.095\"/>\n",
       "<polygon fill=\"#000000\" stroke=\"#000000\" points=\"155.488,-68.7024 144.8967,-68.9754 153.3466,-75.3668 155.488,-68.7024\"/>\n",
       "<text text-anchor=\"middle\" x=\"169.0952\" y=\"-83.8\" font-family=\"Times,serif\" font-size=\"14.00\" fill=\"#000000\">1 </text>\n",
       "</g>\n",
       "<!-- \\(F_S0\\)&#45;&gt;\\(F_S0\\) -->\n",
       "<g id=\"edge7\" class=\"edge\">\n",
       "<title>\\(F_S0\\)&#45;&gt;\\(F_S0\\)</title>\n",
       "<path fill=\"none\" stroke=\"#000000\" d=\"M322.9644,-200.115C323.076,-211.0668 326.7001,-219.7468 333.8368,-219.7468 338.5203,-219.7468 341.691,-216.0086 343.349,-210.3434\"/>\n",
       "<polygon fill=\"#000000\" stroke=\"#000000\" points=\"346.8603,-210.4891 344.7091,-200.115 339.9214,-209.5663 346.8603,-210.4891\"/>\n",
       "<text text-anchor=\"middle\" x=\"333.8368\" y=\"-223.5468\" font-family=\"Times,serif\" font-size=\"14.00\" fill=\"#000000\">0 </text>\n",
       "</g>\n",
       "<!-- \\(I_F\\) -->\n",
       "<g id=\"node6\" class=\"node\">\n",
       "<title>\\(I_F\\)</title>\n",
       "<ellipse fill=\"none\" stroke=\"#000000\" cx=\"445.831\" cy=\"-103\" rx=\"29.4969\" ry=\"29.4969\"/>\n",
       "<text text-anchor=\"middle\" x=\"445.831\" y=\"-99.3\" font-family=\"Times,serif\" font-size=\"14.00\" fill=\"#000000\">(I_F)</text>\n",
       "</g>\n",
       "<!-- \\(F_S0\\)&#45;&gt;\\(I_F\\) -->\n",
       "<g id=\"edge12\" class=\"edge\">\n",
       "<title>\\(F_S0\\)&#45;&gt;\\(I_F\\)</title>\n",
       "<path fill=\"none\" stroke=\"#000000\" d=\"M364.7531,-148.0216C372.2113,-143.7251 380.1683,-139.1748 387.5836,-135 395.1713,-130.7281 403.3474,-126.1939 411.1055,-121.9233\"/>\n",
       "<polygon fill=\"#000000\" stroke=\"#000000\" points=\"412.8787,-124.9427 419.9607,-117.0626 409.5103,-118.8064 412.8787,-124.9427\"/>\n",
       "<text text-anchor=\"middle\" x=\"393.0836\" y=\"-138.8\" font-family=\"Times,serif\" font-size=\"14.00\" fill=\"#000000\">1 </text>\n",
       "</g>\n",
       "<!-- \\(I_S0\\) -->\n",
       "<g id=\"node4\" class=\"node\">\n",
       "<title>\\(I_S0\\)</title>\n",
       "<ellipse fill=\"none\" stroke=\"#000000\" cx=\"555.8754\" cy=\"-63\" rx=\"33.5952\" ry=\"33.5952\"/>\n",
       "<text text-anchor=\"middle\" x=\"555.8754\" y=\"-59.3\" font-family=\"Times,serif\" font-size=\"14.00\" fill=\"#000000\">(I_S0)</text>\n",
       "</g>\n",
       "<!-- \\(I_S0\\)&#45;&gt;\\(I_S0\\) -->\n",
       "<g id=\"edge13\" class=\"edge\">\n",
       "<title>\\(I_S0\\)&#45;&gt;\\(I_S0\\)</title>\n",
       "<path fill=\"none\" stroke=\"#000000\" d=\"M545.3754,-95.3731C545.3754,-106.1642 548.8754,-114.797 555.8754,-114.797 560.4692,-114.797 563.5556,-111.0792 565.1347,-105.4733\"/>\n",
       "<polygon fill=\"#000000\" stroke=\"#000000\" points=\"568.63,-105.7253 566.3754,-95.3731 561.6822,-104.8718 568.63,-105.7253\"/>\n",
       "<text text-anchor=\"middle\" x=\"555.8754\" y=\"-118.597\" font-family=\"Times,serif\" font-size=\"14.00\" fill=\"#000000\">0 </text>\n",
       "</g>\n",
       "<!-- \\(F_F\\) -->\n",
       "<g id=\"node7\" class=\"node\">\n",
       "<title>\\(F_F\\)</title>\n",
       "<ellipse fill=\"none\" stroke=\"#000000\" cx=\"671.8697\" cy=\"-63\" rx=\"31.373\" ry=\"31.373\"/>\n",
       "<ellipse fill=\"none\" stroke=\"#000000\" cx=\"671.8697\" cy=\"-63\" rx=\"35.3956\" ry=\"35.3956\"/>\n",
       "<text text-anchor=\"middle\" x=\"671.8697\" y=\"-59.3\" font-family=\"Times,serif\" font-size=\"14.00\" fill=\"#000000\">(F_F)</text>\n",
       "</g>\n",
       "<!-- \\(I_S0\\)&#45;&gt;\\(F_F\\) -->\n",
       "<g id=\"edge10\" class=\"edge\">\n",
       "<title>\\(I_S0\\)&#45;&gt;\\(F_F\\)</title>\n",
       "<path fill=\"none\" stroke=\"#000000\" d=\"M589.7376,-63C601.2308,-63 614.2631,-63 626.506,-63\"/>\n",
       "<polygon fill=\"#000000\" stroke=\"#000000\" points=\"626.5533,-66.5001 636.5532,-63 626.5532,-59.5001 626.5533,-66.5001\"/>\n",
       "<text text-anchor=\"middle\" x=\"613.1724\" y=\"-66.8\" font-family=\"Times,serif\" font-size=\"14.00\" fill=\"#000000\">1 </text>\n",
       "</g>\n",
       "<!-- \\(I_I\\)&#45;&gt;\\(F_I\\) -->\n",
       "<g id=\"edge6\" class=\"edge\">\n",
       "<title>\\(I_I\\)&#45;&gt;\\(F_I\\)</title>\n",
       "<path fill=\"none\" stroke=\"#000000\" d=\"M139.3632,-79.8881C146.6657,-85.3775 155.1475,-91.0145 163.5952,-95 169.75,-97.9038 176.5461,-100.3013 183.258,-102.262\"/>\n",
       "<polygon fill=\"#000000\" stroke=\"#000000\" points=\"182.3841,-105.6512 192.9471,-104.8303 184.1777,-98.8848 182.3841,-105.6512\"/>\n",
       "<text text-anchor=\"middle\" x=\"169.0952\" y=\"-102.8\" font-family=\"Times,serif\" font-size=\"14.00\" fill=\"#000000\">1 </text>\n",
       "</g>\n",
       "<!-- \\(I_I\\)&#45;&gt;\\(I_S0\\) -->\n",
       "<g id=\"edge11\" class=\"edge\">\n",
       "<title>\\(I_I\\)&#45;&gt;\\(I_S0\\)</title>\n",
       "<path fill=\"none\" stroke=\"#000000\" d=\"M144.9407,-55.5844C165.7513,-51.1331 195.4672,-46 221.8426,-46 221.8426,-46 221.8426,-46 445.831,-46 468.1567,-46 492.7347,-49.4598 512.9892,-53.2577\"/>\n",
       "<polygon fill=\"#000000\" stroke=\"#000000\" points=\"512.3659,-56.7021 522.8532,-55.1966 513.716,-49.8335 512.3659,-56.7021\"/>\n",
       "<text text-anchor=\"middle\" x=\"333.8368\" y=\"-49.8\" font-family=\"Times,serif\" font-size=\"14.00\" fill=\"#000000\">0 </text>\n",
       "</g>\n",
       "<!-- \\(I_F\\)&#45;&gt;\\(F_I\\) -->\n",
       "<g id=\"edge9\" class=\"edge\">\n",
       "<title>\\(I_F\\)&#45;&gt;\\(F_I\\)</title>\n",
       "<path fill=\"none\" stroke=\"#000000\" d=\"M416.3904,-103.3197C386.5667,-103.7091 339.1105,-104.5079 298.09,-106 286.1026,-106.436 273.0627,-107.0636 261.2122,-107.6928\"/>\n",
       "<polygon fill=\"#000000\" stroke=\"#000000\" points=\"260.9551,-104.2016 251.1607,-108.2414 261.3366,-111.1912 260.9551,-104.2016\"/>\n",
       "<text text-anchor=\"middle\" x=\"333.8368\" y=\"-109.8\" font-family=\"Times,serif\" font-size=\"14.00\" fill=\"#000000\">1 </text>\n",
       "</g>\n",
       "<!-- \\(I_F\\)&#45;&gt;\\(I_S0\\) -->\n",
       "<g id=\"edge3\" class=\"edge\">\n",
       "<title>\\(I_F\\)&#45;&gt;\\(I_S0\\)</title>\n",
       "<path fill=\"none\" stroke=\"#000000\" d=\"M473.5999,-92.9063C485.8964,-88.4366 500.6225,-83.0839 514.1958,-78.1501\"/>\n",
       "<polygon fill=\"#000000\" stroke=\"#000000\" points=\"515.6215,-81.356 523.8242,-74.6503 513.2302,-74.7771 515.6215,-81.356\"/>\n",
       "<text text-anchor=\"middle\" x=\"498.5784\" y=\"-88.8\" font-family=\"Times,serif\" font-size=\"14.00\" fill=\"#000000\">0 </text>\n",
       "</g>\n",
       "<!-- \\(F_F\\)&#45;&gt;\\(F_S0\\) -->\n",
       "<g id=\"edge5\" class=\"edge\">\n",
       "<title>\\(F_F\\)&#45;&gt;\\(F_S0\\)</title>\n",
       "<path fill=\"none\" stroke=\"#000000\" d=\"M649.8194,-91.0025C634.8007,-107.9264 613.3916,-128.2452 589.6724,-139 521.4122,-169.9507 432.7101,-171.9259 379.6978,-169.6139\"/>\n",
       "<polygon fill=\"#000000\" stroke=\"#000000\" points=\"379.7522,-166.1123 369.5878,-169.1017 379.3979,-173.1033 379.7522,-166.1123\"/>\n",
       "<text text-anchor=\"middle\" x=\"498.5784\" y=\"-167.8\" font-family=\"Times,serif\" font-size=\"14.00\" fill=\"#000000\">0 </text>\n",
       "</g>\n",
       "<!-- \\(F_F\\)&#45;&gt;\\(I_I\\) -->\n",
       "<g id=\"edge8\" class=\"edge\">\n",
       "<title>\\(F_F\\)&#45;&gt;\\(I_I\\)</title>\n",
       "<path fill=\"none\" stroke=\"#000000\" d=\"M645.9127,-39.1824C623.7132,-21.3419 590.0209,0 555.8754,0 221.8426,0 221.8426,0 221.8426,0 192.5619,0 164.3937,-18.4753 144.8487,-35.2552\"/>\n",
       "<polygon fill=\"#000000\" stroke=\"#000000\" points=\"142.3891,-32.7595 137.2808,-42.0415 147.0625,-37.9711 142.3891,-32.7595\"/>\n",
       "<text text-anchor=\"middle\" x=\"393.0836\" y=\"-3.8\" font-family=\"Times,serif\" font-size=\"14.00\" fill=\"#000000\">1 </text>\n",
       "</g>\n",
       "</g>\n",
       "</svg>\n"
      ],
      "text/plain": [
       "<graphviz.dot.Digraph at 0x1103a2160>"
      ]
     },
     "execution_count": 69,
     "metadata": {},
     "output_type": "execute_result"
    }
   ],
   "source": [
    "dotObj_dfa(C_CdfaOdd1sORCends01)"
   ]
  },
  {
   "cell_type": "code",
   "execution_count": 70,
   "metadata": {
    "run_control": {
     "frozen": false,
     "read_only": false
    }
   },
   "outputs": [],
   "source": [
    "MinC_CdfaOdd1sORCends01 = min_dfa(C_CdfaOdd1sORCends01)"
   ]
  },
  {
   "cell_type": "markdown",
   "metadata": {
    "run_control": {
     "frozen": false,
     "read_only": false
    }
   },
   "source": [
    "## Minimized Comp(CdfaOdd1s OR Cends01)\n",
    "\n",
    "This will now pass the isomorphism check, below\n"
   ]
  },
  {
   "cell_type": "code",
   "execution_count": 71,
   "metadata": {
    "run_control": {
     "frozen": false,
     "read_only": false
    }
   },
   "outputs": [
    {
     "data": {
      "image/svg+xml": [
       "<?xml version=\"1.0\" encoding=\"UTF-8\" standalone=\"no\"?>\n",
       "<!DOCTYPE svg PUBLIC \"-//W3C//DTD SVG 1.1//EN\"\n",
       " \"http://www.w3.org/Graphics/SVG/1.1/DTD/svg11.dtd\">\n",
       "<!-- Generated by graphviz version 2.40.1 (20161225.0304)\n",
       " -->\n",
       "<!-- Title: %3 Pages: 1 -->\n",
       "<svg width=\"491pt\" height=\"231pt\"\n",
       " viewBox=\"0.00 0.00 491.08 231.43\" xmlns=\"http://www.w3.org/2000/svg\" xmlns:xlink=\"http://www.w3.org/1999/xlink\">\n",
       "<g id=\"graph0\" class=\"graph\" transform=\"scale(1 1) rotate(0) translate(4 227.4316)\">\n",
       "<title>%3</title>\n",
       "<polygon fill=\"#ffffff\" stroke=\"transparent\" points=\"-4,4 -4,-227.4316 487.0784,-227.4316 487.0784,4 -4,4\"/>\n",
       "<!-- EMPTY -->\n",
       "<g id=\"node1\" class=\"node\">\n",
       "<title>EMPTY</title>\n",
       "</g>\n",
       "<!-- \\(I_I\\) -->\n",
       "<g id=\"node3\" class=\"node\">\n",
       "<title>\\(I_I\\)</title>\n",
       "<ellipse fill=\"none\" stroke=\"#000000\" cx=\"118.2976\" cy=\"-137.1842\" rx=\"27.0966\" ry=\"27.0966\"/>\n",
       "<text text-anchor=\"middle\" x=\"118.2976\" y=\"-133.4842\" font-family=\"Times,serif\" font-size=\"14.00\" fill=\"#000000\">(I_I)</text>\n",
       "</g>\n",
       "<!-- EMPTY&#45;&gt;\\(I_I\\) -->\n",
       "<g id=\"edge1\" class=\"edge\">\n",
       "<title>EMPTY&#45;&gt;\\(I_I\\)</title>\n",
       "<path fill=\"none\" stroke=\"#000000\" d=\"M54.3923,-137.1842C62.6976,-137.1842 71.9683,-137.1842 80.8159,-137.1842\"/>\n",
       "<polygon fill=\"#000000\" stroke=\"#000000\" points=\"80.9247,-140.6843 90.9246,-137.1842 80.9246,-133.6843 80.9247,-140.6843\"/>\n",
       "</g>\n",
       "<!-- \\(F_I\\) -->\n",
       "<g id=\"node2\" class=\"node\">\n",
       "<title>\\(F_I\\)</title>\n",
       "<ellipse fill=\"none\" stroke=\"#000000\" cx=\"453.831\" cy=\"-161.1842\" rx=\"29.4969\" ry=\"29.4969\"/>\n",
       "<text text-anchor=\"middle\" x=\"453.831\" y=\"-157.4842\" font-family=\"Times,serif\" font-size=\"14.00\" fill=\"#000000\">(F_I)</text>\n",
       "</g>\n",
       "<!-- \\(F_I\\)&#45;&gt;\\(F_I\\) -->\n",
       "<g id=\"edge2\" class=\"edge\">\n",
       "<title>\\(F_I\\)&#45;&gt;\\(F_I\\)</title>\n",
       "<path fill=\"none\" stroke=\"#000000\" d=\"M444.1191,-188.8466C443.6875,-199.542 446.9248,-208.4316 453.831,-208.4316 458.3633,-208.4316 461.3154,-204.6032 462.6875,-198.9483\"/>\n",
       "<polygon fill=\"#000000\" stroke=\"#000000\" points=\"466.1865,-199.1063 463.5429,-188.8466 459.2115,-198.5156 466.1865,-199.1063\"/>\n",
       "<text text-anchor=\"middle\" x=\"453.831\" y=\"-212.2316\" font-family=\"Times,serif\" font-size=\"14.00\" fill=\"#000000\">0 </text>\n",
       "</g>\n",
       "<!-- \\(F_I\\)&#45;&gt;\\(I_I\\) -->\n",
       "<g id=\"edge4\" class=\"edge\">\n",
       "<title>\\(F_I\\)&#45;&gt;\\(I_I\\)</title>\n",
       "<path fill=\"none\" stroke=\"#000000\" d=\"M424.5616,-159.0906C363.6738,-154.7355 223.4367,-144.7046 155.9406,-139.8767\"/>\n",
       "<polygon fill=\"#000000\" stroke=\"#000000\" points=\"155.9799,-136.3707 145.7557,-139.1482 155.4805,-143.3529 155.9799,-136.3707\"/>\n",
       "<text text-anchor=\"middle\" x=\"283.6892\" y=\"-152.9842\" font-family=\"Times,serif\" font-size=\"14.00\" fill=\"#000000\">1 </text>\n",
       "</g>\n",
       "<!-- \\(I_I\\)&#45;&gt;\\(F_I\\) -->\n",
       "<g id=\"edge6\" class=\"edge\">\n",
       "<title>\\(I_I\\)&#45;&gt;\\(F_I\\)</title>\n",
       "<path fill=\"none\" stroke=\"#000000\" d=\"M143.8523,-147.902C150.2146,-150.2556 157.081,-152.5344 163.5952,-154.1842 176.2079,-157.3786 179.6885,-156.5403 192.5952,-158.1842 230.5887,-163.0233 239.9849,-165.47 278.1892,-168.1842 330.2503,-171.8829 343.3955,-170.5175 395.5836,-171.1842 400.4721,-171.2467 401.7213,-171.6931 406.5836,-171.1842 409.4371,-170.8856 412.3719,-170.4881 415.3153,-170.0235\"/>\n",
       "<polygon fill=\"#000000\" stroke=\"#000000\" points=\"416.0301,-173.4511 425.2501,-168.2318 414.7877,-166.5623 416.0301,-173.4511\"/>\n",
       "<text text-anchor=\"middle\" x=\"283.6892\" y=\"-171.9842\" font-family=\"Times,serif\" font-size=\"14.00\" fill=\"#000000\">1 </text>\n",
       "</g>\n",
       "<!-- \\(I_S0\\) -->\n",
       "<g id=\"node4\" class=\"node\">\n",
       "<title>\\(I_S0\\)</title>\n",
       "<ellipse fill=\"none\" stroke=\"#000000\" cx=\"226.3922\" cy=\"-66.1842\" rx=\"33.5952\" ry=\"33.5952\"/>\n",
       "<text text-anchor=\"middle\" x=\"226.3922\" y=\"-62.4842\" font-family=\"Times,serif\" font-size=\"14.00\" fill=\"#000000\">(I_S0)</text>\n",
       "</g>\n",
       "<!-- \\(I_I\\)&#45;&gt;\\(I_S0\\) -->\n",
       "<g id=\"edge3\" class=\"edge\">\n",
       "<title>\\(I_I\\)&#45;&gt;\\(I_S0\\)</title>\n",
       "<path fill=\"none\" stroke=\"#000000\" d=\"M141.2217,-122.1269C155.2353,-112.9223 173.4836,-100.9362 189.4927,-90.421\"/>\n",
       "<polygon fill=\"#000000\" stroke=\"#000000\" points=\"191.6784,-93.1729 198.1151,-84.7575 187.8354,-87.3221 191.6784,-93.1729\"/>\n",
       "<text text-anchor=\"middle\" x=\"169.0952\" y=\"-108.9842\" font-family=\"Times,serif\" font-size=\"14.00\" fill=\"#000000\">0 </text>\n",
       "</g>\n",
       "<!-- \\(I_S0\\)&#45;&gt;\\(I_S0\\) -->\n",
       "<g id=\"edge9\" class=\"edge\">\n",
       "<title>\\(I_S0\\)&#45;&gt;\\(I_S0\\)</title>\n",
       "<path fill=\"none\" stroke=\"#000000\" d=\"M215.8922,-98.5573C215.8922,-109.3484 219.3922,-117.9812 226.3922,-117.9812 230.9859,-117.9812 234.0723,-114.2634 235.6514,-108.6575\"/>\n",
       "<polygon fill=\"#000000\" stroke=\"#000000\" points=\"239.1467,-108.9095 236.8922,-98.5573 232.1989,-108.056 239.1467,-108.9095\"/>\n",
       "<text text-anchor=\"middle\" x=\"226.3922\" y=\"-121.7812\" font-family=\"Times,serif\" font-size=\"14.00\" fill=\"#000000\">0 </text>\n",
       "</g>\n",
       "<!-- \\(F_F\\) -->\n",
       "<g id=\"node5\" class=\"node\">\n",
       "<title>\\(F_F\\)</title>\n",
       "<ellipse fill=\"none\" stroke=\"#000000\" cx=\"342.3864\" cy=\"-66.1842\" rx=\"31.373\" ry=\"31.373\"/>\n",
       "<ellipse fill=\"none\" stroke=\"#000000\" cx=\"342.3864\" cy=\"-66.1842\" rx=\"35.3956\" ry=\"35.3956\"/>\n",
       "<text text-anchor=\"middle\" x=\"342.3864\" y=\"-62.4842\" font-family=\"Times,serif\" font-size=\"14.00\" fill=\"#000000\">(F_F)</text>\n",
       "</g>\n",
       "<!-- \\(I_S0\\)&#45;&gt;\\(F_F\\) -->\n",
       "<g id=\"edge8\" class=\"edge\">\n",
       "<title>\\(I_S0\\)&#45;&gt;\\(F_F\\)</title>\n",
       "<path fill=\"none\" stroke=\"#000000\" d=\"M260.2543,-66.1842C271.7475,-66.1842 284.7798,-66.1842 297.0227,-66.1842\"/>\n",
       "<polygon fill=\"#000000\" stroke=\"#000000\" points=\"297.07,-69.6843 307.0699,-66.1842 297.0699,-62.6843 297.07,-69.6843\"/>\n",
       "<text text-anchor=\"middle\" x=\"283.6892\" y=\"-69.9842\" font-family=\"Times,serif\" font-size=\"14.00\" fill=\"#000000\">1 </text>\n",
       "</g>\n",
       "<!-- \\(F_F\\)&#45;&gt;\\(F_I\\) -->\n",
       "<g id=\"edge5\" class=\"edge\">\n",
       "<title>\\(F_F\\)&#45;&gt;\\(F_I\\)</title>\n",
       "<path fill=\"none\" stroke=\"#000000\" d=\"M369.364,-89.1811C385.6398,-103.0552 406.4211,-120.77 423.2979,-135.1565\"/>\n",
       "<polygon fill=\"#000000\" stroke=\"#000000\" points=\"421.3516,-138.0965 431.2324,-141.9202 425.8927,-132.7693 421.3516,-138.0965\"/>\n",
       "<text text-anchor=\"middle\" x=\"401.0836\" y=\"-122.9842\" font-family=\"Times,serif\" font-size=\"14.00\" fill=\"#000000\">0 </text>\n",
       "</g>\n",
       "<!-- \\(F_F\\)&#45;&gt;\\(I_I\\) -->\n",
       "<g id=\"edge7\" class=\"edge\">\n",
       "<title>\\(F_F\\)&#45;&gt;\\(I_I\\)</title>\n",
       "<path fill=\"none\" stroke=\"#000000\" d=\"M316.1086,-42.2468C285.2991,-17.2362 233.2768,15.3318 192.5952,-8.1842 158.3725,-27.9667 138.5222,-70.1572 128.0864,-100.9191\"/>\n",
       "<polygon fill=\"#000000\" stroke=\"#000000\" points=\"124.747,-99.871 125.0227,-110.4623 131.412,-102.0108 124.747,-99.871\"/>\n",
       "<text text-anchor=\"middle\" x=\"226.3922\" y=\"-11.9842\" font-family=\"Times,serif\" font-size=\"14.00\" fill=\"#000000\">1 </text>\n",
       "</g>\n",
       "</g>\n",
       "</svg>\n"
      ],
      "text/plain": [
       "<graphviz.dot.Digraph at 0x1103d4cc0>"
      ]
     },
     "execution_count": 71,
     "metadata": {},
     "output_type": "execute_result"
    }
   ],
   "source": [
    "dotObj_dfa(MinC_CdfaOdd1sORCends01)"
   ]
  },
  {
   "cell_type": "markdown",
   "metadata": {
    "run_control": {
     "frozen": false,
     "read_only": false
    }
   },
   "source": [
    "## DeMorgan's Law works for DFA !!\n",
    "\n",
    "The same machine, when obtained through two routes, turn out to be isomorphic when minimized\n"
   ]
  },
  {
   "cell_type": "code",
   "execution_count": 72,
   "metadata": {
    "run_control": {
     "frozen": false,
     "read_only": false
    }
   },
   "outputs": [
    {
     "data": {
      "text/plain": [
       "True"
      ]
     },
     "execution_count": 72,
     "metadata": {},
     "output_type": "execute_result"
    }
   ],
   "source": [
    "iso_dfa(MinC_CdfaOdd1sORCends01, Minodd1sANDends01)"
   ]
  },
  {
   "cell_type": "markdown",
   "metadata": {
    "run_control": {
     "frozen": false,
     "read_only": false
    }
   },
   "source": [
    "# These are some examples from the book"
   ]
  },
  {
   "cell_type": "code",
   "execution_count": 73,
   "metadata": {
    "run_control": {
     "frozen": false,
     "read_only": false
    }
   },
   "outputs": [],
   "source": [
    "blimp = md2mc('''\n",
    "DFA \n",
    "I1 : a -> F2\n",
    "I1 : b -> F3\n",
    "F2 : a -> S8\n",
    "F2 : b -> S5\n",
    "F3 : a -> S7\n",
    "F3 : b -> S4\n",
    "S4 : a | b -> F6\n",
    "S5 : a | b -> F6\n",
    "F6 : a | b -> F6\n",
    "S7 : a | b -> F6\n",
    "S8 : a -> F6\n",
    "S8 : b -> F9\n",
    "F9 : a -> F9\n",
    "F9 : b -> F6\n",
    "''')"
   ]
  },
  {
   "cell_type": "code",
   "execution_count": 74,
   "metadata": {
    "run_control": {
     "frozen": false,
     "read_only": false
    }
   },
   "outputs": [],
   "source": [
    "dblimp = dotObj_dfa(blimp)"
   ]
  },
  {
   "cell_type": "code",
   "execution_count": 75,
   "metadata": {
    "run_control": {
     "frozen": false,
     "read_only": false
    }
   },
   "outputs": [
    {
     "data": {
      "image/svg+xml": [
       "<?xml version=\"1.0\" encoding=\"UTF-8\" standalone=\"no\"?>\n",
       "<!DOCTYPE svg PUBLIC \"-//W3C//DTD SVG 1.1//EN\"\n",
       " \"http://www.w3.org/Graphics/SVG/1.1/DTD/svg11.dtd\">\n",
       "<!-- Generated by graphviz version 2.40.1 (20161225.0304)\n",
       " -->\n",
       "<!-- Title: %3 Pages: 1 -->\n",
       "<svg width=\"515pt\" height=\"344pt\"\n",
       " viewBox=\"0.00 0.00 514.58 344.15\" xmlns=\"http://www.w3.org/2000/svg\" xmlns:xlink=\"http://www.w3.org/1999/xlink\">\n",
       "<g id=\"graph0\" class=\"graph\" transform=\"scale(1 1) rotate(0) translate(4 340.1482)\">\n",
       "<title>%3</title>\n",
       "<polygon fill=\"#ffffff\" stroke=\"transparent\" points=\"-4,4 -4,-340.1482 510.5825,-340.1482 510.5825,4 -4,4\"/>\n",
       "<!-- EMPTY -->\n",
       "<g id=\"node1\" class=\"node\">\n",
       "<title>EMPTY</title>\n",
       "</g>\n",
       "<!-- I1 -->\n",
       "<g id=\"node6\" class=\"node\">\n",
       "<title>I1</title>\n",
       "<ellipse fill=\"none\" stroke=\"#000000\" cx=\"109.1984\" cy=\"-208.1482\" rx=\"18.399\" ry=\"18.399\"/>\n",
       "<text text-anchor=\"middle\" x=\"109.1984\" y=\"-204.4482\" font-family=\"Times,serif\" font-size=\"14.00\" fill=\"#000000\">I1</text>\n",
       "</g>\n",
       "<!-- EMPTY&#45;&gt;I1 -->\n",
       "<g id=\"edge1\" class=\"edge\">\n",
       "<title>EMPTY&#45;&gt;I1</title>\n",
       "<path fill=\"none\" stroke=\"#000000\" d=\"M54.3709,-208.1482C62.7773,-208.1482 72.0494,-208.1482 80.5395,-208.1482\"/>\n",
       "<polygon fill=\"#000000\" stroke=\"#000000\" points=\"80.7515,-211.6483 90.7515,-208.1482 80.7514,-204.6483 80.7515,-211.6483\"/>\n",
       "</g>\n",
       "<!-- S5 -->\n",
       "<g id=\"node2\" class=\"node\">\n",
       "<title>S5</title>\n",
       "<ellipse fill=\"none\" stroke=\"#000000\" cx=\"387.1378\" cy=\"-175.1482\" rx=\"20.2975\" ry=\"20.2975\"/>\n",
       "<text text-anchor=\"middle\" x=\"387.1378\" y=\"-171.4482\" font-family=\"Times,serif\" font-size=\"14.00\" fill=\"#000000\">S5</text>\n",
       "</g>\n",
       "<!-- F6 -->\n",
       "<g id=\"node9\" class=\"node\">\n",
       "<title>F6</title>\n",
       "<ellipse fill=\"none\" stroke=\"#000000\" cx=\"482.4343\" cy=\"-207.1482\" rx=\"20.2726\" ry=\"20.2726\"/>\n",
       "<ellipse fill=\"none\" stroke=\"#000000\" cx=\"482.4343\" cy=\"-207.1482\" rx=\"24.2973\" ry=\"24.2973\"/>\n",
       "<text text-anchor=\"middle\" x=\"482.4343\" y=\"-203.4482\" font-family=\"Times,serif\" font-size=\"14.00\" fill=\"#000000\">F6</text>\n",
       "</g>\n",
       "<!-- S5&#45;&gt;F6 -->\n",
       "<g id=\"edge10\" class=\"edge\">\n",
       "<title>S5&#45;&gt;F6</title>\n",
       "<path fill=\"none\" stroke=\"#000000\" d=\"M407.0303,-179.6567C417.1009,-182.123 429.4558,-185.4314 440.286,-189.1482 443.8044,-190.3557 447.4433,-191.7224 451.0415,-193.15\"/>\n",
       "<polygon fill=\"#000000\" stroke=\"#000000\" points=\"449.7813,-196.4162 460.3598,-197.0033 452.4563,-189.9475 449.7813,-196.4162\"/>\n",
       "<text text-anchor=\"middle\" x=\"434.786\" y=\"-192.9482\" font-family=\"Times,serif\" font-size=\"14.00\" fill=\"#000000\">a </text>\n",
       "</g>\n",
       "<!-- S5&#45;&gt;F6 -->\n",
       "<g id=\"edge11\" class=\"edge\">\n",
       "<title>S5&#45;&gt;F6</title>\n",
       "<path fill=\"none\" stroke=\"#000000\" d=\"M405.8829,-167.1101C416.3153,-163.822 429.3611,-161.7111 440.286,-166.1482 447.8673,-169.2273 454.8331,-174.3978 460.8257,-180.0481\"/>\n",
       "<polygon fill=\"#000000\" stroke=\"#000000\" points=\"458.4042,-182.579 467.8688,-187.3405 463.4392,-177.716 458.4042,-182.579\"/>\n",
       "<text text-anchor=\"middle\" x=\"434.786\" y=\"-169.9482\" font-family=\"Times,serif\" font-size=\"14.00\" fill=\"#000000\">b </text>\n",
       "</g>\n",
       "<!-- S7 -->\n",
       "<g id=\"node3\" class=\"node\">\n",
       "<title>S7</title>\n",
       "<ellipse fill=\"none\" stroke=\"#000000\" cx=\"387.1378\" cy=\"-302.1482\" rx=\"20.2975\" ry=\"20.2975\"/>\n",
       "<text text-anchor=\"middle\" x=\"387.1378\" y=\"-298.4482\" font-family=\"Times,serif\" font-size=\"14.00\" fill=\"#000000\">S7</text>\n",
       "</g>\n",
       "<!-- S7&#45;&gt;F6 -->\n",
       "<g id=\"edge14\" class=\"edge\">\n",
       "<title>S7&#45;&gt;F6</title>\n",
       "<path fill=\"none\" stroke=\"#000000\" d=\"M403.6276,-314.0261C414.7514,-320.4607 429.3405,-325.7001 440.286,-318.1482 453.4903,-309.0379 466.2189,-269.9728 474.1691,-240.7459\"/>\n",
       "<polygon fill=\"#000000\" stroke=\"#000000\" points=\"477.6042,-241.4458 476.7748,-230.8834 470.8364,-239.6576 477.6042,-241.4458\"/>\n",
       "<text text-anchor=\"middle\" x=\"434.786\" y=\"-324.9482\" font-family=\"Times,serif\" font-size=\"14.00\" fill=\"#000000\">a </text>\n",
       "</g>\n",
       "<!-- S7&#45;&gt;F6 -->\n",
       "<g id=\"edge15\" class=\"edge\">\n",
       "<title>S7&#45;&gt;F6</title>\n",
       "<path fill=\"none\" stroke=\"#000000\" d=\"M404.4115,-291.3619C415.3257,-284.1067 429.3762,-273.9264 440.286,-263.1482 448.6367,-254.8984 456.6789,-244.914 463.4593,-235.6739\"/>\n",
       "<polygon fill=\"#000000\" stroke=\"#000000\" points=\"466.3531,-237.644 469.3041,-227.4684 460.6516,-233.5828 466.3531,-237.644\"/>\n",
       "<text text-anchor=\"middle\" x=\"434.786\" y=\"-275.9482\" font-family=\"Times,serif\" font-size=\"14.00\" fill=\"#000000\">b </text>\n",
       "</g>\n",
       "<!-- S8 -->\n",
       "<g id=\"node4\" class=\"node\">\n",
       "<title>S8</title>\n",
       "<ellipse fill=\"none\" stroke=\"#000000\" cx=\"291.8414\" cy=\"-117.1482\" rx=\"20.2975\" ry=\"20.2975\"/>\n",
       "<text text-anchor=\"middle\" x=\"291.8414\" y=\"-113.4482\" font-family=\"Times,serif\" font-size=\"14.00\" fill=\"#000000\">S8</text>\n",
       "</g>\n",
       "<!-- S8&#45;&gt;F6 -->\n",
       "<g id=\"edge16\" class=\"edge\">\n",
       "<title>S8&#45;&gt;F6</title>\n",
       "<path fill=\"none\" stroke=\"#000000\" d=\"M312.3634,-115.6834C337.0604,-114.768 379.2071,-115.9571 411.286,-131.1482 432.7078,-141.2925 450.8528,-160.9874 463.4568,-177.786\"/>\n",
       "<polygon fill=\"#000000\" stroke=\"#000000\" points=\"460.8536,-180.1613 469.5307,-186.2406 466.5386,-176.077 460.8536,-180.1613\"/>\n",
       "<text text-anchor=\"middle\" x=\"387.1378\" y=\"-134.9482\" font-family=\"Times,serif\" font-size=\"14.00\" fill=\"#000000\">a </text>\n",
       "</g>\n",
       "<!-- F9 -->\n",
       "<g id=\"node10\" class=\"node\">\n",
       "<title>F9</title>\n",
       "<ellipse fill=\"none\" stroke=\"#000000\" cx=\"387.1378\" cy=\"-24.1482\" rx=\"20.2726\" ry=\"20.2726\"/>\n",
       "<ellipse fill=\"none\" stroke=\"#000000\" cx=\"387.1378\" cy=\"-24.1482\" rx=\"24.2973\" ry=\"24.2973\"/>\n",
       "<text text-anchor=\"middle\" x=\"387.1378\" y=\"-20.4482\" font-family=\"Times,serif\" font-size=\"14.00\" fill=\"#000000\">F9</text>\n",
       "</g>\n",
       "<!-- S8&#45;&gt;F9 -->\n",
       "<g id=\"edge17\" class=\"edge\">\n",
       "<title>S8&#45;&gt;F9</title>\n",
       "<path fill=\"none\" stroke=\"#000000\" d=\"M306.3149,-103.0235C321.1673,-88.529 344.5572,-65.7028 362.3614,-48.3275\"/>\n",
       "<polygon fill=\"#000000\" stroke=\"#000000\" points=\"364.8964,-50.7441 369.6087,-41.2549 360.0074,-45.7344 364.8964,-50.7441\"/>\n",
       "<text text-anchor=\"middle\" x=\"339.4896\" y=\"-77.9482\" font-family=\"Times,serif\" font-size=\"14.00\" fill=\"#000000\">b </text>\n",
       "</g>\n",
       "<!-- S4 -->\n",
       "<g id=\"node5\" class=\"node\">\n",
       "<title>S4</title>\n",
       "<ellipse fill=\"none\" stroke=\"#000000\" cx=\"387.1378\" cy=\"-243.1482\" rx=\"20.2975\" ry=\"20.2975\"/>\n",
       "<text text-anchor=\"middle\" x=\"387.1378\" y=\"-239.4482\" font-family=\"Times,serif\" font-size=\"14.00\" fill=\"#000000\">S4</text>\n",
       "</g>\n",
       "<!-- S4&#45;&gt;F6 -->\n",
       "<g id=\"edge8\" class=\"edge\">\n",
       "<title>S4&#45;&gt;F6</title>\n",
       "<path fill=\"none\" stroke=\"#000000\" d=\"M407.1573,-245.8534C417.3731,-246.4754 429.8191,-246.0392 440.286,-242.1482 446.7552,-239.7434 452.9434,-235.8898 458.49,-231.6021\"/>\n",
       "<polygon fill=\"#000000\" stroke=\"#000000\" points=\"460.7579,-234.2679 466.1155,-225.1275 456.2273,-228.9318 460.7579,-234.2679\"/>\n",
       "<text text-anchor=\"middle\" x=\"434.786\" y=\"-247.9482\" font-family=\"Times,serif\" font-size=\"14.00\" fill=\"#000000\">a </text>\n",
       "</g>\n",
       "<!-- S4&#45;&gt;F6 -->\n",
       "<g id=\"edge9\" class=\"edge\">\n",
       "<title>S4&#45;&gt;F6</title>\n",
       "<path fill=\"none\" stroke=\"#000000\" d=\"M405.3401,-233.7744C412.6715,-230.1941 421.2746,-226.2347 429.286,-223.1482 435.5411,-220.7384 442.321,-218.4569 448.8788,-216.4118\"/>\n",
       "<polygon fill=\"#000000\" stroke=\"#000000\" points=\"450.3205,-219.6335 458.8936,-213.4083 448.3096,-212.9285 450.3205,-219.6335\"/>\n",
       "<text text-anchor=\"middle\" x=\"434.786\" y=\"-226.9482\" font-family=\"Times,serif\" font-size=\"14.00\" fill=\"#000000\">b </text>\n",
       "</g>\n",
       "<!-- F3 -->\n",
       "<g id=\"node7\" class=\"node\">\n",
       "<title>F3</title>\n",
       "<ellipse fill=\"none\" stroke=\"#000000\" cx=\"291.8414\" cy=\"-243.1482\" rx=\"20.2726\" ry=\"20.2726\"/>\n",
       "<ellipse fill=\"none\" stroke=\"#000000\" cx=\"291.8414\" cy=\"-243.1482\" rx=\"24.2973\" ry=\"24.2973\"/>\n",
       "<text text-anchor=\"middle\" x=\"291.8414\" y=\"-239.4482\" font-family=\"Times,serif\" font-size=\"14.00\" fill=\"#000000\">F3</text>\n",
       "</g>\n",
       "<!-- I1&#45;&gt;F3 -->\n",
       "<g id=\"edge3\" class=\"edge\">\n",
       "<title>I1&#45;&gt;F3</title>\n",
       "<path fill=\"none\" stroke=\"#000000\" d=\"M127.3786,-211.6321C157.7295,-217.4483 219.1868,-229.2254 257.7775,-236.6205\"/>\n",
       "<polygon fill=\"#000000\" stroke=\"#000000\" points=\"257.5308,-240.1369 268.0109,-238.5816 258.8483,-233.262 257.5308,-240.1369\"/>\n",
       "<text text-anchor=\"middle\" x=\"197.545\" y=\"-232.9482\" font-family=\"Times,serif\" font-size=\"14.00\" fill=\"#000000\">b </text>\n",
       "</g>\n",
       "<!-- F2 -->\n",
       "<g id=\"node8\" class=\"node\">\n",
       "<title>F2</title>\n",
       "<ellipse fill=\"none\" stroke=\"#000000\" cx=\"197.545\" cy=\"-175.1482\" rx=\"20.2726\" ry=\"20.2726\"/>\n",
       "<ellipse fill=\"none\" stroke=\"#000000\" cx=\"197.545\" cy=\"-175.1482\" rx=\"24.2973\" ry=\"24.2973\"/>\n",
       "<text text-anchor=\"middle\" x=\"197.545\" y=\"-171.4482\" font-family=\"Times,serif\" font-size=\"14.00\" fill=\"#000000\">F2</text>\n",
       "</g>\n",
       "<!-- I1&#45;&gt;F2 -->\n",
       "<g id=\"edge2\" class=\"edge\">\n",
       "<title>I1&#45;&gt;F2</title>\n",
       "<path fill=\"none\" stroke=\"#000000\" d=\"M126.6528,-201.6285C137.6327,-197.5272 152.1403,-192.1082 165.1701,-187.2412\"/>\n",
       "<polygon fill=\"#000000\" stroke=\"#000000\" points=\"166.6199,-190.4359 174.763,-183.6579 164.1705,-183.8784 166.6199,-190.4359\"/>\n",
       "<text text-anchor=\"middle\" x=\"150.3968\" y=\"-197.9482\" font-family=\"Times,serif\" font-size=\"14.00\" fill=\"#000000\">a </text>\n",
       "</g>\n",
       "<!-- F3&#45;&gt;S7 -->\n",
       "<g id=\"edge6\" class=\"edge\">\n",
       "<title>F3&#45;&gt;S7</title>\n",
       "<path fill=\"none\" stroke=\"#000000\" d=\"M312.5193,-255.9503C326.888,-264.8463 346.1357,-276.7629 361.4833,-286.265\"/>\n",
       "<polygon fill=\"#000000\" stroke=\"#000000\" points=\"359.6579,-289.2513 370.0027,-291.5395 363.3428,-283.2996 359.6579,-289.2513\"/>\n",
       "<text text-anchor=\"middle\" x=\"339.4896\" y=\"-277.9482\" font-family=\"Times,serif\" font-size=\"14.00\" fill=\"#000000\">a </text>\n",
       "</g>\n",
       "<!-- F3&#45;&gt;S4 -->\n",
       "<g id=\"edge7\" class=\"edge\">\n",
       "<title>F3&#45;&gt;S4</title>\n",
       "<path fill=\"none\" stroke=\"#000000\" d=\"M316.3826,-243.1482C328.6185,-243.1482 343.5368,-243.1482 356.5149,-243.1482\"/>\n",
       "<polygon fill=\"#000000\" stroke=\"#000000\" points=\"356.8587,-246.6483 366.8587,-243.1482 356.8586,-239.6483 356.8587,-246.6483\"/>\n",
       "<text text-anchor=\"middle\" x=\"339.4896\" y=\"-246.9482\" font-family=\"Times,serif\" font-size=\"14.00\" fill=\"#000000\">b </text>\n",
       "</g>\n",
       "<!-- F2&#45;&gt;S5 -->\n",
       "<g id=\"edge5\" class=\"edge\">\n",
       "<title>F2&#45;&gt;S5</title>\n",
       "<path fill=\"none\" stroke=\"#000000\" d=\"M221.9428,-175.1482C256.3507,-175.1482 319.1064,-175.1482 356.5774,-175.1482\"/>\n",
       "<polygon fill=\"#000000\" stroke=\"#000000\" points=\"356.8832,-178.6483 366.8832,-175.1482 356.8831,-171.6483 356.8832,-178.6483\"/>\n",
       "<text text-anchor=\"middle\" x=\"291.8414\" y=\"-178.9482\" font-family=\"Times,serif\" font-size=\"14.00\" fill=\"#000000\">b </text>\n",
       "</g>\n",
       "<!-- F2&#45;&gt;S8 -->\n",
       "<g id=\"edge4\" class=\"edge\">\n",
       "<title>F2&#45;&gt;S8</title>\n",
       "<path fill=\"none\" stroke=\"#000000\" d=\"M217.4386,-160.8863C224.3852,-156.0607 232.2956,-150.7357 239.6932,-146.1482 247.7529,-141.1502 256.7169,-136.0182 264.9079,-131.4873\"/>\n",
       "<polygon fill=\"#000000\" stroke=\"#000000\" points=\"266.6381,-134.5304 273.7379,-126.6663 263.2836,-128.3865 266.6381,-134.5304\"/>\n",
       "<text text-anchor=\"middle\" x=\"244.6932\" y=\"-149.9482\" font-family=\"Times,serif\" font-size=\"14.00\" fill=\"#000000\">a </text>\n",
       "</g>\n",
       "<!-- F6&#45;&gt;F6 -->\n",
       "<g id=\"edge12\" class=\"edge\">\n",
       "<title>F6&#45;&gt;F6</title>\n",
       "<path fill=\"none\" stroke=\"#000000\" d=\"M478.1597,-230.9793C477.8649,-240.8929 479.2897,-249.2964 482.4343,-249.2964 484.3996,-249.2964 485.6932,-246.0138 486.315,-241.1315\"/>\n",
       "<polygon fill=\"#000000\" stroke=\"#000000\" points=\"489.8185,-241.1074 486.7089,-230.9793 482.8238,-240.836 489.8185,-241.1074\"/>\n",
       "<text text-anchor=\"middle\" x=\"482.4343\" y=\"-253.0964\" font-family=\"Times,serif\" font-size=\"14.00\" fill=\"#000000\">a </text>\n",
       "</g>\n",
       "<!-- F6&#45;&gt;F6 -->\n",
       "<g id=\"edge13\" class=\"edge\">\n",
       "<title>F6&#45;&gt;F6</title>\n",
       "<path fill=\"none\" stroke=\"#000000\" d=\"M474.9721,-230.2958C472.0856,-248.5582 474.5729,-267.2964 482.4343,-267.2964 488.8216,-267.2964 491.6613,-254.9263 490.9533,-240.492\"/>\n",
       "<polygon fill=\"#000000\" stroke=\"#000000\" points=\"494.4089,-239.8816 489.8964,-230.2958 487.4462,-240.6034 494.4089,-239.8816\"/>\n",
       "<text text-anchor=\"middle\" x=\"482.4343\" y=\"-271.0964\" font-family=\"Times,serif\" font-size=\"14.00\" fill=\"#000000\">b </text>\n",
       "</g>\n",
       "<!-- F9&#45;&gt;F6 -->\n",
       "<g id=\"edge19\" class=\"edge\">\n",
       "<title>F9&#45;&gt;F6</title>\n",
       "<path fill=\"none\" stroke=\"#000000\" d=\"M404.3281,-41.3604C415.7645,-53.5753 430.4395,-70.8191 440.286,-88.1482 455.6343,-115.16 466.9081,-148.7433 473.9138,-173.3389\"/>\n",
       "<polygon fill=\"#000000\" stroke=\"#000000\" points=\"470.6234,-174.5734 476.6543,-183.2842 477.3719,-172.7137 470.6234,-174.5734\"/>\n",
       "<text text-anchor=\"middle\" x=\"434.786\" y=\"-91.9482\" font-family=\"Times,serif\" font-size=\"14.00\" fill=\"#000000\">b </text>\n",
       "</g>\n",
       "<!-- F9&#45;&gt;F9 -->\n",
       "<g id=\"edge18\" class=\"edge\">\n",
       "<title>F9&#45;&gt;F9</title>\n",
       "<path fill=\"none\" stroke=\"#000000\" d=\"M378.6476,-47.126C377.839,-57.4058 380.6691,-66.2964 387.1378,-66.2964 391.2819,-66.2964 393.9326,-62.6477 395.09,-57.3225\"/>\n",
       "<polygon fill=\"#000000\" stroke=\"#000000\" points=\"398.5962,-57.2966 395.6281,-47.126 391.6059,-56.9276 398.5962,-57.2966\"/>\n",
       "<text text-anchor=\"middle\" x=\"387.1378\" y=\"-70.0964\" font-family=\"Times,serif\" font-size=\"14.00\" fill=\"#000000\">a </text>\n",
       "</g>\n",
       "</g>\n",
       "</svg>\n"
      ],
      "text/plain": [
       "<graphviz.dot.Digraph at 0x11037b940>"
      ]
     },
     "execution_count": 75,
     "metadata": {},
     "output_type": "execute_result"
    }
   ],
   "source": [
    "dblimp"
   ]
  },
  {
   "cell_type": "code",
   "execution_count": 76,
   "metadata": {
    "run_control": {
     "frozen": false,
     "read_only": false
    }
   },
   "outputs": [],
   "source": [
    "dblimp = dotObj_dfa(blimp, FuseEdges=True)"
   ]
  },
  {
   "cell_type": "code",
   "execution_count": 77,
   "metadata": {
    "run_control": {
     "frozen": false,
     "read_only": false
    }
   },
   "outputs": [
    {
     "data": {
      "image/svg+xml": [
       "<?xml version=\"1.0\" encoding=\"UTF-8\" standalone=\"no\"?>\n",
       "<!DOCTYPE svg PUBLIC \"-//W3C//DTD SVG 1.1//EN\"\n",
       " \"http://www.w3.org/Graphics/SVG/1.1/DTD/svg11.dtd\">\n",
       "<!-- Generated by graphviz version 2.40.1 (20161225.0304)\n",
       " -->\n",
       "<!-- Title: %3 Pages: 1 -->\n",
       "<svg width=\"548pt\" height=\"322pt\"\n",
       " viewBox=\"0.00 0.00 547.88 322.30\" xmlns=\"http://www.w3.org/2000/svg\" xmlns:xlink=\"http://www.w3.org/1999/xlink\">\n",
       "<g id=\"graph0\" class=\"graph\" transform=\"scale(1 1) rotate(0) translate(4 318.2964)\">\n",
       "<title>%3</title>\n",
       "<polygon fill=\"#ffffff\" stroke=\"transparent\" points=\"-4,4 -4,-318.2964 543.8789,-318.2964 543.8789,4 -4,4\"/>\n",
       "<!-- EMPTY -->\n",
       "<g id=\"node1\" class=\"node\">\n",
       "<title>EMPTY</title>\n",
       "</g>\n",
       "<!-- I1 -->\n",
       "<g id=\"node6\" class=\"node\">\n",
       "<title>I1</title>\n",
       "<ellipse fill=\"none\" stroke=\"#000000\" cx=\"109.1984\" cy=\"-198.1482\" rx=\"18.399\" ry=\"18.399\"/>\n",
       "<text text-anchor=\"middle\" x=\"109.1984\" y=\"-194.4482\" font-family=\"Times,serif\" font-size=\"14.00\" fill=\"#000000\">I1</text>\n",
       "</g>\n",
       "<!-- EMPTY&#45;&gt;I1 -->\n",
       "<g id=\"edge1\" class=\"edge\">\n",
       "<title>EMPTY&#45;&gt;I1</title>\n",
       "<path fill=\"none\" stroke=\"#000000\" d=\"M54.3709,-198.1482C62.7773,-198.1482 72.0494,-198.1482 80.5395,-198.1482\"/>\n",
       "<polygon fill=\"#000000\" stroke=\"#000000\" points=\"80.7515,-201.6483 90.7515,-198.1482 80.7514,-194.6483 80.7515,-201.6483\"/>\n",
       "</g>\n",
       "<!-- S5 -->\n",
       "<g id=\"node2\" class=\"node\">\n",
       "<title>S5</title>\n",
       "<ellipse fill=\"none\" stroke=\"#000000\" cx=\"355.1378\" cy=\"-168.1482\" rx=\"20.2975\" ry=\"20.2975\"/>\n",
       "<text text-anchor=\"middle\" x=\"355.1378\" y=\"-164.4482\" font-family=\"Times,serif\" font-size=\"14.00\" fill=\"#000000\">S5</text>\n",
       "</g>\n",
       "<!-- F6 -->\n",
       "<g id=\"node9\" class=\"node\">\n",
       "<title>F6</title>\n",
       "<ellipse fill=\"none\" stroke=\"#000000\" cx=\"515.7307\" cy=\"-168.1482\" rx=\"20.2726\" ry=\"20.2726\"/>\n",
       "<ellipse fill=\"none\" stroke=\"#000000\" cx=\"515.7307\" cy=\"-168.1482\" rx=\"24.2973\" ry=\"24.2973\"/>\n",
       "<text text-anchor=\"middle\" x=\"515.7307\" y=\"-164.4482\" font-family=\"Times,serif\" font-size=\"14.00\" fill=\"#000000\">F6</text>\n",
       "</g>\n",
       "<!-- S5&#45;&gt;F6 -->\n",
       "<g id=\"edge9\" class=\"edge\">\n",
       "<title>S5&#45;&gt;F6</title>\n",
       "<path fill=\"none\" stroke=\"#000000\" d=\"M375.477,-168.1482C402.0172,-168.1482 448.8609,-168.1482 481.0577,-168.1482\"/>\n",
       "<polygon fill=\"#000000\" stroke=\"#000000\" points=\"481.3647,-171.6483 491.3646,-168.1482 481.3646,-164.6483 481.3647,-171.6483\"/>\n",
       "<text text-anchor=\"middle\" x=\"417.4343\" y=\"-186.9482\" font-family=\"Times,serif\" font-size=\"14.00\" fill=\"#000000\">b </text>\n",
       "<text text-anchor=\"middle\" x=\"417.4343\" y=\"-171.9482\" font-family=\"Times,serif\" font-size=\"14.00\" fill=\"#000000\"> a </text>\n",
       "</g>\n",
       "<!-- S7 -->\n",
       "<g id=\"node3\" class=\"node\">\n",
       "<title>S7</title>\n",
       "<ellipse fill=\"none\" stroke=\"#000000\" cx=\"417.4343\" cy=\"-294.1482\" rx=\"20.2975\" ry=\"20.2975\"/>\n",
       "<text text-anchor=\"middle\" x=\"417.4343\" y=\"-290.4482\" font-family=\"Times,serif\" font-size=\"14.00\" fill=\"#000000\">S7</text>\n",
       "</g>\n",
       "<!-- S7&#45;&gt;F6 -->\n",
       "<g id=\"edge11\" class=\"edge\">\n",
       "<title>S7&#45;&gt;F6</title>\n",
       "<path fill=\"none\" stroke=\"#000000\" d=\"M433.3514,-280.9689C445.2714,-270.6202 461.5305,-255.4466 473.5825,-240.1482 483.536,-227.5136 492.785,-212.2925 500.0678,-199.1062\"/>\n",
       "<polygon fill=\"#000000\" stroke=\"#000000\" points=\"503.3489,-200.3948 505.0053,-189.9302 497.1847,-197.0778 503.3489,-200.3948\"/>\n",
       "<text text-anchor=\"middle\" x=\"466.5825\" y=\"-272.9482\" font-family=\"Times,serif\" font-size=\"14.00\" fill=\"#000000\">b </text>\n",
       "<text text-anchor=\"middle\" x=\"466.5825\" y=\"-257.9482\" font-family=\"Times,serif\" font-size=\"14.00\" fill=\"#000000\"> a </text>\n",
       "</g>\n",
       "<!-- S8 -->\n",
       "<g id=\"node4\" class=\"node\">\n",
       "<title>S8</title>\n",
       "<ellipse fill=\"none\" stroke=\"#000000\" cx=\"292.8414\" cy=\"-117.1482\" rx=\"20.2975\" ry=\"20.2975\"/>\n",
       "<text text-anchor=\"middle\" x=\"292.8414\" y=\"-113.4482\" font-family=\"Times,serif\" font-size=\"14.00\" fill=\"#000000\">S8</text>\n",
       "</g>\n",
       "<!-- S8&#45;&gt;F6 -->\n",
       "<g id=\"edge12\" class=\"edge\">\n",
       "<title>S8&#45;&gt;F6</title>\n",
       "<path fill=\"none\" stroke=\"#000000\" d=\"M312.6255,-121.149C341.1774,-126.9808 395.5615,-138.3058 441.5825,-149.1482 454.9527,-152.2982 469.6146,-156.0021 482.3453,-159.299\"/>\n",
       "<polygon fill=\"#000000\" stroke=\"#000000\" points=\"481.5198,-162.7007 492.0794,-161.8375 483.2862,-155.9273 481.5198,-162.7007\"/>\n",
       "<text text-anchor=\"middle\" x=\"417.4343\" y=\"-152.9482\" font-family=\"Times,serif\" font-size=\"14.00\" fill=\"#000000\">a </text>\n",
       "</g>\n",
       "<!-- F9 -->\n",
       "<g id=\"node10\" class=\"node\">\n",
       "<title>F9</title>\n",
       "<ellipse fill=\"none\" stroke=\"#000000\" cx=\"417.4343\" cy=\"-24.1482\" rx=\"20.2726\" ry=\"20.2726\"/>\n",
       "<ellipse fill=\"none\" stroke=\"#000000\" cx=\"417.4343\" cy=\"-24.1482\" rx=\"24.2973\" ry=\"24.2973\"/>\n",
       "<text text-anchor=\"middle\" x=\"417.4343\" y=\"-20.4482\" font-family=\"Times,serif\" font-size=\"14.00\" fill=\"#000000\">F9</text>\n",
       "</g>\n",
       "<!-- S8&#45;&gt;F9 -->\n",
       "<g id=\"edge13\" class=\"edge\">\n",
       "<title>S8&#45;&gt;F9</title>\n",
       "<path fill=\"none\" stroke=\"#000000\" d=\"M309.1297,-104.9901C329.5454,-89.7512 364.8559,-63.3944 389.5926,-44.9301\"/>\n",
       "<polygon fill=\"#000000\" stroke=\"#000000\" points=\"391.9395,-47.5459 397.8596,-38.7594 387.7522,-41.9363 391.9395,-47.5459\"/>\n",
       "<text text-anchor=\"middle\" x=\"355.1378\" y=\"-88.9482\" font-family=\"Times,serif\" font-size=\"14.00\" fill=\"#000000\">b </text>\n",
       "</g>\n",
       "<!-- S4 -->\n",
       "<g id=\"node5\" class=\"node\">\n",
       "<title>S4</title>\n",
       "<ellipse fill=\"none\" stroke=\"#000000\" cx=\"417.4343\" cy=\"-236.1482\" rx=\"20.2975\" ry=\"20.2975\"/>\n",
       "<text text-anchor=\"middle\" x=\"417.4343\" y=\"-232.4482\" font-family=\"Times,serif\" font-size=\"14.00\" fill=\"#000000\">S4</text>\n",
       "</g>\n",
       "<!-- S4&#45;&gt;F6 -->\n",
       "<g id=\"edge8\" class=\"edge\">\n",
       "<title>S4&#45;&gt;F6</title>\n",
       "<path fill=\"none\" stroke=\"#000000\" d=\"M434.1089,-224.6129C448.5684,-214.61 469.8156,-199.9116 487.0072,-188.0187\"/>\n",
       "<polygon fill=\"#000000\" stroke=\"#000000\" points=\"489.3374,-190.6626 495.5702,-182.095 485.355,-184.9058 489.3374,-190.6626\"/>\n",
       "<text text-anchor=\"middle\" x=\"466.5825\" y=\"-224.9482\" font-family=\"Times,serif\" font-size=\"14.00\" fill=\"#000000\">b </text>\n",
       "<text text-anchor=\"middle\" x=\"466.5825\" y=\"-209.9482\" font-family=\"Times,serif\" font-size=\"14.00\" fill=\"#000000\"> a </text>\n",
       "</g>\n",
       "<!-- F3 -->\n",
       "<g id=\"node7\" class=\"node\">\n",
       "<title>F3</title>\n",
       "<ellipse fill=\"none\" stroke=\"#000000\" cx=\"292.8414\" cy=\"-236.1482\" rx=\"20.2726\" ry=\"20.2726\"/>\n",
       "<ellipse fill=\"none\" stroke=\"#000000\" cx=\"292.8414\" cy=\"-236.1482\" rx=\"24.2973\" ry=\"24.2973\"/>\n",
       "<text text-anchor=\"middle\" x=\"292.8414\" y=\"-232.4482\" font-family=\"Times,serif\" font-size=\"14.00\" fill=\"#000000\">F3</text>\n",
       "</g>\n",
       "<!-- I1&#45;&gt;F3 -->\n",
       "<g id=\"edge3\" class=\"edge\">\n",
       "<title>I1&#45;&gt;F3</title>\n",
       "<path fill=\"none\" stroke=\"#000000\" d=\"M127.1412,-201.861C157.7125,-208.1869 220.3586,-221.1498 259.2583,-229.1991\"/>\n",
       "<polygon fill=\"#000000\" stroke=\"#000000\" points=\"258.5763,-232.632 269.0781,-231.231 259.9948,-225.7772 258.5763,-232.632\"/>\n",
       "<text text-anchor=\"middle\" x=\"197.545\" y=\"-223.9482\" font-family=\"Times,serif\" font-size=\"14.00\" fill=\"#000000\">b </text>\n",
       "</g>\n",
       "<!-- F2 -->\n",
       "<g id=\"node8\" class=\"node\">\n",
       "<title>F2</title>\n",
       "<ellipse fill=\"none\" stroke=\"#000000\" cx=\"197.545\" cy=\"-168.1482\" rx=\"20.2726\" ry=\"20.2726\"/>\n",
       "<ellipse fill=\"none\" stroke=\"#000000\" cx=\"197.545\" cy=\"-168.1482\" rx=\"24.2973\" ry=\"24.2973\"/>\n",
       "<text text-anchor=\"middle\" x=\"197.545\" y=\"-164.4482\" font-family=\"Times,serif\" font-size=\"14.00\" fill=\"#000000\">F2</text>\n",
       "</g>\n",
       "<!-- I1&#45;&gt;F2 -->\n",
       "<g id=\"edge2\" class=\"edge\">\n",
       "<title>I1&#45;&gt;F2</title>\n",
       "<path fill=\"none\" stroke=\"#000000\" d=\"M126.6528,-192.2212C137.5525,-188.52 151.9287,-183.6382 164.8845,-179.2388\"/>\n",
       "<polygon fill=\"#000000\" stroke=\"#000000\" points=\"166.0904,-182.5257 174.4339,-175.9961 163.8396,-175.8974 166.0904,-182.5257\"/>\n",
       "<text text-anchor=\"middle\" x=\"150.3968\" y=\"-188.9482\" font-family=\"Times,serif\" font-size=\"14.00\" fill=\"#000000\">a </text>\n",
       "</g>\n",
       "<!-- F3&#45;&gt;S7 -->\n",
       "<g id=\"edge6\" class=\"edge\">\n",
       "<title>F3&#45;&gt;S7</title>\n",
       "<path fill=\"none\" stroke=\"#000000\" d=\"M314.8293,-246.3839C335.7348,-256.1158 367.2536,-270.7883 389.8379,-281.3016\"/>\n",
       "<polygon fill=\"#000000\" stroke=\"#000000\" points=\"388.3699,-284.4789 398.9128,-285.5262 391.3241,-278.1328 388.3699,-284.4789\"/>\n",
       "<text text-anchor=\"middle\" x=\"355.1378\" y=\"-276.9482\" font-family=\"Times,serif\" font-size=\"14.00\" fill=\"#000000\">a </text>\n",
       "</g>\n",
       "<!-- F3&#45;&gt;S4 -->\n",
       "<g id=\"edge7\" class=\"edge\">\n",
       "<title>F3&#45;&gt;S4</title>\n",
       "<path fill=\"none\" stroke=\"#000000\" d=\"M317.1599,-236.1482C337.031,-236.1482 365.2386,-236.1482 386.6772,-236.1482\"/>\n",
       "<polygon fill=\"#000000\" stroke=\"#000000\" points=\"386.8909,-239.6483 396.8908,-236.1482 386.8908,-232.6483 386.8909,-239.6483\"/>\n",
       "<text text-anchor=\"middle\" x=\"355.1378\" y=\"-239.9482\" font-family=\"Times,serif\" font-size=\"14.00\" fill=\"#000000\">b </text>\n",
       "</g>\n",
       "<!-- F2&#45;&gt;S5 -->\n",
       "<g id=\"edge5\" class=\"edge\">\n",
       "<title>F2&#45;&gt;S5</title>\n",
       "<path fill=\"none\" stroke=\"#000000\" d=\"M221.8235,-168.1482C249.3525,-168.1482 294.2948,-168.1482 324.2865,-168.1482\"/>\n",
       "<polygon fill=\"#000000\" stroke=\"#000000\" points=\"324.5998,-171.6483 334.5998,-168.1482 324.5997,-164.6483 324.5998,-171.6483\"/>\n",
       "<text text-anchor=\"middle\" x=\"245.1932\" y=\"-171.9482\" font-family=\"Times,serif\" font-size=\"14.00\" fill=\"#000000\">b </text>\n",
       "</g>\n",
       "<!-- F2&#45;&gt;S8 -->\n",
       "<g id=\"edge4\" class=\"edge\">\n",
       "<title>F2&#45;&gt;S8</title>\n",
       "<path fill=\"none\" stroke=\"#000000\" d=\"M214.2098,-150.3006C221.4578,-143.445 230.4098,-136.088 239.6932,-131.1482 246.8388,-127.346 255.0845,-124.5264 262.9166,-122.4557\"/>\n",
       "<polygon fill=\"#000000\" stroke=\"#000000\" points=\"263.9005,-125.8203 272.8473,-120.1453 262.3143,-119.0024 263.9005,-125.8203\"/>\n",
       "<text text-anchor=\"middle\" x=\"245.1932\" y=\"-134.9482\" font-family=\"Times,serif\" font-size=\"14.00\" fill=\"#000000\">a </text>\n",
       "</g>\n",
       "<!-- F6&#45;&gt;F6 -->\n",
       "<g id=\"edge10\" class=\"edge\">\n",
       "<title>F6&#45;&gt;F6</title>\n",
       "<path fill=\"none\" stroke=\"#000000\" d=\"M506.9087,-190.6969C505.9463,-201.1571 508.8869,-210.2964 515.7307,-210.2964 520.2219,-210.2964 523.0322,-206.3604 524.1616,-200.6982\"/>\n",
       "<polygon fill=\"#000000\" stroke=\"#000000\" points=\"527.6591,-200.826 524.5527,-190.6969 520.6645,-200.5524 527.6591,-200.826\"/>\n",
       "<text text-anchor=\"middle\" x=\"515.7307\" y=\"-229.0964\" font-family=\"Times,serif\" font-size=\"14.00\" fill=\"#000000\">b </text>\n",
       "<text text-anchor=\"middle\" x=\"515.7307\" y=\"-214.0964\" font-family=\"Times,serif\" font-size=\"14.00\" fill=\"#000000\"> a </text>\n",
       "</g>\n",
       "<!-- F9&#45;&gt;F6 -->\n",
       "<g id=\"edge15\" class=\"edge\">\n",
       "<title>F9&#45;&gt;F6</title>\n",
       "<path fill=\"none\" stroke=\"#000000\" d=\"M434.6021,-41.4259C446.3861,-53.807 461.9388,-71.2204 473.5825,-88.1482 484.1181,-103.4652 493.9256,-121.7301 501.4241,-136.9381\"/>\n",
       "<polygon fill=\"#000000\" stroke=\"#000000\" points=\"498.2798,-138.4758 505.7805,-145.9585 504.5832,-135.4315 498.2798,-138.4758\"/>\n",
       "<text text-anchor=\"middle\" x=\"466.5825\" y=\"-91.9482\" font-family=\"Times,serif\" font-size=\"14.00\" fill=\"#000000\">b </text>\n",
       "</g>\n",
       "<!-- F9&#45;&gt;F9 -->\n",
       "<g id=\"edge14\" class=\"edge\">\n",
       "<title>F9&#45;&gt;F9</title>\n",
       "<path fill=\"none\" stroke=\"#000000\" d=\"M408.6122,-46.6969C407.6498,-57.1571 410.5905,-66.2964 417.4343,-66.2964 421.9255,-66.2964 424.7358,-62.3604 425.8651,-56.6982\"/>\n",
       "<polygon fill=\"#000000\" stroke=\"#000000\" points=\"429.3627,-56.826 426.2563,-46.6969 422.3681,-56.5524 429.3627,-56.826\"/>\n",
       "<text text-anchor=\"middle\" x=\"417.4343\" y=\"-70.0964\" font-family=\"Times,serif\" font-size=\"14.00\" fill=\"#000000\">a </text>\n",
       "</g>\n",
       "</g>\n",
       "</svg>\n"
      ],
      "text/plain": [
       "<graphviz.dot.Digraph at 0x1103c7d30>"
      ]
     },
     "execution_count": 77,
     "metadata": {},
     "output_type": "execute_result"
    }
   ],
   "source": [
    "dblimp"
   ]
  },
  {
   "cell_type": "code",
   "execution_count": 78,
   "metadata": {
    "run_control": {
     "frozen": false,
     "read_only": false
    }
   },
   "outputs": [],
   "source": [
    "mblimp = min_dfa(blimp)"
   ]
  },
  {
   "cell_type": "code",
   "execution_count": 79,
   "metadata": {
    "run_control": {
     "frozen": false,
     "read_only": false
    }
   },
   "outputs": [],
   "source": [
    "dmblimp = dotObj_dfa(mblimp)"
   ]
  },
  {
   "cell_type": "code",
   "execution_count": 80,
   "metadata": {
    "run_control": {
     "frozen": false,
     "read_only": false
    }
   },
   "outputs": [
    {
     "data": {
      "image/svg+xml": [
       "<?xml version=\"1.0\" encoding=\"UTF-8\" standalone=\"no\"?>\n",
       "<!DOCTYPE svg PUBLIC \"-//W3C//DTD SVG 1.1//EN\"\n",
       " \"http://www.w3.org/Graphics/SVG/1.1/DTD/svg11.dtd\">\n",
       "<!-- Generated by graphviz version 2.40.1 (20161225.0304)\n",
       " -->\n",
       "<!-- Title: %3 Pages: 1 -->\n",
       "<svg width=\"413pt\" height=\"122pt\"\n",
       " viewBox=\"0.00 0.00 413.29 122.30\" xmlns=\"http://www.w3.org/2000/svg\" xmlns:xlink=\"http://www.w3.org/1999/xlink\">\n",
       "<g id=\"graph0\" class=\"graph\" transform=\"scale(1 1) rotate(0) translate(4 118.2964)\">\n",
       "<title>%3</title>\n",
       "<polygon fill=\"#ffffff\" stroke=\"transparent\" points=\"-4,4 -4,-118.2964 409.286,-118.2964 409.286,4 -4,4\"/>\n",
       "<!-- EMPTY -->\n",
       "<g id=\"node1\" class=\"node\">\n",
       "<title>EMPTY</title>\n",
       "</g>\n",
       "<!-- I1 -->\n",
       "<g id=\"node3\" class=\"node\">\n",
       "<title>I1</title>\n",
       "<ellipse fill=\"none\" stroke=\"#000000\" cx=\"109.1984\" cy=\"-24.1482\" rx=\"18.399\" ry=\"18.399\"/>\n",
       "<text text-anchor=\"middle\" x=\"109.1984\" y=\"-20.4482\" font-family=\"Times,serif\" font-size=\"14.00\" fill=\"#000000\">I1</text>\n",
       "</g>\n",
       "<!-- EMPTY&#45;&gt;I1 -->\n",
       "<g id=\"edge1\" class=\"edge\">\n",
       "<title>EMPTY&#45;&gt;I1</title>\n",
       "<path fill=\"none\" stroke=\"#000000\" d=\"M54.3709,-24.1482C62.7773,-24.1482 72.0494,-24.1482 80.5395,-24.1482\"/>\n",
       "<polygon fill=\"#000000\" stroke=\"#000000\" points=\"80.7515,-27.6483 90.7515,-24.1482 80.7514,-20.6483 80.7515,-27.6483\"/>\n",
       "</g>\n",
       "<!-- S5 -->\n",
       "<g id=\"node2\" class=\"node\">\n",
       "<title>S5</title>\n",
       "<ellipse fill=\"none\" stroke=\"#000000\" cx=\"289.8414\" cy=\"-24.1482\" rx=\"20.2975\" ry=\"20.2975\"/>\n",
       "<text text-anchor=\"middle\" x=\"289.8414\" y=\"-20.4482\" font-family=\"Times,serif\" font-size=\"14.00\" fill=\"#000000\">S5</text>\n",
       "</g>\n",
       "<!-- F6 -->\n",
       "<g id=\"node5\" class=\"node\">\n",
       "<title>F6</title>\n",
       "<ellipse fill=\"none\" stroke=\"#000000\" cx=\"381.1378\" cy=\"-24.1482\" rx=\"20.2726\" ry=\"20.2726\"/>\n",
       "<ellipse fill=\"none\" stroke=\"#000000\" cx=\"381.1378\" cy=\"-24.1482\" rx=\"24.2973\" ry=\"24.2973\"/>\n",
       "<text text-anchor=\"middle\" x=\"381.1378\" y=\"-20.4482\" font-family=\"Times,serif\" font-size=\"14.00\" fill=\"#000000\">F6</text>\n",
       "</g>\n",
       "<!-- S5&#45;&gt;F6 -->\n",
       "<g id=\"edge6\" class=\"edge\">\n",
       "<title>S5&#45;&gt;F6</title>\n",
       "<path fill=\"none\" stroke=\"#000000\" d=\"M310.103,-24.1482C320.8558,-24.1482 334.3642,-24.1482 346.7063,-24.1482\"/>\n",
       "<polygon fill=\"#000000\" stroke=\"#000000\" points=\"346.7133,-27.6483 356.7133,-24.1482 346.7133,-20.6483 346.7133,-27.6483\"/>\n",
       "<text text-anchor=\"middle\" x=\"333.4896\" y=\"-27.9482\" font-family=\"Times,serif\" font-size=\"14.00\" fill=\"#000000\">a </text>\n",
       "</g>\n",
       "<!-- S5&#45;&gt;F6 -->\n",
       "<g id=\"edge7\" class=\"edge\">\n",
       "<title>S5&#45;&gt;F6</title>\n",
       "<path fill=\"none\" stroke=\"#000000\" d=\"M307.0509,-13.4683C313.3908,-10.1123 320.7873,-6.8425 327.9896,-5.1482 335.6831,-3.3383 343.8045,-4.555 351.3204,-7.0706\"/>\n",
       "<polygon fill=\"#000000\" stroke=\"#000000\" points=\"350.1869,-10.3894 360.7652,-10.9808 352.8645,-3.9217 350.1869,-10.3894\"/>\n",
       "<text text-anchor=\"middle\" x=\"333.4896\" y=\"-8.9482\" font-family=\"Times,serif\" font-size=\"14.00\" fill=\"#000000\">b </text>\n",
       "</g>\n",
       "<!-- F3 -->\n",
       "<g id=\"node4\" class=\"node\">\n",
       "<title>F3</title>\n",
       "<ellipse fill=\"none\" stroke=\"#000000\" cx=\"198.545\" cy=\"-24.1482\" rx=\"20.2726\" ry=\"20.2726\"/>\n",
       "<ellipse fill=\"none\" stroke=\"#000000\" cx=\"198.545\" cy=\"-24.1482\" rx=\"24.2973\" ry=\"24.2973\"/>\n",
       "<text text-anchor=\"middle\" x=\"198.545\" y=\"-20.4482\" font-family=\"Times,serif\" font-size=\"14.00\" fill=\"#000000\">F3</text>\n",
       "</g>\n",
       "<!-- I1&#45;&gt;F3 -->\n",
       "<g id=\"edge2\" class=\"edge\">\n",
       "<title>I1&#45;&gt;F3</title>\n",
       "<path fill=\"none\" stroke=\"#000000\" d=\"M127.7111,-24.1482C138.2532,-24.1482 151.7964,-24.1482 164.2121,-24.1482\"/>\n",
       "<polygon fill=\"#000000\" stroke=\"#000000\" points=\"164.2855,-27.6483 174.2855,-24.1482 164.2855,-20.6483 164.2855,-27.6483\"/>\n",
       "<text text-anchor=\"middle\" x=\"150.8968\" y=\"-27.9482\" font-family=\"Times,serif\" font-size=\"14.00\" fill=\"#000000\">a </text>\n",
       "</g>\n",
       "<!-- I1&#45;&gt;F3 -->\n",
       "<g id=\"edge3\" class=\"edge\">\n",
       "<title>I1&#45;&gt;F3</title>\n",
       "<path fill=\"none\" stroke=\"#000000\" d=\"M124.3942,-14.0777C130.6304,-10.5158 138.092,-6.9488 145.3968,-5.1482 153.0706,-3.2566 161.1847,-4.443 168.6999,-6.9557\"/>\n",
       "<polygon fill=\"#000000\" stroke=\"#000000\" points=\"167.5691,-10.2757 178.147,-10.8753 170.2518,-3.8102 167.5691,-10.2757\"/>\n",
       "<text text-anchor=\"middle\" x=\"150.8968\" y=\"-8.9482\" font-family=\"Times,serif\" font-size=\"14.00\" fill=\"#000000\">b </text>\n",
       "</g>\n",
       "<!-- F3&#45;&gt;S5 -->\n",
       "<g id=\"edge4\" class=\"edge\">\n",
       "<title>F3&#45;&gt;S5</title>\n",
       "<path fill=\"none\" stroke=\"#000000\" d=\"M223.0107,-24.1482C234.172,-24.1482 247.5041,-24.1482 259.3139,-24.1482\"/>\n",
       "<polygon fill=\"#000000\" stroke=\"#000000\" points=\"259.6258,-27.6483 269.6258,-24.1482 259.6258,-20.6483 259.6258,-27.6483\"/>\n",
       "<text text-anchor=\"middle\" x=\"246.1932\" y=\"-27.9482\" font-family=\"Times,serif\" font-size=\"14.00\" fill=\"#000000\">a </text>\n",
       "</g>\n",
       "<!-- F3&#45;&gt;S5 -->\n",
       "<g id=\"edge5\" class=\"edge\">\n",
       "<title>F3&#45;&gt;S5</title>\n",
       "<path fill=\"none\" stroke=\"#000000\" d=\"M218.9176,-10.9808C228.6786,-6.2023 240.6284,-2.5452 251.6932,-5.1482 255.632,-6.0748 259.6288,-7.4726 263.4792,-9.0979\"/>\n",
       "<polygon fill=\"#000000\" stroke=\"#000000\" points=\"262.0997,-12.3178 272.6319,-13.4683 265.116,-6.0009 262.0997,-12.3178\"/>\n",
       "<text text-anchor=\"middle\" x=\"246.1932\" y=\"-8.9482\" font-family=\"Times,serif\" font-size=\"14.00\" fill=\"#000000\">b </text>\n",
       "</g>\n",
       "<!-- F6&#45;&gt;F6 -->\n",
       "<g id=\"edge8\" class=\"edge\">\n",
       "<title>F6&#45;&gt;F6</title>\n",
       "<path fill=\"none\" stroke=\"#000000\" d=\"M376.8632,-47.9793C376.5684,-57.8929 377.9933,-66.2964 381.1378,-66.2964 383.1032,-66.2964 384.3968,-63.0138 385.0186,-58.1315\"/>\n",
       "<polygon fill=\"#000000\" stroke=\"#000000\" points=\"388.5221,-58.1074 385.4124,-47.9793 381.5273,-57.836 388.5221,-58.1074\"/>\n",
       "<text text-anchor=\"middle\" x=\"381.1378\" y=\"-70.0964\" font-family=\"Times,serif\" font-size=\"14.00\" fill=\"#000000\">a </text>\n",
       "</g>\n",
       "<!-- F6&#45;&gt;F6 -->\n",
       "<g id=\"edge9\" class=\"edge\">\n",
       "<title>F6&#45;&gt;F6</title>\n",
       "<path fill=\"none\" stroke=\"#000000\" d=\"M373.6757,-47.2958C370.7891,-65.5582 373.2765,-84.2964 381.1378,-84.2964 387.5252,-84.2964 390.3648,-71.9263 389.6569,-57.492\"/>\n",
       "<polygon fill=\"#000000\" stroke=\"#000000\" points=\"393.1124,-56.8816 388.6,-47.2958 386.1498,-57.6034 393.1124,-56.8816\"/>\n",
       "<text text-anchor=\"middle\" x=\"381.1378\" y=\"-88.0964\" font-family=\"Times,serif\" font-size=\"14.00\" fill=\"#000000\">b </text>\n",
       "</g>\n",
       "</g>\n",
       "</svg>\n"
      ],
      "text/plain": [
       "<graphviz.dot.Digraph at 0x1103c2da0>"
      ]
     },
     "execution_count": 80,
     "metadata": {},
     "output_type": "execute_result"
    }
   ],
   "source": [
    "dmblimp"
   ]
  },
  {
   "cell_type": "markdown",
   "metadata": {
    "run_control": {
     "frozen": false,
     "read_only": false
    }
   },
   "source": [
    "# Minimized \"blimp\" machine\n",
    "\n",
    "The minimized blimp machine is indeed quite small.\n"
   ]
  },
  {
   "cell_type": "code",
   "execution_count": 81,
   "metadata": {},
   "outputs": [],
   "source": [
    "OddEnds1 = md2mc('''\n",
    "DFA\n",
    "I : 1 -> F\n",
    "I : 0 -> A\n",
    "A : 0|1 -> I\n",
    "F : 0|1 -> I\n",
    "''')"
   ]
  },
  {
   "cell_type": "code",
   "execution_count": 82,
   "metadata": {},
   "outputs": [
    {
     "data": {
      "image/svg+xml": [
       "<?xml version=\"1.0\" encoding=\"UTF-8\" standalone=\"no\"?>\n",
       "<!DOCTYPE svg PUBLIC \"-//W3C//DTD SVG 1.1//EN\"\n",
       " \"http://www.w3.org/Graphics/SVG/1.1/DTD/svg11.dtd\">\n",
       "<!-- Generated by graphviz version 2.40.1 (20161225.0304)\n",
       " -->\n",
       "<!-- Title: %3 Pages: 1 -->\n",
       "<svg width=\"226pt\" height=\"178pt\"\n",
       " viewBox=\"0.00 0.00 226.00 178.00\" xmlns=\"http://www.w3.org/2000/svg\" xmlns:xlink=\"http://www.w3.org/1999/xlink\">\n",
       "<g id=\"graph0\" class=\"graph\" transform=\"scale(1 1) rotate(0) translate(4 174)\">\n",
       "<title>%3</title>\n",
       "<polygon fill=\"#ffffff\" stroke=\"transparent\" points=\"-4,4 -4,-174 222,-174 222,4 -4,4\"/>\n",
       "<!-- EMPTY -->\n",
       "<g id=\"node1\" class=\"node\">\n",
       "<title>EMPTY</title>\n",
       "</g>\n",
       "<!-- I -->\n",
       "<g id=\"node2\" class=\"node\">\n",
       "<title>I</title>\n",
       "<ellipse fill=\"none\" stroke=\"#000000\" cx=\"109\" cy=\"-79\" rx=\"18\" ry=\"18\"/>\n",
       "<text text-anchor=\"middle\" x=\"109\" y=\"-75.3\" font-family=\"Times,serif\" font-size=\"14.00\" fill=\"#000000\">I</text>\n",
       "</g>\n",
       "<!-- EMPTY&#45;&gt;I -->\n",
       "<g id=\"edge1\" class=\"edge\">\n",
       "<title>EMPTY&#45;&gt;I</title>\n",
       "<path fill=\"none\" stroke=\"#000000\" d=\"M54.3048,-79C62.6909,-79 71.9407,-79 80.4103,-79\"/>\n",
       "<polygon fill=\"#000000\" stroke=\"#000000\" points=\"80.5976,-82.5001 90.5976,-79 80.5976,-75.5001 80.5976,-82.5001\"/>\n",
       "</g>\n",
       "<!-- A -->\n",
       "<g id=\"node3\" class=\"node\">\n",
       "<title>A</title>\n",
       "<ellipse fill=\"none\" stroke=\"#000000\" cx=\"196\" cy=\"-136\" rx=\"18\" ry=\"18\"/>\n",
       "<text text-anchor=\"middle\" x=\"196\" y=\"-132.3\" font-family=\"Times,serif\" font-size=\"14.00\" fill=\"#000000\">A</text>\n",
       "</g>\n",
       "<!-- I&#45;&gt;A -->\n",
       "<g id=\"edge3\" class=\"edge\">\n",
       "<title>I&#45;&gt;A</title>\n",
       "<path fill=\"none\" stroke=\"#000000\" d=\"M112.2116,-96.7342C116.4221,-114.2102 125.68,-139.9861 145,-152 153.3051,-157.1644 163.4157,-155.3649 172.4376,-151.4601\"/>\n",
       "<polygon fill=\"#000000\" stroke=\"#000000\" points=\"174.0712,-154.5556 181.324,-146.8324 170.838,-148.347 174.0712,-154.5556\"/>\n",
       "<text text-anchor=\"middle\" x=\"150.5\" y=\"-158.8\" font-family=\"Times,serif\" font-size=\"14.00\" fill=\"#000000\">0 </text>\n",
       "</g>\n",
       "<!-- F -->\n",
       "<g id=\"node4\" class=\"node\">\n",
       "<title>F</title>\n",
       "<ellipse fill=\"none\" stroke=\"#000000\" cx=\"196\" cy=\"-22\" rx=\"18\" ry=\"18\"/>\n",
       "<ellipse fill=\"none\" stroke=\"#000000\" cx=\"196\" cy=\"-22\" rx=\"22\" ry=\"22\"/>\n",
       "<text text-anchor=\"middle\" x=\"196\" y=\"-18.3\" font-family=\"Times,serif\" font-size=\"14.00\" fill=\"#000000\">F</text>\n",
       "</g>\n",
       "<!-- I&#45;&gt;F -->\n",
       "<g id=\"edge2\" class=\"edge\">\n",
       "<title>I&#45;&gt;F</title>\n",
       "<path fill=\"none\" stroke=\"#000000\" d=\"M124.1542,-69.0714C136.4104,-61.0415 153.9839,-49.5278 168.6825,-39.8977\"/>\n",
       "<polygon fill=\"#000000\" stroke=\"#000000\" points=\"170.9432,-42.6009 177.3897,-34.193 167.107,-36.7456 170.9432,-42.6009\"/>\n",
       "<text text-anchor=\"middle\" x=\"150.5\" y=\"-56.8\" font-family=\"Times,serif\" font-size=\"14.00\" fill=\"#000000\">1 </text>\n",
       "</g>\n",
       "<!-- A&#45;&gt;I -->\n",
       "<g id=\"edge4\" class=\"edge\">\n",
       "<title>A&#45;&gt;I</title>\n",
       "<path fill=\"none\" stroke=\"#000000\" d=\"M178.6713,-130.321C168.4101,-126.5313 155.4214,-120.9669 145,-114 139.06,-110.029 133.233,-105.0126 128.0557,-100.0275\"/>\n",
       "<polygon fill=\"#000000\" stroke=\"#000000\" points=\"130.5118,-97.5334 120.9977,-92.8715 125.528,-102.4489 130.5118,-97.5334\"/>\n",
       "<text text-anchor=\"middle\" x=\"150.5\" y=\"-123.8\" font-family=\"Times,serif\" font-size=\"14.00\" fill=\"#000000\">0 </text>\n",
       "</g>\n",
       "<!-- A&#45;&gt;I -->\n",
       "<g id=\"edge5\" class=\"edge\">\n",
       "<title>A&#45;&gt;I</title>\n",
       "<path fill=\"none\" stroke=\"#000000\" d=\"M184.7508,-121.3913C177.389,-112.687 167.1011,-102.0053 156,-95 150.1638,-91.3171 143.3811,-88.3729 136.8147,-86.0655\"/>\n",
       "<polygon fill=\"#000000\" stroke=\"#000000\" points=\"137.43,-82.591 126.8413,-82.9493 135.3423,-89.2724 137.43,-82.591\"/>\n",
       "<text text-anchor=\"middle\" x=\"150.5\" y=\"-98.8\" font-family=\"Times,serif\" font-size=\"14.00\" fill=\"#000000\">1 </text>\n",
       "</g>\n",
       "<!-- F&#45;&gt;I -->\n",
       "<g id=\"edge6\" class=\"edge\">\n",
       "<title>F&#45;&gt;I</title>\n",
       "<path fill=\"none\" stroke=\"#000000\" d=\"M173.8853,-21.2549C164.411,-21.8552 153.5772,-23.8401 145,-29 135.376,-34.7897 127.5905,-44.2414 121.7543,-53.3772\"/>\n",
       "<polygon fill=\"#000000\" stroke=\"#000000\" points=\"118.588,-51.8591 116.5721,-62.2603 124.6343,-55.3864 118.588,-51.8591\"/>\n",
       "<text text-anchor=\"middle\" x=\"150.5\" y=\"-32.8\" font-family=\"Times,serif\" font-size=\"14.00\" fill=\"#000000\">0 </text>\n",
       "</g>\n",
       "<!-- F&#45;&gt;I -->\n",
       "<g id=\"edge7\" class=\"edge\">\n",
       "<title>F&#45;&gt;I</title>\n",
       "<path fill=\"none\" stroke=\"#000000\" d=\"M178.0959,-8.7482C167.8779,-2.9143 155.1279,1.3357 145,-5 128.8512,-15.1022 119.7585,-34.7539 114.7524,-51.2679\"/>\n",
       "<polygon fill=\"#000000\" stroke=\"#000000\" points=\"111.3439,-50.4662 112.137,-61.0313 118.1055,-52.2776 111.3439,-50.4662\"/>\n",
       "<text text-anchor=\"middle\" x=\"150.5\" y=\"-8.8\" font-family=\"Times,serif\" font-size=\"14.00\" fill=\"#000000\">1 </text>\n",
       "</g>\n",
       "</g>\n",
       "</svg>\n"
      ],
      "text/plain": [
       "<graphviz.dot.Digraph at 0x1103db358>"
      ]
     },
     "execution_count": 82,
     "metadata": {},
     "output_type": "execute_result"
    }
   ],
   "source": [
    "dotObj_dfa(OddEnds1)"
   ]
  },
  {
   "cell_type": "code",
   "execution_count": 83,
   "metadata": {},
   "outputs": [
    {
     "data": {
      "text/plain": [
       "{'Q': {'A', 'F', 'I'},\n",
       " 'Sigma': {'0', '1'},\n",
       " 'Delta': {('I', '1'): 'F',\n",
       "  ('I', '0'): 'A',\n",
       "  ('A', '0'): 'I',\n",
       "  ('A', '1'): 'I',\n",
       "  ('F', '0'): 'I',\n",
       "  ('F', '1'): 'I'},\n",
       " 'q0': 'I',\n",
       " 'F': {'F'}}"
      ]
     },
     "execution_count": 83,
     "metadata": {},
     "output_type": "execute_result"
    }
   ],
   "source": [
    "OddEnds1"
   ]
  },
  {
   "cell_type": "code",
   "execution_count": 84,
   "metadata": {},
   "outputs": [
    {
     "data": {
      "text/plain": [
       "{'A', 'F', 'I'}"
      ]
     },
     "execution_count": 84,
     "metadata": {},
     "output_type": "execute_result"
    }
   ],
   "source": [
    "OddEnds1[\"Q\"]"
   ]
  },
  {
   "cell_type": "code",
   "execution_count": 85,
   "metadata": {},
   "outputs": [
    {
     "data": {
      "text/plain": [
       "{'0', '1'}"
      ]
     },
     "execution_count": 85,
     "metadata": {},
     "output_type": "execute_result"
    }
   ],
   "source": [
    "OddEnds1[\"Sigma\"]"
   ]
  },
  {
   "cell_type": "code",
   "execution_count": 86,
   "metadata": {},
   "outputs": [
    {
     "data": {
      "text/plain": [
       "'I'"
      ]
     },
     "execution_count": 86,
     "metadata": {},
     "output_type": "execute_result"
    }
   ],
   "source": [
    "OddEnds1[\"q0\"]"
   ]
  },
  {
   "cell_type": "code",
   "execution_count": 87,
   "metadata": {},
   "outputs": [
    {
     "data": {
      "text/plain": [
       "{'F'}"
      ]
     },
     "execution_count": 87,
     "metadata": {},
     "output_type": "execute_result"
    }
   ],
   "source": [
    "OddEnds1[\"F\"]"
   ]
  },
  {
   "cell_type": "code",
   "execution_count": 88,
   "metadata": {},
   "outputs": [
    {
     "data": {
      "text/plain": [
       "{('I', '1'): 'F',\n",
       " ('I', '0'): 'A',\n",
       " ('A', '0'): 'I',\n",
       " ('A', '1'): 'I',\n",
       " ('F', '0'): 'I',\n",
       " ('F', '1'): 'I'}"
      ]
     },
     "execution_count": 88,
     "metadata": {},
     "output_type": "execute_result"
    }
   ],
   "source": [
    "OddEnds1[\"Delta\"]"
   ]
  },
  {
   "cell_type": "code",
   "execution_count": 89,
   "metadata": {},
   "outputs": [
    {
     "data": {
      "text/plain": [
       "'F'"
      ]
     },
     "execution_count": 89,
     "metadata": {},
     "output_type": "execute_result"
    }
   ],
   "source": [
    "OddEnds1[\"Delta\"][('I','1')]"
   ]
  },
  {
   "cell_type": "code",
   "execution_count": 90,
   "metadata": {},
   "outputs": [
    {
     "data": {
      "text/plain": [
       "3"
      ]
     },
     "execution_count": 90,
     "metadata": {},
     "output_type": "execute_result"
    }
   ],
   "source": [
    "len(OddEnds1[\"Q\"])"
   ]
  },
  {
   "cell_type": "code",
   "execution_count": null,
   "metadata": {},
   "outputs": [],
   "source": []
  },
  {
   "cell_type": "code",
   "execution_count": null,
   "metadata": {},
   "outputs": [],
   "source": []
  }
 ],
 "metadata": {
  "kernelspec": {
   "display_name": "Python 3",
   "language": "python",
   "name": "python3"
  },
  "language_info": {
   "codemirror_mode": {
    "name": "ipython",
    "version": 3
   },
   "file_extension": ".py",
   "mimetype": "text/x-python",
   "name": "python",
   "nbconvert_exporter": "python",
   "pygments_lexer": "ipython3",
   "version": "3.7.3"
  },
  "toc": {
   "colors": {
    "hover_highlight": "#DAA520",
    "running_highlight": "#FF0000",
    "selected_highlight": "#FFD700"
   },
   "moveMenuLeft": true,
   "nav_menu": {
    "height": "318px",
    "width": "252px"
   },
   "navigate_menu": true,
   "number_sections": true,
   "sideBar": true,
   "threshold": 4,
   "toc_cell": false,
   "toc_section_display": "block",
   "toc_window_display": false,
   "widenNotebook": false
  }
 },
 "nbformat": 4,
 "nbformat_minor": 1
}
