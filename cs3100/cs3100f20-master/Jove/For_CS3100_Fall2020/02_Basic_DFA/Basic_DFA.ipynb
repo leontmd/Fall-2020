{
 "cells": [
  {
   "cell_type": "markdown",
   "metadata": {
    "run_control": {
     "frozen": false,
     "read_only": false
    }
   },
   "source": [
    "# DFA: Basics, and Designing Them (Ch 4)"
   ]
  },
  {
   "cell_type": "code",
   "execution_count": 1,
   "metadata": {
    "run_control": {
     "frozen": false,
     "read_only": false
    }
   },
   "outputs": [
    {
     "name": "stdout",
     "output_type": "stream",
     "text": [
      "You may use any of these help commands:\n",
      "help(ResetStNum)\n",
      "help(NxtStateStr)\n",
      "\n",
      "You may use any of these help commands:\n",
      "help(md2mc)\n",
      ".. and if you want to dig more, then ..\n",
      "help(default_line_attr)\n",
      "help(length_ok_input_items)\n",
      "help(union_line_attr_list_fld)\n",
      "help(extend_rsltdict)\n",
      "help(form_delta)\n",
      "help(get_machine_components)\n",
      "\n",
      "You may use any of these help commands:\n",
      "help(mkp_dfa)\n",
      "help(mk_dfa)\n",
      "help(totalize_dfa)\n",
      "help(addtosigma_delta)\n",
      "help(step_dfa)\n",
      "help(run_dfa)\n",
      "help(accepts_dfa)\n",
      "help(comp_dfa)\n",
      "help(union_dfa)\n",
      "help(intersect_dfa)\n",
      "help(pruneUnreach)\n",
      "help(iso_dfa)\n",
      "help(langeq_dfa)\n",
      "help(same_status)\n",
      "help(h_langeq_dfa)\n",
      "help(fixptDist)\n",
      "help(min_dfa)\n",
      "help(pairFR)\n",
      "help(state_combos)\n",
      "help(sepFinNonFin)\n",
      "help(bash_eql_classes)\n",
      "help(listminus)\n",
      "help(bash_1)\n",
      "help(mk_rep_eqc)\n",
      "help(F_of)\n",
      "help(rep_of_s)\n",
      "help(q0_of)\n",
      "help(Delta_of)\n",
      "help(mk_state_eqc_name)\n",
      "\n",
      "You may use any of these help commands:\n",
      "help(lphi)\n",
      "help(lunit)\n",
      "help(lcat)\n",
      "help(lexp)\n",
      "help(lunion)\n",
      "help(lstar)\n",
      "help(srev)\n",
      "help(lrev)\n",
      "help(shomo)\n",
      "help(lhomo)\n",
      "help(powset)\n",
      "help(lint)\n",
      "help(lsymdiff)\n",
      "help(lminus)\n",
      "help(lissubset)\n",
      "help(lissuperset)\n",
      "help(lcomplem)\n",
      "help(product)\n",
      "help(nthnumeric)\n",
      "\n"
     ]
    }
   ],
   "source": [
    "#~~~~~~~~~~~~~~~~~~~~~~~~~~~~~~~~~~~~~~~~~~~~~~~~~~~~~~~\n",
    "import sys\n",
    "\n",
    "# -- Detect if in Own Install or in Colab\n",
    "try:\n",
    "    import google.colab\n",
    "    OWN_INSTALL = False\n",
    "except:\n",
    "    OWN_INSTALL = True\n",
    "    \n",
    "if OWN_INSTALL:\n",
    "    \n",
    "  #---- Leave these definitions ON if running on laptop\n",
    "  #---- Else turn OFF by putting them between ''' ... '''\n",
    "\n",
    "  sys.path[0:0] = ['../../../../..',  '../../../../../3rdparty',  \n",
    "                   '../../../..',  '../../../../3rdparty',  \n",
    "                   '../../..',     '../../../3rdparty', \n",
    "                   '../..',        '../../3rdparty',\n",
    "                   '..',           '../3rdparty' ]\n",
    "\n",
    "else: # In colab\n",
    "  ! if [ ! -d Jove ]; then git clone https://github.com/ganeshutah/Jove Jove; fi\n",
    "  sys.path.append('./Jove')\n",
    "  sys.path.append('./Jove/jove')\n",
    "\n",
    "# -- common imports --\n",
    "from jove.DotBashers import *\n",
    "from jove.Def_md2mc  import *\n",
    "from jove.Def_DFA    import *\n",
    "from jove.LangDef    import *  # for testing DFA actions\n",
    "#~~~~~~~~~~~~~~~~~~~~~~~~~~~~~~~~~~~~~~~~~~~~~~~~~~~~~~~"
   ]
  },
  {
   "cell_type": "markdown",
   "metadata": {
    "run_control": {
     "frozen": false,
     "read_only": false
    }
   },
   "source": [
    "# What are DFA?\n",
    "\n",
    "DFA are mechanisms to specify a simple yet powerful family of languages called\n",
    "Regular Languages. Below, we define Regular Languages. Then we present how DFA\n",
    "help define regular languages in two ways: One via Graphs, and the other via\n",
    "Symbol and String Transition Functions."
   ]
  },
  {
   "cell_type": "markdown",
   "metadata": {
    "run_control": {
     "frozen": false,
     "read_only": false
    }
   },
   "source": [
    "## From Languages to Regular Languages\n",
    "\n",
    "We will now study __regular languages__. \n",
    "\n",
    "L is a regular language if L has a DFA. \n",
    "\n",
    "L is a regular language if there is a DFA D such that D accepts *all* and *only* those strings in L."
   ]
  },
  {
   "cell_type": "markdown",
   "metadata": {
    "run_control": {
     "frozen": false,
     "read_only": false
    }
   },
   "source": [
    "## DFA as Graphs: Define Regular Languages\n",
    "\n",
    "DFA drawings are graphs. A string w is in a DFA D's language if there is a path from the initial state to *a* final state of D labeled by w."
   ]
  },
  {
   "cell_type": "markdown",
   "metadata": {
    "run_control": {
     "frozen": false,
     "read_only": false
    }
   },
   "source": [
    "## DFA as Symbol and String Transition Functions\n",
    "\n",
    "A DFA is a quintuple $(Q, \\Sigma, \\delta, q_0, F)$. Its Python encoding looks as below."
   ]
  },
  {
   "cell_type": "code",
   "execution_count": 2,
   "metadata": {
    "run_control": {
     "frozen": false,
     "read_only": false
    }
   },
   "outputs": [],
   "source": [
    "Fig34 = {\n",
    " 'Q': {'A', 'F', 'I'},\n",
    " 'Sigma': {'0', '1'},\n",
    " 'Delta': {('A', '0'): 'I',\n",
    "  ('A', '1'): 'I',\n",
    "  ('F', '0'): 'I',\n",
    "  ('F', '1'): 'I',\n",
    "  ('I', '0'): 'A',\n",
    "  ('I', '1'): 'F'},\n",
    " 'q0': 'I',\n",
    " 'F': {'F'}\n",
    "}"
   ]
  },
  {
   "cell_type": "code",
   "execution_count": 3,
   "metadata": {
    "run_control": {
     "frozen": false,
     "read_only": false
    }
   },
   "outputs": [
    {
     "data": {
      "image/svg+xml": [
       "<?xml version=\"1.0\" encoding=\"UTF-8\" standalone=\"no\"?>\n",
       "<!DOCTYPE svg PUBLIC \"-//W3C//DTD SVG 1.1//EN\"\n",
       " \"http://www.w3.org/Graphics/SVG/1.1/DTD/svg11.dtd\">\n",
       "<!-- Generated by graphviz version 2.40.1 (20161225.0304)\n",
       " -->\n",
       "<!-- Title: %3 Pages: 1 -->\n",
       "<svg width=\"226pt\" height=\"168pt\"\n",
       " viewBox=\"0.00 0.00 226.00 168.20\" xmlns=\"http://www.w3.org/2000/svg\" xmlns:xlink=\"http://www.w3.org/1999/xlink\">\n",
       "<g id=\"graph0\" class=\"graph\" transform=\"scale(1 1) rotate(0) translate(4 164.1965)\">\n",
       "<title>%3</title>\n",
       "<polygon fill=\"#ffffff\" stroke=\"transparent\" points=\"-4,4 -4,-164.1965 222,-164.1965 222,4 -4,4\"/>\n",
       "<!-- EMPTY -->\n",
       "<g id=\"node1\" class=\"node\">\n",
       "<title>EMPTY</title>\n",
       "</g>\n",
       "<!-- I -->\n",
       "<g id=\"node3\" class=\"node\">\n",
       "<title>I</title>\n",
       "<ellipse fill=\"none\" stroke=\"#000000\" cx=\"109\" cy=\"-82.1965\" rx=\"18\" ry=\"18\"/>\n",
       "<text text-anchor=\"middle\" x=\"109\" y=\"-78.4965\" font-family=\"Times,serif\" font-size=\"14.00\" fill=\"#000000\">I</text>\n",
       "</g>\n",
       "<!-- EMPTY&#45;&gt;I -->\n",
       "<g id=\"edge1\" class=\"edge\">\n",
       "<title>EMPTY&#45;&gt;I</title>\n",
       "<path fill=\"none\" stroke=\"#000000\" d=\"M54.3048,-82.1965C62.6909,-82.1965 71.9407,-82.1965 80.4103,-82.1965\"/>\n",
       "<polygon fill=\"#000000\" stroke=\"#000000\" points=\"80.5976,-85.6966 90.5976,-82.1965 80.5976,-78.6966 80.5976,-85.6966\"/>\n",
       "</g>\n",
       "<!-- A -->\n",
       "<g id=\"node2\" class=\"node\">\n",
       "<title>A</title>\n",
       "<ellipse fill=\"none\" stroke=\"#000000\" cx=\"196\" cy=\"-139.1965\" rx=\"18\" ry=\"18\"/>\n",
       "<text text-anchor=\"middle\" x=\"196\" y=\"-135.4965\" font-family=\"Times,serif\" font-size=\"14.00\" fill=\"#000000\">A</text>\n",
       "</g>\n",
       "<!-- A&#45;&gt;I -->\n",
       "<g id=\"edge2\" class=\"edge\">\n",
       "<title>A&#45;&gt;I</title>\n",
       "<path fill=\"none\" stroke=\"#000000\" d=\"M178.6713,-133.5175C168.4101,-129.7278 155.4214,-124.1634 145,-117.1965 139.06,-113.2255 133.233,-108.2091 128.0557,-103.224\"/>\n",
       "<polygon fill=\"#000000\" stroke=\"#000000\" points=\"130.5118,-100.7299 120.9977,-96.068 125.528,-105.6454 130.5118,-100.7299\"/>\n",
       "<text text-anchor=\"middle\" x=\"150.5\" y=\"-126.9965\" font-family=\"Times,serif\" font-size=\"14.00\" fill=\"#000000\">0 </text>\n",
       "</g>\n",
       "<!-- A&#45;&gt;I -->\n",
       "<g id=\"edge3\" class=\"edge\">\n",
       "<title>A&#45;&gt;I</title>\n",
       "<path fill=\"none\" stroke=\"#000000\" d=\"M184.7508,-124.5879C177.389,-115.8835 167.1011,-105.2018 156,-98.1965 150.1638,-94.5136 143.3811,-91.5694 136.8147,-89.2621\"/>\n",
       "<polygon fill=\"#000000\" stroke=\"#000000\" points=\"137.43,-85.7875 126.8413,-86.1458 135.3423,-92.469 137.43,-85.7875\"/>\n",
       "<text text-anchor=\"middle\" x=\"150.5\" y=\"-101.9965\" font-family=\"Times,serif\" font-size=\"14.00\" fill=\"#000000\">1 </text>\n",
       "</g>\n",
       "<!-- I&#45;&gt;A -->\n",
       "<g id=\"edge6\" class=\"edge\">\n",
       "<title>I&#45;&gt;A</title>\n",
       "<path fill=\"none\" stroke=\"#000000\" d=\"M114.1448,-99.6364C119.381,-113.9079 129.0377,-133.1588 145,-142.1965 151.9765,-146.1466 160.3847,-146.9332 168.3436,-146.2978\"/>\n",
       "<polygon fill=\"#000000\" stroke=\"#000000\" points=\"169.0199,-149.7356 178.3895,-144.79 167.9808,-142.8132 169.0199,-149.7356\"/>\n",
       "<text text-anchor=\"middle\" x=\"150.5\" y=\"-148.9965\" font-family=\"Times,serif\" font-size=\"14.00\" fill=\"#000000\">0 </text>\n",
       "</g>\n",
       "<!-- F -->\n",
       "<g id=\"node4\" class=\"node\">\n",
       "<title>F</title>\n",
       "<ellipse fill=\"none\" stroke=\"#000000\" cx=\"196\" cy=\"-25.1965\" rx=\"18\" ry=\"18\"/>\n",
       "<ellipse fill=\"none\" stroke=\"#000000\" cx=\"196\" cy=\"-25.1965\" rx=\"22\" ry=\"22\"/>\n",
       "<text text-anchor=\"middle\" x=\"196\" y=\"-21.4965\" font-family=\"Times,serif\" font-size=\"14.00\" fill=\"#000000\">F</text>\n",
       "</g>\n",
       "<!-- I&#45;&gt;F -->\n",
       "<g id=\"edge7\" class=\"edge\">\n",
       "<title>I&#45;&gt;F</title>\n",
       "<path fill=\"none\" stroke=\"#000000\" d=\"M124.1542,-72.2679C136.4104,-64.238 153.9839,-52.7243 168.6825,-43.0942\"/>\n",
       "<polygon fill=\"#000000\" stroke=\"#000000\" points=\"170.9432,-45.7974 177.3897,-37.3895 167.107,-39.9422 170.9432,-45.7974\"/>\n",
       "<text text-anchor=\"middle\" x=\"150.5\" y=\"-59.9965\" font-family=\"Times,serif\" font-size=\"14.00\" fill=\"#000000\">1 </text>\n",
       "</g>\n",
       "<!-- F&#45;&gt;I -->\n",
       "<g id=\"edge4\" class=\"edge\">\n",
       "<title>F&#45;&gt;I</title>\n",
       "<path fill=\"none\" stroke=\"#000000\" d=\"M174.2157,-21.2148C164.6965,-20.5485 153.736,-21.3154 145,-26.1965 133.3338,-32.7149 124.862,-44.769 119.0789,-56.0284\"/>\n",
       "<polygon fill=\"#000000\" stroke=\"#000000\" points=\"115.8758,-54.6162 114.8425,-65.1606 122.2258,-57.5621 115.8758,-54.6162\"/>\n",
       "<text text-anchor=\"middle\" x=\"150.5\" y=\"-29.9965\" font-family=\"Times,serif\" font-size=\"14.00\" fill=\"#000000\">0 </text>\n",
       "</g>\n",
       "<!-- F&#45;&gt;I -->\n",
       "<g id=\"edge5\" class=\"edge\">\n",
       "<title>F&#45;&gt;I</title>\n",
       "<path fill=\"none\" stroke=\"#000000\" d=\"M179.6959,-10.2067C169.3312,-2.5616 155.8673,3.7938 145,-3.1965 127.6217,-14.3749 118.5321,-36.2367 113.8375,-54.1337\"/>\n",
       "<polygon fill=\"#000000\" stroke=\"#000000\" points=\"110.3753,-53.573 111.5518,-64.1023 117.1982,-55.1375 110.3753,-53.573\"/>\n",
       "<text text-anchor=\"middle\" x=\"150.5\" y=\"-6.9965\" font-family=\"Times,serif\" font-size=\"14.00\" fill=\"#000000\">1 </text>\n",
       "</g>\n",
       "</g>\n",
       "</svg>\n"
      ],
      "text/plain": [
       "<graphviz.dot.Digraph at 0x112205710>"
      ]
     },
     "execution_count": 3,
     "metadata": {},
     "output_type": "execute_result"
    }
   ],
   "source": [
    "dotObj_dfa(Fig34)"
   ]
  },
  {
   "cell_type": "markdown",
   "metadata": {},
   "source": [
    "## A prettier diagram is obtained by fusing edges"
   ]
  },
  {
   "cell_type": "code",
   "execution_count": 4,
   "metadata": {},
   "outputs": [
    {
     "data": {
      "image/svg+xml": [
       "<?xml version=\"1.0\" encoding=\"UTF-8\" standalone=\"no\"?>\n",
       "<!DOCTYPE svg PUBLIC \"-//W3C//DTD SVG 1.1//EN\"\n",
       " \"http://www.w3.org/Graphics/SVG/1.1/DTD/svg11.dtd\">\n",
       "<!-- Generated by graphviz version 2.40.1 (20161225.0304)\n",
       " -->\n",
       "<!-- Title: %3 Pages: 1 -->\n",
       "<svg width=\"230pt\" height=\"150pt\"\n",
       " viewBox=\"0.00 0.00 230.00 150.01\" xmlns=\"http://www.w3.org/2000/svg\" xmlns:xlink=\"http://www.w3.org/1999/xlink\">\n",
       "<g id=\"graph0\" class=\"graph\" transform=\"scale(1 1) rotate(0) translate(4 146.0089)\">\n",
       "<title>%3</title>\n",
       "<polygon fill=\"#ffffff\" stroke=\"transparent\" points=\"-4,4 -4,-146.0089 226,-146.0089 226,4 -4,4\"/>\n",
       "<!-- EMPTY -->\n",
       "<g id=\"node1\" class=\"node\">\n",
       "<title>EMPTY</title>\n",
       "</g>\n",
       "<!-- I -->\n",
       "<g id=\"node3\" class=\"node\">\n",
       "<title>I</title>\n",
       "<ellipse fill=\"none\" stroke=\"#000000\" cx=\"109\" cy=\"-74.0089\" rx=\"18\" ry=\"18\"/>\n",
       "<text text-anchor=\"middle\" x=\"109\" y=\"-70.3089\" font-family=\"Times,serif\" font-size=\"14.00\" fill=\"#000000\">I</text>\n",
       "</g>\n",
       "<!-- EMPTY&#45;&gt;I -->\n",
       "<g id=\"edge1\" class=\"edge\">\n",
       "<title>EMPTY&#45;&gt;I</title>\n",
       "<path fill=\"none\" stroke=\"#000000\" d=\"M54.3048,-74.0089C62.6909,-74.0089 71.9407,-74.0089 80.4103,-74.0089\"/>\n",
       "<polygon fill=\"#000000\" stroke=\"#000000\" points=\"80.5976,-77.509 90.5976,-74.0089 80.5976,-70.509 80.5976,-77.509\"/>\n",
       "</g>\n",
       "<!-- A -->\n",
       "<g id=\"node2\" class=\"node\">\n",
       "<title>A</title>\n",
       "<ellipse fill=\"none\" stroke=\"#000000\" cx=\"200\" cy=\"-111.0089\" rx=\"18\" ry=\"18\"/>\n",
       "<text text-anchor=\"middle\" x=\"200\" y=\"-107.3089\" font-family=\"Times,serif\" font-size=\"14.00\" fill=\"#000000\">A</text>\n",
       "</g>\n",
       "<!-- A&#45;&gt;I -->\n",
       "<g id=\"edge2\" class=\"edge\">\n",
       "<title>A&#45;&gt;I</title>\n",
       "<path fill=\"none\" stroke=\"#000000\" d=\"M183.3067,-103.7904C176.1496,-100.7277 167.6838,-97.1476 160,-94.0089 152.076,-90.772 143.4202,-87.3392 135.5264,-84.2482\"/>\n",
       "<polygon fill=\"#000000\" stroke=\"#000000\" points=\"136.6362,-80.9244 126.0477,-80.5562 134.0956,-87.4471 136.6362,-80.9244\"/>\n",
       "<text text-anchor=\"middle\" x=\"152.5\" y=\"-112.8089\" font-family=\"Times,serif\" font-size=\"14.00\" fill=\"#000000\">0 </text>\n",
       "<text text-anchor=\"middle\" x=\"152.5\" y=\"-97.8089\" font-family=\"Times,serif\" font-size=\"14.00\" fill=\"#000000\"> 1 </text>\n",
       "</g>\n",
       "<!-- I&#45;&gt;A -->\n",
       "<g id=\"edge4\" class=\"edge\">\n",
       "<title>I&#45;&gt;A</title>\n",
       "<path fill=\"none\" stroke=\"#000000\" d=\"M116.0163,-90.8041C121.8835,-102.4576 131.4814,-117.0841 145,-124.0089 154.2035,-128.7232 165.1506,-127.3526 174.846,-124.1083\"/>\n",
       "<polygon fill=\"#000000\" stroke=\"#000000\" points=\"176.4319,-127.2415 184.3709,-120.2255 173.7895,-120.7594 176.4319,-127.2415\"/>\n",
       "<text text-anchor=\"middle\" x=\"152.5\" y=\"-130.8089\" font-family=\"Times,serif\" font-size=\"14.00\" fill=\"#000000\">0 </text>\n",
       "</g>\n",
       "<!-- F -->\n",
       "<g id=\"node4\" class=\"node\">\n",
       "<title>F</title>\n",
       "<ellipse fill=\"none\" stroke=\"#000000\" cx=\"200\" cy=\"-37.0089\" rx=\"18\" ry=\"18\"/>\n",
       "<ellipse fill=\"none\" stroke=\"#000000\" cx=\"200\" cy=\"-37.0089\" rx=\"22\" ry=\"22\"/>\n",
       "<text text-anchor=\"middle\" x=\"200\" y=\"-33.3089\" font-family=\"Times,serif\" font-size=\"14.00\" fill=\"#000000\">F</text>\n",
       "</g>\n",
       "<!-- I&#45;&gt;F -->\n",
       "<g id=\"edge5\" class=\"edge\">\n",
       "<title>I&#45;&gt;F</title>\n",
       "<path fill=\"none\" stroke=\"#000000\" d=\"M125.6908,-67.2225C138.1496,-62.1568 155.504,-55.1006 170.3086,-49.0812\"/>\n",
       "<polygon fill=\"#000000\" stroke=\"#000000\" points=\"171.6467,-52.3154 179.592,-45.3066 169.0101,-45.8309 171.6467,-52.3154\"/>\n",
       "<text text-anchor=\"middle\" x=\"152.5\" y=\"-61.8089\" font-family=\"Times,serif\" font-size=\"14.00\" fill=\"#000000\">1 </text>\n",
       "</g>\n",
       "<!-- F&#45;&gt;I -->\n",
       "<g id=\"edge3\" class=\"edge\">\n",
       "<title>F&#45;&gt;I</title>\n",
       "<path fill=\"none\" stroke=\"#000000\" d=\"M186.452,-19.3183C175.3278,-7.0363 159.1574,5.686 145,-3.0089 129.6397,-12.4425 120.5864,-30.6937 115.4006,-46.3287\"/>\n",
       "<polygon fill=\"#000000\" stroke=\"#000000\" points=\"111.9887,-45.5251 112.5238,-56.1064 118.7041,-47.5009 111.9887,-45.5251\"/>\n",
       "<text text-anchor=\"middle\" x=\"152.5\" y=\"-21.8089\" font-family=\"Times,serif\" font-size=\"14.00\" fill=\"#000000\">0 </text>\n",
       "<text text-anchor=\"middle\" x=\"152.5\" y=\"-6.8089\" font-family=\"Times,serif\" font-size=\"14.00\" fill=\"#000000\"> 1 </text>\n",
       "</g>\n",
       "</g>\n",
       "</svg>\n"
      ],
      "text/plain": [
       "<graphviz.dot.Digraph at 0x1123410f0>"
      ]
     },
     "execution_count": 4,
     "metadata": {},
     "output_type": "execute_result"
    }
   ],
   "source": [
    "dotObj_dfa(Fig34, FuseEdges=True)"
   ]
  },
  {
   "cell_type": "markdown",
   "metadata": {
    "run_control": {
     "frozen": false,
     "read_only": false
    }
   },
   "source": [
    "# The same DFA in automd (Jove's markdown)\n",
    "\n",
    "Study Overview_Of_CS3100_Fall2020/ and its contents to fully learn how to define a DFA via a markdown.\n",
    "You can study the animation panel which also explains the markdown syntax fully.\n"
   ]
  },
  {
   "cell_type": "code",
   "execution_count": 5,
   "metadata": {},
   "outputs": [
    {
     "data": {
      "text/html": [
       "<style>textarea, input { font-family: monospace; }</style>"
      ],
      "text/plain": [
       "<IPython.core.display.HTML object>"
      ]
     },
     "metadata": {},
     "output_type": "display_data"
    },
    {
     "data": {
      "application/vnd.jupyter.widget-view+json": {
       "model_id": "9daaa6470dce49d38262e0731b9f9e81",
       "version_major": 2,
       "version_minor": 0
      },
      "text/plain": [
       "Tab(children=(VBox(children=(HBox(children=(Accordion(children=(VBox(children=(HBox(children=(Text(value='', p…"
      ]
     },
     "metadata": {},
     "output_type": "display_data"
    },
    {
     "data": {
      "text/html": [
       "<link rel=\"stylesheet\" href=\"//stackpath.bootstrapcdn.com/font-awesome/4.7.0/css/font-awesome.min.css\"/>"
      ],
      "text/plain": [
       "<IPython.core.display.HTML object>"
      ]
     },
     "metadata": {},
     "output_type": "display_data"
    }
   ],
   "source": [
    "from jove.JoveEditor import *\n",
    "JoveEditor(examples=True)\n",
    "display(HTML('<link rel=\\\"stylesheet\\\" href=\\\"//stackpath.bootstrapcdn.com/font-awesome/4.7.0/css/font-awesome.min.css\\\"/>'))"
   ]
  },
  {
   "cell_type": "code",
   "execution_count": 6,
   "metadata": {
    "run_control": {
     "frozen": false,
     "read_only": false
    }
   },
   "outputs": [],
   "source": [
    "Fig34md = '''  !! Comments begin with !! and last till the end of line\n",
    "DFA            !! This keyword tells \"md2mc\" that it is parsing a DFA\n",
    "I : 0     -> A !! DFA transition: From initial state I, upon 0, go to state A\n",
    "A : 0 | 1 -> I !! Two DFA transitions: from A, upon 0 or a 1, go to state I\n",
    "I : 1     -> F !! A DFA transition from I to F. I is the initial state and F is final \n",
    "F : 0 | 1 -> I !! From F upon 0 or a 1, go to I.\n",
    "'''"
   ]
  },
  {
   "cell_type": "code",
   "execution_count": 7,
   "metadata": {},
   "outputs": [],
   "source": [
    "DFA1 = md2mc('''DFA\n",
    "\n",
    "I : 0   -> A\n",
    "A : 0|1 -> I\n",
    "I : 1   -> F\n",
    "F : 0|1 -> I\n",
    "\n",
    "''')"
   ]
  },
  {
   "cell_type": "code",
   "execution_count": 8,
   "metadata": {},
   "outputs": [
    {
     "data": {
      "image/svg+xml": [
       "<?xml version=\"1.0\" encoding=\"UTF-8\" standalone=\"no\"?>\n",
       "<!DOCTYPE svg PUBLIC \"-//W3C//DTD SVG 1.1//EN\"\n",
       " \"http://www.w3.org/Graphics/SVG/1.1/DTD/svg11.dtd\">\n",
       "<!-- Generated by graphviz version 2.40.1 (20161225.0304)\n",
       " -->\n",
       "<!-- Title: %3 Pages: 1 -->\n",
       "<svg width=\"226pt\" height=\"178pt\"\n",
       " viewBox=\"0.00 0.00 226.00 178.00\" xmlns=\"http://www.w3.org/2000/svg\" xmlns:xlink=\"http://www.w3.org/1999/xlink\">\n",
       "<g id=\"graph0\" class=\"graph\" transform=\"scale(1 1) rotate(0) translate(4 174)\">\n",
       "<title>%3</title>\n",
       "<polygon fill=\"#ffffff\" stroke=\"transparent\" points=\"-4,4 -4,-174 222,-174 222,4 -4,4\"/>\n",
       "<!-- EMPTY -->\n",
       "<g id=\"node1\" class=\"node\">\n",
       "<title>EMPTY</title>\n",
       "</g>\n",
       "<!-- I -->\n",
       "<g id=\"node3\" class=\"node\">\n",
       "<title>I</title>\n",
       "<ellipse fill=\"none\" stroke=\"#000000\" cx=\"109\" cy=\"-79\" rx=\"18\" ry=\"18\"/>\n",
       "<text text-anchor=\"middle\" x=\"109\" y=\"-75.3\" font-family=\"Times,serif\" font-size=\"14.00\" fill=\"#000000\">I</text>\n",
       "</g>\n",
       "<!-- EMPTY&#45;&gt;I -->\n",
       "<g id=\"edge1\" class=\"edge\">\n",
       "<title>EMPTY&#45;&gt;I</title>\n",
       "<path fill=\"none\" stroke=\"#000000\" d=\"M54.3048,-79C62.6909,-79 71.9407,-79 80.4103,-79\"/>\n",
       "<polygon fill=\"#000000\" stroke=\"#000000\" points=\"80.5976,-82.5001 90.5976,-79 80.5976,-75.5001 80.5976,-82.5001\"/>\n",
       "</g>\n",
       "<!-- A -->\n",
       "<g id=\"node2\" class=\"node\">\n",
       "<title>A</title>\n",
       "<ellipse fill=\"none\" stroke=\"#000000\" cx=\"196\" cy=\"-136\" rx=\"18\" ry=\"18\"/>\n",
       "<text text-anchor=\"middle\" x=\"196\" y=\"-132.3\" font-family=\"Times,serif\" font-size=\"14.00\" fill=\"#000000\">A</text>\n",
       "</g>\n",
       "<!-- A&#45;&gt;I -->\n",
       "<g id=\"edge3\" class=\"edge\">\n",
       "<title>A&#45;&gt;I</title>\n",
       "<path fill=\"none\" stroke=\"#000000\" d=\"M178.6713,-130.321C168.4101,-126.5313 155.4214,-120.9669 145,-114 139.06,-110.029 133.233,-105.0126 128.0557,-100.0275\"/>\n",
       "<polygon fill=\"#000000\" stroke=\"#000000\" points=\"130.5118,-97.5334 120.9977,-92.8715 125.528,-102.4489 130.5118,-97.5334\"/>\n",
       "<text text-anchor=\"middle\" x=\"150.5\" y=\"-123.8\" font-family=\"Times,serif\" font-size=\"14.00\" fill=\"#000000\">0 </text>\n",
       "</g>\n",
       "<!-- A&#45;&gt;I -->\n",
       "<g id=\"edge4\" class=\"edge\">\n",
       "<title>A&#45;&gt;I</title>\n",
       "<path fill=\"none\" stroke=\"#000000\" d=\"M184.7508,-121.3913C177.389,-112.687 167.1011,-102.0053 156,-95 150.1638,-91.3171 143.3811,-88.3729 136.8147,-86.0655\"/>\n",
       "<polygon fill=\"#000000\" stroke=\"#000000\" points=\"137.43,-82.591 126.8413,-82.9493 135.3423,-89.2724 137.43,-82.591\"/>\n",
       "<text text-anchor=\"middle\" x=\"150.5\" y=\"-98.8\" font-family=\"Times,serif\" font-size=\"14.00\" fill=\"#000000\">1 </text>\n",
       "</g>\n",
       "<!-- I&#45;&gt;A -->\n",
       "<g id=\"edge2\" class=\"edge\">\n",
       "<title>I&#45;&gt;A</title>\n",
       "<path fill=\"none\" stroke=\"#000000\" d=\"M112.2116,-96.7342C116.4221,-114.2102 125.68,-139.9861 145,-152 153.3051,-157.1644 163.4157,-155.3649 172.4376,-151.4601\"/>\n",
       "<polygon fill=\"#000000\" stroke=\"#000000\" points=\"174.0712,-154.5556 181.324,-146.8324 170.838,-148.347 174.0712,-154.5556\"/>\n",
       "<text text-anchor=\"middle\" x=\"150.5\" y=\"-158.8\" font-family=\"Times,serif\" font-size=\"14.00\" fill=\"#000000\">0 </text>\n",
       "</g>\n",
       "<!-- F -->\n",
       "<g id=\"node4\" class=\"node\">\n",
       "<title>F</title>\n",
       "<ellipse fill=\"none\" stroke=\"#000000\" cx=\"196\" cy=\"-22\" rx=\"18\" ry=\"18\"/>\n",
       "<ellipse fill=\"none\" stroke=\"#000000\" cx=\"196\" cy=\"-22\" rx=\"22\" ry=\"22\"/>\n",
       "<text text-anchor=\"middle\" x=\"196\" y=\"-18.3\" font-family=\"Times,serif\" font-size=\"14.00\" fill=\"#000000\">F</text>\n",
       "</g>\n",
       "<!-- I&#45;&gt;F -->\n",
       "<g id=\"edge5\" class=\"edge\">\n",
       "<title>I&#45;&gt;F</title>\n",
       "<path fill=\"none\" stroke=\"#000000\" d=\"M124.1542,-69.0714C136.4104,-61.0415 153.9839,-49.5278 168.6825,-39.8977\"/>\n",
       "<polygon fill=\"#000000\" stroke=\"#000000\" points=\"170.9432,-42.6009 177.3897,-34.193 167.107,-36.7456 170.9432,-42.6009\"/>\n",
       "<text text-anchor=\"middle\" x=\"150.5\" y=\"-56.8\" font-family=\"Times,serif\" font-size=\"14.00\" fill=\"#000000\">1 </text>\n",
       "</g>\n",
       "<!-- F&#45;&gt;I -->\n",
       "<g id=\"edge6\" class=\"edge\">\n",
       "<title>F&#45;&gt;I</title>\n",
       "<path fill=\"none\" stroke=\"#000000\" d=\"M173.8853,-21.2549C164.411,-21.8552 153.5772,-23.8401 145,-29 135.376,-34.7897 127.5905,-44.2414 121.7543,-53.3772\"/>\n",
       "<polygon fill=\"#000000\" stroke=\"#000000\" points=\"118.588,-51.8591 116.5721,-62.2603 124.6343,-55.3864 118.588,-51.8591\"/>\n",
       "<text text-anchor=\"middle\" x=\"150.5\" y=\"-32.8\" font-family=\"Times,serif\" font-size=\"14.00\" fill=\"#000000\">0 </text>\n",
       "</g>\n",
       "<!-- F&#45;&gt;I -->\n",
       "<g id=\"edge7\" class=\"edge\">\n",
       "<title>F&#45;&gt;I</title>\n",
       "<path fill=\"none\" stroke=\"#000000\" d=\"M178.0959,-8.7482C167.8779,-2.9143 155.1279,1.3357 145,-5 128.8512,-15.1022 119.7585,-34.7539 114.7524,-51.2679\"/>\n",
       "<polygon fill=\"#000000\" stroke=\"#000000\" points=\"111.3439,-50.4662 112.137,-61.0313 118.1055,-52.2776 111.3439,-50.4662\"/>\n",
       "<text text-anchor=\"middle\" x=\"150.5\" y=\"-8.8\" font-family=\"Times,serif\" font-size=\"14.00\" fill=\"#000000\">1 </text>\n",
       "</g>\n",
       "</g>\n",
       "</svg>\n"
      ],
      "text/plain": [
       "<graphviz.dot.Digraph at 0x11249e828>"
      ]
     },
     "execution_count": 8,
     "metadata": {},
     "output_type": "execute_result"
    }
   ],
   "source": [
    "dotObj_dfa(DFA1)"
   ]
  },
  {
   "cell_type": "code",
   "execution_count": 9,
   "metadata": {},
   "outputs": [
    {
     "data": {
      "text/plain": [
       "'A'"
      ]
     },
     "execution_count": 9,
     "metadata": {},
     "output_type": "execute_result"
    }
   ],
   "source": [
    "step_dfa(DFA1, 'I', '0')"
   ]
  },
  {
   "cell_type": "code",
   "execution_count": 10,
   "metadata": {},
   "outputs": [
    {
     "data": {
      "text/plain": [
       "'I'"
      ]
     },
     "execution_count": 10,
     "metadata": {},
     "output_type": "execute_result"
    }
   ],
   "source": [
    "run_dfa(DFA1, '01100101')"
   ]
  },
  {
   "cell_type": "code",
   "execution_count": 11,
   "metadata": {},
   "outputs": [
    {
     "data": {
      "text/plain": [
       "'F'"
      ]
     },
     "execution_count": 11,
     "metadata": {},
     "output_type": "execute_result"
    }
   ],
   "source": [
    "run_dfa(DFA1, '011001011')"
   ]
  },
  {
   "cell_type": "markdown",
   "metadata": {
    "run_control": {
     "frozen": false,
     "read_only": false
    }
   },
   "source": [
    "# Function md2mc is your automd compiler"
   ]
  },
  {
   "cell_type": "code",
   "execution_count": 12,
   "metadata": {
    "run_control": {
     "frozen": false,
     "read_only": false
    }
   },
   "outputs": [
    {
     "data": {
      "text/plain": [
       "{'Q': {'A', 'F', 'I'},\n",
       " 'Sigma': {'0', '1'},\n",
       " 'Delta': {('I', '0'): 'A',\n",
       "  ('A', '0'): 'I',\n",
       "  ('A', '1'): 'I',\n",
       "  ('I', '1'): 'F',\n",
       "  ('F', '0'): 'I',\n",
       "  ('F', '1'): 'I'},\n",
       " 'q0': 'I',\n",
       " 'F': {'F'}}"
      ]
     },
     "execution_count": 12,
     "metadata": {},
     "output_type": "execute_result"
    }
   ],
   "source": [
    "Fig34MC = md2mc(Fig34md)\n",
    "Fig34MC"
   ]
  },
  {
   "cell_type": "code",
   "execution_count": 13,
   "metadata": {
    "run_control": {
     "frozen": false,
     "read_only": false
    }
   },
   "outputs": [
    {
     "data": {
      "image/svg+xml": [
       "<?xml version=\"1.0\" encoding=\"UTF-8\" standalone=\"no\"?>\n",
       "<!DOCTYPE svg PUBLIC \"-//W3C//DTD SVG 1.1//EN\"\n",
       " \"http://www.w3.org/Graphics/SVG/1.1/DTD/svg11.dtd\">\n",
       "<!-- Generated by graphviz version 2.40.1 (20161225.0304)\n",
       " -->\n",
       "<!-- Title: %3 Pages: 1 -->\n",
       "<svg width=\"226pt\" height=\"178pt\"\n",
       " viewBox=\"0.00 0.00 226.00 178.00\" xmlns=\"http://www.w3.org/2000/svg\" xmlns:xlink=\"http://www.w3.org/1999/xlink\">\n",
       "<g id=\"graph0\" class=\"graph\" transform=\"scale(1 1) rotate(0) translate(4 174)\">\n",
       "<title>%3</title>\n",
       "<polygon fill=\"#ffffff\" stroke=\"transparent\" points=\"-4,4 -4,-174 222,-174 222,4 -4,4\"/>\n",
       "<!-- EMPTY -->\n",
       "<g id=\"node1\" class=\"node\">\n",
       "<title>EMPTY</title>\n",
       "</g>\n",
       "<!-- I -->\n",
       "<g id=\"node3\" class=\"node\">\n",
       "<title>I</title>\n",
       "<ellipse fill=\"none\" stroke=\"#000000\" cx=\"109\" cy=\"-79\" rx=\"18\" ry=\"18\"/>\n",
       "<text text-anchor=\"middle\" x=\"109\" y=\"-75.3\" font-family=\"Times,serif\" font-size=\"14.00\" fill=\"#000000\">I</text>\n",
       "</g>\n",
       "<!-- EMPTY&#45;&gt;I -->\n",
       "<g id=\"edge1\" class=\"edge\">\n",
       "<title>EMPTY&#45;&gt;I</title>\n",
       "<path fill=\"none\" stroke=\"#000000\" d=\"M54.3048,-79C62.6909,-79 71.9407,-79 80.4103,-79\"/>\n",
       "<polygon fill=\"#000000\" stroke=\"#000000\" points=\"80.5976,-82.5001 90.5976,-79 80.5976,-75.5001 80.5976,-82.5001\"/>\n",
       "</g>\n",
       "<!-- A -->\n",
       "<g id=\"node2\" class=\"node\">\n",
       "<title>A</title>\n",
       "<ellipse fill=\"none\" stroke=\"#000000\" cx=\"196\" cy=\"-136\" rx=\"18\" ry=\"18\"/>\n",
       "<text text-anchor=\"middle\" x=\"196\" y=\"-132.3\" font-family=\"Times,serif\" font-size=\"14.00\" fill=\"#000000\">A</text>\n",
       "</g>\n",
       "<!-- A&#45;&gt;I -->\n",
       "<g id=\"edge3\" class=\"edge\">\n",
       "<title>A&#45;&gt;I</title>\n",
       "<path fill=\"none\" stroke=\"#000000\" d=\"M178.6713,-130.321C168.4101,-126.5313 155.4214,-120.9669 145,-114 139.06,-110.029 133.233,-105.0126 128.0557,-100.0275\"/>\n",
       "<polygon fill=\"#000000\" stroke=\"#000000\" points=\"130.5118,-97.5334 120.9977,-92.8715 125.528,-102.4489 130.5118,-97.5334\"/>\n",
       "<text text-anchor=\"middle\" x=\"150.5\" y=\"-123.8\" font-family=\"Times,serif\" font-size=\"14.00\" fill=\"#000000\">0 </text>\n",
       "</g>\n",
       "<!-- A&#45;&gt;I -->\n",
       "<g id=\"edge4\" class=\"edge\">\n",
       "<title>A&#45;&gt;I</title>\n",
       "<path fill=\"none\" stroke=\"#000000\" d=\"M184.7508,-121.3913C177.389,-112.687 167.1011,-102.0053 156,-95 150.1638,-91.3171 143.3811,-88.3729 136.8147,-86.0655\"/>\n",
       "<polygon fill=\"#000000\" stroke=\"#000000\" points=\"137.43,-82.591 126.8413,-82.9493 135.3423,-89.2724 137.43,-82.591\"/>\n",
       "<text text-anchor=\"middle\" x=\"150.5\" y=\"-98.8\" font-family=\"Times,serif\" font-size=\"14.00\" fill=\"#000000\">1 </text>\n",
       "</g>\n",
       "<!-- I&#45;&gt;A -->\n",
       "<g id=\"edge2\" class=\"edge\">\n",
       "<title>I&#45;&gt;A</title>\n",
       "<path fill=\"none\" stroke=\"#000000\" d=\"M112.2116,-96.7342C116.4221,-114.2102 125.68,-139.9861 145,-152 153.3051,-157.1644 163.4157,-155.3649 172.4376,-151.4601\"/>\n",
       "<polygon fill=\"#000000\" stroke=\"#000000\" points=\"174.0712,-154.5556 181.324,-146.8324 170.838,-148.347 174.0712,-154.5556\"/>\n",
       "<text text-anchor=\"middle\" x=\"150.5\" y=\"-158.8\" font-family=\"Times,serif\" font-size=\"14.00\" fill=\"#000000\">0 </text>\n",
       "</g>\n",
       "<!-- F -->\n",
       "<g id=\"node4\" class=\"node\">\n",
       "<title>F</title>\n",
       "<ellipse fill=\"none\" stroke=\"#000000\" cx=\"196\" cy=\"-22\" rx=\"18\" ry=\"18\"/>\n",
       "<ellipse fill=\"none\" stroke=\"#000000\" cx=\"196\" cy=\"-22\" rx=\"22\" ry=\"22\"/>\n",
       "<text text-anchor=\"middle\" x=\"196\" y=\"-18.3\" font-family=\"Times,serif\" font-size=\"14.00\" fill=\"#000000\">F</text>\n",
       "</g>\n",
       "<!-- I&#45;&gt;F -->\n",
       "<g id=\"edge5\" class=\"edge\">\n",
       "<title>I&#45;&gt;F</title>\n",
       "<path fill=\"none\" stroke=\"#000000\" d=\"M124.1542,-69.0714C136.4104,-61.0415 153.9839,-49.5278 168.6825,-39.8977\"/>\n",
       "<polygon fill=\"#000000\" stroke=\"#000000\" points=\"170.9432,-42.6009 177.3897,-34.193 167.107,-36.7456 170.9432,-42.6009\"/>\n",
       "<text text-anchor=\"middle\" x=\"150.5\" y=\"-56.8\" font-family=\"Times,serif\" font-size=\"14.00\" fill=\"#000000\">1 </text>\n",
       "</g>\n",
       "<!-- F&#45;&gt;I -->\n",
       "<g id=\"edge6\" class=\"edge\">\n",
       "<title>F&#45;&gt;I</title>\n",
       "<path fill=\"none\" stroke=\"#000000\" d=\"M173.8853,-21.2549C164.411,-21.8552 153.5772,-23.8401 145,-29 135.376,-34.7897 127.5905,-44.2414 121.7543,-53.3772\"/>\n",
       "<polygon fill=\"#000000\" stroke=\"#000000\" points=\"118.588,-51.8591 116.5721,-62.2603 124.6343,-55.3864 118.588,-51.8591\"/>\n",
       "<text text-anchor=\"middle\" x=\"150.5\" y=\"-32.8\" font-family=\"Times,serif\" font-size=\"14.00\" fill=\"#000000\">0 </text>\n",
       "</g>\n",
       "<!-- F&#45;&gt;I -->\n",
       "<g id=\"edge7\" class=\"edge\">\n",
       "<title>F&#45;&gt;I</title>\n",
       "<path fill=\"none\" stroke=\"#000000\" d=\"M178.0959,-8.7482C167.8779,-2.9143 155.1279,1.3357 145,-5 128.8512,-15.1022 119.7585,-34.7539 114.7524,-51.2679\"/>\n",
       "<polygon fill=\"#000000\" stroke=\"#000000\" points=\"111.3439,-50.4662 112.137,-61.0313 118.1055,-52.2776 111.3439,-50.4662\"/>\n",
       "<text text-anchor=\"middle\" x=\"150.5\" y=\"-8.8\" font-family=\"Times,serif\" font-size=\"14.00\" fill=\"#000000\">1 </text>\n",
       "</g>\n",
       "</g>\n",
       "</svg>\n"
      ],
      "text/plain": [
       "<graphviz.dot.Digraph at 0x1124afb00>"
      ]
     },
     "execution_count": 13,
     "metadata": {},
     "output_type": "execute_result"
    }
   ],
   "source": [
    "# md2mc alone produces a dict similar to Fig34, above.\n",
    "# We pass it to dotObj_dfa which prints the DFA image,\n",
    "# as shown below.\n",
    "\n",
    "dotObj_dfa(md2mc(Fig34md))"
   ]
  },
  {
   "cell_type": "code",
   "execution_count": 14,
   "metadata": {
    "run_control": {
     "frozen": false,
     "read_only": false
    }
   },
   "outputs": [
    {
     "data": {
      "text/plain": [
       "True"
      ]
     },
     "execution_count": 14,
     "metadata": {},
     "output_type": "execute_result"
    }
   ],
   "source": [
    "accepts_dfa(md2mc(Fig34md), \"10101\")"
   ]
  },
  {
   "cell_type": "markdown",
   "metadata": {
    "run_control": {
     "frozen": false,
     "read_only": false
    }
   },
   "source": [
    "# Testing acceptance in one \"go\"\n",
    "\n",
    "Generating multiple strings according to the numeric order (increasing\n",
    "lengths, with each length category exhausted before going to the next \n",
    "length category) is a handy test-input generator.\n",
    "\n",
    "Plus, the \"numeric order\" is a powerful concept which we shall use \n",
    "when we later discuss the \"dovetail enumeration\" order (in Chapter 14\n",
    "and beyond).\n"
   ]
  },
  {
   "cell_type": "code",
   "execution_count": 15,
   "metadata": {
    "run_control": {
     "frozen": false,
     "read_only": false
    }
   },
   "outputs": [],
   "source": [
    "from math import floor, log, pow\n",
    "def nthnumeric(N, S=['0','1']):\n",
    "    \"\"\"Assume S ('Sigma') is a 2-sized list of chars (default ['a','b']). \n",
    "       Produce the Nth string in numeric order, where N >= 0.\n",
    "       Idea : Given N, get b = floor(log_2(N+1)) - need that \n",
    "       many places; what to fill in the places is the binary \n",
    "       code for N - (2^b - 1) with 0 as S[0] and 1 as S[1].    \n",
    "    \"\"\"\n",
    "    assert(type(S)==list # This makes sure that the order does not flip\n",
    "          ),\"nthnumeric now expects to be given a two-element list!!\" \n",
    "    assert(len(S)==2\n",
    "          ),\"Expected to be given an S of length 2.\"\n",
    "    if(N==0):\n",
    "        return ''\n",
    "    else:\n",
    "        width = floor(log(N+1, 2))\n",
    "        tofill = int(N - pow(2, width) + 1)\n",
    "        relevant_binstr = bin(tofill)[2::] # strip the 0b \n",
    "                                           # in the leading string\n",
    "        len_to_makeup = width - len(relevant_binstr)\n",
    "        return (S[0]*len_to_makeup + \n",
    "                shomo(relevant_binstr,\n",
    "                      lambda x: S[1] if x=='1' else S[0]))"
   ]
  },
  {
   "cell_type": "code",
   "execution_count": 16,
   "metadata": {
    "run_control": {
     "frozen": false,
     "read_only": false
    }
   },
   "outputs": [
    {
     "data": {
      "text/plain": [
       "['',\n",
       " '0',\n",
       " '1',\n",
       " '00',\n",
       " '01',\n",
       " '10',\n",
       " '11',\n",
       " '000',\n",
       " '001',\n",
       " '010',\n",
       " '011',\n",
       " '100',\n",
       " '101',\n",
       " '110',\n",
       " '111',\n",
       " '0000',\n",
       " '0001',\n",
       " '0010',\n",
       " '0011',\n",
       " '0100']"
      ]
     },
     "execution_count": 16,
     "metadata": {},
     "output_type": "execute_result"
    }
   ],
   "source": [
    "[ nthnumeric(i) for i in range(20) ]"
   ]
  },
  {
   "cell_type": "markdown",
   "metadata": {
    "run_control": {
     "frozen": false,
     "read_only": false
    }
   },
   "source": [
    "# Now one can write a test loop\n",
    "\n",
    "We plow thru the first 20 numeric-order listed strings,\n",
    "and test for acceptance.\n"
   ]
  },
  {
   "cell_type": "code",
   "execution_count": 17,
   "metadata": {
    "run_control": {
     "frozen": false,
     "read_only": false
    }
   },
   "outputs": [
    {
     "name": "stdout",
     "output_type": "stream",
     "text": [
      "Fig34md DFA does not accept  \n",
      "Fig34md DFA does not accept  0\n",
      "Fig34md DFA accepts  1\n",
      "Fig34md DFA does not accept  00\n",
      "Fig34md DFA does not accept  01\n",
      "Fig34md DFA does not accept  10\n",
      "Fig34md DFA does not accept  11\n",
      "Fig34md DFA does not accept  000\n",
      "Fig34md DFA accepts  001\n",
      "Fig34md DFA does not accept  010\n",
      "Fig34md DFA accepts  011\n",
      "Fig34md DFA does not accept  100\n",
      "Fig34md DFA accepts  101\n",
      "Fig34md DFA does not accept  110\n",
      "Fig34md DFA accepts  111\n",
      "Fig34md DFA does not accept  0000\n",
      "Fig34md DFA does not accept  0001\n",
      "Fig34md DFA does not accept  0010\n",
      "Fig34md DFA does not accept  0011\n",
      "Fig34md DFA does not accept  0100\n"
     ]
    }
   ],
   "source": [
    "for s in [ nthnumeric(i) for i in range(20) ]:\n",
    "    if accepts_dfa(md2mc(Fig34md), s):\n",
    "        print(\"Fig34md DFA accepts \", s)\n",
    "    else:\n",
    "        print(\"Fig34md DFA does not accept \", s)"
   ]
  },
  {
   "cell_type": "markdown",
   "metadata": {
    "run_control": {
     "frozen": false,
     "read_only": false
    }
   },
   "source": [
    "# Now, simply run the cells, use help\n",
    "\n",
    "Run the cell contents. At any time if you have a doubt about\n",
    "some function, say \"foo\", run the \"help(foo)\" command. Also\n",
    "refer to Appendix B of our book for a complete explanation of\n",
    "all the Jove functions.\n"
   ]
  },
  {
   "cell_type": "code",
   "execution_count": 18,
   "metadata": {
    "run_control": {
     "frozen": false,
     "read_only": false
    }
   },
   "outputs": [
    {
     "data": {
      "text/plain": [
       "{'Q': {'A', 'F', 'I'},\n",
       " 'Sigma': {'0', '1'},\n",
       " 'Delta': {('I', '0'): 'A',\n",
       "  ('A', '0'): 'I',\n",
       "  ('A', '1'): 'I',\n",
       "  ('I', '1'): 'F',\n",
       "  ('F', '0'): 'I',\n",
       "  ('F', '1'): 'I'},\n",
       " 'q0': 'I',\n",
       " 'F': {'F'}}"
      ]
     },
     "execution_count": 18,
     "metadata": {},
     "output_type": "execute_result"
    }
   ],
   "source": [
    "Fig34MC = md2mc(Fig34md)\n",
    "Fig34MC"
   ]
  },
  {
   "cell_type": "code",
   "execution_count": 19,
   "metadata": {
    "run_control": {
     "frozen": false,
     "read_only": false
    }
   },
   "outputs": [
    {
     "data": {
      "text/plain": [
       "True"
      ]
     },
     "execution_count": 19,
     "metadata": {},
     "output_type": "execute_result"
    }
   ],
   "source": [
    "is_partially_consistent_dfa(Fig34MC)"
   ]
  },
  {
   "cell_type": "code",
   "execution_count": 20,
   "metadata": {
    "run_control": {
     "frozen": false,
     "read_only": false
    }
   },
   "outputs": [
    {
     "data": {
      "image/svg+xml": [
       "<?xml version=\"1.0\" encoding=\"UTF-8\" standalone=\"no\"?>\n",
       "<!DOCTYPE svg PUBLIC \"-//W3C//DTD SVG 1.1//EN\"\n",
       " \"http://www.w3.org/Graphics/SVG/1.1/DTD/svg11.dtd\">\n",
       "<!-- Generated by graphviz version 2.40.1 (20161225.0304)\n",
       " -->\n",
       "<!-- Title: %3 Pages: 1 -->\n",
       "<svg width=\"234pt\" height=\"178pt\"\n",
       " viewBox=\"0.00 0.00 234.00 178.00\" xmlns=\"http://www.w3.org/2000/svg\" xmlns:xlink=\"http://www.w3.org/1999/xlink\">\n",
       "<g id=\"graph0\" class=\"graph\" transform=\"scale(1 1) rotate(0) translate(4 174)\">\n",
       "<title>%3</title>\n",
       "<polygon fill=\"#ffffff\" stroke=\"transparent\" points=\"-4,4 -4,-174 230,-174 230,4 -4,4\"/>\n",
       "<!-- EMPTY -->\n",
       "<g id=\"node1\" class=\"node\">\n",
       "<title>EMPTY</title>\n",
       "</g>\n",
       "<!-- I -->\n",
       "<g id=\"node4\" class=\"node\">\n",
       "<title>I</title>\n",
       "<ellipse fill=\"none\" stroke=\"#000000\" cx=\"113\" cy=\"-79\" rx=\"18\" ry=\"18\"/>\n",
       "<ellipse fill=\"none\" stroke=\"#000000\" cx=\"113\" cy=\"-79\" rx=\"22\" ry=\"22\"/>\n",
       "<text text-anchor=\"middle\" x=\"113\" y=\"-75.3\" font-family=\"Times,serif\" font-size=\"14.00\" fill=\"#000000\">I</text>\n",
       "</g>\n",
       "<!-- EMPTY&#45;&gt;I -->\n",
       "<g id=\"edge1\" class=\"edge\">\n",
       "<title>EMPTY&#45;&gt;I</title>\n",
       "<path fill=\"none\" stroke=\"#000000\" d=\"M54.2109,-79C62.6073,-79 71.9364,-79 80.6441,-79\"/>\n",
       "<polygon fill=\"#000000\" stroke=\"#000000\" points=\"80.8529,-82.5001 90.8529,-79 80.8528,-75.5001 80.8529,-82.5001\"/>\n",
       "</g>\n",
       "<!-- F -->\n",
       "<g id=\"node2\" class=\"node\">\n",
       "<title>F</title>\n",
       "<ellipse fill=\"none\" stroke=\"#000000\" cx=\"204\" cy=\"-136\" rx=\"18\" ry=\"18\"/>\n",
       "<text text-anchor=\"middle\" x=\"204\" y=\"-132.3\" font-family=\"Times,serif\" font-size=\"14.00\" fill=\"#000000\">F</text>\n",
       "</g>\n",
       "<!-- F&#45;&gt;I -->\n",
       "<g id=\"edge6\" class=\"edge\">\n",
       "<title>F&#45;&gt;I</title>\n",
       "<path fill=\"none\" stroke=\"#000000\" d=\"M186.8016,-130.1205C176.5865,-126.2597 163.6006,-120.6911 153,-114 147.3671,-110.4445 141.7304,-106.1112 136.5399,-101.7215\"/>\n",
       "<polygon fill=\"#000000\" stroke=\"#000000\" points=\"138.6222,-98.8903 128.8155,-94.8805 133.9812,-104.1307 138.6222,-98.8903\"/>\n",
       "<text text-anchor=\"middle\" x=\"158.5\" y=\"-122.8\" font-family=\"Times,serif\" font-size=\"14.00\" fill=\"#000000\">0 </text>\n",
       "</g>\n",
       "<!-- F&#45;&gt;I -->\n",
       "<g id=\"edge7\" class=\"edge\">\n",
       "<title>F&#45;&gt;I</title>\n",
       "<path fill=\"none\" stroke=\"#000000\" d=\"M192.8097,-121.2968C185.4701,-112.5568 175.1848,-101.8709 164,-95 157.9969,-91.3123 151.0689,-88.4046 144.2925,-86.1387\"/>\n",
       "<polygon fill=\"#000000\" stroke=\"#000000\" points=\"145.1807,-82.7515 134.5982,-83.2619 143.1893,-89.4623 145.1807,-82.7515\"/>\n",
       "<text text-anchor=\"middle\" x=\"158.5\" y=\"-98.8\" font-family=\"Times,serif\" font-size=\"14.00\" fill=\"#000000\">1 </text>\n",
       "</g>\n",
       "<!-- A -->\n",
       "<g id=\"node3\" class=\"node\">\n",
       "<title>A</title>\n",
       "<ellipse fill=\"none\" stroke=\"#000000\" cx=\"204\" cy=\"-22\" rx=\"18\" ry=\"18\"/>\n",
       "<ellipse fill=\"none\" stroke=\"#000000\" cx=\"204\" cy=\"-22\" rx=\"22\" ry=\"22\"/>\n",
       "<text text-anchor=\"middle\" x=\"204\" y=\"-18.3\" font-family=\"Times,serif\" font-size=\"14.00\" fill=\"#000000\">A</text>\n",
       "</g>\n",
       "<!-- A&#45;&gt;I -->\n",
       "<g id=\"edge3\" class=\"edge\">\n",
       "<title>A&#45;&gt;I</title>\n",
       "<path fill=\"none\" stroke=\"#000000\" d=\"M182.009,-20.921C172.5577,-21.354 161.7076,-23.1133 153,-28 143.4324,-33.3694 135.3504,-42.0465 129.0103,-50.733\"/>\n",
       "<polygon fill=\"#000000\" stroke=\"#000000\" points=\"125.9269,-49.0467 123.2603,-59.3005 131.7392,-52.9476 125.9269,-49.0467\"/>\n",
       "<text text-anchor=\"middle\" x=\"158.5\" y=\"-31.8\" font-family=\"Times,serif\" font-size=\"14.00\" fill=\"#000000\">0 </text>\n",
       "</g>\n",
       "<!-- A&#45;&gt;I -->\n",
       "<g id=\"edge4\" class=\"edge\">\n",
       "<title>A&#45;&gt;I</title>\n",
       "<path fill=\"none\" stroke=\"#000000\" d=\"M186.2293,-8.3624C176.0558,-2.3165 163.3058,2.1835 153,-4 137.1766,-13.494 127.2676,-31.6079 121.2705,-47.6554\"/>\n",
       "<polygon fill=\"#000000\" stroke=\"#000000\" points=\"117.9023,-46.6905 118.0241,-57.2846 124.5355,-48.9268 117.9023,-46.6905\"/>\n",
       "<text text-anchor=\"middle\" x=\"158.5\" y=\"-7.8\" font-family=\"Times,serif\" font-size=\"14.00\" fill=\"#000000\">1 </text>\n",
       "</g>\n",
       "<!-- I&#45;&gt;F -->\n",
       "<g id=\"edge5\" class=\"edge\">\n",
       "<title>I&#45;&gt;F</title>\n",
       "<path fill=\"none\" stroke=\"#000000\" d=\"M118.3016,-100.5003C123.8219,-117.7887 134.3492,-140.9524 153,-152 161.3259,-156.9318 171.3313,-155.1907 180.2664,-151.3948\"/>\n",
       "<polygon fill=\"#000000\" stroke=\"#000000\" points=\"182.1219,-154.3762 189.4117,-146.6879 178.9185,-148.1522 182.1219,-154.3762\"/>\n",
       "<text text-anchor=\"middle\" x=\"158.5\" y=\"-158.8\" font-family=\"Times,serif\" font-size=\"14.00\" fill=\"#000000\">1 </text>\n",
       "</g>\n",
       "<!-- I&#45;&gt;A -->\n",
       "<g id=\"edge2\" class=\"edge\">\n",
       "<title>I&#45;&gt;A</title>\n",
       "<path fill=\"none\" stroke=\"#000000\" d=\"M131.8553,-67.1896C144.7888,-59.0883 162.1572,-48.2092 176.6114,-39.1555\"/>\n",
       "<polygon fill=\"#000000\" stroke=\"#000000\" points=\"178.5521,-42.0699 185.1689,-33.7953 174.8362,-36.1375 178.5521,-42.0699\"/>\n",
       "<text text-anchor=\"middle\" x=\"158.5\" y=\"-56.8\" font-family=\"Times,serif\" font-size=\"14.00\" fill=\"#000000\">0 </text>\n",
       "</g>\n",
       "</g>\n",
       "</svg>\n"
      ],
      "text/plain": [
       "<graphviz.dot.Digraph at 0x1124cf2b0>"
      ]
     },
     "execution_count": 20,
     "metadata": {},
     "output_type": "execute_result"
    }
   ],
   "source": [
    "dotObj_dfa_w_bh(comp_dfa(Fig34MC))"
   ]
  },
  {
   "cell_type": "code",
   "execution_count": 21,
   "metadata": {
    "run_control": {
     "frozen": false,
     "read_only": false
    }
   },
   "outputs": [],
   "source": [
    "ev0 = md2mc('''\n",
    "DFA\n",
    "IF : 0 -> A\n",
    "A  : 0 -> IF\n",
    "''')"
   ]
  },
  {
   "cell_type": "code",
   "execution_count": 22,
   "metadata": {
    "run_control": {
     "frozen": false,
     "read_only": false
    }
   },
   "outputs": [
    {
     "data": {
      "text/plain": [
       "{'Q': {'A', 'IF'},\n",
       " 'Sigma': {'0'},\n",
       " 'Delta': {('IF', '0'): 'A', ('A', '0'): 'IF'},\n",
       " 'q0': 'IF',\n",
       " 'F': {'IF'}}"
      ]
     },
     "execution_count": 22,
     "metadata": {},
     "output_type": "execute_result"
    }
   ],
   "source": [
    "ev0"
   ]
  },
  {
   "cell_type": "code",
   "execution_count": 23,
   "metadata": {
    "run_control": {
     "frozen": false,
     "read_only": false
    }
   },
   "outputs": [],
   "source": [
    "dev0 = dotObj_dfa(ev0)"
   ]
  },
  {
   "cell_type": "code",
   "execution_count": 24,
   "metadata": {
    "run_control": {
     "frozen": false,
     "read_only": false
    }
   },
   "outputs": [
    {
     "data": {
      "image/svg+xml": [
       "<?xml version=\"1.0\" encoding=\"UTF-8\" standalone=\"no\"?>\n",
       "<!DOCTYPE svg PUBLIC \"-//W3C//DTD SVG 1.1//EN\"\n",
       " \"http://www.w3.org/Graphics/SVG/1.1/DTD/svg11.dtd\">\n",
       "<!-- Generated by graphviz version 2.40.1 (20161225.0304)\n",
       " -->\n",
       "<!-- Title: %3 Pages: 1 -->\n",
       "<svg width=\"228pt\" height=\"54pt\"\n",
       " viewBox=\"0.00 0.00 227.70 53.70\" xmlns=\"http://www.w3.org/2000/svg\" xmlns:xlink=\"http://www.w3.org/1999/xlink\">\n",
       "<g id=\"graph0\" class=\"graph\" transform=\"scale(1 1) rotate(0) translate(4 49.6967)\">\n",
       "<title>%3</title>\n",
       "<polygon fill=\"#ffffff\" stroke=\"transparent\" points=\"-4,4 -4,-49.6967 223.6967,-49.6967 223.6967,4 -4,4\"/>\n",
       "<!-- EMPTY -->\n",
       "<g id=\"node1\" class=\"node\">\n",
       "<title>EMPTY</title>\n",
       "</g>\n",
       "<!-- IF -->\n",
       "<g id=\"node3\" class=\"node\">\n",
       "<title>IF</title>\n",
       "<ellipse fill=\"none\" stroke=\"#000000\" cx=\"113.8483\" cy=\"-22.8483\" rx=\"18.724\" ry=\"18.724\"/>\n",
       "<ellipse fill=\"none\" stroke=\"#000000\" cx=\"113.8483\" cy=\"-22.8483\" rx=\"22.6977\" ry=\"22.6977\"/>\n",
       "<text text-anchor=\"middle\" x=\"113.8483\" y=\"-19.1483\" font-family=\"Times,serif\" font-size=\"14.00\" fill=\"#000000\">IF</text>\n",
       "</g>\n",
       "<!-- EMPTY&#45;&gt;IF -->\n",
       "<g id=\"edge1\" class=\"edge\">\n",
       "<title>EMPTY&#45;&gt;IF</title>\n",
       "<path fill=\"none\" stroke=\"#000000\" d=\"M54.0033,-22.8483C62.5212,-22.8483 72.0276,-22.8483 80.9112,-22.8483\"/>\n",
       "<polygon fill=\"#000000\" stroke=\"#000000\" points=\"80.9572,-26.3484 90.9572,-22.8483 80.9572,-19.3484 80.9572,-26.3484\"/>\n",
       "</g>\n",
       "<!-- A -->\n",
       "<g id=\"node2\" class=\"node\">\n",
       "<title>A</title>\n",
       "<ellipse fill=\"none\" stroke=\"#000000\" cx=\"201.6967\" cy=\"-22.8483\" rx=\"18\" ry=\"18\"/>\n",
       "<text text-anchor=\"middle\" x=\"201.6967\" y=\"-19.1483\" font-family=\"Times,serif\" font-size=\"14.00\" fill=\"#000000\">A</text>\n",
       "</g>\n",
       "<!-- A&#45;&gt;IF -->\n",
       "<g id=\"edge3\" class=\"edge\">\n",
       "<title>A&#45;&gt;IF</title>\n",
       "<path fill=\"none\" stroke=\"#000000\" d=\"M186.591,-12.7783C180.3899,-9.2165 172.968,-5.6494 165.6967,-3.8483 158.1475,-1.9784 150.1762,-3.2017 142.8084,-5.7454\"/>\n",
       "<polygon fill=\"#000000\" stroke=\"#000000\" points=\"141.0341,-2.6986 133.2318,-9.8662 143.8009,-9.1286 141.0341,-2.6986\"/>\n",
       "<text text-anchor=\"middle\" x=\"160.1967\" y=\"-7.6483\" font-family=\"Times,serif\" font-size=\"14.00\" fill=\"#000000\">0 </text>\n",
       "</g>\n",
       "<!-- IF&#45;&gt;A -->\n",
       "<g id=\"edge2\" class=\"edge\">\n",
       "<title>IF&#45;&gt;A</title>\n",
       "<path fill=\"none\" stroke=\"#000000\" d=\"M136.9294,-22.8483C148.0609,-22.8483 161.5173,-22.8483 173.2741,-22.8483\"/>\n",
       "<polygon fill=\"#000000\" stroke=\"#000000\" points=\"173.4778,-26.3484 183.4778,-22.8483 173.4777,-19.3484 173.4778,-26.3484\"/>\n",
       "<text text-anchor=\"middle\" x=\"160.1967\" y=\"-26.6483\" font-family=\"Times,serif\" font-size=\"14.00\" fill=\"#000000\">0 </text>\n",
       "</g>\n",
       "</g>\n",
       "</svg>\n"
      ],
      "text/plain": [
       "<graphviz.dot.Digraph at 0x112205240>"
      ]
     },
     "execution_count": 24,
     "metadata": {},
     "output_type": "execute_result"
    }
   ],
   "source": [
    "dev0"
   ]
  },
  {
   "cell_type": "markdown",
   "metadata": {
    "run_control": {
     "frozen": false,
     "read_only": false
    }
   },
   "source": [
    "# You can generate PDF out of a DFA\n",
    "\n",
    "This is one way to \"print\" a DFA as PDF. There are \n",
    "a few more such commands tucked away within Jupyter.\n"
   ]
  },
  {
   "cell_type": "code",
   "execution_count": 25,
   "metadata": {
    "run_control": {
     "frozen": false,
     "read_only": false
    }
   },
   "outputs": [
    {
     "data": {
      "text/plain": [
       "'dev0.pdf'"
      ]
     },
     "execution_count": 25,
     "metadata": {},
     "output_type": "execute_result"
    }
   ],
   "source": [
    "# Generate a PDF this way\n",
    "dev0.render('dev0')"
   ]
  },
  {
   "cell_type": "markdown",
   "metadata": {
    "run_control": {
     "frozen": false,
     "read_only": false
    }
   },
   "source": [
    "# Poke a DFA, add to its Sigma\n",
    "\n",
    "You can expand the Sigma of a DFA later on. Then\n",
    "if you totalize the DFA, you will see black-hole\n",
    "states emerging. The newly added symbols lead to\n",
    "the Black hole states, as shown below.\n"
   ]
  },
  {
   "cell_type": "code",
   "execution_count": 26,
   "metadata": {
    "run_control": {
     "frozen": false,
     "read_only": false
    }
   },
   "outputs": [],
   "source": [
    "ev0_bh =  addtosigma_dfa(ev0, set({'1'}))"
   ]
  },
  {
   "cell_type": "code",
   "execution_count": 27,
   "metadata": {
    "run_control": {
     "frozen": false,
     "read_only": false
    }
   },
   "outputs": [
    {
     "data": {
      "text/plain": [
       "{'Q': {'A', 'IF'},\n",
       " 'Sigma': {'0', '1'},\n",
       " 'Delta': {('IF', '0'): 'A', ('A', '0'): 'IF'},\n",
       " 'q0': 'IF',\n",
       " 'F': {'IF'}}"
      ]
     },
     "execution_count": 27,
     "metadata": {},
     "output_type": "execute_result"
    }
   ],
   "source": [
    "ev0_bh"
   ]
  },
  {
   "cell_type": "code",
   "execution_count": 28,
   "metadata": {
    "run_control": {
     "frozen": false,
     "read_only": false
    }
   },
   "outputs": [],
   "source": [
    "ev0_bh_totalize = totalize_dfa(ev0_bh)"
   ]
  },
  {
   "cell_type": "code",
   "execution_count": 29,
   "metadata": {
    "run_control": {
     "frozen": false,
     "read_only": false
    }
   },
   "outputs": [
    {
     "data": {
      "text/plain": [
       "{'Q': {'A', 'IF'},\n",
       " 'Sigma': {'0', '1'},\n",
       " 'Delta': {('IF', '0'): 'A', ('A', '0'): 'IF'},\n",
       " 'q0': 'IF',\n",
       " 'F': {'IF'}}"
      ]
     },
     "execution_count": 29,
     "metadata": {},
     "output_type": "execute_result"
    }
   ],
   "source": [
    "ev0_bh"
   ]
  },
  {
   "cell_type": "code",
   "execution_count": 30,
   "metadata": {
    "run_control": {
     "frozen": false,
     "read_only": false
    }
   },
   "outputs": [],
   "source": [
    "do_ev0_tot = dotObj_dfa_w_bh(ev0_bh_totalize)"
   ]
  },
  {
   "cell_type": "code",
   "execution_count": 31,
   "metadata": {
    "run_control": {
     "frozen": false,
     "read_only": false
    }
   },
   "outputs": [
    {
     "data": {
      "image/svg+xml": [
       "<?xml version=\"1.0\" encoding=\"UTF-8\" standalone=\"no\"?>\n",
       "<!DOCTYPE svg PUBLIC \"-//W3C//DTD SVG 1.1//EN\"\n",
       " \"http://www.w3.org/Graphics/SVG/1.1/DTD/svg11.dtd\">\n",
       "<!-- Generated by graphviz version 2.40.1 (20161225.0304)\n",
       " -->\n",
       "<!-- Title: %3 Pages: 1 -->\n",
       "<svg width=\"321pt\" height=\"121pt\"\n",
       " viewBox=\"0.00 0.00 321.49 120.80\" xmlns=\"http://www.w3.org/2000/svg\" xmlns:xlink=\"http://www.w3.org/1999/xlink\">\n",
       "<g id=\"graph0\" class=\"graph\" transform=\"scale(1 1) rotate(0) translate(4 116.7958)\">\n",
       "<title>%3</title>\n",
       "<polygon fill=\"#ffffff\" stroke=\"transparent\" points=\"-4,4 -4,-116.7958 317.4925,-116.7958 317.4925,4 -4,4\"/>\n",
       "<!-- EMPTY -->\n",
       "<g id=\"node1\" class=\"node\">\n",
       "<title>EMPTY</title>\n",
       "</g>\n",
       "<!-- IF -->\n",
       "<g id=\"node4\" class=\"node\">\n",
       "<title>IF</title>\n",
       "<ellipse fill=\"none\" stroke=\"#000000\" cx=\"113.8483\" cy=\"-40.3979\" rx=\"18.724\" ry=\"18.724\"/>\n",
       "<ellipse fill=\"none\" stroke=\"#000000\" cx=\"113.8483\" cy=\"-40.3979\" rx=\"22.6977\" ry=\"22.6977\"/>\n",
       "<text text-anchor=\"middle\" x=\"113.8483\" y=\"-36.6979\" font-family=\"Times,serif\" font-size=\"14.00\" fill=\"#000000\">IF</text>\n",
       "</g>\n",
       "<!-- EMPTY&#45;&gt;IF -->\n",
       "<g id=\"edge1\" class=\"edge\">\n",
       "<title>EMPTY&#45;&gt;IF</title>\n",
       "<path fill=\"none\" stroke=\"#000000\" d=\"M54.0033,-40.3979C62.5212,-40.3979 72.0276,-40.3979 80.9112,-40.3979\"/>\n",
       "<polygon fill=\"#000000\" stroke=\"#000000\" points=\"80.9572,-43.898 90.9572,-40.3979 80.9572,-36.898 80.9572,-43.898\"/>\n",
       "</g>\n",
       "<!-- A -->\n",
       "<g id=\"node2\" class=\"node\">\n",
       "<title>A</title>\n",
       "<ellipse fill=\"none\" stroke=\"#000000\" cx=\"201.6967\" cy=\"-58.3979\" rx=\"18\" ry=\"18\"/>\n",
       "<text text-anchor=\"middle\" x=\"201.6967\" y=\"-54.6979\" font-family=\"Times,serif\" font-size=\"14.00\" fill=\"#000000\">A</text>\n",
       "</g>\n",
       "<!-- BH -->\n",
       "<g id=\"node3\" class=\"node\">\n",
       "<title>BH</title>\n",
       "<ellipse fill=\"none\" stroke=\"#000000\" cx=\"290.0946\" cy=\"-23.3979\" rx=\"23.2963\" ry=\"23.2963\"/>\n",
       "<text text-anchor=\"middle\" x=\"290.0946\" y=\"-19.6979\" font-family=\"Times,serif\" font-size=\"14.00\" fill=\"#000000\">BH</text>\n",
       "</g>\n",
       "<!-- A&#45;&gt;BH -->\n",
       "<g id=\"edge4\" class=\"edge\">\n",
       "<title>A&#45;&gt;BH</title>\n",
       "<path fill=\"none\" stroke=\"#000000\" d=\"M218.7407,-51.6496C230.0448,-47.1739 245.2179,-41.1663 258.6658,-35.8417\"/>\n",
       "<polygon fill=\"#000000\" stroke=\"#000000\" points=\"260.0637,-39.0527 268.073,-32.1171 257.4867,-32.5443 260.0637,-39.0527\"/>\n",
       "<text text-anchor=\"middle\" x=\"243.1967\" y=\"-47.1979\" font-family=\"Times,serif\" font-size=\"14.00\" fill=\"#000000\">1 </text>\n",
       "</g>\n",
       "<!-- A&#45;&gt;IF -->\n",
       "<g id=\"edge3\" class=\"edge\">\n",
       "<title>A&#45;&gt;IF</title>\n",
       "<path fill=\"none\" stroke=\"#000000\" d=\"M187.0762,-47.5019C180.8263,-43.4936 173.2403,-39.4374 165.6967,-37.3979 159.6746,-35.7699 153.1204,-35.2409 146.7617,-35.3359\"/>\n",
       "<polygon fill=\"#000000\" stroke=\"#000000\" points=\"146.1293,-31.8692 136.3734,-36.001 146.5766,-38.8549 146.1293,-31.8692\"/>\n",
       "<text text-anchor=\"middle\" x=\"160.1967\" y=\"-41.1979\" font-family=\"Times,serif\" font-size=\"14.00\" fill=\"#000000\">0 </text>\n",
       "</g>\n",
       "<!-- BH&#45;&gt;BH -->\n",
       "<g id=\"edge6\" class=\"edge\">\n",
       "<title>BH&#45;&gt;BH</title>\n",
       "<path fill=\"none\" stroke=\"#000000\" d=\"M285.82,-46.8047C285.5252,-56.5419 286.95,-64.7958 290.0946,-64.7958 292.0108,-64.7958 293.2884,-61.7308 293.9274,-57.1329\"/>\n",
       "<polygon fill=\"#000000\" stroke=\"#000000\" points=\"297.4386,-56.9452 294.3692,-46.8047 290.445,-56.646 297.4386,-56.9452\"/>\n",
       "<text text-anchor=\"middle\" x=\"290.0946\" y=\"-68.5958\" font-family=\"Times,serif\" font-size=\"14.00\" fill=\"#000000\">0 </text>\n",
       "</g>\n",
       "<!-- BH&#45;&gt;BH -->\n",
       "<g id=\"edge7\" class=\"edge\">\n",
       "<title>BH&#45;&gt;BH</title>\n",
       "<path fill=\"none\" stroke=\"#000000\" d=\"M282.7335,-45.6387C279.6897,-63.866 282.1434,-82.7958 290.0946,-82.7958 296.5549,-82.7958 299.386,-70.2992 298.588,-55.8362\"/>\n",
       "<polygon fill=\"#000000\" stroke=\"#000000\" points=\"302.0379,-55.1913 297.4556,-45.6387 295.0807,-55.9639 302.0379,-55.1913\"/>\n",
       "<text text-anchor=\"middle\" x=\"290.0946\" y=\"-86.5958\" font-family=\"Times,serif\" font-size=\"14.00\" fill=\"#000000\">1 </text>\n",
       "</g>\n",
       "<!-- IF&#45;&gt;A -->\n",
       "<g id=\"edge2\" class=\"edge\">\n",
       "<title>IF&#45;&gt;A</title>\n",
       "<path fill=\"none\" stroke=\"#000000\" d=\"M134.64,-50.0708C140.9497,-52.5853 147.9896,-54.9829 154.6967,-56.3979 160.7375,-57.6724 167.3089,-58.3686 173.5709,-58.7169\"/>\n",
       "<polygon fill=\"#000000\" stroke=\"#000000\" points=\"173.5697,-62.2183 183.6688,-59.0153 173.7765,-55.2213 173.5697,-62.2183\"/>\n",
       "<text text-anchor=\"middle\" x=\"160.1967\" y=\"-61.1979\" font-family=\"Times,serif\" font-size=\"14.00\" fill=\"#000000\">0 </text>\n",
       "</g>\n",
       "<!-- IF&#45;&gt;BH -->\n",
       "<g id=\"edge5\" class=\"edge\">\n",
       "<title>IF&#45;&gt;BH</title>\n",
       "<path fill=\"none\" stroke=\"#000000\" d=\"M134.772,-31.1695C148.4063,-25.6713 166.7495,-19.2283 183.6967,-16.3979 208.0637,-12.3284 235.9398,-14.4041 257.0445,-17.3238\"/>\n",
       "<polygon fill=\"#000000\" stroke=\"#000000\" points=\"256.7003,-20.8116 267.112,-18.8504 257.7498,-13.8907 256.7003,-20.8116\"/>\n",
       "<text text-anchor=\"middle\" x=\"201.6967\" y=\"-20.1979\" font-family=\"Times,serif\" font-size=\"14.00\" fill=\"#000000\">1 </text>\n",
       "</g>\n",
       "</g>\n",
       "</svg>\n"
      ],
      "text/plain": [
       "<graphviz.dot.Digraph at 0x11249ee80>"
      ]
     },
     "execution_count": 31,
     "metadata": {},
     "output_type": "execute_result"
    }
   ],
   "source": [
    "do_ev0_tot"
   ]
  },
  {
   "cell_type": "code",
   "execution_count": 32,
   "metadata": {
    "run_control": {
     "frozen": false,
     "read_only": false
    }
   },
   "outputs": [
    {
     "data": {
      "image/svg+xml": [
       "<?xml version=\"1.0\" encoding=\"UTF-8\" standalone=\"no\"?>\n",
       "<!DOCTYPE svg PUBLIC \"-//W3C//DTD SVG 1.1//EN\"\n",
       " \"http://www.w3.org/Graphics/SVG/1.1/DTD/svg11.dtd\">\n",
       "<!-- Generated by graphviz version 2.40.1 (20161225.0304)\n",
       " -->\n",
       "<!-- Title: %3 Pages: 1 -->\n",
       "<svg width=\"321pt\" height=\"103pt\"\n",
       " viewBox=\"0.00 0.00 321.49 102.80\" xmlns=\"http://www.w3.org/2000/svg\" xmlns:xlink=\"http://www.w3.org/1999/xlink\">\n",
       "<g id=\"graph0\" class=\"graph\" transform=\"scale(1 1) rotate(0) translate(4 98.7958)\">\n",
       "<title>%3</title>\n",
       "<polygon fill=\"#ffffff\" stroke=\"transparent\" points=\"-4,4 -4,-98.7958 317.4925,-98.7958 317.4925,4 -4,4\"/>\n",
       "<!-- EMPTY -->\n",
       "<g id=\"node1\" class=\"node\">\n",
       "<title>EMPTY</title>\n",
       "</g>\n",
       "<!-- IF -->\n",
       "<g id=\"node4\" class=\"node\">\n",
       "<title>IF</title>\n",
       "<ellipse fill=\"none\" stroke=\"#000000\" cx=\"113.8483\" cy=\"-40.3979\" rx=\"18.724\" ry=\"18.724\"/>\n",
       "<ellipse fill=\"none\" stroke=\"#000000\" cx=\"113.8483\" cy=\"-40.3979\" rx=\"22.6977\" ry=\"22.6977\"/>\n",
       "<text text-anchor=\"middle\" x=\"113.8483\" y=\"-36.6979\" font-family=\"Times,serif\" font-size=\"14.00\" fill=\"#000000\">IF</text>\n",
       "</g>\n",
       "<!-- EMPTY&#45;&gt;IF -->\n",
       "<g id=\"edge1\" class=\"edge\">\n",
       "<title>EMPTY&#45;&gt;IF</title>\n",
       "<path fill=\"none\" stroke=\"#000000\" d=\"M54.0033,-40.3979C62.5212,-40.3979 72.0276,-40.3979 80.9112,-40.3979\"/>\n",
       "<polygon fill=\"#000000\" stroke=\"#000000\" points=\"80.9572,-43.898 90.9572,-40.3979 80.9572,-36.898 80.9572,-43.898\"/>\n",
       "</g>\n",
       "<!-- A -->\n",
       "<g id=\"node2\" class=\"node\">\n",
       "<title>A</title>\n",
       "<ellipse fill=\"none\" stroke=\"#000000\" cx=\"201.6967\" cy=\"-58.3979\" rx=\"18\" ry=\"18\"/>\n",
       "<text text-anchor=\"middle\" x=\"201.6967\" y=\"-54.6979\" font-family=\"Times,serif\" font-size=\"14.00\" fill=\"#000000\">A</text>\n",
       "</g>\n",
       "<!-- BH -->\n",
       "<g id=\"node3\" class=\"node\">\n",
       "<title>BH</title>\n",
       "<ellipse fill=\"none\" stroke=\"#000000\" cx=\"290.0946\" cy=\"-23.3979\" rx=\"23.2963\" ry=\"23.2963\"/>\n",
       "<text text-anchor=\"middle\" x=\"290.0946\" y=\"-19.6979\" font-family=\"Times,serif\" font-size=\"14.00\" fill=\"#000000\">BH</text>\n",
       "</g>\n",
       "<!-- A&#45;&gt;BH -->\n",
       "<g id=\"edge4\" class=\"edge\">\n",
       "<title>A&#45;&gt;BH</title>\n",
       "<path fill=\"none\" stroke=\"#000000\" d=\"M218.7407,-51.6496C230.0448,-47.1739 245.2179,-41.1663 258.6658,-35.8417\"/>\n",
       "<polygon fill=\"#000000\" stroke=\"#000000\" points=\"260.0637,-39.0527 268.073,-32.1171 257.4867,-32.5443 260.0637,-39.0527\"/>\n",
       "<text text-anchor=\"middle\" x=\"243.1967\" y=\"-47.1979\" font-family=\"Times,serif\" font-size=\"14.00\" fill=\"#000000\">1 </text>\n",
       "</g>\n",
       "<!-- A&#45;&gt;IF -->\n",
       "<g id=\"edge3\" class=\"edge\">\n",
       "<title>A&#45;&gt;IF</title>\n",
       "<path fill=\"none\" stroke=\"#000000\" d=\"M187.0762,-47.5019C180.8263,-43.4936 173.2403,-39.4374 165.6967,-37.3979 159.6746,-35.7699 153.1204,-35.2409 146.7617,-35.3359\"/>\n",
       "<polygon fill=\"#000000\" stroke=\"#000000\" points=\"146.1293,-31.8692 136.3734,-36.001 146.5766,-38.8549 146.1293,-31.8692\"/>\n",
       "<text text-anchor=\"middle\" x=\"160.1967\" y=\"-41.1979\" font-family=\"Times,serif\" font-size=\"14.00\" fill=\"#000000\">0 </text>\n",
       "</g>\n",
       "<!-- BH&#45;&gt;BH -->\n",
       "<g id=\"edge6\" class=\"edge\">\n",
       "<title>BH&#45;&gt;BH</title>\n",
       "<path fill=\"none\" stroke=\"#000000\" d=\"M281.6401,-45.5452C280.7178,-55.8192 283.536,-64.7958 290.0946,-64.7958 294.2962,-64.7958 296.9627,-61.1118 298.0941,-55.7628\"/>\n",
       "<polygon fill=\"#000000\" stroke=\"#000000\" points=\"301.6007,-55.691 298.549,-45.5452 294.6076,-55.3796 301.6007,-55.691\"/>\n",
       "<text text-anchor=\"middle\" x=\"290.0946\" y=\"-83.5958\" font-family=\"Times,serif\" font-size=\"14.00\" fill=\"#000000\">0 </text>\n",
       "<text text-anchor=\"middle\" x=\"290.0946\" y=\"-68.5958\" font-family=\"Times,serif\" font-size=\"14.00\" fill=\"#000000\"> 1 </text>\n",
       "</g>\n",
       "<!-- IF&#45;&gt;A -->\n",
       "<g id=\"edge2\" class=\"edge\">\n",
       "<title>IF&#45;&gt;A</title>\n",
       "<path fill=\"none\" stroke=\"#000000\" d=\"M134.64,-50.0708C140.9497,-52.5853 147.9896,-54.9829 154.6967,-56.3979 160.7375,-57.6724 167.3089,-58.3686 173.5709,-58.7169\"/>\n",
       "<polygon fill=\"#000000\" stroke=\"#000000\" points=\"173.5697,-62.2183 183.6688,-59.0153 173.7765,-55.2213 173.5697,-62.2183\"/>\n",
       "<text text-anchor=\"middle\" x=\"160.1967\" y=\"-61.1979\" font-family=\"Times,serif\" font-size=\"14.00\" fill=\"#000000\">0 </text>\n",
       "</g>\n",
       "<!-- IF&#45;&gt;BH -->\n",
       "<g id=\"edge5\" class=\"edge\">\n",
       "<title>IF&#45;&gt;BH</title>\n",
       "<path fill=\"none\" stroke=\"#000000\" d=\"M134.772,-31.1695C148.4063,-25.6713 166.7495,-19.2283 183.6967,-16.3979 208.0637,-12.3284 235.9398,-14.4041 257.0445,-17.3238\"/>\n",
       "<polygon fill=\"#000000\" stroke=\"#000000\" points=\"256.7003,-20.8116 267.112,-18.8504 257.7498,-13.8907 256.7003,-20.8116\"/>\n",
       "<text text-anchor=\"middle\" x=\"201.6967\" y=\"-20.1979\" font-family=\"Times,serif\" font-size=\"14.00\" fill=\"#000000\">1 </text>\n",
       "</g>\n",
       "</g>\n",
       "</svg>\n"
      ],
      "text/plain": [
       "<graphviz.dot.Digraph at 0x1124cf8d0>"
      ]
     },
     "execution_count": 32,
     "metadata": {},
     "output_type": "execute_result"
    }
   ],
   "source": [
    "dotObj_dfa_w_bh(ev0_bh_totalize, FuseEdges=True)"
   ]
  },
  {
   "cell_type": "markdown",
   "metadata": {
    "run_control": {
     "frozen": false,
     "read_only": false
    }
   },
   "source": [
    "<span style=\"color:blue\"> **We can now write routines to print DFA using dot. The main routines are listed below.** </span>\n",
    "\n",
    "* dot_dfa_w_bh : lists all states of a DFA including black-hole states\n",
    "* dot_dfa      : lists all isNotBH states (see below for a defn), i.e. suppress black-holes\n",
    "     - Usually there are too many transitions to them and that clutters the view\n",
    "     "
   ]
  },
  {
   "cell_type": "code",
   "execution_count": 33,
   "metadata": {
    "run_control": {
     "frozen": false,
     "read_only": false
    }
   },
   "outputs": [
    {
     "data": {
      "image/svg+xml": [
       "<?xml version=\"1.0\" encoding=\"UTF-8\" standalone=\"no\"?>\n",
       "<!DOCTYPE svg PUBLIC \"-//W3C//DTD SVG 1.1//EN\"\n",
       " \"http://www.w3.org/Graphics/SVG/1.1/DTD/svg11.dtd\">\n",
       "<!-- Generated by graphviz version 2.40.1 (20161225.0304)\n",
       " -->\n",
       "<!-- Title: %3 Pages: 1 -->\n",
       "<svg width=\"336pt\" height=\"202pt\"\n",
       " viewBox=\"0.00 0.00 336.39 201.85\" xmlns=\"http://www.w3.org/2000/svg\" xmlns:xlink=\"http://www.w3.org/1999/xlink\">\n",
       "<g id=\"graph0\" class=\"graph\" transform=\"scale(1 1) rotate(0) translate(4 197.846)\">\n",
       "<title>%3</title>\n",
       "<polygon fill=\"#ffffff\" stroke=\"transparent\" points=\"-4,4 -4,-197.846 332.3887,-197.846 332.3887,4 -4,4\"/>\n",
       "<!-- EMPTY -->\n",
       "<g id=\"node1\" class=\"node\">\n",
       "<title>EMPTY</title>\n",
       "</g>\n",
       "<!-- IF -->\n",
       "<g id=\"node6\" class=\"node\">\n",
       "<title>IF</title>\n",
       "<ellipse fill=\"none\" stroke=\"#000000\" cx=\"113.8483\" cy=\"-73.1482\" rx=\"18.724\" ry=\"18.724\"/>\n",
       "<ellipse fill=\"none\" stroke=\"#000000\" cx=\"113.8483\" cy=\"-73.1482\" rx=\"22.6977\" ry=\"22.6977\"/>\n",
       "<text text-anchor=\"middle\" x=\"113.8483\" y=\"-69.4482\" font-family=\"Times,serif\" font-size=\"14.00\" fill=\"#000000\">IF</text>\n",
       "</g>\n",
       "<!-- EMPTY&#45;&gt;IF -->\n",
       "<g id=\"edge1\" class=\"edge\">\n",
       "<title>EMPTY&#45;&gt;IF</title>\n",
       "<path fill=\"none\" stroke=\"#000000\" d=\"M54.0033,-73.1482C62.5212,-73.1482 72.0276,-73.1482 80.9112,-73.1482\"/>\n",
       "<polygon fill=\"#000000\" stroke=\"#000000\" points=\"80.9572,-76.6483 90.9572,-73.1482 80.9572,-69.6483 80.9572,-76.6483\"/>\n",
       "</g>\n",
       "<!-- S10 -->\n",
       "<g id=\"node2\" class=\"node\">\n",
       "<title>S10</title>\n",
       "<ellipse fill=\"none\" stroke=\"#000000\" cx=\"303.6909\" cy=\"-136.1482\" rx=\"24.8972\" ry=\"24.8972\"/>\n",
       "<text text-anchor=\"middle\" x=\"303.6909\" y=\"-132.4482\" font-family=\"Times,serif\" font-size=\"14.00\" fill=\"#000000\">S10</text>\n",
       "</g>\n",
       "<!-- S10&#45;&gt;S10 -->\n",
       "<g id=\"edge10\" class=\"edge\">\n",
       "<title>S10&#45;&gt;S10</title>\n",
       "<path fill=\"none\" stroke=\"#000000\" d=\"M294.8315,-159.4256C293.9878,-169.8395 296.9409,-178.846 303.6909,-178.846 308.0151,-178.846 310.7811,-175.1497 311.9888,-169.7551\"/>\n",
       "<polygon fill=\"#000000\" stroke=\"#000000\" points=\"315.5023,-169.6009 312.5503,-159.4256 308.5126,-169.2209 315.5023,-169.6009\"/>\n",
       "<text text-anchor=\"middle\" x=\"303.6909\" y=\"-182.646\" font-family=\"Times,serif\" font-size=\"14.00\" fill=\"#000000\">0 </text>\n",
       "</g>\n",
       "<!-- F1 -->\n",
       "<g id=\"node4\" class=\"node\">\n",
       "<title>F1</title>\n",
       "<ellipse fill=\"none\" stroke=\"#000000\" cx=\"207.8449\" cy=\"-123.1482\" rx=\"20.2726\" ry=\"20.2726\"/>\n",
       "<ellipse fill=\"none\" stroke=\"#000000\" cx=\"207.8449\" cy=\"-123.1482\" rx=\"24.2973\" ry=\"24.2973\"/>\n",
       "<text text-anchor=\"middle\" x=\"207.8449\" y=\"-119.4482\" font-family=\"Times,serif\" font-size=\"14.00\" fill=\"#000000\">F1</text>\n",
       "</g>\n",
       "<!-- S10&#45;&gt;F1 -->\n",
       "<g id=\"edge11\" class=\"edge\">\n",
       "<title>S10&#45;&gt;F1</title>\n",
       "<path fill=\"none\" stroke=\"#000000\" d=\"M283.9802,-120.4363C277.1066,-115.8732 269.0804,-111.4907 260.9931,-109.1482 254.0347,-107.1327 246.5291,-107.5441 239.4127,-109.12\"/>\n",
       "<polygon fill=\"#000000\" stroke=\"#000000\" points=\"237.956,-105.9022 229.3742,-112.1153 239.9575,-112.6099 237.956,-105.9022\"/>\n",
       "<text text-anchor=\"middle\" x=\"255.4931\" y=\"-112.9482\" font-family=\"Times,serif\" font-size=\"14.00\" fill=\"#000000\">1 </text>\n",
       "</g>\n",
       "<!-- S01 -->\n",
       "<g id=\"node3\" class=\"node\">\n",
       "<title>S01</title>\n",
       "<ellipse fill=\"none\" stroke=\"#000000\" cx=\"303.6909\" cy=\"-30.1482\" rx=\"24.8972\" ry=\"24.8972\"/>\n",
       "<text text-anchor=\"middle\" x=\"303.6909\" y=\"-26.4482\" font-family=\"Times,serif\" font-size=\"14.00\" fill=\"#000000\">S01</text>\n",
       "</g>\n",
       "<!-- S01&#45;&gt;S01 -->\n",
       "<g id=\"edge6\" class=\"edge\">\n",
       "<title>S01&#45;&gt;S01</title>\n",
       "<path fill=\"none\" stroke=\"#000000\" d=\"M294.8315,-53.4256C293.9878,-63.8395 296.9409,-72.846 303.6909,-72.846 308.0151,-72.846 310.7811,-69.1497 311.9888,-63.7551\"/>\n",
       "<polygon fill=\"#000000\" stroke=\"#000000\" points=\"315.5023,-63.6009 312.5503,-53.4256 308.5126,-63.2209 315.5023,-63.6009\"/>\n",
       "<text text-anchor=\"middle\" x=\"303.6909\" y=\"-76.646\" font-family=\"Times,serif\" font-size=\"14.00\" fill=\"#000000\">1 </text>\n",
       "</g>\n",
       "<!-- F0 -->\n",
       "<g id=\"node5\" class=\"node\">\n",
       "<title>F0</title>\n",
       "<ellipse fill=\"none\" stroke=\"#000000\" cx=\"207.8449\" cy=\"-24.1482\" rx=\"20.2726\" ry=\"20.2726\"/>\n",
       "<ellipse fill=\"none\" stroke=\"#000000\" cx=\"207.8449\" cy=\"-24.1482\" rx=\"24.2973\" ry=\"24.2973\"/>\n",
       "<text text-anchor=\"middle\" x=\"207.8449\" y=\"-20.4482\" font-family=\"Times,serif\" font-size=\"14.00\" fill=\"#000000\">F0</text>\n",
       "</g>\n",
       "<!-- S01&#45;&gt;F0 -->\n",
       "<g id=\"edge7\" class=\"edge\">\n",
       "<title>S01&#45;&gt;F0</title>\n",
       "<path fill=\"none\" stroke=\"#000000\" d=\"M281.0735,-19.9579C274.7086,-17.5661 267.6919,-15.3621 260.9931,-14.1482 254.5059,-12.9727 247.5788,-13.1944 240.9412,-14.1352\"/>\n",
       "<polygon fill=\"#000000\" stroke=\"#000000\" points=\"239.996,-10.7537 230.8538,-16.1083 241.3397,-17.6235 239.996,-10.7537\"/>\n",
       "<text text-anchor=\"middle\" x=\"255.4931\" y=\"-17.9482\" font-family=\"Times,serif\" font-size=\"14.00\" fill=\"#000000\">0 </text>\n",
       "</g>\n",
       "<!-- F1&#45;&gt;S10 -->\n",
       "<g id=\"edge9\" class=\"edge\">\n",
       "<title>F1&#45;&gt;S10</title>\n",
       "<path fill=\"none\" stroke=\"#000000\" d=\"M232.0309,-126.4287C243.2954,-127.9565 256.9008,-129.8019 269.2168,-131.4723\"/>\n",
       "<polygon fill=\"#000000\" stroke=\"#000000\" points=\"268.7995,-134.9477 279.1792,-132.8236 269.7404,-128.0112 268.7995,-134.9477\"/>\n",
       "<text text-anchor=\"middle\" x=\"255.4931\" y=\"-132.9482\" font-family=\"Times,serif\" font-size=\"14.00\" fill=\"#000000\">0 </text>\n",
       "</g>\n",
       "<!-- F1&#45;&gt;F1 -->\n",
       "<g id=\"edge8\" class=\"edge\">\n",
       "<title>F1&#45;&gt;F1</title>\n",
       "<path fill=\"none\" stroke=\"#000000\" d=\"M199.3546,-146.126C198.546,-156.4058 201.3761,-165.2964 207.8449,-165.2964 211.9889,-165.2964 214.6396,-161.6477 215.7971,-156.3225\"/>\n",
       "<polygon fill=\"#000000\" stroke=\"#000000\" points=\"219.3032,-156.2966 216.3351,-146.126 212.3129,-155.9276 219.3032,-156.2966\"/>\n",
       "<text text-anchor=\"middle\" x=\"207.8449\" y=\"-169.0964\" font-family=\"Times,serif\" font-size=\"14.00\" fill=\"#000000\">1 </text>\n",
       "</g>\n",
       "<!-- F0&#45;&gt;S01 -->\n",
       "<g id=\"edge5\" class=\"edge\">\n",
       "<title>F0&#45;&gt;S01</title>\n",
       "<path fill=\"none\" stroke=\"#000000\" d=\"M231.3338,-30.0768C237.3743,-31.3491 243.8915,-32.504 249.9931,-33.1482 256.0606,-33.7888 262.5291,-33.9069 268.7987,-33.7275\"/>\n",
       "<polygon fill=\"#000000\" stroke=\"#000000\" points=\"269.2552,-37.2084 279.0562,-33.1845 268.8851,-30.2181 269.2552,-37.2084\"/>\n",
       "<text text-anchor=\"middle\" x=\"255.4931\" y=\"-36.9482\" font-family=\"Times,serif\" font-size=\"14.00\" fill=\"#000000\">1 </text>\n",
       "</g>\n",
       "<!-- F0&#45;&gt;F0 -->\n",
       "<g id=\"edge4\" class=\"edge\">\n",
       "<title>F0&#45;&gt;F0</title>\n",
       "<path fill=\"none\" stroke=\"#000000\" d=\"M199.3546,-47.126C198.546,-57.4058 201.3761,-66.2964 207.8449,-66.2964 211.9889,-66.2964 214.6396,-62.6477 215.7971,-57.3225\"/>\n",
       "<polygon fill=\"#000000\" stroke=\"#000000\" points=\"219.3032,-57.2966 216.3351,-47.126 212.3129,-56.9276 219.3032,-57.2966\"/>\n",
       "<text text-anchor=\"middle\" x=\"207.8449\" y=\"-70.0964\" font-family=\"Times,serif\" font-size=\"14.00\" fill=\"#000000\">0 </text>\n",
       "</g>\n",
       "<!-- IF&#45;&gt;F1 -->\n",
       "<g id=\"edge3\" class=\"edge\">\n",
       "<title>IF&#45;&gt;F1</title>\n",
       "<path fill=\"none\" stroke=\"#000000\" d=\"M134.2442,-83.9975C146.9118,-90.7358 163.4239,-99.5192 177.5976,-107.0586\"/>\n",
       "<polygon fill=\"#000000\" stroke=\"#000000\" points=\"176.0377,-110.1932 186.5101,-111.7995 179.3251,-104.0132 176.0377,-110.1932\"/>\n",
       "<text text-anchor=\"middle\" x=\"160.1967\" y=\"-102.9482\" font-family=\"Times,serif\" font-size=\"14.00\" fill=\"#000000\">1 </text>\n",
       "</g>\n",
       "<!-- IF&#45;&gt;F0 -->\n",
       "<g id=\"edge2\" class=\"edge\">\n",
       "<title>IF&#45;&gt;F0</title>\n",
       "<path fill=\"none\" stroke=\"#000000\" d=\"M134.2442,-62.5159C146.8232,-55.9586 163.1932,-47.4249 177.2999,-40.0712\"/>\n",
       "<polygon fill=\"#000000\" stroke=\"#000000\" points=\"178.931,-43.1679 186.1806,-35.4417 175.6952,-36.9607 178.931,-43.1679\"/>\n",
       "<text text-anchor=\"middle\" x=\"160.1967\" y=\"-54.9482\" font-family=\"Times,serif\" font-size=\"14.00\" fill=\"#000000\">0 </text>\n",
       "</g>\n",
       "</g>\n",
       "</svg>\n"
      ],
      "text/plain": [
       "<graphviz.dot.Digraph at 0x1124ca7f0>"
      ]
     },
     "execution_count": 33,
     "metadata": {},
     "output_type": "execute_result"
    }
   ],
   "source": [
    "dfaBESame = md2mc('''\n",
    "DFA !! Begins and ends with same; epsilon allowed\n",
    "IF  : 0 -> F0\n",
    "IF  : 1 -> F1\n",
    "!!\n",
    "F0  : 0 -> F0\n",
    "F0  : 1 -> S01\n",
    "S01 : 1 -> S01\n",
    "S01 : 0 -> F0\n",
    "!!\n",
    "F1  : 1 -> F1\n",
    "F1  : 0 -> S10\n",
    "S10 : 0 -> S10\n",
    "S10 : 1 -> F1\n",
    "''')\n",
    "DOdfaBESame = dotObj_dfa(dfaBESame)\n",
    "DOdfaBESame"
   ]
  },
  {
   "cell_type": "markdown",
   "metadata": {
    "run_control": {
     "frozen": false,
     "read_only": false
    }
   },
   "source": [
    "## Let us now administer some tests to print dot-strings generated.\n",
    "\n",
    "We will demonstrate two ways to print automata: \n",
    "\n",
    "1. First generate a dot string via dot_dfa or dot_dfa_w_bh\n",
    "   (calling the result \"dot_string\") \n",
    "   1. Then use the srcObj = Source(dot_string) call\n",
    "   2. Thereafter we can display the srcObj object directly into the browser\n",
    "   3. Or, one can also later convert the dot_string to svg or PDF\n",
    "2. OR, one can directly generate a dot object via the dotObj_dfa or dotObj_dfa_w_bh call\n",
    "   (calling the result \"dot_object\")\n",
    "   1. Then directly display the dot_object\n",
    "   2. There are conversions available for dot_object to other formats too"
   ]
  },
  {
   "cell_type": "markdown",
   "metadata": {
    "run_control": {
     "frozen": false,
     "read_only": false
    }
   },
   "source": [
    "# One can read DFAs from files"
   ]
  },
  {
   "cell_type": "code",
   "execution_count": 34,
   "metadata": {
    "run_control": {
     "frozen": false,
     "read_only": false
    }
   },
   "outputs": [],
   "source": [
    "dped1 = md2mc(src=\"File\", fname=\"pedagogical1.dfa\")\n",
    "#machines/dfafiles/pedagogical1.dfa"
   ]
  },
  {
   "cell_type": "code",
   "execution_count": 35,
   "metadata": {
    "run_control": {
     "frozen": false,
     "read_only": false
    }
   },
   "outputs": [
    {
     "data": {
      "text/plain": [
       "{'Q': {'A', 'B', 'F', 'IF'},\n",
       " 'Sigma': {'0', '1'},\n",
       " 'Delta': {('IF', '0'): 'A',\n",
       "  ('IF', '1'): 'B',\n",
       "  ('A', '0'): 'B',\n",
       "  ('A', '1'): 'B',\n",
       "  ('B', '1'): 'F',\n",
       "  ('B', '0'): 'IF',\n",
       "  ('F', '0'): 'B',\n",
       "  ('F', '1'): 'B'},\n",
       " 'q0': 'IF',\n",
       " 'F': {'F', 'IF'}}"
      ]
     },
     "execution_count": 35,
     "metadata": {},
     "output_type": "execute_result"
    }
   ],
   "source": [
    "dped1"
   ]
  },
  {
   "cell_type": "code",
   "execution_count": 36,
   "metadata": {
    "run_control": {
     "frozen": false,
     "read_only": false
    }
   },
   "outputs": [
    {
     "data": {
      "image/svg+xml": [
       "<?xml version=\"1.0\" encoding=\"UTF-8\" standalone=\"no\"?>\n",
       "<!DOCTYPE svg PUBLIC \"-//W3C//DTD SVG 1.1//EN\"\n",
       " \"http://www.w3.org/Graphics/SVG/1.1/DTD/svg11.dtd\">\n",
       "<!-- Generated by graphviz version 2.40.1 (20161225.0304)\n",
       " -->\n",
       "<!-- Title: %3 Pages: 1 -->\n",
       "<svg width=\"402pt\" height=\"115pt\"\n",
       " viewBox=\"0.00 0.00 401.70 115.00\" xmlns=\"http://www.w3.org/2000/svg\" xmlns:xlink=\"http://www.w3.org/1999/xlink\">\n",
       "<g id=\"graph0\" class=\"graph\" transform=\"scale(1 1) rotate(0) translate(4 111)\">\n",
       "<title>%3</title>\n",
       "<polygon fill=\"#ffffff\" stroke=\"transparent\" points=\"-4,4 -4,-111 397.6967,-111 397.6967,4 -4,4\"/>\n",
       "<!-- EMPTY -->\n",
       "<g id=\"node1\" class=\"node\">\n",
       "<title>EMPTY</title>\n",
       "</g>\n",
       "<!-- IF -->\n",
       "<g id=\"node5\" class=\"node\">\n",
       "<title>IF</title>\n",
       "<ellipse fill=\"none\" stroke=\"#000000\" cx=\"113.8483\" cy=\"-72\" rx=\"18.724\" ry=\"18.724\"/>\n",
       "<ellipse fill=\"none\" stroke=\"#000000\" cx=\"113.8483\" cy=\"-72\" rx=\"22.6977\" ry=\"22.6977\"/>\n",
       "<text text-anchor=\"middle\" x=\"113.8483\" y=\"-68.3\" font-family=\"Times,serif\" font-size=\"14.00\" fill=\"#000000\">IF</text>\n",
       "</g>\n",
       "<!-- EMPTY&#45;&gt;IF -->\n",
       "<g id=\"edge1\" class=\"edge\">\n",
       "<title>EMPTY&#45;&gt;IF</title>\n",
       "<path fill=\"none\" stroke=\"#000000\" d=\"M54.0033,-72C62.5212,-72 72.0276,-72 80.9112,-72\"/>\n",
       "<polygon fill=\"#000000\" stroke=\"#000000\" points=\"80.9572,-75.5001 90.9572,-72 80.9572,-68.5001 80.9572,-75.5001\"/>\n",
       "</g>\n",
       "<!-- B -->\n",
       "<g id=\"node2\" class=\"node\">\n",
       "<title>B</title>\n",
       "<ellipse fill=\"none\" stroke=\"#000000\" cx=\"284.6967\" cy=\"-57\" rx=\"18\" ry=\"18\"/>\n",
       "<text text-anchor=\"middle\" x=\"284.6967\" y=\"-53.3\" font-family=\"Times,serif\" font-size=\"14.00\" fill=\"#000000\">B</text>\n",
       "</g>\n",
       "<!-- F -->\n",
       "<g id=\"node4\" class=\"node\">\n",
       "<title>F</title>\n",
       "<ellipse fill=\"none\" stroke=\"#000000\" cx=\"371.6967\" cy=\"-57\" rx=\"18\" ry=\"18\"/>\n",
       "<ellipse fill=\"none\" stroke=\"#000000\" cx=\"371.6967\" cy=\"-57\" rx=\"22\" ry=\"22\"/>\n",
       "<text text-anchor=\"middle\" x=\"371.6967\" y=\"-53.3\" font-family=\"Times,serif\" font-size=\"14.00\" fill=\"#000000\">F</text>\n",
       "</g>\n",
       "<!-- B&#45;&gt;F -->\n",
       "<g id=\"edge6\" class=\"edge\">\n",
       "<title>B&#45;&gt;F</title>\n",
       "<path fill=\"none\" stroke=\"#000000\" d=\"M300.6969,-65.8317C306.7711,-68.7176 313.8724,-71.5518 320.6967,-73 328.0608,-74.5628 335.8792,-73.5283 343.1243,-71.3858\"/>\n",
       "<polygon fill=\"#000000\" stroke=\"#000000\" points=\"344.3758,-74.6548 352.5523,-67.9172 341.9588,-68.0853 344.3758,-74.6548\"/>\n",
       "<text text-anchor=\"middle\" x=\"326.1967\" y=\"-76.8\" font-family=\"Times,serif\" font-size=\"14.00\" fill=\"#000000\">1 </text>\n",
       "</g>\n",
       "<!-- B&#45;&gt;IF -->\n",
       "<g id=\"edge7\" class=\"edge\">\n",
       "<title>B&#45;&gt;IF</title>\n",
       "<path fill=\"none\" stroke=\"#000000\" d=\"M266.6981,-58.5802C238.402,-61.0645 183.0587,-65.9235 147.3051,-69.0626\"/>\n",
       "<polygon fill=\"#000000\" stroke=\"#000000\" points=\"146.5452,-65.6158 136.8897,-69.977 147.1575,-72.5889 146.5452,-65.6158\"/>\n",
       "<text text-anchor=\"middle\" x=\"201.6967\" y=\"-68.8\" font-family=\"Times,serif\" font-size=\"14.00\" fill=\"#000000\">0 </text>\n",
       "</g>\n",
       "<!-- A -->\n",
       "<g id=\"node3\" class=\"node\">\n",
       "<title>A</title>\n",
       "<ellipse fill=\"none\" stroke=\"#000000\" cx=\"201.6967\" cy=\"-18\" rx=\"18\" ry=\"18\"/>\n",
       "<text text-anchor=\"middle\" x=\"201.6967\" y=\"-14.3\" font-family=\"Times,serif\" font-size=\"14.00\" fill=\"#000000\">A</text>\n",
       "</g>\n",
       "<!-- A&#45;&gt;B -->\n",
       "<g id=\"edge4\" class=\"edge\">\n",
       "<title>A&#45;&gt;B</title>\n",
       "<path fill=\"none\" stroke=\"#000000\" d=\"M218.0948,-25.7051C229.8038,-31.207 245.7833,-38.7154 259.1551,-44.9985\"/>\n",
       "<polygon fill=\"#000000\" stroke=\"#000000\" points=\"257.7935,-48.2258 268.3326,-49.3109 260.7704,-41.8904 257.7935,-48.2258\"/>\n",
       "<text text-anchor=\"middle\" x=\"243.1967\" y=\"-42.8\" font-family=\"Times,serif\" font-size=\"14.00\" fill=\"#000000\">0 </text>\n",
       "</g>\n",
       "<!-- A&#45;&gt;B -->\n",
       "<g id=\"edge5\" class=\"edge\">\n",
       "<title>A&#45;&gt;B</title>\n",
       "<path fill=\"none\" stroke=\"#000000\" d=\"M219.3869,-13.552C228.5199,-12.1522 239.6197,-11.8906 248.6967,-16 256.7058,-19.626 263.6394,-26.0119 269.2247,-32.6799\"/>\n",
       "<polygon fill=\"#000000\" stroke=\"#000000\" points=\"266.7464,-35.2071 275.5576,-41.0904 272.3384,-30.9965 266.7464,-35.2071\"/>\n",
       "<text text-anchor=\"middle\" x=\"243.1967\" y=\"-19.8\" font-family=\"Times,serif\" font-size=\"14.00\" fill=\"#000000\">1 </text>\n",
       "</g>\n",
       "<!-- F&#45;&gt;B -->\n",
       "<g id=\"edge8\" class=\"edge\">\n",
       "<title>F&#45;&gt;B</title>\n",
       "<path fill=\"none\" stroke=\"#000000\" d=\"M349.6141,-54.7333C340.644,-54.065 330.1788,-53.6056 320.6967,-54 318.1197,-54.1072 315.4416,-54.2574 312.7614,-54.4339\"/>\n",
       "<polygon fill=\"#000000\" stroke=\"#000000\" points=\"312.3269,-50.9569 302.6235,-55.2107 312.8618,-57.9364 312.3269,-50.9569\"/>\n",
       "<text text-anchor=\"middle\" x=\"326.1967\" y=\"-57.8\" font-family=\"Times,serif\" font-size=\"14.00\" fill=\"#000000\">0 </text>\n",
       "</g>\n",
       "<!-- F&#45;&gt;B -->\n",
       "<g id=\"edge9\" class=\"edge\">\n",
       "<title>F&#45;&gt;B</title>\n",
       "<path fill=\"none\" stroke=\"#000000\" d=\"M354.6869,-42.5753C344.982,-36.0859 332.4438,-30.5678 320.6967,-34 316.1694,-35.3228 311.6699,-37.4076 307.4637,-39.7944\"/>\n",
       "<polygon fill=\"#000000\" stroke=\"#000000\" points=\"305.3626,-36.9836 298.8273,-45.3228 309.1365,-42.8792 305.3626,-36.9836\"/>\n",
       "<text text-anchor=\"middle\" x=\"326.1967\" y=\"-37.8\" font-family=\"Times,serif\" font-size=\"14.00\" fill=\"#000000\">1 </text>\n",
       "</g>\n",
       "<!-- IF&#45;&gt;B -->\n",
       "<g id=\"edge3\" class=\"edge\">\n",
       "<title>IF&#45;&gt;B</title>\n",
       "<path fill=\"none\" stroke=\"#000000\" d=\"M135.2772,-80.0619C141.4814,-82.1997 148.3054,-84.3649 154.6967,-86 182.7668,-93.1813 190.8279,-93.4705 219.6967,-91 232.7281,-89.8848 236.778,-91.3859 248.6967,-86 253.999,-83.6039 259.1854,-80.2391 263.8963,-76.6463\"/>\n",
       "<polygon fill=\"#000000\" stroke=\"#000000\" points=\"266.3289,-79.1756 271.7846,-70.0934 261.856,-73.7911 266.3289,-79.1756\"/>\n",
       "<text text-anchor=\"middle\" x=\"201.6967\" y=\"-95.8\" font-family=\"Times,serif\" font-size=\"14.00\" fill=\"#000000\">1 </text>\n",
       "</g>\n",
       "<!-- IF&#45;&gt;A -->\n",
       "<g id=\"edge2\" class=\"edge\">\n",
       "<title>IF&#45;&gt;A</title>\n",
       "<path fill=\"none\" stroke=\"#000000\" d=\"M132.2151,-58.2022C139.1302,-53.2108 147.1483,-47.6603 154.6967,-43 161.509,-38.7941 169.0925,-34.5721 176.1454,-30.8264\"/>\n",
       "<polygon fill=\"#000000\" stroke=\"#000000\" points=\"178.054,-33.7789 185.3116,-26.0602 174.8247,-27.5683 178.054,-33.7789\"/>\n",
       "<text text-anchor=\"middle\" x=\"160.1967\" y=\"-46.8\" font-family=\"Times,serif\" font-size=\"14.00\" fill=\"#000000\">0 </text>\n",
       "</g>\n",
       "</g>\n",
       "</svg>\n"
      ],
      "text/plain": [
       "<graphviz.dot.Digraph at 0x1124b2b70>"
      ]
     },
     "execution_count": 36,
     "metadata": {},
     "output_type": "execute_result"
    }
   ],
   "source": [
    "dotObj_dfa(dped1)"
   ]
  },
  {
   "cell_type": "code",
   "execution_count": 37,
   "metadata": {
    "run_control": {
     "frozen": false,
     "read_only": false
    }
   },
   "outputs": [
    {
     "data": {
      "image/svg+xml": [
       "<?xml version=\"1.0\" encoding=\"UTF-8\" standalone=\"no\"?>\n",
       "<!DOCTYPE svg PUBLIC \"-//W3C//DTD SVG 1.1//EN\"\n",
       " \"http://www.w3.org/Graphics/SVG/1.1/DTD/svg11.dtd\">\n",
       "<!-- Generated by graphviz version 2.40.1 (20161225.0304)\n",
       " -->\n",
       "<!-- Title: %3 Pages: 1 -->\n",
       "<svg width=\"410pt\" height=\"117pt\"\n",
       " viewBox=\"0.00 0.00 409.70 117.00\" xmlns=\"http://www.w3.org/2000/svg\" xmlns:xlink=\"http://www.w3.org/1999/xlink\">\n",
       "<g id=\"graph0\" class=\"graph\" transform=\"scale(1 1) rotate(0) translate(4 113)\">\n",
       "<title>%3</title>\n",
       "<polygon fill=\"#ffffff\" stroke=\"transparent\" points=\"-4,4 -4,-113 405.6967,-113 405.6967,4 -4,4\"/>\n",
       "<!-- EMPTY -->\n",
       "<g id=\"node1\" class=\"node\">\n",
       "<title>EMPTY</title>\n",
       "</g>\n",
       "<!-- IF -->\n",
       "<g id=\"node5\" class=\"node\">\n",
       "<title>IF</title>\n",
       "<ellipse fill=\"none\" stroke=\"#000000\" cx=\"113.8483\" cy=\"-72\" rx=\"18.724\" ry=\"18.724\"/>\n",
       "<ellipse fill=\"none\" stroke=\"#000000\" cx=\"113.8483\" cy=\"-72\" rx=\"22.6977\" ry=\"22.6977\"/>\n",
       "<text text-anchor=\"middle\" x=\"113.8483\" y=\"-68.3\" font-family=\"Times,serif\" font-size=\"14.00\" fill=\"#000000\">IF</text>\n",
       "</g>\n",
       "<!-- EMPTY&#45;&gt;IF -->\n",
       "<g id=\"edge1\" class=\"edge\">\n",
       "<title>EMPTY&#45;&gt;IF</title>\n",
       "<path fill=\"none\" stroke=\"#000000\" d=\"M54.0033,-72C62.5212,-72 72.0276,-72 80.9112,-72\"/>\n",
       "<polygon fill=\"#000000\" stroke=\"#000000\" points=\"80.9572,-75.5001 90.9572,-72 80.9572,-68.5001 80.9572,-75.5001\"/>\n",
       "</g>\n",
       "<!-- B -->\n",
       "<g id=\"node2\" class=\"node\">\n",
       "<title>B</title>\n",
       "<ellipse fill=\"none\" stroke=\"#000000\" cx=\"288.6967\" cy=\"-72\" rx=\"18\" ry=\"18\"/>\n",
       "<text text-anchor=\"middle\" x=\"288.6967\" y=\"-68.3\" font-family=\"Times,serif\" font-size=\"14.00\" fill=\"#000000\">B</text>\n",
       "</g>\n",
       "<!-- F -->\n",
       "<g id=\"node4\" class=\"node\">\n",
       "<title>F</title>\n",
       "<ellipse fill=\"none\" stroke=\"#000000\" cx=\"379.6967\" cy=\"-72\" rx=\"18\" ry=\"18\"/>\n",
       "<ellipse fill=\"none\" stroke=\"#000000\" cx=\"379.6967\" cy=\"-72\" rx=\"22\" ry=\"22\"/>\n",
       "<text text-anchor=\"middle\" x=\"379.6967\" y=\"-68.3\" font-family=\"Times,serif\" font-size=\"14.00\" fill=\"#000000\">F</text>\n",
       "</g>\n",
       "<!-- B&#45;&gt;F -->\n",
       "<g id=\"edge5\" class=\"edge\">\n",
       "<title>B&#45;&gt;F</title>\n",
       "<path fill=\"none\" stroke=\"#000000\" d=\"M306.5911,-74.9814C312.3538,-75.8083 318.7794,-76.591 324.6967,-77 332.1082,-77.5122 340.0718,-77.2563 347.5743,-76.6504\"/>\n",
       "<polygon fill=\"#000000\" stroke=\"#000000\" points=\"348.1776,-80.1069 357.768,-75.6041 347.4629,-73.1435 348.1776,-80.1069\"/>\n",
       "<text text-anchor=\"middle\" x=\"332.1967\" y=\"-80.8\" font-family=\"Times,serif\" font-size=\"14.00\" fill=\"#000000\">1 </text>\n",
       "</g>\n",
       "<!-- B&#45;&gt;IF -->\n",
       "<g id=\"edge6\" class=\"edge\">\n",
       "<title>B&#45;&gt;IF</title>\n",
       "<path fill=\"none\" stroke=\"#000000\" d=\"M270.6127,-72C241.4458,-72 183.5852,-72 146.9027,-72\"/>\n",
       "<polygon fill=\"#000000\" stroke=\"#000000\" points=\"146.7067,-68.5001 136.7067,-72 146.7067,-75.5001 146.7067,-68.5001\"/>\n",
       "<text text-anchor=\"middle\" x=\"201.6967\" y=\"-75.8\" font-family=\"Times,serif\" font-size=\"14.00\" fill=\"#000000\">0 </text>\n",
       "</g>\n",
       "<!-- A -->\n",
       "<g id=\"node3\" class=\"node\">\n",
       "<title>A</title>\n",
       "<ellipse fill=\"none\" stroke=\"#000000\" cx=\"201.6967\" cy=\"-18\" rx=\"18\" ry=\"18\"/>\n",
       "<text text-anchor=\"middle\" x=\"201.6967\" y=\"-14.3\" font-family=\"Times,serif\" font-size=\"14.00\" fill=\"#000000\">A</text>\n",
       "</g>\n",
       "<!-- A&#45;&gt;B -->\n",
       "<g id=\"edge4\" class=\"edge\">\n",
       "<title>A&#45;&gt;B</title>\n",
       "<path fill=\"none\" stroke=\"#000000\" d=\"M219.7644,-18.5515C230.037,-19.5687 242.787,-22.0687 252.6967,-28 260.8532,-32.882 267.9679,-40.3184 273.6703,-47.6962\"/>\n",
       "<polygon fill=\"#000000\" stroke=\"#000000\" points=\"271.0482,-50.0488 279.6933,-56.1736 276.7546,-45.9945 271.0482,-50.0488\"/>\n",
       "<text text-anchor=\"middle\" x=\"245.1967\" y=\"-46.8\" font-family=\"Times,serif\" font-size=\"14.00\" fill=\"#000000\">0 </text>\n",
       "<text text-anchor=\"middle\" x=\"245.1967\" y=\"-31.8\" font-family=\"Times,serif\" font-size=\"14.00\" fill=\"#000000\"> 1 </text>\n",
       "</g>\n",
       "<!-- F&#45;&gt;B -->\n",
       "<g id=\"edge7\" class=\"edge\">\n",
       "<title>F&#45;&gt;B</title>\n",
       "<path fill=\"none\" stroke=\"#000000\" d=\"M363.4989,-56.6879C356.6896,-51.2594 348.3452,-45.8053 339.6967,-43 328.7183,-39.439 317.4667,-44.7121 308.3346,-51.6964\"/>\n",
       "<polygon fill=\"#000000\" stroke=\"#000000\" points=\"305.8782,-49.1937 300.6126,-58.3874 310.4622,-54.4841 305.8782,-49.1937\"/>\n",
       "<text text-anchor=\"middle\" x=\"332.1967\" y=\"-61.8\" font-family=\"Times,serif\" font-size=\"14.00\" fill=\"#000000\">0 </text>\n",
       "<text text-anchor=\"middle\" x=\"332.1967\" y=\"-46.8\" font-family=\"Times,serif\" font-size=\"14.00\" fill=\"#000000\"> 1 </text>\n",
       "</g>\n",
       "<!-- IF&#45;&gt;B -->\n",
       "<g id=\"edge3\" class=\"edge\">\n",
       "<title>IF&#45;&gt;B</title>\n",
       "<path fill=\"none\" stroke=\"#000000\" d=\"M135.2772,-80.0619C141.4814,-82.1997 148.3054,-84.3649 154.6967,-86 196.8932,-96.7952 210.6121,-97.2239 252.6967,-86 255.9364,-85.136 259.2839,-84.0754 262.5735,-82.928\"/>\n",
       "<polygon fill=\"#000000\" stroke=\"#000000\" points=\"263.9806,-86.1381 272.1029,-79.3351 261.511,-79.5881 263.9806,-86.1381\"/>\n",
       "<text text-anchor=\"middle\" x=\"201.6967\" y=\"-97.8\" font-family=\"Times,serif\" font-size=\"14.00\" fill=\"#000000\">1 </text>\n",
       "</g>\n",
       "<!-- IF&#45;&gt;A -->\n",
       "<g id=\"edge2\" class=\"edge\">\n",
       "<title>IF&#45;&gt;A</title>\n",
       "<path fill=\"none\" stroke=\"#000000\" d=\"M132.2151,-58.2022C139.1302,-53.2108 147.1483,-47.6603 154.6967,-43 161.509,-38.7941 169.0925,-34.5721 176.1454,-30.8264\"/>\n",
       "<polygon fill=\"#000000\" stroke=\"#000000\" points=\"178.054,-33.7789 185.3116,-26.0602 174.8247,-27.5683 178.054,-33.7789\"/>\n",
       "<text text-anchor=\"middle\" x=\"160.1967\" y=\"-46.8\" font-family=\"Times,serif\" font-size=\"14.00\" fill=\"#000000\">0 </text>\n",
       "</g>\n",
       "</g>\n",
       "</svg>\n"
      ],
      "text/plain": [
       "<graphviz.dot.Digraph at 0x1124e7550>"
      ]
     },
     "execution_count": 37,
     "metadata": {},
     "output_type": "execute_result"
    }
   ],
   "source": [
    "dotObj_dfa(dped1, FuseEdges=True)"
   ]
  },
  {
   "cell_type": "code",
   "execution_count": 38,
   "metadata": {
    "run_control": {
     "frozen": false,
     "read_only": false
    }
   },
   "outputs": [],
   "source": [
    "ends0101 = md2mc(src=\"File\", fname=\"endsin0101.dfa\")"
   ]
  },
  {
   "cell_type": "code",
   "execution_count": 39,
   "metadata": {
    "run_control": {
     "frozen": false,
     "read_only": false
    }
   },
   "outputs": [
    {
     "data": {
      "image/svg+xml": [
       "<?xml version=\"1.0\" encoding=\"UTF-8\" standalone=\"no\"?>\n",
       "<!DOCTYPE svg PUBLIC \"-//W3C//DTD SVG 1.1//EN\"\n",
       " \"http://www.w3.org/Graphics/SVG/1.1/DTD/svg11.dtd\">\n",
       "<!-- Generated by graphviz version 2.40.1 (20161225.0304)\n",
       " -->\n",
       "<!-- Title: %3 Pages: 1 -->\n",
       "<svg width=\"547pt\" height=\"170pt\"\n",
       " viewBox=\"0.00 0.00 546.78 169.95\" xmlns=\"http://www.w3.org/2000/svg\" xmlns:xlink=\"http://www.w3.org/1999/xlink\">\n",
       "<g id=\"graph0\" class=\"graph\" transform=\"scale(1 1) rotate(0) translate(4 165.9452)\">\n",
       "<title>%3</title>\n",
       "<polygon fill=\"#ffffff\" stroke=\"transparent\" points=\"-4,4 -4,-165.9452 542.7809,-165.9452 542.7809,4 -4,4\"/>\n",
       "<!-- EMPTY -->\n",
       "<g id=\"node1\" class=\"node\">\n",
       "<title>EMPTY</title>\n",
       "</g>\n",
       "<!-- I -->\n",
       "<g id=\"node3\" class=\"node\">\n",
       "<title>I</title>\n",
       "<ellipse fill=\"none\" stroke=\"#000000\" cx=\"109\" cy=\"-55.797\" rx=\"18\" ry=\"18\"/>\n",
       "<text text-anchor=\"middle\" x=\"109\" y=\"-52.097\" font-family=\"Times,serif\" font-size=\"14.00\" fill=\"#000000\">I</text>\n",
       "</g>\n",
       "<!-- EMPTY&#45;&gt;I -->\n",
       "<g id=\"edge1\" class=\"edge\">\n",
       "<title>EMPTY&#45;&gt;I</title>\n",
       "<path fill=\"none\" stroke=\"#000000\" d=\"M54.3048,-55.797C62.6909,-55.797 71.9407,-55.797 80.4103,-55.797\"/>\n",
       "<polygon fill=\"#000000\" stroke=\"#000000\" points=\"80.5976,-59.2971 90.5976,-55.797 80.5976,-52.2971 80.5976,-59.2971\"/>\n",
       "</g>\n",
       "<!-- S0 -->\n",
       "<g id=\"node2\" class=\"node\">\n",
       "<title>S0</title>\n",
       "<ellipse fill=\"none\" stroke=\"#000000\" cx=\"194.1482\" cy=\"-108.797\" rx=\"20.2975\" ry=\"20.2975\"/>\n",
       "<text text-anchor=\"middle\" x=\"194.1482\" y=\"-105.097\" font-family=\"Times,serif\" font-size=\"14.00\" fill=\"#000000\">S0</text>\n",
       "</g>\n",
       "<!-- S0&#45;&gt;S0 -->\n",
       "<g id=\"edge4\" class=\"edge\">\n",
       "<title>S0&#45;&gt;S0</title>\n",
       "<path fill=\"none\" stroke=\"#000000\" d=\"M186.5981,-127.6398C185.3151,-137.7419 187.8318,-146.9452 194.1482,-146.9452 198.1947,-146.9452 200.6817,-143.1682 201.6093,-137.7975\"/>\n",
       "<polygon fill=\"#000000\" stroke=\"#000000\" points=\"205.1105,-137.6701 201.6983,-127.6398 198.1108,-137.6088 205.1105,-137.6701\"/>\n",
       "<text text-anchor=\"middle\" x=\"194.1482\" y=\"-150.7452\" font-family=\"Times,serif\" font-size=\"14.00\" fill=\"#000000\">0 </text>\n",
       "</g>\n",
       "<!-- S01 -->\n",
       "<g id=\"node4\" class=\"node\">\n",
       "<title>S01</title>\n",
       "<ellipse fill=\"none\" stroke=\"#000000\" cx=\"285.9942\" cy=\"-62.797\" rx=\"24.8972\" ry=\"24.8972\"/>\n",
       "<text text-anchor=\"middle\" x=\"285.9942\" y=\"-59.097\" font-family=\"Times,serif\" font-size=\"14.00\" fill=\"#000000\">S01</text>\n",
       "</g>\n",
       "<!-- S0&#45;&gt;S01 -->\n",
       "<g id=\"edge5\" class=\"edge\">\n",
       "<title>S0&#45;&gt;S01</title>\n",
       "<path fill=\"none\" stroke=\"#000000\" d=\"M212.294,-99.7089C224.2724,-93.7097 240.2895,-85.6877 254.3317,-78.6548\"/>\n",
       "<polygon fill=\"#000000\" stroke=\"#000000\" points=\"256.2899,-81.5886 263.6638,-73.9809 253.1551,-75.3297 256.2899,-81.5886\"/>\n",
       "<text text-anchor=\"middle\" x=\"237.7964\" y=\"-91.597\" font-family=\"Times,serif\" font-size=\"14.00\" fill=\"#000000\">1 </text>\n",
       "</g>\n",
       "<!-- I&#45;&gt;S0 -->\n",
       "<g id=\"edge2\" class=\"edge\">\n",
       "<title>I&#45;&gt;S0</title>\n",
       "<path fill=\"none\" stroke=\"#000000\" d=\"M124.6175,-65.518C136.7477,-73.0684 153.8377,-83.706 168.0387,-92.5453\"/>\n",
       "<polygon fill=\"#000000\" stroke=\"#000000\" points=\"166.533,-95.7307 176.8723,-98.0437 170.2321,-89.7879 166.533,-95.7307\"/>\n",
       "<text text-anchor=\"middle\" x=\"150.5\" y=\"-87.597\" font-family=\"Times,serif\" font-size=\"14.00\" fill=\"#000000\">0 </text>\n",
       "</g>\n",
       "<!-- I&#45;&gt;I -->\n",
       "<g id=\"edge3\" class=\"edge\">\n",
       "<title>I&#45;&gt;I</title>\n",
       "<path fill=\"none\" stroke=\"#000000\" d=\"M102.6208,-72.8343C101.3189,-82.6549 103.4453,-91.797 109,-91.797 112.4717,-91.797 114.6042,-88.2259 115.3975,-83.1499\"/>\n",
       "<polygon fill=\"#000000\" stroke=\"#000000\" points=\"118.8971,-82.828 115.3792,-72.8343 111.8971,-82.8405 118.8971,-82.828\"/>\n",
       "<text text-anchor=\"middle\" x=\"109\" y=\"-95.597\" font-family=\"Times,serif\" font-size=\"14.00\" fill=\"#000000\">1 </text>\n",
       "</g>\n",
       "<!-- S01&#45;&gt;I -->\n",
       "<g id=\"edge7\" class=\"edge\">\n",
       "<title>S01&#45;&gt;I</title>\n",
       "<path fill=\"none\" stroke=\"#000000\" d=\"M261.0414,-61.8101C228.5079,-60.5235 171.7326,-58.278 137.5279,-56.9253\"/>\n",
       "<polygon fill=\"#000000\" stroke=\"#000000\" points=\"137.4054,-53.4178 127.2748,-56.5198 137.1287,-60.4123 137.4054,-53.4178\"/>\n",
       "<text text-anchor=\"middle\" x=\"194.1482\" y=\"-63.597\" font-family=\"Times,serif\" font-size=\"14.00\" fill=\"#000000\">1 </text>\n",
       "</g>\n",
       "<!-- S010 -->\n",
       "<g id=\"node5\" class=\"node\">\n",
       "<title>S010</title>\n",
       "<ellipse fill=\"none\" stroke=\"#000000\" cx=\"386.9394\" cy=\"-71.797\" rx=\"29.4969\" ry=\"29.4969\"/>\n",
       "<text text-anchor=\"middle\" x=\"386.9394\" y=\"-68.097\" font-family=\"Times,serif\" font-size=\"14.00\" fill=\"#000000\">S010</text>\n",
       "</g>\n",
       "<!-- S01&#45;&gt;S010 -->\n",
       "<g id=\"edge6\" class=\"edge\">\n",
       "<title>S01&#45;&gt;S010</title>\n",
       "<path fill=\"none\" stroke=\"#000000\" d=\"M310.6882,-64.9986C321.7235,-65.9825 335.0062,-67.1668 347.3718,-68.2693\"/>\n",
       "<polygon fill=\"#000000\" stroke=\"#000000\" points=\"347.2024,-71.768 357.4737,-69.1699 347.8241,-64.7956 347.2024,-71.768\"/>\n",
       "<text text-anchor=\"middle\" x=\"334.192\" y=\"-70.597\" font-family=\"Times,serif\" font-size=\"14.00\" fill=\"#000000\">0 </text>\n",
       "</g>\n",
       "<!-- S010&#45;&gt;S0 -->\n",
       "<g id=\"edge8\" class=\"edge\">\n",
       "<title>S010&#45;&gt;S0</title>\n",
       "<path fill=\"none\" stroke=\"#000000\" d=\"M359.3773,-82.0871C345.0275,-87.1231 327.0964,-92.9202 310.692,-96.797 281.2223,-103.7615 273.4443,-103.9551 243.2964,-106.797 237.4513,-107.348 231.2009,-107.7473 225.1846,-108.0366\"/>\n",
       "<polygon fill=\"#000000\" stroke=\"#000000\" points=\"224.6006,-104.5568 214.7461,-108.4477 224.8761,-111.5514 224.6006,-104.5568\"/>\n",
       "<text text-anchor=\"middle\" x=\"285.9942\" y=\"-108.597\" font-family=\"Times,serif\" font-size=\"14.00\" fill=\"#000000\">0 </text>\n",
       "</g>\n",
       "<!-- F0101 -->\n",
       "<g id=\"node6\" class=\"node\">\n",
       "<title>F0101</title>\n",
       "<ellipse fill=\"none\" stroke=\"#000000\" cx=\"500.9839\" cy=\"-37.797\" rx=\"33.6165\" ry=\"33.6165\"/>\n",
       "<ellipse fill=\"none\" stroke=\"#000000\" cx=\"500.9839\" cy=\"-37.797\" rx=\"37.5951\" ry=\"37.5951\"/>\n",
       "<text text-anchor=\"middle\" x=\"500.9839\" y=\"-34.097\" font-family=\"Times,serif\" font-size=\"14.00\" fill=\"#000000\">F0101</text>\n",
       "</g>\n",
       "<!-- S010&#45;&gt;F0101 -->\n",
       "<g id=\"edge9\" class=\"edge\">\n",
       "<title>S010&#45;&gt;F0101</title>\n",
       "<path fill=\"none\" stroke=\"#000000\" d=\"M409.0022,-52.3492C416.4893,-46.9038 425.2368,-41.6869 434.1869,-38.797 440.1985,-36.8559 446.6759,-35.6955 453.1487,-35.0715\"/>\n",
       "<polygon fill=\"#000000\" stroke=\"#000000\" points=\"453.4637,-38.5593 463.2489,-34.4973 453.0664,-31.5706 453.4637,-38.5593\"/>\n",
       "<text text-anchor=\"middle\" x=\"439.6869\" y=\"-42.597\" font-family=\"Times,serif\" font-size=\"14.00\" fill=\"#000000\">1 </text>\n",
       "</g>\n",
       "<!-- F0101&#45;&gt;I -->\n",
       "<g id=\"edge11\" class=\"edge\">\n",
       "<title>F0101&#45;&gt;I</title>\n",
       "<path fill=\"none\" stroke=\"#000000\" d=\"M466.2863,-22.2633C444.0641,-13.7041 414.3529,-4.797 386.9394,-4.797 194.1482,-4.797 194.1482,-4.797 194.1482,-4.797 169.203,-4.797 145.2416,-21.1058 129.1284,-35.2784\"/>\n",
       "<polygon fill=\"#000000\" stroke=\"#000000\" points=\"126.4052,-33.0306 121.454,-42.3974 131.1657,-38.1626 126.4052,-33.0306\"/>\n",
       "<text text-anchor=\"middle\" x=\"285.9942\" y=\"-8.597\" font-family=\"Times,serif\" font-size=\"14.00\" fill=\"#000000\">1 </text>\n",
       "</g>\n",
       "<!-- F0101&#45;&gt;S010 -->\n",
       "<g id=\"edge10\" class=\"edge\">\n",
       "<title>F0101&#45;&gt;S010</title>\n",
       "<path fill=\"none\" stroke=\"#000000\" d=\"M464.5001,-48.6739C451.8844,-52.435 437.7206,-56.6576 424.983,-60.4551\"/>\n",
       "<polygon fill=\"#000000\" stroke=\"#000000\" points=\"423.7134,-57.1813 415.1302,-63.3925 425.7134,-63.8895 423.7134,-57.1813\"/>\n",
       "<text text-anchor=\"middle\" x=\"439.6869\" y=\"-60.597\" font-family=\"Times,serif\" font-size=\"14.00\" fill=\"#000000\">0 </text>\n",
       "</g>\n",
       "</g>\n",
       "</svg>\n"
      ],
      "text/plain": [
       "<graphviz.dot.Digraph at 0x1124b2e48>"
      ]
     },
     "execution_count": 39,
     "metadata": {},
     "output_type": "execute_result"
    }
   ],
   "source": [
    "dotObj_dfa(ends0101)"
   ]
  },
  {
   "cell_type": "code",
   "execution_count": 40,
   "metadata": {
    "run_control": {
     "frozen": false,
     "read_only": false
    }
   },
   "outputs": [],
   "source": [
    "thirdlastis1=md2mc(src=\"File\", fname=\"thirdlastis1.dfa\")\n",
    "#machines/dfafiles/thirdlastis1.dfa"
   ]
  },
  {
   "cell_type": "code",
   "execution_count": 41,
   "metadata": {
    "run_control": {
     "frozen": false,
     "read_only": false
    }
   },
   "outputs": [
    {
     "data": {
      "text/plain": [
       "{'Q': {'F100',\n",
       "  'F101',\n",
       "  'F110',\n",
       "  'F111',\n",
       "  'I',\n",
       "  'S0',\n",
       "  'S00',\n",
       "  'S000',\n",
       "  'S001',\n",
       "  'S01',\n",
       "  'S010',\n",
       "  'S011',\n",
       "  'S1',\n",
       "  'S10',\n",
       "  'S11'},\n",
       " 'Sigma': {'0', '1'},\n",
       " 'Delta': {('I', '0'): 'S0',\n",
       "  ('I', '1'): 'S1',\n",
       "  ('S0', '0'): 'S00',\n",
       "  ('S0', '1'): 'S01',\n",
       "  ('S1', '0'): 'S10',\n",
       "  ('S1', '1'): 'S11',\n",
       "  ('S00', '0'): 'S000',\n",
       "  ('S00', '1'): 'S001',\n",
       "  ('S01', '0'): 'S010',\n",
       "  ('S01', '1'): 'S011',\n",
       "  ('S10', '0'): 'F100',\n",
       "  ('S10', '1'): 'F101',\n",
       "  ('S11', '0'): 'F110',\n",
       "  ('S11', '1'): 'F111',\n",
       "  ('S000', '0'): 'S000',\n",
       "  ('S000', '1'): 'S001',\n",
       "  ('S001', '0'): 'S010',\n",
       "  ('S001', '1'): 'S011',\n",
       "  ('S010', '0'): 'F100',\n",
       "  ('S010', '1'): 'F101',\n",
       "  ('S011', '0'): 'F110',\n",
       "  ('S011', '1'): 'F111',\n",
       "  ('F100', '0'): 'S000',\n",
       "  ('F100', '1'): 'S001',\n",
       "  ('F101', '0'): 'S010',\n",
       "  ('F101', '1'): 'S011',\n",
       "  ('F110', '0'): 'F100',\n",
       "  ('F110', '1'): 'F101',\n",
       "  ('F111', '0'): 'F110',\n",
       "  ('F111', '1'): 'F111'},\n",
       " 'q0': 'I',\n",
       " 'F': {'F100', 'F101', 'F110', 'F111'}}"
      ]
     },
     "execution_count": 41,
     "metadata": {},
     "output_type": "execute_result"
    }
   ],
   "source": [
    "thirdlastis1"
   ]
  },
  {
   "cell_type": "code",
   "execution_count": 42,
   "metadata": {
    "run_control": {
     "frozen": false,
     "read_only": false
    }
   },
   "outputs": [
    {
     "data": {
      "image/svg+xml": [
       "<?xml version=\"1.0\" encoding=\"UTF-8\" standalone=\"no\"?>\n",
       "<!DOCTYPE svg PUBLIC \"-//W3C//DTD SVG 1.1//EN\"\n",
       " \"http://www.w3.org/Graphics/SVG/1.1/DTD/svg11.dtd\">\n",
       "<!-- Generated by graphviz version 2.40.1 (20161225.0304)\n",
       " -->\n",
       "<!-- Title: %3 Pages: 1 -->\n",
       "<svg width=\"1195pt\" height=\"462pt\"\n",
       " viewBox=\"0.00 0.00 1194.65 462.00\" xmlns=\"http://www.w3.org/2000/svg\" xmlns:xlink=\"http://www.w3.org/1999/xlink\">\n",
       "<g id=\"graph0\" class=\"graph\" transform=\"scale(1 1) rotate(0) translate(4 458)\">\n",
       "<title>%3</title>\n",
       "<polygon fill=\"#ffffff\" stroke=\"transparent\" points=\"-4,4 -4,-458 1190.6505,-458 1190.6505,4 -4,4\"/>\n",
       "<!-- EMPTY -->\n",
       "<g id=\"node1\" class=\"node\">\n",
       "<title>EMPTY</title>\n",
       "</g>\n",
       "<!-- I -->\n",
       "<g id=\"node9\" class=\"node\">\n",
       "<title>I</title>\n",
       "<ellipse fill=\"none\" stroke=\"#000000\" cx=\"109\" cy=\"-252\" rx=\"18\" ry=\"18\"/>\n",
       "<text text-anchor=\"middle\" x=\"109\" y=\"-248.3\" font-family=\"Times,serif\" font-size=\"14.00\" fill=\"#000000\">I</text>\n",
       "</g>\n",
       "<!-- EMPTY&#45;&gt;I -->\n",
       "<g id=\"edge1\" class=\"edge\">\n",
       "<title>EMPTY&#45;&gt;I</title>\n",
       "<path fill=\"none\" stroke=\"#000000\" d=\"M54.3048,-252C62.6909,-252 71.9407,-252 80.4103,-252\"/>\n",
       "<polygon fill=\"#000000\" stroke=\"#000000\" points=\"80.5976,-255.5001 90.5976,-252 80.5976,-248.5001 80.5976,-255.5001\"/>\n",
       "</g>\n",
       "<!-- S0 -->\n",
       "<g id=\"node2\" class=\"node\">\n",
       "<title>S0</title>\n",
       "<ellipse fill=\"none\" stroke=\"#000000\" cx=\"194.1482\" cy=\"-203\" rx=\"20.2975\" ry=\"20.2975\"/>\n",
       "<text text-anchor=\"middle\" x=\"194.1482\" y=\"-199.3\" font-family=\"Times,serif\" font-size=\"14.00\" fill=\"#000000\">S0</text>\n",
       "</g>\n",
       "<!-- S00 -->\n",
       "<g id=\"node6\" class=\"node\">\n",
       "<title>S00</title>\n",
       "<ellipse fill=\"none\" stroke=\"#000000\" cx=\"285.9942\" cy=\"-106\" rx=\"24.8972\" ry=\"24.8972\"/>\n",
       "<text text-anchor=\"middle\" x=\"285.9942\" y=\"-102.3\" font-family=\"Times,serif\" font-size=\"14.00\" fill=\"#000000\">S00</text>\n",
       "</g>\n",
       "<!-- S0&#45;&gt;S00 -->\n",
       "<g id=\"edge4\" class=\"edge\">\n",
       "<title>S0&#45;&gt;S00</title>\n",
       "<path fill=\"none\" stroke=\"#000000\" d=\"M208.0976,-188.2678C222.3245,-173.2426 244.679,-149.6337 261.7985,-131.5535\"/>\n",
       "<polygon fill=\"#000000\" stroke=\"#000000\" points=\"264.4419,-133.8523 268.776,-124.1845 259.3589,-129.0394 264.4419,-133.8523\"/>\n",
       "<text text-anchor=\"middle\" x=\"237.7964\" y=\"-164.8\" font-family=\"Times,serif\" font-size=\"14.00\" fill=\"#000000\">0 </text>\n",
       "</g>\n",
       "<!-- S01 -->\n",
       "<g id=\"node10\" class=\"node\">\n",
       "<title>S01</title>\n",
       "<ellipse fill=\"none\" stroke=\"#000000\" cx=\"386.9394\" cy=\"-203\" rx=\"24.8972\" ry=\"24.8972\"/>\n",
       "<text text-anchor=\"middle\" x=\"386.9394\" y=\"-199.3\" font-family=\"Times,serif\" font-size=\"14.00\" fill=\"#000000\">S01</text>\n",
       "</g>\n",
       "<!-- S0&#45;&gt;S01 -->\n",
       "<g id=\"edge5\" class=\"edge\">\n",
       "<title>S0&#45;&gt;S01</title>\n",
       "<path fill=\"none\" stroke=\"#000000\" d=\"M214.4159,-203C247.0744,-203 311.7409,-203 351.9612,-203\"/>\n",
       "<polygon fill=\"#000000\" stroke=\"#000000\" points=\"352.1178,-206.5001 362.1177,-203 352.1177,-199.5001 352.1178,-206.5001\"/>\n",
       "<text text-anchor=\"middle\" x=\"285.9942\" y=\"-206.8\" font-family=\"Times,serif\" font-size=\"14.00\" fill=\"#000000\">1 </text>\n",
       "</g>\n",
       "<!-- S10 -->\n",
       "<g id=\"node3\" class=\"node\">\n",
       "<title>S10</title>\n",
       "<ellipse fill=\"none\" stroke=\"#000000\" cx=\"715.4239\" cy=\"-366\" rx=\"24.8972\" ry=\"24.8972\"/>\n",
       "<text text-anchor=\"middle\" x=\"715.4239\" y=\"-362.3\" font-family=\"Times,serif\" font-size=\"14.00\" fill=\"#000000\">S10</text>\n",
       "</g>\n",
       "<!-- F101 -->\n",
       "<g id=\"node13\" class=\"node\">\n",
       "<title>F101</title>\n",
       "<ellipse fill=\"none\" stroke=\"#000000\" cx=\"828.9187\" cy=\"-231\" rx=\"29.4667\" ry=\"29.4667\"/>\n",
       "<ellipse fill=\"none\" stroke=\"#000000\" cx=\"828.9187\" cy=\"-231\" rx=\"33.4967\" ry=\"33.4967\"/>\n",
       "<text text-anchor=\"middle\" x=\"828.9187\" y=\"-227.3\" font-family=\"Times,serif\" font-size=\"14.00\" fill=\"#000000\">F101</text>\n",
       "</g>\n",
       "<!-- S10&#45;&gt;F101 -->\n",
       "<g id=\"edge13\" class=\"edge\">\n",
       "<title>S10&#45;&gt;F101</title>\n",
       "<path fill=\"none\" stroke=\"#000000\" d=\"M733.0329,-348.6812C738.1878,-343.429 743.7562,-337.5724 748.6713,-332 767.4671,-310.6905 787.343,-285.6951 802.6118,-265.9014\"/>\n",
       "<polygon fill=\"#000000\" stroke=\"#000000\" points=\"805.5458,-267.827 808.8568,-257.7628 799.9924,-263.5656 805.5458,-267.827\"/>\n",
       "<text text-anchor=\"middle\" x=\"772.1713\" y=\"-313.8\" font-family=\"Times,serif\" font-size=\"14.00\" fill=\"#000000\">1 </text>\n",
       "</g>\n",
       "<!-- F100 -->\n",
       "<g id=\"node16\" class=\"node\">\n",
       "<title>F100</title>\n",
       "<ellipse fill=\"none\" stroke=\"#000000\" cx=\"1047.9083\" cy=\"-187\" rx=\"29.4667\" ry=\"29.4667\"/>\n",
       "<ellipse fill=\"none\" stroke=\"#000000\" cx=\"1047.9083\" cy=\"-187\" rx=\"33.4967\" ry=\"33.4967\"/>\n",
       "<text text-anchor=\"middle\" x=\"1047.9083\" y=\"-183.3\" font-family=\"Times,serif\" font-size=\"14.00\" fill=\"#000000\">F100</text>\n",
       "</g>\n",
       "<!-- S10&#45;&gt;F100 -->\n",
       "<g id=\"edge12\" class=\"edge\">\n",
       "<title>S10&#45;&gt;F100</title>\n",
       "<path fill=\"none\" stroke=\"#000000\" d=\"M739.1498,-358.1582C785.223,-342.3813 889.1632,-304.0791 967.6609,-255 984.9059,-244.2179 1002.3347,-229.9467 1016.5232,-217.2631\"/>\n",
       "<polygon fill=\"#000000\" stroke=\"#000000\" points=\"1019.0108,-219.7317 1024.0506,-210.4123 1014.2992,-214.5547 1019.0108,-219.7317\"/>\n",
       "<text text-anchor=\"middle\" x=\"885.6661\" y=\"-304.8\" font-family=\"Times,serif\" font-size=\"14.00\" fill=\"#000000\">0 </text>\n",
       "</g>\n",
       "<!-- S001 -->\n",
       "<g id=\"node4\" class=\"node\">\n",
       "<title>S001</title>\n",
       "<ellipse fill=\"none\" stroke=\"#000000\" cx=\"386.9394\" cy=\"-106\" rx=\"29.4969\" ry=\"29.4969\"/>\n",
       "<text text-anchor=\"middle\" x=\"386.9394\" y=\"-102.3\" font-family=\"Times,serif\" font-size=\"14.00\" fill=\"#000000\">S001</text>\n",
       "</g>\n",
       "<!-- S011 -->\n",
       "<g id=\"node5\" class=\"node\">\n",
       "<title>S011</title>\n",
       "<ellipse fill=\"none\" stroke=\"#000000\" cx=\"492.4343\" cy=\"-227\" rx=\"29.4969\" ry=\"29.4969\"/>\n",
       "<text text-anchor=\"middle\" x=\"492.4343\" y=\"-223.3\" font-family=\"Times,serif\" font-size=\"14.00\" fill=\"#000000\">S011</text>\n",
       "</g>\n",
       "<!-- S001&#45;&gt;S011 -->\n",
       "<g id=\"edge19\" class=\"edge\">\n",
       "<title>S001&#45;&gt;S011</title>\n",
       "<path fill=\"none\" stroke=\"#000000\" d=\"M406.2888,-128.1933C423.1672,-147.5524 447.7961,-175.8011 466.4008,-197.1402\"/>\n",
       "<polygon fill=\"#000000\" stroke=\"#000000\" points=\"463.9978,-199.71 473.2075,-204.9474 469.274,-195.1098 463.9978,-199.71\"/>\n",
       "<text text-anchor=\"middle\" x=\"439.6869\" y=\"-174.8\" font-family=\"Times,serif\" font-size=\"14.00\" fill=\"#000000\">1 </text>\n",
       "</g>\n",
       "<!-- S010 -->\n",
       "<g id=\"node12\" class=\"node\">\n",
       "<title>S010</title>\n",
       "<ellipse fill=\"none\" stroke=\"#000000\" cx=\"938.4135\" cy=\"-187\" rx=\"29.4969\" ry=\"29.4969\"/>\n",
       "<text text-anchor=\"middle\" x=\"938.4135\" y=\"-183.3\" font-family=\"Times,serif\" font-size=\"14.00\" fill=\"#000000\">S010</text>\n",
       "</g>\n",
       "<!-- S001&#45;&gt;S010 -->\n",
       "<g id=\"edge18\" class=\"edge\">\n",
       "<title>S001&#45;&gt;S010</title>\n",
       "<path fill=\"none\" stroke=\"#000000\" d=\"M416.3921,-106.1351C491.7869,-107.1137 697.4231,-113.7756 862.1661,-156 875.7336,-159.4774 890.0891,-164.8364 902.6403,-170.1263\"/>\n",
       "<polygon fill=\"#000000\" stroke=\"#000000\" points=\"901.2772,-173.3501 911.8437,-174.1258 904.0672,-166.9301 901.2772,-173.3501\"/>\n",
       "<text text-anchor=\"middle\" x=\"658.6765\" y=\"-125.8\" font-family=\"Times,serif\" font-size=\"14.00\" fill=\"#000000\">0 </text>\n",
       "</g>\n",
       "<!-- F110 -->\n",
       "<g id=\"node14\" class=\"node\">\n",
       "<title>F110</title>\n",
       "<ellipse fill=\"none\" stroke=\"#000000\" cx=\"715.4239\" cy=\"-290\" rx=\"29.4667\" ry=\"29.4667\"/>\n",
       "<ellipse fill=\"none\" stroke=\"#000000\" cx=\"715.4239\" cy=\"-290\" rx=\"33.4967\" ry=\"33.4967\"/>\n",
       "<text text-anchor=\"middle\" x=\"715.4239\" y=\"-286.3\" font-family=\"Times,serif\" font-size=\"14.00\" fill=\"#000000\">F110</text>\n",
       "</g>\n",
       "<!-- S011&#45;&gt;F110 -->\n",
       "<g id=\"edge22\" class=\"edge\">\n",
       "<title>S011&#45;&gt;F110</title>\n",
       "<path fill=\"none\" stroke=\"#000000\" d=\"M521.0472,-233.5269C549.9928,-240.2909 595.9431,-251.4712 635.1765,-263 647.9738,-266.7605 661.7814,-271.2475 674.2751,-275.4734\"/>\n",
       "<polygon fill=\"#000000\" stroke=\"#000000\" points=\"673.3741,-278.8642 683.9687,-278.7877 675.6388,-272.2407 673.3741,-278.8642\"/>\n",
       "<text text-anchor=\"middle\" x=\"601.9291\" y=\"-266.8\" font-family=\"Times,serif\" font-size=\"14.00\" fill=\"#000000\">0 </text>\n",
       "</g>\n",
       "<!-- F111 -->\n",
       "<g id=\"node15\" class=\"node\">\n",
       "<title>F111</title>\n",
       "<ellipse fill=\"none\" stroke=\"#000000\" cx=\"601.9291\" cy=\"-320\" rx=\"29.4667\" ry=\"29.4667\"/>\n",
       "<ellipse fill=\"none\" stroke=\"#000000\" cx=\"601.9291\" cy=\"-320\" rx=\"33.4967\" ry=\"33.4967\"/>\n",
       "<text text-anchor=\"middle\" x=\"601.9291\" y=\"-316.3\" font-family=\"Times,serif\" font-size=\"14.00\" fill=\"#000000\">F111</text>\n",
       "</g>\n",
       "<!-- S011&#45;&gt;F111 -->\n",
       "<g id=\"edge23\" class=\"edge\">\n",
       "<title>S011&#45;&gt;F111</title>\n",
       "<path fill=\"none\" stroke=\"#000000\" d=\"M514.4739,-246.2758C522.3943,-253.163 531.4125,-260.9593 539.6817,-268 548.8863,-275.8373 558.9179,-284.2661 568.1866,-292.0084\"/>\n",
       "<polygon fill=\"#000000\" stroke=\"#000000\" points=\"566.1737,-294.8871 576.0955,-298.6033 570.6567,-289.5109 566.1737,-294.8871\"/>\n",
       "<text text-anchor=\"middle\" x=\"545.1817\" y=\"-279.8\" font-family=\"Times,serif\" font-size=\"14.00\" fill=\"#000000\">1 </text>\n",
       "</g>\n",
       "<!-- S00&#45;&gt;S001 -->\n",
       "<g id=\"edge9\" class=\"edge\">\n",
       "<title>S00&#45;&gt;S001</title>\n",
       "<path fill=\"none\" stroke=\"#000000\" d=\"M310.947,-106C321.9853,-106 335.2335,-106 347.5543,-106\"/>\n",
       "<polygon fill=\"#000000\" stroke=\"#000000\" points=\"347.6169,-109.5001 357.6169,-106 347.6169,-102.5001 347.6169,-109.5001\"/>\n",
       "<text text-anchor=\"middle\" x=\"334.192\" y=\"-109.8\" font-family=\"Times,serif\" font-size=\"14.00\" fill=\"#000000\">1 </text>\n",
       "</g>\n",
       "<!-- S000 -->\n",
       "<g id=\"node8\" class=\"node\">\n",
       "<title>S000</title>\n",
       "<ellipse fill=\"none\" stroke=\"#000000\" cx=\"1157.4031\" cy=\"-43\" rx=\"29.4969\" ry=\"29.4969\"/>\n",
       "<text text-anchor=\"middle\" x=\"1157.4031\" y=\"-39.3\" font-family=\"Times,serif\" font-size=\"14.00\" fill=\"#000000\">S000</text>\n",
       "</g>\n",
       "<!-- S00&#45;&gt;S000 -->\n",
       "<g id=\"edge8\" class=\"edge\">\n",
       "<title>S00&#45;&gt;S000</title>\n",
       "<path fill=\"none\" stroke=\"#000000\" d=\"M295.5519,-82.9996C310.2225,-51.8241 341.4511,0 386.9394,0 386.9394,0 386.9394,0 1047.9083,0 1074.5936,0 1102.5632,-11.2021 1123.5542,-22.1711\"/>\n",
       "<polygon fill=\"#000000\" stroke=\"#000000\" points=\"1121.9327,-25.2734 1132.3878,-26.9884 1125.2841,-19.1278 1121.9327,-25.2734\"/>\n",
       "<text text-anchor=\"middle\" x=\"715.4239\" y=\"-3.8\" font-family=\"Times,serif\" font-size=\"14.00\" fill=\"#000000\">0 </text>\n",
       "</g>\n",
       "<!-- S11 -->\n",
       "<g id=\"node7\" class=\"node\">\n",
       "<title>S11</title>\n",
       "<ellipse fill=\"none\" stroke=\"#000000\" cx=\"492.4343\" cy=\"-389\" rx=\"24.8972\" ry=\"24.8972\"/>\n",
       "<text text-anchor=\"middle\" x=\"492.4343\" y=\"-385.3\" font-family=\"Times,serif\" font-size=\"14.00\" fill=\"#000000\">S11</text>\n",
       "</g>\n",
       "<!-- S11&#45;&gt;F110 -->\n",
       "<g id=\"edge14\" class=\"edge\">\n",
       "<title>S11&#45;&gt;F110</title>\n",
       "<path fill=\"none\" stroke=\"#000000\" d=\"M516.137,-396.6922C545.715,-404.844 597.0427,-414.1276 635.1765,-395 666.402,-379.3375 660.8887,-359.698 682.1765,-332 684.16,-329.4192 686.2225,-326.7591 688.3055,-324.0895\"/>\n",
       "<polygon fill=\"#000000\" stroke=\"#000000\" points=\"691.1374,-326.1502 694.557,-316.1224 685.6303,-321.8291 691.1374,-326.1502\"/>\n",
       "<text text-anchor=\"middle\" x=\"601.9291\" y=\"-409.8\" font-family=\"Times,serif\" font-size=\"14.00\" fill=\"#000000\">0 </text>\n",
       "</g>\n",
       "<!-- S11&#45;&gt;F111 -->\n",
       "<g id=\"edge15\" class=\"edge\">\n",
       "<title>S11&#45;&gt;F111</title>\n",
       "<path fill=\"none\" stroke=\"#000000\" d=\"M513.546,-375.6961C528.046,-366.5587 547.6855,-354.1825 564.7689,-343.4171\"/>\n",
       "<polygon fill=\"#000000\" stroke=\"#000000\" points=\"566.8343,-346.2526 573.4286,-337.9601 563.1023,-340.3304 566.8343,-346.2526\"/>\n",
       "<text text-anchor=\"middle\" x=\"545.1817\" y=\"-361.8\" font-family=\"Times,serif\" font-size=\"14.00\" fill=\"#000000\">1 </text>\n",
       "</g>\n",
       "<!-- S000&#45;&gt;S001 -->\n",
       "<g id=\"edge17\" class=\"edge\">\n",
       "<title>S000&#45;&gt;S001</title>\n",
       "<path fill=\"none\" stroke=\"#000000\" d=\"M1128.1245,-43C1106.0717,-43 1075.0919,-43 1047.9083,-43 492.4343,-43 492.4343,-43 492.4343,-43 463.1856,-43 435.0059,-61.0715 415.1402,-77.857\"/>\n",
       "<polygon fill=\"#000000\" stroke=\"#000000\" points=\"412.6019,-75.4291 407.4215,-84.6711 417.2346,-80.6768 412.6019,-75.4291\"/>\n",
       "<text text-anchor=\"middle\" x=\"772.1713\" y=\"-46.8\" font-family=\"Times,serif\" font-size=\"14.00\" fill=\"#000000\">1 </text>\n",
       "</g>\n",
       "<!-- S000&#45;&gt;S000 -->\n",
       "<g id=\"edge16\" class=\"edge\">\n",
       "<title>S000&#45;&gt;S000</title>\n",
       "<path fill=\"none\" stroke=\"#000000\" d=\"M1147.6912,-70.6624C1147.2596,-81.3578 1150.4969,-90.2474 1157.4031,-90.2474 1161.9353,-90.2474 1164.8875,-86.419 1166.2595,-80.7641\"/>\n",
       "<polygon fill=\"#000000\" stroke=\"#000000\" points=\"1169.7586,-80.9221 1167.115,-70.6624 1162.7836,-80.3314 1169.7586,-80.9221\"/>\n",
       "<text text-anchor=\"middle\" x=\"1157.4031\" y=\"-94.0474\" font-family=\"Times,serif\" font-size=\"14.00\" fill=\"#000000\">0 </text>\n",
       "</g>\n",
       "<!-- I&#45;&gt;S0 -->\n",
       "<g id=\"edge2\" class=\"edge\">\n",
       "<title>I&#45;&gt;S0</title>\n",
       "<path fill=\"none\" stroke=\"#000000\" d=\"M124.6175,-243.0126C136.669,-236.0774 153.616,-226.325 167.7617,-218.1846\"/>\n",
       "<polygon fill=\"#000000\" stroke=\"#000000\" points=\"169.6516,-221.1352 176.5732,-213.1138 166.1602,-215.0681 169.6516,-221.1352\"/>\n",
       "<text text-anchor=\"middle\" x=\"150.5\" y=\"-234.8\" font-family=\"Times,serif\" font-size=\"14.00\" fill=\"#000000\">0 </text>\n",
       "</g>\n",
       "<!-- S1 -->\n",
       "<g id=\"node11\" class=\"node\">\n",
       "<title>S1</title>\n",
       "<ellipse fill=\"none\" stroke=\"#000000\" cx=\"386.9394\" cy=\"-389\" rx=\"20.2975\" ry=\"20.2975\"/>\n",
       "<text text-anchor=\"middle\" x=\"386.9394\" y=\"-385.3\" font-family=\"Times,serif\" font-size=\"14.00\" fill=\"#000000\">S1</text>\n",
       "</g>\n",
       "<!-- I&#45;&gt;S1 -->\n",
       "<g id=\"edge3\" class=\"edge\">\n",
       "<title>I&#45;&gt;S1</title>\n",
       "<path fill=\"none\" stroke=\"#000000\" d=\"M125.554,-260.1597C171.7324,-282.9216 302.3179,-347.2889 359.5222,-375.4857\"/>\n",
       "<polygon fill=\"#000000\" stroke=\"#000000\" points=\"358.1659,-378.7192 368.6829,-380.0011 361.2608,-372.4405 358.1659,-378.7192\"/>\n",
       "<text text-anchor=\"middle\" x=\"237.7964\" y=\"-320.8\" font-family=\"Times,serif\" font-size=\"14.00\" fill=\"#000000\">1 </text>\n",
       "</g>\n",
       "<!-- S01&#45;&gt;S011 -->\n",
       "<g id=\"edge11\" class=\"edge\">\n",
       "<title>S01&#45;&gt;S011</title>\n",
       "<path fill=\"none\" stroke=\"#000000\" d=\"M411.1421,-208.5061C423.7713,-211.3792 439.5245,-214.9631 453.7919,-218.2089\"/>\n",
       "<polygon fill=\"#000000\" stroke=\"#000000\" points=\"453.3249,-221.692 463.8522,-220.4976 454.8777,-214.8664 453.3249,-221.692\"/>\n",
       "<text text-anchor=\"middle\" x=\"439.6869\" y=\"-219.8\" font-family=\"Times,serif\" font-size=\"14.00\" fill=\"#000000\">1 </text>\n",
       "</g>\n",
       "<!-- S01&#45;&gt;S010 -->\n",
       "<g id=\"edge10\" class=\"edge\">\n",
       "<title>S01&#45;&gt;S010</title>\n",
       "<path fill=\"none\" stroke=\"#000000\" d=\"M410.4796,-194.9273C441.1147,-185.1577 496.4913,-170 545.1817,-170 545.1817,-170 545.1817,-170 828.9187,-170 852.6166,-170 878.8616,-173.9364 899.715,-178.0209\"/>\n",
       "<polygon fill=\"#000000\" stroke=\"#000000\" points=\"899.2853,-181.5055 909.7846,-180.0854 900.6914,-174.6481 899.2853,-181.5055\"/>\n",
       "<text text-anchor=\"middle\" x=\"658.6765\" y=\"-173.8\" font-family=\"Times,serif\" font-size=\"14.00\" fill=\"#000000\">0 </text>\n",
       "</g>\n",
       "<!-- S1&#45;&gt;S10 -->\n",
       "<g id=\"edge6\" class=\"edge\">\n",
       "<title>S1&#45;&gt;S10</title>\n",
       "<path fill=\"none\" stroke=\"#000000\" d=\"M404.4165,-399.2287C419.4361,-407.412 441.9663,-418.2724 463.1869,-423 537.8026,-439.6232 562.5401,-448.8285 635.1765,-425 655.9714,-418.1782 675.8187,-403.681 690.5728,-390.765\"/>\n",
       "<polygon fill=\"#000000\" stroke=\"#000000\" points=\"693.176,-393.1285 698.2191,-383.8109 688.4662,-387.9499 693.176,-393.1285\"/>\n",
       "<text text-anchor=\"middle\" x=\"545.1817\" y=\"-442.8\" font-family=\"Times,serif\" font-size=\"14.00\" fill=\"#000000\">0 </text>\n",
       "</g>\n",
       "<!-- S1&#45;&gt;S11 -->\n",
       "<g id=\"edge7\" class=\"edge\">\n",
       "<title>S1&#45;&gt;S11</title>\n",
       "<path fill=\"none\" stroke=\"#000000\" d=\"M407.2799,-389C421.4252,-389 440.647,-389 457.2487,-389\"/>\n",
       "<polygon fill=\"#000000\" stroke=\"#000000\" points=\"457.7004,-392.5001 467.7004,-389 457.7004,-385.5001 457.7004,-392.5001\"/>\n",
       "<text text-anchor=\"middle\" x=\"439.6869\" y=\"-392.8\" font-family=\"Times,serif\" font-size=\"14.00\" fill=\"#000000\">1 </text>\n",
       "</g>\n",
       "<!-- S010&#45;&gt;F101 -->\n",
       "<g id=\"edge21\" class=\"edge\">\n",
       "<title>S010&#45;&gt;F101</title>\n",
       "<path fill=\"none\" stroke=\"#000000\" d=\"M909.8787,-194.0926C900.2952,-196.799 889.6385,-200.1678 880.1661,-204 875.9084,-205.7225 871.5387,-207.6898 867.2326,-209.7597\"/>\n",
       "<polygon fill=\"#000000\" stroke=\"#000000\" points=\"865.3469,-206.7898 857.9754,-214.3997 868.4836,-213.0477 865.3469,-206.7898\"/>\n",
       "<text text-anchor=\"middle\" x=\"885.6661\" y=\"-207.8\" font-family=\"Times,serif\" font-size=\"14.00\" fill=\"#000000\">1 </text>\n",
       "</g>\n",
       "<!-- S010&#45;&gt;F100 -->\n",
       "<g id=\"edge20\" class=\"edge\">\n",
       "<title>S010&#45;&gt;F100</title>\n",
       "<path fill=\"none\" stroke=\"#000000\" d=\"M967.7561,-187C979.0398,-187 992.1735,-187 1004.5042,-187\"/>\n",
       "<polygon fill=\"#000000\" stroke=\"#000000\" points=\"1004.615,-190.5001 1014.6149,-187 1004.6149,-183.5001 1004.615,-190.5001\"/>\n",
       "<text text-anchor=\"middle\" x=\"991.1609\" y=\"-190.8\" font-family=\"Times,serif\" font-size=\"14.00\" fill=\"#000000\">0 </text>\n",
       "</g>\n",
       "<!-- F101&#45;&gt;S011 -->\n",
       "<g id=\"edge27\" class=\"edge\">\n",
       "<title>F101&#45;&gt;S011</title>\n",
       "<path fill=\"none\" stroke=\"#000000\" d=\"M795.5243,-230.603C733.0171,-229.86 598.6469,-228.2626 531.8289,-227.4683\"/>\n",
       "<polygon fill=\"#000000\" stroke=\"#000000\" points=\"531.7473,-223.9672 521.7064,-227.348 531.6641,-230.9667 531.7473,-223.9672\"/>\n",
       "<text text-anchor=\"middle\" x=\"658.6765\" y=\"-232.8\" font-family=\"Times,serif\" font-size=\"14.00\" fill=\"#000000\">1 </text>\n",
       "</g>\n",
       "<!-- F101&#45;&gt;S010 -->\n",
       "<g id=\"edge26\" class=\"edge\">\n",
       "<title>F101&#45;&gt;S010</title>\n",
       "<path fill=\"none\" stroke=\"#000000\" d=\"M861.9523,-227.1902C871.6054,-225.4012 882.0155,-222.7922 891.1661,-219 896.4286,-216.8191 901.7107,-214.0035 906.7381,-210.9484\"/>\n",
       "<polygon fill=\"#000000\" stroke=\"#000000\" points=\"908.9814,-213.6644 915.453,-205.2758 905.1627,-207.7977 908.9814,-213.6644\"/>\n",
       "<text text-anchor=\"middle\" x=\"885.6661\" y=\"-226.8\" font-family=\"Times,serif\" font-size=\"14.00\" fill=\"#000000\">0 </text>\n",
       "</g>\n",
       "<!-- F110&#45;&gt;F101 -->\n",
       "<g id=\"edge29\" class=\"edge\">\n",
       "<title>F110&#45;&gt;F101</title>\n",
       "<path fill=\"none\" stroke=\"#000000\" d=\"M744.9358,-274.3867C752.046,-270.643 759.624,-266.6677 766.6713,-263 774.2636,-259.0486 782.3904,-254.849 790.1827,-250.837\"/>\n",
       "<polygon fill=\"#000000\" stroke=\"#000000\" points=\"791.8317,-253.9248 799.1246,-246.2395 788.6308,-247.6994 791.8317,-253.9248\"/>\n",
       "<text text-anchor=\"middle\" x=\"772.1713\" y=\"-266.8\" font-family=\"Times,serif\" font-size=\"14.00\" fill=\"#000000\">1 </text>\n",
       "</g>\n",
       "<!-- F110&#45;&gt;F100 -->\n",
       "<g id=\"edge28\" class=\"edge\">\n",
       "<title>F110&#45;&gt;F100</title>\n",
       "<path fill=\"none\" stroke=\"#000000\" d=\"M748.9183,-289.0779C779.035,-287.5562 824.2373,-283.5449 862.1661,-273 911.7955,-259.2022 920.9383,-246.6902 967.6609,-225 981.0495,-218.7845 995.6499,-211.9021 1008.6823,-205.7213\"/>\n",
       "<polygon fill=\"#000000\" stroke=\"#000000\" points=\"1010.3239,-208.8164 1017.855,-201.3643 1007.3205,-202.4934 1010.3239,-208.8164\"/>\n",
       "<text text-anchor=\"middle\" x=\"885.6661\" y=\"-270.8\" font-family=\"Times,serif\" font-size=\"14.00\" fill=\"#000000\">0 </text>\n",
       "</g>\n",
       "<!-- F111&#45;&gt;F110 -->\n",
       "<g id=\"edge30\" class=\"edge\">\n",
       "<title>F111&#45;&gt;F110</title>\n",
       "<path fill=\"none\" stroke=\"#000000\" d=\"M634.1485,-311.4834C646.249,-308.2849 660.1919,-304.5994 673.0748,-301.1941\"/>\n",
       "<polygon fill=\"#000000\" stroke=\"#000000\" points=\"674.3503,-304.4772 683.1238,-298.5378 672.5614,-297.7097 674.3503,-304.4772\"/>\n",
       "<text text-anchor=\"middle\" x=\"658.6765\" y=\"-308.8\" font-family=\"Times,serif\" font-size=\"14.00\" fill=\"#000000\">0 </text>\n",
       "</g>\n",
       "<!-- F111&#45;&gt;F111 -->\n",
       "<g id=\"edge31\" class=\"edge\">\n",
       "<title>F111&#45;&gt;F111</title>\n",
       "<path fill=\"none\" stroke=\"#000000\" d=\"M591.4297,-351.779C591.3746,-362.5722 594.8744,-371.2474 601.9291,-371.2474 606.5587,-371.2474 609.6574,-367.5113 611.2251,-361.8923\"/>\n",
       "<polygon fill=\"#000000\" stroke=\"#000000\" points=\"614.7223,-362.1225 612.4284,-351.779 607.7713,-361.2954 614.7223,-362.1225\"/>\n",
       "<text text-anchor=\"middle\" x=\"601.9291\" y=\"-375.0474\" font-family=\"Times,serif\" font-size=\"14.00\" fill=\"#000000\">1 </text>\n",
       "</g>\n",
       "<!-- F100&#45;&gt;S001 -->\n",
       "<g id=\"edge25\" class=\"edge\">\n",
       "<title>F100&#45;&gt;S001</title>\n",
       "<path fill=\"none\" stroke=\"#000000\" d=\"M1031.6899,-157.8621C1013.2195,-128.9744 980.1247,-89 938.4135,-89 492.4343,-89 492.4343,-89 492.4343,-89 470.0016,-89 445.2236,-92.793 425.321,-96.7957\"/>\n",
       "<polygon fill=\"#000000\" stroke=\"#000000\" points=\"424.4583,-93.4005 415.3958,-98.889 425.9029,-100.2499 424.4583,-93.4005\"/>\n",
       "<text text-anchor=\"middle\" x=\"715.4239\" y=\"-92.8\" font-family=\"Times,serif\" font-size=\"14.00\" fill=\"#000000\">1 </text>\n",
       "</g>\n",
       "<!-- F100&#45;&gt;S000 -->\n",
       "<g id=\"edge24\" class=\"edge\">\n",
       "<title>F100&#45;&gt;S000</title>\n",
       "<path fill=\"none\" stroke=\"#000000\" d=\"M1068.2468,-160.2522C1086.5832,-136.1375 1113.5796,-100.6337 1133.0579,-75.0171\"/>\n",
       "<polygon fill=\"#000000\" stroke=\"#000000\" points=\"1136.0853,-76.8182 1139.352,-66.7396 1130.5131,-72.5813 1136.0853,-76.8182\"/>\n",
       "<text text-anchor=\"middle\" x=\"1104.6557\" y=\"-123.8\" font-family=\"Times,serif\" font-size=\"14.00\" fill=\"#000000\">0 </text>\n",
       "</g>\n",
       "</g>\n",
       "</svg>\n"
      ],
      "text/plain": [
       "<graphviz.dot.Digraph at 0x1124ec6d8>"
      ]
     },
     "execution_count": 42,
     "metadata": {},
     "output_type": "execute_result"
    }
   ],
   "source": [
    "dotObj_dfa(thirdlastis1)"
   ]
  },
  {
   "cell_type": "code",
   "execution_count": 43,
   "metadata": {
    "run_control": {
     "frozen": false,
     "read_only": false
    }
   },
   "outputs": [],
   "source": [
    "dped1=md2mc(src=\"File\", fname=\"pedagogical2.dfa\")\n",
    "#machines/dfafiles/pedagogical2.dfa"
   ]
  },
  {
   "cell_type": "code",
   "execution_count": 44,
   "metadata": {
    "run_control": {
     "frozen": false,
     "read_only": false
    }
   },
   "outputs": [
    {
     "data": {
      "image/svg+xml": [
       "<?xml version=\"1.0\" encoding=\"UTF-8\" standalone=\"no\"?>\n",
       "<!DOCTYPE svg PUBLIC \"-//W3C//DTD SVG 1.1//EN\"\n",
       " \"http://www.w3.org/Graphics/SVG/1.1/DTD/svg11.dtd\">\n",
       "<!-- Generated by graphviz version 2.40.1 (20161225.0304)\n",
       " -->\n",
       "<!-- Title: %3 Pages: 1 -->\n",
       "<svg width=\"492pt\" height=\"79pt\"\n",
       " viewBox=\"0.00 0.00 491.59 79.00\" xmlns=\"http://www.w3.org/2000/svg\" xmlns:xlink=\"http://www.w3.org/1999/xlink\">\n",
       "<g id=\"graph0\" class=\"graph\" transform=\"scale(1 1) rotate(0) translate(4 75)\">\n",
       "<title>%3</title>\n",
       "<polygon fill=\"#ffffff\" stroke=\"transparent\" points=\"-4,4 -4,-75 487.5928,-75 487.5928,4 -4,4\"/>\n",
       "<!-- EMPTY -->\n",
       "<g id=\"node1\" class=\"node\">\n",
       "<title>EMPTY</title>\n",
       "</g>\n",
       "<!-- I -->\n",
       "<g id=\"node4\" class=\"node\">\n",
       "<title>I</title>\n",
       "<ellipse fill=\"none\" stroke=\"#000000\" cx=\"109\" cy=\"-45\" rx=\"18\" ry=\"18\"/>\n",
       "<text text-anchor=\"middle\" x=\"109\" y=\"-41.3\" font-family=\"Times,serif\" font-size=\"14.00\" fill=\"#000000\">I</text>\n",
       "</g>\n",
       "<!-- EMPTY&#45;&gt;I -->\n",
       "<g id=\"edge1\" class=\"edge\">\n",
       "<title>EMPTY&#45;&gt;I</title>\n",
       "<path fill=\"none\" stroke=\"#000000\" d=\"M54.3048,-45C62.6909,-45 71.9407,-45 80.4103,-45\"/>\n",
       "<polygon fill=\"#000000\" stroke=\"#000000\" points=\"80.5976,-48.5001 90.5976,-45 80.5976,-41.5001 80.5976,-48.5001\"/>\n",
       "</g>\n",
       "<!-- B -->\n",
       "<g id=\"node2\" class=\"node\">\n",
       "<title>B</title>\n",
       "<ellipse fill=\"none\" stroke=\"#000000\" cx=\"275\" cy=\"-42\" rx=\"18\" ry=\"18\"/>\n",
       "<text text-anchor=\"middle\" x=\"275\" y=\"-38.3\" font-family=\"Times,serif\" font-size=\"14.00\" fill=\"#000000\">B</text>\n",
       "</g>\n",
       "<!-- F1 -->\n",
       "<g id=\"node5\" class=\"node\">\n",
       "<title>F1</title>\n",
       "<ellipse fill=\"none\" stroke=\"#000000\" cx=\"364.1482\" cy=\"-42\" rx=\"20.2726\" ry=\"20.2726\"/>\n",
       "<ellipse fill=\"none\" stroke=\"#000000\" cx=\"364.1482\" cy=\"-42\" rx=\"24.2973\" ry=\"24.2973\"/>\n",
       "<text text-anchor=\"middle\" x=\"364.1482\" y=\"-38.3\" font-family=\"Times,serif\" font-size=\"14.00\" fill=\"#000000\">F1</text>\n",
       "</g>\n",
       "<!-- B&#45;&gt;F1 -->\n",
       "<g id=\"edge6\" class=\"edge\">\n",
       "<title>B&#45;&gt;F1</title>\n",
       "<path fill=\"none\" stroke=\"#000000\" d=\"M293.0405,-42C303.534,-42 317.1122,-42 329.587,-42\"/>\n",
       "<polygon fill=\"#000000\" stroke=\"#000000\" points=\"329.7144,-45.5001 339.7144,-42 329.7144,-38.5001 329.7144,-45.5001\"/>\n",
       "<text text-anchor=\"middle\" x=\"316.5\" y=\"-45.8\" font-family=\"Times,serif\" font-size=\"14.00\" fill=\"#000000\">1 </text>\n",
       "</g>\n",
       "<!-- A -->\n",
       "<g id=\"node3\" class=\"node\">\n",
       "<title>A</title>\n",
       "<ellipse fill=\"none\" stroke=\"#000000\" cx=\"192\" cy=\"-18\" rx=\"18\" ry=\"18\"/>\n",
       "<text text-anchor=\"middle\" x=\"192\" y=\"-14.3\" font-family=\"Times,serif\" font-size=\"14.00\" fill=\"#000000\">A</text>\n",
       "</g>\n",
       "<!-- A&#45;&gt;B -->\n",
       "<g id=\"edge4\" class=\"edge\">\n",
       "<title>A&#45;&gt;B</title>\n",
       "<path fill=\"none\" stroke=\"#000000\" d=\"M209.6022,-23.0898C220.6807,-26.2932 235.206,-30.4933 247.7529,-34.1213\"/>\n",
       "<polygon fill=\"#000000\" stroke=\"#000000\" points=\"247.1291,-37.5843 257.7078,-36.9999 249.0736,-30.8598 247.1291,-37.5843\"/>\n",
       "<text text-anchor=\"middle\" x=\"233.5\" y=\"-34.8\" font-family=\"Times,serif\" font-size=\"14.00\" fill=\"#000000\">0 </text>\n",
       "</g>\n",
       "<!-- A&#45;&gt;B -->\n",
       "<g id=\"edge5\" class=\"edge\">\n",
       "<title>A&#45;&gt;B</title>\n",
       "<path fill=\"none\" stroke=\"#000000\" d=\"M208.5033,-10.4587C217.7059,-7.326 229.244,-5.2051 239,-9 245.4301,-11.5012 251.4098,-15.7467 256.5758,-20.3748\"/>\n",
       "<polygon fill=\"#000000\" stroke=\"#000000\" points=\"254.4245,-23.1731 263.9717,-27.7668 259.3729,-18.222 254.4245,-23.1731\"/>\n",
       "<text text-anchor=\"middle\" x=\"233.5\" y=\"-12.8\" font-family=\"Times,serif\" font-size=\"14.00\" fill=\"#000000\">1 </text>\n",
       "</g>\n",
       "<!-- I&#45;&gt;B -->\n",
       "<g id=\"edge3\" class=\"edge\">\n",
       "<title>I&#45;&gt;B</title>\n",
       "<path fill=\"none\" stroke=\"#000000\" d=\"M126.8462,-49.1724C132.6063,-50.33 139.0425,-51.4262 145,-52 166.9489,-54.1141 131.0131,-63.1722 239,-50 241.7646,-49.6628 244.6291,-49.2092 247.4797,-48.6885\"/>\n",
       "<polygon fill=\"#000000\" stroke=\"#000000\" points=\"248.4623,-52.0591 257.5404,-46.5966 247.0373,-45.2057 248.4623,-52.0591\"/>\n",
       "<text text-anchor=\"middle\" x=\"192\" y=\"-59.8\" font-family=\"Times,serif\" font-size=\"14.00\" fill=\"#000000\">1 </text>\n",
       "</g>\n",
       "<!-- I&#45;&gt;A -->\n",
       "<g id=\"edge2\" class=\"edge\">\n",
       "<title>I&#45;&gt;A</title>\n",
       "<path fill=\"none\" stroke=\"#000000\" d=\"M126.1977,-39.4056C137.4377,-35.7492 152.3502,-30.8981 165.1365,-26.7387\"/>\n",
       "<polygon fill=\"#000000\" stroke=\"#000000\" points=\"166.3976,-30.0091 174.8244,-23.5873 164.2321,-23.3524 166.3976,-30.0091\"/>\n",
       "<text text-anchor=\"middle\" x=\"150.5\" y=\"-36.8\" font-family=\"Times,serif\" font-size=\"14.00\" fill=\"#000000\">0 </text>\n",
       "</g>\n",
       "<!-- F2 -->\n",
       "<g id=\"node6\" class=\"node\">\n",
       "<title>F2</title>\n",
       "<ellipse fill=\"none\" stroke=\"#000000\" cx=\"459.4446\" cy=\"-42\" rx=\"20.2726\" ry=\"20.2726\"/>\n",
       "<ellipse fill=\"none\" stroke=\"#000000\" cx=\"459.4446\" cy=\"-42\" rx=\"24.2973\" ry=\"24.2973\"/>\n",
       "<text text-anchor=\"middle\" x=\"459.4446\" y=\"-38.3\" font-family=\"Times,serif\" font-size=\"14.00\" fill=\"#000000\">F2</text>\n",
       "</g>\n",
       "<!-- F1&#45;&gt;F2 -->\n",
       "<g id=\"edge7\" class=\"edge\">\n",
       "<title>F1&#45;&gt;F2</title>\n",
       "<path fill=\"none\" stroke=\"#000000\" d=\"M388.6894,-42C399.694,-42 412.8682,-42 424.8494,-42\"/>\n",
       "<polygon fill=\"#000000\" stroke=\"#000000\" points=\"424.9866,-45.5001 434.9866,-42 424.9866,-38.5001 424.9866,-45.5001\"/>\n",
       "<text text-anchor=\"middle\" x=\"411.7964\" y=\"-45.8\" font-family=\"Times,serif\" font-size=\"14.00\" fill=\"#000000\">0 </text>\n",
       "</g>\n",
       "<!-- F1&#45;&gt;F2 -->\n",
       "<g id=\"edge8\" class=\"edge\">\n",
       "<title>F1&#45;&gt;F2</title>\n",
       "<path fill=\"none\" stroke=\"#000000\" d=\"M385.4224,-30.309C391.9279,-27.3174 399.2339,-24.5183 406.2964,-23 413.9568,-21.3532 422.017,-22.5888 429.4798,-25.0668\"/>\n",
       "<polygon fill=\"#000000\" stroke=\"#000000\" points=\"428.2817,-28.3582 438.8625,-28.9022 430.9304,-21.8786 428.2817,-28.3582\"/>\n",
       "<text text-anchor=\"middle\" x=\"411.7964\" y=\"-26.8\" font-family=\"Times,serif\" font-size=\"14.00\" fill=\"#000000\">1 </text>\n",
       "</g>\n",
       "</g>\n",
       "</svg>\n"
      ],
      "text/plain": [
       "<graphviz.dot.Digraph at 0x1124e6c18>"
      ]
     },
     "execution_count": 44,
     "metadata": {},
     "output_type": "execute_result"
    }
   ],
   "source": [
    "dotObj_dfa(dped1)"
   ]
  },
  {
   "cell_type": "code",
   "execution_count": 45,
   "metadata": {
    "run_control": {
     "frozen": false,
     "read_only": false
    }
   },
   "outputs": [],
   "source": [
    "secondLastIs1 = md2mc('''\n",
    "!!------------------------------------------------------------\n",
    "!! This DFA looks for patterns of the form ....1.\n",
    "!! i.e., the second-last (counting from the end-point) is a 1\n",
    "!!\n",
    "!! DFAs find such patterns \"very stressful to handle\",\n",
    "!! as they are kept guessing of the form  'are we there yet?'\n",
    "!! 'are we seeing the second-last' ?\n",
    "!! They must keep all the failure options at hand. Even after\n",
    "!! a 'fleeting glimpse' of the second-last, more inputs can\n",
    "!! come barreling-in to make that \"lucky 1\" a non-second-last.\n",
    "!!\n",
    "!! We take 7 states in the DFA solution.\n",
    "!!------------------------------------------------------------\n",
    "\n",
    "DFA\n",
    "!!------------------------------------------------------------\n",
    "!! State : in ->  tostate !! comment\n",
    "!!------------------------------------------------------------\n",
    "\n",
    "I   :  0 ->  S0  !! Enter at init state I\n",
    "I   :  1 ->  S1  !! Record bit seen in state letter\n",
    "                     !! i.e., S0 means \"state after seeing a 0\"\n",
    "\t\t\t \n",
    "S0  :  0 ->  S00 !! continue recording input seen\n",
    "S0  :  1 ->  S01 !! in state-letter. This is a problem-specific\n",
    "                 !! way of compressing the input seen so far.\n",
    "\n",
    "S1  :  0 ->  F10 !! We now have a \"second last\" available!\n",
    "S1  :  1 ->  F11 !! Both F10 and F10 are \"F\" (final)\n",
    "\n",
    "S00 :  0 ->  S00 !! History of things seen is still 00\n",
    "S00 :  1 ->  S01 !! Remember 01 in the state\n",
    "\n",
    "S01 :  0 ->  F10 !! We again have a second-last of 1\n",
    "S01 :  1 ->  F11 !! We are in F11 because of 11 being last seen\n",
    "\n",
    "F10 :  0 ->  S00 !! The second-last 1 gets pushed-out\n",
    "F10 :  1 ->  S01 !! The second-last 1 gets pushed-out here too\n",
    "\n",
    "F11 :  0 ->  F10 !! Still we have a second-last 1\n",
    "F11 :  1 ->  F11 !! Stay in F11, as last two seen are 11\n",
    "\n",
    "!!------------------------------------------------------------\n",
    "''')"
   ]
  },
  {
   "cell_type": "code",
   "execution_count": null,
   "metadata": {
    "run_control": {
     "frozen": false,
     "read_only": false
    }
   },
   "outputs": [],
   "source": []
  },
  {
   "cell_type": "code",
   "execution_count": 46,
   "metadata": {
    "run_control": {
     "frozen": false,
     "read_only": false
    }
   },
   "outputs": [
    {
     "data": {
      "text/plain": [
       "'0101'"
      ]
     },
     "execution_count": 46,
     "metadata": {},
     "output_type": "execute_result"
    }
   ],
   "source": [
    "nthnumeric(20,['0','1'])"
   ]
  },
  {
   "cell_type": "code",
   "execution_count": 47,
   "metadata": {
    "run_control": {
     "frozen": false,
     "read_only": false
    }
   },
   "outputs": [
    {
     "data": {
      "text/plain": [
       "'S01'"
      ]
     },
     "execution_count": 47,
     "metadata": {},
     "output_type": "execute_result"
    }
   ],
   "source": [
    "run_dfa(secondLastIs1, '0101')"
   ]
  },
  {
   "cell_type": "code",
   "execution_count": 48,
   "metadata": {
    "run_control": {
     "frozen": false,
     "read_only": false
    }
   },
   "outputs": [
    {
     "data": {
      "text/plain": [
       "False"
      ]
     },
     "execution_count": 48,
     "metadata": {},
     "output_type": "execute_result"
    }
   ],
   "source": [
    "accepts_dfa(secondLastIs1, '0101')"
   ]
  },
  {
   "cell_type": "code",
   "execution_count": 49,
   "metadata": {
    "run_control": {
     "frozen": false,
     "read_only": false
    }
   },
   "outputs": [
    {
     "name": "stdout",
     "output_type": "stream",
     "text": [
      "This DFA rejects  \n",
      "This DFA rejects  0\n",
      "This DFA rejects  1\n",
      "This DFA rejects  00\n",
      "This DFA rejects  01\n",
      "This DFA accepts  10\n",
      "This DFA accepts  11\n",
      "This DFA rejects  000\n",
      "This DFA rejects  001\n",
      "This DFA accepts  010\n",
      "This DFA accepts  011\n",
      "This DFA rejects  100\n"
     ]
    }
   ],
   "source": [
    "tests = [ nthnumeric(i, ['0','1']) for i in range(12) ]\n",
    "for t in tests:\n",
    "    if accepts_dfa(secondLastIs1, t):\n",
    "        print(\"This DFA accepts \", t)\n",
    "    else:\n",
    "        print(\"This DFA rejects \", t)"
   ]
  },
  {
   "cell_type": "code",
   "execution_count": 50,
   "metadata": {
    "run_control": {
     "frozen": false,
     "read_only": false
    }
   },
   "outputs": [
    {
     "name": "stdout",
     "output_type": "stream",
     "text": [
      "Help on function run_dfa in module jove.Def_DFA:\n",
      "\n",
      "run_dfa(D, s)\n",
      "    In : D (consistent DFA)\n",
      "         s (string over D's sigma, including \"\")\n",
      "    Out: next state of D[\"q0\"] via string s\n",
      "\n"
     ]
    }
   ],
   "source": [
    "help(run_dfa)"
   ]
  },
  {
   "cell_type": "markdown",
   "metadata": {
    "run_control": {
     "frozen": false,
     "read_only": false
    }
   },
   "source": [
    "# Study DeMorgan's Law on DFA\n",
    "\n",
    "This is an extensive illustration of union, intersection and complementation, DFA minimization, isomorphism test, language equivalence test, and an application of DeMorgan's law\n",
    "\n",
    "## Define a DFA for \"odd 1s\" (over {0,1})"
   ]
  },
  {
   "cell_type": "code",
   "execution_count": 51,
   "metadata": {
    "run_control": {
     "frozen": false,
     "read_only": false
    }
   },
   "outputs": [],
   "source": [
    "dfaOdd1s = md2mc('''\n",
    "DFA\n",
    "I : 0 -> I\n",
    "I : 1 -> F\n",
    "F : 0 -> F \n",
    "F : 1 -> I\n",
    "''')"
   ]
  },
  {
   "cell_type": "code",
   "execution_count": 52,
   "metadata": {
    "run_control": {
     "frozen": false,
     "read_only": false
    }
   },
   "outputs": [
    {
     "data": {
      "image/svg+xml": [
       "<?xml version=\"1.0\" encoding=\"UTF-8\" standalone=\"no\"?>\n",
       "<!DOCTYPE svg PUBLIC \"-//W3C//DTD SVG 1.1//EN\"\n",
       " \"http://www.w3.org/Graphics/SVG/1.1/DTD/svg11.dtd\">\n",
       "<!-- Generated by graphviz version 2.40.1 (20161225.0304)\n",
       " -->\n",
       "<!-- Title: %3 Pages: 1 -->\n",
       "<svg width=\"226pt\" height=\"85pt\"\n",
       " viewBox=\"0.00 0.00 226.00 85.00\" xmlns=\"http://www.w3.org/2000/svg\" xmlns:xlink=\"http://www.w3.org/1999/xlink\">\n",
       "<g id=\"graph0\" class=\"graph\" transform=\"scale(1 1) rotate(0) translate(4 81)\">\n",
       "<title>%3</title>\n",
       "<polygon fill=\"#ffffff\" stroke=\"transparent\" points=\"-4,4 -4,-81 222,-81 222,4 -4,4\"/>\n",
       "<!-- EMPTY -->\n",
       "<g id=\"node1\" class=\"node\">\n",
       "<title>EMPTY</title>\n",
       "</g>\n",
       "<!-- I -->\n",
       "<g id=\"node2\" class=\"node\">\n",
       "<title>I</title>\n",
       "<ellipse fill=\"none\" stroke=\"#000000\" cx=\"109\" cy=\"-22\" rx=\"18\" ry=\"18\"/>\n",
       "<text text-anchor=\"middle\" x=\"109\" y=\"-18.3\" font-family=\"Times,serif\" font-size=\"14.00\" fill=\"#000000\">I</text>\n",
       "</g>\n",
       "<!-- EMPTY&#45;&gt;I -->\n",
       "<g id=\"edge1\" class=\"edge\">\n",
       "<title>EMPTY&#45;&gt;I</title>\n",
       "<path fill=\"none\" stroke=\"#000000\" d=\"M54.3048,-22C62.6909,-22 71.9407,-22 80.4103,-22\"/>\n",
       "<polygon fill=\"#000000\" stroke=\"#000000\" points=\"80.5976,-25.5001 90.5976,-22 80.5976,-18.5001 80.5976,-25.5001\"/>\n",
       "</g>\n",
       "<!-- I&#45;&gt;I -->\n",
       "<g id=\"edge2\" class=\"edge\">\n",
       "<title>I&#45;&gt;I</title>\n",
       "<path fill=\"none\" stroke=\"#000000\" d=\"M102.6208,-39.0373C101.3189,-48.8579 103.4453,-58 109,-58 112.4717,-58 114.6042,-54.4289 115.3975,-49.3529\"/>\n",
       "<polygon fill=\"#000000\" stroke=\"#000000\" points=\"118.8971,-49.031 115.3792,-39.0373 111.8971,-49.0435 118.8971,-49.031\"/>\n",
       "<text text-anchor=\"middle\" x=\"109\" y=\"-61.8\" font-family=\"Times,serif\" font-size=\"14.00\" fill=\"#000000\">0 </text>\n",
       "</g>\n",
       "<!-- F -->\n",
       "<g id=\"node3\" class=\"node\">\n",
       "<title>F</title>\n",
       "<ellipse fill=\"none\" stroke=\"#000000\" cx=\"196\" cy=\"-22\" rx=\"18\" ry=\"18\"/>\n",
       "<ellipse fill=\"none\" stroke=\"#000000\" cx=\"196\" cy=\"-22\" rx=\"22\" ry=\"22\"/>\n",
       "<text text-anchor=\"middle\" x=\"196\" y=\"-18.3\" font-family=\"Times,serif\" font-size=\"14.00\" fill=\"#000000\">F</text>\n",
       "</g>\n",
       "<!-- I&#45;&gt;F -->\n",
       "<g id=\"edge3\" class=\"edge\">\n",
       "<title>I&#45;&gt;F</title>\n",
       "<path fill=\"none\" stroke=\"#000000\" d=\"M127.0265,-22C137.6806,-22 151.4825,-22 163.9377,-22\"/>\n",
       "<polygon fill=\"#000000\" stroke=\"#000000\" points=\"163.9848,-25.5001 173.9847,-22 163.9847,-18.5001 163.9848,-25.5001\"/>\n",
       "<text text-anchor=\"middle\" x=\"150.5\" y=\"-25.8\" font-family=\"Times,serif\" font-size=\"14.00\" fill=\"#000000\">1 </text>\n",
       "</g>\n",
       "<!-- F&#45;&gt;I -->\n",
       "<g id=\"edge5\" class=\"edge\">\n",
       "<title>F&#45;&gt;I</title>\n",
       "<path fill=\"none\" stroke=\"#000000\" d=\"M177.4309,-9.3024C167.8997,-4.2783 156.0058,-.2739 145,-3 141.0235,-3.985 137.0019,-5.4981 133.1597,-7.2497\"/>\n",
       "<polygon fill=\"#000000\" stroke=\"#000000\" points=\"131.3818,-4.2287 124.1057,-11.93 134.5962,-10.447 131.3818,-4.2287\"/>\n",
       "<text text-anchor=\"middle\" x=\"150.5\" y=\"-6.8\" font-family=\"Times,serif\" font-size=\"14.00\" fill=\"#000000\">1 </text>\n",
       "</g>\n",
       "<!-- F&#45;&gt;F -->\n",
       "<g id=\"edge4\" class=\"edge\">\n",
       "<title>F&#45;&gt;F</title>\n",
       "<path fill=\"none\" stroke=\"#000000\" d=\"M187.9937,-42.5808C186.8859,-52.8447 189.5547,-62 196,-62 200.129,-62 202.7082,-58.2427 203.7374,-52.8436\"/>\n",
       "<polygon fill=\"#000000\" stroke=\"#000000\" points=\"207.2431,-52.6691 204.0063,-42.5808 200.2455,-52.4857 207.2431,-52.6691\"/>\n",
       "<text text-anchor=\"middle\" x=\"196\" y=\"-65.8\" font-family=\"Times,serif\" font-size=\"14.00\" fill=\"#000000\">0 </text>\n",
       "</g>\n",
       "</g>\n",
       "</svg>\n"
      ],
      "text/plain": [
       "<graphviz.dot.Digraph at 0x1124ef7b8>"
      ]
     },
     "execution_count": 52,
     "metadata": {},
     "output_type": "execute_result"
    }
   ],
   "source": [
    "dotObj_dfa(dfaOdd1s)"
   ]
  },
  {
   "cell_type": "markdown",
   "metadata": {
    "run_control": {
     "frozen": false,
     "read_only": false
    }
   },
   "source": [
    "## Define a DFA for \"ends in 01\""
   ]
  },
  {
   "cell_type": "code",
   "execution_count": 53,
   "metadata": {
    "run_control": {
     "frozen": false,
     "read_only": false
    }
   },
   "outputs": [],
   "source": [
    "ends01 = md2mc('''\n",
    "DFA \n",
    "I     : 1 -> I   !! idle at I\n",
    "I     : 0 -> S0  !! record 0 seen\n",
    " \n",
    "S0    : 0 -> S0  !! stay at S0, hopeful of a 1\n",
    "S0    : 1 -> F   !! Found 01\n",
    "\n",
    "F     : 0 -> S0  !! Broke ending, but S0 is the fall back\n",
    "F     : 1 -> I   !! Must resume finding another 0\n",
    "''')"
   ]
  },
  {
   "cell_type": "code",
   "execution_count": 54,
   "metadata": {
    "run_control": {
     "frozen": false,
     "read_only": false
    }
   },
   "outputs": [
    {
     "data": {
      "image/svg+xml": [
       "<?xml version=\"1.0\" encoding=\"UTF-8\" standalone=\"no\"?>\n",
       "<!DOCTYPE svg PUBLIC \"-//W3C//DTD SVG 1.1//EN\"\n",
       " \"http://www.w3.org/Graphics/SVG/1.1/DTD/svg11.dtd\">\n",
       "<!-- Generated by graphviz version 2.40.1 (20161225.0304)\n",
       " -->\n",
       "<!-- Title: %3 Pages: 1 -->\n",
       "<svg width=\"313pt\" height=\"116pt\"\n",
       " viewBox=\"0.00 0.00 313.30 116.15\" xmlns=\"http://www.w3.org/2000/svg\" xmlns:xlink=\"http://www.w3.org/1999/xlink\">\n",
       "<g id=\"graph0\" class=\"graph\" transform=\"scale(1 1) rotate(0) translate(4 112.1482)\">\n",
       "<title>%3</title>\n",
       "<polygon fill=\"#ffffff\" stroke=\"transparent\" points=\"-4,4 -4,-112.1482 309.2964,-112.1482 309.2964,4 -4,4\"/>\n",
       "<!-- EMPTY -->\n",
       "<g id=\"node1\" class=\"node\">\n",
       "<title>EMPTY</title>\n",
       "</g>\n",
       "<!-- I -->\n",
       "<g id=\"node3\" class=\"node\">\n",
       "<title>I</title>\n",
       "<ellipse fill=\"none\" stroke=\"#000000\" cx=\"109\" cy=\"-18\" rx=\"18\" ry=\"18\"/>\n",
       "<text text-anchor=\"middle\" x=\"109\" y=\"-14.3\" font-family=\"Times,serif\" font-size=\"14.00\" fill=\"#000000\">I</text>\n",
       "</g>\n",
       "<!-- EMPTY&#45;&gt;I -->\n",
       "<g id=\"edge1\" class=\"edge\">\n",
       "<title>EMPTY&#45;&gt;I</title>\n",
       "<path fill=\"none\" stroke=\"#000000\" d=\"M54.3048,-18C62.6909,-18 71.9407,-18 80.4103,-18\"/>\n",
       "<polygon fill=\"#000000\" stroke=\"#000000\" points=\"80.5976,-21.5001 90.5976,-18 80.5976,-14.5001 80.5976,-21.5001\"/>\n",
       "</g>\n",
       "<!-- S0 -->\n",
       "<g id=\"node2\" class=\"node\">\n",
       "<title>S0</title>\n",
       "<ellipse fill=\"none\" stroke=\"#000000\" cx=\"194.1482\" cy=\"-55\" rx=\"20.2975\" ry=\"20.2975\"/>\n",
       "<text text-anchor=\"middle\" x=\"194.1482\" y=\"-51.3\" font-family=\"Times,serif\" font-size=\"14.00\" fill=\"#000000\">S0</text>\n",
       "</g>\n",
       "<!-- S0&#45;&gt;S0 -->\n",
       "<g id=\"edge4\" class=\"edge\">\n",
       "<title>S0&#45;&gt;S0</title>\n",
       "<path fill=\"none\" stroke=\"#000000\" d=\"M186.5981,-73.8428C185.3151,-83.9449 187.8318,-93.1482 194.1482,-93.1482 198.1947,-93.1482 200.6817,-89.3712 201.6093,-84.0004\"/>\n",
       "<polygon fill=\"#000000\" stroke=\"#000000\" points=\"205.1105,-83.8731 201.6983,-73.8428 198.1108,-83.8117 205.1105,-83.8731\"/>\n",
       "<text text-anchor=\"middle\" x=\"194.1482\" y=\"-96.9482\" font-family=\"Times,serif\" font-size=\"14.00\" fill=\"#000000\">0 </text>\n",
       "</g>\n",
       "<!-- F -->\n",
       "<g id=\"node4\" class=\"node\">\n",
       "<title>F</title>\n",
       "<ellipse fill=\"none\" stroke=\"#000000\" cx=\"283.2964\" cy=\"-35\" rx=\"18\" ry=\"18\"/>\n",
       "<ellipse fill=\"none\" stroke=\"#000000\" cx=\"283.2964\" cy=\"-35\" rx=\"22\" ry=\"22\"/>\n",
       "<text text-anchor=\"middle\" x=\"283.2964\" y=\"-31.3\" font-family=\"Times,serif\" font-size=\"14.00\" fill=\"#000000\">F</text>\n",
       "</g>\n",
       "<!-- S0&#45;&gt;F -->\n",
       "<g id=\"edge5\" class=\"edge\">\n",
       "<title>S0&#45;&gt;F</title>\n",
       "<path fill=\"none\" stroke=\"#000000\" d=\"M214.4461,-54.7094C223.3886,-54.2338 233.9626,-53.1939 243.2964,-51 246.7503,-50.1882 250.2977,-49.1278 253.7853,-47.9389\"/>\n",
       "<polygon fill=\"#000000\" stroke=\"#000000\" points=\"255.2021,-51.1454 263.3286,-44.3475 252.7366,-44.594 255.2021,-51.1454\"/>\n",
       "<text text-anchor=\"middle\" x=\"237.7964\" y=\"-55.8\" font-family=\"Times,serif\" font-size=\"14.00\" fill=\"#000000\">1 </text>\n",
       "</g>\n",
       "<!-- I&#45;&gt;S0 -->\n",
       "<g id=\"edge3\" class=\"edge\">\n",
       "<title>I&#45;&gt;S0</title>\n",
       "<path fill=\"none\" stroke=\"#000000\" d=\"M125.8225,-25.31C137.3666,-30.3263 152.9569,-37.1009 166.3304,-42.9121\"/>\n",
       "<polygon fill=\"#000000\" stroke=\"#000000\" points=\"165.0206,-46.1591 175.587,-46.9345 167.8104,-39.739 165.0206,-46.1591\"/>\n",
       "<text text-anchor=\"middle\" x=\"150.5\" y=\"-40.8\" font-family=\"Times,serif\" font-size=\"14.00\" fill=\"#000000\">0 </text>\n",
       "</g>\n",
       "<!-- I&#45;&gt;I -->\n",
       "<g id=\"edge2\" class=\"edge\">\n",
       "<title>I&#45;&gt;I</title>\n",
       "<path fill=\"none\" stroke=\"#000000\" d=\"M102.6208,-35.0373C101.3189,-44.8579 103.4453,-54 109,-54 112.4717,-54 114.6042,-50.4289 115.3975,-45.3529\"/>\n",
       "<polygon fill=\"#000000\" stroke=\"#000000\" points=\"118.8971,-45.031 115.3792,-35.0373 111.8971,-45.0435 118.8971,-45.031\"/>\n",
       "<text text-anchor=\"middle\" x=\"109\" y=\"-57.8\" font-family=\"Times,serif\" font-size=\"14.00\" fill=\"#000000\">1 </text>\n",
       "</g>\n",
       "<!-- F&#45;&gt;S0 -->\n",
       "<g id=\"edge6\" class=\"edge\">\n",
       "<title>F&#45;&gt;S0</title>\n",
       "<path fill=\"none\" stroke=\"#000000\" d=\"M261.6248,-30.6347C252.4341,-29.5719 241.696,-29.3856 232.2964,-32 227.8167,-33.246 223.3369,-35.1754 219.1042,-37.3985\"/>\n",
       "<polygon fill=\"#000000\" stroke=\"#000000\" points=\"217.1582,-34.4829 210.3288,-42.5829 220.7188,-40.5097 217.1582,-34.4829\"/>\n",
       "<text text-anchor=\"middle\" x=\"237.7964\" y=\"-35.8\" font-family=\"Times,serif\" font-size=\"14.00\" fill=\"#000000\">0 </text>\n",
       "</g>\n",
       "<!-- F&#45;&gt;I -->\n",
       "<g id=\"edge7\" class=\"edge\">\n",
       "<title>F&#45;&gt;I</title>\n",
       "<path fill=\"none\" stroke=\"#000000\" d=\"M262.9388,-25.8951C249.4444,-20.3706 231.1794,-13.8524 214.2964,-11 188.1791,-6.5875 157.9783,-9.3914 136.6359,-12.6682\"/>\n",
       "<polygon fill=\"#000000\" stroke=\"#000000\" points=\"135.9267,-9.2381 126.6395,-14.337 137.0793,-16.1425 135.9267,-9.2381\"/>\n",
       "<text text-anchor=\"middle\" x=\"194.1482\" y=\"-14.8\" font-family=\"Times,serif\" font-size=\"14.00\" fill=\"#000000\">1 </text>\n",
       "</g>\n",
       "</g>\n",
       "</svg>\n"
      ],
      "text/plain": [
       "<graphviz.dot.Digraph at 0x112501c50>"
      ]
     },
     "execution_count": 54,
     "metadata": {},
     "output_type": "execute_result"
    }
   ],
   "source": [
    "dotObj_dfa(ends01)"
   ]
  },
  {
   "cell_type": "markdown",
   "metadata": {
    "run_control": {
     "frozen": false,
     "read_only": false
    }
   },
   "source": [
    "## Now produce a DFA for the union\n",
    "\n",
    "Union of \"odd 1s\" and \"ends in 01\"\n"
   ]
  },
  {
   "cell_type": "code",
   "execution_count": 55,
   "metadata": {
    "run_control": {
     "frozen": false,
     "read_only": false
    }
   },
   "outputs": [],
   "source": [
    "odd1sORends01 = union_dfa(dfaOdd1s,ends01)"
   ]
  },
  {
   "cell_type": "code",
   "execution_count": 56,
   "metadata": {
    "run_control": {
     "frozen": false,
     "read_only": false
    }
   },
   "outputs": [
    {
     "data": {
      "image/svg+xml": [
       "<?xml version=\"1.0\" encoding=\"UTF-8\" standalone=\"no\"?>\n",
       "<!DOCTYPE svg PUBLIC \"-//W3C//DTD SVG 1.1//EN\"\n",
       " \"http://www.w3.org/Graphics/SVG/1.1/DTD/svg11.dtd\">\n",
       "<!-- Generated by graphviz version 2.40.1 (20161225.0304)\n",
       " -->\n",
       "<!-- Title: %3 Pages: 1 -->\n",
       "<svg width=\"739pt\" height=\"226pt\"\n",
       " viewBox=\"0.00 0.00 739.07 225.80\" xmlns=\"http://www.w3.org/2000/svg\" xmlns:xlink=\"http://www.w3.org/1999/xlink\">\n",
       "<g id=\"graph0\" class=\"graph\" transform=\"scale(1 1) rotate(0) translate(4 221.797)\">\n",
       "<title>%3</title>\n",
       "<polygon fill=\"#ffffff\" stroke=\"transparent\" points=\"-4,4 -4,-221.797 735.0669,-221.797 735.0669,4 -4,4\"/>\n",
       "<!-- EMPTY -->\n",
       "<g id=\"node1\" class=\"node\">\n",
       "<title>EMPTY</title>\n",
       "</g>\n",
       "<!-- \\(I_I\\) -->\n",
       "<g id=\"node3\" class=\"node\">\n",
       "<title>\\(I_I\\)</title>\n",
       "<ellipse fill=\"none\" stroke=\"#000000\" cx=\"118.2976\" cy=\"-61\" rx=\"27.0966\" ry=\"27.0966\"/>\n",
       "<text text-anchor=\"middle\" x=\"118.2976\" y=\"-57.3\" font-family=\"Times,serif\" font-size=\"14.00\" fill=\"#000000\">(I_I)</text>\n",
       "</g>\n",
       "<!-- EMPTY&#45;&gt;\\(I_I\\) -->\n",
       "<g id=\"edge1\" class=\"edge\">\n",
       "<title>EMPTY&#45;&gt;\\(I_I\\)</title>\n",
       "<path fill=\"none\" stroke=\"#000000\" d=\"M54.3923,-61C62.6976,-61 71.9683,-61 80.8159,-61\"/>\n",
       "<polygon fill=\"#000000\" stroke=\"#000000\" points=\"80.9247,-64.5001 90.9246,-61 80.9246,-57.5001 80.9247,-64.5001\"/>\n",
       "</g>\n",
       "<!-- \\(I_S0\\) -->\n",
       "<g id=\"node2\" class=\"node\">\n",
       "<title>\\(I_S0\\)</title>\n",
       "<ellipse fill=\"none\" stroke=\"#000000\" cx=\"226.3922\" cy=\"-151\" rx=\"33.5952\" ry=\"33.5952\"/>\n",
       "<text text-anchor=\"middle\" x=\"226.3922\" y=\"-147.3\" font-family=\"Times,serif\" font-size=\"14.00\" fill=\"#000000\">(I_S0)</text>\n",
       "</g>\n",
       "<!-- \\(I_S0\\)&#45;&gt;\\(I_S0\\) -->\n",
       "<g id=\"edge12\" class=\"edge\">\n",
       "<title>\\(I_S0\\)&#45;&gt;\\(I_S0\\)</title>\n",
       "<path fill=\"none\" stroke=\"#000000\" d=\"M215.8922,-183.3731C215.8922,-194.1642 219.3922,-202.797 226.3922,-202.797 230.9859,-202.797 234.0723,-199.0792 235.6514,-193.4733\"/>\n",
       "<polygon fill=\"#000000\" stroke=\"#000000\" points=\"239.1467,-193.7253 236.8922,-183.3731 232.1989,-192.8718 239.1467,-193.7253\"/>\n",
       "<text text-anchor=\"middle\" x=\"226.3922\" y=\"-206.597\" font-family=\"Times,serif\" font-size=\"14.00\" fill=\"#000000\">0 </text>\n",
       "</g>\n",
       "<!-- \\(F_F\\) -->\n",
       "<g id=\"node7\" class=\"node\">\n",
       "<title>\\(F_F\\)</title>\n",
       "<ellipse fill=\"none\" stroke=\"#000000\" cx=\"342.3864\" cy=\"-106\" rx=\"31.373\" ry=\"31.373\"/>\n",
       "<ellipse fill=\"none\" stroke=\"#000000\" cx=\"342.3864\" cy=\"-106\" rx=\"35.3956\" ry=\"35.3956\"/>\n",
       "<text text-anchor=\"middle\" x=\"342.3864\" y=\"-102.3\" font-family=\"Times,serif\" font-size=\"14.00\" fill=\"#000000\">(F_F)</text>\n",
       "</g>\n",
       "<!-- \\(I_S0\\)&#45;&gt;\\(F_F\\) -->\n",
       "<g id=\"edge6\" class=\"edge\">\n",
       "<title>\\(I_S0\\)&#45;&gt;\\(F_F\\)</title>\n",
       "<path fill=\"none\" stroke=\"#000000\" d=\"M258.0881,-138.7036C271.0592,-133.6714 286.2572,-127.7753 300.1496,-122.3858\"/>\n",
       "<polygon fill=\"#000000\" stroke=\"#000000\" points=\"301.4584,-125.6323 309.5155,-118.7523 298.9265,-119.1062 301.4584,-125.6323\"/>\n",
       "<text text-anchor=\"middle\" x=\"283.6892\" y=\"-132.8\" font-family=\"Times,serif\" font-size=\"14.00\" fill=\"#000000\">1 </text>\n",
       "</g>\n",
       "<!-- \\(I_I\\)&#45;&gt;\\(I_S0\\) -->\n",
       "<g id=\"edge9\" class=\"edge\">\n",
       "<title>\\(I_I\\)&#45;&gt;\\(I_S0\\)</title>\n",
       "<path fill=\"none\" stroke=\"#000000\" d=\"M139.3959,-78.5666C154.5275,-91.1652 175.231,-108.403 192.6449,-122.9019\"/>\n",
       "<polygon fill=\"#000000\" stroke=\"#000000\" points=\"190.4581,-125.6355 200.3826,-129.3443 194.9371,-120.256 190.4581,-125.6355\"/>\n",
       "<text text-anchor=\"middle\" x=\"169.0952\" y=\"-109.8\" font-family=\"Times,serif\" font-size=\"14.00\" fill=\"#000000\">0 </text>\n",
       "</g>\n",
       "<!-- \\(F_I\\) -->\n",
       "<g id=\"node5\" class=\"node\">\n",
       "<title>\\(F_I\\)</title>\n",
       "<ellipse fill=\"none\" stroke=\"#000000\" cx=\"697.8195\" cy=\"-61\" rx=\"29.4667\" ry=\"29.4667\"/>\n",
       "<ellipse fill=\"none\" stroke=\"#000000\" cx=\"697.8195\" cy=\"-61\" rx=\"33.4967\" ry=\"33.4967\"/>\n",
       "<text text-anchor=\"middle\" x=\"697.8195\" y=\"-57.3\" font-family=\"Times,serif\" font-size=\"14.00\" fill=\"#000000\">(F_I)</text>\n",
       "</g>\n",
       "<!-- \\(I_I\\)&#45;&gt;\\(F_I\\) -->\n",
       "<g id=\"edge2\" class=\"edge\">\n",
       "<title>\\(I_I\\)&#45;&gt;\\(F_I\\)</title>\n",
       "<path fill=\"none\" stroke=\"#000000\" d=\"M144.1807,-52.3047C165.8763,-45.7915 197.8042,-38 226.3922,-38 226.3922,-38 226.3922,-38 584.3247,-38 608.4493,-38 634.894,-43.0534 656.1833,-48.4228\"/>\n",
       "<polygon fill=\"#000000\" stroke=\"#000000\" points=\"655.3187,-51.8143 665.8806,-50.9788 657.1029,-45.0455 655.3187,-51.8143\"/>\n",
       "<text text-anchor=\"middle\" x=\"401.0836\" y=\"-41.8\" font-family=\"Times,serif\" font-size=\"14.00\" fill=\"#000000\">1 </text>\n",
       "</g>\n",
       "<!-- \\(I_F\\) -->\n",
       "<g id=\"node4\" class=\"node\">\n",
       "<title>\\(I_F\\)</title>\n",
       "<ellipse fill=\"none\" stroke=\"#000000\" cx=\"584.3247\" cy=\"-150\" rx=\"29.4667\" ry=\"29.4667\"/>\n",
       "<ellipse fill=\"none\" stroke=\"#000000\" cx=\"584.3247\" cy=\"-150\" rx=\"33.4967\" ry=\"33.4967\"/>\n",
       "<text text-anchor=\"middle\" x=\"584.3247\" y=\"-146.3\" font-family=\"Times,serif\" font-size=\"14.00\" fill=\"#000000\">(I_F)</text>\n",
       "</g>\n",
       "<!-- \\(I_F\\)&#45;&gt;\\(I_S0\\) -->\n",
       "<g id=\"edge8\" class=\"edge\">\n",
       "<title>\\(I_F\\)&#45;&gt;\\(I_S0\\)</title>\n",
       "<path fill=\"none\" stroke=\"#000000\" d=\"M555.7247,-167.3438C540.8852,-175.3397 522.1248,-183.9429 504.0773,-188 421.4364,-206.5779 322.719,-182.7536 268.0475,-165.6224\"/>\n",
       "<polygon fill=\"#000000\" stroke=\"#000000\" points=\"268.9568,-162.2384 258.3656,-162.5132 266.8165,-168.9032 268.9568,-162.2384\"/>\n",
       "<text text-anchor=\"middle\" x=\"401.0836\" y=\"-196.8\" font-family=\"Times,serif\" font-size=\"14.00\" fill=\"#000000\">0 </text>\n",
       "</g>\n",
       "<!-- \\(I_F\\)&#45;&gt;\\(F_I\\) -->\n",
       "<g id=\"edge3\" class=\"edge\">\n",
       "<title>\\(I_F\\)&#45;&gt;\\(F_I\\)</title>\n",
       "<path fill=\"none\" stroke=\"#000000\" d=\"M610.6479,-129.3579C626.4049,-117.0017 646.605,-101.1612 663.5917,-87.8406\"/>\n",
       "<polygon fill=\"#000000\" stroke=\"#000000\" points=\"665.9297,-90.4551 671.639,-81.5301 661.6101,-84.9467 665.9297,-90.4551\"/>\n",
       "<text text-anchor=\"middle\" x=\"641.0721\" y=\"-111.8\" font-family=\"Times,serif\" font-size=\"14.00\" fill=\"#000000\">1 </text>\n",
       "</g>\n",
       "<!-- \\(F_I\\)&#45;&gt;\\(I_I\\) -->\n",
       "<g id=\"edge4\" class=\"edge\">\n",
       "<title>\\(F_I\\)&#45;&gt;\\(I_I\\)</title>\n",
       "<path fill=\"none\" stroke=\"#000000\" d=\"M672.8167,-38.2859C651.0773,-20.9427 617.8791,0 584.3247,0 226.3922,0 226.3922,0 226.3922,0 195.9551,0 166.1978,-18.5706 145.6364,-35.2189\"/>\n",
       "<polygon fill=\"#000000\" stroke=\"#000000\" points=\"143.3412,-32.5761 137.9542,-41.6992 147.8547,-37.9267 143.3412,-32.5761\"/>\n",
       "<text text-anchor=\"middle\" x=\"401.0836\" y=\"-3.8\" font-family=\"Times,serif\" font-size=\"14.00\" fill=\"#000000\">1 </text>\n",
       "</g>\n",
       "<!-- \\(F_S0\\) -->\n",
       "<g id=\"node6\" class=\"node\">\n",
       "<title>\\(F_S0\\)</title>\n",
       "<ellipse fill=\"none\" stroke=\"#000000\" cx=\"464.3304\" cy=\"-106\" rx=\"35.9702\" ry=\"35.9702\"/>\n",
       "<ellipse fill=\"none\" stroke=\"#000000\" cx=\"464.3304\" cy=\"-106\" rx=\"39.9952\" ry=\"39.9952\"/>\n",
       "<text text-anchor=\"middle\" x=\"464.3304\" y=\"-102.3\" font-family=\"Times,serif\" font-size=\"14.00\" fill=\"#000000\">(F_S0)</text>\n",
       "</g>\n",
       "<!-- \\(F_I\\)&#45;&gt;\\(F_S0\\) -->\n",
       "<g id=\"edge10\" class=\"edge\">\n",
       "<title>\\(F_I\\)&#45;&gt;\\(F_S0\\)</title>\n",
       "<path fill=\"none\" stroke=\"#000000\" d=\"M665.0301,-67.3195C625.5724,-74.9241 558.9515,-87.7638 513.3711,-96.5485\"/>\n",
       "<polygon fill=\"#000000\" stroke=\"#000000\" points=\"512.5682,-93.1387 503.4113,-98.468 513.893,-100.0122 512.5682,-93.1387\"/>\n",
       "<text text-anchor=\"middle\" x=\"584.3247\" y=\"-91.8\" font-family=\"Times,serif\" font-size=\"14.00\" fill=\"#000000\">0 </text>\n",
       "</g>\n",
       "<!-- \\(F_S0\\)&#45;&gt;\\(I_F\\) -->\n",
       "<g id=\"edge7\" class=\"edge\">\n",
       "<title>\\(F_S0\\)&#45;&gt;\\(I_F\\)</title>\n",
       "<path fill=\"none\" stroke=\"#000000\" d=\"M501.9681,-119.8012C515.1312,-124.6279 529.97,-130.069 543.389,-134.9895\"/>\n",
       "<polygon fill=\"#000000\" stroke=\"#000000\" points=\"542.2713,-138.3075 552.865,-138.4642 544.6812,-131.7354 542.2713,-138.3075\"/>\n",
       "<text text-anchor=\"middle\" x=\"527.5773\" y=\"-133.8\" font-family=\"Times,serif\" font-size=\"14.00\" fill=\"#000000\">1 </text>\n",
       "</g>\n",
       "<!-- \\(F_S0\\)&#45;&gt;\\(F_S0\\) -->\n",
       "<g id=\"edge13\" class=\"edge\">\n",
       "<title>\\(F_S0\\)&#45;&gt;\\(F_S0\\)</title>\n",
       "<path fill=\"none\" stroke=\"#000000\" d=\"M452.7402,-144.0428C453.1409,-155.1462 457.0043,-163.7468 464.3304,-163.7468 469.2527,-163.7468 472.6118,-159.8644 474.4078,-153.9489\"/>\n",
       "<polygon fill=\"#000000\" stroke=\"#000000\" points=\"477.8708,-154.4566 475.9207,-144.0428 470.951,-153.3997 477.8708,-154.4566\"/>\n",
       "<text text-anchor=\"middle\" x=\"464.3304\" y=\"-167.5468\" font-family=\"Times,serif\" font-size=\"14.00\" fill=\"#000000\">0 </text>\n",
       "</g>\n",
       "<!-- \\(F_F\\)&#45;&gt;\\(I_I\\) -->\n",
       "<g id=\"edge5\" class=\"edge\">\n",
       "<title>\\(F_F\\)&#45;&gt;\\(I_I\\)</title>\n",
       "<path fill=\"none\" stroke=\"#000000\" d=\"M307.5387,-99.0021C266.1667,-90.6941 197.4687,-76.8986 155.2112,-68.4127\"/>\n",
       "<polygon fill=\"#000000\" stroke=\"#000000\" points=\"155.8213,-64.9655 145.3279,-66.4281 154.4431,-71.8285 155.8213,-64.9655\"/>\n",
       "<text text-anchor=\"middle\" x=\"226.3922\" y=\"-92.8\" font-family=\"Times,serif\" font-size=\"14.00\" fill=\"#000000\">1 </text>\n",
       "</g>\n",
       "<!-- \\(F_F\\)&#45;&gt;\\(F_S0\\) -->\n",
       "<g id=\"edge11\" class=\"edge\">\n",
       "<title>\\(F_F\\)&#45;&gt;\\(F_S0\\)</title>\n",
       "<path fill=\"none\" stroke=\"#000000\" d=\"M377.6577,-106C389.0881,-106 401.9936,-106 414.2865,-106\"/>\n",
       "<polygon fill=\"#000000\" stroke=\"#000000\" points=\"414.4225,-109.5001 424.4225,-106 414.4225,-102.5001 414.4225,-109.5001\"/>\n",
       "<text text-anchor=\"middle\" x=\"401.0836\" y=\"-109.8\" font-family=\"Times,serif\" font-size=\"14.00\" fill=\"#000000\">0 </text>\n",
       "</g>\n",
       "</g>\n",
       "</svg>\n"
      ],
      "text/plain": [
       "<graphviz.dot.Digraph at 0x1124e7a20>"
      ]
     },
     "execution_count": 56,
     "metadata": {},
     "output_type": "execute_result"
    }
   ],
   "source": [
    "dotObj_dfa(odd1sORends01)"
   ]
  },
  {
   "cell_type": "markdown",
   "metadata": {
    "run_control": {
     "frozen": false,
     "read_only": false
    }
   },
   "source": [
    "## Apply DFA minimization"
   ]
  },
  {
   "cell_type": "code",
   "execution_count": 57,
   "metadata": {
    "run_control": {
     "frozen": false,
     "read_only": false
    }
   },
   "outputs": [],
   "source": [
    "Minodd1sORends01 = min_dfa(odd1sORends01)"
   ]
  },
  {
   "cell_type": "code",
   "execution_count": 58,
   "metadata": {
    "run_control": {
     "frozen": false,
     "read_only": false
    }
   },
   "outputs": [
    {
     "data": {
      "image/svg+xml": [
       "<?xml version=\"1.0\" encoding=\"UTF-8\" standalone=\"no\"?>\n",
       "<!DOCTYPE svg PUBLIC \"-//W3C//DTD SVG 1.1//EN\"\n",
       " \"http://www.w3.org/Graphics/SVG/1.1/DTD/svg11.dtd\">\n",
       "<!-- Generated by graphviz version 2.40.1 (20161225.0304)\n",
       " -->\n",
       "<!-- Title: %3 Pages: 1 -->\n",
       "<svg width=\"520pt\" height=\"184pt\"\n",
       " viewBox=\"0.00 0.00 520.08 183.80\" xmlns=\"http://www.w3.org/2000/svg\" xmlns:xlink=\"http://www.w3.org/1999/xlink\">\n",
       "<g id=\"graph0\" class=\"graph\" transform=\"scale(1 1) rotate(0) translate(4 179.797)\">\n",
       "<title>%3</title>\n",
       "<polygon fill=\"#ffffff\" stroke=\"transparent\" points=\"-4,4 -4,-179.797 516.0773,-179.797 516.0773,4 -4,4\"/>\n",
       "<!-- EMPTY -->\n",
       "<g id=\"node1\" class=\"node\">\n",
       "<title>EMPTY</title>\n",
       "</g>\n",
       "<!-- \\(I_S0\\) -->\n",
       "<g id=\"node2\" class=\"node\">\n",
       "<title>\\(I_S0\\)</title>\n",
       "<ellipse fill=\"none\" stroke=\"#000000\" cx=\"124.797\" cy=\"-33.797\" rx=\"33.5952\" ry=\"33.5952\"/>\n",
       "<text text-anchor=\"middle\" x=\"124.797\" y=\"-30.097\" font-family=\"Times,serif\" font-size=\"14.00\" fill=\"#000000\">(I_S0)</text>\n",
       "</g>\n",
       "<!-- EMPTY&#45;&gt;\\(I_S0\\) -->\n",
       "<g id=\"edge1\" class=\"edge\">\n",
       "<title>EMPTY&#45;&gt;\\(I_S0\\)</title>\n",
       "<path fill=\"none\" stroke=\"#000000\" d=\"M54.2419,-33.797C62.4547,-33.797 71.6889,-33.797 80.7032,-33.797\"/>\n",
       "<polygon fill=\"#000000\" stroke=\"#000000\" points=\"80.7211,-37.2971 90.7211,-33.797 80.721,-30.2971 80.7211,-37.2971\"/>\n",
       "</g>\n",
       "<!-- \\(I_S0\\)&#45;&gt;\\(I_S0\\) -->\n",
       "<g id=\"edge7\" class=\"edge\">\n",
       "<title>\\(I_S0\\)&#45;&gt;\\(I_S0\\)</title>\n",
       "<path fill=\"none\" stroke=\"#000000\" d=\"M115.047,-66.1701C115.047,-76.9612 118.297,-85.594 124.797,-85.594 129.0626,-85.594 131.9286,-81.8762 133.3949,-76.2703\"/>\n",
       "<polygon fill=\"#000000\" stroke=\"#000000\" points=\"136.891,-76.5024 134.547,-66.1701 129.9361,-75.709 136.891,-76.5024\"/>\n",
       "<text text-anchor=\"middle\" x=\"124.797\" y=\"-89.394\" font-family=\"Times,serif\" font-size=\"14.00\" fill=\"#000000\">0 </text>\n",
       "</g>\n",
       "<!-- \\(F_I\\) -->\n",
       "<g id=\"node5\" class=\"node\">\n",
       "<title>\\(F_I\\)</title>\n",
       "<ellipse fill=\"none\" stroke=\"#000000\" cx=\"238.8414\" cy=\"-70.797\" rx=\"29.4667\" ry=\"29.4667\"/>\n",
       "<ellipse fill=\"none\" stroke=\"#000000\" cx=\"238.8414\" cy=\"-70.797\" rx=\"33.4967\" ry=\"33.4967\"/>\n",
       "<text text-anchor=\"middle\" x=\"238.8414\" y=\"-67.097\" font-family=\"Times,serif\" font-size=\"14.00\" fill=\"#000000\">(F_I)</text>\n",
       "</g>\n",
       "<!-- \\(I_S0\\)&#45;&gt;\\(F_I\\) -->\n",
       "<g id=\"edge2\" class=\"edge\">\n",
       "<title>\\(I_S0\\)&#45;&gt;\\(F_I\\)</title>\n",
       "<path fill=\"none\" stroke=\"#000000\" d=\"M157.1725,-44.3007C169.6619,-48.3527 184.1045,-53.0384 197.3398,-57.3324\"/>\n",
       "<polygon fill=\"#000000\" stroke=\"#000000\" points=\"196.581,-60.7658 207.1731,-60.5227 198.7413,-54.1075 196.581,-60.7658\"/>\n",
       "<text text-anchor=\"middle\" x=\"182.094\" y=\"-56.597\" font-family=\"Times,serif\" font-size=\"14.00\" fill=\"#000000\">1 </text>\n",
       "</g>\n",
       "<!-- \\(I_F\\) -->\n",
       "<g id=\"node3\" class=\"node\">\n",
       "<title>\\(I_F\\)</title>\n",
       "<ellipse fill=\"none\" stroke=\"#000000\" cx=\"478.8299\" cy=\"-68.797\" rx=\"29.4667\" ry=\"29.4667\"/>\n",
       "<ellipse fill=\"none\" stroke=\"#000000\" cx=\"478.8299\" cy=\"-68.797\" rx=\"33.4967\" ry=\"33.4967\"/>\n",
       "<text text-anchor=\"middle\" x=\"478.8299\" y=\"-65.097\" font-family=\"Times,serif\" font-size=\"14.00\" fill=\"#000000\">(I_F)</text>\n",
       "</g>\n",
       "<!-- \\(I_F\\)&#45;&gt;\\(I_S0\\) -->\n",
       "<g id=\"edge6\" class=\"edge\">\n",
       "<title>\\(I_F\\)&#45;&gt;\\(I_S0\\)</title>\n",
       "<path fill=\"none\" stroke=\"#000000\" d=\"M452.7267,-47.7745C437.8183,-37.132 418.2255,-25.32 398.5825,-19.797 319.3823,2.4717 222.3099,-11.7158 167.6114,-23.2799\"/>\n",
       "<polygon fill=\"#000000\" stroke=\"#000000\" points=\"166.6017,-19.9179 157.5797,-25.4726 168.0965,-26.7564 166.6017,-19.9179\"/>\n",
       "<text text-anchor=\"middle\" x=\"295.5888\" y=\"-12.597\" font-family=\"Times,serif\" font-size=\"14.00\" fill=\"#000000\">0 </text>\n",
       "</g>\n",
       "<!-- \\(I_F\\)&#45;&gt;\\(F_I\\) -->\n",
       "<g id=\"edge3\" class=\"edge\">\n",
       "<title>\\(I_F\\)&#45;&gt;\\(F_I\\)</title>\n",
       "<path fill=\"none\" stroke=\"#000000\" d=\"M460.471,-96.9809C446.1863,-116.1394 424.4718,-139.9091 398.5825,-150.797 366.0148,-164.4935 351.7404,-164.2922 319.0888,-150.797 297.2153,-141.7565 278.1771,-123.5437 264.1406,-106.7769\"/>\n",
       "<polygon fill=\"#000000\" stroke=\"#000000\" points=\"266.6517,-104.314 257.6611,-98.7086 261.1938,-108.6971 266.6517,-104.314\"/>\n",
       "<text text-anchor=\"middle\" x=\"358.8356\" y=\"-164.597\" font-family=\"Times,serif\" font-size=\"14.00\" fill=\"#000000\">1 </text>\n",
       "</g>\n",
       "<!-- \\(F_S0\\) -->\n",
       "<g id=\"node4\" class=\"node\">\n",
       "<title>\\(F_S0\\)</title>\n",
       "<ellipse fill=\"none\" stroke=\"#000000\" cx=\"358.8356\" cy=\"-68.797\" rx=\"35.9702\" ry=\"35.9702\"/>\n",
       "<ellipse fill=\"none\" stroke=\"#000000\" cx=\"358.8356\" cy=\"-68.797\" rx=\"39.9952\" ry=\"39.9952\"/>\n",
       "<text text-anchor=\"middle\" x=\"358.8356\" y=\"-65.097\" font-family=\"Times,serif\" font-size=\"14.00\" fill=\"#000000\">(F_S0)</text>\n",
       "</g>\n",
       "<!-- \\(F_S0\\)&#45;&gt;\\(I_F\\) -->\n",
       "<g id=\"edge5\" class=\"edge\">\n",
       "<title>\\(F_S0\\)&#45;&gt;\\(I_F\\)</title>\n",
       "<path fill=\"none\" stroke=\"#000000\" d=\"M398.792,-68.797C410.4981,-68.797 423.3542,-68.797 435.2724,-68.797\"/>\n",
       "<polygon fill=\"#000000\" stroke=\"#000000\" points=\"435.4522,-72.2971 445.4521,-68.797 435.4521,-65.2971 435.4522,-72.2971\"/>\n",
       "<text text-anchor=\"middle\" x=\"422.0825\" y=\"-72.597\" font-family=\"Times,serif\" font-size=\"14.00\" fill=\"#000000\">1 </text>\n",
       "</g>\n",
       "<!-- \\(F_S0\\)&#45;&gt;\\(F_S0\\) -->\n",
       "<g id=\"edge9\" class=\"edge\">\n",
       "<title>\\(F_S0\\)&#45;&gt;\\(F_S0\\)</title>\n",
       "<path fill=\"none\" stroke=\"#000000\" d=\"M347.2454,-106.8398C347.6461,-117.9433 351.5095,-126.5438 358.8356,-126.5438 363.7579,-126.5438 367.117,-122.6614 368.913,-116.7459\"/>\n",
       "<polygon fill=\"#000000\" stroke=\"#000000\" points=\"372.376,-117.2536 370.4259,-106.8398 365.4562,-116.1967 372.376,-117.2536\"/>\n",
       "<text text-anchor=\"middle\" x=\"358.8356\" y=\"-130.3438\" font-family=\"Times,serif\" font-size=\"14.00\" fill=\"#000000\">0 </text>\n",
       "</g>\n",
       "<!-- \\(F_I\\)&#45;&gt;\\(I_S0\\) -->\n",
       "<g id=\"edge4\" class=\"edge\">\n",
       "<title>\\(F_I\\)&#45;&gt;\\(I_S0\\)</title>\n",
       "<path fill=\"none\" stroke=\"#000000\" d=\"M214.953,-47.5394C206.904,-41.1751 197.4467,-35.1196 187.594,-31.797 181.5572,-29.7612 175.0063,-28.7584 168.49,-28.4233\"/>\n",
       "<polygon fill=\"#000000\" stroke=\"#000000\" points=\"168.3679,-24.923 158.3577,-28.3937 168.3474,-31.923 168.3679,-24.923\"/>\n",
       "<text text-anchor=\"middle\" x=\"182.094\" y=\"-35.597\" font-family=\"Times,serif\" font-size=\"14.00\" fill=\"#000000\">1 </text>\n",
       "</g>\n",
       "<!-- \\(F_I\\)&#45;&gt;\\(F_S0\\) -->\n",
       "<g id=\"edge8\" class=\"edge\">\n",
       "<title>\\(F_I\\)&#45;&gt;\\(F_S0\\)</title>\n",
       "<path fill=\"none\" stroke=\"#000000\" d=\"M272.2665,-70.2399C283.5353,-70.0521 296.3713,-69.8381 308.6446,-69.6336\"/>\n",
       "<polygon fill=\"#000000\" stroke=\"#000000\" points=\"308.8348,-73.131 318.775,-69.4647 308.7181,-66.1319 308.8348,-73.131\"/>\n",
       "<text text-anchor=\"middle\" x=\"295.5888\" y=\"-73.597\" font-family=\"Times,serif\" font-size=\"14.00\" fill=\"#000000\">0 </text>\n",
       "</g>\n",
       "</g>\n",
       "</svg>\n"
      ],
      "text/plain": [
       "<graphviz.dot.Digraph at 0x1124f51d0>"
      ]
     },
     "execution_count": 58,
     "metadata": {},
     "output_type": "execute_result"
    }
   ],
   "source": [
    "dotObj_dfa(Minodd1sORends01)"
   ]
  },
  {
   "cell_type": "markdown",
   "metadata": {
    "run_control": {
     "frozen": false,
     "read_only": false
    }
   },
   "source": [
    "## Minimization vs. Isomorphism vs. Lang. Eql.\n",
    "\n",
    "After minimization, we may not have isomorphic DFA, but we \n",
    "will have language-equivalent DFA"
   ]
  },
  {
   "cell_type": "code",
   "execution_count": 59,
   "metadata": {
    "run_control": {
     "frozen": false,
     "read_only": false
    }
   },
   "outputs": [
    {
     "data": {
      "text/plain": [
       "False"
      ]
     },
     "execution_count": 59,
     "metadata": {},
     "output_type": "execute_result"
    }
   ],
   "source": [
    "iso_dfa(odd1sORends01, Minodd1sORends01)"
   ]
  },
  {
   "cell_type": "code",
   "execution_count": 60,
   "metadata": {
    "run_control": {
     "frozen": false,
     "read_only": false
    }
   },
   "outputs": [
    {
     "data": {
      "text/plain": [
       "True"
      ]
     },
     "execution_count": 60,
     "metadata": {},
     "output_type": "execute_result"
    }
   ],
   "source": [
    "langeq_dfa(odd1sORends01, Minodd1sORends01)"
   ]
  },
  {
   "cell_type": "markdown",
   "metadata": {},
   "source": [
    "# We can now find out which states were eliminated upon minimization"
   ]
  },
  {
   "cell_type": "code",
   "execution_count": 61,
   "metadata": {},
   "outputs": [
    {
     "data": {
      "text/plain": [
       "{('F', 'F'), ('I', 'I')}"
      ]
     },
     "execution_count": 61,
     "metadata": {},
     "output_type": "execute_result"
    }
   ],
   "source": [
    "odd1sORends01[\"Q\"] - Minodd1sORends01[\"Q\"]"
   ]
  },
  {
   "cell_type": "markdown",
   "metadata": {},
   "source": [
    "## The reason why these states got eliminated is as follows (taking F_F as an example)\n",
    "\n",
    "* F_F and F_I are indistinguishable by any string! We can study any string from these states and we see that their end states are the same\n",
    "\n",
    "* Now study the minimization algorithm from the book and know how to write solutions to assignments based on that understanding"
   ]
  },
  {
   "cell_type": "markdown",
   "metadata": {
    "run_control": {
     "frozen": false,
     "read_only": false
    }
   },
   "source": [
    "## Now define \"odd 1s\" AND \"ends in 0101\"\n",
    "\n",
    "Define the and of these machines and minimize it"
   ]
  },
  {
   "cell_type": "code",
   "execution_count": 62,
   "metadata": {
    "run_control": {
     "frozen": false,
     "read_only": false
    }
   },
   "outputs": [],
   "source": [
    "odd1sANDends01 = intersect_dfa(dfaOdd1s,ends01)"
   ]
  },
  {
   "cell_type": "code",
   "execution_count": 63,
   "metadata": {
    "run_control": {
     "frozen": false,
     "read_only": false
    }
   },
   "outputs": [
    {
     "data": {
      "image/svg+xml": [
       "<?xml version=\"1.0\" encoding=\"UTF-8\" standalone=\"no\"?>\n",
       "<!DOCTYPE svg PUBLIC \"-//W3C//DTD SVG 1.1//EN\"\n",
       " \"http://www.w3.org/Graphics/SVG/1.1/DTD/svg11.dtd\">\n",
       "<!-- Generated by graphviz version 2.40.1 (20161225.0304)\n",
       " -->\n",
       "<!-- Title: %3 Pages: 1 -->\n",
       "<svg width=\"715pt\" height=\"226pt\"\n",
       " viewBox=\"0.00 0.00 715.07 225.80\" xmlns=\"http://www.w3.org/2000/svg\" xmlns:xlink=\"http://www.w3.org/1999/xlink\">\n",
       "<g id=\"graph0\" class=\"graph\" transform=\"scale(1 1) rotate(0) translate(4 221.797)\">\n",
       "<title>%3</title>\n",
       "<polygon fill=\"#ffffff\" stroke=\"transparent\" points=\"-4,4 -4,-221.797 711.0669,-221.797 711.0669,4 -4,4\"/>\n",
       "<!-- EMPTY -->\n",
       "<g id=\"node1\" class=\"node\">\n",
       "<title>EMPTY</title>\n",
       "</g>\n",
       "<!-- \\(I_I\\) -->\n",
       "<g id=\"node6\" class=\"node\">\n",
       "<title>\\(I_I\\)</title>\n",
       "<ellipse fill=\"none\" stroke=\"#000000\" cx=\"118.2976\" cy=\"-61\" rx=\"27.0966\" ry=\"27.0966\"/>\n",
       "<text text-anchor=\"middle\" x=\"118.2976\" y=\"-57.3\" font-family=\"Times,serif\" font-size=\"14.00\" fill=\"#000000\">(I_I)</text>\n",
       "</g>\n",
       "<!-- EMPTY&#45;&gt;\\(I_I\\) -->\n",
       "<g id=\"edge1\" class=\"edge\">\n",
       "<title>EMPTY&#45;&gt;\\(I_I\\)</title>\n",
       "<path fill=\"none\" stroke=\"#000000\" d=\"M54.3923,-61C62.6976,-61 71.9683,-61 80.8159,-61\"/>\n",
       "<polygon fill=\"#000000\" stroke=\"#000000\" points=\"80.9247,-64.5001 90.9246,-61 80.9246,-57.5001 80.9247,-64.5001\"/>\n",
       "</g>\n",
       "<!-- \\(I_S0\\) -->\n",
       "<g id=\"node2\" class=\"node\">\n",
       "<title>\\(I_S0\\)</title>\n",
       "<ellipse fill=\"none\" stroke=\"#000000\" cx=\"226.3922\" cy=\"-151\" rx=\"33.5952\" ry=\"33.5952\"/>\n",
       "<text text-anchor=\"middle\" x=\"226.3922\" y=\"-147.3\" font-family=\"Times,serif\" font-size=\"14.00\" fill=\"#000000\">(I_S0)</text>\n",
       "</g>\n",
       "<!-- \\(I_S0\\)&#45;&gt;\\(I_S0\\) -->\n",
       "<g id=\"edge12\" class=\"edge\">\n",
       "<title>\\(I_S0\\)&#45;&gt;\\(I_S0\\)</title>\n",
       "<path fill=\"none\" stroke=\"#000000\" d=\"M215.8922,-183.3731C215.8922,-194.1642 219.3922,-202.797 226.3922,-202.797 230.9859,-202.797 234.0723,-199.0792 235.6514,-193.4733\"/>\n",
       "<polygon fill=\"#000000\" stroke=\"#000000\" points=\"239.1467,-193.7253 236.8922,-183.3731 232.1989,-192.8718 239.1467,-193.7253\"/>\n",
       "<text text-anchor=\"middle\" x=\"226.3922\" y=\"-206.597\" font-family=\"Times,serif\" font-size=\"14.00\" fill=\"#000000\">0 </text>\n",
       "</g>\n",
       "<!-- \\(F_F\\) -->\n",
       "<g id=\"node7\" class=\"node\">\n",
       "<title>\\(F_F\\)</title>\n",
       "<ellipse fill=\"none\" stroke=\"#000000\" cx=\"342.3864\" cy=\"-102\" rx=\"31.373\" ry=\"31.373\"/>\n",
       "<ellipse fill=\"none\" stroke=\"#000000\" cx=\"342.3864\" cy=\"-102\" rx=\"35.3956\" ry=\"35.3956\"/>\n",
       "<text text-anchor=\"middle\" x=\"342.3864\" y=\"-98.3\" font-family=\"Times,serif\" font-size=\"14.00\" fill=\"#000000\">(F_F)</text>\n",
       "</g>\n",
       "<!-- \\(I_S0\\)&#45;&gt;\\(F_F\\) -->\n",
       "<g id=\"edge6\" class=\"edge\">\n",
       "<title>\\(I_S0\\)&#45;&gt;\\(F_F\\)</title>\n",
       "<path fill=\"none\" stroke=\"#000000\" d=\"M257.7819,-137.7399C270.8652,-132.213 286.2549,-125.7119 300.2965,-119.7803\"/>\n",
       "<polygon fill=\"#000000\" stroke=\"#000000\" points=\"301.9074,-122.8993 309.7572,-115.7837 299.1834,-116.451 301.9074,-122.8993\"/>\n",
       "<text text-anchor=\"middle\" x=\"283.6892\" y=\"-130.8\" font-family=\"Times,serif\" font-size=\"14.00\" fill=\"#000000\">1 </text>\n",
       "</g>\n",
       "<!-- \\(I_F\\) -->\n",
       "<g id=\"node3\" class=\"node\">\n",
       "<title>\\(I_F\\)</title>\n",
       "<ellipse fill=\"none\" stroke=\"#000000\" cx=\"572.3247\" cy=\"-146\" rx=\"29.4969\" ry=\"29.4969\"/>\n",
       "<text text-anchor=\"middle\" x=\"572.3247\" y=\"-142.3\" font-family=\"Times,serif\" font-size=\"14.00\" fill=\"#000000\">(I_F)</text>\n",
       "</g>\n",
       "<!-- \\(I_F\\)&#45;&gt;\\(I_S0\\) -->\n",
       "<g id=\"edge8\" class=\"edge\">\n",
       "<title>\\(I_F\\)&#45;&gt;\\(I_S0\\)</title>\n",
       "<path fill=\"none\" stroke=\"#000000\" d=\"M546.7815,-160.6345C532.3917,-168.0335 513.7976,-176.2281 496.0773,-180 416.6774,-196.9008 321.9204,-177.8893 268.4941,-163.668\"/>\n",
       "<polygon fill=\"#000000\" stroke=\"#000000\" points=\"269.2636,-160.25 258.6945,-160.989 267.4176,-167.0022 269.2636,-160.25\"/>\n",
       "<text text-anchor=\"middle\" x=\"401.0836\" y=\"-189.8\" font-family=\"Times,serif\" font-size=\"14.00\" fill=\"#000000\">0 </text>\n",
       "</g>\n",
       "<!-- \\(F_I\\) -->\n",
       "<g id=\"node4\" class=\"node\">\n",
       "<title>\\(F_I\\)</title>\n",
       "<ellipse fill=\"none\" stroke=\"#000000\" cx=\"677.8195\" cy=\"-61\" rx=\"29.4969\" ry=\"29.4969\"/>\n",
       "<text text-anchor=\"middle\" x=\"677.8195\" y=\"-57.3\" font-family=\"Times,serif\" font-size=\"14.00\" fill=\"#000000\">(F_I)</text>\n",
       "</g>\n",
       "<!-- \\(I_F\\)&#45;&gt;\\(F_I\\) -->\n",
       "<g id=\"edge3\" class=\"edge\">\n",
       "<title>\\(I_F\\)&#45;&gt;\\(F_I\\)</title>\n",
       "<path fill=\"none\" stroke=\"#000000\" d=\"M595.2155,-127.5563C610.4221,-115.3039 630.5652,-99.0741 647.153,-85.7088\"/>\n",
       "<polygon fill=\"#000000\" stroke=\"#000000\" points=\"649.3824,-88.4073 654.9734,-79.4077 644.9905,-82.9565 649.3824,-88.4073\"/>\n",
       "<text text-anchor=\"middle\" x=\"625.0721\" y=\"-109.8\" font-family=\"Times,serif\" font-size=\"14.00\" fill=\"#000000\">1 </text>\n",
       "</g>\n",
       "<!-- \\(F_S0\\) -->\n",
       "<g id=\"node5\" class=\"node\">\n",
       "<title>\\(F_S0\\)</title>\n",
       "<ellipse fill=\"none\" stroke=\"#000000\" cx=\"460.3304\" cy=\"-102\" rx=\"35.9954\" ry=\"35.9954\"/>\n",
       "<text text-anchor=\"middle\" x=\"460.3304\" y=\"-98.3\" font-family=\"Times,serif\" font-size=\"14.00\" fill=\"#000000\">(F_S0)</text>\n",
       "</g>\n",
       "<!-- \\(F_I\\)&#45;&gt;\\(F_S0\\) -->\n",
       "<g id=\"edge10\" class=\"edge\">\n",
       "<title>\\(F_I\\)&#45;&gt;\\(F_S0\\)</title>\n",
       "<path fill=\"none\" stroke=\"#000000\" d=\"M649.0149,-66.4301C612.4228,-73.3283 548.8541,-85.3119 505.7148,-93.4444\"/>\n",
       "<polygon fill=\"#000000\" stroke=\"#000000\" points=\"504.9364,-90.0294 495.7579,-95.3214 506.2332,-96.9082 504.9364,-90.0294\"/>\n",
       "<text text-anchor=\"middle\" x=\"572.3247\" y=\"-89.8\" font-family=\"Times,serif\" font-size=\"14.00\" fill=\"#000000\">0 </text>\n",
       "</g>\n",
       "<!-- \\(F_I\\)&#45;&gt;\\(I_I\\) -->\n",
       "<g id=\"edge4\" class=\"edge\">\n",
       "<title>\\(F_I\\)&#45;&gt;\\(I_I\\)</title>\n",
       "<path fill=\"none\" stroke=\"#000000\" d=\"M656.8271,-40.0073C636.8736,-22.3621 605.1172,0 572.3247,0 226.3922,0 226.3922,0 226.3922,0 195.9551,0 166.1978,-18.5706 145.6364,-35.2189\"/>\n",
       "<polygon fill=\"#000000\" stroke=\"#000000\" points=\"143.3412,-32.5761 137.9542,-41.6992 147.8547,-37.9267 143.3412,-32.5761\"/>\n",
       "<text text-anchor=\"middle\" x=\"401.0836\" y=\"-3.8\" font-family=\"Times,serif\" font-size=\"14.00\" fill=\"#000000\">1 </text>\n",
       "</g>\n",
       "<!-- \\(F_S0\\)&#45;&gt;\\(I_F\\) -->\n",
       "<g id=\"edge7\" class=\"edge\">\n",
       "<title>\\(F_S0\\)&#45;&gt;\\(I_F\\)</title>\n",
       "<path fill=\"none\" stroke=\"#000000\" d=\"M493.6292,-115.0823C506.8079,-120.26 522.0057,-126.2308 535.5104,-131.5365\"/>\n",
       "<polygon fill=\"#000000\" stroke=\"#000000\" points=\"534.4043,-134.8623 544.9916,-135.2615 536.964,-128.3471 534.4043,-134.8623\"/>\n",
       "<text text-anchor=\"middle\" x=\"519.5773\" y=\"-129.8\" font-family=\"Times,serif\" font-size=\"14.00\" fill=\"#000000\">1 </text>\n",
       "</g>\n",
       "<!-- \\(F_S0\\)&#45;&gt;\\(F_S0\\) -->\n",
       "<g id=\"edge13\" class=\"edge\">\n",
       "<title>\\(F_S0\\)&#45;&gt;\\(F_S0\\)</title>\n",
       "<path fill=\"none\" stroke=\"#000000\" d=\"M449.4581,-136.115C449.5696,-147.0668 453.1937,-155.7468 460.3304,-155.7468 465.0139,-155.7468 468.1846,-152.0086 469.8426,-146.3434\"/>\n",
       "<polygon fill=\"#000000\" stroke=\"#000000\" points=\"473.354,-146.4891 471.2028,-136.115 466.415,-145.5663 473.354,-146.4891\"/>\n",
       "<text text-anchor=\"middle\" x=\"460.3304\" y=\"-159.5468\" font-family=\"Times,serif\" font-size=\"14.00\" fill=\"#000000\">0 </text>\n",
       "</g>\n",
       "<!-- \\(I_I\\)&#45;&gt;\\(I_S0\\) -->\n",
       "<g id=\"edge9\" class=\"edge\">\n",
       "<title>\\(I_I\\)&#45;&gt;\\(I_S0\\)</title>\n",
       "<path fill=\"none\" stroke=\"#000000\" d=\"M139.3959,-78.5666C154.5275,-91.1652 175.231,-108.403 192.6449,-122.9019\"/>\n",
       "<polygon fill=\"#000000\" stroke=\"#000000\" points=\"190.4581,-125.6355 200.3826,-129.3443 194.9371,-120.256 190.4581,-125.6355\"/>\n",
       "<text text-anchor=\"middle\" x=\"169.0952\" y=\"-109.8\" font-family=\"Times,serif\" font-size=\"14.00\" fill=\"#000000\">0 </text>\n",
       "</g>\n",
       "<!-- \\(I_I\\)&#45;&gt;\\(F_I\\) -->\n",
       "<g id=\"edge2\" class=\"edge\">\n",
       "<title>\\(I_I\\)&#45;&gt;\\(F_I\\)</title>\n",
       "<path fill=\"none\" stroke=\"#000000\" d=\"M144.1807,-52.3047C165.8763,-45.7915 197.8042,-38 226.3922,-38 226.3922,-38 226.3922,-38 572.3247,-38 595.2562,-38 620.3613,-43.252 640.3263,-48.7367\"/>\n",
       "<polygon fill=\"#000000\" stroke=\"#000000\" points=\"639.3922,-52.1098 649.9701,-51.5122 641.3283,-45.3829 639.3922,-52.1098\"/>\n",
       "<text text-anchor=\"middle\" x=\"401.0836\" y=\"-41.8\" font-family=\"Times,serif\" font-size=\"14.00\" fill=\"#000000\">1 </text>\n",
       "</g>\n",
       "<!-- \\(F_F\\)&#45;&gt;\\(F_S0\\) -->\n",
       "<g id=\"edge11\" class=\"edge\">\n",
       "<title>\\(F_F\\)&#45;&gt;\\(F_S0\\)</title>\n",
       "<path fill=\"none\" stroke=\"#000000\" d=\"M377.7735,-102C389.3299,-102 402.3329,-102 414.5415,-102\"/>\n",
       "<polygon fill=\"#000000\" stroke=\"#000000\" points=\"414.5607,-105.5001 424.5607,-102 414.5606,-98.5001 414.5607,-105.5001\"/>\n",
       "<text text-anchor=\"middle\" x=\"401.0836\" y=\"-105.8\" font-family=\"Times,serif\" font-size=\"14.00\" fill=\"#000000\">0 </text>\n",
       "</g>\n",
       "<!-- \\(F_F\\)&#45;&gt;\\(I_I\\) -->\n",
       "<g id=\"edge5\" class=\"edge\">\n",
       "<title>\\(F_F\\)&#45;&gt;\\(I_I\\)</title>\n",
       "<path fill=\"none\" stroke=\"#000000\" d=\"M307.5387,-95.6242C266.1667,-88.0546 197.4687,-75.4854 155.2112,-67.7538\"/>\n",
       "<polygon fill=\"#000000\" stroke=\"#000000\" points=\"155.7946,-64.3025 145.3279,-65.9456 154.5347,-71.1882 155.7946,-64.3025\"/>\n",
       "<text text-anchor=\"middle\" x=\"226.3922\" y=\"-89.8\" font-family=\"Times,serif\" font-size=\"14.00\" fill=\"#000000\">1 </text>\n",
       "</g>\n",
       "</g>\n",
       "</svg>\n"
      ],
      "text/plain": [
       "<graphviz.dot.Digraph at 0x1124fdd68>"
      ]
     },
     "execution_count": 63,
     "metadata": {},
     "output_type": "execute_result"
    }
   ],
   "source": [
    "dotObj_dfa(odd1sANDends01)"
   ]
  },
  {
   "cell_type": "code",
   "execution_count": 64,
   "metadata": {
    "run_control": {
     "frozen": false,
     "read_only": false
    }
   },
   "outputs": [],
   "source": [
    "Minodd1sANDends01 = min_dfa(odd1sANDends01)"
   ]
  },
  {
   "cell_type": "code",
   "execution_count": 65,
   "metadata": {
    "run_control": {
     "frozen": false,
     "read_only": false
    }
   },
   "outputs": [
    {
     "data": {
      "image/svg+xml": [
       "<?xml version=\"1.0\" encoding=\"UTF-8\" standalone=\"no\"?>\n",
       "<!DOCTYPE svg PUBLIC \"-//W3C//DTD SVG 1.1//EN\"\n",
       " \"http://www.w3.org/Graphics/SVG/1.1/DTD/svg11.dtd\">\n",
       "<!-- Generated by graphviz version 2.40.1 (20161225.0304)\n",
       " -->\n",
       "<!-- Title: %3 Pages: 1 -->\n",
       "<svg width=\"508pt\" height=\"238pt\"\n",
       " viewBox=\"0.00 0.00 507.98 237.82\" xmlns=\"http://www.w3.org/2000/svg\" xmlns:xlink=\"http://www.w3.org/1999/xlink\">\n",
       "<g id=\"graph0\" class=\"graph\" transform=\"scale(1 1) rotate(0) translate(4 233.8229)\">\n",
       "<title>%3</title>\n",
       "<polygon fill=\"#ffffff\" stroke=\"transparent\" points=\"-4,4 -4,-233.8229 503.9769,-233.8229 503.9769,4 -4,4\"/>\n",
       "<!-- EMPTY -->\n",
       "<g id=\"node1\" class=\"node\">\n",
       "<title>EMPTY</title>\n",
       "</g>\n",
       "<!-- \\(I_F\\) -->\n",
       "<g id=\"node4\" class=\"node\">\n",
       "<title>\\(I_F\\)</title>\n",
       "<ellipse fill=\"none\" stroke=\"#000000\" cx=\"120.2474\" cy=\"-137.0761\" rx=\"29.4969\" ry=\"29.4969\"/>\n",
       "<text text-anchor=\"middle\" x=\"120.2474\" y=\"-133.3761\" font-family=\"Times,serif\" font-size=\"14.00\" fill=\"#000000\">(I_F)</text>\n",
       "</g>\n",
       "<!-- EMPTY&#45;&gt;\\(I_F\\) -->\n",
       "<g id=\"edge1\" class=\"edge\">\n",
       "<title>EMPTY&#45;&gt;\\(I_F\\)</title>\n",
       "<path fill=\"none\" stroke=\"#000000\" d=\"M54.473,-137.0761C62.6588,-137.0761 71.798,-137.0761 80.5981,-137.0761\"/>\n",
       "<polygon fill=\"#000000\" stroke=\"#000000\" points=\"80.6953,-140.5762 90.6953,-137.0761 80.6953,-133.5762 80.6953,-140.5762\"/>\n",
       "</g>\n",
       "<!-- \\(F_S0\\) -->\n",
       "<g id=\"node2\" class=\"node\">\n",
       "<title>\\(F_S0\\)</title>\n",
       "<ellipse fill=\"none\" stroke=\"#000000\" cx=\"464.2301\" cy=\"-161.0761\" rx=\"35.9954\" ry=\"35.9954\"/>\n",
       "<text text-anchor=\"middle\" x=\"464.2301\" y=\"-157.3761\" font-family=\"Times,serif\" font-size=\"14.00\" fill=\"#000000\">(F_S0)</text>\n",
       "</g>\n",
       "<!-- \\(F_S0\\)&#45;&gt;\\(F_S0\\) -->\n",
       "<g id=\"edge7\" class=\"edge\">\n",
       "<title>\\(F_S0\\)&#45;&gt;\\(F_S0\\)</title>\n",
       "<path fill=\"none\" stroke=\"#000000\" d=\"M453.3578,-195.1911C453.4693,-206.1429 457.0934,-214.8229 464.2301,-214.8229 468.9136,-214.8229 472.0843,-211.0847 473.7423,-205.4195\"/>\n",
       "<polygon fill=\"#000000\" stroke=\"#000000\" points=\"477.2536,-205.5652 475.1024,-195.1911 470.3147,-204.6424 477.2536,-205.5652\"/>\n",
       "<text text-anchor=\"middle\" x=\"464.2301\" y=\"-218.6229\" font-family=\"Times,serif\" font-size=\"14.00\" fill=\"#000000\">0 </text>\n",
       "</g>\n",
       "<!-- \\(F_S0\\)&#45;&gt;\\(I_F\\) -->\n",
       "<g id=\"edge3\" class=\"edge\">\n",
       "<title>\\(F_S0\\)&#45;&gt;\\(I_F\\)</title>\n",
       "<path fill=\"none\" stroke=\"#000000\" d=\"M428.3662,-158.5738C363.5154,-154.0491 227.2367,-144.5408 159.7879,-139.8349\"/>\n",
       "<polygon fill=\"#000000\" stroke=\"#000000\" points=\"159.7946,-136.3269 149.5752,-139.1223 159.3073,-143.3099 159.7946,-136.3269\"/>\n",
       "<text text-anchor=\"middle\" x=\"287.5888\" y=\"-152.8761\" font-family=\"Times,serif\" font-size=\"14.00\" fill=\"#000000\">1 </text>\n",
       "</g>\n",
       "<!-- \\(I_S0\\) -->\n",
       "<g id=\"node3\" class=\"node\">\n",
       "<title>\\(I_S0\\)</title>\n",
       "<ellipse fill=\"none\" stroke=\"#000000\" cx=\"230.2918\" cy=\"-66.0761\" rx=\"33.5952\" ry=\"33.5952\"/>\n",
       "<text text-anchor=\"middle\" x=\"230.2918\" y=\"-62.3761\" font-family=\"Times,serif\" font-size=\"14.00\" fill=\"#000000\">(I_S0)</text>\n",
       "</g>\n",
       "<!-- \\(I_S0\\)&#45;&gt;\\(I_S0\\) -->\n",
       "<g id=\"edge9\" class=\"edge\">\n",
       "<title>\\(I_S0\\)&#45;&gt;\\(I_S0\\)</title>\n",
       "<path fill=\"none\" stroke=\"#000000\" d=\"M219.7918,-98.4492C219.7918,-109.2403 223.2918,-117.8731 230.2918,-117.8731 234.8856,-117.8731 237.972,-114.1553 239.5511,-108.5494\"/>\n",
       "<polygon fill=\"#000000\" stroke=\"#000000\" points=\"243.0464,-108.8014 240.7918,-98.4492 236.0986,-107.9479 243.0464,-108.8014\"/>\n",
       "<text text-anchor=\"middle\" x=\"230.2918\" y=\"-121.6731\" font-family=\"Times,serif\" font-size=\"14.00\" fill=\"#000000\">0 </text>\n",
       "</g>\n",
       "<!-- \\(F_F\\) -->\n",
       "<g id=\"node5\" class=\"node\">\n",
       "<title>\\(F_F\\)</title>\n",
       "<ellipse fill=\"none\" stroke=\"#000000\" cx=\"346.286\" cy=\"-66.0761\" rx=\"31.373\" ry=\"31.373\"/>\n",
       "<ellipse fill=\"none\" stroke=\"#000000\" cx=\"346.286\" cy=\"-66.0761\" rx=\"35.3956\" ry=\"35.3956\"/>\n",
       "<text text-anchor=\"middle\" x=\"346.286\" y=\"-62.3761\" font-family=\"Times,serif\" font-size=\"14.00\" fill=\"#000000\">(F_F)</text>\n",
       "</g>\n",
       "<!-- \\(I_S0\\)&#45;&gt;\\(F_F\\) -->\n",
       "<g id=\"edge5\" class=\"edge\">\n",
       "<title>\\(I_S0\\)&#45;&gt;\\(F_F\\)</title>\n",
       "<path fill=\"none\" stroke=\"#000000\" d=\"M264.154,-66.0761C275.6472,-66.0761 288.6795,-66.0761 300.9224,-66.0761\"/>\n",
       "<polygon fill=\"#000000\" stroke=\"#000000\" points=\"300.9696,-69.5762 310.9696,-66.0761 300.9696,-62.5762 300.9696,-69.5762\"/>\n",
       "<text text-anchor=\"middle\" x=\"287.5888\" y=\"-69.8761\" font-family=\"Times,serif\" font-size=\"14.00\" fill=\"#000000\">1 </text>\n",
       "</g>\n",
       "<!-- \\(I_F\\)&#45;&gt;\\(F_S0\\) -->\n",
       "<g id=\"edge2\" class=\"edge\">\n",
       "<title>\\(I_F\\)&#45;&gt;\\(F_S0\\)</title>\n",
       "<path fill=\"none\" stroke=\"#000000\" d=\"M140.4729,-158.2187C148.2226,-164.91 157.5971,-171.4923 167.4948,-175.0761 252.5298,-205.8657 360.2983,-187.9058 419.7577,-173.535\"/>\n",
       "<polygon fill=\"#000000\" stroke=\"#000000\" points=\"420.7218,-176.9019 429.5783,-171.0871 419.0287,-170.1097 420.7218,-176.9019\"/>\n",
       "<text text-anchor=\"middle\" x=\"287.5888\" y=\"-194.8761\" font-family=\"Times,serif\" font-size=\"14.00\" fill=\"#000000\">1 </text>\n",
       "</g>\n",
       "<!-- \\(I_F\\)&#45;&gt;\\(I_S0\\) -->\n",
       "<g id=\"edge6\" class=\"edge\">\n",
       "<title>\\(I_F\\)&#45;&gt;\\(I_S0\\)</title>\n",
       "<path fill=\"none\" stroke=\"#000000\" d=\"M144.9435,-121.1423C159.1658,-111.9662 177.3194,-100.2536 193.2247,-89.9916\"/>\n",
       "<polygon fill=\"#000000\" stroke=\"#000000\" points=\"195.2852,-92.8275 201.7905,-84.465 191.4901,-86.9455 195.2852,-92.8275\"/>\n",
       "<text text-anchor=\"middle\" x=\"172.9948\" y=\"-108.8761\" font-family=\"Times,serif\" font-size=\"14.00\" fill=\"#000000\">0 </text>\n",
       "</g>\n",
       "<!-- \\(F_F\\)&#45;&gt;\\(F_S0\\) -->\n",
       "<g id=\"edge8\" class=\"edge\">\n",
       "<title>\\(F_F\\)&#45;&gt;\\(F_S0\\)</title>\n",
       "<path fill=\"none\" stroke=\"#000000\" d=\"M373.9387,-88.3494C390.235,-101.4755 411.0263,-118.2222 428.549,-132.3362\"/>\n",
       "<polygon fill=\"#000000\" stroke=\"#000000\" points=\"426.3586,-135.0661 436.342,-138.6132 430.7497,-129.6145 426.3586,-135.0661\"/>\n",
       "<text text-anchor=\"middle\" x=\"404.9833\" y=\"-119.8761\" font-family=\"Times,serif\" font-size=\"14.00\" fill=\"#000000\">0 </text>\n",
       "</g>\n",
       "<!-- \\(F_F\\)&#45;&gt;\\(I_F\\) -->\n",
       "<g id=\"edge4\" class=\"edge\">\n",
       "<title>\\(F_F\\)&#45;&gt;\\(I_F\\)</title>\n",
       "<path fill=\"none\" stroke=\"#000000\" d=\"M320.0545,-42.2192C289.2889,-17.2851 237.3083,15.2102 196.4948,-8.0761 162.5462,-27.4456 142.1834,-68.5107 131.1528,-99.1349\"/>\n",
       "<polygon fill=\"#000000\" stroke=\"#000000\" points=\"127.8161,-98.0756 127.894,-108.6702 134.44,-100.3395 127.8161,-98.0756\"/>\n",
       "<text text-anchor=\"middle\" x=\"230.2918\" y=\"-11.8761\" font-family=\"Times,serif\" font-size=\"14.00\" fill=\"#000000\">1 </text>\n",
       "</g>\n",
       "</g>\n",
       "</svg>\n"
      ],
      "text/plain": [
       "<graphviz.dot.Digraph at 0x1125047b8>"
      ]
     },
     "execution_count": 65,
     "metadata": {},
     "output_type": "execute_result"
    }
   ],
   "source": [
    "dotObj_dfa(Minodd1sANDends01)"
   ]
  },
  {
   "cell_type": "markdown",
   "metadata": {
    "run_control": {
     "frozen": false,
     "read_only": false
    }
   },
   "source": [
    "## Now, complement the individual machines"
   ]
  },
  {
   "cell_type": "code",
   "execution_count": 66,
   "metadata": {
    "run_control": {
     "frozen": false,
     "read_only": false
    }
   },
   "outputs": [],
   "source": [
    "CdfaOdd1s = comp_dfa(dfaOdd1s)"
   ]
  },
  {
   "cell_type": "code",
   "execution_count": 67,
   "metadata": {
    "run_control": {
     "frozen": false,
     "read_only": false
    }
   },
   "outputs": [],
   "source": [
    "Cends01 = comp_dfa(ends01)"
   ]
  },
  {
   "cell_type": "markdown",
   "metadata": {
    "run_control": {
     "frozen": false,
     "read_only": false
    }
   },
   "source": [
    "## Complement of the union of the complements\n",
    "\n",
    "The complement of the union of the complements of M1 and M2 is of course the intersection of M1 and M2! Let us check that!\n"
   ]
  },
  {
   "cell_type": "code",
   "execution_count": 68,
   "metadata": {
    "run_control": {
     "frozen": false,
     "read_only": false
    }
   },
   "outputs": [],
   "source": [
    "C_CdfaOdd1sORCends01 = comp_dfa(union_dfa(CdfaOdd1s, Cends01))"
   ]
  },
  {
   "cell_type": "code",
   "execution_count": 69,
   "metadata": {
    "run_control": {
     "frozen": false,
     "read_only": false
    }
   },
   "outputs": [
    {
     "data": {
      "image/svg+xml": [
       "<?xml version=\"1.0\" encoding=\"UTF-8\" standalone=\"no\"?>\n",
       "<!DOCTYPE svg PUBLIC \"-//W3C//DTD SVG 1.1//EN\"\n",
       " \"http://www.w3.org/Graphics/SVG/1.1/DTD/svg11.dtd\">\n",
       "<!-- Generated by graphviz version 2.40.1 (20161225.0304)\n",
       " -->\n",
       "<!-- Title: %3 Pages: 1 -->\n",
       "<svg width=\"715pt\" height=\"226pt\"\n",
       " viewBox=\"0.00 0.00 715.07 225.80\" xmlns=\"http://www.w3.org/2000/svg\" xmlns:xlink=\"http://www.w3.org/1999/xlink\">\n",
       "<g id=\"graph0\" class=\"graph\" transform=\"scale(1 1) rotate(0) translate(4 221.797)\">\n",
       "<title>%3</title>\n",
       "<polygon fill=\"#ffffff\" stroke=\"transparent\" points=\"-4,4 -4,-221.797 711.0669,-221.797 711.0669,4 -4,4\"/>\n",
       "<!-- EMPTY -->\n",
       "<g id=\"node1\" class=\"node\">\n",
       "<title>EMPTY</title>\n",
       "</g>\n",
       "<!-- \\(I_I\\) -->\n",
       "<g id=\"node6\" class=\"node\">\n",
       "<title>\\(I_I\\)</title>\n",
       "<ellipse fill=\"none\" stroke=\"#000000\" cx=\"118.2976\" cy=\"-61\" rx=\"27.0966\" ry=\"27.0966\"/>\n",
       "<text text-anchor=\"middle\" x=\"118.2976\" y=\"-57.3\" font-family=\"Times,serif\" font-size=\"14.00\" fill=\"#000000\">(I_I)</text>\n",
       "</g>\n",
       "<!-- EMPTY&#45;&gt;\\(I_I\\) -->\n",
       "<g id=\"edge1\" class=\"edge\">\n",
       "<title>EMPTY&#45;&gt;\\(I_I\\)</title>\n",
       "<path fill=\"none\" stroke=\"#000000\" d=\"M54.3923,-61C62.6976,-61 71.9683,-61 80.8159,-61\"/>\n",
       "<polygon fill=\"#000000\" stroke=\"#000000\" points=\"80.9247,-64.5001 90.9246,-61 80.9246,-57.5001 80.9247,-64.5001\"/>\n",
       "</g>\n",
       "<!-- \\(I_S0\\) -->\n",
       "<g id=\"node2\" class=\"node\">\n",
       "<title>\\(I_S0\\)</title>\n",
       "<ellipse fill=\"none\" stroke=\"#000000\" cx=\"226.3922\" cy=\"-151\" rx=\"33.5952\" ry=\"33.5952\"/>\n",
       "<text text-anchor=\"middle\" x=\"226.3922\" y=\"-147.3\" font-family=\"Times,serif\" font-size=\"14.00\" fill=\"#000000\">(I_S0)</text>\n",
       "</g>\n",
       "<!-- \\(I_S0\\)&#45;&gt;\\(I_S0\\) -->\n",
       "<g id=\"edge12\" class=\"edge\">\n",
       "<title>\\(I_S0\\)&#45;&gt;\\(I_S0\\)</title>\n",
       "<path fill=\"none\" stroke=\"#000000\" d=\"M215.8922,-183.3731C215.8922,-194.1642 219.3922,-202.797 226.3922,-202.797 230.9859,-202.797 234.0723,-199.0792 235.6514,-193.4733\"/>\n",
       "<polygon fill=\"#000000\" stroke=\"#000000\" points=\"239.1467,-193.7253 236.8922,-183.3731 232.1989,-192.8718 239.1467,-193.7253\"/>\n",
       "<text text-anchor=\"middle\" x=\"226.3922\" y=\"-206.597\" font-family=\"Times,serif\" font-size=\"14.00\" fill=\"#000000\">0 </text>\n",
       "</g>\n",
       "<!-- \\(F_F\\) -->\n",
       "<g id=\"node7\" class=\"node\">\n",
       "<title>\\(F_F\\)</title>\n",
       "<ellipse fill=\"none\" stroke=\"#000000\" cx=\"342.3864\" cy=\"-102\" rx=\"31.373\" ry=\"31.373\"/>\n",
       "<ellipse fill=\"none\" stroke=\"#000000\" cx=\"342.3864\" cy=\"-102\" rx=\"35.3956\" ry=\"35.3956\"/>\n",
       "<text text-anchor=\"middle\" x=\"342.3864\" y=\"-98.3\" font-family=\"Times,serif\" font-size=\"14.00\" fill=\"#000000\">(F_F)</text>\n",
       "</g>\n",
       "<!-- \\(I_S0\\)&#45;&gt;\\(F_F\\) -->\n",
       "<g id=\"edge6\" class=\"edge\">\n",
       "<title>\\(I_S0\\)&#45;&gt;\\(F_F\\)</title>\n",
       "<path fill=\"none\" stroke=\"#000000\" d=\"M257.7819,-137.7399C270.8652,-132.213 286.2549,-125.7119 300.2965,-119.7803\"/>\n",
       "<polygon fill=\"#000000\" stroke=\"#000000\" points=\"301.9074,-122.8993 309.7572,-115.7837 299.1834,-116.451 301.9074,-122.8993\"/>\n",
       "<text text-anchor=\"middle\" x=\"283.6892\" y=\"-130.8\" font-family=\"Times,serif\" font-size=\"14.00\" fill=\"#000000\">1 </text>\n",
       "</g>\n",
       "<!-- \\(I_F\\) -->\n",
       "<g id=\"node3\" class=\"node\">\n",
       "<title>\\(I_F\\)</title>\n",
       "<ellipse fill=\"none\" stroke=\"#000000\" cx=\"572.3247\" cy=\"-146\" rx=\"29.4969\" ry=\"29.4969\"/>\n",
       "<text text-anchor=\"middle\" x=\"572.3247\" y=\"-142.3\" font-family=\"Times,serif\" font-size=\"14.00\" fill=\"#000000\">(I_F)</text>\n",
       "</g>\n",
       "<!-- \\(I_F\\)&#45;&gt;\\(I_S0\\) -->\n",
       "<g id=\"edge8\" class=\"edge\">\n",
       "<title>\\(I_F\\)&#45;&gt;\\(I_S0\\)</title>\n",
       "<path fill=\"none\" stroke=\"#000000\" d=\"M546.7815,-160.6345C532.3917,-168.0335 513.7976,-176.2281 496.0773,-180 416.6774,-196.9008 321.9204,-177.8893 268.4941,-163.668\"/>\n",
       "<polygon fill=\"#000000\" stroke=\"#000000\" points=\"269.2636,-160.25 258.6945,-160.989 267.4176,-167.0022 269.2636,-160.25\"/>\n",
       "<text text-anchor=\"middle\" x=\"401.0836\" y=\"-189.8\" font-family=\"Times,serif\" font-size=\"14.00\" fill=\"#000000\">0 </text>\n",
       "</g>\n",
       "<!-- \\(F_I\\) -->\n",
       "<g id=\"node4\" class=\"node\">\n",
       "<title>\\(F_I\\)</title>\n",
       "<ellipse fill=\"none\" stroke=\"#000000\" cx=\"677.8195\" cy=\"-61\" rx=\"29.4969\" ry=\"29.4969\"/>\n",
       "<text text-anchor=\"middle\" x=\"677.8195\" y=\"-57.3\" font-family=\"Times,serif\" font-size=\"14.00\" fill=\"#000000\">(F_I)</text>\n",
       "</g>\n",
       "<!-- \\(I_F\\)&#45;&gt;\\(F_I\\) -->\n",
       "<g id=\"edge3\" class=\"edge\">\n",
       "<title>\\(I_F\\)&#45;&gt;\\(F_I\\)</title>\n",
       "<path fill=\"none\" stroke=\"#000000\" d=\"M595.2155,-127.5563C610.4221,-115.3039 630.5652,-99.0741 647.153,-85.7088\"/>\n",
       "<polygon fill=\"#000000\" stroke=\"#000000\" points=\"649.3824,-88.4073 654.9734,-79.4077 644.9905,-82.9565 649.3824,-88.4073\"/>\n",
       "<text text-anchor=\"middle\" x=\"625.0721\" y=\"-109.8\" font-family=\"Times,serif\" font-size=\"14.00\" fill=\"#000000\">1 </text>\n",
       "</g>\n",
       "<!-- \\(F_S0\\) -->\n",
       "<g id=\"node5\" class=\"node\">\n",
       "<title>\\(F_S0\\)</title>\n",
       "<ellipse fill=\"none\" stroke=\"#000000\" cx=\"460.3304\" cy=\"-102\" rx=\"35.9954\" ry=\"35.9954\"/>\n",
       "<text text-anchor=\"middle\" x=\"460.3304\" y=\"-98.3\" font-family=\"Times,serif\" font-size=\"14.00\" fill=\"#000000\">(F_S0)</text>\n",
       "</g>\n",
       "<!-- \\(F_I\\)&#45;&gt;\\(F_S0\\) -->\n",
       "<g id=\"edge10\" class=\"edge\">\n",
       "<title>\\(F_I\\)&#45;&gt;\\(F_S0\\)</title>\n",
       "<path fill=\"none\" stroke=\"#000000\" d=\"M649.0149,-66.4301C612.4228,-73.3283 548.8541,-85.3119 505.7148,-93.4444\"/>\n",
       "<polygon fill=\"#000000\" stroke=\"#000000\" points=\"504.9364,-90.0294 495.7579,-95.3214 506.2332,-96.9082 504.9364,-90.0294\"/>\n",
       "<text text-anchor=\"middle\" x=\"572.3247\" y=\"-89.8\" font-family=\"Times,serif\" font-size=\"14.00\" fill=\"#000000\">0 </text>\n",
       "</g>\n",
       "<!-- \\(F_I\\)&#45;&gt;\\(I_I\\) -->\n",
       "<g id=\"edge4\" class=\"edge\">\n",
       "<title>\\(F_I\\)&#45;&gt;\\(I_I\\)</title>\n",
       "<path fill=\"none\" stroke=\"#000000\" d=\"M656.8271,-40.0073C636.8736,-22.3621 605.1172,0 572.3247,0 226.3922,0 226.3922,0 226.3922,0 195.9551,0 166.1978,-18.5706 145.6364,-35.2189\"/>\n",
       "<polygon fill=\"#000000\" stroke=\"#000000\" points=\"143.3412,-32.5761 137.9542,-41.6992 147.8547,-37.9267 143.3412,-32.5761\"/>\n",
       "<text text-anchor=\"middle\" x=\"401.0836\" y=\"-3.8\" font-family=\"Times,serif\" font-size=\"14.00\" fill=\"#000000\">1 </text>\n",
       "</g>\n",
       "<!-- \\(F_S0\\)&#45;&gt;\\(I_F\\) -->\n",
       "<g id=\"edge7\" class=\"edge\">\n",
       "<title>\\(F_S0\\)&#45;&gt;\\(I_F\\)</title>\n",
       "<path fill=\"none\" stroke=\"#000000\" d=\"M493.6292,-115.0823C506.8079,-120.26 522.0057,-126.2308 535.5104,-131.5365\"/>\n",
       "<polygon fill=\"#000000\" stroke=\"#000000\" points=\"534.4043,-134.8623 544.9916,-135.2615 536.964,-128.3471 534.4043,-134.8623\"/>\n",
       "<text text-anchor=\"middle\" x=\"519.5773\" y=\"-129.8\" font-family=\"Times,serif\" font-size=\"14.00\" fill=\"#000000\">1 </text>\n",
       "</g>\n",
       "<!-- \\(F_S0\\)&#45;&gt;\\(F_S0\\) -->\n",
       "<g id=\"edge13\" class=\"edge\">\n",
       "<title>\\(F_S0\\)&#45;&gt;\\(F_S0\\)</title>\n",
       "<path fill=\"none\" stroke=\"#000000\" d=\"M449.4581,-136.115C449.5696,-147.0668 453.1937,-155.7468 460.3304,-155.7468 465.0139,-155.7468 468.1846,-152.0086 469.8426,-146.3434\"/>\n",
       "<polygon fill=\"#000000\" stroke=\"#000000\" points=\"473.354,-146.4891 471.2028,-136.115 466.415,-145.5663 473.354,-146.4891\"/>\n",
       "<text text-anchor=\"middle\" x=\"460.3304\" y=\"-159.5468\" font-family=\"Times,serif\" font-size=\"14.00\" fill=\"#000000\">0 </text>\n",
       "</g>\n",
       "<!-- \\(I_I\\)&#45;&gt;\\(I_S0\\) -->\n",
       "<g id=\"edge9\" class=\"edge\">\n",
       "<title>\\(I_I\\)&#45;&gt;\\(I_S0\\)</title>\n",
       "<path fill=\"none\" stroke=\"#000000\" d=\"M139.3959,-78.5666C154.5275,-91.1652 175.231,-108.403 192.6449,-122.9019\"/>\n",
       "<polygon fill=\"#000000\" stroke=\"#000000\" points=\"190.4581,-125.6355 200.3826,-129.3443 194.9371,-120.256 190.4581,-125.6355\"/>\n",
       "<text text-anchor=\"middle\" x=\"169.0952\" y=\"-109.8\" font-family=\"Times,serif\" font-size=\"14.00\" fill=\"#000000\">0 </text>\n",
       "</g>\n",
       "<!-- \\(I_I\\)&#45;&gt;\\(F_I\\) -->\n",
       "<g id=\"edge2\" class=\"edge\">\n",
       "<title>\\(I_I\\)&#45;&gt;\\(F_I\\)</title>\n",
       "<path fill=\"none\" stroke=\"#000000\" d=\"M144.1807,-52.3047C165.8763,-45.7915 197.8042,-38 226.3922,-38 226.3922,-38 226.3922,-38 572.3247,-38 595.2562,-38 620.3613,-43.252 640.3263,-48.7367\"/>\n",
       "<polygon fill=\"#000000\" stroke=\"#000000\" points=\"639.3922,-52.1098 649.9701,-51.5122 641.3283,-45.3829 639.3922,-52.1098\"/>\n",
       "<text text-anchor=\"middle\" x=\"401.0836\" y=\"-41.8\" font-family=\"Times,serif\" font-size=\"14.00\" fill=\"#000000\">1 </text>\n",
       "</g>\n",
       "<!-- \\(F_F\\)&#45;&gt;\\(F_S0\\) -->\n",
       "<g id=\"edge11\" class=\"edge\">\n",
       "<title>\\(F_F\\)&#45;&gt;\\(F_S0\\)</title>\n",
       "<path fill=\"none\" stroke=\"#000000\" d=\"M377.7735,-102C389.3299,-102 402.3329,-102 414.5415,-102\"/>\n",
       "<polygon fill=\"#000000\" stroke=\"#000000\" points=\"414.5607,-105.5001 424.5607,-102 414.5606,-98.5001 414.5607,-105.5001\"/>\n",
       "<text text-anchor=\"middle\" x=\"401.0836\" y=\"-105.8\" font-family=\"Times,serif\" font-size=\"14.00\" fill=\"#000000\">0 </text>\n",
       "</g>\n",
       "<!-- \\(F_F\\)&#45;&gt;\\(I_I\\) -->\n",
       "<g id=\"edge5\" class=\"edge\">\n",
       "<title>\\(F_F\\)&#45;&gt;\\(I_I\\)</title>\n",
       "<path fill=\"none\" stroke=\"#000000\" d=\"M307.5387,-95.6242C266.1667,-88.0546 197.4687,-75.4854 155.2112,-67.7538\"/>\n",
       "<polygon fill=\"#000000\" stroke=\"#000000\" points=\"155.7946,-64.3025 145.3279,-65.9456 154.5347,-71.1882 155.7946,-64.3025\"/>\n",
       "<text text-anchor=\"middle\" x=\"226.3922\" y=\"-89.8\" font-family=\"Times,serif\" font-size=\"14.00\" fill=\"#000000\">1 </text>\n",
       "</g>\n",
       "</g>\n",
       "</svg>\n"
      ],
      "text/plain": [
       "<graphviz.dot.Digraph at 0x1124b3a90>"
      ]
     },
     "execution_count": 69,
     "metadata": {},
     "output_type": "execute_result"
    }
   ],
   "source": [
    "dotObj_dfa(C_CdfaOdd1sORCends01)"
   ]
  },
  {
   "cell_type": "code",
   "execution_count": 70,
   "metadata": {
    "run_control": {
     "frozen": false,
     "read_only": false
    }
   },
   "outputs": [],
   "source": [
    "MinC_CdfaOdd1sORCends01 = min_dfa(C_CdfaOdd1sORCends01)"
   ]
  },
  {
   "cell_type": "markdown",
   "metadata": {
    "run_control": {
     "frozen": false,
     "read_only": false
    }
   },
   "source": [
    "## Minimized Comp(CdfaOdd1s OR Cends01)\n",
    "\n",
    "This will now pass the isomorphism check, below\n"
   ]
  },
  {
   "cell_type": "code",
   "execution_count": 71,
   "metadata": {
    "run_control": {
     "frozen": false,
     "read_only": false
    }
   },
   "outputs": [
    {
     "data": {
      "image/svg+xml": [
       "<?xml version=\"1.0\" encoding=\"UTF-8\" standalone=\"no\"?>\n",
       "<!DOCTYPE svg PUBLIC \"-//W3C//DTD SVG 1.1//EN\"\n",
       " \"http://www.w3.org/Graphics/SVG/1.1/DTD/svg11.dtd\">\n",
       "<!-- Generated by graphviz version 2.40.1 (20161225.0304)\n",
       " -->\n",
       "<!-- Title: %3 Pages: 1 -->\n",
       "<svg width=\"508pt\" height=\"238pt\"\n",
       " viewBox=\"0.00 0.00 507.98 237.82\" xmlns=\"http://www.w3.org/2000/svg\" xmlns:xlink=\"http://www.w3.org/1999/xlink\">\n",
       "<g id=\"graph0\" class=\"graph\" transform=\"scale(1 1) rotate(0) translate(4 233.8229)\">\n",
       "<title>%3</title>\n",
       "<polygon fill=\"#ffffff\" stroke=\"transparent\" points=\"-4,4 -4,-233.8229 503.9769,-233.8229 503.9769,4 -4,4\"/>\n",
       "<!-- EMPTY -->\n",
       "<g id=\"node1\" class=\"node\">\n",
       "<title>EMPTY</title>\n",
       "</g>\n",
       "<!-- \\(I_F\\) -->\n",
       "<g id=\"node4\" class=\"node\">\n",
       "<title>\\(I_F\\)</title>\n",
       "<ellipse fill=\"none\" stroke=\"#000000\" cx=\"120.2474\" cy=\"-137.0761\" rx=\"29.4969\" ry=\"29.4969\"/>\n",
       "<text text-anchor=\"middle\" x=\"120.2474\" y=\"-133.3761\" font-family=\"Times,serif\" font-size=\"14.00\" fill=\"#000000\">(I_F)</text>\n",
       "</g>\n",
       "<!-- EMPTY&#45;&gt;\\(I_F\\) -->\n",
       "<g id=\"edge1\" class=\"edge\">\n",
       "<title>EMPTY&#45;&gt;\\(I_F\\)</title>\n",
       "<path fill=\"none\" stroke=\"#000000\" d=\"M54.473,-137.0761C62.6588,-137.0761 71.798,-137.0761 80.5981,-137.0761\"/>\n",
       "<polygon fill=\"#000000\" stroke=\"#000000\" points=\"80.6953,-140.5762 90.6953,-137.0761 80.6953,-133.5762 80.6953,-140.5762\"/>\n",
       "</g>\n",
       "<!-- \\(F_S0\\) -->\n",
       "<g id=\"node2\" class=\"node\">\n",
       "<title>\\(F_S0\\)</title>\n",
       "<ellipse fill=\"none\" stroke=\"#000000\" cx=\"464.2301\" cy=\"-161.0761\" rx=\"35.9954\" ry=\"35.9954\"/>\n",
       "<text text-anchor=\"middle\" x=\"464.2301\" y=\"-157.3761\" font-family=\"Times,serif\" font-size=\"14.00\" fill=\"#000000\">(F_S0)</text>\n",
       "</g>\n",
       "<!-- \\(F_S0\\)&#45;&gt;\\(F_S0\\) -->\n",
       "<g id=\"edge7\" class=\"edge\">\n",
       "<title>\\(F_S0\\)&#45;&gt;\\(F_S0\\)</title>\n",
       "<path fill=\"none\" stroke=\"#000000\" d=\"M453.3578,-195.1911C453.4693,-206.1429 457.0934,-214.8229 464.2301,-214.8229 468.9136,-214.8229 472.0843,-211.0847 473.7423,-205.4195\"/>\n",
       "<polygon fill=\"#000000\" stroke=\"#000000\" points=\"477.2536,-205.5652 475.1024,-195.1911 470.3147,-204.6424 477.2536,-205.5652\"/>\n",
       "<text text-anchor=\"middle\" x=\"464.2301\" y=\"-218.6229\" font-family=\"Times,serif\" font-size=\"14.00\" fill=\"#000000\">0 </text>\n",
       "</g>\n",
       "<!-- \\(F_S0\\)&#45;&gt;\\(I_F\\) -->\n",
       "<g id=\"edge3\" class=\"edge\">\n",
       "<title>\\(F_S0\\)&#45;&gt;\\(I_F\\)</title>\n",
       "<path fill=\"none\" stroke=\"#000000\" d=\"M428.3662,-158.5738C363.5154,-154.0491 227.2367,-144.5408 159.7879,-139.8349\"/>\n",
       "<polygon fill=\"#000000\" stroke=\"#000000\" points=\"159.7946,-136.3269 149.5752,-139.1223 159.3073,-143.3099 159.7946,-136.3269\"/>\n",
       "<text text-anchor=\"middle\" x=\"287.5888\" y=\"-152.8761\" font-family=\"Times,serif\" font-size=\"14.00\" fill=\"#000000\">1 </text>\n",
       "</g>\n",
       "<!-- \\(I_S0\\) -->\n",
       "<g id=\"node3\" class=\"node\">\n",
       "<title>\\(I_S0\\)</title>\n",
       "<ellipse fill=\"none\" stroke=\"#000000\" cx=\"230.2918\" cy=\"-66.0761\" rx=\"33.5952\" ry=\"33.5952\"/>\n",
       "<text text-anchor=\"middle\" x=\"230.2918\" y=\"-62.3761\" font-family=\"Times,serif\" font-size=\"14.00\" fill=\"#000000\">(I_S0)</text>\n",
       "</g>\n",
       "<!-- \\(I_S0\\)&#45;&gt;\\(I_S0\\) -->\n",
       "<g id=\"edge9\" class=\"edge\">\n",
       "<title>\\(I_S0\\)&#45;&gt;\\(I_S0\\)</title>\n",
       "<path fill=\"none\" stroke=\"#000000\" d=\"M219.7918,-98.4492C219.7918,-109.2403 223.2918,-117.8731 230.2918,-117.8731 234.8856,-117.8731 237.972,-114.1553 239.5511,-108.5494\"/>\n",
       "<polygon fill=\"#000000\" stroke=\"#000000\" points=\"243.0464,-108.8014 240.7918,-98.4492 236.0986,-107.9479 243.0464,-108.8014\"/>\n",
       "<text text-anchor=\"middle\" x=\"230.2918\" y=\"-121.6731\" font-family=\"Times,serif\" font-size=\"14.00\" fill=\"#000000\">0 </text>\n",
       "</g>\n",
       "<!-- \\(F_F\\) -->\n",
       "<g id=\"node5\" class=\"node\">\n",
       "<title>\\(F_F\\)</title>\n",
       "<ellipse fill=\"none\" stroke=\"#000000\" cx=\"346.286\" cy=\"-66.0761\" rx=\"31.373\" ry=\"31.373\"/>\n",
       "<ellipse fill=\"none\" stroke=\"#000000\" cx=\"346.286\" cy=\"-66.0761\" rx=\"35.3956\" ry=\"35.3956\"/>\n",
       "<text text-anchor=\"middle\" x=\"346.286\" y=\"-62.3761\" font-family=\"Times,serif\" font-size=\"14.00\" fill=\"#000000\">(F_F)</text>\n",
       "</g>\n",
       "<!-- \\(I_S0\\)&#45;&gt;\\(F_F\\) -->\n",
       "<g id=\"edge5\" class=\"edge\">\n",
       "<title>\\(I_S0\\)&#45;&gt;\\(F_F\\)</title>\n",
       "<path fill=\"none\" stroke=\"#000000\" d=\"M264.154,-66.0761C275.6472,-66.0761 288.6795,-66.0761 300.9224,-66.0761\"/>\n",
       "<polygon fill=\"#000000\" stroke=\"#000000\" points=\"300.9696,-69.5762 310.9696,-66.0761 300.9696,-62.5762 300.9696,-69.5762\"/>\n",
       "<text text-anchor=\"middle\" x=\"287.5888\" y=\"-69.8761\" font-family=\"Times,serif\" font-size=\"14.00\" fill=\"#000000\">1 </text>\n",
       "</g>\n",
       "<!-- \\(I_F\\)&#45;&gt;\\(F_S0\\) -->\n",
       "<g id=\"edge2\" class=\"edge\">\n",
       "<title>\\(I_F\\)&#45;&gt;\\(F_S0\\)</title>\n",
       "<path fill=\"none\" stroke=\"#000000\" d=\"M140.4729,-158.2187C148.2226,-164.91 157.5971,-171.4923 167.4948,-175.0761 252.5298,-205.8657 360.2983,-187.9058 419.7577,-173.535\"/>\n",
       "<polygon fill=\"#000000\" stroke=\"#000000\" points=\"420.7218,-176.9019 429.5783,-171.0871 419.0287,-170.1097 420.7218,-176.9019\"/>\n",
       "<text text-anchor=\"middle\" x=\"287.5888\" y=\"-194.8761\" font-family=\"Times,serif\" font-size=\"14.00\" fill=\"#000000\">1 </text>\n",
       "</g>\n",
       "<!-- \\(I_F\\)&#45;&gt;\\(I_S0\\) -->\n",
       "<g id=\"edge6\" class=\"edge\">\n",
       "<title>\\(I_F\\)&#45;&gt;\\(I_S0\\)</title>\n",
       "<path fill=\"none\" stroke=\"#000000\" d=\"M144.9435,-121.1423C159.1658,-111.9662 177.3194,-100.2536 193.2247,-89.9916\"/>\n",
       "<polygon fill=\"#000000\" stroke=\"#000000\" points=\"195.2852,-92.8275 201.7905,-84.465 191.4901,-86.9455 195.2852,-92.8275\"/>\n",
       "<text text-anchor=\"middle\" x=\"172.9948\" y=\"-108.8761\" font-family=\"Times,serif\" font-size=\"14.00\" fill=\"#000000\">0 </text>\n",
       "</g>\n",
       "<!-- \\(F_F\\)&#45;&gt;\\(F_S0\\) -->\n",
       "<g id=\"edge8\" class=\"edge\">\n",
       "<title>\\(F_F\\)&#45;&gt;\\(F_S0\\)</title>\n",
       "<path fill=\"none\" stroke=\"#000000\" d=\"M373.9387,-88.3494C390.235,-101.4755 411.0263,-118.2222 428.549,-132.3362\"/>\n",
       "<polygon fill=\"#000000\" stroke=\"#000000\" points=\"426.3586,-135.0661 436.342,-138.6132 430.7497,-129.6145 426.3586,-135.0661\"/>\n",
       "<text text-anchor=\"middle\" x=\"404.9833\" y=\"-119.8761\" font-family=\"Times,serif\" font-size=\"14.00\" fill=\"#000000\">0 </text>\n",
       "</g>\n",
       "<!-- \\(F_F\\)&#45;&gt;\\(I_F\\) -->\n",
       "<g id=\"edge4\" class=\"edge\">\n",
       "<title>\\(F_F\\)&#45;&gt;\\(I_F\\)</title>\n",
       "<path fill=\"none\" stroke=\"#000000\" d=\"M320.0545,-42.2192C289.2889,-17.2851 237.3083,15.2102 196.4948,-8.0761 162.5462,-27.4456 142.1834,-68.5107 131.1528,-99.1349\"/>\n",
       "<polygon fill=\"#000000\" stroke=\"#000000\" points=\"127.8161,-98.0756 127.894,-108.6702 134.44,-100.3395 127.8161,-98.0756\"/>\n",
       "<text text-anchor=\"middle\" x=\"230.2918\" y=\"-11.8761\" font-family=\"Times,serif\" font-size=\"14.00\" fill=\"#000000\">1 </text>\n",
       "</g>\n",
       "</g>\n",
       "</svg>\n"
      ],
      "text/plain": [
       "<graphviz.dot.Digraph at 0x1119977f0>"
      ]
     },
     "execution_count": 71,
     "metadata": {},
     "output_type": "execute_result"
    }
   ],
   "source": [
    "dotObj_dfa(MinC_CdfaOdd1sORCends01)"
   ]
  },
  {
   "cell_type": "markdown",
   "metadata": {
    "run_control": {
     "frozen": false,
     "read_only": false
    }
   },
   "source": [
    "## DeMorgan's Law works for DFA !!\n",
    "\n",
    "The same machine, when obtained through two routes, turn out to be isomorphic when minimized\n"
   ]
  },
  {
   "cell_type": "code",
   "execution_count": 72,
   "metadata": {
    "run_control": {
     "frozen": false,
     "read_only": false
    }
   },
   "outputs": [
    {
     "data": {
      "text/plain": [
       "True"
      ]
     },
     "execution_count": 72,
     "metadata": {},
     "output_type": "execute_result"
    }
   ],
   "source": [
    "iso_dfa(MinC_CdfaOdd1sORCends01, Minodd1sANDends01)"
   ]
  },
  {
   "cell_type": "markdown",
   "metadata": {
    "run_control": {
     "frozen": false,
     "read_only": false
    }
   },
   "source": [
    "# These are some examples from the book"
   ]
  },
  {
   "cell_type": "code",
   "execution_count": 73,
   "metadata": {
    "run_control": {
     "frozen": false,
     "read_only": false
    }
   },
   "outputs": [],
   "source": [
    "blimp = md2mc('''\n",
    "DFA \n",
    "I1 : a -> F2\n",
    "I1 : b -> F3\n",
    "F2 : a -> S8\n",
    "F2 : b -> S5\n",
    "F3 : a -> S7\n",
    "F3 : b -> S4\n",
    "S4 : a | b -> F6\n",
    "S5 : a | b -> F6\n",
    "F6 : a | b -> F6\n",
    "S7 : a | b -> F6\n",
    "S8 : a -> F6\n",
    "S8 : b -> F9\n",
    "F9 : a -> F9\n",
    "F9 : b -> F6\n",
    "''')"
   ]
  },
  {
   "cell_type": "code",
   "execution_count": 74,
   "metadata": {
    "run_control": {
     "frozen": false,
     "read_only": false
    }
   },
   "outputs": [],
   "source": [
    "dblimp = dotObj_dfa(blimp)"
   ]
  },
  {
   "cell_type": "code",
   "execution_count": 75,
   "metadata": {
    "run_control": {
     "frozen": false,
     "read_only": false
    }
   },
   "outputs": [
    {
     "data": {
      "image/svg+xml": [
       "<?xml version=\"1.0\" encoding=\"UTF-8\" standalone=\"no\"?>\n",
       "<!DOCTYPE svg PUBLIC \"-//W3C//DTD SVG 1.1//EN\"\n",
       " \"http://www.w3.org/Graphics/SVG/1.1/DTD/svg11.dtd\">\n",
       "<!-- Generated by graphviz version 2.40.1 (20161225.0304)\n",
       " -->\n",
       "<!-- Title: %3 Pages: 1 -->\n",
       "<svg width=\"515pt\" height=\"298pt\"\n",
       " viewBox=\"0.00 0.00 514.58 298.30\" xmlns=\"http://www.w3.org/2000/svg\" xmlns:xlink=\"http://www.w3.org/1999/xlink\">\n",
       "<g id=\"graph0\" class=\"graph\" transform=\"scale(1 1) rotate(0) translate(4 294.3008)\">\n",
       "<title>%3</title>\n",
       "<polygon fill=\"#ffffff\" stroke=\"transparent\" points=\"-4,4 -4,-294.3008 510.5825,-294.3008 510.5825,4 -4,4\"/>\n",
       "<!-- EMPTY -->\n",
       "<g id=\"node1\" class=\"node\">\n",
       "<title>EMPTY</title>\n",
       "</g>\n",
       "<!-- I1 -->\n",
       "<g id=\"node5\" class=\"node\">\n",
       "<title>I1</title>\n",
       "<ellipse fill=\"none\" stroke=\"#000000\" cx=\"109.1984\" cy=\"-179.3008\" rx=\"18.399\" ry=\"18.399\"/>\n",
       "<text text-anchor=\"middle\" x=\"109.1984\" y=\"-175.6008\" font-family=\"Times,serif\" font-size=\"14.00\" fill=\"#000000\">I1</text>\n",
       "</g>\n",
       "<!-- EMPTY&#45;&gt;I1 -->\n",
       "<g id=\"edge1\" class=\"edge\">\n",
       "<title>EMPTY&#45;&gt;I1</title>\n",
       "<path fill=\"none\" stroke=\"#000000\" d=\"M54.3709,-179.3008C62.7773,-179.3008 72.0494,-179.3008 80.5395,-179.3008\"/>\n",
       "<polygon fill=\"#000000\" stroke=\"#000000\" points=\"80.7515,-182.8009 90.7515,-179.3008 80.7514,-175.8009 80.7515,-182.8009\"/>\n",
       "</g>\n",
       "<!-- S5 -->\n",
       "<g id=\"node2\" class=\"node\">\n",
       "<title>S5</title>\n",
       "<ellipse fill=\"none\" stroke=\"#000000\" cx=\"387.1378\" cy=\"-150.3008\" rx=\"20.2975\" ry=\"20.2975\"/>\n",
       "<text text-anchor=\"middle\" x=\"387.1378\" y=\"-146.6008\" font-family=\"Times,serif\" font-size=\"14.00\" fill=\"#000000\">S5</text>\n",
       "</g>\n",
       "<!-- F6 -->\n",
       "<g id=\"node10\" class=\"node\">\n",
       "<title>F6</title>\n",
       "<ellipse fill=\"none\" stroke=\"#000000\" cx=\"482.4343\" cy=\"-160.3008\" rx=\"20.2726\" ry=\"20.2726\"/>\n",
       "<ellipse fill=\"none\" stroke=\"#000000\" cx=\"482.4343\" cy=\"-160.3008\" rx=\"24.2973\" ry=\"24.2973\"/>\n",
       "<text text-anchor=\"middle\" x=\"482.4343\" y=\"-156.6008\" font-family=\"Times,serif\" font-size=\"14.00\" fill=\"#000000\">F6</text>\n",
       "</g>\n",
       "<!-- S5&#45;&gt;F6 -->\n",
       "<g id=\"edge10\" class=\"edge\">\n",
       "<title>S5&#45;&gt;F6</title>\n",
       "<path fill=\"none\" stroke=\"#000000\" d=\"M406.4118,-144.1442C416.5398,-141.7289 429.1332,-140.019 440.286,-142.3008 443.9303,-143.0464 447.6492,-144.1199 451.2939,-145.3768\"/>\n",
       "<polygon fill=\"#000000\" stroke=\"#000000\" points=\"450.0778,-148.6593 460.6661,-149.0326 452.6217,-142.1378 450.0778,-148.6593\"/>\n",
       "<text text-anchor=\"middle\" x=\"434.786\" y=\"-146.1008\" font-family=\"Times,serif\" font-size=\"14.00\" fill=\"#000000\">a </text>\n",
       "</g>\n",
       "<!-- S5&#45;&gt;F6 -->\n",
       "<g id=\"edge11\" class=\"edge\">\n",
       "<title>S5&#45;&gt;F6</title>\n",
       "<path fill=\"none\" stroke=\"#000000\" d=\"M400.6623,-135.3355C411.1375,-125.6463 426.1922,-115.7805 440.286,-121.3008 447.4338,-124.1004 454.0948,-128.7441 459.9153,-133.8694\"/>\n",
       "<polygon fill=\"#000000\" stroke=\"#000000\" points=\"457.6826,-136.5798 467.298,-141.0289 462.5558,-131.5546 457.6826,-136.5798\"/>\n",
       "<text text-anchor=\"middle\" x=\"434.786\" y=\"-125.1008\" font-family=\"Times,serif\" font-size=\"14.00\" fill=\"#000000\">b </text>\n",
       "</g>\n",
       "<!-- S4 -->\n",
       "<g id=\"node3\" class=\"node\">\n",
       "<title>S4</title>\n",
       "<ellipse fill=\"none\" stroke=\"#000000\" cx=\"387.1378\" cy=\"-266.3008\" rx=\"20.2975\" ry=\"20.2975\"/>\n",
       "<text text-anchor=\"middle\" x=\"387.1378\" y=\"-262.6008\" font-family=\"Times,serif\" font-size=\"14.00\" fill=\"#000000\">S4</text>\n",
       "</g>\n",
       "<!-- S4&#45;&gt;F6 -->\n",
       "<g id=\"edge8\" class=\"edge\">\n",
       "<title>S4&#45;&gt;F6</title>\n",
       "<path fill=\"none\" stroke=\"#000000\" d=\"M405.8821,-273.7147C416.8186,-276.7466 430.3692,-278.1429 440.286,-271.3008 453.4903,-262.1905 466.2189,-223.1254 474.1691,-193.8984\"/>\n",
       "<polygon fill=\"#000000\" stroke=\"#000000\" points=\"477.6042,-194.5983 476.7748,-184.036 470.8364,-192.8102 477.6042,-194.5983\"/>\n",
       "<text text-anchor=\"middle\" x=\"434.786\" y=\"-279.1008\" font-family=\"Times,serif\" font-size=\"14.00\" fill=\"#000000\">a </text>\n",
       "</g>\n",
       "<!-- S4&#45;&gt;F6 -->\n",
       "<g id=\"edge9\" class=\"edge\">\n",
       "<title>S4&#45;&gt;F6</title>\n",
       "<path fill=\"none\" stroke=\"#000000\" d=\"M402.8172,-253.6388C413.8439,-244.3865 428.648,-231.2445 440.286,-218.3008 448.3783,-209.3007 456.4038,-198.7701 463.2459,-189.17\"/>\n",
       "<polygon fill=\"#000000\" stroke=\"#000000\" points=\"466.3136,-190.8899 469.1647,-180.6859 460.5725,-186.8848 466.3136,-190.8899\"/>\n",
       "<text text-anchor=\"middle\" x=\"434.786\" y=\"-233.1008\" font-family=\"Times,serif\" font-size=\"14.00\" fill=\"#000000\">b </text>\n",
       "</g>\n",
       "<!-- S7 -->\n",
       "<g id=\"node4\" class=\"node\">\n",
       "<title>S7</title>\n",
       "<ellipse fill=\"none\" stroke=\"#000000\" cx=\"387.1378\" cy=\"-208.3008\" rx=\"20.2975\" ry=\"20.2975\"/>\n",
       "<text text-anchor=\"middle\" x=\"387.1378\" y=\"-204.6008\" font-family=\"Times,serif\" font-size=\"14.00\" fill=\"#000000\">S7</text>\n",
       "</g>\n",
       "<!-- S7&#45;&gt;F6 -->\n",
       "<g id=\"edge14\" class=\"edge\">\n",
       "<title>S7&#45;&gt;F6</title>\n",
       "<path fill=\"none\" stroke=\"#000000\" d=\"M407.325,-205.5805C417.585,-203.6567 430.02,-200.4698 440.286,-195.3008 446.1956,-192.3253 452.0056,-188.3826 457.3339,-184.218\"/>\n",
       "<polygon fill=\"#000000\" stroke=\"#000000\" points=\"459.8264,-186.6963 465.2554,-177.5981 455.3376,-181.3249 459.8264,-186.6963\"/>\n",
       "<text text-anchor=\"middle\" x=\"434.786\" y=\"-203.1008\" font-family=\"Times,serif\" font-size=\"14.00\" fill=\"#000000\">a </text>\n",
       "</g>\n",
       "<!-- S7&#45;&gt;F6 -->\n",
       "<g id=\"edge15\" class=\"edge\">\n",
       "<title>S7&#45;&gt;F6</title>\n",
       "<path fill=\"none\" stroke=\"#000000\" d=\"M402.2542,-194.7173C409.9151,-188.4023 419.6248,-181.2192 429.286,-176.3008 435.4596,-173.1578 442.3571,-170.5184 449.0852,-168.3474\"/>\n",
       "<polygon fill=\"#000000\" stroke=\"#000000\" points=\"450.1209,-171.691 458.7172,-165.4979 448.1351,-164.9786 450.1209,-171.691\"/>\n",
       "<text text-anchor=\"middle\" x=\"434.786\" y=\"-180.1008\" font-family=\"Times,serif\" font-size=\"14.00\" fill=\"#000000\">b </text>\n",
       "</g>\n",
       "<!-- F3 -->\n",
       "<g id=\"node8\" class=\"node\">\n",
       "<title>F3</title>\n",
       "<ellipse fill=\"none\" stroke=\"#000000\" cx=\"291.8414\" cy=\"-209.3008\" rx=\"20.2726\" ry=\"20.2726\"/>\n",
       "<ellipse fill=\"none\" stroke=\"#000000\" cx=\"291.8414\" cy=\"-209.3008\" rx=\"24.2973\" ry=\"24.2973\"/>\n",
       "<text text-anchor=\"middle\" x=\"291.8414\" y=\"-205.6008\" font-family=\"Times,serif\" font-size=\"14.00\" fill=\"#000000\">F3</text>\n",
       "</g>\n",
       "<!-- I1&#45;&gt;F3 -->\n",
       "<g id=\"edge3\" class=\"edge\">\n",
       "<title>I1&#45;&gt;F3</title>\n",
       "<path fill=\"none\" stroke=\"#000000\" d=\"M127.2414,-182.2981C133.0386,-183.2593 139.4885,-184.327 145.3968,-185.3008 183.8852,-191.6444 228.072,-198.8793 257.754,-203.7324\"/>\n",
       "<polygon fill=\"#000000\" stroke=\"#000000\" points=\"257.5621,-207.2474 267.9958,-205.4065 258.6914,-200.3391 257.5621,-207.2474\"/>\n",
       "<text text-anchor=\"middle\" x=\"197.545\" y=\"-201.1008\" font-family=\"Times,serif\" font-size=\"14.00\" fill=\"#000000\">b </text>\n",
       "</g>\n",
       "<!-- F2 -->\n",
       "<g id=\"node9\" class=\"node\">\n",
       "<title>F2</title>\n",
       "<ellipse fill=\"none\" stroke=\"#000000\" cx=\"197.545\" cy=\"-149.3008\" rx=\"20.2726\" ry=\"20.2726\"/>\n",
       "<ellipse fill=\"none\" stroke=\"#000000\" cx=\"197.545\" cy=\"-149.3008\" rx=\"24.2973\" ry=\"24.2973\"/>\n",
       "<text text-anchor=\"middle\" x=\"197.545\" y=\"-145.6008\" font-family=\"Times,serif\" font-size=\"14.00\" fill=\"#000000\">F2</text>\n",
       "</g>\n",
       "<!-- I1&#45;&gt;F2 -->\n",
       "<g id=\"edge2\" class=\"edge\">\n",
       "<title>I1&#45;&gt;F2</title>\n",
       "<path fill=\"none\" stroke=\"#000000\" d=\"M126.6528,-173.3737C137.5525,-169.6725 151.9287,-164.7908 164.8845,-160.3913\"/>\n",
       "<polygon fill=\"#000000\" stroke=\"#000000\" points=\"166.0904,-163.6782 174.4339,-157.1486 163.8396,-157.0499 166.0904,-163.6782\"/>\n",
       "<text text-anchor=\"middle\" x=\"150.3968\" y=\"-170.1008\" font-family=\"Times,serif\" font-size=\"14.00\" fill=\"#000000\">a </text>\n",
       "</g>\n",
       "<!-- S8 -->\n",
       "<g id=\"node6\" class=\"node\">\n",
       "<title>S8</title>\n",
       "<ellipse fill=\"none\" stroke=\"#000000\" cx=\"291.8414\" cy=\"-55.3008\" rx=\"20.2975\" ry=\"20.2975\"/>\n",
       "<text text-anchor=\"middle\" x=\"291.8414\" y=\"-51.6008\" font-family=\"Times,serif\" font-size=\"14.00\" fill=\"#000000\">S8</text>\n",
       "</g>\n",
       "<!-- F9 -->\n",
       "<g id=\"node7\" class=\"node\">\n",
       "<title>F9</title>\n",
       "<ellipse fill=\"none\" stroke=\"#000000\" cx=\"387.1378\" cy=\"-55.3008\" rx=\"20.2726\" ry=\"20.2726\"/>\n",
       "<ellipse fill=\"none\" stroke=\"#000000\" cx=\"387.1378\" cy=\"-55.3008\" rx=\"24.2973\" ry=\"24.2973\"/>\n",
       "<text text-anchor=\"middle\" x=\"387.1378\" y=\"-51.6008\" font-family=\"Times,serif\" font-size=\"14.00\" fill=\"#000000\">F9</text>\n",
       "</g>\n",
       "<!-- S8&#45;&gt;F9 -->\n",
       "<g id=\"edge17\" class=\"edge\">\n",
       "<title>S8&#45;&gt;F9</title>\n",
       "<path fill=\"none\" stroke=\"#000000\" d=\"M312.0513,-55.3008C323.8936,-55.3008 339.166,-55.3008 352.842,-55.3008\"/>\n",
       "<polygon fill=\"#000000\" stroke=\"#000000\" points=\"352.9057,-58.8009 362.9057,-55.3008 352.9056,-51.8009 352.9057,-58.8009\"/>\n",
       "<text text-anchor=\"middle\" x=\"339.4896\" y=\"-59.1008\" font-family=\"Times,serif\" font-size=\"14.00\" fill=\"#000000\">b </text>\n",
       "</g>\n",
       "<!-- S8&#45;&gt;F6 -->\n",
       "<g id=\"edge16\" class=\"edge\">\n",
       "<title>S8&#45;&gt;F6</title>\n",
       "<path fill=\"none\" stroke=\"#000000\" d=\"M306.2642,-41.1418C329.5727,-20.0355 376.4277,14.9324 411.286,-7.3008 452.0855,-33.3232 469.856,-89.4702 477.3295,-126.0282\"/>\n",
       "<polygon fill=\"#000000\" stroke=\"#000000\" points=\"473.9614,-127.0556 479.2539,-136.2339 480.8402,-125.7585 473.9614,-127.0556\"/>\n",
       "<text text-anchor=\"middle\" x=\"387.1378\" y=\"-11.1008\" font-family=\"Times,serif\" font-size=\"14.00\" fill=\"#000000\">a </text>\n",
       "</g>\n",
       "<!-- F9&#45;&gt;F9 -->\n",
       "<g id=\"edge18\" class=\"edge\">\n",
       "<title>F9&#45;&gt;F9</title>\n",
       "<path fill=\"none\" stroke=\"#000000\" d=\"M378.6476,-78.2785C377.839,-88.5583 380.6691,-97.449 387.1378,-97.449 391.2819,-97.449 393.9326,-93.8003 395.09,-88.475\"/>\n",
       "<polygon fill=\"#000000\" stroke=\"#000000\" points=\"398.5962,-88.4491 395.6281,-78.2785 391.6059,-88.0802 398.5962,-88.4491\"/>\n",
       "<text text-anchor=\"middle\" x=\"387.1378\" y=\"-101.249\" font-family=\"Times,serif\" font-size=\"14.00\" fill=\"#000000\">a </text>\n",
       "</g>\n",
       "<!-- F9&#45;&gt;F6 -->\n",
       "<g id=\"edge19\" class=\"edge\">\n",
       "<title>F9&#45;&gt;F6</title>\n",
       "<path fill=\"none\" stroke=\"#000000\" d=\"M406.6381,-69.8268C417.1818,-78.1532 430.0922,-89.1435 440.286,-100.3008 448.8531,-109.6775 457.1445,-120.8591 464.0738,-131.0144\"/>\n",
       "<polygon fill=\"#000000\" stroke=\"#000000\" points=\"461.3335,-133.2144 469.7853,-139.6034 467.1624,-129.3383 461.3335,-133.2144\"/>\n",
       "<text text-anchor=\"middle\" x=\"434.786\" y=\"-104.1008\" font-family=\"Times,serif\" font-size=\"14.00\" fill=\"#000000\">b </text>\n",
       "</g>\n",
       "<!-- F3&#45;&gt;S4 -->\n",
       "<g id=\"edge7\" class=\"edge\">\n",
       "<title>F3&#45;&gt;S4</title>\n",
       "<path fill=\"none\" stroke=\"#000000\" d=\"M312.9908,-221.9509C327.0677,-230.3708 345.6692,-241.497 360.719,-250.4987\"/>\n",
       "<polygon fill=\"#000000\" stroke=\"#000000\" points=\"359.1797,-253.6564 369.5584,-255.7859 362.773,-247.649 359.1797,-253.6564\"/>\n",
       "<text text-anchor=\"middle\" x=\"339.4896\" y=\"-243.1008\" font-family=\"Times,serif\" font-size=\"14.00\" fill=\"#000000\">b </text>\n",
       "</g>\n",
       "<!-- F3&#45;&gt;S7 -->\n",
       "<g id=\"edge6\" class=\"edge\">\n",
       "<title>F3&#45;&gt;S7</title>\n",
       "<path fill=\"none\" stroke=\"#000000\" d=\"M316.3826,-209.0432C328.6185,-208.9148 343.5368,-208.7583 356.5149,-208.6221\"/>\n",
       "<polygon fill=\"#000000\" stroke=\"#000000\" points=\"356.896,-212.1184 366.8587,-208.5136 356.8225,-205.1188 356.896,-212.1184\"/>\n",
       "<text text-anchor=\"middle\" x=\"339.4896\" y=\"-212.1008\" font-family=\"Times,serif\" font-size=\"14.00\" fill=\"#000000\">a </text>\n",
       "</g>\n",
       "<!-- F2&#45;&gt;S5 -->\n",
       "<g id=\"edge5\" class=\"edge\">\n",
       "<title>F2&#45;&gt;S5</title>\n",
       "<path fill=\"none\" stroke=\"#000000\" d=\"M221.9428,-149.4294C256.3507,-149.6109 319.1064,-149.9419 356.5774,-150.1396\"/>\n",
       "<polygon fill=\"#000000\" stroke=\"#000000\" points=\"356.8648,-153.641 366.8832,-150.1939 356.9018,-146.6411 356.8648,-153.641\"/>\n",
       "<text text-anchor=\"middle\" x=\"291.8414\" y=\"-153.1008\" font-family=\"Times,serif\" font-size=\"14.00\" fill=\"#000000\">b </text>\n",
       "</g>\n",
       "<!-- F2&#45;&gt;S8 -->\n",
       "<g id=\"edge4\" class=\"edge\">\n",
       "<title>F2&#45;&gt;S8</title>\n",
       "<path fill=\"none\" stroke=\"#000000\" d=\"M214.8404,-132.0597C230.4248,-116.5243 253.4014,-93.6199 270.199,-76.8752\"/>\n",
       "<polygon fill=\"#000000\" stroke=\"#000000\" points=\"272.822,-79.2024 277.4332,-69.6637 267.88,-74.2448 272.822,-79.2024\"/>\n",
       "<text text-anchor=\"middle\" x=\"244.6932\" y=\"-109.1008\" font-family=\"Times,serif\" font-size=\"14.00\" fill=\"#000000\">a </text>\n",
       "</g>\n",
       "<!-- F6&#45;&gt;F6 -->\n",
       "<g id=\"edge12\" class=\"edge\">\n",
       "<title>F6&#45;&gt;F6</title>\n",
       "<path fill=\"none\" stroke=\"#000000\" d=\"M478.1597,-184.1318C477.8649,-194.0454 479.2897,-202.449 482.4343,-202.449 484.3996,-202.449 485.6932,-199.1663 486.315,-194.284\"/>\n",
       "<polygon fill=\"#000000\" stroke=\"#000000\" points=\"489.8185,-194.26 486.7089,-184.1318 482.8238,-193.9886 489.8185,-194.26\"/>\n",
       "<text text-anchor=\"middle\" x=\"482.4343\" y=\"-206.249\" font-family=\"Times,serif\" font-size=\"14.00\" fill=\"#000000\">a </text>\n",
       "</g>\n",
       "<!-- F6&#45;&gt;F6 -->\n",
       "<g id=\"edge13\" class=\"edge\">\n",
       "<title>F6&#45;&gt;F6</title>\n",
       "<path fill=\"none\" stroke=\"#000000\" d=\"M474.9721,-183.4484C472.0856,-201.7108 474.5729,-220.449 482.4343,-220.449 488.8216,-220.449 491.6613,-208.0788 490.9533,-193.6445\"/>\n",
       "<polygon fill=\"#000000\" stroke=\"#000000\" points=\"494.4089,-193.0342 489.8964,-183.4484 487.4462,-193.756 494.4089,-193.0342\"/>\n",
       "<text text-anchor=\"middle\" x=\"482.4343\" y=\"-224.249\" font-family=\"Times,serif\" font-size=\"14.00\" fill=\"#000000\">b </text>\n",
       "</g>\n",
       "</g>\n",
       "</svg>\n"
      ],
      "text/plain": [
       "<graphviz.dot.Digraph at 0x1124f5390>"
      ]
     },
     "execution_count": 75,
     "metadata": {},
     "output_type": "execute_result"
    }
   ],
   "source": [
    "dblimp"
   ]
  },
  {
   "cell_type": "code",
   "execution_count": 76,
   "metadata": {
    "run_control": {
     "frozen": false,
     "read_only": false
    }
   },
   "outputs": [],
   "source": [
    "dblimp = dotObj_dfa(blimp, FuseEdges=True)"
   ]
  },
  {
   "cell_type": "code",
   "execution_count": 77,
   "metadata": {
    "run_control": {
     "frozen": false,
     "read_only": false
    }
   },
   "outputs": [
    {
     "data": {
      "image/svg+xml": [
       "<?xml version=\"1.0\" encoding=\"UTF-8\" standalone=\"no\"?>\n",
       "<!DOCTYPE svg PUBLIC \"-//W3C//DTD SVG 1.1//EN\"\n",
       " \"http://www.w3.org/Graphics/SVG/1.1/DTD/svg11.dtd\">\n",
       "<!-- Generated by graphviz version 2.40.1 (20161225.0304)\n",
       " -->\n",
       "<!-- Title: %3 Pages: 1 -->\n",
       "<svg width=\"549pt\" height=\"304pt\"\n",
       " viewBox=\"0.00 0.00 548.88 304.15\" xmlns=\"http://www.w3.org/2000/svg\" xmlns:xlink=\"http://www.w3.org/1999/xlink\">\n",
       "<g id=\"graph0\" class=\"graph\" transform=\"scale(1 1) rotate(0) translate(4 300.1516)\">\n",
       "<title>%3</title>\n",
       "<polygon fill=\"#ffffff\" stroke=\"transparent\" points=\"-4,4 -4,-300.1516 544.8789,-300.1516 544.8789,4 -4,4\"/>\n",
       "<!-- EMPTY -->\n",
       "<g id=\"node1\" class=\"node\">\n",
       "<title>EMPTY</title>\n",
       "</g>\n",
       "<!-- I1 -->\n",
       "<g id=\"node5\" class=\"node\">\n",
       "<title>I1</title>\n",
       "<ellipse fill=\"none\" stroke=\"#000000\" cx=\"109.1984\" cy=\"-180.0034\" rx=\"18.399\" ry=\"18.399\"/>\n",
       "<text text-anchor=\"middle\" x=\"109.1984\" y=\"-176.3034\" font-family=\"Times,serif\" font-size=\"14.00\" fill=\"#000000\">I1</text>\n",
       "</g>\n",
       "<!-- EMPTY&#45;&gt;I1 -->\n",
       "<g id=\"edge1\" class=\"edge\">\n",
       "<title>EMPTY&#45;&gt;I1</title>\n",
       "<path fill=\"none\" stroke=\"#000000\" d=\"M54.3709,-180.0034C62.7773,-180.0034 72.0494,-180.0034 80.5395,-180.0034\"/>\n",
       "<polygon fill=\"#000000\" stroke=\"#000000\" points=\"80.7515,-183.5035 90.7515,-180.0034 80.7514,-176.5035 80.7515,-183.5035\"/>\n",
       "</g>\n",
       "<!-- S5 -->\n",
       "<g id=\"node2\" class=\"node\">\n",
       "<title>S5</title>\n",
       "<ellipse fill=\"none\" stroke=\"#000000\" cx=\"355.1378\" cy=\"-150.0034\" rx=\"20.2975\" ry=\"20.2975\"/>\n",
       "<text text-anchor=\"middle\" x=\"355.1378\" y=\"-146.3034\" font-family=\"Times,serif\" font-size=\"14.00\" fill=\"#000000\">S5</text>\n",
       "</g>\n",
       "<!-- F6 -->\n",
       "<g id=\"node10\" class=\"node\">\n",
       "<title>F6</title>\n",
       "<ellipse fill=\"none\" stroke=\"#000000\" cx=\"516.7307\" cy=\"-150.0034\" rx=\"20.2726\" ry=\"20.2726\"/>\n",
       "<ellipse fill=\"none\" stroke=\"#000000\" cx=\"516.7307\" cy=\"-150.0034\" rx=\"24.2973\" ry=\"24.2973\"/>\n",
       "<text text-anchor=\"middle\" x=\"516.7307\" y=\"-146.3034\" font-family=\"Times,serif\" font-size=\"14.00\" fill=\"#000000\">F6</text>\n",
       "</g>\n",
       "<!-- S5&#45;&gt;F6 -->\n",
       "<g id=\"edge9\" class=\"edge\">\n",
       "<title>S5&#45;&gt;F6</title>\n",
       "<path fill=\"none\" stroke=\"#000000\" d=\"M375.6037,-150.0034C402.3854,-150.0034 449.714,-150.0034 482.1191,-150.0034\"/>\n",
       "<polygon fill=\"#000000\" stroke=\"#000000\" points=\"482.4854,-153.5035 492.4853,-150.0034 482.4853,-146.5035 482.4854,-153.5035\"/>\n",
       "<text text-anchor=\"middle\" x=\"417.4343\" y=\"-168.8034\" font-family=\"Times,serif\" font-size=\"14.00\" fill=\"#000000\">a </text>\n",
       "<text text-anchor=\"middle\" x=\"417.4343\" y=\"-153.8034\" font-family=\"Times,serif\" font-size=\"14.00\" fill=\"#000000\"> b </text>\n",
       "</g>\n",
       "<!-- S4 -->\n",
       "<g id=\"node3\" class=\"node\">\n",
       "<title>S4</title>\n",
       "<ellipse fill=\"none\" stroke=\"#000000\" cx=\"417.4343\" cy=\"-276.0034\" rx=\"20.2975\" ry=\"20.2975\"/>\n",
       "<text text-anchor=\"middle\" x=\"417.4343\" y=\"-272.3034\" font-family=\"Times,serif\" font-size=\"14.00\" fill=\"#000000\">S4</text>\n",
       "</g>\n",
       "<!-- S4&#45;&gt;F6 -->\n",
       "<g id=\"edge8\" class=\"edge\">\n",
       "<title>S4&#45;&gt;F6</title>\n",
       "<path fill=\"none\" stroke=\"#000000\" d=\"M433.1515,-263.3021C445.3369,-252.9738 462.1807,-237.6038 474.5825,-222.0034 484.5916,-209.4128 493.8479,-194.1975 501.1213,-181.0037\"/>\n",
       "<polygon fill=\"#000000\" stroke=\"#000000\" points=\"504.4049,-182.2867 506.0493,-171.8202 498.2368,-178.9767 504.4049,-182.2867\"/>\n",
       "<text text-anchor=\"middle\" x=\"467.0825\" y=\"-256.8034\" font-family=\"Times,serif\" font-size=\"14.00\" fill=\"#000000\">a </text>\n",
       "<text text-anchor=\"middle\" x=\"467.0825\" y=\"-241.8034\" font-family=\"Times,serif\" font-size=\"14.00\" fill=\"#000000\"> b </text>\n",
       "</g>\n",
       "<!-- S7 -->\n",
       "<g id=\"node4\" class=\"node\">\n",
       "<title>S7</title>\n",
       "<ellipse fill=\"none\" stroke=\"#000000\" cx=\"417.4343\" cy=\"-218.0034\" rx=\"20.2975\" ry=\"20.2975\"/>\n",
       "<text text-anchor=\"middle\" x=\"417.4343\" y=\"-214.3034\" font-family=\"Times,serif\" font-size=\"14.00\" fill=\"#000000\">S7</text>\n",
       "</g>\n",
       "<!-- S7&#45;&gt;F6 -->\n",
       "<g id=\"edge11\" class=\"edge\">\n",
       "<title>S7&#45;&gt;F6</title>\n",
       "<path fill=\"none\" stroke=\"#000000\" d=\"M434.2785,-206.4681C448.9794,-196.4007 470.6257,-181.5769 488.0506,-169.644\"/>\n",
       "<polygon fill=\"#000000\" stroke=\"#000000\" points=\"490.4456,-172.246 496.7187,-163.7079 486.4904,-166.4705 490.4456,-172.246\"/>\n",
       "<text text-anchor=\"middle\" x=\"467.0825\" y=\"-206.8034\" font-family=\"Times,serif\" font-size=\"14.00\" fill=\"#000000\">a </text>\n",
       "<text text-anchor=\"middle\" x=\"467.0825\" y=\"-191.8034\" font-family=\"Times,serif\" font-size=\"14.00\" fill=\"#000000\"> b </text>\n",
       "</g>\n",
       "<!-- F3 -->\n",
       "<g id=\"node8\" class=\"node\">\n",
       "<title>F3</title>\n",
       "<ellipse fill=\"none\" stroke=\"#000000\" cx=\"292.8414\" cy=\"-218.0034\" rx=\"20.2726\" ry=\"20.2726\"/>\n",
       "<ellipse fill=\"none\" stroke=\"#000000\" cx=\"292.8414\" cy=\"-218.0034\" rx=\"24.2973\" ry=\"24.2973\"/>\n",
       "<text text-anchor=\"middle\" x=\"292.8414\" y=\"-214.3034\" font-family=\"Times,serif\" font-size=\"14.00\" fill=\"#000000\">F3</text>\n",
       "</g>\n",
       "<!-- I1&#45;&gt;F3 -->\n",
       "<g id=\"edge3\" class=\"edge\">\n",
       "<title>I1&#45;&gt;F3</title>\n",
       "<path fill=\"none\" stroke=\"#000000\" d=\"M127.1412,-183.7162C157.7125,-190.0421 220.3586,-203.005 259.2583,-211.0543\"/>\n",
       "<polygon fill=\"#000000\" stroke=\"#000000\" points=\"258.5763,-214.4872 269.0781,-213.0862 259.9948,-207.6324 258.5763,-214.4872\"/>\n",
       "<text text-anchor=\"middle\" x=\"197.545\" y=\"-205.8034\" font-family=\"Times,serif\" font-size=\"14.00\" fill=\"#000000\">b </text>\n",
       "</g>\n",
       "<!-- F2 -->\n",
       "<g id=\"node9\" class=\"node\">\n",
       "<title>F2</title>\n",
       "<ellipse fill=\"none\" stroke=\"#000000\" cx=\"197.545\" cy=\"-150.0034\" rx=\"20.2726\" ry=\"20.2726\"/>\n",
       "<ellipse fill=\"none\" stroke=\"#000000\" cx=\"197.545\" cy=\"-150.0034\" rx=\"24.2973\" ry=\"24.2973\"/>\n",
       "<text text-anchor=\"middle\" x=\"197.545\" y=\"-146.3034\" font-family=\"Times,serif\" font-size=\"14.00\" fill=\"#000000\">F2</text>\n",
       "</g>\n",
       "<!-- I1&#45;&gt;F2 -->\n",
       "<g id=\"edge2\" class=\"edge\">\n",
       "<title>I1&#45;&gt;F2</title>\n",
       "<path fill=\"none\" stroke=\"#000000\" d=\"M126.6528,-174.0764C137.5525,-170.3751 151.9287,-165.4934 164.8845,-161.094\"/>\n",
       "<polygon fill=\"#000000\" stroke=\"#000000\" points=\"166.0904,-164.3808 174.4339,-157.8512 163.8396,-157.7526 166.0904,-164.3808\"/>\n",
       "<text text-anchor=\"middle\" x=\"150.3968\" y=\"-170.8034\" font-family=\"Times,serif\" font-size=\"14.00\" fill=\"#000000\">a </text>\n",
       "</g>\n",
       "<!-- S8 -->\n",
       "<g id=\"node6\" class=\"node\">\n",
       "<title>S8</title>\n",
       "<ellipse fill=\"none\" stroke=\"#000000\" cx=\"292.8414\" cy=\"-57.0034\" rx=\"20.2975\" ry=\"20.2975\"/>\n",
       "<text text-anchor=\"middle\" x=\"292.8414\" y=\"-53.3034\" font-family=\"Times,serif\" font-size=\"14.00\" fill=\"#000000\">S8</text>\n",
       "</g>\n",
       "<!-- F9 -->\n",
       "<g id=\"node7\" class=\"node\">\n",
       "<title>F9</title>\n",
       "<ellipse fill=\"none\" stroke=\"#000000\" cx=\"417.4343\" cy=\"-57.0034\" rx=\"20.2726\" ry=\"20.2726\"/>\n",
       "<ellipse fill=\"none\" stroke=\"#000000\" cx=\"417.4343\" cy=\"-57.0034\" rx=\"24.2973\" ry=\"24.2973\"/>\n",
       "<text text-anchor=\"middle\" x=\"417.4343\" y=\"-53.3034\" font-family=\"Times,serif\" font-size=\"14.00\" fill=\"#000000\">F9</text>\n",
       "</g>\n",
       "<!-- S8&#45;&gt;F9 -->\n",
       "<g id=\"edge13\" class=\"edge\">\n",
       "<title>S8&#45;&gt;F9</title>\n",
       "<path fill=\"none\" stroke=\"#000000\" d=\"M313.1367,-57.0034C331.9474,-57.0034 360.3214,-57.0034 382.7279,-57.0034\"/>\n",
       "<polygon fill=\"#000000\" stroke=\"#000000\" points=\"382.8629,-60.5035 392.8629,-57.0034 382.8628,-53.5035 382.8629,-60.5035\"/>\n",
       "<text text-anchor=\"middle\" x=\"355.1378\" y=\"-60.8034\" font-family=\"Times,serif\" font-size=\"14.00\" fill=\"#000000\">b </text>\n",
       "</g>\n",
       "<!-- S8&#45;&gt;F6 -->\n",
       "<g id=\"edge12\" class=\"edge\">\n",
       "<title>S8&#45;&gt;F6</title>\n",
       "<path fill=\"none\" stroke=\"#000000\" d=\"M308.5885,-43.7868C336.8566,-21.7636 397.3779,17.528 441.5825,-9.0034 480.0565,-32.0953 499.9135,-82.3042 509.3191,-116.1394\"/>\n",
       "<polygon fill=\"#000000\" stroke=\"#000000\" points=\"505.9982,-117.2751 511.9116,-126.0661 512.7711,-115.5062 505.9982,-117.2751\"/>\n",
       "<text text-anchor=\"middle\" x=\"417.4343\" y=\"-12.8034\" font-family=\"Times,serif\" font-size=\"14.00\" fill=\"#000000\">a </text>\n",
       "</g>\n",
       "<!-- F9&#45;&gt;F9 -->\n",
       "<g id=\"edge14\" class=\"edge\">\n",
       "<title>F9&#45;&gt;F9</title>\n",
       "<path fill=\"none\" stroke=\"#000000\" d=\"M408.6122,-79.552C407.6498,-90.0123 410.5905,-99.1516 417.4343,-99.1516 421.9255,-99.1516 424.7358,-95.2156 425.8651,-89.5533\"/>\n",
       "<polygon fill=\"#000000\" stroke=\"#000000\" points=\"429.3627,-89.6812 426.2563,-79.552 422.3681,-89.4076 429.3627,-89.6812\"/>\n",
       "<text text-anchor=\"middle\" x=\"417.4343\" y=\"-102.9516\" font-family=\"Times,serif\" font-size=\"14.00\" fill=\"#000000\">a </text>\n",
       "</g>\n",
       "<!-- F9&#45;&gt;F6 -->\n",
       "<g id=\"edge15\" class=\"edge\">\n",
       "<title>F9&#45;&gt;F6</title>\n",
       "<path fill=\"none\" stroke=\"#000000\" d=\"M435.1865,-73.6299C450.7631,-88.2189 473.6038,-109.6112 491.1522,-126.0468\"/>\n",
       "<polygon fill=\"#000000\" stroke=\"#000000\" points=\"489.1061,-128.9259 498.7974,-133.2072 493.8912,-123.8168 489.1061,-128.9259\"/>\n",
       "<text text-anchor=\"middle\" x=\"467.0825\" y=\"-112.8034\" font-family=\"Times,serif\" font-size=\"14.00\" fill=\"#000000\">b </text>\n",
       "</g>\n",
       "<!-- F3&#45;&gt;S4 -->\n",
       "<g id=\"edge7\" class=\"edge\">\n",
       "<title>F3&#45;&gt;S4</title>\n",
       "<path fill=\"none\" stroke=\"#000000\" d=\"M314.8293,-228.2391C335.7348,-237.971 367.2536,-252.6435 389.8379,-263.1568\"/>\n",
       "<polygon fill=\"#000000\" stroke=\"#000000\" points=\"388.3699,-266.3341 398.9128,-267.3814 391.3241,-259.988 388.3699,-266.3341\"/>\n",
       "<text text-anchor=\"middle\" x=\"355.1378\" y=\"-258.8034\" font-family=\"Times,serif\" font-size=\"14.00\" fill=\"#000000\">b </text>\n",
       "</g>\n",
       "<!-- F3&#45;&gt;S7 -->\n",
       "<g id=\"edge6\" class=\"edge\">\n",
       "<title>F3&#45;&gt;S7</title>\n",
       "<path fill=\"none\" stroke=\"#000000\" d=\"M317.1599,-218.0034C337.031,-218.0034 365.2386,-218.0034 386.6772,-218.0034\"/>\n",
       "<polygon fill=\"#000000\" stroke=\"#000000\" points=\"386.8909,-221.5035 396.8908,-218.0034 386.8908,-214.5035 386.8909,-221.5035\"/>\n",
       "<text text-anchor=\"middle\" x=\"355.1378\" y=\"-221.8034\" font-family=\"Times,serif\" font-size=\"14.00\" fill=\"#000000\">a </text>\n",
       "</g>\n",
       "<!-- F2&#45;&gt;S5 -->\n",
       "<g id=\"edge5\" class=\"edge\">\n",
       "<title>F2&#45;&gt;S5</title>\n",
       "<path fill=\"none\" stroke=\"#000000\" d=\"M221.8235,-150.0034C249.3525,-150.0034 294.2948,-150.0034 324.2865,-150.0034\"/>\n",
       "<polygon fill=\"#000000\" stroke=\"#000000\" points=\"324.5998,-153.5035 334.5998,-150.0034 324.5997,-146.5035 324.5998,-153.5035\"/>\n",
       "<text text-anchor=\"middle\" x=\"245.1932\" y=\"-153.8034\" font-family=\"Times,serif\" font-size=\"14.00\" fill=\"#000000\">b </text>\n",
       "</g>\n",
       "<!-- F2&#45;&gt;S8 -->\n",
       "<g id=\"edge4\" class=\"edge\">\n",
       "<title>F2&#45;&gt;S8</title>\n",
       "<path fill=\"none\" stroke=\"#000000\" d=\"M215.0238,-132.9458C230.7734,-117.5757 253.9938,-94.9149 270.9695,-78.3483\"/>\n",
       "<polygon fill=\"#000000\" stroke=\"#000000\" points=\"273.5681,-80.7027 278.2804,-71.2135 268.6791,-75.6929 273.5681,-80.7027\"/>\n",
       "<text text-anchor=\"middle\" x=\"245.1932\" y=\"-109.8034\" font-family=\"Times,serif\" font-size=\"14.00\" fill=\"#000000\">a </text>\n",
       "</g>\n",
       "<!-- F6&#45;&gt;F6 -->\n",
       "<g id=\"edge10\" class=\"edge\">\n",
       "<title>F6&#45;&gt;F6</title>\n",
       "<path fill=\"none\" stroke=\"#000000\" d=\"M507.9087,-172.552C506.9463,-183.0123 509.8869,-192.1516 516.7307,-192.1516 521.2219,-192.1516 524.0322,-188.2156 525.1616,-182.5533\"/>\n",
       "<polygon fill=\"#000000\" stroke=\"#000000\" points=\"528.6591,-182.6812 525.5527,-172.552 521.6645,-182.4076 528.6591,-182.6812\"/>\n",
       "<text text-anchor=\"middle\" x=\"516.7307\" y=\"-210.9516\" font-family=\"Times,serif\" font-size=\"14.00\" fill=\"#000000\">a </text>\n",
       "<text text-anchor=\"middle\" x=\"516.7307\" y=\"-195.9516\" font-family=\"Times,serif\" font-size=\"14.00\" fill=\"#000000\"> b </text>\n",
       "</g>\n",
       "</g>\n",
       "</svg>\n"
      ],
      "text/plain": [
       "<graphviz.dot.Digraph at 0x112501390>"
      ]
     },
     "execution_count": 77,
     "metadata": {},
     "output_type": "execute_result"
    }
   ],
   "source": [
    "dblimp"
   ]
  },
  {
   "cell_type": "code",
   "execution_count": 78,
   "metadata": {
    "run_control": {
     "frozen": false,
     "read_only": false
    }
   },
   "outputs": [],
   "source": [
    "mblimp = min_dfa(blimp)"
   ]
  },
  {
   "cell_type": "code",
   "execution_count": 79,
   "metadata": {
    "run_control": {
     "frozen": false,
     "read_only": false
    }
   },
   "outputs": [],
   "source": [
    "dmblimp = dotObj_dfa(mblimp)"
   ]
  },
  {
   "cell_type": "code",
   "execution_count": 80,
   "metadata": {
    "run_control": {
     "frozen": false,
     "read_only": false
    }
   },
   "outputs": [
    {
     "data": {
      "image/svg+xml": [
       "<?xml version=\"1.0\" encoding=\"UTF-8\" standalone=\"no\"?>\n",
       "<!DOCTYPE svg PUBLIC \"-//W3C//DTD SVG 1.1//EN\"\n",
       " \"http://www.w3.org/Graphics/SVG/1.1/DTD/svg11.dtd\">\n",
       "<!-- Generated by graphviz version 2.40.1 (20161225.0304)\n",
       " -->\n",
       "<!-- Title: %3 Pages: 1 -->\n",
       "<svg width=\"413pt\" height=\"122pt\"\n",
       " viewBox=\"0.00 0.00 413.29 122.30\" xmlns=\"http://www.w3.org/2000/svg\" xmlns:xlink=\"http://www.w3.org/1999/xlink\">\n",
       "<g id=\"graph0\" class=\"graph\" transform=\"scale(1 1) rotate(0) translate(4 118.2964)\">\n",
       "<title>%3</title>\n",
       "<polygon fill=\"#ffffff\" stroke=\"transparent\" points=\"-4,4 -4,-118.2964 409.286,-118.2964 409.286,4 -4,4\"/>\n",
       "<!-- EMPTY -->\n",
       "<g id=\"node1\" class=\"node\">\n",
       "<title>EMPTY</title>\n",
       "</g>\n",
       "<!-- I1 -->\n",
       "<g id=\"node3\" class=\"node\">\n",
       "<title>I1</title>\n",
       "<ellipse fill=\"none\" stroke=\"#000000\" cx=\"109.1984\" cy=\"-24.1482\" rx=\"18.399\" ry=\"18.399\"/>\n",
       "<text text-anchor=\"middle\" x=\"109.1984\" y=\"-20.4482\" font-family=\"Times,serif\" font-size=\"14.00\" fill=\"#000000\">I1</text>\n",
       "</g>\n",
       "<!-- EMPTY&#45;&gt;I1 -->\n",
       "<g id=\"edge1\" class=\"edge\">\n",
       "<title>EMPTY&#45;&gt;I1</title>\n",
       "<path fill=\"none\" stroke=\"#000000\" d=\"M54.3709,-24.1482C62.7773,-24.1482 72.0494,-24.1482 80.5395,-24.1482\"/>\n",
       "<polygon fill=\"#000000\" stroke=\"#000000\" points=\"80.7515,-27.6483 90.7515,-24.1482 80.7514,-20.6483 80.7515,-27.6483\"/>\n",
       "</g>\n",
       "<!-- S5 -->\n",
       "<g id=\"node2\" class=\"node\">\n",
       "<title>S5</title>\n",
       "<ellipse fill=\"none\" stroke=\"#000000\" cx=\"289.8414\" cy=\"-24.1482\" rx=\"20.2975\" ry=\"20.2975\"/>\n",
       "<text text-anchor=\"middle\" x=\"289.8414\" y=\"-20.4482\" font-family=\"Times,serif\" font-size=\"14.00\" fill=\"#000000\">S5</text>\n",
       "</g>\n",
       "<!-- F9 -->\n",
       "<g id=\"node4\" class=\"node\">\n",
       "<title>F9</title>\n",
       "<ellipse fill=\"none\" stroke=\"#000000\" cx=\"381.1378\" cy=\"-24.1482\" rx=\"20.2726\" ry=\"20.2726\"/>\n",
       "<ellipse fill=\"none\" stroke=\"#000000\" cx=\"381.1378\" cy=\"-24.1482\" rx=\"24.2973\" ry=\"24.2973\"/>\n",
       "<text text-anchor=\"middle\" x=\"381.1378\" y=\"-20.4482\" font-family=\"Times,serif\" font-size=\"14.00\" fill=\"#000000\">F9</text>\n",
       "</g>\n",
       "<!-- S5&#45;&gt;F9 -->\n",
       "<g id=\"edge6\" class=\"edge\">\n",
       "<title>S5&#45;&gt;F9</title>\n",
       "<path fill=\"none\" stroke=\"#000000\" d=\"M310.103,-24.1482C320.8558,-24.1482 334.3642,-24.1482 346.7063,-24.1482\"/>\n",
       "<polygon fill=\"#000000\" stroke=\"#000000\" points=\"346.7133,-27.6483 356.7133,-24.1482 346.7133,-20.6483 346.7133,-27.6483\"/>\n",
       "<text text-anchor=\"middle\" x=\"333.4896\" y=\"-27.9482\" font-family=\"Times,serif\" font-size=\"14.00\" fill=\"#000000\">a </text>\n",
       "</g>\n",
       "<!-- S5&#45;&gt;F9 -->\n",
       "<g id=\"edge7\" class=\"edge\">\n",
       "<title>S5&#45;&gt;F9</title>\n",
       "<path fill=\"none\" stroke=\"#000000\" d=\"M307.0509,-13.4683C313.3908,-10.1123 320.7873,-6.8425 327.9896,-5.1482 335.6831,-3.3383 343.8045,-4.555 351.3204,-7.0706\"/>\n",
       "<polygon fill=\"#000000\" stroke=\"#000000\" points=\"350.1869,-10.3894 360.7652,-10.9808 352.8645,-3.9217 350.1869,-10.3894\"/>\n",
       "<text text-anchor=\"middle\" x=\"333.4896\" y=\"-8.9482\" font-family=\"Times,serif\" font-size=\"14.00\" fill=\"#000000\">b </text>\n",
       "</g>\n",
       "<!-- F3 -->\n",
       "<g id=\"node5\" class=\"node\">\n",
       "<title>F3</title>\n",
       "<ellipse fill=\"none\" stroke=\"#000000\" cx=\"198.545\" cy=\"-24.1482\" rx=\"20.2726\" ry=\"20.2726\"/>\n",
       "<ellipse fill=\"none\" stroke=\"#000000\" cx=\"198.545\" cy=\"-24.1482\" rx=\"24.2973\" ry=\"24.2973\"/>\n",
       "<text text-anchor=\"middle\" x=\"198.545\" y=\"-20.4482\" font-family=\"Times,serif\" font-size=\"14.00\" fill=\"#000000\">F3</text>\n",
       "</g>\n",
       "<!-- I1&#45;&gt;F3 -->\n",
       "<g id=\"edge2\" class=\"edge\">\n",
       "<title>I1&#45;&gt;F3</title>\n",
       "<path fill=\"none\" stroke=\"#000000\" d=\"M127.7111,-24.1482C138.2532,-24.1482 151.7964,-24.1482 164.2121,-24.1482\"/>\n",
       "<polygon fill=\"#000000\" stroke=\"#000000\" points=\"164.2855,-27.6483 174.2855,-24.1482 164.2855,-20.6483 164.2855,-27.6483\"/>\n",
       "<text text-anchor=\"middle\" x=\"150.8968\" y=\"-27.9482\" font-family=\"Times,serif\" font-size=\"14.00\" fill=\"#000000\">a </text>\n",
       "</g>\n",
       "<!-- I1&#45;&gt;F3 -->\n",
       "<g id=\"edge3\" class=\"edge\">\n",
       "<title>I1&#45;&gt;F3</title>\n",
       "<path fill=\"none\" stroke=\"#000000\" d=\"M124.3942,-14.0777C130.6304,-10.5158 138.092,-6.9488 145.3968,-5.1482 153.0706,-3.2566 161.1847,-4.443 168.6999,-6.9557\"/>\n",
       "<polygon fill=\"#000000\" stroke=\"#000000\" points=\"167.5691,-10.2757 178.147,-10.8753 170.2518,-3.8102 167.5691,-10.2757\"/>\n",
       "<text text-anchor=\"middle\" x=\"150.8968\" y=\"-8.9482\" font-family=\"Times,serif\" font-size=\"14.00\" fill=\"#000000\">b </text>\n",
       "</g>\n",
       "<!-- F9&#45;&gt;F9 -->\n",
       "<g id=\"edge8\" class=\"edge\">\n",
       "<title>F9&#45;&gt;F9</title>\n",
       "<path fill=\"none\" stroke=\"#000000\" d=\"M376.8632,-47.9793C376.5684,-57.8929 377.9933,-66.2964 381.1378,-66.2964 383.1032,-66.2964 384.3968,-63.0138 385.0186,-58.1315\"/>\n",
       "<polygon fill=\"#000000\" stroke=\"#000000\" points=\"388.5221,-58.1074 385.4124,-47.9793 381.5273,-57.836 388.5221,-58.1074\"/>\n",
       "<text text-anchor=\"middle\" x=\"381.1378\" y=\"-70.0964\" font-family=\"Times,serif\" font-size=\"14.00\" fill=\"#000000\">a </text>\n",
       "</g>\n",
       "<!-- F9&#45;&gt;F9 -->\n",
       "<g id=\"edge9\" class=\"edge\">\n",
       "<title>F9&#45;&gt;F9</title>\n",
       "<path fill=\"none\" stroke=\"#000000\" d=\"M373.6757,-47.2958C370.7891,-65.5582 373.2765,-84.2964 381.1378,-84.2964 387.5252,-84.2964 390.3648,-71.9263 389.6569,-57.492\"/>\n",
       "<polygon fill=\"#000000\" stroke=\"#000000\" points=\"393.1124,-56.8816 388.6,-47.2958 386.1498,-57.6034 393.1124,-56.8816\"/>\n",
       "<text text-anchor=\"middle\" x=\"381.1378\" y=\"-88.0964\" font-family=\"Times,serif\" font-size=\"14.00\" fill=\"#000000\">b </text>\n",
       "</g>\n",
       "<!-- F3&#45;&gt;S5 -->\n",
       "<g id=\"edge4\" class=\"edge\">\n",
       "<title>F3&#45;&gt;S5</title>\n",
       "<path fill=\"none\" stroke=\"#000000\" d=\"M223.0107,-24.1482C234.172,-24.1482 247.5041,-24.1482 259.3139,-24.1482\"/>\n",
       "<polygon fill=\"#000000\" stroke=\"#000000\" points=\"259.6258,-27.6483 269.6258,-24.1482 259.6258,-20.6483 259.6258,-27.6483\"/>\n",
       "<text text-anchor=\"middle\" x=\"246.1932\" y=\"-27.9482\" font-family=\"Times,serif\" font-size=\"14.00\" fill=\"#000000\">a </text>\n",
       "</g>\n",
       "<!-- F3&#45;&gt;S5 -->\n",
       "<g id=\"edge5\" class=\"edge\">\n",
       "<title>F3&#45;&gt;S5</title>\n",
       "<path fill=\"none\" stroke=\"#000000\" d=\"M218.9176,-10.9808C228.6786,-6.2023 240.6284,-2.5452 251.6932,-5.1482 255.632,-6.0748 259.6288,-7.4726 263.4792,-9.0979\"/>\n",
       "<polygon fill=\"#000000\" stroke=\"#000000\" points=\"262.0997,-12.3178 272.6319,-13.4683 265.116,-6.0009 262.0997,-12.3178\"/>\n",
       "<text text-anchor=\"middle\" x=\"246.1932\" y=\"-8.9482\" font-family=\"Times,serif\" font-size=\"14.00\" fill=\"#000000\">b </text>\n",
       "</g>\n",
       "</g>\n",
       "</svg>\n"
      ],
      "text/plain": [
       "<graphviz.dot.Digraph at 0x112504588>"
      ]
     },
     "execution_count": 80,
     "metadata": {},
     "output_type": "execute_result"
    }
   ],
   "source": [
    "dmblimp"
   ]
  },
  {
   "cell_type": "markdown",
   "metadata": {
    "run_control": {
     "frozen": false,
     "read_only": false
    }
   },
   "source": [
    "# Minimized \"blimp\" machine\n",
    "\n",
    "The minimized blimp machine is indeed quite small.\n"
   ]
  },
  {
   "cell_type": "code",
   "execution_count": 81,
   "metadata": {},
   "outputs": [],
   "source": [
    "OddEnds1 = md2mc('''\n",
    "DFA\n",
    "I : 1 -> F\n",
    "I : 0 -> A\n",
    "A : 0|1 -> I\n",
    "F : 0|1 -> I\n",
    "''')"
   ]
  },
  {
   "cell_type": "code",
   "execution_count": 83,
   "metadata": {},
   "outputs": [
    {
     "data": {
      "image/svg+xml": [
       "<?xml version=\"1.0\" encoding=\"UTF-8\" standalone=\"no\"?>\n",
       "<!DOCTYPE svg PUBLIC \"-//W3C//DTD SVG 1.1//EN\"\n",
       " \"http://www.w3.org/Graphics/SVG/1.1/DTD/svg11.dtd\">\n",
       "<!-- Generated by graphviz version 2.40.1 (20161225.0304)\n",
       " -->\n",
       "<!-- Title: %3 Pages: 1 -->\n",
       "<svg width=\"226pt\" height=\"178pt\"\n",
       " viewBox=\"0.00 0.00 226.00 178.00\" xmlns=\"http://www.w3.org/2000/svg\" xmlns:xlink=\"http://www.w3.org/1999/xlink\">\n",
       "<g id=\"graph0\" class=\"graph\" transform=\"scale(1 1) rotate(0) translate(4 174)\">\n",
       "<title>%3</title>\n",
       "<polygon fill=\"#ffffff\" stroke=\"transparent\" points=\"-4,4 -4,-174 222,-174 222,4 -4,4\"/>\n",
       "<!-- EMPTY -->\n",
       "<g id=\"node1\" class=\"node\">\n",
       "<title>EMPTY</title>\n",
       "</g>\n",
       "<!-- I -->\n",
       "<g id=\"node3\" class=\"node\">\n",
       "<title>I</title>\n",
       "<ellipse fill=\"none\" stroke=\"#000000\" cx=\"109\" cy=\"-79\" rx=\"18\" ry=\"18\"/>\n",
       "<text text-anchor=\"middle\" x=\"109\" y=\"-75.3\" font-family=\"Times,serif\" font-size=\"14.00\" fill=\"#000000\">I</text>\n",
       "</g>\n",
       "<!-- EMPTY&#45;&gt;I -->\n",
       "<g id=\"edge1\" class=\"edge\">\n",
       "<title>EMPTY&#45;&gt;I</title>\n",
       "<path fill=\"none\" stroke=\"#000000\" d=\"M54.3048,-79C62.6909,-79 71.9407,-79 80.4103,-79\"/>\n",
       "<polygon fill=\"#000000\" stroke=\"#000000\" points=\"80.5976,-82.5001 90.5976,-79 80.5976,-75.5001 80.5976,-82.5001\"/>\n",
       "</g>\n",
       "<!-- A -->\n",
       "<g id=\"node2\" class=\"node\">\n",
       "<title>A</title>\n",
       "<ellipse fill=\"none\" stroke=\"#000000\" cx=\"196\" cy=\"-136\" rx=\"18\" ry=\"18\"/>\n",
       "<text text-anchor=\"middle\" x=\"196\" y=\"-132.3\" font-family=\"Times,serif\" font-size=\"14.00\" fill=\"#000000\">A</text>\n",
       "</g>\n",
       "<!-- A&#45;&gt;I -->\n",
       "<g id=\"edge4\" class=\"edge\">\n",
       "<title>A&#45;&gt;I</title>\n",
       "<path fill=\"none\" stroke=\"#000000\" d=\"M178.6713,-130.321C168.4101,-126.5313 155.4214,-120.9669 145,-114 139.06,-110.029 133.233,-105.0126 128.0557,-100.0275\"/>\n",
       "<polygon fill=\"#000000\" stroke=\"#000000\" points=\"130.5118,-97.5334 120.9977,-92.8715 125.528,-102.4489 130.5118,-97.5334\"/>\n",
       "<text text-anchor=\"middle\" x=\"150.5\" y=\"-123.8\" font-family=\"Times,serif\" font-size=\"14.00\" fill=\"#000000\">0 </text>\n",
       "</g>\n",
       "<!-- A&#45;&gt;I -->\n",
       "<g id=\"edge5\" class=\"edge\">\n",
       "<title>A&#45;&gt;I</title>\n",
       "<path fill=\"none\" stroke=\"#000000\" d=\"M184.7508,-121.3913C177.389,-112.687 167.1011,-102.0053 156,-95 150.1638,-91.3171 143.3811,-88.3729 136.8147,-86.0655\"/>\n",
       "<polygon fill=\"#000000\" stroke=\"#000000\" points=\"137.43,-82.591 126.8413,-82.9493 135.3423,-89.2724 137.43,-82.591\"/>\n",
       "<text text-anchor=\"middle\" x=\"150.5\" y=\"-98.8\" font-family=\"Times,serif\" font-size=\"14.00\" fill=\"#000000\">1 </text>\n",
       "</g>\n",
       "<!-- I&#45;&gt;A -->\n",
       "<g id=\"edge3\" class=\"edge\">\n",
       "<title>I&#45;&gt;A</title>\n",
       "<path fill=\"none\" stroke=\"#000000\" d=\"M112.2116,-96.7342C116.4221,-114.2102 125.68,-139.9861 145,-152 153.3051,-157.1644 163.4157,-155.3649 172.4376,-151.4601\"/>\n",
       "<polygon fill=\"#000000\" stroke=\"#000000\" points=\"174.0712,-154.5556 181.324,-146.8324 170.838,-148.347 174.0712,-154.5556\"/>\n",
       "<text text-anchor=\"middle\" x=\"150.5\" y=\"-158.8\" font-family=\"Times,serif\" font-size=\"14.00\" fill=\"#000000\">0 </text>\n",
       "</g>\n",
       "<!-- F -->\n",
       "<g id=\"node4\" class=\"node\">\n",
       "<title>F</title>\n",
       "<ellipse fill=\"none\" stroke=\"#000000\" cx=\"196\" cy=\"-22\" rx=\"18\" ry=\"18\"/>\n",
       "<ellipse fill=\"none\" stroke=\"#000000\" cx=\"196\" cy=\"-22\" rx=\"22\" ry=\"22\"/>\n",
       "<text text-anchor=\"middle\" x=\"196\" y=\"-18.3\" font-family=\"Times,serif\" font-size=\"14.00\" fill=\"#000000\">F</text>\n",
       "</g>\n",
       "<!-- I&#45;&gt;F -->\n",
       "<g id=\"edge2\" class=\"edge\">\n",
       "<title>I&#45;&gt;F</title>\n",
       "<path fill=\"none\" stroke=\"#000000\" d=\"M124.1542,-69.0714C136.4104,-61.0415 153.9839,-49.5278 168.6825,-39.8977\"/>\n",
       "<polygon fill=\"#000000\" stroke=\"#000000\" points=\"170.9432,-42.6009 177.3897,-34.193 167.107,-36.7456 170.9432,-42.6009\"/>\n",
       "<text text-anchor=\"middle\" x=\"150.5\" y=\"-56.8\" font-family=\"Times,serif\" font-size=\"14.00\" fill=\"#000000\">1 </text>\n",
       "</g>\n",
       "<!-- F&#45;&gt;I -->\n",
       "<g id=\"edge6\" class=\"edge\">\n",
       "<title>F&#45;&gt;I</title>\n",
       "<path fill=\"none\" stroke=\"#000000\" d=\"M173.8853,-21.2549C164.411,-21.8552 153.5772,-23.8401 145,-29 135.376,-34.7897 127.5905,-44.2414 121.7543,-53.3772\"/>\n",
       "<polygon fill=\"#000000\" stroke=\"#000000\" points=\"118.588,-51.8591 116.5721,-62.2603 124.6343,-55.3864 118.588,-51.8591\"/>\n",
       "<text text-anchor=\"middle\" x=\"150.5\" y=\"-32.8\" font-family=\"Times,serif\" font-size=\"14.00\" fill=\"#000000\">0 </text>\n",
       "</g>\n",
       "<!-- F&#45;&gt;I -->\n",
       "<g id=\"edge7\" class=\"edge\">\n",
       "<title>F&#45;&gt;I</title>\n",
       "<path fill=\"none\" stroke=\"#000000\" d=\"M178.0959,-8.7482C167.8779,-2.9143 155.1279,1.3357 145,-5 128.8512,-15.1022 119.7585,-34.7539 114.7524,-51.2679\"/>\n",
       "<polygon fill=\"#000000\" stroke=\"#000000\" points=\"111.3439,-50.4662 112.137,-61.0313 118.1055,-52.2776 111.3439,-50.4662\"/>\n",
       "<text text-anchor=\"middle\" x=\"150.5\" y=\"-8.8\" font-family=\"Times,serif\" font-size=\"14.00\" fill=\"#000000\">1 </text>\n",
       "</g>\n",
       "</g>\n",
       "</svg>\n"
      ],
      "text/plain": [
       "<graphviz.dot.Digraph at 0x112510c18>"
      ]
     },
     "execution_count": 83,
     "metadata": {},
     "output_type": "execute_result"
    }
   ],
   "source": [
    "dotObj_dfa(OddEnds1)"
   ]
  },
  {
   "cell_type": "code",
   "execution_count": 84,
   "metadata": {},
   "outputs": [
    {
     "data": {
      "text/plain": [
       "{'Q': {'A', 'F', 'I'},\n",
       " 'Sigma': {'0', '1'},\n",
       " 'Delta': {('I', '1'): 'F',\n",
       "  ('I', '0'): 'A',\n",
       "  ('A', '0'): 'I',\n",
       "  ('A', '1'): 'I',\n",
       "  ('F', '0'): 'I',\n",
       "  ('F', '1'): 'I'},\n",
       " 'q0': 'I',\n",
       " 'F': {'F'}}"
      ]
     },
     "execution_count": 84,
     "metadata": {},
     "output_type": "execute_result"
    }
   ],
   "source": [
    "OddEnds1"
   ]
  },
  {
   "cell_type": "code",
   "execution_count": 85,
   "metadata": {},
   "outputs": [
    {
     "data": {
      "text/plain": [
       "{'A', 'F', 'I'}"
      ]
     },
     "execution_count": 85,
     "metadata": {},
     "output_type": "execute_result"
    }
   ],
   "source": [
    "OddEnds1[\"Q\"]"
   ]
  },
  {
   "cell_type": "code",
   "execution_count": 86,
   "metadata": {},
   "outputs": [
    {
     "data": {
      "text/plain": [
       "{'0', '1'}"
      ]
     },
     "execution_count": 86,
     "metadata": {},
     "output_type": "execute_result"
    }
   ],
   "source": [
    "OddEnds1[\"Sigma\"]"
   ]
  },
  {
   "cell_type": "code",
   "execution_count": 87,
   "metadata": {},
   "outputs": [
    {
     "data": {
      "text/plain": [
       "'I'"
      ]
     },
     "execution_count": 87,
     "metadata": {},
     "output_type": "execute_result"
    }
   ],
   "source": [
    "OddEnds1[\"q0\"]"
   ]
  },
  {
   "cell_type": "code",
   "execution_count": 88,
   "metadata": {},
   "outputs": [
    {
     "data": {
      "text/plain": [
       "{'F'}"
      ]
     },
     "execution_count": 88,
     "metadata": {},
     "output_type": "execute_result"
    }
   ],
   "source": [
    "OddEnds1[\"F\"]"
   ]
  },
  {
   "cell_type": "code",
   "execution_count": 89,
   "metadata": {},
   "outputs": [
    {
     "data": {
      "text/plain": [
       "{('I', '1'): 'F',\n",
       " ('I', '0'): 'A',\n",
       " ('A', '0'): 'I',\n",
       " ('A', '1'): 'I',\n",
       " ('F', '0'): 'I',\n",
       " ('F', '1'): 'I'}"
      ]
     },
     "execution_count": 89,
     "metadata": {},
     "output_type": "execute_result"
    }
   ],
   "source": [
    "OddEnds1[\"Delta\"]"
   ]
  },
  {
   "cell_type": "code",
   "execution_count": 90,
   "metadata": {},
   "outputs": [
    {
     "data": {
      "text/plain": [
       "'F'"
      ]
     },
     "execution_count": 90,
     "metadata": {},
     "output_type": "execute_result"
    }
   ],
   "source": [
    "OddEnds1[\"Delta\"][('I','1')]"
   ]
  },
  {
   "cell_type": "code",
   "execution_count": 91,
   "metadata": {},
   "outputs": [
    {
     "data": {
      "text/plain": [
       "3"
      ]
     },
     "execution_count": 91,
     "metadata": {},
     "output_type": "execute_result"
    }
   ],
   "source": [
    "len(OddEnds1[\"Q\"])"
   ]
  },
  {
   "cell_type": "code",
   "execution_count": null,
   "metadata": {},
   "outputs": [],
   "source": []
  },
  {
   "cell_type": "code",
   "execution_count": null,
   "metadata": {},
   "outputs": [],
   "source": []
  }
 ],
 "metadata": {
  "kernelspec": {
   "display_name": "Python 3",
   "language": "python",
   "name": "python3"
  },
  "language_info": {
   "codemirror_mode": {
    "name": "ipython",
    "version": 3
   },
   "file_extension": ".py",
   "mimetype": "text/x-python",
   "name": "python",
   "nbconvert_exporter": "python",
   "pygments_lexer": "ipython3",
   "version": "3.7.3"
  },
  "toc": {
   "colors": {
    "hover_highlight": "#DAA520",
    "running_highlight": "#FF0000",
    "selected_highlight": "#FFD700"
   },
   "moveMenuLeft": true,
   "nav_menu": {
    "height": "318px",
    "width": "252px"
   },
   "navigate_menu": true,
   "number_sections": true,
   "sideBar": true,
   "threshold": 4,
   "toc_cell": false,
   "toc_section_display": "block",
   "toc_window_display": false,
   "widenNotebook": false
  }
 },
 "nbformat": 4,
 "nbformat_minor": 1
}
