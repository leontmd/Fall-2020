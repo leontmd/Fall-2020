{
 "cells": [
  {
   "cell_type": "code",
   "execution_count": null,
   "metadata": {
    "run_control": {
     "frozen": false,
     "read_only": false
    }
   },
   "outputs": [],
   "source": [
    "#~~~~~~~~~~~~~~~~~~~~~~~~~~~~~~~~~~~~~~~~~~~~~~~~~~~~~~~\n",
    "import sys\n",
    "\n",
    "# -- Detect if in Own Install or in Colab\n",
    "try:\n",
    "    import google.colab\n",
    "    OWN_INSTALL = False\n",
    "except:\n",
    "    OWN_INSTALL = True\n",
    "    \n",
    "if OWN_INSTALL:\n",
    "    \n",
    "  #---- Leave these definitions ON if running on laptop\n",
    "  #---- Else turn OFF by putting them between ''' ... '''\n",
    "\n",
    "  sys.path[0:0] = ['../../../../..',  '../../../../../3rdparty',  \n",
    "                   '../../../..',  '../../../../3rdparty',  \n",
    "                   '../../..',     '../../../3rdparty', \n",
    "                   '../..',        '../../3rdparty',\n",
    "                   '..',           '../3rdparty' ]\n",
    "\n",
    "else: # In colab\n",
    "  ! if [ ! -d Jove ]; then git clone https://github.com/ganeshutah/Jove Jove; fi\n",
    "  sys.path.append('./Jove')\n",
    "  sys.path.append('./Jove/jove')\n",
    "\n",
    "# -- common imports --\n",
    "from jove.DotBashers import *\n",
    "from jove.Def_md2mc  import *\n",
    "from jove.Def_DFA    import *\n",
    "from jove.LangDef    import *  # for testing DFA actions\n",
    "#~~~~~~~~~~~~~~~~~~~~~~~~~~~~~~~~~~~~~~~~~~~~~~~~~~~~~~~"
   ]
  },
  {
   "cell_type": "code",
   "execution_count": null,
   "metadata": {},
   "outputs": [],
   "source": [
    "# DFA for i%3 == j%3\n",
    "\n",
    "ModMatchDFA = md2mc('''\n",
    "DFA\n",
    "\n",
    "!! Algorithm: remember the number of 0's seen in a mod sense after the first underscore\n",
    "!! And remember the number of 1's seen in a mod sense after the second underscore\n",
    "\n",
    "!! Then make suitable transitions. By this I mean mainly the following. When you start\n",
    "!! seeing the 1's, you can't allow any more 0's.  For that, I record a \"D\" (for \"done\")\n",
    "!! against the number of 0's. It \"seals off\" the 0's seen.\n",
    "\n",
    "!! So here are some example states and their meanings:\n",
    "\n",
    "!! S_1_0  : I have seen one 0, and no 1's. I'm not \"done\" seeing 0's\n",
    "!! S_D1_2 : I've seen one 0. But I've also seen two 1's. I'm done seeing 0's. Hence I have \"D1\"\n",
    "\n",
    "IF_0_0 : 0 -> S_1_0  !! Seen a \"0\", so the number of 0's is 1 and the number of 1's is 0.\n",
    "                     !! Hence the state name is \"1_0\"\n",
    "                     \n",
    "IF_0_0 : 1 -> S_D0_1 !! Saw a \"1\". Hence the number of 0's seen is \"D0\" meaning\n",
    "                     !! I've seen zero 0's, and further the \"0\"s are DONE. No more are entertained.\n",
    "                     !! I also record the number of 1's seen as 1.\n",
    "\n",
    "S_1_0 : 0 -> S_2_0   !! In S_1_0, if I see a 0, I can increment the 0-count and so I get the state S_2_0\n",
    "S_1_0 : 1 -> F_D1_1  !! In S_1_0, if I get a 1, I can say \"I'm done with 0's, and hence I record the\n",
    "                     !! number of 0's as a D1. Then I go on to record the \"1\" seen just now.\n",
    "\n",
    "S_D0_1 : 0 -> BH     !! I am in a \"D0\" state. When I see one more \"0\", I have to go to the BH state\n",
    "                     !! because I'm supposed to be in a \"done with 0's\" state. So another 0 can't be processed.\n",
    "                     \n",
    "S_D0_1 : 1 -> S_D0_2 !! I'm done seeing 0's and I've seen one 1. When I get one more 1, I increment the #1s by one.\n",
    "\n",
    "S_2_0 :  0 -> IF_0_0\n",
    "S_2_0 :  1 -> S_D2_1\n",
    "\n",
    "F_D1_1 : 0 -> BH\n",
    "F_D1_1 : 1 -> S_D1_2\n",
    "\n",
    "S_D0_2 : 0 -> BH\n",
    "S_D0_2 : 1 -> F_D0_0\n",
    "\n",
    "F_D0_0 : 0 -> BH\n",
    "F_D0_0 : 1 -> S_D0_1\n",
    "\n",
    "S_D2_1 : 0 -> BH\n",
    "S_D2_1 : 1 -> F_D2_2\n",
    "\n",
    "F_D2_2 : 0 -> BH\n",
    "F_D2_2 : 1 -> S_D2_0\n",
    "\n",
    "S_D2_0 : 0 -> BH\n",
    "S_D2_0 : 1 -> S_D2_1\n",
    "\n",
    "S_D1_2 : 0 -> BH\n",
    "S_D1_2 : 1 -> S_D1_0\n",
    "\n",
    "S_D1_0 : 0 -> BH\n",
    "S_D1_0 : 1 -> F_D1_1\n",
    "\n",
    "\n",
    "\n",
    "''')\n",
    "dotObj_dfa(ModMatchDFA)"
   ]
  },
  {
   "cell_type": "code",
   "execution_count": null,
   "metadata": {},
   "outputs": [],
   "source": []
  }
 ],
 "metadata": {
  "kernelspec": {
   "display_name": "Python 3",
   "language": "python",
   "name": "python3"
  },
  "language_info": {
   "codemirror_mode": {
    "name": "ipython",
    "version": 3
   },
   "file_extension": ".py",
   "mimetype": "text/x-python",
   "name": "python",
   "nbconvert_exporter": "python",
   "pygments_lexer": "ipython3",
   "version": "3.7.3"
  },
  "toc": {
   "colors": {
    "hover_highlight": "#DAA520",
    "running_highlight": "#FF0000",
    "selected_highlight": "#FFD700"
   },
   "moveMenuLeft": true,
   "nav_menu": {
    "height": "318px",
    "width": "252px"
   },
   "navigate_menu": true,
   "number_sections": true,
   "sideBar": true,
   "threshold": 4,
   "toc_cell": false,
   "toc_section_display": "block",
   "toc_window_display": false,
   "widenNotebook": false
  }
 },
 "nbformat": 4,
 "nbformat_minor": 1
}
